{
 "cells": [
  {
   "cell_type": "markdown",
   "metadata": {},
   "source": [
    "# Desafío Número 1: Equipo 7"
   ]
  },
  {
   "cell_type": "markdown",
   "metadata": {},
   "source": [
    "## Limpieza del dataset de Properati"
   ]
  },
  {
   "cell_type": "code",
   "execution_count": null,
   "metadata": {},
   "outputs": [],
   "source": [
    "#AGREGAR INDICE"
   ]
  },
  {
   "cell_type": "markdown",
   "metadata": {},
   "source": [
    "Estrategia de limpieza: Se dividieron las columnas principales del dataset, y se procedió a realizar la limpieza con prioridad en los datos existentes complementando a través de regex los datos encontrados en las columnas \"Title\" y \"Description\"\n"
   ]
  },
  {
   "cell_type": "markdown",
   "metadata": {},
   "source": [
    "### Limpieza de columna Rooms"
   ]
  },
  {
   "cell_type": "code",
   "execution_count": 2,
   "metadata": {},
   "outputs": [],
   "source": [
    "import pandas as pd\n",
    "import numpy as np\n",
    "import re "
   ]
  },
  {
   "cell_type": "code",
   "execution_count": 3,
   "metadata": {},
   "outputs": [
    {
     "name": "stdout",
     "output_type": "stream",
     "text": [
      "Unnamed: 0                      int64\n",
      "operation                      object\n",
      "property_type                  object\n",
      "place_name                     object\n",
      "place_with_parent_names        object\n",
      "country_name                   object\n",
      "state_name                     object\n",
      "geonames_id                   float64\n",
      "lat-lon                        object\n",
      "lat                           float64\n",
      "lon                           float64\n",
      "price                         float64\n",
      "currency                       object\n",
      "price_aprox_local_currency    float64\n",
      "price_aprox_usd               float64\n",
      "surface_total_in_m2           float64\n",
      "surface_covered_in_m2         float64\n",
      "price_usd_per_m2              float64\n",
      "price_per_m2                  float64\n",
      "floor                         float64\n",
      "rooms                         float64\n",
      "expenses                      float64\n",
      "properati_url                  object\n",
      "description                    object\n",
      "title                          object\n",
      "image_thumbnail                object\n",
      "dtype: object\n"
     ]
    },
    {
     "data": {
      "text/html": [
       "<div>\n",
       "<style scoped>\n",
       "    .dataframe tbody tr th:only-of-type {\n",
       "        vertical-align: middle;\n",
       "    }\n",
       "\n",
       "    .dataframe tbody tr th {\n",
       "        vertical-align: top;\n",
       "    }\n",
       "\n",
       "    .dataframe thead th {\n",
       "        text-align: right;\n",
       "    }\n",
       "</style>\n",
       "<table border=\"1\" class=\"dataframe\">\n",
       "  <thead>\n",
       "    <tr style=\"text-align: right;\">\n",
       "      <th></th>\n",
       "      <th>Unnamed: 0</th>\n",
       "      <th>operation</th>\n",
       "      <th>property_type</th>\n",
       "      <th>place_name</th>\n",
       "      <th>place_with_parent_names</th>\n",
       "      <th>country_name</th>\n",
       "      <th>state_name</th>\n",
       "      <th>geonames_id</th>\n",
       "      <th>lat-lon</th>\n",
       "      <th>lat</th>\n",
       "      <th>...</th>\n",
       "      <th>surface_covered_in_m2</th>\n",
       "      <th>price_usd_per_m2</th>\n",
       "      <th>price_per_m2</th>\n",
       "      <th>floor</th>\n",
       "      <th>rooms</th>\n",
       "      <th>expenses</th>\n",
       "      <th>properati_url</th>\n",
       "      <th>description</th>\n",
       "      <th>title</th>\n",
       "      <th>image_thumbnail</th>\n",
       "    </tr>\n",
       "  </thead>\n",
       "  <tbody>\n",
       "    <tr>\n",
       "      <th>0</th>\n",
       "      <td>0</td>\n",
       "      <td>sell</td>\n",
       "      <td>PH</td>\n",
       "      <td>Mataderos</td>\n",
       "      <td>|Argentina|Capital Federal|Mataderos|</td>\n",
       "      <td>Argentina</td>\n",
       "      <td>Capital Federal</td>\n",
       "      <td>3430787.0</td>\n",
       "      <td>-34.6618237,-58.5088387</td>\n",
       "      <td>-34.661824</td>\n",
       "      <td>...</td>\n",
       "      <td>40.0</td>\n",
       "      <td>1127.272727</td>\n",
       "      <td>1550.000000</td>\n",
       "      <td>NaN</td>\n",
       "      <td>NaN</td>\n",
       "      <td>NaN</td>\n",
       "      <td>http://www.properati.com.ar/15bo8_venta_ph_mat...</td>\n",
       "      <td>2 AMBIENTES TIPO CASA PLANTA BAJA POR PASILLO,...</td>\n",
       "      <td>2 AMB TIPO CASA SIN EXPENSAS EN PB</td>\n",
       "      <td>https://thumbs4.properati.com/8/BluUYiHJLhgIIK...</td>\n",
       "    </tr>\n",
       "    <tr>\n",
       "      <th>1</th>\n",
       "      <td>1</td>\n",
       "      <td>sell</td>\n",
       "      <td>apartment</td>\n",
       "      <td>La Plata</td>\n",
       "      <td>|Argentina|Bs.As. G.B.A. Zona Sur|La Plata|</td>\n",
       "      <td>Argentina</td>\n",
       "      <td>Bs.As. G.B.A. Zona Sur</td>\n",
       "      <td>3432039.0</td>\n",
       "      <td>-34.9038831,-57.9643295</td>\n",
       "      <td>-34.903883</td>\n",
       "      <td>...</td>\n",
       "      <td>NaN</td>\n",
       "      <td>NaN</td>\n",
       "      <td>NaN</td>\n",
       "      <td>NaN</td>\n",
       "      <td>NaN</td>\n",
       "      <td>NaN</td>\n",
       "      <td>http://www.properati.com.ar/15bob_venta_depart...</td>\n",
       "      <td>Venta de departamento en décimo piso al frente...</td>\n",
       "      <td>VENTA Depto 2 dorm. a estrenar 7 e/ 36 y 37   ...</td>\n",
       "      <td>https://thumbs4.properati.com/7/ikpVBu2ztHA7jv...</td>\n",
       "    </tr>\n",
       "    <tr>\n",
       "      <th>2</th>\n",
       "      <td>2</td>\n",
       "      <td>sell</td>\n",
       "      <td>apartment</td>\n",
       "      <td>Mataderos</td>\n",
       "      <td>|Argentina|Capital Federal|Mataderos|</td>\n",
       "      <td>Argentina</td>\n",
       "      <td>Capital Federal</td>\n",
       "      <td>3430787.0</td>\n",
       "      <td>-34.6522615,-58.5229825</td>\n",
       "      <td>-34.652262</td>\n",
       "      <td>...</td>\n",
       "      <td>55.0</td>\n",
       "      <td>1309.090909</td>\n",
       "      <td>1309.090909</td>\n",
       "      <td>NaN</td>\n",
       "      <td>NaN</td>\n",
       "      <td>NaN</td>\n",
       "      <td>http://www.properati.com.ar/15bod_venta_depart...</td>\n",
       "      <td>2 AMBIENTES 3ER PISO LATERAL LIVING COMEDOR AM...</td>\n",
       "      <td>2 AMB 3ER PISO CON ASCENSOR APTO CREDITO</td>\n",
       "      <td>https://thumbs4.properati.com/5/SXKr34F_IwG3W_...</td>\n",
       "    </tr>\n",
       "  </tbody>\n",
       "</table>\n",
       "<p>3 rows × 26 columns</p>\n",
       "</div>"
      ],
      "text/plain": [
       "   Unnamed: 0 operation property_type place_name  \\\n",
       "0           0      sell            PH  Mataderos   \n",
       "1           1      sell     apartment   La Plata   \n",
       "2           2      sell     apartment  Mataderos   \n",
       "\n",
       "                       place_with_parent_names country_name  \\\n",
       "0        |Argentina|Capital Federal|Mataderos|    Argentina   \n",
       "1  |Argentina|Bs.As. G.B.A. Zona Sur|La Plata|    Argentina   \n",
       "2        |Argentina|Capital Federal|Mataderos|    Argentina   \n",
       "\n",
       "               state_name  geonames_id                  lat-lon        lat  \\\n",
       "0         Capital Federal    3430787.0  -34.6618237,-58.5088387 -34.661824   \n",
       "1  Bs.As. G.B.A. Zona Sur    3432039.0  -34.9038831,-57.9643295 -34.903883   \n",
       "2         Capital Federal    3430787.0  -34.6522615,-58.5229825 -34.652262   \n",
       "\n",
       "   ...  surface_covered_in_m2  price_usd_per_m2 price_per_m2  floor  rooms  \\\n",
       "0  ...                   40.0       1127.272727  1550.000000    NaN    NaN   \n",
       "1  ...                    NaN               NaN          NaN    NaN    NaN   \n",
       "2  ...                   55.0       1309.090909  1309.090909    NaN    NaN   \n",
       "\n",
       "   expenses                                      properati_url  \\\n",
       "0       NaN  http://www.properati.com.ar/15bo8_venta_ph_mat...   \n",
       "1       NaN  http://www.properati.com.ar/15bob_venta_depart...   \n",
       "2       NaN  http://www.properati.com.ar/15bod_venta_depart...   \n",
       "\n",
       "                                         description  \\\n",
       "0  2 AMBIENTES TIPO CASA PLANTA BAJA POR PASILLO,...   \n",
       "1  Venta de departamento en décimo piso al frente...   \n",
       "2  2 AMBIENTES 3ER PISO LATERAL LIVING COMEDOR AM...   \n",
       "\n",
       "                                               title  \\\n",
       "0                 2 AMB TIPO CASA SIN EXPENSAS EN PB   \n",
       "1  VENTA Depto 2 dorm. a estrenar 7 e/ 36 y 37   ...   \n",
       "2           2 AMB 3ER PISO CON ASCENSOR APTO CREDITO   \n",
       "\n",
       "                                     image_thumbnail  \n",
       "0  https://thumbs4.properati.com/8/BluUYiHJLhgIIK...  \n",
       "1  https://thumbs4.properati.com/7/ikpVBu2ztHA7jv...  \n",
       "2  https://thumbs4.properati.com/5/SXKr34F_IwG3W_...  \n",
       "\n",
       "[3 rows x 26 columns]"
      ]
     },
     "execution_count": 3,
     "metadata": {},
     "output_type": "execute_result"
    }
   ],
   "source": [
    "data_location = \"properati.csv\"\n",
    "data = pd.read_csv(data_location, sep=\",\")\n",
    "print(data.dtypes)\n",
    "data.head(3)"
   ]
  },
  {
   "cell_type": "code",
   "execution_count": 4,
   "metadata": {},
   "outputs": [
    {
     "data": {
      "text/plain": [
       "0         2 ambientes tipo casa planta baja por pasillo,...\n",
       "1         venta de departamento en décimo piso al frente...\n",
       "2         2 ambientes 3er piso lateral living comedor am...\n",
       "3         ph 3 ambientes con patio. hay 3 deptos en lote...\n",
       "4         departamento con fantástica iluminación natura...\n",
       "                                ...                        \n",
       "121215    torre forum alcorta - máxima categoría.impecab...\n",
       "121216    excelente e impecable casa en venta en las lom...\n",
       "121217    venta departamento ambiente divisible a estren...\n",
       "121218    2 amb al contrafrente,  luminoso. el departame...\n",
       "121219    departamento de 77 m2 apto profesional. edific...\n",
       "Name: description, Length: 121220, dtype: object"
      ]
     },
     "metadata": {},
     "output_type": "display_data"
    },
    {
     "data": {
      "text/plain": [
       "0                        2 amb tipo casa sin expensas en pb\n",
       "1         venta depto 2 dorm. a estrenar 7 e/ 36 y 37   ...\n",
       "2                  2 amb 3er piso con ascensor apto credito\n",
       "3                              ph 3 amb. cfte. reciclado   \n",
       "4         depto 2 amb al contrafrente zona centro/plaza ...\n",
       "                                ...                        \n",
       "121215           torre forum alcorta- impecable 3 ambientes\n",
       "121216    ruca inmuebles | venta | lomas de san isidro |...\n",
       "121217    venta departamento ambiente divisible a estren...\n",
       "121218    2 amb. c/ dep. de servicio al contrafrente| re...\n",
       "121219           departamento apto profesional en el centro\n",
       "Name: title, Length: 121220, dtype: object"
      ]
     },
     "metadata": {},
     "output_type": "display_data"
    }
   ],
   "source": [
    "data[\"rooms_completo\"] =data[\"rooms\"]\n",
    "data_room_null_description = data.description.astype(str).str.lower()\n",
    "data_room_null_title = data.title.astype(str).str.lower()\n",
    "display(data_room_null_description)\n",
    "display(data_room_null_title)"
   ]
  },
  {
   "cell_type": "code",
   "execution_count": 5,
   "metadata": {},
   "outputs": [
    {
     "name": "stdout",
     "output_type": "stream",
     "text": [
      "Primer grupo de filas sin rooms\n"
     ]
    },
    {
     "data": {
      "text/plain": [
       "True     73830\n",
       "False    47390\n",
       "Name: rooms_completo, dtype: int64"
      ]
     },
     "execution_count": 5,
     "metadata": {},
     "output_type": "execute_result"
    }
   ],
   "source": [
    "print(\"Primer grupo de filas sin rooms\")\n",
    "data[\"rooms_completo\"].isnull().value_counts()"
   ]
  },
  {
   "cell_type": "markdown",
   "metadata": {},
   "source": [
    "Seteamos los que son monoambientes\n",
    "Primero buscamos las palabras que identifiquen al monoambiente. \n",
    "Luego buscamos las coincidencias dentro del universo de coincidencias del campo descripción\n",
    "donde hubo coincidencias, le asignamos 1. "
   ]
  },
  {
   "cell_type": "code",
   "execution_count": 6,
   "metadata": {},
   "outputs": [],
   "source": [
    "def fun_buscar_patt(data_validar,patt_room):\n",
    "    patt_regex = re.compile(patt_room)\n",
    "    data_match = data_validar.apply(lambda x:  x if x is np.NaN else patt_regex.search(x))\n",
    "    return data_match"
   ]
  },
  {
   "cell_type": "code",
   "execution_count": 7,
   "metadata": {},
   "outputs": [],
   "source": [
    "def fun_buscar_disminuir(data_room_null_description, patt,restar):\n",
    "    ###se pasa la palabra y se asigna###\n",
    "    data_encontrada= fun_buscar_patt(data_room_null_description,patt)\n",
    "    encontradas = data_encontrada[data_encontrada.notnull()].apply(lambda x: x.group(1))\n",
    "    room_null_mask = data[\"rooms_completo\"].isnull()\n",
    "    data.loc[room_null_mask,\"rooms_completo\"]= encontradas[room_null_mask].apply(lambda x: x if x is np.NaN else (float(x)-restar)).astype(int)\n",
    "    print(\"Disminución en función a los ambientes tipo:\",patt)\n",
    "    result = data[\"rooms_completo\"].isnull().value_counts()\n",
    "    return result"
   ]
  },
  {
   "cell_type": "code",
   "execution_count": 8,
   "metadata": {},
   "outputs": [],
   "source": [
    "def fun_buscar_disminuir_mapper(data_room_null_description, patt,restar):\n",
    "    ###se pasa la palabra y se asigna y se mapea el texto###\n",
    "    data_encontrada= fun_buscar_patt(data_room_null_description,patt)\n",
    "    encontradas = data_encontrada[data_encontrada.notnull()].apply(lambda x: x.group(1))\n",
    "    room_null_mask = data[\"rooms_completo\"].isnull()\n",
    "    numcol_cat_mapper = {\n",
    "       'un': 1,'uun':1, 'uno': 1,'dos': 2,'tres': 3,'cuatro':4,\n",
    "        'cinco':5,'sinco':5,'seis':6,'ceis':6,'siete':7,\n",
    "        'ciete':7,'ocho':8,'nueve':9,'diez':10,'once':11,\n",
    "        'doce':12,'trece':13,'catorce':14,'quince':15,\n",
    "        'dieciseis':16,'diecisiete':17,'dieciocho':18,'diecinueve':19,\n",
    "        'veinte':20\n",
    "    }\n",
    "    encontradas1 = encontradas.map(numcol_cat_mapper)\n",
    "    data.loc[room_null_mask,\"rooms_completo\"]= encontradas1[room_null_mask].apply(lambda x: x if x is np.NaN else (float(x)-restar))\n",
    "    print(\"Disminución en función a los ambientes :\",patt)\n",
    "    result = data[\"rooms_completo\"].isnull().value_counts()\n",
    "    return result"
   ]
  },
  {
   "cell_type": "code",
   "execution_count": 9,
   "metadata": {},
   "outputs": [],
   "source": [
    "#validar que luego elija siempre la última que encuentre"
   ]
  },
  {
   "cell_type": "code",
   "execution_count": 10,
   "metadata": {},
   "outputs": [],
   "source": [
    "def fun_buscar_disminuir_mapper_2(data_room_null_description, patt,restar):\n",
    "    ###se pasa la palabra y se asigna y se mapea el texto###\n",
    "    data_encontrada= fun_buscar_patt(data_room_null_description,patt)\n",
    "    encontradas = data_encontrada[data_encontrada.notnull()].apply(lambda x: x.group(1))\n",
    "    room_null_mask = data[\"rooms_completo\"].isnull()\n",
    "    numcol_cat_mapper = {\n",
    "                'segundo': 2,'tercer':3, 'cuarto': 4,'quinto': 5,'sexto': 6\n",
    "    }\n",
    "    encontradas1 = encontradas.map(numcol_cat_mapper)\n",
    "    data.loc[room_null_mask,\"rooms_completo\"]= encontradas1[room_null_mask].apply(lambda x: x if x is np.NaN else (float(x)-restar))\n",
    "    print(\"Disminución en función a los ambientes :\",patt)\n",
    "    result = data[\"rooms_completo\"].isnull().value_counts()\n",
    "    return result"
   ]
  },
  {
   "cell_type": "code",
   "execution_count": 11,
   "metadata": {},
   "outputs": [],
   "source": [
    "def disminuciones_repeticion(serie,patt):\n",
    "    print(data[\"rooms_completo\"].isnull().value_counts())\n",
    "    data_encontrada = serie.apply(lambda x: x if x is np.NaN else x.count(patt))\n",
    "    maskarita= data_encontrada>0|data[\"rooms_completo\"].isnull()\n",
    "    data.loc[maskarita,\"rooms_completo\"] = data_encontrada[maskarita]\n",
    "    result = data[\"rooms_completo\"].isnull().value_counts()\n",
    "    return result"
   ]
  },
  {
   "cell_type": "code",
   "execution_count": 12,
   "metadata": {},
   "outputs": [
    {
     "name": "stdout",
     "output_type": "stream",
     "text": [
      "Primera disminución Monoambientes\n"
     ]
    },
    {
     "data": {
      "text/plain": [
       "True     69080\n",
       "False    52140\n",
       "Name: rooms_completo, dtype: int64"
      ]
     },
     "metadata": {},
     "output_type": "display_data"
    }
   ],
   "source": [
    "data_room_match = fun_buscar_patt(data_room_null_description,r\"(mono ambiente|monoambiente|mono-ambiente|Monoamb)\")\n",
    "data_room_match_mask = data_room_match.notnull()\n",
    "data_room_match[data_room_match_mask]=0\n",
    "data_room_mask = data[\"rooms_completo\"].isnull()\n",
    "\n",
    "data.loc[data_room_match_mask,\"rooms_completo\"] = data_room_match[data_room_match_mask].apply(lambda x: x if x is np.NaN else x)\n",
    "print(\"Primera disminución Monoambientes\")\n",
    "display(data[\"rooms_completo\"].isnull().value_counts())"
   ]
  },
  {
   "cell_type": "code",
   "execution_count": 13,
   "metadata": {},
   "outputs": [
    {
     "name": "stdout",
     "output_type": "stream",
     "text": [
      "Primera disminución Monoambientes\n"
     ]
    },
    {
     "data": {
      "text/plain": [
       "True     68675\n",
       "False    52545\n",
       "Name: rooms_completo, dtype: int64"
      ]
     },
     "metadata": {},
     "output_type": "display_data"
    }
   ],
   "source": [
    "data_room_match = fun_buscar_patt(data_room_null_title,r\"(mono ambiente|monoambiente|mono-ambiente|monoamb)\")\n",
    "data_room_match_mask = data_room_match.notnull()\n",
    "data_room_match[data_room_match_mask]=0\n",
    "data_room_mask = data[\"rooms_completo\"].isnull()\n",
    "\n",
    "data.loc[data_room_match_mask,\"rooms_completo\"] = data_room_match[data_room_match_mask].apply(lambda x: x if x is np.NaN else x)\n",
    "print(\"Primera disminución Monoambientes\")\n",
    "display(data[\"rooms_completo\"].isnull().value_counts())"
   ]
  },
  {
   "cell_type": "code",
   "execution_count": 14,
   "metadata": {},
   "outputs": [
    {
     "name": "stdout",
     "output_type": "stream",
     "text": [
      "Disminución en función a los ambientes tipo: [\\s](\\d\\d)[\\s]?habitaci\n",
      "True     68631\n",
      "False    52589\n",
      "Name: rooms_completo, dtype: int64\n"
     ]
    }
   ],
   "source": [
    "resultado = fun_buscar_disminuir(data_room_null_description,r\"[\\s](\\d\\d)[\\s]?habitaci\",0)\n",
    "print(resultado)"
   ]
  },
  {
   "cell_type": "code",
   "execution_count": 15,
   "metadata": {},
   "outputs": [
    {
     "name": "stdout",
     "output_type": "stream",
     "text": [
      "Disminución en función a los ambientes : (\\w+)[\\s]?(dormitorio|domitorio)\n",
      "False    64513\n",
      "True     56707\n",
      "Name: rooms_completo, dtype: int64\n"
     ]
    }
   ],
   "source": [
    "resultado = fun_buscar_disminuir_mapper(data_room_null_description,r\"(\\w+)[\\s]?(dormitorio|domitorio)\",0)\n",
    "print(resultado)"
   ]
  },
  {
   "cell_type": "code",
   "execution_count": 16,
   "metadata": {},
   "outputs": [
    {
     "name": "stdout",
     "output_type": "stream",
     "text": [
      "Disminución en función a los ambientes : (\\w+)[\\s]?(dormitorio|domitorio)\n",
      "False    65214\n",
      "True     56006\n",
      "Name: rooms_completo, dtype: int64\n"
     ]
    }
   ],
   "source": [
    "resultado = fun_buscar_disminuir_mapper_2(data_room_null_description,r\"(\\w+)[\\s]?(dormitorio|domitorio)\",0)\n",
    "print(resultado)"
   ]
  },
  {
   "cell_type": "code",
   "execution_count": 17,
   "metadata": {},
   "outputs": [
    {
     "name": "stdout",
     "output_type": "stream",
     "text": [
      "Disminución en función a los ambientes : (\\w+)[\\s]?(ambiente)\n",
      "False    67069\n",
      "True     54151\n",
      "Name: rooms_completo, dtype: int64\n"
     ]
    }
   ],
   "source": [
    "resultado = fun_buscar_disminuir_mapper(data_room_null_description,r\"(\\w+)[\\s]?(ambiente)\",1)\n",
    "print(resultado)"
   ]
  },
  {
   "cell_type": "code",
   "execution_count": 18,
   "metadata": {},
   "outputs": [
    {
     "name": "stdout",
     "output_type": "stream",
     "text": [
      "Disminución en función a los ambientes tipo: [\\s](\\d)[\\s]?(amb)\n",
      "False    82384\n",
      "True     38836\n",
      "Name: rooms_completo, dtype: int64\n"
     ]
    }
   ],
   "source": [
    "resultado = fun_buscar_disminuir(data_room_null_description,r\"[\\s](\\d)[\\s]?(amb)\",1)\n",
    "print(resultado)"
   ]
  },
  {
   "cell_type": "code",
   "execution_count": 19,
   "metadata": {},
   "outputs": [
    {
     "name": "stdout",
     "output_type": "stream",
     "text": [
      "Disminución en función a los ambientes tipo: \\D(\\d)[\\s]?(dorm)\n",
      "False    100893\n",
      "True      20327\n",
      "Name: rooms_completo, dtype: int64\n"
     ]
    }
   ],
   "source": [
    "resultado = fun_buscar_disminuir(data_room_null_description,r\"\\D(\\d)[\\s]?(dorm)\",0)\n",
    "print(resultado)"
   ]
  },
  {
   "cell_type": "code",
   "execution_count": 20,
   "metadata": {},
   "outputs": [
    {
     "name": "stdout",
     "output_type": "stream",
     "text": [
      "Disminución en función a los ambientes tipo: \\D(\\d?\\d)[\\s]?(dorm)\n",
      "False    101365\n",
      "True      19855\n",
      "Name: rooms_completo, dtype: int64\n"
     ]
    }
   ],
   "source": [
    "resultado = fun_buscar_disminuir(data_room_null_title,r\"\\D(\\d?\\d)[\\s]?(dorm)\",0)\n",
    "print(resultado)"
   ]
  },
  {
   "cell_type": "code",
   "execution_count": 21,
   "metadata": {},
   "outputs": [
    {
     "name": "stdout",
     "output_type": "stream",
     "text": [
      "Disminución en función a los ambientes tipo: (\\d)[\\s]?(suite)\n",
      "False    101515\n",
      "True      19705\n",
      "Name: rooms_completo, dtype: int64\n"
     ]
    }
   ],
   "source": [
    "resultado = fun_buscar_disminuir(data_room_null_description,r\"(\\d)[\\s]?(suite)\",0)\n",
    "print(resultado)"
   ]
  },
  {
   "cell_type": "markdown",
   "metadata": {},
   "source": [
    "Buscamos ahora las restantes en el título"
   ]
  },
  {
   "cell_type": "code",
   "execution_count": 22,
   "metadata": {},
   "outputs": [
    {
     "name": "stdout",
     "output_type": "stream",
     "text": [
      "Disminución en función a los ambientes tipo: ([\\s]\\d?\\d)[\\s]?amb\n",
      "False    102495\n",
      "True      18725\n",
      "Name: rooms_completo, dtype: int64\n"
     ]
    }
   ],
   "source": [
    "resultado = fun_buscar_disminuir(data_room_null_title,r\"([\\s]\\d?\\d)[\\s]?amb\",1)\n",
    "print(resultado)"
   ]
  },
  {
   "cell_type": "code",
   "execution_count": 23,
   "metadata": {},
   "outputs": [
    {
     "name": "stdout",
     "output_type": "stream",
     "text": [
      "Disminución en función a los ambientes : (\\w+)[\\s]?(amb)\n",
      "False    102663\n",
      "True      18557\n",
      "Name: rooms_completo, dtype: int64\n"
     ]
    }
   ],
   "source": [
    "resultado = fun_buscar_disminuir_mapper(data_room_null_title,r\"(\\w+)[\\s]?(amb)\",1)\n",
    "print(resultado)"
   ]
  },
  {
   "cell_type": "code",
   "execution_count": 24,
   "metadata": {},
   "outputs": [
    {
     "name": "stdout",
     "output_type": "stream",
     "text": [
      "False    102663\n",
      "True      18557\n",
      "Name: rooms_completo, dtype: int64\n"
     ]
    },
    {
     "data": {
      "text/plain": [
       "False    104570\n",
       "True      16650\n",
       "Name: rooms_completo, dtype: int64"
      ]
     },
     "execution_count": 24,
     "metadata": {},
     "output_type": "execute_result"
    }
   ],
   "source": [
    "disminuciones_repeticion(data_room_null_description,\"dormitorio\")"
   ]
  },
  {
   "cell_type": "code",
   "execution_count": 25,
   "metadata": {},
   "outputs": [
    {
     "name": "stdout",
     "output_type": "stream",
     "text": [
      "False    104570\n",
      "True      16650\n",
      "Name: rooms_completo, dtype: int64\n"
     ]
    },
    {
     "data": {
      "text/plain": [
       "False    104948\n",
       "True      16272\n",
       "Name: rooms_completo, dtype: int64"
      ]
     },
     "execution_count": 25,
     "metadata": {},
     "output_type": "execute_result"
    }
   ],
   "source": [
    "disminuciones_repeticion(data_room_null_description,\"habitacion\")\n"
   ]
  },
  {
   "cell_type": "code",
   "execution_count": 26,
   "metadata": {},
   "outputs": [
    {
     "name": "stdout",
     "output_type": "stream",
     "text": [
      "False    104948\n",
      "True      16272\n",
      "Name: rooms_completo, dtype: int64\n"
     ]
    },
    {
     "data": {
      "text/plain": [
       "False    105281\n",
       "True      15939\n",
       "Name: rooms_completo, dtype: int64"
      ]
     },
     "execution_count": 26,
     "metadata": {},
     "output_type": "execute_result"
    }
   ],
   "source": [
    "disminuciones_repeticion(data_room_null_description,\"suite\")"
   ]
  },
  {
   "cell_type": "markdown",
   "metadata": {},
   "source": [
    "## `SETEANDO RESTO DE ROOMS EN NULL`\n",
    "ALGUNOS AJUSTES POSTERIORES ESPECÍFICOS PORQUE LA REGEX LOS TOMÓ Y NO APLICABA"
   ]
  },
  {
   "cell_type": "markdown",
   "metadata": {},
   "source": [
    "\n",
    "AQUÍ SETEO EL RESTO QUE SE ENCUENTRA EN NULL"
   ]
  },
  {
   "cell_type": "code",
   "execution_count": 27,
   "metadata": {},
   "outputs": [
    {
     "data": {
      "text/plain": [
       "23884   NaN\n",
       "Name: rooms_completo, dtype: float64"
      ]
     },
     "execution_count": 27,
     "metadata": {},
     "output_type": "execute_result"
    }
   ],
   "source": [
    "def fun_back(idreg):\n",
    "    data.loc[idreg:idreg,\"rooms_completo\"]=data.loc[idreg:idreg,\"rooms\"]\n",
    "    return data.loc[idreg:idreg,\"rooms_completo\"]\n",
    "fun_back(53793)\n",
    "fun_back(23884)"
   ]
  },
  {
   "cell_type": "code",
   "execution_count": 28,
   "metadata": {},
   "outputs": [
    {
     "name": "stdout",
     "output_type": "stream",
     "text": [
      "False    121220\n",
      "Name: rooms_completo, dtype: int64\n"
     ]
    }
   ],
   "source": [
    "data[\"rooms_completo\"].fillna(0,inplace = True) \n",
    "print(data[\"rooms_completo\"].isnull().value_counts())"
   ]
  },
  {
   "cell_type": "markdown",
   "metadata": {},
   "source": [
    "## `AGREGANDO CAMPOS NUEVOS`\n",
    "Se crean nuevos campos para definir características que pueden revalorizar la propiedad\n",
    "____"
   ]
  },
  {
   "cell_type": "code",
   "execution_count": 29,
   "metadata": {},
   "outputs": [
    {
     "data": {
      "text/plain": [
       "False    104706\n",
       "True      16514\n",
       "Name: PILETA, dtype: int64"
      ]
     },
     "execution_count": 29,
     "metadata": {},
     "output_type": "execute_result"
    }
   ],
   "source": [
    "data_encontrada1= fun_buscar_patt(data_room_null_description,\"(\\w+)[\\s]?(\\w+)[\\s]?(pileta|piscina|pisina|picina)\")\n",
    "encontradas_pileta = data_encontrada1[data_encontrada1.notnull()].apply(lambda x: x.group(0))\n",
    "data[\"PILETA\"] = encontradas_pileta.apply(lambda x: False if x.count(\"sin\")>0 else True)\n",
    "data[\"PILETA\"].fillna(value=False, inplace=True)\n",
    "data[\"PILETA\"].value_counts()"
   ]
  },
  {
   "cell_type": "code",
   "execution_count": 30,
   "metadata": {},
   "outputs": [
    {
     "data": {
      "text/plain": [
       "False    93220\n",
       "True     28000\n",
       "Name: PARRILLA, dtype: int64"
      ]
     },
     "execution_count": 30,
     "metadata": {},
     "output_type": "execute_result"
    }
   ],
   "source": [
    "data_encontrada_parrilla= fun_buscar_patt(data_room_null_description,\"(\\w+)[\\s]?(\\w+)[\\s]?(parrilla|asado|grill|churrasquera)\")\n",
    "encontradas_parrilla = data_encontrada_parrilla[data_encontrada_parrilla.notnull()].apply(lambda x: x.group(0))\n",
    "data[\"PARRILLA\"] = encontradas_parrilla.apply(lambda x: False if x.count(\"sin\")>0 else True)\n",
    "data[\"PARRILLA\"].fillna(value=False, inplace=True)\n",
    "# data[\"PARRILLA\"]= data_encontrada_parrilla.notnull()\n",
    "data[\"PARRILLA\"].value_counts()"
   ]
  },
  {
   "cell_type": "code",
   "execution_count": 31,
   "metadata": {},
   "outputs": [
    {
     "data": {
      "text/plain": [
       "False    104289\n",
       "True      16931\n",
       "Name: PATIO_JARDIN, dtype: int64"
      ]
     },
     "execution_count": 31,
     "metadata": {},
     "output_type": "execute_result"
    }
   ],
   "source": [
    "data_encontrada_patio= fun_buscar_patt(data_room_null_description,\"(\\w+)[\\s]?(\\w+)[\\s]?(patio|jardin)\")\n",
    "encontradas_patio = data_encontrada_patio[data_encontrada_patio.notnull()].apply(lambda x: x.group(0))\n",
    "data[\"PATIO_JARDIN\"] = encontradas_patio.apply(lambda x: False if x.count(\"sin\")>0 else True)\n",
    "data[\"PATIO_JARDIN\"].fillna(value=False, inplace=True)\n",
    "data[\"PATIO_JARDIN\"].value_counts()"
   ]
  },
  {
   "cell_type": "markdown",
   "metadata": {},
   "source": [
    "ESTO ES PARA REALIZAR VALIDACIÓN DE DATOS\n",
    "\n",
    "\n",
    "______\n"
   ]
  },
  {
   "cell_type": "code",
   "execution_count": 32,
   "metadata": {},
   "outputs": [],
   "source": [
    "bins= [1,2,3,4,5,6,7,8,9,10,15,20,25,30,40]\n",
    "room= pd.cut(data.rooms_completo, bins,right=False)"
   ]
  },
  {
   "cell_type": "code",
   "execution_count": 33,
   "metadata": {},
   "outputs": [
    {
     "data": {
      "text/html": [
       "<div>\n",
       "<style scoped>\n",
       "    .dataframe tbody tr th:only-of-type {\n",
       "        vertical-align: middle;\n",
       "    }\n",
       "\n",
       "    .dataframe tbody tr th {\n",
       "        vertical-align: top;\n",
       "    }\n",
       "\n",
       "    .dataframe thead th {\n",
       "        text-align: right;\n",
       "    }\n",
       "</style>\n",
       "<table border=\"1\" class=\"dataframe\">\n",
       "  <thead>\n",
       "    <tr style=\"text-align: right;\">\n",
       "      <th>property_type</th>\n",
       "      <th>PH</th>\n",
       "      <th>apartment</th>\n",
       "      <th>house</th>\n",
       "      <th>store</th>\n",
       "    </tr>\n",
       "    <tr>\n",
       "      <th>rooms_completo</th>\n",
       "      <th></th>\n",
       "      <th></th>\n",
       "      <th></th>\n",
       "      <th></th>\n",
       "    </tr>\n",
       "  </thead>\n",
       "  <tbody>\n",
       "    <tr>\n",
       "      <th>[1, 2)</th>\n",
       "      <td>3136.0</td>\n",
       "      <td>36930.0</td>\n",
       "      <td>23846.0</td>\n",
       "      <td>362.0</td>\n",
       "    </tr>\n",
       "    <tr>\n",
       "      <th>[2, 3)</th>\n",
       "      <td>1394.0</td>\n",
       "      <td>12378.0</td>\n",
       "      <td>7558.0</td>\n",
       "      <td>145.0</td>\n",
       "    </tr>\n",
       "    <tr>\n",
       "      <th>[3, 4)</th>\n",
       "      <td>545.0</td>\n",
       "      <td>4631.0</td>\n",
       "      <td>2979.0</td>\n",
       "      <td>79.0</td>\n",
       "    </tr>\n",
       "    <tr>\n",
       "      <th>[4, 5)</th>\n",
       "      <td>161.0</td>\n",
       "      <td>1170.0</td>\n",
       "      <td>1047.0</td>\n",
       "      <td>14.0</td>\n",
       "    </tr>\n",
       "    <tr>\n",
       "      <th>[5, 6)</th>\n",
       "      <td>46.0</td>\n",
       "      <td>323.0</td>\n",
       "      <td>409.0</td>\n",
       "      <td>12.0</td>\n",
       "    </tr>\n",
       "    <tr>\n",
       "      <th>[6, 7)</th>\n",
       "      <td>22.0</td>\n",
       "      <td>136.0</td>\n",
       "      <td>152.0</td>\n",
       "      <td>6.0</td>\n",
       "    </tr>\n",
       "    <tr>\n",
       "      <th>[7, 8)</th>\n",
       "      <td>6.0</td>\n",
       "      <td>81.0</td>\n",
       "      <td>77.0</td>\n",
       "      <td>4.0</td>\n",
       "    </tr>\n",
       "    <tr>\n",
       "      <th>[8, 9)</th>\n",
       "      <td>1.0</td>\n",
       "      <td>64.0</td>\n",
       "      <td>34.0</td>\n",
       "      <td>1.0</td>\n",
       "    </tr>\n",
       "    <tr>\n",
       "      <th>[9, 10)</th>\n",
       "      <td>NaN</td>\n",
       "      <td>22.0</td>\n",
       "      <td>19.0</td>\n",
       "      <td>NaN</td>\n",
       "    </tr>\n",
       "    <tr>\n",
       "      <th>[10, 15)</th>\n",
       "      <td>NaN</td>\n",
       "      <td>48.0</td>\n",
       "      <td>44.0</td>\n",
       "      <td>2.0</td>\n",
       "    </tr>\n",
       "    <tr>\n",
       "      <th>[15, 20)</th>\n",
       "      <td>NaN</td>\n",
       "      <td>5.0</td>\n",
       "      <td>4.0</td>\n",
       "      <td>NaN</td>\n",
       "    </tr>\n",
       "    <tr>\n",
       "      <th>[20, 25)</th>\n",
       "      <td>NaN</td>\n",
       "      <td>5.0</td>\n",
       "      <td>6.0</td>\n",
       "      <td>NaN</td>\n",
       "    </tr>\n",
       "    <tr>\n",
       "      <th>[30, 40)</th>\n",
       "      <td>NaN</td>\n",
       "      <td>1.0</td>\n",
       "      <td>3.0</td>\n",
       "      <td>NaN</td>\n",
       "    </tr>\n",
       "  </tbody>\n",
       "</table>\n",
       "</div>"
      ],
      "text/plain": [
       "property_type       PH  apartment    house  store\n",
       "rooms_completo                                   \n",
       "[1, 2)          3136.0    36930.0  23846.0  362.0\n",
       "[2, 3)          1394.0    12378.0   7558.0  145.0\n",
       "[3, 4)           545.0     4631.0   2979.0   79.0\n",
       "[4, 5)           161.0     1170.0   1047.0   14.0\n",
       "[5, 6)            46.0      323.0    409.0   12.0\n",
       "[6, 7)            22.0      136.0    152.0    6.0\n",
       "[7, 8)             6.0       81.0     77.0    4.0\n",
       "[8, 9)             1.0       64.0     34.0    1.0\n",
       "[9, 10)            NaN       22.0     19.0    NaN\n",
       "[10, 15)           NaN       48.0     44.0    2.0\n",
       "[15, 20)           NaN        5.0      4.0    NaN\n",
       "[20, 25)           NaN        5.0      6.0    NaN\n",
       "[30, 40)           NaN        1.0      3.0    NaN"
      ]
     },
     "execution_count": 33,
     "metadata": {},
     "output_type": "execute_result"
    }
   ],
   "source": [
    "data.pivot_table('rooms_completo', index=[room], columns='property_type', aggfunc='count' )"
   ]
  },
  {
   "cell_type": "markdown",
   "metadata": {},
   "source": [
    "### Limpieza de columna Expensas"
   ]
  },
  {
   "cell_type": "markdown",
   "metadata": {},
   "source": [
    "#### Vemos que porcentaje de las filas de expensas tienen NA y creamos un dataset solo con los que tienen datos"
   ]
  },
  {
   "cell_type": "code",
   "execution_count": 34,
   "metadata": {},
   "outputs": [
    {
     "name": "stdout",
     "output_type": "stream",
     "text": [
      "El total de filas es de 121220\n",
      "Hay 14262 filas con expensas, son el 12.0%\n"
     ]
    }
   ],
   "source": [
    "#Separo los casos que son NA, los que tienen algun numero y de ellos los que son iguales a 1\n",
    "mask_filas_con_expensas_na = data.expenses.isna()\n",
    "mask_filas_con_expensas_notna = data.expenses.notna()\n",
    "mask_filas_con_expensas_1 = data.expenses == 1\n",
    "\n",
    "print(f'El total de filas es de {data.shape[0]}')\n",
    "print(f'Hay {mask_filas_con_expensas_notna.sum()} filas con expensas, son el {round((mask_filas_con_expensas_notna.sum())/(data.shape[0]),2)*100}%')"
   ]
  },
  {
   "cell_type": "markdown",
   "metadata": {},
   "source": [
    "#### Aplico la siguiente logica: si el tipo de propiedad es casa o PH, expensas = NO. Si es departamento o store = SI. Y si no tiene info tomo el promedio de expensas segun los metros cuadrados."
   ]
  },
  {
   "cell_type": "code",
   "execution_count": 35,
   "metadata": {},
   "outputs": [],
   "source": [
    "mask_apartment = data.property_type == \"apartment\"\n",
    "mask_house = data.property_type == \"house\"\n",
    "mask_PH = data.property_type == \"PH\"\n",
    "mask_store = data.property_type == \"store\""
   ]
  },
  {
   "cell_type": "code",
   "execution_count": 36,
   "metadata": {},
   "outputs": [
    {
     "data": {
      "text/plain": [
       "SI    75201\n",
       "NO    46019\n",
       "Name: expenses_bool, dtype: int64"
      ]
     },
     "execution_count": 36,
     "metadata": {},
     "output_type": "execute_result"
    }
   ],
   "source": [
    "data['expenses_bool'] = np.select([mask_apartment, mask_house, mask_PH, mask_store], \n",
    "                            ['SI', 'NO', 'NO', 'SI'], \n",
    "                            default=np.nan)\n",
    "data.expenses_bool.value_counts()"
   ]
  },
  {
   "cell_type": "markdown",
   "metadata": {},
   "source": [
    "#### De los casos que pagan expensas analizo nuevamente los datos"
   ]
  },
  {
   "cell_type": "code",
   "execution_count": 37,
   "metadata": {},
   "outputs": [
    {
     "data": {
      "text/plain": [
       "count       11606.000000\n",
       "mean         4907.131570\n",
       "std        132691.813566\n",
       "min             1.000000\n",
       "25%          1000.000000\n",
       "50%          1700.000000\n",
       "75%          3100.000000\n",
       "max      10001500.000000\n",
       "Name: expenses, dtype: object"
      ]
     },
     "execution_count": 37,
     "metadata": {},
     "output_type": "execute_result"
    }
   ],
   "source": [
    "#Armo un df con los casos que pagan expensas\n",
    "mask_si_expensas = data.expenses_bool == \"SI\"\n",
    "con_expensas = data.loc[mask_si_expensas,:]\n",
    "con_expensas['expenses'].describe().apply(lambda x: format(x, 'f'))"
   ]
  },
  {
   "cell_type": "code",
   "execution_count": 38,
   "metadata": {},
   "outputs": [
    {
     "data": {
      "text/plain": [
       "1.0           850\n",
       "2.0            54\n",
       "3.0             1\n",
       "4.0             2\n",
       "5.0             2\n",
       "             ... \n",
       "550000.0        1\n",
       "1000000.0       1\n",
       "1100000.0       1\n",
       "1200000.0       1\n",
       "10001500.0      2\n",
       "Name: expenses, Length: 941, dtype: int64"
      ]
     },
     "execution_count": 38,
     "metadata": {},
     "output_type": "execute_result"
    }
   ],
   "source": [
    "con_expensas.expenses.value_counts().sort_index()"
   ]
  },
  {
   "cell_type": "markdown",
   "metadata": {},
   "source": [
    "#### Identifico como desconocidos los casos atipicos (menor a 100 y mayor a 200.000) y los NA"
   ]
  },
  {
   "cell_type": "code",
   "execution_count": 39,
   "metadata": {},
   "outputs": [],
   "source": [
    "mask_mayor_doscientosmil = con_expensas.expenses <= 200000\n",
    "mask_menor_cien = con_expensas.expenses >= 100\n",
    "\n",
    "mask_conocidos = np.logical_and(mask_mayor_doscientosmil, mask_menor_cien)\n",
    "mask_desconocidos = np.logical_not(mask_conocidos)\n",
    "\n",
    "# con_expensas = con_expensas.loc[mask_quantil_noventaycinco, :]\n",
    "# con_expensas.expenses.value_counts().sort_index()"
   ]
  },
  {
   "cell_type": "code",
   "execution_count": 40,
   "metadata": {},
   "outputs": [
    {
     "name": "stdout",
     "output_type": "stream",
     "text": [
      "10664\n",
      "64537\n"
     ]
    }
   ],
   "source": [
    "print(mask_conocidos.sum())\n",
    "print(mask_desconocidos.sum())"
   ]
  },
  {
   "cell_type": "code",
   "execution_count": 41,
   "metadata": {},
   "outputs": [
    {
     "data": {
      "text/plain": [
       "count     10664.000000\n",
       "mean       3011.734902\n",
       "std        3917.418488\n",
       "min         100.000000\n",
       "25%        1100.000000\n",
       "50%        1860.000000\n",
       "75%        3500.000000\n",
       "max      110000.000000\n",
       "Name: expenses, dtype: object"
      ]
     },
     "execution_count": 41,
     "metadata": {},
     "output_type": "execute_result"
    }
   ],
   "source": [
    "con_expensas_desconocidos = con_expensas.loc[mask_desconocidos,:]\n",
    "con_expensas_conocidos = con_expensas.loc[mask_conocidos,:]\n",
    "con_expensas_conocidos.expenses.describe().apply(lambda x: format(x, 'f'))"
   ]
  },
  {
   "cell_type": "code",
   "execution_count": 42,
   "metadata": {},
   "outputs": [
    {
     "data": {
      "text/plain": [
       "rooms\n",
       "1.0     1541.115672\n",
       "2.0     1576.646179\n",
       "3.0     2756.033223\n",
       "4.0     5040.478378\n",
       "5.0    10888.910000\n",
       "6.0    11223.809524\n",
       "7.0     5014.285714\n",
       "8.0    12000.000000\n",
       "Name: expenses, dtype: float64"
      ]
     },
     "execution_count": 42,
     "metadata": {},
     "output_type": "execute_result"
    }
   ],
   "source": [
    "con_expensas_conocidos.groupby('rooms')['expenses'].mean()"
   ]
  },
  {
   "cell_type": "markdown",
   "metadata": {},
   "source": [
    "#### A los casos desconocidos les aplico el promedio por habitacion"
   ]
  },
  {
   "cell_type": "code",
   "execution_count": 43,
   "metadata": {},
   "outputs": [],
   "source": [
    "con_expensas_desconocidos = con_expensas_desconocidos.join(con_expensas_conocidos.groupby('rooms_completo')['expenses'].mean(), on='rooms_completo', rsuffix='_nuevo')"
   ]
  },
  {
   "cell_type": "markdown",
   "metadata": {},
   "source": [
    "#### Unifico los montos de expensas"
   ]
  },
  {
   "cell_type": "code",
   "execution_count": 44,
   "metadata": {},
   "outputs": [
    {
     "name": "stderr",
     "output_type": "stream",
     "text": [
      "C:\\Users\\ragomez\\Anaconda3\\envs\\dhdblend\\lib\\site-packages\\pandas\\core\\indexing.py:845: SettingWithCopyWarning: \n",
      "A value is trying to be set on a copy of a slice from a DataFrame.\n",
      "Try using .loc[row_indexer,col_indexer] = value instead\n",
      "\n",
      "See the caveats in the documentation: https://pandas.pydata.org/pandas-docs/stable/user_guide/indexing.html#returning-a-view-versus-a-copy\n",
      "  self.obj[key] = _infer_fill_value(value)\n",
      "C:\\Users\\ragomez\\Anaconda3\\envs\\dhdblend\\lib\\site-packages\\pandas\\core\\indexing.py:966: SettingWithCopyWarning: \n",
      "A value is trying to be set on a copy of a slice from a DataFrame.\n",
      "Try using .loc[row_indexer,col_indexer] = value instead\n",
      "\n",
      "See the caveats in the documentation: https://pandas.pydata.org/pandas-docs/stable/user_guide/indexing.html#returning-a-view-versus-a-copy\n",
      "  self.obj[item] = s\n"
     ]
    },
    {
     "data": {
      "text/plain": [
       "(10664, 32)"
      ]
     },
     "execution_count": 44,
     "metadata": {},
     "output_type": "execute_result"
    }
   ],
   "source": [
    "con_expensas_conocidos.loc[:,'expenses_nuevo'] = con_expensas_conocidos.loc[:,'expenses']\n",
    "con_expensas_conocidos.shape"
   ]
  },
  {
   "cell_type": "code",
   "execution_count": 45,
   "metadata": {},
   "outputs": [
    {
     "data": {
      "text/plain": [
       "(64537, 32)"
      ]
     },
     "execution_count": 45,
     "metadata": {},
     "output_type": "execute_result"
    }
   ],
   "source": [
    "con_expensas_desconocidos.shape"
   ]
  },
  {
   "cell_type": "code",
   "execution_count": 46,
   "metadata": {},
   "outputs": [
    {
     "data": {
      "text/plain": [
       "(46019, 32)"
      ]
     },
     "execution_count": 46,
     "metadata": {},
     "output_type": "execute_result"
    }
   ],
   "source": [
    "mask_no_expensas = data.expenses_bool == \"NO\"\n",
    "sin_expensas = data.loc[mask_no_expensas,:]\n",
    "sin_expensas.loc[:,'expenses_nuevo'] = 0\n",
    "sin_expensas.shape\n"
   ]
  },
  {
   "cell_type": "code",
   "execution_count": 47,
   "metadata": {},
   "outputs": [],
   "source": [
    "data = pd.concat([con_expensas_conocidos, con_expensas_desconocidos, sin_expensas])\n",
    "#data = data_limpia.sort_index()\n"
   ]
  },
  {
   "cell_type": "markdown",
   "metadata": {},
   "source": [
    "## Limpieza de Geonames"
   ]
  },
  {
   "cell_type": "code",
   "execution_count": 48,
   "metadata": {},
   "outputs": [
    {
     "data": {
      "text/html": [
       "<div>\n",
       "<style scoped>\n",
       "    .dataframe tbody tr th:only-of-type {\n",
       "        vertical-align: middle;\n",
       "    }\n",
       "\n",
       "    .dataframe tbody tr th {\n",
       "        vertical-align: top;\n",
       "    }\n",
       "\n",
       "    .dataframe thead th {\n",
       "        text-align: right;\n",
       "    }\n",
       "</style>\n",
       "<table border=\"1\" class=\"dataframe\">\n",
       "  <thead>\n",
       "    <tr style=\"text-align: right;\">\n",
       "      <th></th>\n",
       "      <th>place_name</th>\n",
       "      <th>place_with_parent_names</th>\n",
       "      <th>geonames_id</th>\n",
       "      <th>lat-lon</th>\n",
       "      <th>lat</th>\n",
       "      <th>lon</th>\n",
       "    </tr>\n",
       "  </thead>\n",
       "  <tbody>\n",
       "    <tr>\n",
       "      <th>66</th>\n",
       "      <td>Boedo</td>\n",
       "      <td>|Argentina|Capital Federal|Boedo|</td>\n",
       "      <td>3436003.0</td>\n",
       "      <td>-34.6187769485,-58.4026450688</td>\n",
       "      <td>-34.618777</td>\n",
       "      <td>-58.402645</td>\n",
       "    </tr>\n",
       "    <tr>\n",
       "      <th>96</th>\n",
       "      <td>San Bernardo</td>\n",
       "      <td>|Argentina|Buenos Aires Costa Atlántica|San Be...</td>\n",
       "      <td>3429228.0</td>\n",
       "      <td>-36.6806689,-56.6774832</td>\n",
       "      <td>-36.680669</td>\n",
       "      <td>-56.677483</td>\n",
       "    </tr>\n",
       "    <tr>\n",
       "      <th>98</th>\n",
       "      <td>Almagro</td>\n",
       "      <td>|Argentina|Capital Federal|Almagro|</td>\n",
       "      <td>3436397.0</td>\n",
       "      <td>NaN</td>\n",
       "      <td>NaN</td>\n",
       "      <td>NaN</td>\n",
       "    </tr>\n",
       "    <tr>\n",
       "      <th>125</th>\n",
       "      <td>Bs.As. G.B.A. Zona Sur</td>\n",
       "      <td>|Argentina|Bs.As. G.B.A. Zona Sur|</td>\n",
       "      <td>3435907.0</td>\n",
       "      <td>-38.416097,-63.616672</td>\n",
       "      <td>-38.416097</td>\n",
       "      <td>-63.616672</td>\n",
       "    </tr>\n",
       "    <tr>\n",
       "      <th>266</th>\n",
       "      <td>Palermo Hollywood</td>\n",
       "      <td>|Argentina|Capital Federal|Palermo|Palermo Hol...</td>\n",
       "      <td>NaN</td>\n",
       "      <td>-34.5765042465,-58.4314684478</td>\n",
       "      <td>-34.576504</td>\n",
       "      <td>-58.431468</td>\n",
       "    </tr>\n",
       "    <tr>\n",
       "      <th>272</th>\n",
       "      <td>Castelar</td>\n",
       "      <td>|Argentina|Bs.As. G.B.A. Zona Oeste|Morón|Cast...</td>\n",
       "      <td>3435607.0</td>\n",
       "      <td>-34.6534243,-58.6393143</td>\n",
       "      <td>-34.653424</td>\n",
       "      <td>-58.639314</td>\n",
       "    </tr>\n",
       "    <tr>\n",
       "      <th>274</th>\n",
       "      <td>Castelar</td>\n",
       "      <td>|Argentina|Bs.As. G.B.A. Zona Oeste|Morón|Cast...</td>\n",
       "      <td>3435607.0</td>\n",
       "      <td>-34.650075,-58.6390392</td>\n",
       "      <td>-34.650075</td>\n",
       "      <td>-58.639039</td>\n",
       "    </tr>\n",
       "    <tr>\n",
       "      <th>276</th>\n",
       "      <td>Castelar</td>\n",
       "      <td>|Argentina|Bs.As. G.B.A. Zona Oeste|Morón|Cast...</td>\n",
       "      <td>3435607.0</td>\n",
       "      <td>-34.6546021,-58.6381974</td>\n",
       "      <td>-34.654602</td>\n",
       "      <td>-58.638197</td>\n",
       "    </tr>\n",
       "    <tr>\n",
       "      <th>423</th>\n",
       "      <td>Córdoba</td>\n",
       "      <td>|Argentina|Córdoba|Córdoba|</td>\n",
       "      <td>3860259.0</td>\n",
       "      <td>-31.4469454,-64.194128</td>\n",
       "      <td>-31.446945</td>\n",
       "      <td>-64.194128</td>\n",
       "    </tr>\n",
       "    <tr>\n",
       "      <th>439</th>\n",
       "      <td>San Martín</td>\n",
       "      <td>|Argentina|Bs.As. G.B.A. Zona Norte|General Sa...</td>\n",
       "      <td>NaN</td>\n",
       "      <td>-34.573563,-58.539688</td>\n",
       "      <td>-34.573563</td>\n",
       "      <td>-58.539688</td>\n",
       "    </tr>\n",
       "  </tbody>\n",
       "</table>\n",
       "</div>"
      ],
      "text/plain": [
       "                 place_name  \\\n",
       "66                    Boedo   \n",
       "96             San Bernardo   \n",
       "98                  Almagro   \n",
       "125  Bs.As. G.B.A. Zona Sur   \n",
       "266       Palermo Hollywood   \n",
       "272                Castelar   \n",
       "274                Castelar   \n",
       "276                Castelar   \n",
       "423                 Córdoba   \n",
       "439              San Martín   \n",
       "\n",
       "                               place_with_parent_names  geonames_id  \\\n",
       "66                   |Argentina|Capital Federal|Boedo|    3436003.0   \n",
       "96   |Argentina|Buenos Aires Costa Atlántica|San Be...    3429228.0   \n",
       "98                 |Argentina|Capital Federal|Almagro|    3436397.0   \n",
       "125                 |Argentina|Bs.As. G.B.A. Zona Sur|    3435907.0   \n",
       "266  |Argentina|Capital Federal|Palermo|Palermo Hol...          NaN   \n",
       "272  |Argentina|Bs.As. G.B.A. Zona Oeste|Morón|Cast...    3435607.0   \n",
       "274  |Argentina|Bs.As. G.B.A. Zona Oeste|Morón|Cast...    3435607.0   \n",
       "276  |Argentina|Bs.As. G.B.A. Zona Oeste|Morón|Cast...    3435607.0   \n",
       "423                        |Argentina|Córdoba|Córdoba|    3860259.0   \n",
       "439  |Argentina|Bs.As. G.B.A. Zona Norte|General Sa...          NaN   \n",
       "\n",
       "                           lat-lon        lat        lon  \n",
       "66   -34.6187769485,-58.4026450688 -34.618777 -58.402645  \n",
       "96         -36.6806689,-56.6774832 -36.680669 -56.677483  \n",
       "98                             NaN        NaN        NaN  \n",
       "125          -38.416097,-63.616672 -38.416097 -63.616672  \n",
       "266  -34.5765042465,-58.4314684478 -34.576504 -58.431468  \n",
       "272        -34.6534243,-58.6393143 -34.653424 -58.639314  \n",
       "274         -34.650075,-58.6390392 -34.650075 -58.639039  \n",
       "276        -34.6546021,-58.6381974 -34.654602 -58.638197  \n",
       "423         -31.4469454,-64.194128 -31.446945 -64.194128  \n",
       "439          -34.573563,-58.539688 -34.573563 -58.539688  "
      ]
     },
     "metadata": {},
     "output_type": "display_data"
    },
    {
     "name": "stdout",
     "output_type": "stream",
     "text": [
      "(121220, 6)\n"
     ]
    }
   ],
   "source": [
    "data_geolocalizacion = data.loc[ : , [\"place_name\", \"place_with_parent_names\", \"geonames_id\", \"lat-lon\", \"lat\", \"lon\"]]\n",
    "display(data_geolocalizacion.head(10))\n",
    "print(data_geolocalizacion.shape)"
   ]
  },
  {
   "cell_type": "code",
   "execution_count": 49,
   "metadata": {},
   "outputs": [
    {
     "data": {
      "text/plain": [
       "place_name                    23\n",
       "place_with_parent_names        0\n",
       "geonames_id                18717\n",
       "lat-lon                    51550\n",
       "lat                        51550\n",
       "lon                        51550\n",
       "dtype: int64"
      ]
     },
     "execution_count": 49,
     "metadata": {},
     "output_type": "execute_result"
    }
   ],
   "source": [
    "nulos =data_geolocalizacion.isnull()\n",
    "nulos.sum()"
   ]
  },
  {
   "cell_type": "code",
   "execution_count": 50,
   "metadata": {},
   "outputs": [
    {
     "data": {
      "text/html": [
       "<div>\n",
       "<style scoped>\n",
       "    .dataframe tbody tr th:only-of-type {\n",
       "        vertical-align: middle;\n",
       "    }\n",
       "\n",
       "    .dataframe tbody tr th {\n",
       "        vertical-align: top;\n",
       "    }\n",
       "\n",
       "    .dataframe thead th {\n",
       "        text-align: right;\n",
       "    }\n",
       "</style>\n",
       "<table border=\"1\" class=\"dataframe\">\n",
       "  <thead>\n",
       "    <tr style=\"text-align: right;\">\n",
       "      <th></th>\n",
       "      <th>place_name</th>\n",
       "      <th>place_with_parent_names</th>\n",
       "      <th>geonames_id</th>\n",
       "      <th>lat-lon</th>\n",
       "      <th>lat</th>\n",
       "      <th>lon</th>\n",
       "    </tr>\n",
       "  </thead>\n",
       "  <tbody>\n",
       "    <tr>\n",
       "      <th>45159</th>\n",
       "      <td>Country Maschwitz Club</td>\n",
       "      <td>|Argentina|Bs.As. G.B.A. Zona Norte|Escobar| C...</td>\n",
       "      <td>NaN</td>\n",
       "      <td>-34.377446,-58.756042</td>\n",
       "      <td>-34.377446</td>\n",
       "      <td>-58.756042</td>\n",
       "    </tr>\n",
       "    <tr>\n",
       "      <th>33586</th>\n",
       "      <td>Country Maschwitz Club</td>\n",
       "      <td>|Argentina|Bs.As. G.B.A. Zona Norte|Escobar| C...</td>\n",
       "      <td>NaN</td>\n",
       "      <td>-34.3773892772,-58.756005714</td>\n",
       "      <td>-34.377389</td>\n",
       "      <td>-58.756006</td>\n",
       "    </tr>\n",
       "    <tr>\n",
       "      <th>42404</th>\n",
       "      <td>Country Maschwitz Club</td>\n",
       "      <td>|Argentina|Bs.As. G.B.A. Zona Norte|Escobar| C...</td>\n",
       "      <td>NaN</td>\n",
       "      <td>-34.3782857,-58.7541862</td>\n",
       "      <td>-34.378286</td>\n",
       "      <td>-58.754186</td>\n",
       "    </tr>\n",
       "    <tr>\n",
       "      <th>23730</th>\n",
       "      <td>los alamos</td>\n",
       "      <td>|Argentina|Bs.As. G.B.A. Zona Norte|Tigre| los...</td>\n",
       "      <td>NaN</td>\n",
       "      <td>-34.4239891,-58.601876</td>\n",
       "      <td>-34.423989</td>\n",
       "      <td>-58.601876</td>\n",
       "    </tr>\n",
       "    <tr>\n",
       "      <th>78527</th>\n",
       "      <td>9 de Abril</td>\n",
       "      <td>|Argentina|Bs.As. G.B.A. Zona Sur|Esteban Eche...</td>\n",
       "      <td>NaN</td>\n",
       "      <td>NaN</td>\n",
       "      <td>NaN</td>\n",
       "      <td>NaN</td>\n",
       "    </tr>\n",
       "  </tbody>\n",
       "</table>\n",
       "</div>"
      ],
      "text/plain": [
       "                    place_name  \\\n",
       "45159   Country Maschwitz Club   \n",
       "33586   Country Maschwitz Club   \n",
       "42404   Country Maschwitz Club   \n",
       "23730               los alamos   \n",
       "78527               9 de Abril   \n",
       "\n",
       "                                 place_with_parent_names  geonames_id  \\\n",
       "45159  |Argentina|Bs.As. G.B.A. Zona Norte|Escobar| C...          NaN   \n",
       "33586  |Argentina|Bs.As. G.B.A. Zona Norte|Escobar| C...          NaN   \n",
       "42404  |Argentina|Bs.As. G.B.A. Zona Norte|Escobar| C...          NaN   \n",
       "23730  |Argentina|Bs.As. G.B.A. Zona Norte|Tigre| los...          NaN   \n",
       "78527  |Argentina|Bs.As. G.B.A. Zona Sur|Esteban Eche...          NaN   \n",
       "\n",
       "                            lat-lon        lat        lon  \n",
       "45159         -34.377446,-58.756042 -34.377446 -58.756042  \n",
       "33586  -34.3773892772,-58.756005714 -34.377389 -58.756006  \n",
       "42404       -34.3782857,-58.7541862 -34.378286 -58.754186  \n",
       "23730        -34.4239891,-58.601876 -34.423989 -58.601876  \n",
       "78527                           NaN        NaN        NaN  "
      ]
     },
     "execution_count": 50,
     "metadata": {},
     "output_type": "execute_result"
    }
   ],
   "source": [
    "geo_nulos = data_geolocalizacion.loc[nulos.index].sort_values('place_name')\n",
    "geo_nulos.head()"
   ]
  },
  {
   "cell_type": "code",
   "execution_count": 51,
   "metadata": {},
   "outputs": [
    {
     "data": {
      "text/plain": [
       "Córdoba                    9254\n",
       "Rosario                    8504\n",
       "Mar del Plata              6534\n",
       "Tigre                      3324\n",
       "Nordelta                   3315\n",
       "Belgrano                   2992\n",
       "Palermo                    2885\n",
       "La Plata                   2534\n",
       "Caballito                  2273\n",
       "Pilar                      2228\n",
       "Villa Urquiza              1632\n",
       "Olivos                     1590\n",
       "Recoleta                   1547\n",
       "Lomas de Zamora            1529\n",
       "Flores                     1354\n",
       "Ituzaingó                  1340\n",
       "Villa Crespo               1331\n",
       "Capital Federal            1297\n",
       "San Telmo                  1216\n",
       "Morón                      1209\n",
       "Almagro                    1165\n",
       "Barrio Norte               1140\n",
       "Ramos Mejía                1127\n",
       "Martínez                   1058\n",
       "Lanús                      1048\n",
       "Escobar                    1037\n",
       "Banfield                   1007\n",
       "San Isidro                  990\n",
       "Pinamar                     932\n",
       "Boedo                       890\n",
       "Nuñez                       778\n",
       "San Miguel                  752\n",
       "Adrogué                     734\n",
       "Punilla                     713\n",
       "Temperley                   703\n",
       "Quilmes                     699\n",
       "Vicente López               681\n",
       "Balvanera                   667\n",
       "Puerto Madero               647\n",
       "San Fernando                643\n",
       "Castelar                    640\n",
       "San Carlos de Bariloche     639\n",
       "Santa Fe                    628\n",
       "Florida                     620\n",
       "San Cristobal               614\n",
       "Villa Carlos Paz            612\n",
       "Benavidez                   604\n",
       "Villa Ballester             588\n",
       "Saavedra                    542\n",
       "Monserrat                   538\n",
       "Name: place_name, dtype: int64"
      ]
     },
     "execution_count": 51,
     "metadata": {},
     "output_type": "execute_result"
    }
   ],
   "source": [
    "geo_nulos['place_name'].value_counts().sort_values(ascending=False).head(50)"
   ]
  },
  {
   "cell_type": "markdown",
   "metadata": {},
   "source": [
    "### LIMPIEZA CORDOBA"
   ]
  },
  {
   "cell_type": "code",
   "execution_count": 52,
   "metadata": {},
   "outputs": [],
   "source": [
    "mask_cordoba = geo_nulos['place_name']== \"Córdoba\"\n",
    "datos_cordoba = geo_nulos.loc[mask_cordoba, :]\n",
    "#datos_cordoba.sort_values(by=\"geonames_id\").sample(10)"
   ]
  },
  {
   "cell_type": "code",
   "execution_count": 53,
   "metadata": {},
   "outputs": [],
   "source": [
    "#datos_cordoba.isnull().sum()"
   ]
  },
  {
   "cell_type": "code",
   "execution_count": 54,
   "metadata": {},
   "outputs": [],
   "source": [
    "#display(datos_cordoba.groupby(['geonames_id']).mean())"
   ]
  },
  {
   "cell_type": "code",
   "execution_count": 55,
   "metadata": {},
   "outputs": [],
   "source": [
    "geo_mask_1 = datos_cordoba.place_with_parent_names == \"|Argentina|Córdoba|Córdoba|\"\n",
    "geo_mask_2 = datos_cordoba.place_with_parent_names == \"|Argentina|Córdoba|\"\n",
    "\n",
    "data_geolocalizacion_cordoba_3860259 = datos_cordoba.loc[geo_mask_1, :]\n",
    "values_3860259 = {\"geonames_id\":3860259.0, \"place_name\":\"Córdoba\",\"place_with_parent_names\": \"|Argentina|Córdoba|Córdoba|\", \"lat-lon\" : \"-31.421912, -64.192741\", \"lat\": -31.421912, \"lon\": -64.192741}\n",
    "\n",
    "data_geolocalizacion_cordoba_3860255 = datos_cordoba.loc[geo_mask_2, :]\n",
    "values_3860255 = {\"geonames_id\":3860255.0, \"place_name\":\"Córdoba\",\"place_with_parent_names\": \"|Argentina|Córdoba|\",\"lat-lon\" : \"-31.411897, -64.269298\", \"lat\": -31.411897, \"lon\": -64.269298}\n",
    "\n",
    "datos_cordoba_con_3860259 = datos_cordoba.fillna(values_3860259)\n",
    "datos_cordoba_completo = datos_cordoba.fillna(values_3860255)\n",
    "#datos_cordoba_completo.head()\n"
   ]
  },
  {
   "cell_type": "code",
   "execution_count": 56,
   "metadata": {},
   "outputs": [],
   "source": [
    "#datos_cordoba_completo.isnull().sum()"
   ]
  },
  {
   "cell_type": "code",
   "execution_count": 57,
   "metadata": {},
   "outputs": [
    {
     "data": {
      "text/plain": [
       "place_name                    23\n",
       "place_with_parent_names        0\n",
       "geonames_id                18717\n",
       "lat-lon                    45809\n",
       "lat                        45809\n",
       "lon                        45809\n",
       "dtype: int64"
      ]
     },
     "execution_count": 57,
     "metadata": {},
     "output_type": "execute_result"
    }
   ],
   "source": [
    "geo_nulos = geo_nulos.fillna(datos_cordoba_completo)\n",
    "geo_nulos.isnull().sum()"
   ]
  },
  {
   "cell_type": "markdown",
   "metadata": {},
   "source": [
    "### LIMPIEZA ROSARIO"
   ]
  },
  {
   "cell_type": "code",
   "execution_count": 58,
   "metadata": {},
   "outputs": [],
   "source": [
    "mask_rosario = geo_nulos['place_name']== \"Rosario\"\n",
    "datos_rosario = geo_nulos.loc[mask_rosario, :]\n",
    "#datos_rosario.sort_values(by=\"geonames_id\").sample(10)"
   ]
  },
  {
   "cell_type": "code",
   "execution_count": 59,
   "metadata": {},
   "outputs": [],
   "source": [
    "#datos_rosario.isnull().sum()"
   ]
  },
  {
   "cell_type": "code",
   "execution_count": 60,
   "metadata": {},
   "outputs": [],
   "source": [
    "#display(datos_rosario.groupby(['geonames_id']).mean())"
   ]
  },
  {
   "cell_type": "code",
   "execution_count": 61,
   "metadata": {},
   "outputs": [],
   "source": [
    "values_3838574 = {\"geonames_id\":3838574.0, \"place_name\":\"Rosario\",\"place_with_parent_names\": \"|Argentina|Santa Fe|Rosario|\",\"lat-lon\" : \"-32.9473, -60.661795\", \"lat\": -32.9473, \"lon\": -60.661795}\n",
    "datos_rosario_completo = datos_rosario.fillna(values_3838574)\n",
    "#datos_rosario_completo.head()"
   ]
  },
  {
   "cell_type": "code",
   "execution_count": 62,
   "metadata": {},
   "outputs": [],
   "source": [
    "#datos_rosario_completo.isnull().sum()"
   ]
  },
  {
   "cell_type": "code",
   "execution_count": 63,
   "metadata": {},
   "outputs": [
    {
     "data": {
      "text/plain": [
       "place_name                    23\n",
       "place_with_parent_names        0\n",
       "geonames_id                18717\n",
       "lat-lon                    41291\n",
       "lat                        41291\n",
       "lon                        41291\n",
       "dtype: int64"
      ]
     },
     "execution_count": 63,
     "metadata": {},
     "output_type": "execute_result"
    }
   ],
   "source": [
    "geo_nulos = geo_nulos.fillna(datos_rosario_completo)\n",
    "geo_nulos.isnull().sum()"
   ]
  },
  {
   "cell_type": "markdown",
   "metadata": {},
   "source": [
    "### LIMPIEZA MAR DEL PLATA"
   ]
  },
  {
   "cell_type": "code",
   "execution_count": 64,
   "metadata": {},
   "outputs": [],
   "source": [
    "mask_mar_del_plata = geo_nulos['place_name']== \"Mar del Plata\"\n",
    "datos_mar_del_plata = geo_nulos.loc[mask_mar_del_plata, :]\n",
    "#datos_mar_del_plata.sort_values(by=\"geonames_id\").sample(10)"
   ]
  },
  {
   "cell_type": "code",
   "execution_count": 65,
   "metadata": {},
   "outputs": [],
   "source": [
    "#datos_mar_del_plata.isnull().sum()"
   ]
  },
  {
   "cell_type": "code",
   "execution_count": 66,
   "metadata": {},
   "outputs": [],
   "source": [
    "#display(datos_mar_del_plata.groupby(['geonames_id']).mean())"
   ]
  },
  {
   "cell_type": "code",
   "execution_count": 67,
   "metadata": {},
   "outputs": [],
   "source": [
    "values_3430863 = {\"geonames_id\":3430863.0, \"place_name\":\"Mar del Plata\",\"place_with_parent_names\": \"|Argentina|Buenos Aires Costa Atlántica|Mar de...\",\"lat-lon\" : \"-38.006377, -57.553465\", \"lat\": -38.006377, \"lon\": -57.553465}\n",
    "datos_mar_del_plata_completo = datos_mar_del_plata.fillna(values_3430863)\n",
    "#datos_mar_del_plata_completo.head()"
   ]
  },
  {
   "cell_type": "code",
   "execution_count": 68,
   "metadata": {},
   "outputs": [],
   "source": [
    "#datos_mar_del_plata_completo.isnull().sum()"
   ]
  },
  {
   "cell_type": "code",
   "execution_count": 69,
   "metadata": {},
   "outputs": [
    {
     "data": {
      "text/plain": [
       "place_name                    23\n",
       "place_with_parent_names        0\n",
       "geonames_id                18717\n",
       "lat-lon                    40589\n",
       "lat                        40589\n",
       "lon                        40589\n",
       "dtype: int64"
      ]
     },
     "execution_count": 69,
     "metadata": {},
     "output_type": "execute_result"
    }
   ],
   "source": [
    "geo_nulos = geo_nulos.fillna(datos_mar_del_plata_completo)\n",
    "geo_nulos.isnull().sum()"
   ]
  },
  {
   "cell_type": "markdown",
   "metadata": {},
   "source": [
    "### LIMPIEZA TIGRE"
   ]
  },
  {
   "cell_type": "code",
   "execution_count": 70,
   "metadata": {},
   "outputs": [],
   "source": [
    "mask_tigre = geo_nulos['place_name']== \"Tigre\"\n",
    "datos_tigre = geo_nulos.loc[mask_tigre, :]\n",
    "#datos_tigre.sort_values(by=\"geonames_id\").sample(10)"
   ]
  },
  {
   "cell_type": "code",
   "execution_count": 71,
   "metadata": {},
   "outputs": [],
   "source": [
    "#datos_tigre.isnull().sum()"
   ]
  },
  {
   "cell_type": "code",
   "execution_count": 72,
   "metadata": {},
   "outputs": [],
   "source": [
    "#display(datos_tigre.groupby(['geonames_id']).mean())"
   ]
  },
  {
   "cell_type": "code",
   "execution_count": 73,
   "metadata": {},
   "outputs": [],
   "source": [
    "values_3427753 = {\"geonames_id\":3427753.0, \"place_name\":\"Tigre\",\"place_with_parent_names\": \"|Argentina|Bs.As. G.B.A. Zona Norte|Tigre|\",\"lat-lon\" : \"-34.408622, -58.636493\", \"lat\": -34.408622, \"lon\": -58.636493}\n",
    "datos_tigre_completo = datos_tigre.fillna(values_3427753)\n",
    "#datos_tigre_completo.head()"
   ]
  },
  {
   "cell_type": "code",
   "execution_count": 74,
   "metadata": {},
   "outputs": [],
   "source": [
    "#datos_tigre_completo.isnull().sum()"
   ]
  },
  {
   "cell_type": "code",
   "execution_count": 75,
   "metadata": {},
   "outputs": [
    {
     "data": {
      "text/plain": [
       "place_name                    23\n",
       "place_with_parent_names        0\n",
       "geonames_id                17752\n",
       "lat-lon                    38801\n",
       "lat                        38801\n",
       "lon                        38801\n",
       "dtype: int64"
      ]
     },
     "execution_count": 75,
     "metadata": {},
     "output_type": "execute_result"
    }
   ],
   "source": [
    "geo_nulos = geo_nulos.fillna(datos_tigre_completo)\n",
    "geo_nulos.isnull().sum()"
   ]
  },
  {
   "cell_type": "code",
   "execution_count": 76,
   "metadata": {},
   "outputs": [
    {
     "data": {
      "text/html": [
       "<div>\n",
       "<style scoped>\n",
       "    .dataframe tbody tr th:only-of-type {\n",
       "        vertical-align: middle;\n",
       "    }\n",
       "\n",
       "    .dataframe tbody tr th {\n",
       "        vertical-align: top;\n",
       "    }\n",
       "\n",
       "    .dataframe thead th {\n",
       "        text-align: right;\n",
       "    }\n",
       "</style>\n",
       "<table border=\"1\" class=\"dataframe\">\n",
       "  <thead>\n",
       "    <tr style=\"text-align: right;\">\n",
       "      <th></th>\n",
       "      <th>place_name</th>\n",
       "      <th>place_with_parent_names</th>\n",
       "      <th>geonames_id</th>\n",
       "      <th>lat-lon</th>\n",
       "      <th>lat</th>\n",
       "      <th>lon</th>\n",
       "    </tr>\n",
       "  </thead>\n",
       "  <tbody>\n",
       "    <tr>\n",
       "      <th>45970</th>\n",
       "      <td>Tigre</td>\n",
       "      <td>|Argentina|Bs.As. G.B.A. Zona Norte|Tigre||</td>\n",
       "      <td>3427753.0</td>\n",
       "      <td>-34.396074,-58.63738</td>\n",
       "      <td>-34.396074</td>\n",
       "      <td>-58.637380</td>\n",
       "    </tr>\n",
       "    <tr>\n",
       "      <th>6489</th>\n",
       "      <td>Tigre</td>\n",
       "      <td>|Argentina|Bs.As. G.B.A. Zona Norte|Tigre||</td>\n",
       "      <td>3427753.0</td>\n",
       "      <td>-34.4008968545,-58.63809847</td>\n",
       "      <td>-34.400897</td>\n",
       "      <td>-58.638098</td>\n",
       "    </tr>\n",
       "    <tr>\n",
       "      <th>10201</th>\n",
       "      <td>Tigre</td>\n",
       "      <td>|Argentina|Bs.As. G.B.A. Zona Norte|Tigre||</td>\n",
       "      <td>3427753.0</td>\n",
       "      <td>-34.400704,-58.638067</td>\n",
       "      <td>-34.400704</td>\n",
       "      <td>-58.638067</td>\n",
       "    </tr>\n",
       "    <tr>\n",
       "      <th>11451</th>\n",
       "      <td>Tigre</td>\n",
       "      <td>|Argentina|Bs.As. G.B.A. Zona Norte|Tigre||</td>\n",
       "      <td>3427753.0</td>\n",
       "      <td>-34.4026880384,-58.6262613379</td>\n",
       "      <td>-34.402688</td>\n",
       "      <td>-58.626261</td>\n",
       "    </tr>\n",
       "    <tr>\n",
       "      <th>14839</th>\n",
       "      <td>Tigre</td>\n",
       "      <td>|Argentina|Bs.As. G.B.A. Zona Norte|Tigre||</td>\n",
       "      <td>3427753.0</td>\n",
       "      <td>-34.4007994779,-58.6381735719</td>\n",
       "      <td>-34.400799</td>\n",
       "      <td>-58.638174</td>\n",
       "    </tr>\n",
       "  </tbody>\n",
       "</table>\n",
       "</div>"
      ],
      "text/plain": [
       "      place_name                      place_with_parent_names  geonames_id  \\\n",
       "45970      Tigre  |Argentina|Bs.As. G.B.A. Zona Norte|Tigre||    3427753.0   \n",
       "6489       Tigre  |Argentina|Bs.As. G.B.A. Zona Norte|Tigre||    3427753.0   \n",
       "10201      Tigre  |Argentina|Bs.As. G.B.A. Zona Norte|Tigre||    3427753.0   \n",
       "11451      Tigre  |Argentina|Bs.As. G.B.A. Zona Norte|Tigre||    3427753.0   \n",
       "14839      Tigre  |Argentina|Bs.As. G.B.A. Zona Norte|Tigre||    3427753.0   \n",
       "\n",
       "                             lat-lon        lat        lon  \n",
       "45970           -34.396074,-58.63738 -34.396074 -58.637380  \n",
       "6489     -34.4008968545,-58.63809847 -34.400897 -58.638098  \n",
       "10201          -34.400704,-58.638067 -34.400704 -58.638067  \n",
       "11451  -34.4026880384,-58.6262613379 -34.402688 -58.626261  \n",
       "14839  -34.4007994779,-58.6381735719 -34.400799 -58.638174  "
      ]
     },
     "execution_count": 76,
     "metadata": {},
     "output_type": "execute_result"
    }
   ],
   "source": [
    "mask_tigre2 = geo_nulos['place_with_parent_names'] == \"|Argentina|Bs.As. G.B.A. Zona Norte|Tigre||\"\n",
    "datos_tigre2 = geo_nulos.loc[mask_tigre2, :]\n",
    "datos_tigre_completo2 = datos_tigre2.fillna(values_3427753)\n",
    "datos_tigre_completo2.head()"
   ]
  },
  {
   "cell_type": "code",
   "execution_count": 77,
   "metadata": {},
   "outputs": [
    {
     "data": {
      "text/plain": [
       "place_name                     0\n",
       "place_with_parent_names        0\n",
       "geonames_id                17729\n",
       "lat-lon                    38801\n",
       "lat                        38801\n",
       "lon                        38801\n",
       "dtype: int64"
      ]
     },
     "execution_count": 77,
     "metadata": {},
     "output_type": "execute_result"
    }
   ],
   "source": [
    "geo_nulos = geo_nulos.fillna(datos_tigre_completo2)\n",
    "geo_nulos.isnull().sum()"
   ]
  },
  {
   "cell_type": "markdown",
   "metadata": {},
   "source": [
    "### LIMPIEZA NORDELTA"
   ]
  },
  {
   "cell_type": "code",
   "execution_count": 78,
   "metadata": {},
   "outputs": [],
   "source": [
    "mask_nordelta = geo_nulos['place_name']== \"Nordelta\"\n",
    "datos_nordelta = geo_nulos.loc[mask_nordelta, :]\n",
    "#datos_nordelta.sort_values(by=\"geonames_id\").sample(10)"
   ]
  },
  {
   "cell_type": "code",
   "execution_count": 79,
   "metadata": {},
   "outputs": [],
   "source": [
    "#datos_nordelta.isnull().sum()"
   ]
  },
  {
   "cell_type": "code",
   "execution_count": 80,
   "metadata": {},
   "outputs": [],
   "source": [
    "#datos_nordelta.mean()"
   ]
  },
  {
   "cell_type": "code",
   "execution_count": 81,
   "metadata": {},
   "outputs": [],
   "source": [
    "values_3427753_Nord = {\"geonames_id\":3427753.0, \"place_name\":\"Nordelta\",\"place_with_parent_names\": \"|Argentina|Bs.As. G.B.A. Zona Norte|Tigre|Nord...\",\"lat-lon\" : \"-34.410920, -58.644708\", \"lat\": -34.410920, \"lon\": -58.644708}\n",
    "datos_nordelta_completo = datos_nordelta.fillna(values_3427753_Nord)\n",
    "#datos_nordelta_completo.head()"
   ]
  },
  {
   "cell_type": "code",
   "execution_count": 82,
   "metadata": {},
   "outputs": [],
   "source": [
    "#datos_nordelta_completo.isnull().sum()"
   ]
  },
  {
   "cell_type": "code",
   "execution_count": 83,
   "metadata": {},
   "outputs": [
    {
     "data": {
      "text/plain": [
       "place_name                     0\n",
       "place_with_parent_names        0\n",
       "geonames_id                14414\n",
       "lat-lon                    37050\n",
       "lat                        37050\n",
       "lon                        37050\n",
       "dtype: int64"
      ]
     },
     "execution_count": 83,
     "metadata": {},
     "output_type": "execute_result"
    }
   ],
   "source": [
    "geo_nulos = geo_nulos.fillna(datos_nordelta_completo)\n",
    "geo_nulos.isnull().sum()"
   ]
  },
  {
   "cell_type": "markdown",
   "metadata": {},
   "source": [
    "### LIMPIEZA BELGRANO"
   ]
  },
  {
   "cell_type": "code",
   "execution_count": 84,
   "metadata": {},
   "outputs": [],
   "source": [
    "mask_belgrano = geo_nulos['place_name']== \"Belgrano\"\n",
    "datos_belgrano = geo_nulos.loc[mask_belgrano, :]\n",
    "#datos_belgrano.sort_values(by=\"geonames_id\").sample(10)"
   ]
  },
  {
   "cell_type": "code",
   "execution_count": 85,
   "metadata": {},
   "outputs": [],
   "source": [
    "#datos_belgrano.isnull().sum()"
   ]
  },
  {
   "cell_type": "code",
   "execution_count": 86,
   "metadata": {},
   "outputs": [],
   "source": [
    "#display(datos_belgrano.groupby(['geonames_id']).mean())"
   ]
  },
  {
   "cell_type": "code",
   "execution_count": 87,
   "metadata": {},
   "outputs": [],
   "source": [
    "values_3436077 = {\"geonames_id\":3436077.0, \"place_name\":\"Belgrano\",\"place_with_parent_names\": \"|Argentina|Capital Federal|Belgrano|\",\"lat-lon\" : \"-34.563541, -58.453904\", \"lat\": -34.563541, \"lon\": -58.453904}\n",
    "datos_belgrano_completo = datos_belgrano.fillna(values_3436077)\n",
    "#datos_belgrano_completo.head()"
   ]
  },
  {
   "cell_type": "code",
   "execution_count": 88,
   "metadata": {},
   "outputs": [],
   "source": [
    "#datos_belgrano_completo.isnull().sum()"
   ]
  },
  {
   "cell_type": "code",
   "execution_count": 89,
   "metadata": {},
   "outputs": [
    {
     "data": {
      "text/plain": [
       "place_name                     0\n",
       "place_with_parent_names        0\n",
       "geonames_id                14414\n",
       "lat-lon                    36031\n",
       "lat                        36031\n",
       "lon                        36031\n",
       "dtype: int64"
      ]
     },
     "execution_count": 89,
     "metadata": {},
     "output_type": "execute_result"
    }
   ],
   "source": [
    "geo_nulos = geo_nulos.fillna(datos_belgrano_completo)\n",
    "geo_nulos.isnull().sum()"
   ]
  },
  {
   "cell_type": "markdown",
   "metadata": {},
   "source": [
    "### LIMPIEZA PALERMO"
   ]
  },
  {
   "cell_type": "code",
   "execution_count": 90,
   "metadata": {},
   "outputs": [],
   "source": [
    "mask_palermo = geo_nulos['place_name']== \"Palermo\"\n",
    "datos_palermo = geo_nulos.loc[mask_palermo, :]\n",
    "#datos_palermo.sort_values(by=\"geonames_id\").sample(10)"
   ]
  },
  {
   "cell_type": "code",
   "execution_count": 91,
   "metadata": {},
   "outputs": [],
   "source": [
    "#datos_palermo.isnull().sum()"
   ]
  },
  {
   "cell_type": "code",
   "execution_count": 92,
   "metadata": {},
   "outputs": [],
   "source": [
    "#display(datos_palermo.groupby(['geonames_id']).mean())"
   ]
  },
  {
   "cell_type": "code",
   "execution_count": 93,
   "metadata": {},
   "outputs": [],
   "source": [
    "values_3430234 = {\"geonames_id\":3430234.0, \"place_name\":\"Palermo\",\"place_with_parent_names\": \"|Argentina|Capital Federal|Palermo|\",\"lat-lon\" : \"-34.583105, -58.424693\", \"lat\": -34.583105, \"lon\": -58.424693}\n",
    "datos_palermo_completo = datos_palermo.fillna(values_3430234)\n",
    "#datos_palermo_completo.head()"
   ]
  },
  {
   "cell_type": "code",
   "execution_count": 94,
   "metadata": {},
   "outputs": [],
   "source": [
    "#datos_palermo_completo.isnull().sum()"
   ]
  },
  {
   "cell_type": "code",
   "execution_count": 95,
   "metadata": {},
   "outputs": [
    {
     "data": {
      "text/plain": [
       "place_name                     0\n",
       "place_with_parent_names        0\n",
       "geonames_id                14414\n",
       "lat-lon                    35232\n",
       "lat                        35232\n",
       "lon                        35232\n",
       "dtype: int64"
      ]
     },
     "execution_count": 95,
     "metadata": {},
     "output_type": "execute_result"
    }
   ],
   "source": [
    "geo_nulos = geo_nulos.fillna(datos_palermo_completo)\n",
    "geo_nulos.isnull().sum()"
   ]
  },
  {
   "cell_type": "markdown",
   "metadata": {},
   "source": [
    "### LIMPIEZA LA PLATA"
   ]
  },
  {
   "cell_type": "code",
   "execution_count": 96,
   "metadata": {},
   "outputs": [],
   "source": [
    "mask_la_plata = geo_nulos['place_name']== \"La Plata\"\n",
    "datos_la_plata = geo_nulos.loc[mask_la_plata, :]\n",
    "#datos_la_plata.sort_values(by=\"geonames_id\").sample(10)"
   ]
  },
  {
   "cell_type": "code",
   "execution_count": 97,
   "metadata": {},
   "outputs": [],
   "source": [
    "#datos_la_plata.isnull().sum()"
   ]
  },
  {
   "cell_type": "code",
   "execution_count": 98,
   "metadata": {},
   "outputs": [],
   "source": [
    "#display(datos_la_plata.groupby(['geonames_id']).mean())"
   ]
  },
  {
   "cell_type": "code",
   "execution_count": 99,
   "metadata": {},
   "outputs": [],
   "source": [
    "values_3432039 = {\"geonames_id\":3432039.0, \"place_name\":\"La Plata\",\"place_with_parent_names\": \"|Argentina|Bs.As. G.B.A. Zona Sur|La Plata|\",\"lat-lon\" : \"-34.924338, -57.966073\", \"lat\": -34.924338, \"lon\": -57.966073}\n",
    "datos_la_plata_completo = datos_la_plata.fillna(values_3432039)\n",
    "#datos_la_plata_completo.head()"
   ]
  },
  {
   "cell_type": "code",
   "execution_count": 100,
   "metadata": {},
   "outputs": [],
   "source": [
    "#datos_la_plata_completo.isnull().sum()"
   ]
  },
  {
   "cell_type": "code",
   "execution_count": 101,
   "metadata": {},
   "outputs": [
    {
     "data": {
      "text/plain": [
       "place_name                     0\n",
       "place_with_parent_names        0\n",
       "geonames_id                14414\n",
       "lat-lon                    33763\n",
       "lat                        33763\n",
       "lon                        33763\n",
       "dtype: int64"
      ]
     },
     "execution_count": 101,
     "metadata": {},
     "output_type": "execute_result"
    }
   ],
   "source": [
    "geo_nulos = geo_nulos.fillna(datos_la_plata_completo)\n",
    "geo_nulos.isnull().sum()"
   ]
  },
  {
   "cell_type": "markdown",
   "metadata": {},
   "source": [
    "### LIMPIEZA CABALLITO"
   ]
  },
  {
   "cell_type": "code",
   "execution_count": 102,
   "metadata": {},
   "outputs": [],
   "source": [
    "mask_caballito = geo_nulos['place_name']== \"Caballito\"\n",
    "datos_caballito = geo_nulos.loc[mask_caballito, :]\n",
    "#datos_caballito.sort_values(by=\"geonames_id\").sample(10)"
   ]
  },
  {
   "cell_type": "code",
   "execution_count": 103,
   "metadata": {},
   "outputs": [],
   "source": [
    "#datos_caballito.isnull().sum()"
   ]
  },
  {
   "cell_type": "code",
   "execution_count": 104,
   "metadata": {},
   "outputs": [],
   "source": [
    "#display(datos_caballito.groupby(['geonames_id']).mean())"
   ]
  },
  {
   "cell_type": "code",
   "execution_count": 105,
   "metadata": {},
   "outputs": [],
   "source": [
    "values_3435874 = {\"geonames_id\":3435874.0, \"place_name\":\"Caballito\",\"place_with_parent_names\": \"|Argentina|Capital Federal|Caballito|\",\"lat-lon\" : \"-34.618748, -58.442827\", \"lat\": -34.618748, \"lon\": -58.442827}\n",
    "datos_caballito_completo = datos_caballito.fillna(values_3435874)\n",
    "#datos_caballito_completo.head()"
   ]
  },
  {
   "cell_type": "code",
   "execution_count": 106,
   "metadata": {},
   "outputs": [],
   "source": [
    "#datos_caballito_completo.isnull().sum()"
   ]
  },
  {
   "cell_type": "code",
   "execution_count": 107,
   "metadata": {},
   "outputs": [
    {
     "data": {
      "text/plain": [
       "place_name                     0\n",
       "place_with_parent_names        0\n",
       "geonames_id                14414\n",
       "lat-lon                    33317\n",
       "lat                        33317\n",
       "lon                        33317\n",
       "dtype: int64"
      ]
     },
     "execution_count": 107,
     "metadata": {},
     "output_type": "execute_result"
    }
   ],
   "source": [
    "geo_nulos = geo_nulos.fillna(datos_caballito_completo)\n",
    "geo_nulos.isnull().sum()"
   ]
  },
  {
   "cell_type": "markdown",
   "metadata": {},
   "source": [
    "### LIMPIEZA PILAR"
   ]
  },
  {
   "cell_type": "code",
   "execution_count": 108,
   "metadata": {},
   "outputs": [],
   "source": [
    "mask_pilar = geo_nulos['place_name']== \"Pilar\"\n",
    "datos_pilar = geo_nulos.loc[mask_pilar, :]\n",
    "#datos_pilar.sort_values(by=\"geonames_id\").sample(10)"
   ]
  },
  {
   "cell_type": "code",
   "execution_count": 109,
   "metadata": {},
   "outputs": [],
   "source": [
    "#datos_pilar.isnull().sum()"
   ]
  },
  {
   "cell_type": "code",
   "execution_count": 110,
   "metadata": {},
   "outputs": [],
   "source": [
    "#display(datos_pilar.groupby(['geonames_id']).mean())"
   ]
  },
  {
   "cell_type": "code",
   "execution_count": 111,
   "metadata": {},
   "outputs": [],
   "source": [
    "#display(datos_pilar.groupby(['geonames_id']).count())"
   ]
  },
  {
   "cell_type": "code",
   "execution_count": 112,
   "metadata": {},
   "outputs": [],
   "source": [
    "values_3429979 = {\"geonames_id\":3429979.0, \"place_name\":\"Pilar\",\"place_with_parent_names\": \"|Argentina|Bs.As. G.B.A. Zona Norte|Pilar|\",\"lat-lon\" : \"-34.448529, -58.868267\", \"lat\": -34.448529, \"lon\": -58.868267}\n",
    "datos_pilar_completo = datos_pilar.fillna(values_3429979)\n",
    "#datos_pilar_completo.head()"
   ]
  },
  {
   "cell_type": "code",
   "execution_count": 113,
   "metadata": {},
   "outputs": [],
   "source": [
    "#datos_pilar_completo.isnull().sum()"
   ]
  },
  {
   "cell_type": "code",
   "execution_count": 114,
   "metadata": {},
   "outputs": [
    {
     "data": {
      "text/plain": [
       "place_name                     0\n",
       "place_with_parent_names        0\n",
       "geonames_id                14046\n",
       "lat-lon                    32059\n",
       "lat                        32059\n",
       "lon                        32059\n",
       "dtype: int64"
      ]
     },
     "execution_count": 114,
     "metadata": {},
     "output_type": "execute_result"
    }
   ],
   "source": [
    "geo_nulos = geo_nulos.fillna(datos_pilar_completo)\n",
    "geo_nulos.isnull().sum()"
   ]
  },
  {
   "cell_type": "markdown",
   "metadata": {},
   "source": [
    "### LIMPIEZA VILLA URQUIZA"
   ]
  },
  {
   "cell_type": "code",
   "execution_count": 115,
   "metadata": {},
   "outputs": [],
   "source": [
    "mask_villa_urquiza = geo_nulos['place_name']== \"Villa Urquiza\"\n",
    "datos_villa_urquiza = geo_nulos.loc[mask_villa_urquiza, :]\n",
    "#datos_villa_urquiza.sort_values(by=\"geonames_id\").sample(10)"
   ]
  },
  {
   "cell_type": "code",
   "execution_count": 116,
   "metadata": {},
   "outputs": [],
   "source": [
    "#datos_villa_urquiza.isnull().sum()"
   ]
  },
  {
   "cell_type": "markdown",
   "metadata": {},
   "source": [
    "<!--     original\tbajado\tsaldo\n",
    "geo: 18717 - 4648 - 14069/\n",
    "lat-lon: 51550 - 19491 - 32059/\n",
    "lat: 51550 - 19491 - 32059/\n",
    "lon: 51550 - 19491 - 32059 -->"
   ]
  },
  {
   "cell_type": "code",
   "execution_count": 117,
   "metadata": {},
   "outputs": [],
   "source": [
    "#display(datos_villa_urquiza.groupby(['geonames_id']).mean())"
   ]
  },
  {
   "cell_type": "code",
   "execution_count": 118,
   "metadata": {},
   "outputs": [],
   "source": [
    "values_3433775 = {\"geonames_id\":3433775.0, \"place_name\":\"Villa Urquiza\",\"place_with_parent_names\": \"|Argentina|Capital Federal|Villa Urquiza|\",\"lat-lon\" : \"-34.573057, -58.483033\", \"lat\": -34.573057, \"lon\": -58.483033}\n",
    "datos_villa_urquiza_completo = datos_villa_urquiza.fillna(values_3429979)\n",
    "#datos_villa_urquiza_completo.head()"
   ]
  },
  {
   "cell_type": "code",
   "execution_count": 119,
   "metadata": {},
   "outputs": [],
   "source": [
    "#datos_villa_urquiza_completo.isnull().sum()"
   ]
  },
  {
   "cell_type": "code",
   "execution_count": 120,
   "metadata": {},
   "outputs": [
    {
     "data": {
      "text/plain": [
       "place_name                     0\n",
       "place_with_parent_names        0\n",
       "geonames_id                14046\n",
       "lat-lon                    31515\n",
       "lat                        31515\n",
       "lon                        31515\n",
       "dtype: int64"
      ]
     },
     "execution_count": 120,
     "metadata": {},
     "output_type": "execute_result"
    }
   ],
   "source": [
    "geo_nulos = geo_nulos.fillna(datos_villa_urquiza_completo)\n",
    "geo_nulos.isnull().sum()"
   ]
  },
  {
   "cell_type": "markdown",
   "metadata": {},
   "source": [
    "### LIMPIEZA OLIVOS"
   ]
  },
  {
   "cell_type": "code",
   "execution_count": 121,
   "metadata": {},
   "outputs": [],
   "source": [
    "mask_olivos = geo_nulos['place_name']== \"Olivos\"\n",
    "datos_olivos = geo_nulos.loc[mask_olivos, :]\n",
    "#datos_olivos.sort_values(by=\"geonames_id\").sample(10)"
   ]
  },
  {
   "cell_type": "code",
   "execution_count": 122,
   "metadata": {},
   "outputs": [],
   "source": [
    "#datos_olivos.isnull().sum()"
   ]
  },
  {
   "cell_type": "code",
   "execution_count": 123,
   "metadata": {},
   "outputs": [],
   "source": [
    "#display(datos_olivos.groupby(['geonames_id']).mean())"
   ]
  },
  {
   "cell_type": "code",
   "execution_count": 124,
   "metadata": {},
   "outputs": [],
   "source": [
    "values_3430310 = {\"geonames_id\":3430310.0, \"place_name\":\"Olivos\",\"place_with_parent_names\": \"|Argentina|Bs.As. G.B.A. Zona Norte|Vicente Ló...\",\"lat-lon\" : \"-34.510486, -58.490124\", \"lat\": -34.510486, \"lon\": -58.490124}\n",
    "datos_olivos_completo = datos_olivos.fillna(values_3429979)\n",
    "#datos_olivos_completo.head()"
   ]
  },
  {
   "cell_type": "code",
   "execution_count": 125,
   "metadata": {},
   "outputs": [],
   "source": [
    "#datos_olivos_completo.isnull().sum()"
   ]
  },
  {
   "cell_type": "code",
   "execution_count": 126,
   "metadata": {},
   "outputs": [
    {
     "data": {
      "text/plain": [
       "place_name                     0\n",
       "place_with_parent_names        0\n",
       "geonames_id                14046\n",
       "lat-lon                    30399\n",
       "lat                        30399\n",
       "lon                        30399\n",
       "dtype: int64"
      ]
     },
     "execution_count": 126,
     "metadata": {},
     "output_type": "execute_result"
    }
   ],
   "source": [
    "geo_nulos = geo_nulos.fillna(datos_olivos_completo)\n",
    "geo_nulos.isnull().sum()"
   ]
  },
  {
   "cell_type": "markdown",
   "metadata": {},
   "source": [
    "### LIMPIEZA RECOLETA"
   ]
  },
  {
   "cell_type": "code",
   "execution_count": 127,
   "metadata": {},
   "outputs": [],
   "source": [
    "mask_recoleta = geo_nulos['place_name']== \"Recoleta\"\n",
    "datos_recoleta = geo_nulos.loc[mask_recoleta, :]\n",
    "#datos_recoleta.sort_values(by=\"geonames_id\").sample(10)"
   ]
  },
  {
   "cell_type": "code",
   "execution_count": 128,
   "metadata": {},
   "outputs": [],
   "source": [
    "#datos_recoleta.isnull().sum()"
   ]
  },
  {
   "cell_type": "code",
   "execution_count": 129,
   "metadata": {},
   "outputs": [],
   "source": [
    "#display(datos_recoleta.groupby(['geonames_id']).mean())"
   ]
  },
  {
   "cell_type": "code",
   "execution_count": 130,
   "metadata": {},
   "outputs": [],
   "source": [
    "values_3429595 = {\"geonames_id\":3429595.0, \"place_name\":\"Recoleta\",\"place_with_parent_names\": \"|Argentina|Capital Federal|Recoleta|\",\"lat-lon\" : \"-34.592, -58.395299\", \"lat\": -34.592, \"lon\": -58.395299}\n",
    "datos_recoleta_completo = datos_recoleta.fillna(values_3429595)\n",
    "#datos_recoleta_completo.head()"
   ]
  },
  {
   "cell_type": "code",
   "execution_count": 131,
   "metadata": {},
   "outputs": [],
   "source": [
    "#datos_recoleta_completo.isnull().sum()"
   ]
  },
  {
   "cell_type": "code",
   "execution_count": 132,
   "metadata": {},
   "outputs": [
    {
     "data": {
      "text/plain": [
       "place_name                     0\n",
       "place_with_parent_names        0\n",
       "geonames_id                14046\n",
       "lat-lon                    30130\n",
       "lat                        30130\n",
       "lon                        30130\n",
       "dtype: int64"
      ]
     },
     "execution_count": 132,
     "metadata": {},
     "output_type": "execute_result"
    }
   ],
   "source": [
    "geo_nulos = geo_nulos.fillna(datos_recoleta_completo)\n",
    "geo_nulos.isnull().sum()"
   ]
  },
  {
   "cell_type": "markdown",
   "metadata": {},
   "source": [
    "### LIMPIEZA LOMAS DE ZAMORA"
   ]
  },
  {
   "cell_type": "code",
   "execution_count": 133,
   "metadata": {},
   "outputs": [],
   "source": [
    "mask_lomas_de_zamora = geo_nulos['place_name']== \"Lomas de Zamora\"\n",
    "datos_lomas_de_zamora = geo_nulos.loc[mask_lomas_de_zamora, :]\n",
    "#datos_lomas_de_zamora.sort_values(by=\"geonames_id\").sample(10)"
   ]
  },
  {
   "cell_type": "code",
   "execution_count": 134,
   "metadata": {},
   "outputs": [],
   "source": [
    "#datos_lomas_de_zamora.isnull().sum()"
   ]
  },
  {
   "cell_type": "code",
   "execution_count": 135,
   "metadata": {},
   "outputs": [],
   "source": [
    "#display(datos_lomas_de_zamora.groupby(['geonames_id']).mean())"
   ]
  },
  {
   "cell_type": "code",
   "execution_count": 136,
   "metadata": {},
   "outputs": [],
   "source": [
    "values_3431270 = {\"geonames_id\":3431270.0, \"place_name\":\"Lomas de Zamora\",\"place_with_parent_names\": \"|Argentina|Bs.As. G.B.A. Zona Sur|Lomas de Zam...\",\"lat-lon\" : \"-34.76043, -58.412512\", \"lat\": -34.76043, \"lon\": -58.412512}\n",
    "datos_lomas_de_zamora_completo = datos_lomas_de_zamora.fillna(values_3431270)\n",
    "#datos_lomas_de_zamora_completo.head()"
   ]
  },
  {
   "cell_type": "code",
   "execution_count": 137,
   "metadata": {},
   "outputs": [],
   "source": [
    "#datos_lomas_de_zamora_completo.isnull().sum()"
   ]
  },
  {
   "cell_type": "code",
   "execution_count": 138,
   "metadata": {},
   "outputs": [
    {
     "data": {
      "text/plain": [
       "place_name                     0\n",
       "place_with_parent_names        0\n",
       "geonames_id                12793\n",
       "lat-lon                    29136\n",
       "lat                        29136\n",
       "lon                        29136\n",
       "dtype: int64"
      ]
     },
     "execution_count": 138,
     "metadata": {},
     "output_type": "execute_result"
    }
   ],
   "source": [
    "geo_nulos = geo_nulos.fillna(datos_lomas_de_zamora_completo)\n",
    "geo_nulos.isnull().sum()"
   ]
  },
  {
   "cell_type": "markdown",
   "metadata": {},
   "source": [
    "### LIMPIEZA FLORES"
   ]
  },
  {
   "cell_type": "code",
   "execution_count": 139,
   "metadata": {},
   "outputs": [],
   "source": [
    "mask_flores = geo_nulos['place_name']== \"Flores\"\n",
    "datos_flores = geo_nulos.loc[mask_flores, :]\n",
    "#datos_flores.sort_values(by=\"geonames_id\").sample(10)"
   ]
  },
  {
   "cell_type": "code",
   "execution_count": 140,
   "metadata": {},
   "outputs": [],
   "source": [
    "#datos_flores.isnull().sum()"
   ]
  },
  {
   "cell_type": "code",
   "execution_count": 141,
   "metadata": {},
   "outputs": [],
   "source": [
    "#display(datos_flores.groupby(['geonames_id']).mean())"
   ]
  },
  {
   "cell_type": "code",
   "execution_count": 142,
   "metadata": {},
   "outputs": [],
   "source": [
    "values_3433918 = {\"geonames_id\":3433918.0, \"place_name\":\"Flores\",\"place_with_parent_names\": \"|Argentina|Capital Federal|Flores|\",\"lat-lon\" : \"-34.628981, -58.46387\", \"lat\": -34.628981, \"lon\": -58.46387}\n",
    "datos_flores_completo = datos_flores.fillna(values_3431270)\n",
    "#datos_flores_completo.head()"
   ]
  },
  {
   "cell_type": "code",
   "execution_count": 143,
   "metadata": {},
   "outputs": [
    {
     "data": {
      "text/plain": [
       "place_name                     0\n",
       "place_with_parent_names        0\n",
       "geonames_id                12793\n",
       "lat-lon                    28981\n",
       "lat                        28981\n",
       "lon                        28981\n",
       "dtype: int64"
      ]
     },
     "execution_count": 143,
     "metadata": {},
     "output_type": "execute_result"
    }
   ],
   "source": [
    "geo_nulos = geo_nulos.fillna(datos_flores_completo)\n",
    "geo_nulos.isnull().sum()"
   ]
  },
  {
   "cell_type": "markdown",
   "metadata": {},
   "source": [
    "### LIMPIEZA ITUZAINGO"
   ]
  },
  {
   "cell_type": "code",
   "execution_count": 144,
   "metadata": {},
   "outputs": [],
   "source": [
    "mask_ituzaingo = geo_nulos['place_name']== \"Ituzaingó\"\n",
    "datos_ituzaingo = geo_nulos.loc[mask_ituzaingo, :]\n",
    "#datos_ituzaingo.sort_values(by=\"geonames_id\").sample(10)"
   ]
  },
  {
   "cell_type": "code",
   "execution_count": 145,
   "metadata": {},
   "outputs": [],
   "source": [
    "#datos_ituzaingo.isnull().sum()"
   ]
  },
  {
   "cell_type": "code",
   "execution_count": 146,
   "metadata": {},
   "outputs": [],
   "source": [
    "#display(datos_ituzaingo.groupby(['geonames_id']).mean())"
   ]
  },
  {
   "cell_type": "code",
   "execution_count": 147,
   "metadata": {},
   "outputs": [],
   "source": [
    "geo_mask_3 = datos_ituzaingo.place_with_parent_names == \"|Argentina|Corrientes|Ituzaingó|\"\n",
    "geo_mask_4 = datos_ituzaingo.place_with_parent_names == \"|Argentina|Bs.As. G.B.A. Zona Oeste|Ituzaingó|\"\n",
    "\n",
    "datos_ituzaingo_3433357 = datos_ituzaingo.loc[geo_mask_3, :]\n",
    "values_3433357 = {\"geonames_id\":3433357.0, \"place_name\":\"Ituzaingó\",\"place_with_parent_names\": \"|Argentina|Corrientes|Ituzaingó|\", \"lat-lon\" : \"-27.573083, -56.705464\", \"lat\": -27.573083, \"lon\": -56.705464}\n",
    "\n",
    "\n",
    "datos_ituzaingo_3433359 = datos_ituzaingo.loc[geo_mask_4, :]\n",
    "values_3860259 = {\"geonames_id\":3860259.0, \"place_name\":\"Ituzaingó\",\"place_with_parent_names\": \"|Argentina|Bs.As. G.B.A. Zona Oeste|Ituzaingó||\",\"lat-lon\" : \"-34.652894, -58.673752\", \"lat\": -34.652894, \"lon\": -58.673752}\n",
    "\n",
    "\n",
    "datos_ituzaingo_33433357 = datos_ituzaingo.fillna(values_3433357)\n",
    "datos_ituzaingo_completo = datos_ituzaingo.fillna(values_3860259)\n",
    "#datos_ituzaingo_completo.head()"
   ]
  },
  {
   "cell_type": "code",
   "execution_count": 148,
   "metadata": {},
   "outputs": [],
   "source": [
    "#datos_ituzaingo_completo.isnull().sum()"
   ]
  },
  {
   "cell_type": "code",
   "execution_count": 149,
   "metadata": {},
   "outputs": [
    {
     "data": {
      "text/plain": [
       "place_name                     0\n",
       "place_with_parent_names        0\n",
       "geonames_id                12793\n",
       "lat-lon                    28182\n",
       "lat                        28182\n",
       "lon                        28182\n",
       "dtype: int64"
      ]
     },
     "execution_count": 149,
     "metadata": {},
     "output_type": "execute_result"
    }
   ],
   "source": [
    "geo_nulos = geo_nulos.fillna(datos_ituzaingo_completo)\n",
    "geo_nulos.isnull().sum()"
   ]
  },
  {
   "cell_type": "markdown",
   "metadata": {},
   "source": [
    "### LIMPIEZA VILLA CRESPO"
   ]
  },
  {
   "cell_type": "code",
   "execution_count": 150,
   "metadata": {},
   "outputs": [],
   "source": [
    "mask_villa_crespo = geo_nulos['place_name']== \"Villa Crespo\"\n",
    "datos_villa_crespo = geo_nulos.loc[mask_villa_crespo, :]\n",
    "#datos_villa_crespo.sort_values(by=\"geonames_id\").sample(10)"
   ]
  },
  {
   "cell_type": "code",
   "execution_count": 151,
   "metadata": {},
   "outputs": [],
   "source": [
    "#datos_villa_crespo.isnull().sum()"
   ]
  },
  {
   "cell_type": "code",
   "execution_count": 152,
   "metadata": {},
   "outputs": [],
   "source": [
    "#display(datos_villa_crespo.groupby(['geonames_id']).mean())"
   ]
  },
  {
   "cell_type": "code",
   "execution_count": 153,
   "metadata": {},
   "outputs": [],
   "source": [
    "values_3427458 = {\"geonames_id\":3427458.0, \"place_name\":\"Villa Crespo\",\"place_with_parent_names\": \"|Argentina|Capital Federal|Villa Crespo|\",\"lat-lon\" : \"-34.597889, -58.439293\", \"lat\": -34.597889, \"lon\": -58.439293}\n",
    "datos_villa_crespo_completo = datos_villa_crespo.fillna(values_3427458)\n",
    "#datos_villa_crespo_completo.head()"
   ]
  },
  {
   "cell_type": "code",
   "execution_count": 154,
   "metadata": {},
   "outputs": [
    {
     "data": {
      "text/plain": [
       "place_name                     0\n",
       "place_with_parent_names        0\n",
       "geonames_id                12793\n",
       "lat-lon                    27792\n",
       "lat                        27792\n",
       "lon                        27792\n",
       "dtype: int64"
      ]
     },
     "execution_count": 154,
     "metadata": {},
     "output_type": "execute_result"
    }
   ],
   "source": [
    "geo_nulos = geo_nulos.fillna(datos_villa_crespo_completo)\n",
    "geo_nulos.isnull().sum()"
   ]
  },
  {
   "cell_type": "markdown",
   "metadata": {},
   "source": [
    "### LIMPIEZA CAPITAL FEDEREAL"
   ]
  },
  {
   "cell_type": "code",
   "execution_count": 155,
   "metadata": {},
   "outputs": [],
   "source": [
    "mask_capital_federal = geo_nulos['place_name']== \"Capital Federal\"\n",
    "datos_capital_federal = geo_nulos.loc[mask_capital_federal, :]\n",
    "#datos_capital_federal.sort_values(by=\"geonames_id\").sample(10)"
   ]
  },
  {
   "cell_type": "code",
   "execution_count": 156,
   "metadata": {},
   "outputs": [],
   "source": [
    "#datos_capital_federal.isnull().sum()"
   ]
  },
  {
   "cell_type": "code",
   "execution_count": 157,
   "metadata": {},
   "outputs": [],
   "source": [
    "#display(datos_capital_federal.groupby(['geonames_id']).mean())"
   ]
  },
  {
   "cell_type": "code",
   "execution_count": 158,
   "metadata": {},
   "outputs": [],
   "source": [
    "values_3433955 = {\"geonames_id\":3433955.0, \"place_name\":\"Capital Federal\",\"place_with_parent_names\": \"|Argentina|Capital Federal|\",\"lat-lon\" : \"-34.626709, -58.435882\", \"lat\": -34.626709, \"lon\": -58.435882}\n",
    "datos_capital_federal_completo = datos_capital_federal.fillna(values_3433955)\n",
    "#datos_capital_federal_completo.head()"
   ]
  },
  {
   "cell_type": "code",
   "execution_count": 159,
   "metadata": {},
   "outputs": [
    {
     "data": {
      "text/plain": [
       "place_name                     0\n",
       "place_with_parent_names        0\n",
       "geonames_id                12793\n",
       "lat-lon                    27097\n",
       "lat                        27097\n",
       "lon                        27097\n",
       "dtype: int64"
      ]
     },
     "execution_count": 159,
     "metadata": {},
     "output_type": "execute_result"
    }
   ],
   "source": [
    "geo_nulos = geo_nulos.fillna(datos_capital_federal_completo)\n",
    "geo_nulos.isnull().sum()"
   ]
  },
  {
   "cell_type": "markdown",
   "metadata": {},
   "source": [
    "### LIMPIEZA SAN TELMO"
   ]
  },
  {
   "cell_type": "code",
   "execution_count": 160,
   "metadata": {},
   "outputs": [],
   "source": [
    "mask_san_telmo = geo_nulos['place_name']== \"San Telmo\"\n",
    "datos_san_telmo = geo_nulos.loc[mask_san_telmo, :]\n",
    "#datos_san_telmo.sort_values(by=\"geonames_id\").sample(10)"
   ]
  },
  {
   "cell_type": "code",
   "execution_count": 161,
   "metadata": {},
   "outputs": [],
   "source": [
    "#datos_san_telmo.isnull().sum()"
   ]
  },
  {
   "cell_type": "code",
   "execution_count": 162,
   "metadata": {},
   "outputs": [],
   "source": [
    "#display(datos_san_telmo.groupby(['geonames_id']).mean())"
   ]
  },
  {
   "cell_type": "code",
   "execution_count": 163,
   "metadata": {},
   "outputs": [],
   "source": [
    "values_3428113 = {\"geonames_id\":3428113.0, \"place_name\":\"San Telmo\",\"place_with_parent_names\": \"|Argentina|Capital Federal|San Telmo|\",\"lat-lon\" : \"-34.620805, -58.376068\", \"lat\": -34.620805, \"lon\": \t-58.376068}\n",
    "datos_san_telmo_completo = datos_san_telmo.fillna(values_3428113)\n",
    "#datos_san_telmo_completo.head()"
   ]
  },
  {
   "cell_type": "code",
   "execution_count": 164,
   "metadata": {},
   "outputs": [
    {
     "data": {
      "text/plain": [
       "place_name                     0\n",
       "place_with_parent_names        0\n",
       "geonames_id                12793\n",
       "lat-lon                    26635\n",
       "lat                        26635\n",
       "lon                        26635\n",
       "dtype: int64"
      ]
     },
     "execution_count": 164,
     "metadata": {},
     "output_type": "execute_result"
    }
   ],
   "source": [
    "geo_nulos = geo_nulos.fillna(datos_san_telmo_completo)\n",
    "geo_nulos.isnull().sum()"
   ]
  },
  {
   "cell_type": "markdown",
   "metadata": {},
   "source": [
    "### LIMPIEZA MORON"
   ]
  },
  {
   "cell_type": "code",
   "execution_count": 165,
   "metadata": {},
   "outputs": [],
   "source": [
    "mask_moron = geo_nulos['place_name']== \"Morón\"\n",
    "datos_moron = geo_nulos.loc[mask_moron, :]\n",
    "#datos_moron.sort_values(by=\"geonames_id\").sample(10)"
   ]
  },
  {
   "cell_type": "code",
   "execution_count": 166,
   "metadata": {},
   "outputs": [],
   "source": [
    "#datos_moron.isnull().sum()"
   ]
  },
  {
   "cell_type": "code",
   "execution_count": 167,
   "metadata": {},
   "outputs": [],
   "source": [
    "#display(datos_moron.groupby(['geonames_id']).mean())"
   ]
  },
  {
   "cell_type": "code",
   "execution_count": 168,
   "metadata": {},
   "outputs": [],
   "source": [
    "values_3430544 = {\"geonames_id\":3430544.0, \"place_name\":\"Morón\",\"place_with_parent_names\": \"|Argentina|Bs.As. G.B.A. Zona Oeste|Morón|\",\"lat-lon\" : \"-34.654915, -58.62302\", \"lat\": -34.654915, \"lon\": -58.62302}\n",
    "datos_moron_completo = datos_moron.fillna(values_3430544)\n",
    "#datos_moron_completo.head()"
   ]
  },
  {
   "cell_type": "code",
   "execution_count": 169,
   "metadata": {},
   "outputs": [
    {
     "data": {
      "text/plain": [
       "place_name                     0\n",
       "place_with_parent_names        0\n",
       "geonames_id                12793\n",
       "lat-lon                    25944\n",
       "lat                        25944\n",
       "lon                        25944\n",
       "dtype: int64"
      ]
     },
     "execution_count": 169,
     "metadata": {},
     "output_type": "execute_result"
    }
   ],
   "source": [
    "geo_nulos = geo_nulos.fillna(datos_moron_completo)\n",
    "geo_nulos.isnull().sum()"
   ]
  },
  {
   "cell_type": "markdown",
   "metadata": {},
   "source": [
    "### LIMPIEZA ALMAGRO"
   ]
  },
  {
   "cell_type": "code",
   "execution_count": 170,
   "metadata": {},
   "outputs": [],
   "source": [
    "mask_almagro = geo_nulos['place_name']== \"Almagro\"\n",
    "datos_almagro = geo_nulos.loc[mask_almagro, :]\n",
    "#datos_almagro.sort_values(by=\"geonames_id\").sample(10)"
   ]
  },
  {
   "cell_type": "code",
   "execution_count": 171,
   "metadata": {},
   "outputs": [],
   "source": [
    "#datos_almagro.isnull().sum()"
   ]
  },
  {
   "cell_type": "code",
   "execution_count": 172,
   "metadata": {},
   "outputs": [],
   "source": [
    "#display(datos_almagro.groupby(['geonames_id']).mean())"
   ]
  },
  {
   "cell_type": "code",
   "execution_count": 173,
   "metadata": {},
   "outputs": [],
   "source": [
    "values_3436397 = {\"geonames_id\":3436397.0, \"place_name\":\"Almagro\",\"place_with_parent_names\": \"|Argentina|Capital Federal|Almagro|\",\"lat-lon\" : \"-34.608187, -58.421223\", \"lat\": -34.608187, \"lon\": -58.421223}\n",
    "datos_almagro_completo = datos_almagro.fillna(values_3436397)\n",
    "#datos_almagro_completo.head()"
   ]
  },
  {
   "cell_type": "code",
   "execution_count": 174,
   "metadata": {},
   "outputs": [
    {
     "data": {
      "text/plain": [
       "place_name                     0\n",
       "place_with_parent_names        0\n",
       "geonames_id                12793\n",
       "lat-lon                    25741\n",
       "lat                        25741\n",
       "lon                        25741\n",
       "dtype: int64"
      ]
     },
     "execution_count": 174,
     "metadata": {},
     "output_type": "execute_result"
    }
   ],
   "source": [
    "geo_nulos = geo_nulos.fillna(datos_almagro_completo)\n",
    "geo_nulos.isnull().sum()"
   ]
  },
  {
   "cell_type": "markdown",
   "metadata": {},
   "source": [
    "### LIMPIEZA BARRIO NORTE"
   ]
  },
  {
   "cell_type": "code",
   "execution_count": 175,
   "metadata": {},
   "outputs": [],
   "source": [
    "mask_barrio_norte = geo_nulos['place_name']== \"Barrio Norte\"\n",
    "datos_barrio_norte = geo_nulos.loc[mask_barrio_norte, :]\n",
    "#datos_barrio_norte.sort_values(by=\"geonames_id\").sample(10)"
   ]
  },
  {
   "cell_type": "code",
   "execution_count": 176,
   "metadata": {},
   "outputs": [],
   "source": [
    "#datos_barrio_norte.isnull().sum()"
   ]
  },
  {
   "cell_type": "code",
   "execution_count": 177,
   "metadata": {},
   "outputs": [],
   "source": [
    "#display(datos_barrio_norte.groupby(['geonames_id']).mean())"
   ]
  },
  {
   "cell_type": "code",
   "execution_count": 178,
   "metadata": {},
   "outputs": [],
   "source": [
    "values_3436109 = {\"geonames_id\":3436109.0, \"place_name\":\"Barrio Norte\",\"place_with_parent_names\": \"\t|Argentina|Capital Federal|Barrio Norte|\",\"lat-lon\" : \"-34.593104, -58.400381\", \"lat\": -34.593104, \"lon\": -58.400381}\n",
    "datos_barrio_norte_completo = datos_barrio_norte.fillna(values_3436109)\n",
    "#datos_barrio_norte_completo.head()"
   ]
  },
  {
   "cell_type": "code",
   "execution_count": 179,
   "metadata": {},
   "outputs": [
    {
     "data": {
      "text/plain": [
       "place_name                     0\n",
       "place_with_parent_names        0\n",
       "geonames_id                12793\n",
       "lat-lon                    25513\n",
       "lat                        25513\n",
       "lon                        25513\n",
       "dtype: int64"
      ]
     },
     "execution_count": 179,
     "metadata": {},
     "output_type": "execute_result"
    }
   ],
   "source": [
    "geo_nulos = geo_nulos.fillna(datos_barrio_norte_completo)\n",
    "geo_nulos.isnull().sum()"
   ]
  },
  {
   "cell_type": "markdown",
   "metadata": {},
   "source": [
    "### LIMPIEZA RAMOS MEJIA"
   ]
  },
  {
   "cell_type": "code",
   "execution_count": 180,
   "metadata": {},
   "outputs": [],
   "source": [
    "mask_ramos_mejia = geo_nulos['place_name']== \"Ramos Mejía\"\n",
    "datos_ramos_mejia = geo_nulos.loc[mask_ramos_mejia, :]\n",
    "#datos_ramos_mejia.sort_values(by=\"geonames_id\").sample(10)"
   ]
  },
  {
   "cell_type": "code",
   "execution_count": 181,
   "metadata": {},
   "outputs": [],
   "source": [
    "#datos_ramos_mejia.isnull().sum()"
   ]
  },
  {
   "cell_type": "code",
   "execution_count": 182,
   "metadata": {},
   "outputs": [],
   "source": [
    "#display(datos_ramos_mejia.groupby(['geonames_id']).mean())"
   ]
  },
  {
   "cell_type": "code",
   "execution_count": 183,
   "metadata": {},
   "outputs": [],
   "source": [
    "values_3429617 = {\"geonames_id\":3429617.0, \"place_name\":\"Ramos Mejía\",\"place_with_parent_names\": \"|Argentina|Bs.As. G.B.A. Zona Oeste|La Matanza...\",\"lat-lon\" : \"-34.648363, -58.562762\", \"lat\": -34.648363, \"lon\": -58.562762}\n",
    "datos_ramos_mejia_completo = datos_ramos_mejia.fillna(values_3429617)\n",
    "#datos_barrio_norte_completo.head()"
   ]
  },
  {
   "cell_type": "code",
   "execution_count": 184,
   "metadata": {},
   "outputs": [
    {
     "data": {
      "text/plain": [
       "place_name                     0\n",
       "place_with_parent_names        0\n",
       "geonames_id                12793\n",
       "lat-lon                    24850\n",
       "lat                        24850\n",
       "lon                        24850\n",
       "dtype: int64"
      ]
     },
     "execution_count": 184,
     "metadata": {},
     "output_type": "execute_result"
    }
   ],
   "source": [
    "geo_nulos = geo_nulos.fillna(datos_ramos_mejia_completo)\n",
    "geo_nulos.isnull().sum()"
   ]
  },
  {
   "cell_type": "markdown",
   "metadata": {},
   "source": [
    "### LIMPIEZA MARTINEZ"
   ]
  },
  {
   "cell_type": "code",
   "execution_count": 185,
   "metadata": {},
   "outputs": [],
   "source": [
    "mask_martinez = geo_nulos['place_name']== \"Martínez\"\n",
    "datos_martinez = geo_nulos.loc[mask_martinez, :]\n",
    "#datos_martinez.sort_values(by=\"geonames_id\").sample(10)"
   ]
  },
  {
   "cell_type": "code",
   "execution_count": 186,
   "metadata": {},
   "outputs": [],
   "source": [
    "#datos_martinez.isnull().sum()"
   ]
  },
  {
   "cell_type": "code",
   "execution_count": 187,
   "metadata": {},
   "outputs": [],
   "source": [
    "#display(datos_martinez.groupby(['geonames_id']).mean())"
   ]
  },
  {
   "cell_type": "code",
   "execution_count": 188,
   "metadata": {},
   "outputs": [],
   "source": [
    "values_3430813 = {\"geonames_id\":3430813.0, \"place_name\":\"Martínez\",\"place_with_parent_names\": \"|Argentina|Bs.As. G.B.A. Zona Norte|San Isidro...\",\"lat-lon\" : \"-34.492594, -58.506898\", \"lat\": \t-34.492594, \"lon\": -58.506898}\n",
    "datos_martinez_completo = datos_martinez.fillna(values_3430813)\n",
    "#datos_martinez_completo.head()"
   ]
  },
  {
   "cell_type": "code",
   "execution_count": 189,
   "metadata": {},
   "outputs": [
    {
     "data": {
      "text/plain": [
       "place_name                     0\n",
       "place_with_parent_names        0\n",
       "geonames_id                12793\n",
       "lat-lon                    24017\n",
       "lat                        24017\n",
       "lon                        24017\n",
       "dtype: int64"
      ]
     },
     "execution_count": 189,
     "metadata": {},
     "output_type": "execute_result"
    }
   ],
   "source": [
    "geo_nulos = geo_nulos.fillna(datos_martinez_completo)\n",
    "geo_nulos.isnull().sum()"
   ]
  },
  {
   "cell_type": "markdown",
   "metadata": {},
   "source": [
    "### LIMPIEZA LANUS"
   ]
  },
  {
   "cell_type": "code",
   "execution_count": 190,
   "metadata": {},
   "outputs": [],
   "source": [
    "mask_lanus = geo_nulos['place_name']== \"Lanús\"\n",
    "datos_lanus = geo_nulos.loc[mask_lanus, :]\n",
    "#datos_lanus.sort_values(by=\"geonames_id\").sample(10)"
   ]
  },
  {
   "cell_type": "code",
   "execution_count": 191,
   "metadata": {},
   "outputs": [],
   "source": [
    "#datos_lanus.isnull().sum()"
   ]
  },
  {
   "cell_type": "code",
   "execution_count": 192,
   "metadata": {},
   "outputs": [],
   "source": [
    "#display(datos_lanus.groupby(['geonames_id']).mean())"
   ]
  },
  {
   "cell_type": "code",
   "execution_count": 193,
   "metadata": {},
   "outputs": [],
   "source": [
    "values_3432134 = {\"geonames_id\":3432134.0, \"place_name\":\"Lanús\",\"place_with_parent_names\": \"|Argentina|Bs.As. G.B.A. Zona Sur|Lanús|Lanús|\",\"lat-lon\" : \"-34.701389, -58.398743\", \"lat\": -34.701389, \"lon\": -58.398743}\n",
    "datos_lanus_completo = datos_lanus.fillna(values_3432134)\n",
    "#datos_lanus_completo.head()"
   ]
  },
  {
   "cell_type": "code",
   "execution_count": 194,
   "metadata": {},
   "outputs": [
    {
     "data": {
      "text/plain": [
       "place_name                     0\n",
       "place_with_parent_names        0\n",
       "geonames_id                11822\n",
       "lat-lon                    23290\n",
       "lat                        23290\n",
       "lon                        23290\n",
       "dtype: int64"
      ]
     },
     "execution_count": 194,
     "metadata": {},
     "output_type": "execute_result"
    }
   ],
   "source": [
    "geo_nulos = geo_nulos.fillna(datos_lanus_completo)\n",
    "geo_nulos.isnull().sum()"
   ]
  },
  {
   "cell_type": "markdown",
   "metadata": {},
   "source": [
    "### LIMPIEZA ESCOBAR"
   ]
  },
  {
   "cell_type": "code",
   "execution_count": 195,
   "metadata": {},
   "outputs": [],
   "source": [
    "mask_escobar = geo_nulos['place_name']== \"Escobar\"\n",
    "datos_escobar = geo_nulos.loc[mask_escobar, :]\n",
    "#datos_escobar.sort_values(by=\"geonames_id\").sample(10)"
   ]
  },
  {
   "cell_type": "code",
   "execution_count": 196,
   "metadata": {},
   "outputs": [],
   "source": [
    "#datos_escobar.isnull().sum()"
   ]
  },
  {
   "cell_type": "code",
   "execution_count": 197,
   "metadata": {},
   "outputs": [
    {
     "data": {
      "text/html": [
       "<div>\n",
       "<style scoped>\n",
       "    .dataframe tbody tr th:only-of-type {\n",
       "        vertical-align: middle;\n",
       "    }\n",
       "\n",
       "    .dataframe tbody tr th {\n",
       "        vertical-align: top;\n",
       "    }\n",
       "\n",
       "    .dataframe thead th {\n",
       "        text-align: right;\n",
       "    }\n",
       "</style>\n",
       "<table border=\"1\" class=\"dataframe\">\n",
       "  <thead>\n",
       "    <tr style=\"text-align: right;\">\n",
       "      <th></th>\n",
       "      <th>lat</th>\n",
       "      <th>lon</th>\n",
       "    </tr>\n",
       "    <tr>\n",
       "      <th>geonames_id</th>\n",
       "      <th></th>\n",
       "      <th></th>\n",
       "    </tr>\n",
       "  </thead>\n",
       "  <tbody>\n",
       "    <tr>\n",
       "      <th>3434130.0</th>\n",
       "      <td>-34.36929</td>\n",
       "      <td>-58.756345</td>\n",
       "    </tr>\n",
       "  </tbody>\n",
       "</table>\n",
       "</div>"
      ],
      "text/plain": [
       "                  lat        lon\n",
       "geonames_id                     \n",
       "3434130.0   -34.36929 -58.756345"
      ]
     },
     "metadata": {},
     "output_type": "display_data"
    }
   ],
   "source": [
    "display(datos_escobar.groupby(['geonames_id']).mean())"
   ]
  },
  {
   "cell_type": "code",
   "execution_count": 198,
   "metadata": {},
   "outputs": [],
   "source": [
    "values_3434130 = {\"geonames_id\":3434130.0, \"place_name\":\"Escobar\", \"place_with_parent_names\": \"|Argentina|Bs.As. G.B.A. Zona Norte|Escobar|\",\"lat-lon\" : \"-34.36929, -58.756345\", \"lat\": -34.36929, \"lon\": -58.756345}\n",
    "datos_escobar_completo = datos_escobar.fillna(values_3434130)\n",
    "#datos_escobar_completo.head()"
   ]
  },
  {
   "cell_type": "code",
   "execution_count": 199,
   "metadata": {},
   "outputs": [
    {
     "data": {
      "text/plain": [
       "place_name                     0\n",
       "place_with_parent_names        0\n",
       "geonames_id                11822\n",
       "lat-lon                    22541\n",
       "lat                        22541\n",
       "lon                        22541\n",
       "dtype: int64"
      ]
     },
     "execution_count": 199,
     "metadata": {},
     "output_type": "execute_result"
    }
   ],
   "source": [
    "geo_nulos = geo_nulos.fillna(datos_escobar_completo)\n",
    "geo_nulos.isnull().sum()"
   ]
  },
  {
   "cell_type": "markdown",
   "metadata": {},
   "source": [
    "### LIMPIEZA BANFIELD"
   ]
  },
  {
   "cell_type": "code",
   "execution_count": 200,
   "metadata": {},
   "outputs": [],
   "source": [
    "mask_banfield = geo_nulos['place_name']== \"Banfield\"\n",
    "datos_banfield = geo_nulos.loc[mask_banfield, :]\n",
    "#datos_banfield.sort_values(by=\"geonames_id\").sample(10)"
   ]
  },
  {
   "cell_type": "code",
   "execution_count": 201,
   "metadata": {},
   "outputs": [
    {
     "data": {
      "text/plain": [
       "place_name                   0\n",
       "place_with_parent_names      0\n",
       "geonames_id                  0\n",
       "lat-lon                    757\n",
       "lat                        757\n",
       "lon                        757\n",
       "dtype: int64"
      ]
     },
     "execution_count": 201,
     "metadata": {},
     "output_type": "execute_result"
    }
   ],
   "source": [
    "datos_banfield.isnull().sum()"
   ]
  },
  {
   "cell_type": "code",
   "execution_count": 202,
   "metadata": {},
   "outputs": [],
   "source": [
    "#display(datos_banfield.groupby(['geonames_id']).mean())"
   ]
  },
  {
   "cell_type": "code",
   "execution_count": 203,
   "metadata": {},
   "outputs": [],
   "source": [
    "values_3436152 = {\"geonames_id\":3436152.0, \"place_name\":\"Banfield\", \"place_with_parent_names\": \"|Argentina|Bs.As. G.B.A. Zona Sur|Lomas de Zam...\",\"lat-lon\" : \"-34.742923, -58.399492\", \"lat\": -34.742923, \"lon\": -58.399492}\n",
    "datos_banfield_completo = datos_banfield.fillna(values_3436152)#\n",
    "#datos_banfield_completo.head()"
   ]
  },
  {
   "cell_type": "code",
   "execution_count": 204,
   "metadata": {},
   "outputs": [
    {
     "data": {
      "text/plain": [
       "place_name                     0\n",
       "place_with_parent_names        0\n",
       "geonames_id                11822\n",
       "lat-lon                    21784\n",
       "lat                        21784\n",
       "lon                        21784\n",
       "dtype: int64"
      ]
     },
     "execution_count": 204,
     "metadata": {},
     "output_type": "execute_result"
    }
   ],
   "source": [
    "geo_nulos = geo_nulos.fillna(datos_banfield_completo)\n",
    "geo_nulos.isnull().sum()"
   ]
  },
  {
   "cell_type": "markdown",
   "metadata": {},
   "source": [
    "### LIMPIEZA SAN ISIDRO"
   ]
  },
  {
   "cell_type": "code",
   "execution_count": 205,
   "metadata": {},
   "outputs": [],
   "source": [
    "mask_sa_isidro = geo_nulos['place_name']== \"San Isidro\"\n",
    "datos_san_isidro = geo_nulos.loc[mask_sa_isidro, :]\n",
    "#datos_san_isidro.sort_values(by=\"geonames_id\").sample(10)"
   ]
  },
  {
   "cell_type": "code",
   "execution_count": 206,
   "metadata": {},
   "outputs": [],
   "source": [
    "#datos_san_isidro.isnull().sum()"
   ]
  },
  {
   "cell_type": "code",
   "execution_count": 207,
   "metadata": {},
   "outputs": [],
   "source": [
    "#display(datos_san_isidro.groupby(['geonames_id']).mean())"
   ]
  },
  {
   "cell_type": "code",
   "execution_count": 208,
   "metadata": {},
   "outputs": [],
   "source": [
    "values_34289983 = {\"geonames_id\":3428983.0, \"place_name\":\"San Isidro\", \"place_with_parent_names\": \"|Argentina|Bs.As. G.B.A. Zona Norte|San Isidro|\",\"lat-lon\" : \"-34.478067, -58.536362\", \"lat\": -34.478067, \"lon\": -58.536362}\n",
    "datos_san_isidro_completo = datos_san_isidro.fillna(values_34289983)\n",
    "#datos_san_isidro_completo.head()"
   ]
  },
  {
   "cell_type": "code",
   "execution_count": 209,
   "metadata": {},
   "outputs": [
    {
     "data": {
      "text/plain": [
       "place_name                     0\n",
       "place_with_parent_names        0\n",
       "geonames_id                11822\n",
       "lat-lon                    21090\n",
       "lat                        21090\n",
       "lon                        21090\n",
       "dtype: int64"
      ]
     },
     "execution_count": 209,
     "metadata": {},
     "output_type": "execute_result"
    }
   ],
   "source": [
    "geo_nulos = geo_nulos.fillna(datos_san_isidro_completo)\n",
    "geo_nulos.isnull().sum()"
   ]
  },
  {
   "cell_type": "markdown",
   "metadata": {},
   "source": [
    "### LIMPIEZA PINAMAR"
   ]
  },
  {
   "cell_type": "code",
   "execution_count": 210,
   "metadata": {},
   "outputs": [
    {
     "data": {
      "text/html": [
       "<div>\n",
       "<style scoped>\n",
       "    .dataframe tbody tr th:only-of-type {\n",
       "        vertical-align: middle;\n",
       "    }\n",
       "\n",
       "    .dataframe tbody tr th {\n",
       "        vertical-align: top;\n",
       "    }\n",
       "\n",
       "    .dataframe thead th {\n",
       "        text-align: right;\n",
       "    }\n",
       "</style>\n",
       "<table border=\"1\" class=\"dataframe\">\n",
       "  <thead>\n",
       "    <tr style=\"text-align: right;\">\n",
       "      <th></th>\n",
       "      <th>place_name</th>\n",
       "      <th>place_with_parent_names</th>\n",
       "      <th>geonames_id</th>\n",
       "      <th>lat-lon</th>\n",
       "      <th>lat</th>\n",
       "      <th>lon</th>\n",
       "    </tr>\n",
       "  </thead>\n",
       "  <tbody>\n",
       "    <tr>\n",
       "      <th>13382</th>\n",
       "      <td>Pinamar</td>\n",
       "      <td>|Argentina|Buenos Aires Costa Atlántica|Pinamar|</td>\n",
       "      <td>3429971.0</td>\n",
       "      <td>-37.0866478798,-56.8405300027</td>\n",
       "      <td>-37.086648</td>\n",
       "      <td>-56.840530</td>\n",
       "    </tr>\n",
       "    <tr>\n",
       "      <th>113313</th>\n",
       "      <td>Pinamar</td>\n",
       "      <td>|Argentina|Buenos Aires Costa Atlántica|Pinamar|</td>\n",
       "      <td>3429971.0</td>\n",
       "      <td>-37.1109724,-56.8690761</td>\n",
       "      <td>-37.110972</td>\n",
       "      <td>-56.869076</td>\n",
       "    </tr>\n",
       "    <tr>\n",
       "      <th>27336</th>\n",
       "      <td>Pinamar</td>\n",
       "      <td>|Argentina|Buenos Aires Costa Atlántica|Pinamar|</td>\n",
       "      <td>3429971.0</td>\n",
       "      <td>-37.110379,-56.862723</td>\n",
       "      <td>-37.110379</td>\n",
       "      <td>-56.862723</td>\n",
       "    </tr>\n",
       "    <tr>\n",
       "      <th>18910</th>\n",
       "      <td>Pinamar</td>\n",
       "      <td>|Argentina|Buenos Aires Costa Atlántica|Pinamar|</td>\n",
       "      <td>3429971.0</td>\n",
       "      <td>-37.1340222403,-56.8739182159</td>\n",
       "      <td>-37.134022</td>\n",
       "      <td>-56.873918</td>\n",
       "    </tr>\n",
       "    <tr>\n",
       "      <th>43385</th>\n",
       "      <td>Pinamar</td>\n",
       "      <td>|Argentina|Buenos Aires Costa Atlántica|Pinamar|</td>\n",
       "      <td>3429971.0</td>\n",
       "      <td>-37.119804,-56.860037</td>\n",
       "      <td>-37.119804</td>\n",
       "      <td>-56.860037</td>\n",
       "    </tr>\n",
       "    <tr>\n",
       "      <th>8947</th>\n",
       "      <td>Pinamar</td>\n",
       "      <td>|Argentina|Buenos Aires Costa Atlántica|Pinamar|</td>\n",
       "      <td>3429971.0</td>\n",
       "      <td>-37.1099360566,-56.8572101846</td>\n",
       "      <td>-37.109936</td>\n",
       "      <td>-56.857210</td>\n",
       "    </tr>\n",
       "    <tr>\n",
       "      <th>54822</th>\n",
       "      <td>Pinamar</td>\n",
       "      <td>|Argentina|Buenos Aires Costa Atlántica|Pinamar|</td>\n",
       "      <td>3429971.0</td>\n",
       "      <td>-37.1055176,-56.8584649</td>\n",
       "      <td>-37.105518</td>\n",
       "      <td>-56.858465</td>\n",
       "    </tr>\n",
       "    <tr>\n",
       "      <th>52343</th>\n",
       "      <td>Pinamar</td>\n",
       "      <td>|Argentina|Buenos Aires Costa Atlántica|Pinamar|</td>\n",
       "      <td>3429971.0</td>\n",
       "      <td>-37.1421272525,-56.8885383169</td>\n",
       "      <td>-37.142127</td>\n",
       "      <td>-56.888538</td>\n",
       "    </tr>\n",
       "    <tr>\n",
       "      <th>15222</th>\n",
       "      <td>Pinamar</td>\n",
       "      <td>|Argentina|Buenos Aires Costa Atlántica|Pinamar|</td>\n",
       "      <td>3429971.0</td>\n",
       "      <td>-37.113191434,-56.8639337931</td>\n",
       "      <td>-37.113191</td>\n",
       "      <td>-56.863934</td>\n",
       "    </tr>\n",
       "    <tr>\n",
       "      <th>41453</th>\n",
       "      <td>Pinamar</td>\n",
       "      <td>|Argentina|Buenos Aires Costa Atlántica|Pinamar|</td>\n",
       "      <td>3429971.0</td>\n",
       "      <td>NaN</td>\n",
       "      <td>NaN</td>\n",
       "      <td>NaN</td>\n",
       "    </tr>\n",
       "  </tbody>\n",
       "</table>\n",
       "</div>"
      ],
      "text/plain": [
       "       place_name                           place_with_parent_names  \\\n",
       "13382     Pinamar  |Argentina|Buenos Aires Costa Atlántica|Pinamar|   \n",
       "113313    Pinamar  |Argentina|Buenos Aires Costa Atlántica|Pinamar|   \n",
       "27336     Pinamar  |Argentina|Buenos Aires Costa Atlántica|Pinamar|   \n",
       "18910     Pinamar  |Argentina|Buenos Aires Costa Atlántica|Pinamar|   \n",
       "43385     Pinamar  |Argentina|Buenos Aires Costa Atlántica|Pinamar|   \n",
       "8947      Pinamar  |Argentina|Buenos Aires Costa Atlántica|Pinamar|   \n",
       "54822     Pinamar  |Argentina|Buenos Aires Costa Atlántica|Pinamar|   \n",
       "52343     Pinamar  |Argentina|Buenos Aires Costa Atlántica|Pinamar|   \n",
       "15222     Pinamar  |Argentina|Buenos Aires Costa Atlántica|Pinamar|   \n",
       "41453     Pinamar  |Argentina|Buenos Aires Costa Atlántica|Pinamar|   \n",
       "\n",
       "        geonames_id                        lat-lon        lat        lon  \n",
       "13382     3429971.0  -37.0866478798,-56.8405300027 -37.086648 -56.840530  \n",
       "113313    3429971.0        -37.1109724,-56.8690761 -37.110972 -56.869076  \n",
       "27336     3429971.0          -37.110379,-56.862723 -37.110379 -56.862723  \n",
       "18910     3429971.0  -37.1340222403,-56.8739182159 -37.134022 -56.873918  \n",
       "43385     3429971.0          -37.119804,-56.860037 -37.119804 -56.860037  \n",
       "8947      3429971.0  -37.1099360566,-56.8572101846 -37.109936 -56.857210  \n",
       "54822     3429971.0        -37.1055176,-56.8584649 -37.105518 -56.858465  \n",
       "52343     3429971.0  -37.1421272525,-56.8885383169 -37.142127 -56.888538  \n",
       "15222     3429971.0   -37.113191434,-56.8639337931 -37.113191 -56.863934  \n",
       "41453     3429971.0                            NaN        NaN        NaN  "
      ]
     },
     "execution_count": 210,
     "metadata": {},
     "output_type": "execute_result"
    }
   ],
   "source": [
    "mask_pinarmar = geo_nulos['place_name']== \"Pinamar\"\n",
    "datos_pinamar = geo_nulos.loc[mask_pinarmar, :]\n",
    "datos_pinamar.sort_values(by=\"geonames_id\").sample(10)"
   ]
  },
  {
   "cell_type": "code",
   "execution_count": 211,
   "metadata": {},
   "outputs": [
    {
     "data": {
      "text/plain": [
       "place_name                   0\n",
       "place_with_parent_names      0\n",
       "geonames_id                  0\n",
       "lat-lon                    116\n",
       "lat                        116\n",
       "lon                        116\n",
       "dtype: int64"
      ]
     },
     "execution_count": 211,
     "metadata": {},
     "output_type": "execute_result"
    }
   ],
   "source": [
    "datos_pinamar.isnull().sum()"
   ]
  },
  {
   "cell_type": "code",
   "execution_count": 212,
   "metadata": {},
   "outputs": [
    {
     "data": {
      "text/html": [
       "<div>\n",
       "<style scoped>\n",
       "    .dataframe tbody tr th:only-of-type {\n",
       "        vertical-align: middle;\n",
       "    }\n",
       "\n",
       "    .dataframe tbody tr th {\n",
       "        vertical-align: top;\n",
       "    }\n",
       "\n",
       "    .dataframe thead th {\n",
       "        text-align: right;\n",
       "    }\n",
       "</style>\n",
       "<table border=\"1\" class=\"dataframe\">\n",
       "  <thead>\n",
       "    <tr style=\"text-align: right;\">\n",
       "      <th></th>\n",
       "      <th>lat</th>\n",
       "      <th>lon</th>\n",
       "    </tr>\n",
       "    <tr>\n",
       "      <th>geonames_id</th>\n",
       "      <th></th>\n",
       "      <th></th>\n",
       "    </tr>\n",
       "  </thead>\n",
       "  <tbody>\n",
       "    <tr>\n",
       "      <th>3429971.0</th>\n",
       "      <td>-37.10956</td>\n",
       "      <td>-56.860607</td>\n",
       "    </tr>\n",
       "  </tbody>\n",
       "</table>\n",
       "</div>"
      ],
      "text/plain": [
       "                  lat        lon\n",
       "geonames_id                     \n",
       "3429971.0   -37.10956 -56.860607"
      ]
     },
     "metadata": {},
     "output_type": "display_data"
    }
   ],
   "source": [
    "display(datos_pinamar.groupby(['geonames_id']).mean())"
   ]
  },
  {
   "cell_type": "code",
   "execution_count": 213,
   "metadata": {},
   "outputs": [
    {
     "data": {
      "text/html": [
       "<div>\n",
       "<style scoped>\n",
       "    .dataframe tbody tr th:only-of-type {\n",
       "        vertical-align: middle;\n",
       "    }\n",
       "\n",
       "    .dataframe tbody tr th {\n",
       "        vertical-align: top;\n",
       "    }\n",
       "\n",
       "    .dataframe thead th {\n",
       "        text-align: right;\n",
       "    }\n",
       "</style>\n",
       "<table border=\"1\" class=\"dataframe\">\n",
       "  <thead>\n",
       "    <tr style=\"text-align: right;\">\n",
       "      <th></th>\n",
       "      <th>place_name</th>\n",
       "      <th>place_with_parent_names</th>\n",
       "      <th>geonames_id</th>\n",
       "      <th>lat-lon</th>\n",
       "      <th>lat</th>\n",
       "      <th>lon</th>\n",
       "    </tr>\n",
       "  </thead>\n",
       "  <tbody>\n",
       "    <tr>\n",
       "      <th>11842</th>\n",
       "      <td>Pinamar</td>\n",
       "      <td>|Argentina|Buenos Aires Costa Atlántica|Pinamar|</td>\n",
       "      <td>3429971.0</td>\n",
       "      <td>-37.1173113,-56.8568357</td>\n",
       "      <td>-37.117311</td>\n",
       "      <td>-56.856836</td>\n",
       "    </tr>\n",
       "    <tr>\n",
       "      <th>42601</th>\n",
       "      <td>Pinamar</td>\n",
       "      <td>|Argentina|Buenos Aires Costa Atlántica|Pinamar|</td>\n",
       "      <td>3429971.0</td>\n",
       "      <td>-37.1212049782,-56.8601476005</td>\n",
       "      <td>-37.121205</td>\n",
       "      <td>-56.860148</td>\n",
       "    </tr>\n",
       "    <tr>\n",
       "      <th>13568</th>\n",
       "      <td>Pinamar</td>\n",
       "      <td>|Argentina|Buenos Aires Costa Atlántica|Pinamar|</td>\n",
       "      <td>3429971.0</td>\n",
       "      <td>-37.1292027,-56.8658568</td>\n",
       "      <td>-37.129203</td>\n",
       "      <td>-56.865857</td>\n",
       "    </tr>\n",
       "    <tr>\n",
       "      <th>43456</th>\n",
       "      <td>Pinamar</td>\n",
       "      <td>|Argentina|Buenos Aires Costa Atlántica|Pinamar|</td>\n",
       "      <td>3429971.0</td>\n",
       "      <td>-37.10956\\t-56.860607</td>\n",
       "      <td>-37.109560</td>\n",
       "      <td>-56.860607</td>\n",
       "    </tr>\n",
       "    <tr>\n",
       "      <th>51884</th>\n",
       "      <td>Pinamar</td>\n",
       "      <td>|Argentina|Buenos Aires Costa Atlántica|Pinamar|</td>\n",
       "      <td>3429971.0</td>\n",
       "      <td>-37.1112996,-56.8743553</td>\n",
       "      <td>-37.111300</td>\n",
       "      <td>-56.874355</td>\n",
       "    </tr>\n",
       "  </tbody>\n",
       "</table>\n",
       "</div>"
      ],
      "text/plain": [
       "      place_name                           place_with_parent_names  \\\n",
       "11842    Pinamar  |Argentina|Buenos Aires Costa Atlántica|Pinamar|   \n",
       "42601    Pinamar  |Argentina|Buenos Aires Costa Atlántica|Pinamar|   \n",
       "13568    Pinamar  |Argentina|Buenos Aires Costa Atlántica|Pinamar|   \n",
       "43456    Pinamar  |Argentina|Buenos Aires Costa Atlántica|Pinamar|   \n",
       "51884    Pinamar  |Argentina|Buenos Aires Costa Atlántica|Pinamar|   \n",
       "\n",
       "       geonames_id                        lat-lon        lat        lon  \n",
       "11842    3429971.0        -37.1173113,-56.8568357 -37.117311 -56.856836  \n",
       "42601    3429971.0  -37.1212049782,-56.8601476005 -37.121205 -56.860148  \n",
       "13568    3429971.0        -37.1292027,-56.8658568 -37.129203 -56.865857  \n",
       "43456    3429971.0          -37.10956\\t-56.860607 -37.109560 -56.860607  \n",
       "51884    3429971.0        -37.1112996,-56.8743553 -37.111300 -56.874355  "
      ]
     },
     "execution_count": 213,
     "metadata": {},
     "output_type": "execute_result"
    }
   ],
   "source": [
    "values_3429971 = {\"geonames_id\":3429971.0, \"place_name\":\"Pinamar\", \"place_with_parent_names\": \"|Argentina|Buenos Aires Costa Atlántica|Pinamar|\",\"lat-lon\" : \"-37.10956\t-56.860607\", \"lat\": -37.10956, \"lon\": -56.860607}\n",
    "datos_pinamar_completo = datos_pinamar.fillna(values_3429971)\n",
    "datos_pinamar_completo.head()"
   ]
  },
  {
   "cell_type": "code",
   "execution_count": 214,
   "metadata": {},
   "outputs": [
    {
     "data": {
      "text/plain": [
       "place_name                     0\n",
       "place_with_parent_names        0\n",
       "geonames_id                11822\n",
       "lat-lon                    20974\n",
       "lat                        20974\n",
       "lon                        20974\n",
       "dtype: int64"
      ]
     },
     "execution_count": 214,
     "metadata": {},
     "output_type": "execute_result"
    }
   ],
   "source": [
    "geo_nulos = geo_nulos.fillna(datos_pinamar_completo)\n",
    "geo_nulos.isnull().sum()"
   ]
  },
  {
   "cell_type": "markdown",
   "metadata": {},
   "source": [
    "### LIMPIEZA BOEDO"
   ]
  },
  {
   "cell_type": "code",
   "execution_count": 215,
   "metadata": {},
   "outputs": [],
   "source": [
    "mask_boedo = geo_nulos['place_name']== \"Boedo\"\n",
    "datos_boedo = geo_nulos.loc[mask_boedo, :]\n",
    "#datos_boedo.sort_values(by=\"geonames_id\").sample(10)"
   ]
  },
  {
   "cell_type": "code",
   "execution_count": 216,
   "metadata": {},
   "outputs": [
    {
     "data": {
      "text/plain": [
       "place_name                   0\n",
       "place_with_parent_names      0\n",
       "geonames_id                  0\n",
       "lat-lon                    548\n",
       "lat                        548\n",
       "lon                        548\n",
       "dtype: int64"
      ]
     },
     "execution_count": 216,
     "metadata": {},
     "output_type": "execute_result"
    }
   ],
   "source": [
    "datos_boedo.isnull().sum()"
   ]
  },
  {
   "cell_type": "code",
   "execution_count": 217,
   "metadata": {},
   "outputs": [
    {
     "data": {
      "text/html": [
       "<div>\n",
       "<style scoped>\n",
       "    .dataframe tbody tr th:only-of-type {\n",
       "        vertical-align: middle;\n",
       "    }\n",
       "\n",
       "    .dataframe tbody tr th {\n",
       "        vertical-align: top;\n",
       "    }\n",
       "\n",
       "    .dataframe thead th {\n",
       "        text-align: right;\n",
       "    }\n",
       "</style>\n",
       "<table border=\"1\" class=\"dataframe\">\n",
       "  <thead>\n",
       "    <tr style=\"text-align: right;\">\n",
       "      <th></th>\n",
       "      <th>lat</th>\n",
       "      <th>lon</th>\n",
       "    </tr>\n",
       "    <tr>\n",
       "      <th>geonames_id</th>\n",
       "      <th></th>\n",
       "      <th></th>\n",
       "    </tr>\n",
       "  </thead>\n",
       "  <tbody>\n",
       "    <tr>\n",
       "      <th>3436003.0</th>\n",
       "      <td>-34.625496</td>\n",
       "      <td>-58.417307</td>\n",
       "    </tr>\n",
       "  </tbody>\n",
       "</table>\n",
       "</div>"
      ],
      "text/plain": [
       "                   lat        lon\n",
       "geonames_id                      \n",
       "3436003.0   -34.625496 -58.417307"
      ]
     },
     "metadata": {},
     "output_type": "display_data"
    }
   ],
   "source": [
    "display(datos_boedo.groupby(['geonames_id']).mean())"
   ]
  },
  {
   "cell_type": "code",
   "execution_count": 218,
   "metadata": {},
   "outputs": [
    {
     "data": {
      "text/html": [
       "<div>\n",
       "<style scoped>\n",
       "    .dataframe tbody tr th:only-of-type {\n",
       "        vertical-align: middle;\n",
       "    }\n",
       "\n",
       "    .dataframe tbody tr th {\n",
       "        vertical-align: top;\n",
       "    }\n",
       "\n",
       "    .dataframe thead th {\n",
       "        text-align: right;\n",
       "    }\n",
       "</style>\n",
       "<table border=\"1\" class=\"dataframe\">\n",
       "  <thead>\n",
       "    <tr style=\"text-align: right;\">\n",
       "      <th></th>\n",
       "      <th>place_name</th>\n",
       "      <th>place_with_parent_names</th>\n",
       "      <th>geonames_id</th>\n",
       "      <th>lat-lon</th>\n",
       "      <th>lat</th>\n",
       "      <th>lon</th>\n",
       "    </tr>\n",
       "  </thead>\n",
       "  <tbody>\n",
       "    <tr>\n",
       "      <th>112942</th>\n",
       "      <td>Boedo</td>\n",
       "      <td>|Argentina|Capital Federal|Boedo|</td>\n",
       "      <td>3436003.0</td>\n",
       "      <td>-34.6355705,-58.4184093</td>\n",
       "      <td>-34.635571</td>\n",
       "      <td>-58.418409</td>\n",
       "    </tr>\n",
       "    <tr>\n",
       "      <th>111629</th>\n",
       "      <td>Boedo</td>\n",
       "      <td>|Argentina|Capital Federal|Boedo|</td>\n",
       "      <td>3436003.0</td>\n",
       "      <td>-34.634144,-58.42068</td>\n",
       "      <td>-34.634144</td>\n",
       "      <td>-58.420680</td>\n",
       "    </tr>\n",
       "    <tr>\n",
       "      <th>10278</th>\n",
       "      <td>Boedo</td>\n",
       "      <td>|Argentina|Capital Federal|Boedo|</td>\n",
       "      <td>3436003.0</td>\n",
       "      <td>-34.634709,-58.422155</td>\n",
       "      <td>-34.634709</td>\n",
       "      <td>-58.422155</td>\n",
       "    </tr>\n",
       "    <tr>\n",
       "      <th>105776</th>\n",
       "      <td>Boedo</td>\n",
       "      <td>|Argentina|Capital Federal|Boedo|</td>\n",
       "      <td>3436003.0</td>\n",
       "      <td>-34.6352265291,-58.4160816019</td>\n",
       "      <td>-34.635227</td>\n",
       "      <td>-58.416082</td>\n",
       "    </tr>\n",
       "    <tr>\n",
       "      <th>1858</th>\n",
       "      <td>Boedo</td>\n",
       "      <td>|Argentina|Capital Federal|Boedo|</td>\n",
       "      <td>3436003.0</td>\n",
       "      <td>-34.63040543,-58.41775513</td>\n",
       "      <td>-34.630405</td>\n",
       "      <td>-58.417755</td>\n",
       "    </tr>\n",
       "  </tbody>\n",
       "</table>\n",
       "</div>"
      ],
      "text/plain": [
       "       place_name            place_with_parent_names  geonames_id  \\\n",
       "112942      Boedo  |Argentina|Capital Federal|Boedo|    3436003.0   \n",
       "111629      Boedo  |Argentina|Capital Federal|Boedo|    3436003.0   \n",
       "10278       Boedo  |Argentina|Capital Federal|Boedo|    3436003.0   \n",
       "105776      Boedo  |Argentina|Capital Federal|Boedo|    3436003.0   \n",
       "1858        Boedo  |Argentina|Capital Federal|Boedo|    3436003.0   \n",
       "\n",
       "                              lat-lon        lat        lon  \n",
       "112942        -34.6355705,-58.4184093 -34.635571 -58.418409  \n",
       "111629           -34.634144,-58.42068 -34.634144 -58.420680  \n",
       "10278           -34.634709,-58.422155 -34.634709 -58.422155  \n",
       "105776  -34.6352265291,-58.4160816019 -34.635227 -58.416082  \n",
       "1858        -34.63040543,-58.41775513 -34.630405 -58.417755  "
      ]
     },
     "execution_count": 218,
     "metadata": {},
     "output_type": "execute_result"
    }
   ],
   "source": [
    "values_3436003 = {\"geonames_id\":3436003.0, \"place_name\":\"Boedo\", \"place_with_parent_names\": \"|Argentina|Capital Federal|Boedo|\",\"lat-lon\" : \"-34.625496, -58.417307\", \"lat\": -34.625496, \"lon\": -58.417307}\n",
    "datos_boedo_completo = datos_boedo.fillna(values_3436003)\n",
    "datos_boedo_completo.head()"
   ]
  },
  {
   "cell_type": "code",
   "execution_count": 219,
   "metadata": {},
   "outputs": [
    {
     "data": {
      "text/plain": [
       "place_name                     0\n",
       "place_with_parent_names        0\n",
       "geonames_id                11822\n",
       "lat-lon                    20426\n",
       "lat                        20426\n",
       "lon                        20426\n",
       "dtype: int64"
      ]
     },
     "execution_count": 219,
     "metadata": {},
     "output_type": "execute_result"
    }
   ],
   "source": [
    "geo_nulos = geo_nulos.fillna(datos_boedo_completo)\n",
    "geo_nulos.isnull().sum()"
   ]
  },
  {
   "cell_type": "markdown",
   "metadata": {},
   "source": [
    "### LIMPIEZA NUÑEZ"
   ]
  },
  {
   "cell_type": "code",
   "execution_count": 220,
   "metadata": {},
   "outputs": [],
   "source": [
    "mask_nunez = geo_nulos['place_name']== \"Nuñez\"\n",
    "datos_nunez = geo_nulos.loc[mask_nunez, :]\n",
    "#datos_nunez.sort_values(by=\"geonames_id\").sample(10)"
   ]
  },
  {
   "cell_type": "code",
   "execution_count": 221,
   "metadata": {},
   "outputs": [],
   "source": [
    "#datos_nunez.isnull().sum()"
   ]
  },
  {
   "cell_type": "code",
   "execution_count": 222,
   "metadata": {},
   "outputs": [],
   "source": [
    "#display(datos_nunez.groupby(['geonames_id']).mean())"
   ]
  },
  {
   "cell_type": "code",
   "execution_count": 223,
   "metadata": {},
   "outputs": [],
   "source": [
    "values_3430348 = {\"geonames_id\":3430348.0, \"place_name\":\"Nuñez\", \"place_with_parent_names\": \"|Argentina|Capital Federal|Nuñez|\",\"lat-lon\" : \"-34.549629, -58.463268\", \"lat\": -34.549629, \"lon\": -58.463268}\n",
    "datos_nunez_completo = datos_nunez.fillna(values_3430348)\n",
    "#datos_nunez_completo.head()"
   ]
  },
  {
   "cell_type": "code",
   "execution_count": 224,
   "metadata": {},
   "outputs": [
    {
     "data": {
      "text/plain": [
       "place_name                     0\n",
       "place_with_parent_names        0\n",
       "geonames_id                11822\n",
       "lat-lon                    20195\n",
       "lat                        20195\n",
       "lon                        20195\n",
       "dtype: int64"
      ]
     },
     "execution_count": 224,
     "metadata": {},
     "output_type": "execute_result"
    }
   ],
   "source": [
    "geo_nulos = geo_nulos.fillna(datos_nunez_completo)\n",
    "geo_nulos.isnull().sum()"
   ]
  },
  {
   "cell_type": "markdown",
   "metadata": {},
   "source": [
    "### LIMPIEZA SAN MIGUEL"
   ]
  },
  {
   "cell_type": "code",
   "execution_count": 225,
   "metadata": {},
   "outputs": [],
   "source": [
    "mask_sa_miguel = geo_nulos['place_name']== \"San Miguel\"\n",
    "datos_san_miguel = geo_nulos.loc[mask_sa_miguel, :]#\n",
    "#datos_san_miguel.sort_values(by=\"geonames_id\").sample(10)"
   ]
  },
  {
   "cell_type": "code",
   "execution_count": 226,
   "metadata": {},
   "outputs": [],
   "source": [
    "#datos_san_miguel.isnull().sum()"
   ]
  },
  {
   "cell_type": "code",
   "execution_count": 227,
   "metadata": {},
   "outputs": [
    {
     "data": {
      "text/plain": [
       "geonames_id          NaN\n",
       "lat           -34.542439\n",
       "lon           -58.713420\n",
       "dtype: float64"
      ]
     },
     "metadata": {},
     "output_type": "display_data"
    }
   ],
   "source": [
    "display(datos_san_miguel.mean())"
   ]
  },
  {
   "cell_type": "code",
   "execution_count": 228,
   "metadata": {},
   "outputs": [],
   "source": [
    "geoname = 34645366.0"
   ]
  },
  {
   "cell_type": "code",
   "execution_count": 229,
   "metadata": {},
   "outputs": [],
   "source": [
    "values_34645366 = {\"geonames_id\":34645366.0, \"place_name\":\"San Miguel\", \"place_with_parent_names\": \"|Argentina|Bs.As. G.B.A. Zona Norte|San Miguel|\",\"lat-lon\" : \" -34.542439, -58.713420\", \"lat\":  -34.542439, \"lon\":  -58.713420}\n",
    "datos_san_miguel_completo = datos_san_miguel.fillna(values_3430348)\n",
    "#datos_san_miguel_completo.head()"
   ]
  },
  {
   "cell_type": "code",
   "execution_count": 230,
   "metadata": {},
   "outputs": [
    {
     "data": {
      "text/plain": [
       "place_name                     0\n",
       "place_with_parent_names        0\n",
       "geonames_id                11070\n",
       "lat-lon                    20125\n",
       "lat                        20125\n",
       "lon                        20125\n",
       "dtype: int64"
      ]
     },
     "execution_count": 230,
     "metadata": {},
     "output_type": "execute_result"
    }
   ],
   "source": [
    "geo_nulos = geo_nulos.fillna(datos_san_miguel_completo)\n",
    "geo_nulos.isnull().sum()"
   ]
  },
  {
   "cell_type": "code",
   "execution_count": 231,
   "metadata": {},
   "outputs": [],
   "source": [
    "data[['geonames_id_nuevo', 'lat-lon_nuevo', 'lat_nuevo', 'lon_nuevo']] = geo_nulos[['geonames_id', 'lat-lon', 'lat', 'lon']]"
   ]
  },
  {
   "cell_type": "markdown",
   "metadata": {},
   "source": [
    "## Limpieza de pisos"
   ]
  },
  {
   "cell_type": "code",
   "execution_count": 232,
   "metadata": {},
   "outputs": [],
   "source": [
    "#Creación de una nueva columna con la copia de los valores de la columna 'floor'\n",
    "data['floor_copia'] = data['floor']\n",
    "data['property_type_copia'] = data['property_type']\n",
    "#Cambio a minúscula estas dos nuevas columnas creadas\n",
    "data['description_copia'] = data['description'].astype(str).str.lower()\n",
    "data['title_copia']= data['title'].astype(str).str.lower()"
   ]
  },
  {
   "cell_type": "code",
   "execution_count": 233,
   "metadata": {},
   "outputs": [
    {
     "data": {
      "text/plain": [
       "True     113321\n",
       "False      7899\n",
       "Name: floor_copia, dtype: int64"
      ]
     },
     "execution_count": 233,
     "metadata": {},
     "output_type": "execute_result"
    }
   ],
   "source": [
    "#Comprobación de valores null en data 'floor_copia'\n",
    "data['floor_copia'].isnull().value_counts()"
   ]
  },
  {
   "cell_type": "code",
   "execution_count": 234,
   "metadata": {},
   "outputs": [
    {
     "data": {
      "text/plain": [
       "False    121220\n",
       "Name: description_copia, dtype: int64"
      ]
     },
     "execution_count": 234,
     "metadata": {},
     "output_type": "execute_result"
    }
   ],
   "source": [
    "#Comprobación de valores null en data 'description_copia'\n",
    "data['description_copia'].isnull().value_counts()"
   ]
  },
  {
   "cell_type": "code",
   "execution_count": 235,
   "metadata": {},
   "outputs": [
    {
     "data": {
      "text/plain": [
       "False    121220\n",
       "Name: title_copia, dtype: int64"
      ]
     },
     "execution_count": 235,
     "metadata": {},
     "output_type": "execute_result"
    }
   ],
   "source": [
    "#Comprobación de valores null en data 'title_copia'\n",
    "data['title_copia'].isnull().value_counts()"
   ]
  },
  {
   "cell_type": "code",
   "execution_count": 236,
   "metadata": {},
   "outputs": [
    {
     "data": {
      "text/plain": [
       "apartment    71065\n",
       "house        40268\n",
       "PH            5751\n",
       "store         4136\n",
       "Name: property_type_copia, dtype: int64"
      ]
     },
     "execution_count": 236,
     "metadata": {},
     "output_type": "execute_result"
    }
   ],
   "source": [
    "#Categrias en property_type y qué cantidaa hay\n",
    "data['property_type_copia'].value_counts()"
   ]
  },
  {
   "cell_type": "code",
   "execution_count": 237,
   "metadata": {},
   "outputs": [],
   "source": [
    "#agrupo por tipo de propiedad\n",
    "tipo_propiedad = data.groupby('property_type_copia')"
   ]
  },
  {
   "cell_type": "code",
   "execution_count": 238,
   "metadata": {},
   "outputs": [],
   "source": [
    "bins = [0, 1, 2, 3, 4, 5, 6, 7, 8, 9, 15, 20, 30, 40, 50, 1000, 2000]\n",
    "pisos = pd.cut(data.floor_copia, bins, right = False)"
   ]
  },
  {
   "cell_type": "code",
   "execution_count": 239,
   "metadata": {},
   "outputs": [
    {
     "data": {
      "text/plain": [
       "[1, 2)          2080\n",
       "[2, 3)          1542\n",
       "[3, 4)           914\n",
       "[9, 15)          743\n",
       "[4, 5)           658\n",
       "[5, 6)           484\n",
       "[6, 7)           483\n",
       "[7, 8)           355\n",
       "[8, 9)           248\n",
       "[50, 1000)       149\n",
       "[15, 20)         121\n",
       "[20, 30)          51\n",
       "[1000, 2000)      34\n",
       "[30, 40)          20\n",
       "[40, 50)          13\n",
       "[0, 1)             0\n",
       "Name: floor_copia, dtype: int64"
      ]
     },
     "execution_count": 239,
     "metadata": {},
     "output_type": "execute_result"
    }
   ],
   "source": [
    "pisos.value_counts()"
   ]
  },
  {
   "cell_type": "code",
   "execution_count": 240,
   "metadata": {},
   "outputs": [
    {
     "data": {
      "text/html": [
       "<div>\n",
       "<style scoped>\n",
       "    .dataframe tbody tr th:only-of-type {\n",
       "        vertical-align: middle;\n",
       "    }\n",
       "\n",
       "    .dataframe tbody tr th {\n",
       "        vertical-align: top;\n",
       "    }\n",
       "\n",
       "    .dataframe thead th {\n",
       "        text-align: right;\n",
       "    }\n",
       "</style>\n",
       "<table border=\"1\" class=\"dataframe\">\n",
       "  <thead>\n",
       "    <tr style=\"text-align: right;\">\n",
       "      <th>property_type_copia</th>\n",
       "      <th>PH</th>\n",
       "      <th>apartment</th>\n",
       "      <th>house</th>\n",
       "      <th>store</th>\n",
       "    </tr>\n",
       "    <tr>\n",
       "      <th>floor_copia</th>\n",
       "      <th></th>\n",
       "      <th></th>\n",
       "      <th></th>\n",
       "      <th></th>\n",
       "    </tr>\n",
       "  </thead>\n",
       "  <tbody>\n",
       "    <tr>\n",
       "      <th>[0, 1)</th>\n",
       "      <td>0</td>\n",
       "      <td>0</td>\n",
       "      <td>0</td>\n",
       "      <td>0</td>\n",
       "    </tr>\n",
       "    <tr>\n",
       "      <th>[1, 2)</th>\n",
       "      <td>154</td>\n",
       "      <td>1517</td>\n",
       "      <td>385</td>\n",
       "      <td>24</td>\n",
       "    </tr>\n",
       "    <tr>\n",
       "      <th>[2, 3)</th>\n",
       "      <td>146</td>\n",
       "      <td>1096</td>\n",
       "      <td>290</td>\n",
       "      <td>10</td>\n",
       "    </tr>\n",
       "    <tr>\n",
       "      <th>[3, 4)</th>\n",
       "      <td>63</td>\n",
       "      <td>833</td>\n",
       "      <td>18</td>\n",
       "      <td>0</td>\n",
       "    </tr>\n",
       "    <tr>\n",
       "      <th>[4, 5)</th>\n",
       "      <td>31</td>\n",
       "      <td>625</td>\n",
       "      <td>1</td>\n",
       "      <td>1</td>\n",
       "    </tr>\n",
       "    <tr>\n",
       "      <th>[5, 6)</th>\n",
       "      <td>38</td>\n",
       "      <td>444</td>\n",
       "      <td>2</td>\n",
       "      <td>0</td>\n",
       "    </tr>\n",
       "    <tr>\n",
       "      <th>[6, 7)</th>\n",
       "      <td>42</td>\n",
       "      <td>439</td>\n",
       "      <td>2</td>\n",
       "      <td>0</td>\n",
       "    </tr>\n",
       "    <tr>\n",
       "      <th>[7, 8)</th>\n",
       "      <td>31</td>\n",
       "      <td>320</td>\n",
       "      <td>4</td>\n",
       "      <td>0</td>\n",
       "    </tr>\n",
       "    <tr>\n",
       "      <th>[8, 9)</th>\n",
       "      <td>12</td>\n",
       "      <td>232</td>\n",
       "      <td>4</td>\n",
       "      <td>0</td>\n",
       "    </tr>\n",
       "    <tr>\n",
       "      <th>[9, 15)</th>\n",
       "      <td>52</td>\n",
       "      <td>681</td>\n",
       "      <td>8</td>\n",
       "      <td>2</td>\n",
       "    </tr>\n",
       "    <tr>\n",
       "      <th>[15, 20)</th>\n",
       "      <td>4</td>\n",
       "      <td>114</td>\n",
       "      <td>2</td>\n",
       "      <td>1</td>\n",
       "    </tr>\n",
       "    <tr>\n",
       "      <th>[20, 30)</th>\n",
       "      <td>0</td>\n",
       "      <td>43</td>\n",
       "      <td>8</td>\n",
       "      <td>0</td>\n",
       "    </tr>\n",
       "    <tr>\n",
       "      <th>[30, 40)</th>\n",
       "      <td>0</td>\n",
       "      <td>15</td>\n",
       "      <td>4</td>\n",
       "      <td>1</td>\n",
       "    </tr>\n",
       "    <tr>\n",
       "      <th>[40, 50)</th>\n",
       "      <td>0</td>\n",
       "      <td>11</td>\n",
       "      <td>2</td>\n",
       "      <td>0</td>\n",
       "    </tr>\n",
       "    <tr>\n",
       "      <th>[50, 1000)</th>\n",
       "      <td>0</td>\n",
       "      <td>120</td>\n",
       "      <td>28</td>\n",
       "      <td>1</td>\n",
       "    </tr>\n",
       "    <tr>\n",
       "      <th>[1000, 2000)</th>\n",
       "      <td>0</td>\n",
       "      <td>29</td>\n",
       "      <td>5</td>\n",
       "      <td>0</td>\n",
       "    </tr>\n",
       "  </tbody>\n",
       "</table>\n",
       "</div>"
      ],
      "text/plain": [
       "property_type_copia   PH  apartment  house  store\n",
       "floor_copia                                      \n",
       "[0, 1)                 0          0      0      0\n",
       "[1, 2)               154       1517    385     24\n",
       "[2, 3)               146       1096    290     10\n",
       "[3, 4)                63        833     18      0\n",
       "[4, 5)                31        625      1      1\n",
       "[5, 6)                38        444      2      0\n",
       "[6, 7)                42        439      2      0\n",
       "[7, 8)                31        320      4      0\n",
       "[8, 9)                12        232      4      0\n",
       "[9, 15)               52        681      8      2\n",
       "[15, 20)               4        114      2      1\n",
       "[20, 30)               0         43      8      0\n",
       "[30, 40)               0         15      4      1\n",
       "[40, 50)               0         11      2      0\n",
       "[50, 1000)             0        120     28      1\n",
       "[1000, 2000)           0         29      5      0"
      ]
     },
     "execution_count": 240,
     "metadata": {},
     "output_type": "execute_result"
    }
   ],
   "source": [
    "data.pivot_table('floor_copia', index = [pisos], columns= 'property_type_copia', aggfunc={'floor_copia': 'count'})"
   ]
  },
  {
   "cell_type": "code",
   "execution_count": 241,
   "metadata": {},
   "outputs": [],
   "source": [
    "patron = \"\\spiso:[\\s]?(?P<numero>\\d[\\d]?)\"\n",
    "busca = re.compile(patron)\n",
    "\n",
    "description_series_match = data.description_copia.apply(lambda x:  x if x is np.NaN else busca.search(x))\n",
    "\n",
    "mask_description_notnull = description_series_match.notnull()\n",
    "data.loc[mask_description_notnull,'floor_copia'] = description_series_match[mask_description_notnull].apply(lambda x: x.group('numero')).astype(float)"
   ]
  },
  {
   "cell_type": "code",
   "execution_count": 242,
   "metadata": {},
   "outputs": [
    {
     "data": {
      "text/plain": [
       "True     112808\n",
       "False      8412\n",
       "Name: floor_copia, dtype: int64"
      ]
     },
     "execution_count": 242,
     "metadata": {},
     "output_type": "execute_result"
    }
   ],
   "source": [
    "data['floor_copia'].isnull().value_counts()"
   ]
  },
  {
   "cell_type": "code",
   "execution_count": 243,
   "metadata": {},
   "outputs": [
    {
     "data": {
      "text/html": [
       "<div>\n",
       "<style scoped>\n",
       "    .dataframe tbody tr th:only-of-type {\n",
       "        vertical-align: middle;\n",
       "    }\n",
       "\n",
       "    .dataframe tbody tr th {\n",
       "        vertical-align: top;\n",
       "    }\n",
       "\n",
       "    .dataframe thead th {\n",
       "        text-align: right;\n",
       "    }\n",
       "</style>\n",
       "<table border=\"1\" class=\"dataframe\">\n",
       "  <thead>\n",
       "    <tr style=\"text-align: right;\">\n",
       "      <th>property_type_copia</th>\n",
       "      <th>PH</th>\n",
       "      <th>apartment</th>\n",
       "      <th>house</th>\n",
       "      <th>store</th>\n",
       "    </tr>\n",
       "    <tr>\n",
       "      <th>floor_copia</th>\n",
       "      <th></th>\n",
       "      <th></th>\n",
       "      <th></th>\n",
       "      <th></th>\n",
       "    </tr>\n",
       "  </thead>\n",
       "  <tbody>\n",
       "    <tr>\n",
       "      <th>[0, 1)</th>\n",
       "      <td>0</td>\n",
       "      <td>0</td>\n",
       "      <td>0</td>\n",
       "      <td>0</td>\n",
       "    </tr>\n",
       "    <tr>\n",
       "      <th>[1, 2)</th>\n",
       "      <td>158</td>\n",
       "      <td>1538</td>\n",
       "      <td>403</td>\n",
       "      <td>24</td>\n",
       "    </tr>\n",
       "    <tr>\n",
       "      <th>[2, 3)</th>\n",
       "      <td>169</td>\n",
       "      <td>1152</td>\n",
       "      <td>343</td>\n",
       "      <td>12</td>\n",
       "    </tr>\n",
       "    <tr>\n",
       "      <th>[3, 4)</th>\n",
       "      <td>72</td>\n",
       "      <td>865</td>\n",
       "      <td>103</td>\n",
       "      <td>1</td>\n",
       "    </tr>\n",
       "    <tr>\n",
       "      <th>[4, 5)</th>\n",
       "      <td>43</td>\n",
       "      <td>673</td>\n",
       "      <td>35</td>\n",
       "      <td>1</td>\n",
       "    </tr>\n",
       "    <tr>\n",
       "      <th>[5, 6)</th>\n",
       "      <td>38</td>\n",
       "      <td>454</td>\n",
       "      <td>8</td>\n",
       "      <td>0</td>\n",
       "    </tr>\n",
       "    <tr>\n",
       "      <th>[6, 7)</th>\n",
       "      <td>42</td>\n",
       "      <td>448</td>\n",
       "      <td>3</td>\n",
       "      <td>2</td>\n",
       "    </tr>\n",
       "    <tr>\n",
       "      <th>[7, 8)</th>\n",
       "      <td>31</td>\n",
       "      <td>329</td>\n",
       "      <td>4</td>\n",
       "      <td>0</td>\n",
       "    </tr>\n",
       "    <tr>\n",
       "      <th>[8, 9)</th>\n",
       "      <td>12</td>\n",
       "      <td>238</td>\n",
       "      <td>4</td>\n",
       "      <td>2</td>\n",
       "    </tr>\n",
       "    <tr>\n",
       "      <th>[9, 15)</th>\n",
       "      <td>52</td>\n",
       "      <td>693</td>\n",
       "      <td>9</td>\n",
       "      <td>10</td>\n",
       "    </tr>\n",
       "    <tr>\n",
       "      <th>[15, 20)</th>\n",
       "      <td>4</td>\n",
       "      <td>117</td>\n",
       "      <td>1</td>\n",
       "      <td>10</td>\n",
       "    </tr>\n",
       "    <tr>\n",
       "      <th>[20, 30)</th>\n",
       "      <td>1</td>\n",
       "      <td>43</td>\n",
       "      <td>11</td>\n",
       "      <td>3</td>\n",
       "    </tr>\n",
       "    <tr>\n",
       "      <th>[30, 40)</th>\n",
       "      <td>0</td>\n",
       "      <td>15</td>\n",
       "      <td>6</td>\n",
       "      <td>9</td>\n",
       "    </tr>\n",
       "    <tr>\n",
       "      <th>[40, 50)</th>\n",
       "      <td>0</td>\n",
       "      <td>13</td>\n",
       "      <td>2</td>\n",
       "      <td>2</td>\n",
       "    </tr>\n",
       "    <tr>\n",
       "      <th>[50, 1000)</th>\n",
       "      <td>3</td>\n",
       "      <td>127</td>\n",
       "      <td>30</td>\n",
       "      <td>6</td>\n",
       "    </tr>\n",
       "    <tr>\n",
       "      <th>[1000, 2000)</th>\n",
       "      <td>0</td>\n",
       "      <td>29</td>\n",
       "      <td>5</td>\n",
       "      <td>0</td>\n",
       "    </tr>\n",
       "  </tbody>\n",
       "</table>\n",
       "</div>"
      ],
      "text/plain": [
       "property_type_copia   PH  apartment  house  store\n",
       "floor_copia                                      \n",
       "[0, 1)                 0          0      0      0\n",
       "[1, 2)               158       1538    403     24\n",
       "[2, 3)               169       1152    343     12\n",
       "[3, 4)                72        865    103      1\n",
       "[4, 5)                43        673     35      1\n",
       "[5, 6)                38        454      8      0\n",
       "[6, 7)                42        448      3      2\n",
       "[7, 8)                31        329      4      0\n",
       "[8, 9)                12        238      4      2\n",
       "[9, 15)               52        693      9     10\n",
       "[15, 20)               4        117      1     10\n",
       "[20, 30)               1         43     11      3\n",
       "[30, 40)               0         15      6      9\n",
       "[40, 50)               0         13      2      2\n",
       "[50, 1000)             3        127     30      6\n",
       "[1000, 2000)           0         29      5      0"
      ]
     },
     "execution_count": 243,
     "metadata": {},
     "output_type": "execute_result"
    }
   ],
   "source": [
    "bins = [0, 1, 2, 3, 4, 5, 6, 7, 8, 9, 15, 20, 30, 40, 50, 1000, 2000]\n",
    "pisos = pd.cut(data.floor_copia, bins, right = False)\n",
    "data.pivot_table('floor_copia', index = [pisos], columns= 'property_type_copia', aggfunc={'floor_copia': 'count'})"
   ]
  },
  {
   "cell_type": "code",
   "execution_count": 244,
   "metadata": {},
   "outputs": [],
   "source": [
    "patron = \"piso[\\s]?(?P<numero>\\d[\\d]?)\"\n",
    "\n",
    "busca = re.compile(patron)\n",
    "\n",
    "description_series_match = data.description_copia.apply(lambda x:  x if x is np.NaN else busca.search(x))\n",
    "\n",
    "mask_description_notnull = description_series_match.notnull()\n",
    "data.loc[mask_description_notnull,'floor_copia'] = description_series_match[mask_description_notnull].apply(lambda x: x.group('numero')).astype(float)"
   ]
  },
  {
   "cell_type": "code",
   "execution_count": 245,
   "metadata": {},
   "outputs": [
    {
     "data": {
      "text/plain": [
       "True     109015\n",
       "False     12205\n",
       "Name: floor_copia, dtype: int64"
      ]
     },
     "execution_count": 245,
     "metadata": {},
     "output_type": "execute_result"
    }
   ],
   "source": [
    "data['floor_copia'].isnull().value_counts()"
   ]
  },
  {
   "cell_type": "code",
   "execution_count": 246,
   "metadata": {},
   "outputs": [
    {
     "data": {
      "text/html": [
       "<div>\n",
       "<style scoped>\n",
       "    .dataframe tbody tr th:only-of-type {\n",
       "        vertical-align: middle;\n",
       "    }\n",
       "\n",
       "    .dataframe tbody tr th {\n",
       "        vertical-align: top;\n",
       "    }\n",
       "\n",
       "    .dataframe thead th {\n",
       "        text-align: right;\n",
       "    }\n",
       "</style>\n",
       "<table border=\"1\" class=\"dataframe\">\n",
       "  <thead>\n",
       "    <tr style=\"text-align: right;\">\n",
       "      <th>property_type_copia</th>\n",
       "      <th>PH</th>\n",
       "      <th>apartment</th>\n",
       "      <th>house</th>\n",
       "      <th>store</th>\n",
       "    </tr>\n",
       "    <tr>\n",
       "      <th>floor_copia</th>\n",
       "      <th></th>\n",
       "      <th></th>\n",
       "      <th></th>\n",
       "      <th></th>\n",
       "    </tr>\n",
       "  </thead>\n",
       "  <tbody>\n",
       "    <tr>\n",
       "      <th>[0, 1)</th>\n",
       "      <td>0</td>\n",
       "      <td>0</td>\n",
       "      <td>0</td>\n",
       "      <td>0</td>\n",
       "    </tr>\n",
       "    <tr>\n",
       "      <th>[1, 2)</th>\n",
       "      <td>161</td>\n",
       "      <td>1825</td>\n",
       "      <td>430</td>\n",
       "      <td>27</td>\n",
       "    </tr>\n",
       "    <tr>\n",
       "      <th>[2, 3)</th>\n",
       "      <td>177</td>\n",
       "      <td>1407</td>\n",
       "      <td>372</td>\n",
       "      <td>17</td>\n",
       "    </tr>\n",
       "    <tr>\n",
       "      <th>[3, 4)</th>\n",
       "      <td>82</td>\n",
       "      <td>1144</td>\n",
       "      <td>136</td>\n",
       "      <td>4</td>\n",
       "    </tr>\n",
       "    <tr>\n",
       "      <th>[4, 5)</th>\n",
       "      <td>46</td>\n",
       "      <td>948</td>\n",
       "      <td>53</td>\n",
       "      <td>5</td>\n",
       "    </tr>\n",
       "    <tr>\n",
       "      <th>[5, 6)</th>\n",
       "      <td>38</td>\n",
       "      <td>560</td>\n",
       "      <td>10</td>\n",
       "      <td>4</td>\n",
       "    </tr>\n",
       "    <tr>\n",
       "      <th>[6, 7)</th>\n",
       "      <td>42</td>\n",
       "      <td>678</td>\n",
       "      <td>6</td>\n",
       "      <td>2</td>\n",
       "    </tr>\n",
       "    <tr>\n",
       "      <th>[7, 8)</th>\n",
       "      <td>31</td>\n",
       "      <td>497</td>\n",
       "      <td>5</td>\n",
       "      <td>1</td>\n",
       "    </tr>\n",
       "    <tr>\n",
       "      <th>[8, 9)</th>\n",
       "      <td>12</td>\n",
       "      <td>425</td>\n",
       "      <td>4</td>\n",
       "      <td>5</td>\n",
       "    </tr>\n",
       "    <tr>\n",
       "      <th>[9, 15)</th>\n",
       "      <td>56</td>\n",
       "      <td>1834</td>\n",
       "      <td>27</td>\n",
       "      <td>27</td>\n",
       "    </tr>\n",
       "    <tr>\n",
       "      <th>[15, 20)</th>\n",
       "      <td>4</td>\n",
       "      <td>557</td>\n",
       "      <td>1</td>\n",
       "      <td>14</td>\n",
       "    </tr>\n",
       "    <tr>\n",
       "      <th>[20, 30)</th>\n",
       "      <td>1</td>\n",
       "      <td>214</td>\n",
       "      <td>11</td>\n",
       "      <td>7</td>\n",
       "    </tr>\n",
       "    <tr>\n",
       "      <th>[30, 40)</th>\n",
       "      <td>0</td>\n",
       "      <td>59</td>\n",
       "      <td>8</td>\n",
       "      <td>11</td>\n",
       "    </tr>\n",
       "    <tr>\n",
       "      <th>[40, 50)</th>\n",
       "      <td>0</td>\n",
       "      <td>35</td>\n",
       "      <td>3</td>\n",
       "      <td>3</td>\n",
       "    </tr>\n",
       "    <tr>\n",
       "      <th>[50, 1000)</th>\n",
       "      <td>3</td>\n",
       "      <td>114</td>\n",
       "      <td>35</td>\n",
       "      <td>18</td>\n",
       "    </tr>\n",
       "    <tr>\n",
       "      <th>[1000, 2000)</th>\n",
       "      <td>0</td>\n",
       "      <td>0</td>\n",
       "      <td>5</td>\n",
       "      <td>0</td>\n",
       "    </tr>\n",
       "  </tbody>\n",
       "</table>\n",
       "</div>"
      ],
      "text/plain": [
       "property_type_copia   PH  apartment  house  store\n",
       "floor_copia                                      \n",
       "[0, 1)                 0          0      0      0\n",
       "[1, 2)               161       1825    430     27\n",
       "[2, 3)               177       1407    372     17\n",
       "[3, 4)                82       1144    136      4\n",
       "[4, 5)                46        948     53      5\n",
       "[5, 6)                38        560     10      4\n",
       "[6, 7)                42        678      6      2\n",
       "[7, 8)                31        497      5      1\n",
       "[8, 9)                12        425      4      5\n",
       "[9, 15)               56       1834     27     27\n",
       "[15, 20)               4        557      1     14\n",
       "[20, 30)               1        214     11      7\n",
       "[30, 40)               0         59      8     11\n",
       "[40, 50)               0         35      3      3\n",
       "[50, 1000)             3        114     35     18\n",
       "[1000, 2000)           0          0      5      0"
      ]
     },
     "execution_count": 246,
     "metadata": {},
     "output_type": "execute_result"
    }
   ],
   "source": [
    "bins = [0, 1, 2, 3, 4, 5, 6, 7, 8, 9, 15, 20, 30, 40, 50, 1000, 2000]\n",
    "pisos = pd.cut(data.floor_copia, bins, right = False)\n",
    "data.pivot_table('floor_copia', index = [pisos], columns= 'property_type_copia', aggfunc={'floor_copia': 'count'})"
   ]
  },
  {
   "cell_type": "code",
   "execution_count": 247,
   "metadata": {},
   "outputs": [],
   "source": [
    "data.loc[mask_description_notnull, ['description_copia', 'title_copia']] = \"\""
   ]
  },
  {
   "cell_type": "code",
   "execution_count": 248,
   "metadata": {},
   "outputs": [],
   "source": [
    "patron = \"\\s(?P<numero>\\d[\\d]?)[\\s]?[º|°]?\\s*piso\"\n",
    "busca = re.compile(patron)\n",
    "\n",
    "description_series_match = data.description_copia.apply(lambda x:  x if x is np.NaN else busca.search(x))\n",
    "\n",
    "mask_description_notnull = description_series_match.notnull()\n",
    "data.loc[mask_description_notnull,'floor_copia'] = description_series_match[mask_description_notnull].apply(lambda x: x.group('numero')).astype(float)"
   ]
  },
  {
   "cell_type": "code",
   "execution_count": 249,
   "metadata": {},
   "outputs": [
    {
     "data": {
      "text/plain": [
       "dtype('float64')"
      ]
     },
     "execution_count": 249,
     "metadata": {},
     "output_type": "execute_result"
    }
   ],
   "source": [
    "data.floor_copia.dtypes"
   ]
  },
  {
   "cell_type": "code",
   "execution_count": 250,
   "metadata": {},
   "outputs": [
    {
     "data": {
      "text/plain": [
       "True     101137\n",
       "False     20083\n",
       "Name: floor_copia, dtype: int64"
      ]
     },
     "execution_count": 250,
     "metadata": {},
     "output_type": "execute_result"
    }
   ],
   "source": [
    "data['floor_copia'].isnull().value_counts()"
   ]
  },
  {
   "cell_type": "code",
   "execution_count": 251,
   "metadata": {},
   "outputs": [
    {
     "data": {
      "text/html": [
       "<div>\n",
       "<style scoped>\n",
       "    .dataframe tbody tr th:only-of-type {\n",
       "        vertical-align: middle;\n",
       "    }\n",
       "\n",
       "    .dataframe tbody tr th {\n",
       "        vertical-align: top;\n",
       "    }\n",
       "\n",
       "    .dataframe thead th {\n",
       "        text-align: right;\n",
       "    }\n",
       "</style>\n",
       "<table border=\"1\" class=\"dataframe\">\n",
       "  <thead>\n",
       "    <tr style=\"text-align: right;\">\n",
       "      <th>property_type_copia</th>\n",
       "      <th>PH</th>\n",
       "      <th>apartment</th>\n",
       "      <th>house</th>\n",
       "      <th>store</th>\n",
       "    </tr>\n",
       "    <tr>\n",
       "      <th>floor_copia</th>\n",
       "      <th></th>\n",
       "      <th></th>\n",
       "      <th></th>\n",
       "      <th></th>\n",
       "    </tr>\n",
       "  </thead>\n",
       "  <tbody>\n",
       "    <tr>\n",
       "      <th>[0, 1)</th>\n",
       "      <td>0</td>\n",
       "      <td>0</td>\n",
       "      <td>0</td>\n",
       "      <td>0</td>\n",
       "    </tr>\n",
       "    <tr>\n",
       "      <th>[1, 2)</th>\n",
       "      <td>330</td>\n",
       "      <td>2401</td>\n",
       "      <td>626</td>\n",
       "      <td>88</td>\n",
       "    </tr>\n",
       "    <tr>\n",
       "      <th>[2, 3)</th>\n",
       "      <td>201</td>\n",
       "      <td>1919</td>\n",
       "      <td>461</td>\n",
       "      <td>45</td>\n",
       "    </tr>\n",
       "    <tr>\n",
       "      <th>[3, 4)</th>\n",
       "      <td>96</td>\n",
       "      <td>1683</td>\n",
       "      <td>186</td>\n",
       "      <td>21</td>\n",
       "    </tr>\n",
       "    <tr>\n",
       "      <th>[4, 5)</th>\n",
       "      <td>52</td>\n",
       "      <td>1536</td>\n",
       "      <td>83</td>\n",
       "      <td>18</td>\n",
       "    </tr>\n",
       "    <tr>\n",
       "      <th>[5, 6)</th>\n",
       "      <td>42</td>\n",
       "      <td>1002</td>\n",
       "      <td>27</td>\n",
       "      <td>9</td>\n",
       "    </tr>\n",
       "    <tr>\n",
       "      <th>[6, 7)</th>\n",
       "      <td>45</td>\n",
       "      <td>1181</td>\n",
       "      <td>16</td>\n",
       "      <td>8</td>\n",
       "    </tr>\n",
       "    <tr>\n",
       "      <th>[7, 8)</th>\n",
       "      <td>31</td>\n",
       "      <td>982</td>\n",
       "      <td>12</td>\n",
       "      <td>7</td>\n",
       "    </tr>\n",
       "    <tr>\n",
       "      <th>[8, 9)</th>\n",
       "      <td>13</td>\n",
       "      <td>1190</td>\n",
       "      <td>12</td>\n",
       "      <td>15</td>\n",
       "    </tr>\n",
       "    <tr>\n",
       "      <th>[9, 15)</th>\n",
       "      <td>59</td>\n",
       "      <td>3998</td>\n",
       "      <td>41</td>\n",
       "      <td>50</td>\n",
       "    </tr>\n",
       "    <tr>\n",
       "      <th>[15, 20)</th>\n",
       "      <td>4</td>\n",
       "      <td>758</td>\n",
       "      <td>6</td>\n",
       "      <td>15</td>\n",
       "    </tr>\n",
       "    <tr>\n",
       "      <th>[20, 30)</th>\n",
       "      <td>1</td>\n",
       "      <td>437</td>\n",
       "      <td>10</td>\n",
       "      <td>8</td>\n",
       "    </tr>\n",
       "    <tr>\n",
       "      <th>[30, 40)</th>\n",
       "      <td>0</td>\n",
       "      <td>94</td>\n",
       "      <td>8</td>\n",
       "      <td>5</td>\n",
       "    </tr>\n",
       "    <tr>\n",
       "      <th>[40, 50)</th>\n",
       "      <td>0</td>\n",
       "      <td>53</td>\n",
       "      <td>3</td>\n",
       "      <td>2</td>\n",
       "    </tr>\n",
       "    <tr>\n",
       "      <th>[50, 1000)</th>\n",
       "      <td>3</td>\n",
       "      <td>129</td>\n",
       "      <td>36</td>\n",
       "      <td>17</td>\n",
       "    </tr>\n",
       "    <tr>\n",
       "      <th>[1000, 2000)</th>\n",
       "      <td>0</td>\n",
       "      <td>0</td>\n",
       "      <td>5</td>\n",
       "      <td>0</td>\n",
       "    </tr>\n",
       "  </tbody>\n",
       "</table>\n",
       "</div>"
      ],
      "text/plain": [
       "property_type_copia   PH  apartment  house  store\n",
       "floor_copia                                      \n",
       "[0, 1)                 0          0      0      0\n",
       "[1, 2)               330       2401    626     88\n",
       "[2, 3)               201       1919    461     45\n",
       "[3, 4)                96       1683    186     21\n",
       "[4, 5)                52       1536     83     18\n",
       "[5, 6)                42       1002     27      9\n",
       "[6, 7)                45       1181     16      8\n",
       "[7, 8)                31        982     12      7\n",
       "[8, 9)                13       1190     12     15\n",
       "[9, 15)               59       3998     41     50\n",
       "[15, 20)               4        758      6     15\n",
       "[20, 30)               1        437     10      8\n",
       "[30, 40)               0         94      8      5\n",
       "[40, 50)               0         53      3      2\n",
       "[50, 1000)             3        129     36     17\n",
       "[1000, 2000)           0          0      5      0"
      ]
     },
     "execution_count": 251,
     "metadata": {},
     "output_type": "execute_result"
    }
   ],
   "source": [
    "bins = [0, 1, 2, 3, 4, 5, 6, 7, 8, 9, 15, 20, 30, 40, 50, 1000, 2000]\n",
    "pisos = pd.cut(data.floor_copia, bins, right = False)\n",
    "data.pivot_table('floor_copia', index = [pisos], columns= 'property_type_copia', aggfunc={'floor_copia': 'count'})"
   ]
  },
  {
   "cell_type": "code",
   "execution_count": 252,
   "metadata": {},
   "outputs": [],
   "source": [
    "data.loc[mask_description_notnull, ['description_copia', 'title_copia']] = \"\""
   ]
  },
  {
   "cell_type": "code",
   "execution_count": 253,
   "metadata": {},
   "outputs": [],
   "source": [
    "patron = \"\\s(?P<numero>\\d[\\d]?)\\s*\\w{0,5}\\s*piso\"\n",
    "busca = re.compile(patron)\n",
    "\n",
    "description_series_match = data.description_copia.apply(lambda x:  x if x is np.NaN else busca.search(x))\n",
    "\n",
    "mask_description_notnull = description_series_match.notnull()\n",
    "data.loc[mask_description_notnull,'floor_copia'] = description_series_match[mask_description_notnull].apply(lambda x: x.group('numero')).astype(float)"
   ]
  },
  {
   "cell_type": "code",
   "execution_count": 254,
   "metadata": {},
   "outputs": [
    {
     "data": {
      "text/plain": [
       "dtype('float64')"
      ]
     },
     "execution_count": 254,
     "metadata": {},
     "output_type": "execute_result"
    }
   ],
   "source": [
    "data.floor_copia.dtypes"
   ]
  },
  {
   "cell_type": "code",
   "execution_count": 255,
   "metadata": {},
   "outputs": [
    {
     "data": {
      "text/plain": [
       "True     99124\n",
       "False    22096\n",
       "Name: floor_copia, dtype: int64"
      ]
     },
     "execution_count": 255,
     "metadata": {},
     "output_type": "execute_result"
    }
   ],
   "source": [
    "data['floor_copia'].isnull().value_counts()"
   ]
  },
  {
   "cell_type": "code",
   "execution_count": 256,
   "metadata": {},
   "outputs": [
    {
     "data": {
      "text/html": [
       "<div>\n",
       "<style scoped>\n",
       "    .dataframe tbody tr th:only-of-type {\n",
       "        vertical-align: middle;\n",
       "    }\n",
       "\n",
       "    .dataframe tbody tr th {\n",
       "        vertical-align: top;\n",
       "    }\n",
       "\n",
       "    .dataframe thead th {\n",
       "        text-align: right;\n",
       "    }\n",
       "</style>\n",
       "<table border=\"1\" class=\"dataframe\">\n",
       "  <thead>\n",
       "    <tr style=\"text-align: right;\">\n",
       "      <th>property_type_copia</th>\n",
       "      <th>PH</th>\n",
       "      <th>apartment</th>\n",
       "      <th>house</th>\n",
       "      <th>store</th>\n",
       "    </tr>\n",
       "    <tr>\n",
       "      <th>floor_copia</th>\n",
       "      <th></th>\n",
       "      <th></th>\n",
       "      <th></th>\n",
       "      <th></th>\n",
       "    </tr>\n",
       "  </thead>\n",
       "  <tbody>\n",
       "    <tr>\n",
       "      <th>[0, 1)</th>\n",
       "      <td>0</td>\n",
       "      <td>0</td>\n",
       "      <td>0</td>\n",
       "      <td>0</td>\n",
       "    </tr>\n",
       "    <tr>\n",
       "      <th>[1, 2)</th>\n",
       "      <td>417</td>\n",
       "      <td>2746</td>\n",
       "      <td>774</td>\n",
       "      <td>115</td>\n",
       "    </tr>\n",
       "    <tr>\n",
       "      <th>[2, 3)</th>\n",
       "      <td>230</td>\n",
       "      <td>2219</td>\n",
       "      <td>520</td>\n",
       "      <td>52</td>\n",
       "    </tr>\n",
       "    <tr>\n",
       "      <th>[3, 4)</th>\n",
       "      <td>106</td>\n",
       "      <td>1899</td>\n",
       "      <td>234</td>\n",
       "      <td>23</td>\n",
       "    </tr>\n",
       "    <tr>\n",
       "      <th>[4, 5)</th>\n",
       "      <td>57</td>\n",
       "      <td>1682</td>\n",
       "      <td>121</td>\n",
       "      <td>20</td>\n",
       "    </tr>\n",
       "    <tr>\n",
       "      <th>[5, 6)</th>\n",
       "      <td>45</td>\n",
       "      <td>1114</td>\n",
       "      <td>39</td>\n",
       "      <td>9</td>\n",
       "    </tr>\n",
       "    <tr>\n",
       "      <th>[6, 7)</th>\n",
       "      <td>46</td>\n",
       "      <td>1269</td>\n",
       "      <td>22</td>\n",
       "      <td>10</td>\n",
       "    </tr>\n",
       "    <tr>\n",
       "      <th>[7, 8)</th>\n",
       "      <td>31</td>\n",
       "      <td>1051</td>\n",
       "      <td>16</td>\n",
       "      <td>7</td>\n",
       "    </tr>\n",
       "    <tr>\n",
       "      <th>[8, 9)</th>\n",
       "      <td>13</td>\n",
       "      <td>1259</td>\n",
       "      <td>12</td>\n",
       "      <td>15</td>\n",
       "    </tr>\n",
       "    <tr>\n",
       "      <th>[9, 15)</th>\n",
       "      <td>60</td>\n",
       "      <td>4075</td>\n",
       "      <td>47</td>\n",
       "      <td>50</td>\n",
       "    </tr>\n",
       "    <tr>\n",
       "      <th>[15, 20)</th>\n",
       "      <td>4</td>\n",
       "      <td>785</td>\n",
       "      <td>6</td>\n",
       "      <td>15</td>\n",
       "    </tr>\n",
       "    <tr>\n",
       "      <th>[20, 30)</th>\n",
       "      <td>2</td>\n",
       "      <td>461</td>\n",
       "      <td>12</td>\n",
       "      <td>8</td>\n",
       "    </tr>\n",
       "    <tr>\n",
       "      <th>[30, 40)</th>\n",
       "      <td>0</td>\n",
       "      <td>98</td>\n",
       "      <td>8</td>\n",
       "      <td>5</td>\n",
       "    </tr>\n",
       "    <tr>\n",
       "      <th>[40, 50)</th>\n",
       "      <td>0</td>\n",
       "      <td>61</td>\n",
       "      <td>3</td>\n",
       "      <td>2</td>\n",
       "    </tr>\n",
       "    <tr>\n",
       "      <th>[50, 1000)</th>\n",
       "      <td>2</td>\n",
       "      <td>152</td>\n",
       "      <td>41</td>\n",
       "      <td>18</td>\n",
       "    </tr>\n",
       "    <tr>\n",
       "      <th>[1000, 2000)</th>\n",
       "      <td>0</td>\n",
       "      <td>0</td>\n",
       "      <td>5</td>\n",
       "      <td>0</td>\n",
       "    </tr>\n",
       "  </tbody>\n",
       "</table>\n",
       "</div>"
      ],
      "text/plain": [
       "property_type_copia   PH  apartment  house  store\n",
       "floor_copia                                      \n",
       "[0, 1)                 0          0      0      0\n",
       "[1, 2)               417       2746    774    115\n",
       "[2, 3)               230       2219    520     52\n",
       "[3, 4)               106       1899    234     23\n",
       "[4, 5)                57       1682    121     20\n",
       "[5, 6)                45       1114     39      9\n",
       "[6, 7)                46       1269     22     10\n",
       "[7, 8)                31       1051     16      7\n",
       "[8, 9)                13       1259     12     15\n",
       "[9, 15)               60       4075     47     50\n",
       "[15, 20)               4        785      6     15\n",
       "[20, 30)               2        461     12      8\n",
       "[30, 40)               0         98      8      5\n",
       "[40, 50)               0         61      3      2\n",
       "[50, 1000)             2        152     41     18\n",
       "[1000, 2000)           0          0      5      0"
      ]
     },
     "execution_count": 256,
     "metadata": {},
     "output_type": "execute_result"
    }
   ],
   "source": [
    "bins = [0, 1, 2, 3, 4, 5, 6, 7, 8, 9, 15, 20, 30, 40, 50, 1000, 2000]\n",
    "pisos = pd.cut(data.floor_copia, bins, right = False)\n",
    "data.pivot_table('floor_copia', index = [pisos], columns= 'property_type_copia', aggfunc={'floor_copia': 'count'})"
   ]
  },
  {
   "cell_type": "code",
   "execution_count": 257,
   "metadata": {},
   "outputs": [],
   "source": [
    "data.loc[mask_description_notnull, ['description_copia', 'title_copia']] = \"\""
   ]
  },
  {
   "cell_type": "code",
   "execution_count": 258,
   "metadata": {},
   "outputs": [],
   "source": [
    "patron = r\"(duplex|triplex)\"\n",
    "busca = re.compile(patron)\n",
    "\n",
    "description_series_match = data.description_copia.apply(lambda x:  x if x is np.NaN else busca.search(x))\n",
    "mask_description_notnull = description_series_match.notnull()\n",
    "encontradas = description_series_match[mask_description_notnull].apply(lambda x: x.group(1))\n",
    "\n",
    "numcol_cat_mapper = {'duplex': 2,'triplex': 3}\n",
    "encontradas1 = encontradas.map(numcol_cat_mapper)\n"
   ]
  },
  {
   "cell_type": "code",
   "execution_count": 259,
   "metadata": {},
   "outputs": [],
   "source": [
    "data.loc[mask_description_notnull,'floor_copia']= encontradas1.astype(float)"
   ]
  },
  {
   "cell_type": "code",
   "execution_count": 260,
   "metadata": {},
   "outputs": [
    {
     "data": {
      "text/plain": [
       "True     94666\n",
       "False    26554\n",
       "Name: floor_copia, dtype: int64"
      ]
     },
     "execution_count": 260,
     "metadata": {},
     "output_type": "execute_result"
    }
   ],
   "source": [
    "data['floor_copia'].isnull().value_counts()"
   ]
  },
  {
   "cell_type": "code",
   "execution_count": 261,
   "metadata": {},
   "outputs": [
    {
     "data": {
      "text/html": [
       "<div>\n",
       "<style scoped>\n",
       "    .dataframe tbody tr th:only-of-type {\n",
       "        vertical-align: middle;\n",
       "    }\n",
       "\n",
       "    .dataframe tbody tr th {\n",
       "        vertical-align: top;\n",
       "    }\n",
       "\n",
       "    .dataframe thead th {\n",
       "        text-align: right;\n",
       "    }\n",
       "</style>\n",
       "<table border=\"1\" class=\"dataframe\">\n",
       "  <thead>\n",
       "    <tr style=\"text-align: right;\">\n",
       "      <th>property_type_copia</th>\n",
       "      <th>PH</th>\n",
       "      <th>apartment</th>\n",
       "      <th>house</th>\n",
       "      <th>store</th>\n",
       "    </tr>\n",
       "    <tr>\n",
       "      <th>floor_copia</th>\n",
       "      <th></th>\n",
       "      <th></th>\n",
       "      <th></th>\n",
       "      <th></th>\n",
       "    </tr>\n",
       "  </thead>\n",
       "  <tbody>\n",
       "    <tr>\n",
       "      <th>[0, 1)</th>\n",
       "      <td>0</td>\n",
       "      <td>0</td>\n",
       "      <td>0</td>\n",
       "      <td>0</td>\n",
       "    </tr>\n",
       "    <tr>\n",
       "      <th>[1, 2)</th>\n",
       "      <td>404</td>\n",
       "      <td>2710</td>\n",
       "      <td>767</td>\n",
       "      <td>115</td>\n",
       "    </tr>\n",
       "    <tr>\n",
       "      <th>[2, 3)</th>\n",
       "      <td>622</td>\n",
       "      <td>4333</td>\n",
       "      <td>2096</td>\n",
       "      <td>70</td>\n",
       "    </tr>\n",
       "    <tr>\n",
       "      <th>[3, 4)</th>\n",
       "      <td>155</td>\n",
       "      <td>2084</td>\n",
       "      <td>513</td>\n",
       "      <td>23</td>\n",
       "    </tr>\n",
       "    <tr>\n",
       "      <th>[4, 5)</th>\n",
       "      <td>57</td>\n",
       "      <td>1672</td>\n",
       "      <td>119</td>\n",
       "      <td>20</td>\n",
       "    </tr>\n",
       "    <tr>\n",
       "      <th>[5, 6)</th>\n",
       "      <td>43</td>\n",
       "      <td>1101</td>\n",
       "      <td>37</td>\n",
       "      <td>9</td>\n",
       "    </tr>\n",
       "    <tr>\n",
       "      <th>[6, 7)</th>\n",
       "      <td>46</td>\n",
       "      <td>1259</td>\n",
       "      <td>22</td>\n",
       "      <td>10</td>\n",
       "    </tr>\n",
       "    <tr>\n",
       "      <th>[7, 8)</th>\n",
       "      <td>30</td>\n",
       "      <td>1040</td>\n",
       "      <td>15</td>\n",
       "      <td>7</td>\n",
       "    </tr>\n",
       "    <tr>\n",
       "      <th>[8, 9)</th>\n",
       "      <td>13</td>\n",
       "      <td>1251</td>\n",
       "      <td>12</td>\n",
       "      <td>15</td>\n",
       "    </tr>\n",
       "    <tr>\n",
       "      <th>[9, 15)</th>\n",
       "      <td>60</td>\n",
       "      <td>4059</td>\n",
       "      <td>43</td>\n",
       "      <td>50</td>\n",
       "    </tr>\n",
       "    <tr>\n",
       "      <th>[15, 20)</th>\n",
       "      <td>4</td>\n",
       "      <td>777</td>\n",
       "      <td>6</td>\n",
       "      <td>15</td>\n",
       "    </tr>\n",
       "    <tr>\n",
       "      <th>[20, 30)</th>\n",
       "      <td>2</td>\n",
       "      <td>460</td>\n",
       "      <td>10</td>\n",
       "      <td>8</td>\n",
       "    </tr>\n",
       "    <tr>\n",
       "      <th>[30, 40)</th>\n",
       "      <td>0</td>\n",
       "      <td>98</td>\n",
       "      <td>5</td>\n",
       "      <td>5</td>\n",
       "    </tr>\n",
       "    <tr>\n",
       "      <th>[40, 50)</th>\n",
       "      <td>0</td>\n",
       "      <td>61</td>\n",
       "      <td>3</td>\n",
       "      <td>2</td>\n",
       "    </tr>\n",
       "    <tr>\n",
       "      <th>[50, 1000)</th>\n",
       "      <td>2</td>\n",
       "      <td>148</td>\n",
       "      <td>41</td>\n",
       "      <td>18</td>\n",
       "    </tr>\n",
       "    <tr>\n",
       "      <th>[1000, 2000)</th>\n",
       "      <td>0</td>\n",
       "      <td>0</td>\n",
       "      <td>5</td>\n",
       "      <td>0</td>\n",
       "    </tr>\n",
       "  </tbody>\n",
       "</table>\n",
       "</div>"
      ],
      "text/plain": [
       "property_type_copia   PH  apartment  house  store\n",
       "floor_copia                                      \n",
       "[0, 1)                 0          0      0      0\n",
       "[1, 2)               404       2710    767    115\n",
       "[2, 3)               622       4333   2096     70\n",
       "[3, 4)               155       2084    513     23\n",
       "[4, 5)                57       1672    119     20\n",
       "[5, 6)                43       1101     37      9\n",
       "[6, 7)                46       1259     22     10\n",
       "[7, 8)                30       1040     15      7\n",
       "[8, 9)                13       1251     12     15\n",
       "[9, 15)               60       4059     43     50\n",
       "[15, 20)               4        777      6     15\n",
       "[20, 30)               2        460     10      8\n",
       "[30, 40)               0         98      5      5\n",
       "[40, 50)               0         61      3      2\n",
       "[50, 1000)             2        148     41     18\n",
       "[1000, 2000)           0          0      5      0"
      ]
     },
     "execution_count": 261,
     "metadata": {},
     "output_type": "execute_result"
    }
   ],
   "source": [
    "bins = [0, 1, 2, 3, 4, 5, 6, 7, 8, 9, 15, 20, 30, 40, 50, 1000, 2000]\n",
    "pisos = pd.cut(data.floor_copia, bins, right = False)\n",
    "data.pivot_table('floor_copia', index = [pisos], columns= 'property_type_copia', aggfunc={'floor_copia': 'count'})"
   ]
  },
  {
   "cell_type": "code",
   "execution_count": 262,
   "metadata": {},
   "outputs": [],
   "source": [
    "data.loc[mask_description_notnull, ['description_copia', 'title_copia']] = \"\""
   ]
  },
  {
   "cell_type": "code",
   "execution_count": 263,
   "metadata": {},
   "outputs": [],
   "source": [
    "patron = r\"(primer|segundo|tercer|cuarto|quinto|sexto|s[e|é]ptimo|octavo|noveno|d[e|é]cimo|d[e|é]cimo[\\s]?primer|d[e|é]cimo[\\s]?segundo|d[e|é]cimo[\\s]?tercer|d[e|é]cimo[\\s]?cuarto|d[e|é]cimo[\\s]?quinto|d[e|é]cimo[\\s]?sexto|d[e|é]cimo[\\s]?s[e|é]ptimo|d[e|é]cimo[\\s]?octavo|d[e|é]cimo[\\s]?noveno|vig[e|é]simo)[\\s]?piso\"\n",
    "busca = re.compile(patron)\n",
    "\n",
    "description_series_match = data.description_copia.apply(lambda x:  x if x is np.NaN else busca.search(x))\n",
    "mask_description_notnull = description_series_match.notnull()\n",
    "encontradas = description_series_match[mask_description_notnull].apply(lambda x: x.group(1))\n",
    "\n",
    "num_pisos_mapper = {'primer': 1,'segundo':2, 'tercer': 3, 'cuarto': 4, 'quinto': 5, 'sexto': 6, \\\n",
    "                    'septimo':7, 'séptimo':7, 'octavo': 8, 'noveno': 9, 'decimo': 10, 'décimo': 10, \\\n",
    "                    'decimo primer': 11, 'décimo primer': 11, 'décimoprimer': 11, 'decimoprimer': 11, \\\n",
    "                    'decimo segundo': 12,  'décimo segundo': 12, 'décimosegundo': 12, 'decimosegundo': 12, \\\n",
    "                    'decimo tercer': 13, 'decimotercer': 13,  'décimo tercer': 13, 'décimotercer': 13, \\\n",
    "                    'decimocuarto': 14, 'decimo cuarto': 14, 'décimocuarto': 14, 'décimo cuarto': 14,\\\n",
    "                    'decimoquinto': 15, 'decimo quinto': 15, 'décimoquinto': 15, 'décimo quinto': 15,\n",
    "                    'décimo sexto': 16,  'decimosexto': 16, 'décimosexto': 16,  'decimo sexto': 16,\\\n",
    "                    'decimoseptimo': 17, 'decimo septimo': 17, 'decimoséptimo': 17, 'decimo séptimo': 17,\\\n",
    "                    'decimooctavo': 18, 'decimo octavo': 18, 'décimooctavo': 18, 'décimo octavo': 18,\\\n",
    "                    'decimonoveno': 19, 'decimo noveno': 19, 'décimonoveno': 19, 'décimo noveno': 19, \\\n",
    "                    'vigesimo': 20, 'vigésimo': 20}\n",
    "encontradas1 = encontradas.map(num_pisos_mapper)"
   ]
  },
  {
   "cell_type": "code",
   "execution_count": 264,
   "metadata": {},
   "outputs": [],
   "source": [
    "data.loc[mask_description_notnull,'floor_copia']= encontradas1.astype(float)"
   ]
  },
  {
   "cell_type": "code",
   "execution_count": 265,
   "metadata": {},
   "outputs": [
    {
     "data": {
      "text/plain": [
       "True     90145\n",
       "False    31075\n",
       "Name: floor_copia, dtype: int64"
      ]
     },
     "execution_count": 265,
     "metadata": {},
     "output_type": "execute_result"
    }
   ],
   "source": [
    "data['floor_copia'].isnull().value_counts()"
   ]
  },
  {
   "cell_type": "code",
   "execution_count": 266,
   "metadata": {},
   "outputs": [
    {
     "data": {
      "text/html": [
       "<div>\n",
       "<style scoped>\n",
       "    .dataframe tbody tr th:only-of-type {\n",
       "        vertical-align: middle;\n",
       "    }\n",
       "\n",
       "    .dataframe tbody tr th {\n",
       "        vertical-align: top;\n",
       "    }\n",
       "\n",
       "    .dataframe thead th {\n",
       "        text-align: right;\n",
       "    }\n",
       "</style>\n",
       "<table border=\"1\" class=\"dataframe\">\n",
       "  <thead>\n",
       "    <tr style=\"text-align: right;\">\n",
       "      <th>property_type_copia</th>\n",
       "      <th>PH</th>\n",
       "      <th>apartment</th>\n",
       "      <th>house</th>\n",
       "      <th>store</th>\n",
       "    </tr>\n",
       "    <tr>\n",
       "      <th>floor_copia</th>\n",
       "      <th></th>\n",
       "      <th></th>\n",
       "      <th></th>\n",
       "      <th></th>\n",
       "    </tr>\n",
       "  </thead>\n",
       "  <tbody>\n",
       "    <tr>\n",
       "      <th>[0, 1)</th>\n",
       "      <td>0</td>\n",
       "      <td>0</td>\n",
       "      <td>0</td>\n",
       "      <td>0</td>\n",
       "    </tr>\n",
       "    <tr>\n",
       "      <th>[1, 2)</th>\n",
       "      <td>879</td>\n",
       "      <td>4324</td>\n",
       "      <td>1431</td>\n",
       "      <td>223</td>\n",
       "    </tr>\n",
       "    <tr>\n",
       "      <th>[2, 3)</th>\n",
       "      <td>659</td>\n",
       "      <td>5035</td>\n",
       "      <td>2182</td>\n",
       "      <td>85</td>\n",
       "    </tr>\n",
       "    <tr>\n",
       "      <th>[3, 4)</th>\n",
       "      <td>149</td>\n",
       "      <td>2417</td>\n",
       "      <td>561</td>\n",
       "      <td>24</td>\n",
       "    </tr>\n",
       "    <tr>\n",
       "      <th>[4, 5)</th>\n",
       "      <td>54</td>\n",
       "      <td>1834</td>\n",
       "      <td>107</td>\n",
       "      <td>21</td>\n",
       "    </tr>\n",
       "    <tr>\n",
       "      <th>[5, 6)</th>\n",
       "      <td>41</td>\n",
       "      <td>1199</td>\n",
       "      <td>36</td>\n",
       "      <td>9</td>\n",
       "    </tr>\n",
       "    <tr>\n",
       "      <th>[6, 7)</th>\n",
       "      <td>45</td>\n",
       "      <td>1336</td>\n",
       "      <td>22</td>\n",
       "      <td>10</td>\n",
       "    </tr>\n",
       "    <tr>\n",
       "      <th>[7, 8)</th>\n",
       "      <td>30</td>\n",
       "      <td>1099</td>\n",
       "      <td>15</td>\n",
       "      <td>7</td>\n",
       "    </tr>\n",
       "    <tr>\n",
       "      <th>[8, 9)</th>\n",
       "      <td>12</td>\n",
       "      <td>1300</td>\n",
       "      <td>13</td>\n",
       "      <td>13</td>\n",
       "    </tr>\n",
       "    <tr>\n",
       "      <th>[9, 15)</th>\n",
       "      <td>58</td>\n",
       "      <td>4104</td>\n",
       "      <td>42</td>\n",
       "      <td>49</td>\n",
       "    </tr>\n",
       "    <tr>\n",
       "      <th>[15, 20)</th>\n",
       "      <td>4</td>\n",
       "      <td>776</td>\n",
       "      <td>6</td>\n",
       "      <td>15</td>\n",
       "    </tr>\n",
       "    <tr>\n",
       "      <th>[20, 30)</th>\n",
       "      <td>2</td>\n",
       "      <td>456</td>\n",
       "      <td>7</td>\n",
       "      <td>8</td>\n",
       "    </tr>\n",
       "    <tr>\n",
       "      <th>[30, 40)</th>\n",
       "      <td>0</td>\n",
       "      <td>97</td>\n",
       "      <td>5</td>\n",
       "      <td>4</td>\n",
       "    </tr>\n",
       "    <tr>\n",
       "      <th>[40, 50)</th>\n",
       "      <td>0</td>\n",
       "      <td>61</td>\n",
       "      <td>3</td>\n",
       "      <td>2</td>\n",
       "    </tr>\n",
       "    <tr>\n",
       "      <th>[50, 1000)</th>\n",
       "      <td>1</td>\n",
       "      <td>139</td>\n",
       "      <td>39</td>\n",
       "      <td>18</td>\n",
       "    </tr>\n",
       "    <tr>\n",
       "      <th>[1000, 2000)</th>\n",
       "      <td>0</td>\n",
       "      <td>0</td>\n",
       "      <td>5</td>\n",
       "      <td>0</td>\n",
       "    </tr>\n",
       "  </tbody>\n",
       "</table>\n",
       "</div>"
      ],
      "text/plain": [
       "property_type_copia   PH  apartment  house  store\n",
       "floor_copia                                      \n",
       "[0, 1)                 0          0      0      0\n",
       "[1, 2)               879       4324   1431    223\n",
       "[2, 3)               659       5035   2182     85\n",
       "[3, 4)               149       2417    561     24\n",
       "[4, 5)                54       1834    107     21\n",
       "[5, 6)                41       1199     36      9\n",
       "[6, 7)                45       1336     22     10\n",
       "[7, 8)                30       1099     15      7\n",
       "[8, 9)                12       1300     13     13\n",
       "[9, 15)               58       4104     42     49\n",
       "[15, 20)               4        776      6     15\n",
       "[20, 30)               2        456      7      8\n",
       "[30, 40)               0         97      5      4\n",
       "[40, 50)               0         61      3      2\n",
       "[50, 1000)             1        139     39     18\n",
       "[1000, 2000)           0          0      5      0"
      ]
     },
     "execution_count": 266,
     "metadata": {},
     "output_type": "execute_result"
    }
   ],
   "source": [
    "bins = [0, 1, 2, 3, 4, 5, 6, 7, 8, 9, 15, 20, 30, 40, 50, 1000, 2000]\n",
    "pisos = pd.cut(data.floor_copia, bins, right = False)\n",
    "data.pivot_table('floor_copia', index = [pisos], columns= 'property_type_copia', aggfunc={'floor_copia': 'count'})"
   ]
  },
  {
   "cell_type": "code",
   "execution_count": 267,
   "metadata": {},
   "outputs": [],
   "source": [
    "data.loc[mask_description_notnull, ['description_copia', 'title_copia']] = \"\""
   ]
  },
  {
   "cell_type": "code",
   "execution_count": 268,
   "metadata": {},
   "outputs": [],
   "source": [
    "patron = r\"[\\s]?piso[\\s]?(primer[a|o]?|segundo|tercer|cuarto|quinto|sexto|s[e|é]ptimo|octavo|noveno|d[e|é]cimo|d[e|é]cimo[\\s]?primer|d[e|é]cimo[\\s]?segundo|d[e|é]cimo[\\s]?tercer|d[e|é]cimo[\\s]?cuarto|d[e|é]cimo[\\s]?quinto|d[e|é]cimo[\\s]?sexto|d[e|é]cimo[\\s]?s[e|é]ptimo|d[e|é]cimo[\\s]?octavo|d[e|é]cimo[\\s]?noveno|vig[e|é]simo)\"\n",
    "busca = re.compile(patron)\n",
    "\n",
    "description_series_match = data.description_copia.apply(lambda x:  x if x is np.NaN else busca.search(x))\n",
    "mask_description_notnull = description_series_match.notnull()\n",
    "encontradas = description_series_match[mask_description_notnull].apply(lambda x: x.group(1))\n",
    "\n",
    "num_pisos_mapper = {'primer': 1, 'primera': 1, 'primero': 1, 'segundo':2, 'tercer': 3, 'cuarto': 4, 'quinto': 5, 'sexto': 6, \\\n",
    "                    'septimo':7, 'séptimo':7, 'octavo': 8, 'noveno': 9, 'decimo': 10, 'décimo': 10, \\\n",
    "                    'decimo primer': 11, 'décimo primer': 11, 'décimoprimer': 11, 'decimoprimer': 11, \\\n",
    "                    'decimo segundo': 12,  'décimo segundo': 12, 'décimosegundo': 12, 'decimosegundo': 12, \\\n",
    "                    'decimo tercer': 13, 'decimotercer': 13,  'décimo tercer': 13, 'décimotercer': 13, \\\n",
    "                    'decimocuarto': 14, 'decimo cuarto': 14, 'décimocuarto': 14, 'décimo cuarto': 14,\\\n",
    "                    'decimoquinto': 15, 'decimo quinto': 15, 'décimoquinto': 15, 'décimo quinto': 15,\n",
    "                    'décimo sexto': 16,  'decimosexto': 16, 'décimosexto': 16,  'decimo sexto': 16,\\\n",
    "                    'decimoseptimo': 17, 'decimo septimo': 17, 'decimoséptimo': 17, 'decimo séptimo': 17,\\\n",
    "                    'decimooctavo': 18, 'decimo octavo': 18, 'décimooctavo': 18, 'décimo octavo': 18,\\\n",
    "                    'decimonoveno': 19, 'decimo noveno': 19, 'décimonoveno': 19, 'décimo noveno': 19, \\\n",
    "                    'vigesimo': 20, 'vigésimo': 20}\n",
    "encontradas1 = encontradas.map(num_pisos_mapper)"
   ]
  },
  {
   "cell_type": "code",
   "execution_count": 269,
   "metadata": {},
   "outputs": [],
   "source": [
    "data.loc[mask_description_notnull,'floor_copia']= encontradas1.astype(float)"
   ]
  },
  {
   "cell_type": "code",
   "execution_count": 270,
   "metadata": {},
   "outputs": [
    {
     "data": {
      "text/plain": [
       "True     90118\n",
       "False    31102\n",
       "Name: floor_copia, dtype: int64"
      ]
     },
     "execution_count": 270,
     "metadata": {},
     "output_type": "execute_result"
    }
   ],
   "source": [
    "data['floor_copia'].isnull().value_counts()"
   ]
  },
  {
   "cell_type": "code",
   "execution_count": 271,
   "metadata": {},
   "outputs": [],
   "source": [
    "data.loc[mask_description_notnull, ['description_copia', 'title_copia']] = \"\""
   ]
  },
  {
   "cell_type": "code",
   "execution_count": 272,
   "metadata": {},
   "outputs": [],
   "source": [
    "patron = r\"(un|dos|tres|cuatro|cinco|seis|siete|ocho|nueve|diez|once|doce|trece|catorce|quince|dieciseis|diecisiete|dieciocho|diecinueve|veinte)[\\s]?piso[\\s]\"\n",
    "busca = re.compile(patron)\n",
    "\n",
    "description_series_match = data.description_copia.apply(lambda x:  x if x is np.NaN else busca.search(x))\n",
    "mask_description_notnull = description_series_match.notnull()\n",
    "encontradas = description_series_match[mask_description_notnull].apply(lambda x: x.group(1))\n",
    "\n",
    "num_pisos_mapper = {'un': 1,'dos':2, 'tres': 3, 'cuatro': 4, 'cinco': 5, 'seis': 6, \\\n",
    "                    'siete':7, 'ocho': 8, 'nueve': 9, 'diez': 10, \\\n",
    "                    'once': 11, 'doce': 12, 'trece': 13, 'catorce': 14, 'quice': 15, 'dieciseis': 16, \\\n",
    "                    'diecisiete': 17, 'dieciocho': 18, 'diecinueve': 19,\\\n",
    "                    'veinte': 20}\n",
    "encontradas1 = encontradas.map(num_pisos_mapper)"
   ]
  },
  {
   "cell_type": "code",
   "execution_count": 273,
   "metadata": {},
   "outputs": [],
   "source": [
    "data.loc[mask_description_notnull,'floor_copia']= encontradas1.astype(float)"
   ]
  },
  {
   "cell_type": "code",
   "execution_count": 274,
   "metadata": {},
   "outputs": [
    {
     "data": {
      "text/plain": [
       "True     89954\n",
       "False    31266\n",
       "Name: floor_copia, dtype: int64"
      ]
     },
     "execution_count": 274,
     "metadata": {},
     "output_type": "execute_result"
    }
   ],
   "source": [
    "data['floor_copia'].isnull().value_counts()"
   ]
  },
  {
   "cell_type": "code",
   "execution_count": 275,
   "metadata": {},
   "outputs": [
    {
     "data": {
      "text/html": [
       "<div>\n",
       "<style scoped>\n",
       "    .dataframe tbody tr th:only-of-type {\n",
       "        vertical-align: middle;\n",
       "    }\n",
       "\n",
       "    .dataframe tbody tr th {\n",
       "        vertical-align: top;\n",
       "    }\n",
       "\n",
       "    .dataframe thead th {\n",
       "        text-align: right;\n",
       "    }\n",
       "</style>\n",
       "<table border=\"1\" class=\"dataframe\">\n",
       "  <thead>\n",
       "    <tr style=\"text-align: right;\">\n",
       "      <th>property_type_copia</th>\n",
       "      <th>PH</th>\n",
       "      <th>apartment</th>\n",
       "      <th>house</th>\n",
       "      <th>store</th>\n",
       "    </tr>\n",
       "    <tr>\n",
       "      <th>floor_copia</th>\n",
       "      <th></th>\n",
       "      <th></th>\n",
       "      <th></th>\n",
       "      <th></th>\n",
       "    </tr>\n",
       "  </thead>\n",
       "  <tbody>\n",
       "    <tr>\n",
       "      <th>[0, 1)</th>\n",
       "      <td>0</td>\n",
       "      <td>0</td>\n",
       "      <td>0</td>\n",
       "      <td>0</td>\n",
       "    </tr>\n",
       "    <tr>\n",
       "      <th>[1, 2)</th>\n",
       "      <td>882</td>\n",
       "      <td>4465</td>\n",
       "      <td>1451</td>\n",
       "      <td>225</td>\n",
       "    </tr>\n",
       "    <tr>\n",
       "      <th>[2, 3)</th>\n",
       "      <td>659</td>\n",
       "      <td>5049</td>\n",
       "      <td>2182</td>\n",
       "      <td>85</td>\n",
       "    </tr>\n",
       "    <tr>\n",
       "      <th>[3, 4)</th>\n",
       "      <td>150</td>\n",
       "      <td>2418</td>\n",
       "      <td>562</td>\n",
       "      <td>24</td>\n",
       "    </tr>\n",
       "    <tr>\n",
       "      <th>[4, 5)</th>\n",
       "      <td>54</td>\n",
       "      <td>1837</td>\n",
       "      <td>107</td>\n",
       "      <td>21</td>\n",
       "    </tr>\n",
       "    <tr>\n",
       "      <th>[5, 6)</th>\n",
       "      <td>41</td>\n",
       "      <td>1201</td>\n",
       "      <td>36</td>\n",
       "      <td>9</td>\n",
       "    </tr>\n",
       "    <tr>\n",
       "      <th>[6, 7)</th>\n",
       "      <td>45</td>\n",
       "      <td>1339</td>\n",
       "      <td>22</td>\n",
       "      <td>10</td>\n",
       "    </tr>\n",
       "    <tr>\n",
       "      <th>[7, 8)</th>\n",
       "      <td>30</td>\n",
       "      <td>1096</td>\n",
       "      <td>15</td>\n",
       "      <td>7</td>\n",
       "    </tr>\n",
       "    <tr>\n",
       "      <th>[8, 9)</th>\n",
       "      <td>12</td>\n",
       "      <td>1302</td>\n",
       "      <td>13</td>\n",
       "      <td>13</td>\n",
       "    </tr>\n",
       "    <tr>\n",
       "      <th>[9, 15)</th>\n",
       "      <td>58</td>\n",
       "      <td>4106</td>\n",
       "      <td>42</td>\n",
       "      <td>49</td>\n",
       "    </tr>\n",
       "    <tr>\n",
       "      <th>[15, 20)</th>\n",
       "      <td>4</td>\n",
       "      <td>775</td>\n",
       "      <td>6</td>\n",
       "      <td>15</td>\n",
       "    </tr>\n",
       "    <tr>\n",
       "      <th>[20, 30)</th>\n",
       "      <td>2</td>\n",
       "      <td>456</td>\n",
       "      <td>7</td>\n",
       "      <td>8</td>\n",
       "    </tr>\n",
       "    <tr>\n",
       "      <th>[30, 40)</th>\n",
       "      <td>0</td>\n",
       "      <td>97</td>\n",
       "      <td>5</td>\n",
       "      <td>4</td>\n",
       "    </tr>\n",
       "    <tr>\n",
       "      <th>[40, 50)</th>\n",
       "      <td>0</td>\n",
       "      <td>61</td>\n",
       "      <td>3</td>\n",
       "      <td>2</td>\n",
       "    </tr>\n",
       "    <tr>\n",
       "      <th>[50, 1000)</th>\n",
       "      <td>1</td>\n",
       "      <td>139</td>\n",
       "      <td>39</td>\n",
       "      <td>18</td>\n",
       "    </tr>\n",
       "    <tr>\n",
       "      <th>[1000, 2000)</th>\n",
       "      <td>0</td>\n",
       "      <td>0</td>\n",
       "      <td>5</td>\n",
       "      <td>0</td>\n",
       "    </tr>\n",
       "  </tbody>\n",
       "</table>\n",
       "</div>"
      ],
      "text/plain": [
       "property_type_copia   PH  apartment  house  store\n",
       "floor_copia                                      \n",
       "[0, 1)                 0          0      0      0\n",
       "[1, 2)               882       4465   1451    225\n",
       "[2, 3)               659       5049   2182     85\n",
       "[3, 4)               150       2418    562     24\n",
       "[4, 5)                54       1837    107     21\n",
       "[5, 6)                41       1201     36      9\n",
       "[6, 7)                45       1339     22     10\n",
       "[7, 8)                30       1096     15      7\n",
       "[8, 9)                12       1302     13     13\n",
       "[9, 15)               58       4106     42     49\n",
       "[15, 20)               4        775      6     15\n",
       "[20, 30)               2        456      7      8\n",
       "[30, 40)               0         97      5      4\n",
       "[40, 50)               0         61      3      2\n",
       "[50, 1000)             1        139     39     18\n",
       "[1000, 2000)           0          0      5      0"
      ]
     },
     "execution_count": 275,
     "metadata": {},
     "output_type": "execute_result"
    }
   ],
   "source": [
    "bins = [0, 1, 2, 3, 4, 5, 6, 7, 8, 9, 15, 20, 30, 40, 50, 1000, 2000]\n",
    "pisos = pd.cut(data.floor_copia, bins, right = False)\n",
    "data.pivot_table('floor_copia', index = [pisos], columns= 'property_type_copia', aggfunc={'floor_copia': 'count'})"
   ]
  },
  {
   "cell_type": "code",
   "execution_count": 276,
   "metadata": {},
   "outputs": [],
   "source": [
    "data.loc[mask_description_notnull, ['description_copia', 'title_copia']] = \"\""
   ]
  },
  {
   "cell_type": "code",
   "execution_count": 277,
   "metadata": {},
   "outputs": [],
   "source": [
    "patron = r\"(una|dos|tres|cuatro|cinco|seis|siete|ocho|nueve|diez|once|doce|trece|catorce|quince|dieciseis|diecisiete|dieciocho|diecinueve|veinte)[\\s]?[sola]?[\\s]?planta[s]?\"\n",
    "busca = re.compile(patron)\n",
    "\n",
    "description_series_match = data.description_copia.apply(lambda x:  x if x is np.NaN else busca.search(x))\n",
    "mask_description_notnull = description_series_match.notnull()\n",
    "encontradas = description_series_match[mask_description_notnull].apply(lambda x: x.group(1))\n",
    "\n",
    "num_pisos_mapper = {'una': 0,'dos':2, 'tres': 3, 'cuatro': 4, 'cinco': 5, 'seis': 6, \\\n",
    "                    'siete':7, 'ocho': 8, 'nueve': 9, 'diez': 10, \\\n",
    "                    'once': 11, 'doce': 12, 'trece': 13, 'catorce': 14, 'quice': 15, 'dieciseis': 16, \\\n",
    "                    'diecisiete': 17, 'dieciocho': 18, 'diecinueve': 19,\\\n",
    "                    'veinte': 20}\n",
    "encontradas1 = encontradas.map(num_pisos_mapper)"
   ]
  },
  {
   "cell_type": "code",
   "execution_count": 278,
   "metadata": {},
   "outputs": [],
   "source": [
    "data.loc[mask_description_notnull,'floor_copia']= encontradas1.astype(float)"
   ]
  },
  {
   "cell_type": "code",
   "execution_count": 279,
   "metadata": {},
   "outputs": [
    {
     "data": {
      "text/plain": [
       "True     82318\n",
       "False    38902\n",
       "Name: floor_copia, dtype: int64"
      ]
     },
     "execution_count": 279,
     "metadata": {},
     "output_type": "execute_result"
    }
   ],
   "source": [
    "data['floor_copia'].isnull().value_counts()"
   ]
  },
  {
   "cell_type": "code",
   "execution_count": 280,
   "metadata": {},
   "outputs": [],
   "source": [
    "data.loc[mask_description_notnull, ['description_copia', 'title_copia']] = \"\""
   ]
  },
  {
   "cell_type": "code",
   "execution_count": 281,
   "metadata": {},
   "outputs": [],
   "source": [
    "patron = r\"planta[\\s]?(un[a|o]|dos|tres|cuatro|cinco|seis|siete|ocho|nueve|diez|once|doce|trece|catorce|quince|dieciseis|diecisiete|dieciocho|diecinueve|veinte)\"\n",
    "busca = re.compile(patron)\n",
    "\n",
    "description_series_match = data.description_copia.apply(lambda x:  x if x is np.NaN else busca.search(x))\n",
    "mask_description_notnull = description_series_match.notnull()\n",
    "encontradas = description_series_match[mask_description_notnull].apply(lambda x: x.group(1))\n",
    "\n",
    "num_pisos_mapper = {'una': 1, 'uno': 1, 'dos':2, 'tres': 3, 'cuatro': 4, 'cinco': 5, 'seis': 6, \\\n",
    "                    'siete':7, 'ocho': 8, 'nueve': 9, 'diez': 10, \\\n",
    "                    'once': 11, 'doce': 12, 'trece': 13, 'catorce': 14, 'quice': 15, 'dieciseis': 16, \\\n",
    "                    'diecisiete': 17, 'dieciocho': 18, 'diecinueve': 19,\\\n",
    "                    'veinte': 20}\n",
    "encontradas1 = encontradas.map(num_pisos_mapper)"
   ]
  },
  {
   "cell_type": "code",
   "execution_count": 282,
   "metadata": {},
   "outputs": [],
   "source": [
    "data.loc[mask_description_notnull,'floor_copia']= encontradas1.astype(float)"
   ]
  },
  {
   "cell_type": "code",
   "execution_count": 283,
   "metadata": {},
   "outputs": [
    {
     "data": {
      "text/plain": [
       "True     82280\n",
       "False    38940\n",
       "Name: floor_copia, dtype: int64"
      ]
     },
     "execution_count": 283,
     "metadata": {},
     "output_type": "execute_result"
    }
   ],
   "source": [
    "data['floor_copia'].isnull().value_counts()"
   ]
  },
  {
   "cell_type": "code",
   "execution_count": 284,
   "metadata": {},
   "outputs": [],
   "source": [
    "data.loc[mask_description_notnull, ['description_copia', 'title_copia']] = \"\""
   ]
  },
  {
   "cell_type": "code",
   "execution_count": 285,
   "metadata": {},
   "outputs": [],
   "source": [
    "patron = r\"(planta[\\s]?alta)\"\n",
    "busca = re.compile(patron)\n",
    "\n",
    "description_series_match = data.description_copia.apply(lambda x:  x if x is np.NaN else busca.search(x))\n",
    "mask_description_notnull = description_series_match.notnull()\n",
    "encontradas = description_series_match[mask_description_notnull].apply(lambda x: x.group(1))\n",
    "\n",
    "numcol_cat_mapper = {'planta alta': 1,'plantalata': 1}\n",
    "encontradas1 = encontradas.map(numcol_cat_mapper)"
   ]
  },
  {
   "cell_type": "code",
   "execution_count": 286,
   "metadata": {},
   "outputs": [],
   "source": [
    "data.loc[mask_description_notnull,'floor_copia']= encontradas1.astype(float)"
   ]
  },
  {
   "cell_type": "code",
   "execution_count": 287,
   "metadata": {},
   "outputs": [
    {
     "data": {
      "text/plain": [
       "True     74322\n",
       "False    46898\n",
       "Name: floor_copia, dtype: int64"
      ]
     },
     "execution_count": 287,
     "metadata": {},
     "output_type": "execute_result"
    }
   ],
   "source": [
    "data['floor_copia'].isnull().value_counts()"
   ]
  },
  {
   "cell_type": "code",
   "execution_count": 288,
   "metadata": {},
   "outputs": [],
   "source": [
    "data.loc[mask_description_notnull, ['description_copia', 'title_copia']] = \"\""
   ]
  },
  {
   "cell_type": "code",
   "execution_count": 289,
   "metadata": {},
   "outputs": [],
   "source": [
    "patron = r\"(planta[\\s]?baja)\"\n",
    "busca = re.compile(patron)\n",
    "\n",
    "description_series_match = data.description_copia.apply(lambda x:  x if x is np.NaN else busca.search(x))\n",
    "mask_description_notnull = description_series_match.notnull()\n",
    "encontradas = description_series_match[mask_description_notnull].apply(lambda x: x.group(1))\n",
    "\n",
    "numcol_cat_mapper = {'planta baja': 0,'plantabaja': 0}\n",
    "encontradas1 = encontradas.map(numcol_cat_mapper)"
   ]
  },
  {
   "cell_type": "code",
   "execution_count": 290,
   "metadata": {},
   "outputs": [],
   "source": [
    "data.loc[mask_description_notnull,'floor_copia']= encontradas1.astype(float)"
   ]
  },
  {
   "cell_type": "code",
   "execution_count": 291,
   "metadata": {},
   "outputs": [
    {
     "data": {
      "text/plain": [
       "True     68408\n",
       "False    52812\n",
       "Name: floor_copia, dtype: int64"
      ]
     },
     "execution_count": 291,
     "metadata": {},
     "output_type": "execute_result"
    }
   ],
   "source": [
    "data['floor_copia'].isnull().value_counts()"
   ]
  },
  {
   "cell_type": "code",
   "execution_count": 292,
   "metadata": {},
   "outputs": [],
   "source": [
    "data.loc[mask_description_notnull, ['description_copia', 'title_copia']] = \"\""
   ]
  },
  {
   "cell_type": "code",
   "execution_count": 293,
   "metadata": {},
   "outputs": [],
   "source": [
    "mascara = data['description_copia'] == \"\""
   ]
  },
  {
   "cell_type": "markdown",
   "metadata": {},
   "source": [
    "Ahora busco con las mismas regex pero con la columna 'title_copia'"
   ]
  },
  {
   "cell_type": "code",
   "execution_count": 294,
   "metadata": {},
   "outputs": [],
   "source": [
    "patron = r\"(planta[\\s]?baja)\"\n",
    "busca = re.compile(patron)\n",
    "\n",
    "description_series_match = data.title_copia.apply(lambda x:  x if x is np.NaN else busca.search(x))\n",
    "mask_description_notnull = description_series_match.notnull()\n",
    "encontradas = description_series_match[mask_description_notnull].apply(lambda x: x.group(1))\n",
    "\n",
    "numcol_cat_mapper = {'planta baja': 0,'plantabaja': 0}\n",
    "encontradas1 = encontradas.map(numcol_cat_mapper)"
   ]
  },
  {
   "cell_type": "code",
   "execution_count": 295,
   "metadata": {},
   "outputs": [],
   "source": [
    "data.loc[mask_description_notnull,'floor_copia']= encontradas1.astype(float)"
   ]
  },
  {
   "cell_type": "code",
   "execution_count": 296,
   "metadata": {},
   "outputs": [
    {
     "data": {
      "text/plain": [
       "True     68306\n",
       "False    52914\n",
       "Name: floor_copia, dtype: int64"
      ]
     },
     "execution_count": 296,
     "metadata": {},
     "output_type": "execute_result"
    }
   ],
   "source": [
    "data['floor_copia'].isnull().value_counts()"
   ]
  },
  {
   "cell_type": "code",
   "execution_count": 297,
   "metadata": {},
   "outputs": [],
   "source": [
    "data.loc[mask_description_notnull, ['description_copia', 'title_copia']] = \"\""
   ]
  },
  {
   "cell_type": "code",
   "execution_count": 298,
   "metadata": {},
   "outputs": [],
   "source": [
    "patron = r\"(una|dos|tres|cuatro|cinco|seis|siete|ocho|nueve|diez|once|doce|trece|catorce|quince|dieciseis|diecisiete|dieciocho|diecinueve|veinte)[\\s]?[sola]?[\\s]?planta[s]?\"\n",
    "busca = re.compile(patron)\n",
    "\n",
    "description_series_match = data.title_copia.apply(lambda x:  x if x is np.NaN else busca.search(x))\n",
    "mask_description_notnull = description_series_match.notnull()\n",
    "encontradas = description_series_match[mask_description_notnull].apply(lambda x: x.group(1))\n",
    "\n",
    "num_pisos_mapper = {'una': 0,'dos':2, 'tres': 3, 'cuatro': 4, 'cinco': 5, 'seis': 6, \\\n",
    "                    'siete':7, 'ocho': 8, 'nueve': 9, 'diez': 10, \\\n",
    "                    'once': 11, 'doce': 12, 'trece': 13, 'catorce': 14, 'quice': 15, 'dieciseis': 16, \\\n",
    "                    'diecisiete': 17, 'dieciocho': 18, 'diecinueve': 19,\\\n",
    "                    'veinte': 20}\n",
    "encontradas1 = encontradas.map(num_pisos_mapper)"
   ]
  },
  {
   "cell_type": "code",
   "execution_count": 299,
   "metadata": {},
   "outputs": [],
   "source": [
    "data.loc[mask_description_notnull,'floor_copia']= encontradas1.astype(float)"
   ]
  },
  {
   "cell_type": "code",
   "execution_count": 300,
   "metadata": {},
   "outputs": [
    {
     "data": {
      "text/plain": [
       "True     68229\n",
       "False    52991\n",
       "Name: floor_copia, dtype: int64"
      ]
     },
     "execution_count": 300,
     "metadata": {},
     "output_type": "execute_result"
    }
   ],
   "source": [
    "data['floor_copia'].isnull().value_counts()"
   ]
  },
  {
   "cell_type": "code",
   "execution_count": 301,
   "metadata": {},
   "outputs": [],
   "source": [
    "data.loc[mask_description_notnull, ['description_copia', 'title_copia']] = \"\""
   ]
  },
  {
   "cell_type": "code",
   "execution_count": 302,
   "metadata": {},
   "outputs": [],
   "source": [
    "patron = r\"(un|dos|tres|cuatro|cinco|seis|siete|ocho|nueve|diez|once|doce|trece|catorce|quince|dieciseis|diecisiete|dieciocho|diecinueve|veinte)[\\s]?piso[\\s]\"\n",
    "busca = re.compile(patron)\n",
    "\n",
    "description_series_match = data.title_copia.apply(lambda x:  x if x is np.NaN else busca.search(x))\n",
    "mask_description_notnull = description_series_match.notnull()\n",
    "encontradas = description_series_match[mask_description_notnull].apply(lambda x: x.group(1))\n",
    "\n",
    "num_pisos_mapper = {'un': 1,'dos':2, 'tres': 3, 'cuatro': 4, 'cinco': 5, 'seis': 6, \\\n",
    "                    'siete':7, 'ocho': 8, 'nueve': 9, 'diez': 10, \\\n",
    "                    'once': 11, 'doce': 12, 'trece': 13, 'catorce': 14, 'quice': 15, 'dieciseis': 16, \\\n",
    "                    'diecisiete': 17, 'dieciocho': 18, 'diecinueve': 19,\\\n",
    "                    'veinte': 20}\n",
    "encontradas1 = encontradas.map(num_pisos_mapper)"
   ]
  },
  {
   "cell_type": "code",
   "execution_count": 303,
   "metadata": {},
   "outputs": [],
   "source": [
    "data.loc[mask_description_notnull,'floor_copia']= encontradas1.astype(float)"
   ]
  },
  {
   "cell_type": "code",
   "execution_count": 304,
   "metadata": {},
   "outputs": [
    {
     "data": {
      "text/plain": [
       "True     68227\n",
       "False    52993\n",
       "Name: floor_copia, dtype: int64"
      ]
     },
     "execution_count": 304,
     "metadata": {},
     "output_type": "execute_result"
    }
   ],
   "source": [
    "data['floor_copia'].isnull().value_counts()"
   ]
  },
  {
   "cell_type": "code",
   "execution_count": 305,
   "metadata": {},
   "outputs": [],
   "source": [
    "patron = r\"(primer|segundo|tercer|cuarto|quinto|sexto|s[e|é]ptimo|octavo|noveno|d[e|é]cimo|d[e|é]cimo[\\s]?primer|d[e|é]cimo[\\s]?segundo|d[e|é]cimo[\\s]?tercer|d[e|é]cimo[\\s]?cuarto|d[e|é]cimo[\\s]?quinto|d[e|é]cimo[\\s]?sexto|d[e|é]cimo[\\s]?s[e|é]ptimo|d[e|é]cimo[\\s]?octavo|d[e|é]cimo[\\s]?noveno|vig[e|é]simo)[\\s]?piso\"\n",
    "busca = re.compile(patron)\n",
    "\n",
    "description_series_match = data.title_copia.apply(lambda x:  x if x is np.NaN else busca.search(x))\n",
    "mask_description_notnull = description_series_match.notnull()\n",
    "encontradas = description_series_match[mask_description_notnull].apply(lambda x: x.group(1))\n",
    "\n",
    "num_pisos_mapper = {'primer': 1,'segundo':2, 'tercer': 3, 'cuarto': 4, 'quinto': 5, 'sexto': 6, \\\n",
    "                    'septimo':7, 'séptimo':7, 'octavo': 8, 'noveno': 9, 'decimo': 10, 'décimo': 10, \\\n",
    "                    'decimo primer': 11, 'décimo primer': 11, 'décimoprimer': 11, 'decimoprimer': 11, \\\n",
    "                    'decimo segundo': 12,  'décimo segundo': 12, 'décimosegundo': 12, 'decimosegundo': 12, \\\n",
    "                    'decimo tercer': 13, 'decimotercer': 13,  'décimo tercer': 13, 'décimotercer': 13, \\\n",
    "                    'decimocuarto': 14, 'decimo cuarto': 14, 'décimocuarto': 14, 'décimo cuarto': 14,\\\n",
    "                    'decimoquinto': 15, 'decimo quinto': 15, 'décimoquinto': 15, 'décimo quinto': 15,\n",
    "                    'décimo sexto': 16,  'decimosexto': 16, 'décimosexto': 16,  'decimo sexto': 16,\\\n",
    "                    'decimoseptimo': 17, 'decimo septimo': 17, 'decimoséptimo': 17, 'decimo séptimo': 17,\\\n",
    "                    'decimooctavo': 18, 'decimo octavo': 18, 'décimooctavo': 18, 'décimo octavo': 18,\\\n",
    "                    'decimonoveno': 19, 'decimo noveno': 19, 'décimonoveno': 19, 'décimo noveno': 19, \\\n",
    "                    'vigesimo': 20, 'vigésimo': 20}\n",
    "encontradas1 = encontradas.map(num_pisos_mapper)"
   ]
  },
  {
   "cell_type": "code",
   "execution_count": 306,
   "metadata": {},
   "outputs": [],
   "source": [
    "data.loc[mask_description_notnull,'floor_copia']= encontradas1.astype(float)"
   ]
  },
  {
   "cell_type": "code",
   "execution_count": 307,
   "metadata": {},
   "outputs": [
    {
     "data": {
      "text/plain": [
       "True     68187\n",
       "False    53033\n",
       "Name: floor_copia, dtype: int64"
      ]
     },
     "execution_count": 307,
     "metadata": {},
     "output_type": "execute_result"
    }
   ],
   "source": [
    "data['floor_copia'].isnull().value_counts()"
   ]
  },
  {
   "cell_type": "code",
   "execution_count": 308,
   "metadata": {},
   "outputs": [],
   "source": [
    "data.loc[mask_description_notnull, ['description_copia', 'title_copia']] = \"\""
   ]
  },
  {
   "cell_type": "code",
   "execution_count": 309,
   "metadata": {},
   "outputs": [],
   "source": [
    "patron = r\"(duplex|triplex)\"\n",
    "busca = re.compile(patron)\n",
    "\n",
    "description_series_match = data.title_copia.apply(lambda x:  x if x is np.NaN else busca.search(x))\n",
    "mask_description_notnull = description_series_match.notnull()\n",
    "encontradas = description_series_match[mask_description_notnull].apply(lambda x: x.group(1))\n",
    "\n",
    "numcol_cat_mapper = {'duplex': 2,'triplex': 3}\n",
    "encontradas1 = encontradas.map(numcol_cat_mapper)"
   ]
  },
  {
   "cell_type": "code",
   "execution_count": 310,
   "metadata": {},
   "outputs": [],
   "source": [
    "data.loc[mask_description_notnull,'floor_copia']= encontradas1.astype(float)"
   ]
  },
  {
   "cell_type": "code",
   "execution_count": 311,
   "metadata": {},
   "outputs": [
    {
     "data": {
      "text/plain": [
       "True     67932\n",
       "False    53288\n",
       "Name: floor_copia, dtype: int64"
      ]
     },
     "execution_count": 311,
     "metadata": {},
     "output_type": "execute_result"
    }
   ],
   "source": [
    "data['floor_copia'].isnull().value_counts()"
   ]
  },
  {
   "cell_type": "code",
   "execution_count": 312,
   "metadata": {},
   "outputs": [],
   "source": [
    "data.loc[mask_description_notnull, ['description_copia', 'title_copia']] = \"\""
   ]
  },
  {
   "cell_type": "code",
   "execution_count": 313,
   "metadata": {},
   "outputs": [],
   "source": [
    "patron = \"\\s(?P<numero>\\d[\\d]?)\\s*\\w{0,5}\\s*piso\"\n",
    "busca = re.compile(patron)\n",
    "\n",
    "description_series_match = data.title_copia.apply(lambda x:  x if x is np.NaN else busca.search(x))\n",
    "\n",
    "mask_description_notnull = description_series_match.notnull()\n",
    "data.loc[mask_description_notnull,'floor_copia'] = description_series_match[mask_description_notnull].apply(lambda x: x.group('numero')).astype(float)"
   ]
  },
  {
   "cell_type": "code",
   "execution_count": 314,
   "metadata": {},
   "outputs": [
    {
     "data": {
      "text/plain": [
       "True     67789\n",
       "False    53431\n",
       "Name: floor_copia, dtype: int64"
      ]
     },
     "execution_count": 314,
     "metadata": {},
     "output_type": "execute_result"
    }
   ],
   "source": [
    "data['floor_copia'].isnull().value_counts()"
   ]
  },
  {
   "cell_type": "code",
   "execution_count": 315,
   "metadata": {},
   "outputs": [],
   "source": [
    "data.loc[mask_description_notnull, ['description_copia', 'title_copia']] = \"\""
   ]
  },
  {
   "cell_type": "code",
   "execution_count": 316,
   "metadata": {},
   "outputs": [],
   "source": [
    "patron = \"\\s(?P<numero>\\d[\\d]?)[\\s]?[º|°]?\\s*piso\"\n",
    "busca = re.compile(patron)\n",
    "\n",
    "description_series_match = data.title_copia.apply(lambda x:  x if x is np.NaN else busca.search(x))\n",
    "\n",
    "mask_description_notnull = description_series_match.notnull()\n",
    "data.loc[mask_description_notnull,'floor_copia'] = description_series_match[mask_description_notnull].apply(lambda x: x.group('numero')).astype(float)"
   ]
  },
  {
   "cell_type": "code",
   "execution_count": 317,
   "metadata": {},
   "outputs": [
    {
     "data": {
      "text/plain": [
       "True     67747\n",
       "False    53473\n",
       "Name: floor_copia, dtype: int64"
      ]
     },
     "execution_count": 317,
     "metadata": {},
     "output_type": "execute_result"
    }
   ],
   "source": [
    "data['floor_copia'].isnull().value_counts()"
   ]
  },
  {
   "cell_type": "code",
   "execution_count": 318,
   "metadata": {},
   "outputs": [],
   "source": [
    "data.loc[mask_description_notnull, ['description_copia', 'title_copia']] = \"\""
   ]
  },
  {
   "cell_type": "code",
   "execution_count": 319,
   "metadata": {},
   "outputs": [],
   "source": [
    "patron = \"piso[\\s]?(?P<numero>\\d[\\d]?)\"\n",
    "\n",
    "busca = re.compile(patron)\n",
    "\n",
    "description_series_match = data.title_copia.apply(lambda x:  x if x is np.NaN else busca.search(x))\n",
    "\n",
    "mask_description_notnull = description_series_match.notnull()\n",
    "data.loc[mask_description_notnull,'floor_copia'] = description_series_match[mask_description_notnull].apply(lambda x: x.group('numero')).astype(float)"
   ]
  },
  {
   "cell_type": "code",
   "execution_count": 320,
   "metadata": {},
   "outputs": [
    {
     "data": {
      "text/plain": [
       "True     67478\n",
       "False    53742\n",
       "Name: floor_copia, dtype: int64"
      ]
     },
     "execution_count": 320,
     "metadata": {},
     "output_type": "execute_result"
    }
   ],
   "source": [
    "data['floor_copia'].isnull().value_counts()"
   ]
  },
  {
   "cell_type": "code",
   "execution_count": 321,
   "metadata": {},
   "outputs": [],
   "source": [
    "data.loc[mask_description_notnull, ['description_copia', 'title_copia']] = \"\""
   ]
  },
  {
   "cell_type": "code",
   "execution_count": 322,
   "metadata": {},
   "outputs": [],
   "source": [
    "patron = \"\\spiso:[\\s]?(?P<numero>\\d[\\d]?)\"\n",
    "busca = re.compile(patron)\n",
    "\n",
    "description_series_match = data.title_copia.apply(lambda x:  x if x is np.NaN else busca.search(x))\n",
    "\n",
    "mask_description_notnull = description_series_match.notnull()\n",
    "data.loc[mask_description_notnull,'floor_copia'] = description_series_match[mask_description_notnull].apply(lambda x: x.group('numero')).astype(float)"
   ]
  },
  {
   "cell_type": "code",
   "execution_count": 323,
   "metadata": {},
   "outputs": [
    {
     "data": {
      "text/plain": [
       "True     67478\n",
       "False    53742\n",
       "Name: floor_copia, dtype: int64"
      ]
     },
     "execution_count": 323,
     "metadata": {},
     "output_type": "execute_result"
    }
   ],
   "source": [
    "data['floor_copia'].isnull().value_counts()"
   ]
  },
  {
   "cell_type": "code",
   "execution_count": 324,
   "metadata": {},
   "outputs": [
    {
     "data": {
      "text/html": [
       "<div>\n",
       "<style scoped>\n",
       "    .dataframe tbody tr th:only-of-type {\n",
       "        vertical-align: middle;\n",
       "    }\n",
       "\n",
       "    .dataframe tbody tr th {\n",
       "        vertical-align: top;\n",
       "    }\n",
       "\n",
       "    .dataframe thead th {\n",
       "        text-align: right;\n",
       "    }\n",
       "</style>\n",
       "<table border=\"1\" class=\"dataframe\">\n",
       "  <thead>\n",
       "    <tr style=\"text-align: right;\">\n",
       "      <th></th>\n",
       "      <th>Unnamed: 0</th>\n",
       "      <th>operation</th>\n",
       "      <th>property_type</th>\n",
       "      <th>place_name</th>\n",
       "      <th>place_with_parent_names</th>\n",
       "      <th>country_name</th>\n",
       "      <th>state_name</th>\n",
       "      <th>geonames_id</th>\n",
       "      <th>lat-lon</th>\n",
       "      <th>lat</th>\n",
       "      <th>...</th>\n",
       "      <th>expenses_bool</th>\n",
       "      <th>expenses_nuevo</th>\n",
       "      <th>geonames_id_nuevo</th>\n",
       "      <th>lat-lon_nuevo</th>\n",
       "      <th>lat_nuevo</th>\n",
       "      <th>lon_nuevo</th>\n",
       "      <th>floor_copia</th>\n",
       "      <th>property_type_copia</th>\n",
       "      <th>description_copia</th>\n",
       "      <th>title_copia</th>\n",
       "    </tr>\n",
       "  </thead>\n",
       "  <tbody>\n",
       "    <tr>\n",
       "      <th>66</th>\n",
       "      <td>66</td>\n",
       "      <td>sell</td>\n",
       "      <td>apartment</td>\n",
       "      <td>Boedo</td>\n",
       "      <td>|Argentina|Capital Federal|Boedo|</td>\n",
       "      <td>Argentina</td>\n",
       "      <td>Capital Federal</td>\n",
       "      <td>3436003.0</td>\n",
       "      <td>-34.6187769485,-58.4026450688</td>\n",
       "      <td>-34.618777</td>\n",
       "      <td>...</td>\n",
       "      <td>SI</td>\n",
       "      <td>1200.0</td>\n",
       "      <td>3436003.0</td>\n",
       "      <td>-34.6187769485,-58.4026450688</td>\n",
       "      <td>-34.618777</td>\n",
       "      <td>-58.402645</td>\n",
       "      <td>NaN</td>\n",
       "      <td>apartment</td>\n",
       "      <td>codigo: 5 ubicado en: avenida independencia 26...</td>\n",
       "      <td>departamento nuevo, de un ambiente amplio, 3 a...</td>\n",
       "    </tr>\n",
       "    <tr>\n",
       "      <th>125</th>\n",
       "      <td>125</td>\n",
       "      <td>sell</td>\n",
       "      <td>apartment</td>\n",
       "      <td>Bs.As. G.B.A. Zona Sur</td>\n",
       "      <td>|Argentina|Bs.As. G.B.A. Zona Sur|</td>\n",
       "      <td>Argentina</td>\n",
       "      <td>Bs.As. G.B.A. Zona Sur</td>\n",
       "      <td>3435907.0</td>\n",
       "      <td>-38.416097,-63.616672</td>\n",
       "      <td>-38.416097</td>\n",
       "      <td>...</td>\n",
       "      <td>SI</td>\n",
       "      <td>1800.0</td>\n",
       "      <td>3435907.0</td>\n",
       "      <td>-38.416097,-63.616672</td>\n",
       "      <td>-38.416097</td>\n",
       "      <td>-63.616672</td>\n",
       "      <td>NaN</td>\n",
       "      <td>apartment</td>\n",
       "      <td>codigo: 438-12112 ubicado en: test de prueba -...</td>\n",
       "      <td>ruggieri</td>\n",
       "    </tr>\n",
       "    <tr>\n",
       "      <th>266</th>\n",
       "      <td>266</td>\n",
       "      <td>sell</td>\n",
       "      <td>apartment</td>\n",
       "      <td>Palermo Hollywood</td>\n",
       "      <td>|Argentina|Capital Federal|Palermo|Palermo Hol...</td>\n",
       "      <td>Argentina</td>\n",
       "      <td>Capital Federal</td>\n",
       "      <td>NaN</td>\n",
       "      <td>-34.5765042465,-58.4314684478</td>\n",
       "      <td>-34.576504</td>\n",
       "      <td>...</td>\n",
       "      <td>SI</td>\n",
       "      <td>1800.0</td>\n",
       "      <td>NaN</td>\n",
       "      <td>-34.5765042465,-58.4314684478</td>\n",
       "      <td>-34.576504</td>\n",
       "      <td>-58.431468</td>\n",
       "      <td>NaN</td>\n",
       "      <td>apartment</td>\n",
       "      <td>codigo:  ubicado en: avenida santa fe 5000 -  ...</td>\n",
       "      <td>av. santa fe 5000 - 2 amb - palermo hollywood</td>\n",
       "    </tr>\n",
       "    <tr>\n",
       "      <th>272</th>\n",
       "      <td>272</td>\n",
       "      <td>sell</td>\n",
       "      <td>apartment</td>\n",
       "      <td>Castelar</td>\n",
       "      <td>|Argentina|Bs.As. G.B.A. Zona Oeste|Morón|Cast...</td>\n",
       "      <td>Argentina</td>\n",
       "      <td>Bs.As. G.B.A. Zona Oeste</td>\n",
       "      <td>3435607.0</td>\n",
       "      <td>-34.6534243,-58.6393143</td>\n",
       "      <td>-34.653424</td>\n",
       "      <td>...</td>\n",
       "      <td>SI</td>\n",
       "      <td>1000.0</td>\n",
       "      <td>3435607.0</td>\n",
       "      <td>-34.6534243,-58.6393143</td>\n",
       "      <td>-34.653424</td>\n",
       "      <td>-58.639314</td>\n",
       "      <td>NaN</td>\n",
       "      <td>apartment</td>\n",
       "      <td>codigo:  ubicado en: monteverde 504 -  publica...</td>\n",
       "      <td>departamento 3 ambientes venta castelar sur</td>\n",
       "    </tr>\n",
       "    <tr>\n",
       "      <th>274</th>\n",
       "      <td>274</td>\n",
       "      <td>sell</td>\n",
       "      <td>apartment</td>\n",
       "      <td>Castelar</td>\n",
       "      <td>|Argentina|Bs.As. G.B.A. Zona Oeste|Morón|Cast...</td>\n",
       "      <td>Argentina</td>\n",
       "      <td>Bs.As. G.B.A. Zona Oeste</td>\n",
       "      <td>3435607.0</td>\n",
       "      <td>-34.650075,-58.6390392</td>\n",
       "      <td>-34.650075</td>\n",
       "      <td>...</td>\n",
       "      <td>SI</td>\n",
       "      <td>1000.0</td>\n",
       "      <td>3435607.0</td>\n",
       "      <td>-34.650075,-58.6390392</td>\n",
       "      <td>-34.650075</td>\n",
       "      <td>-58.639039</td>\n",
       "      <td>NaN</td>\n",
       "      <td>apartment</td>\n",
       "      <td>codigo:  ubicado en: montes de oca 2200 -  pub...</td>\n",
       "      <td>departamento 2 ambientes castelar norte</td>\n",
       "    </tr>\n",
       "    <tr>\n",
       "      <th>...</th>\n",
       "      <td>...</td>\n",
       "      <td>...</td>\n",
       "      <td>...</td>\n",
       "      <td>...</td>\n",
       "      <td>...</td>\n",
       "      <td>...</td>\n",
       "      <td>...</td>\n",
       "      <td>...</td>\n",
       "      <td>...</td>\n",
       "      <td>...</td>\n",
       "      <td>...</td>\n",
       "      <td>...</td>\n",
       "      <td>...</td>\n",
       "      <td>...</td>\n",
       "      <td>...</td>\n",
       "      <td>...</td>\n",
       "      <td>...</td>\n",
       "      <td>...</td>\n",
       "      <td>...</td>\n",
       "      <td>...</td>\n",
       "      <td>...</td>\n",
       "    </tr>\n",
       "    <tr>\n",
       "      <th>121145</th>\n",
       "      <td>121145</td>\n",
       "      <td>sell</td>\n",
       "      <td>house</td>\n",
       "      <td>Banfield</td>\n",
       "      <td>|Argentina|Bs.As. G.B.A. Zona Sur|Lomas de Zam...</td>\n",
       "      <td>Argentina</td>\n",
       "      <td>Bs.As. G.B.A. Zona Sur</td>\n",
       "      <td>3436152.0</td>\n",
       "      <td>NaN</td>\n",
       "      <td>NaN</td>\n",
       "      <td>...</td>\n",
       "      <td>NO</td>\n",
       "      <td>0.0</td>\n",
       "      <td>3436152.0</td>\n",
       "      <td>-34.742923, -58.399492</td>\n",
       "      <td>-34.742923</td>\n",
       "      <td>-58.399492</td>\n",
       "      <td>NaN</td>\n",
       "      <td>house</td>\n",
       "      <td>casa sobre linea municipal, estar de recepción...</td>\n",
       "      <td>casa - banfield oeste</td>\n",
       "    </tr>\n",
       "    <tr>\n",
       "      <th>121210</th>\n",
       "      <td>121210</td>\n",
       "      <td>sell</td>\n",
       "      <td>house</td>\n",
       "      <td>Martínez</td>\n",
       "      <td>|Argentina|Bs.As. G.B.A. Zona Norte|San Isidro...</td>\n",
       "      <td>Argentina</td>\n",
       "      <td>Bs.As. G.B.A. Zona Norte</td>\n",
       "      <td>3430813.0</td>\n",
       "      <td>NaN</td>\n",
       "      <td>NaN</td>\n",
       "      <td>...</td>\n",
       "      <td>NO</td>\n",
       "      <td>0.0</td>\n",
       "      <td>3430813.0</td>\n",
       "      <td>-34.492594, -58.506898</td>\n",
       "      <td>-34.492594</td>\n",
       "      <td>-58.506898</td>\n",
       "      <td>NaN</td>\n",
       "      <td>house</td>\n",
       "      <td>dos viviendas en block en excelente ubicación ...</td>\n",
       "      <td>casa - martinez</td>\n",
       "    </tr>\n",
       "    <tr>\n",
       "      <th>121212</th>\n",
       "      <td>121212</td>\n",
       "      <td>sell</td>\n",
       "      <td>house</td>\n",
       "      <td>Acassuso</td>\n",
       "      <td>|Argentina|Bs.As. G.B.A. Zona Norte|San Isidro...</td>\n",
       "      <td>Argentina</td>\n",
       "      <td>Bs.As. G.B.A. Zona Norte</td>\n",
       "      <td>3436508.0</td>\n",
       "      <td>NaN</td>\n",
       "      <td>NaN</td>\n",
       "      <td>...</td>\n",
       "      <td>NO</td>\n",
       "      <td>0.0</td>\n",
       "      <td>3436508.0</td>\n",
       "      <td>NaN</td>\n",
       "      <td>NaN</td>\n",
       "      <td>NaN</td>\n",
       "      <td>NaN</td>\n",
       "      <td>house</td>\n",
       "      <td>espectacular casa estilo racionalista en calle...</td>\n",
       "      <td>casa - acassuso</td>\n",
       "    </tr>\n",
       "    <tr>\n",
       "      <th>121213</th>\n",
       "      <td>121213</td>\n",
       "      <td>sell</td>\n",
       "      <td>house</td>\n",
       "      <td>Martínez</td>\n",
       "      <td>|Argentina|Bs.As. G.B.A. Zona Norte|San Isidro...</td>\n",
       "      <td>Argentina</td>\n",
       "      <td>Bs.As. G.B.A. Zona Norte</td>\n",
       "      <td>3430813.0</td>\n",
       "      <td>NaN</td>\n",
       "      <td>NaN</td>\n",
       "      <td>...</td>\n",
       "      <td>NO</td>\n",
       "      <td>0.0</td>\n",
       "      <td>3430813.0</td>\n",
       "      <td>-34.492594, -58.506898</td>\n",
       "      <td>-34.492594</td>\n",
       "      <td>-58.506898</td>\n",
       "      <td>NaN</td>\n",
       "      <td>house</td>\n",
       "      <td>excelente casa en martinez. inmejorable ubicai...</td>\n",
       "      <td>casa - martinez</td>\n",
       "    </tr>\n",
       "    <tr>\n",
       "      <th>121216</th>\n",
       "      <td>121216</td>\n",
       "      <td>sell</td>\n",
       "      <td>house</td>\n",
       "      <td>Beccar</td>\n",
       "      <td>|Argentina|Bs.As. G.B.A. Zona Norte|San Isidro...</td>\n",
       "      <td>Argentina</td>\n",
       "      <td>Bs.As. G.B.A. Zona Norte</td>\n",
       "      <td>3436080.0</td>\n",
       "      <td>NaN</td>\n",
       "      <td>NaN</td>\n",
       "      <td>...</td>\n",
       "      <td>NO</td>\n",
       "      <td>0.0</td>\n",
       "      <td>3436080.0</td>\n",
       "      <td>NaN</td>\n",
       "      <td>NaN</td>\n",
       "      <td>NaN</td>\n",
       "      <td>NaN</td>\n",
       "      <td>house</td>\n",
       "      <td>excelente e impecable casa en venta en las lom...</td>\n",
       "      <td>ruca inmuebles | venta | lomas de san isidro |...</td>\n",
       "    </tr>\n",
       "  </tbody>\n",
       "</table>\n",
       "<p>72396 rows × 40 columns</p>\n",
       "</div>"
      ],
      "text/plain": [
       "        Unnamed: 0 operation property_type              place_name  \\\n",
       "66              66      sell     apartment                   Boedo   \n",
       "125            125      sell     apartment  Bs.As. G.B.A. Zona Sur   \n",
       "266            266      sell     apartment       Palermo Hollywood   \n",
       "272            272      sell     apartment                Castelar   \n",
       "274            274      sell     apartment                Castelar   \n",
       "...            ...       ...           ...                     ...   \n",
       "121145      121145      sell         house                Banfield   \n",
       "121210      121210      sell         house                Martínez   \n",
       "121212      121212      sell         house                Acassuso   \n",
       "121213      121213      sell         house                Martínez   \n",
       "121216      121216      sell         house                  Beccar   \n",
       "\n",
       "                                  place_with_parent_names country_name  \\\n",
       "66                      |Argentina|Capital Federal|Boedo|    Argentina   \n",
       "125                    |Argentina|Bs.As. G.B.A. Zona Sur|    Argentina   \n",
       "266     |Argentina|Capital Federal|Palermo|Palermo Hol...    Argentina   \n",
       "272     |Argentina|Bs.As. G.B.A. Zona Oeste|Morón|Cast...    Argentina   \n",
       "274     |Argentina|Bs.As. G.B.A. Zona Oeste|Morón|Cast...    Argentina   \n",
       "...                                                   ...          ...   \n",
       "121145  |Argentina|Bs.As. G.B.A. Zona Sur|Lomas de Zam...    Argentina   \n",
       "121210  |Argentina|Bs.As. G.B.A. Zona Norte|San Isidro...    Argentina   \n",
       "121212  |Argentina|Bs.As. G.B.A. Zona Norte|San Isidro...    Argentina   \n",
       "121213  |Argentina|Bs.As. G.B.A. Zona Norte|San Isidro...    Argentina   \n",
       "121216  |Argentina|Bs.As. G.B.A. Zona Norte|San Isidro...    Argentina   \n",
       "\n",
       "                      state_name  geonames_id                        lat-lon  \\\n",
       "66               Capital Federal    3436003.0  -34.6187769485,-58.4026450688   \n",
       "125       Bs.As. G.B.A. Zona Sur    3435907.0          -38.416097,-63.616672   \n",
       "266              Capital Federal          NaN  -34.5765042465,-58.4314684478   \n",
       "272     Bs.As. G.B.A. Zona Oeste    3435607.0        -34.6534243,-58.6393143   \n",
       "274     Bs.As. G.B.A. Zona Oeste    3435607.0         -34.650075,-58.6390392   \n",
       "...                          ...          ...                            ...   \n",
       "121145    Bs.As. G.B.A. Zona Sur    3436152.0                            NaN   \n",
       "121210  Bs.As. G.B.A. Zona Norte    3430813.0                            NaN   \n",
       "121212  Bs.As. G.B.A. Zona Norte    3436508.0                            NaN   \n",
       "121213  Bs.As. G.B.A. Zona Norte    3430813.0                            NaN   \n",
       "121216  Bs.As. G.B.A. Zona Norte    3436080.0                            NaN   \n",
       "\n",
       "              lat  ...  expenses_bool  expenses_nuevo geonames_id_nuevo  \\\n",
       "66     -34.618777  ...             SI          1200.0         3436003.0   \n",
       "125    -38.416097  ...             SI          1800.0         3435907.0   \n",
       "266    -34.576504  ...             SI          1800.0               NaN   \n",
       "272    -34.653424  ...             SI          1000.0         3435607.0   \n",
       "274    -34.650075  ...             SI          1000.0         3435607.0   \n",
       "...           ...  ...            ...             ...               ...   \n",
       "121145        NaN  ...             NO             0.0         3436152.0   \n",
       "121210        NaN  ...             NO             0.0         3430813.0   \n",
       "121212        NaN  ...             NO             0.0         3436508.0   \n",
       "121213        NaN  ...             NO             0.0         3430813.0   \n",
       "121216        NaN  ...             NO             0.0         3436080.0   \n",
       "\n",
       "                        lat-lon_nuevo  lat_nuevo  lon_nuevo  floor_copia  \\\n",
       "66      -34.6187769485,-58.4026450688 -34.618777 -58.402645          NaN   \n",
       "125             -38.416097,-63.616672 -38.416097 -63.616672          NaN   \n",
       "266     -34.5765042465,-58.4314684478 -34.576504 -58.431468          NaN   \n",
       "272           -34.6534243,-58.6393143 -34.653424 -58.639314          NaN   \n",
       "274            -34.650075,-58.6390392 -34.650075 -58.639039          NaN   \n",
       "...                               ...        ...        ...          ...   \n",
       "121145         -34.742923, -58.399492 -34.742923 -58.399492          NaN   \n",
       "121210         -34.492594, -58.506898 -34.492594 -58.506898          NaN   \n",
       "121212                            NaN        NaN        NaN          NaN   \n",
       "121213         -34.492594, -58.506898 -34.492594 -58.506898          NaN   \n",
       "121216                            NaN        NaN        NaN          NaN   \n",
       "\n",
       "        property_type_copia  \\\n",
       "66                apartment   \n",
       "125               apartment   \n",
       "266               apartment   \n",
       "272               apartment   \n",
       "274               apartment   \n",
       "...                     ...   \n",
       "121145                house   \n",
       "121210                house   \n",
       "121212                house   \n",
       "121213                house   \n",
       "121216                house   \n",
       "\n",
       "                                        description_copia  \\\n",
       "66      codigo: 5 ubicado en: avenida independencia 26...   \n",
       "125     codigo: 438-12112 ubicado en: test de prueba -...   \n",
       "266     codigo:  ubicado en: avenida santa fe 5000 -  ...   \n",
       "272     codigo:  ubicado en: monteverde 504 -  publica...   \n",
       "274     codigo:  ubicado en: montes de oca 2200 -  pub...   \n",
       "...                                                   ...   \n",
       "121145  casa sobre linea municipal, estar de recepción...   \n",
       "121210  dos viviendas en block en excelente ubicación ...   \n",
       "121212  espectacular casa estilo racionalista en calle...   \n",
       "121213  excelente casa en martinez. inmejorable ubicai...   \n",
       "121216  excelente e impecable casa en venta en las lom...   \n",
       "\n",
       "                                              title_copia  \n",
       "66      departamento nuevo, de un ambiente amplio, 3 a...  \n",
       "125                                              ruggieri  \n",
       "266        av. santa fe 5000 - 2 amb - palermo hollywood   \n",
       "272           departamento 3 ambientes venta castelar sur  \n",
       "274               departamento 2 ambientes castelar norte  \n",
       "...                                                   ...  \n",
       "121145                              casa - banfield oeste  \n",
       "121210                                    casa - martinez  \n",
       "121212                                    casa - acassuso  \n",
       "121213                                    casa - martinez  \n",
       "121216  ruca inmuebles | venta | lomas de san isidro |...  \n",
       "\n",
       "[72396 rows x 40 columns]"
      ]
     },
     "execution_count": 324,
     "metadata": {},
     "output_type": "execute_result"
    }
   ],
   "source": [
    "data.loc[data.title_copia!= \"\"]"
   ]
  },
  {
   "cell_type": "code",
   "execution_count": 325,
   "metadata": {},
   "outputs": [
    {
     "data": {
      "text/plain": [
       "'venta departamento ambiente divisible a estrenar balcon amenities.entrega inmediata* departamento: excelente monoambiente de (43,00m2) divisible, con importante placard - baño completo - balcón corrido, cocina integrada con equipamiento completo y herrajes de acero inoxidable, grifería fv, cocina con horno, termotanque eléctrico, servicios individuales, preinstalación aire acondicionado frío-calor, conexión lavarropas y lavavajillas.* edificio: moderno edificio, amenities - laundry - parrillas y solarium - terraza de uso común - grupo electrógeno.* cocheras disponibles desde usd 20.000* barrio: nuevo corredor urbano de 13 manzanas - holmberg/donado - área parquizada  - bicisendas  - zona de importantes embajadas - rodeado de espacios verdes.* medios de transporte: siete cuadras del subte b - próximo a uba( drago), colegio san patrick, estaciones drago y coglhan.si tenes que vender para comprar // somos especialistas en operaciones simultaneas// comunicate con nosotros para asesorarte. // las medidas, superficies y valores de esta ficha son aproximadas y a título informativo únicamente.triada propiedades oficina central: 4 788 2600direccion: juramento 1304, cabaweb: '"
      ]
     },
     "execution_count": 325,
     "metadata": {},
     "output_type": "execute_result"
    }
   ],
   "source": [
    "data.loc[121217, 'description_copia']"
   ]
  },
  {
   "cell_type": "code",
   "execution_count": 326,
   "metadata": {},
   "outputs": [],
   "source": [
    "patron = r\"(casa[s]?|chalet|quinta[s]?|cabaña[s]?|pb)\"\n",
    "busca = re.compile(patron)\n",
    "\n",
    "description_series_match = data.title_copia.apply(lambda x:  x if x is np.NaN else busca.search(x))\n",
    "mask_description_notnull = description_series_match.notnull()\n",
    "encontradas = description_series_match[mask_description_notnull].apply(lambda x: x.group(1))\n",
    "\n",
    "num_pisos_mapper = {'casa': 0,'casas':0, 'chalet': 0, 'quinta': 0, 'quintas': 0, 'cabaña': 0, \\\n",
    "                    'cabañas':0, 'pb': 0 }\n",
    "encontradas1 = encontradas.map(num_pisos_mapper)"
   ]
  },
  {
   "cell_type": "code",
   "execution_count": 327,
   "metadata": {},
   "outputs": [],
   "source": [
    "data.loc[mask_description_notnull,'floor_copia']= encontradas1.astype(float)"
   ]
  },
  {
   "cell_type": "code",
   "execution_count": 328,
   "metadata": {},
   "outputs": [
    {
     "data": {
      "text/plain": [
       "False    72785\n",
       "True     48435\n",
       "Name: floor_copia, dtype: int64"
      ]
     },
     "execution_count": 328,
     "metadata": {},
     "output_type": "execute_result"
    }
   ],
   "source": [
    "data['floor_copia'].isnull().value_counts()"
   ]
  },
  {
   "cell_type": "code",
   "execution_count": 329,
   "metadata": {},
   "outputs": [],
   "source": [
    "data.loc[mask_description_notnull, ['description_copia', 'title_copia']] = \"\""
   ]
  },
  {
   "cell_type": "code",
   "execution_count": 330,
   "metadata": {},
   "outputs": [],
   "source": [
    "patron = r\"(casa[s]?|chalet|quinta[s]?|cabaña[s]?|pb)\"\n",
    "busca = re.compile(patron)\n",
    "\n",
    "description_series_match = data.description_copia.apply(lambda x:  x if x is np.NaN else busca.search(x))\n",
    "mask_description_notnull = description_series_match.notnull()\n",
    "encontradas = description_series_match[mask_description_notnull].apply(lambda x: x.group(1))\n",
    "\n",
    "num_pisos_mapper = {'casa': 0,'casas':0, 'chalet': 0, 'quinta': 0, 'quintas': 0, 'cabaña': 0, \\\n",
    "                    'cabañas':0, 'pb': 0 }\n",
    "encontradas1 = encontradas.map(num_pisos_mapper)"
   ]
  },
  {
   "cell_type": "code",
   "execution_count": 331,
   "metadata": {},
   "outputs": [],
   "source": [
    "data.loc[mask_description_notnull,'floor_copia']= encontradas1.astype(float)"
   ]
  },
  {
   "cell_type": "code",
   "execution_count": 332,
   "metadata": {},
   "outputs": [
    {
     "data": {
      "text/plain": [
       "False    77585\n",
       "True     43635\n",
       "Name: floor_copia, dtype: int64"
      ]
     },
     "execution_count": 332,
     "metadata": {},
     "output_type": "execute_result"
    }
   ],
   "source": [
    "data['floor_copia'].isnull().value_counts()"
   ]
  },
  {
   "cell_type": "code",
   "execution_count": 333,
   "metadata": {},
   "outputs": [],
   "source": [
    "data.loc[mask_description_notnull, ['description_copia', 'title_copia']] = \"\""
   ]
  },
  {
   "cell_type": "code",
   "execution_count": 334,
   "metadata": {},
   "outputs": [
    {
     "data": {
      "text/html": [
       "<div>\n",
       "<style scoped>\n",
       "    .dataframe tbody tr th:only-of-type {\n",
       "        vertical-align: middle;\n",
       "    }\n",
       "\n",
       "    .dataframe tbody tr th {\n",
       "        vertical-align: top;\n",
       "    }\n",
       "\n",
       "    .dataframe thead th {\n",
       "        text-align: right;\n",
       "    }\n",
       "</style>\n",
       "<table border=\"1\" class=\"dataframe\">\n",
       "  <thead>\n",
       "    <tr style=\"text-align: right;\">\n",
       "      <th></th>\n",
       "      <th>Unnamed: 0</th>\n",
       "      <th>operation</th>\n",
       "      <th>property_type</th>\n",
       "      <th>place_name</th>\n",
       "      <th>place_with_parent_names</th>\n",
       "      <th>country_name</th>\n",
       "      <th>state_name</th>\n",
       "      <th>geonames_id</th>\n",
       "      <th>lat-lon</th>\n",
       "      <th>lat</th>\n",
       "      <th>...</th>\n",
       "      <th>expenses_bool</th>\n",
       "      <th>expenses_nuevo</th>\n",
       "      <th>geonames_id_nuevo</th>\n",
       "      <th>lat-lon_nuevo</th>\n",
       "      <th>lat_nuevo</th>\n",
       "      <th>lon_nuevo</th>\n",
       "      <th>floor_copia</th>\n",
       "      <th>property_type_copia</th>\n",
       "      <th>description_copia</th>\n",
       "      <th>title_copia</th>\n",
       "    </tr>\n",
       "  </thead>\n",
       "  <tbody>\n",
       "    <tr>\n",
       "      <th>49733</th>\n",
       "      <td>49733</td>\n",
       "      <td>sell</td>\n",
       "      <td>PH</td>\n",
       "      <td>Victoria</td>\n",
       "      <td>|Argentina|Bs.As. G.B.A. Zona Norte|San Fernan...</td>\n",
       "      <td>Argentina</td>\n",
       "      <td>Bs.As. G.B.A. Zona Norte</td>\n",
       "      <td>3427500.0</td>\n",
       "      <td>-34.4507363,-58.5443033</td>\n",
       "      <td>-34.450736</td>\n",
       "      <td>...</td>\n",
       "      <td>NO</td>\n",
       "      <td>0.000000</td>\n",
       "      <td>3427500.0</td>\n",
       "      <td>-34.4507363,-58.5443033</td>\n",
       "      <td>-34.450736</td>\n",
       "      <td>-58.544303</td>\n",
       "      <td>NaN</td>\n",
       "      <td>PH</td>\n",
       "      <td>venta de ph 2 dormitorios en victoria, san fer...</td>\n",
       "      <td>ph en venta</td>\n",
       "    </tr>\n",
       "    <tr>\n",
       "      <th>15909</th>\n",
       "      <td>15909</td>\n",
       "      <td>sell</td>\n",
       "      <td>house</td>\n",
       "      <td>Posadas</td>\n",
       "      <td>|Argentina|Misiones|Posadas|</td>\n",
       "      <td>Argentina</td>\n",
       "      <td>Misiones</td>\n",
       "      <td>3429886.0</td>\n",
       "      <td>-27.414265,-55.952119</td>\n",
       "      <td>-27.414265</td>\n",
       "      <td>...</td>\n",
       "      <td>NO</td>\n",
       "      <td>0.000000</td>\n",
       "      <td>3429886.0</td>\n",
       "      <td>-27.414265,-55.952119</td>\n",
       "      <td>-27.414265</td>\n",
       "      <td>-55.952119</td>\n",
       "      <td>0.0</td>\n",
       "      <td>house</td>\n",
       "      <td></td>\n",
       "      <td></td>\n",
       "    </tr>\n",
       "    <tr>\n",
       "      <th>35631</th>\n",
       "      <td>35631</td>\n",
       "      <td>sell</td>\n",
       "      <td>store</td>\n",
       "      <td>San Antonio de Arredondo</td>\n",
       "      <td>|Argentina|Córdoba|San Antonio de Arredondo|</td>\n",
       "      <td>Argentina</td>\n",
       "      <td>Córdoba</td>\n",
       "      <td>3837989.0</td>\n",
       "      <td>-31.4945372,-64.5447808</td>\n",
       "      <td>-31.494537</td>\n",
       "      <td>...</td>\n",
       "      <td>SI</td>\n",
       "      <td>1982.219551</td>\n",
       "      <td>3837989.0</td>\n",
       "      <td>-31.4945372,-64.5447808</td>\n",
       "      <td>-31.494537</td>\n",
       "      <td>-64.544781</td>\n",
       "      <td>NaN</td>\n",
       "      <td>store</td>\n",
       "      <td>cód: fdc12fondo de comercio restaurante excele...</td>\n",
       "      <td>fdc12- excelente oportunidad! fondo de comerci...</td>\n",
       "    </tr>\n",
       "  </tbody>\n",
       "</table>\n",
       "<p>3 rows × 40 columns</p>\n",
       "</div>"
      ],
      "text/plain": [
       "       Unnamed: 0 operation property_type                place_name  \\\n",
       "49733       49733      sell            PH                  Victoria   \n",
       "15909       15909      sell         house                   Posadas   \n",
       "35631       35631      sell         store  San Antonio de Arredondo   \n",
       "\n",
       "                                 place_with_parent_names country_name  \\\n",
       "49733  |Argentina|Bs.As. G.B.A. Zona Norte|San Fernan...    Argentina   \n",
       "15909                       |Argentina|Misiones|Posadas|    Argentina   \n",
       "35631       |Argentina|Córdoba|San Antonio de Arredondo|    Argentina   \n",
       "\n",
       "                     state_name  geonames_id                  lat-lon  \\\n",
       "49733  Bs.As. G.B.A. Zona Norte    3427500.0  -34.4507363,-58.5443033   \n",
       "15909                  Misiones    3429886.0    -27.414265,-55.952119   \n",
       "35631                   Córdoba    3837989.0  -31.4945372,-64.5447808   \n",
       "\n",
       "             lat  ...  expenses_bool  expenses_nuevo geonames_id_nuevo  \\\n",
       "49733 -34.450736  ...             NO        0.000000         3427500.0   \n",
       "15909 -27.414265  ...             NO        0.000000         3429886.0   \n",
       "35631 -31.494537  ...             SI     1982.219551         3837989.0   \n",
       "\n",
       "                 lat-lon_nuevo  lat_nuevo  lon_nuevo  floor_copia  \\\n",
       "49733  -34.4507363,-58.5443033 -34.450736 -58.544303          NaN   \n",
       "15909    -27.414265,-55.952119 -27.414265 -55.952119          0.0   \n",
       "35631  -31.4945372,-64.5447808 -31.494537 -64.544781          NaN   \n",
       "\n",
       "       property_type_copia                                  description_copia  \\\n",
       "49733                   PH  venta de ph 2 dormitorios en victoria, san fer...   \n",
       "15909                house                                                      \n",
       "35631                store  cód: fdc12fondo de comercio restaurante excele...   \n",
       "\n",
       "                                             title_copia  \n",
       "49733                                        ph en venta  \n",
       "15909                                                     \n",
       "35631  fdc12- excelente oportunidad! fondo de comerci...  \n",
       "\n",
       "[3 rows x 40 columns]"
      ]
     },
     "execution_count": 334,
     "metadata": {},
     "output_type": "execute_result"
    }
   ],
   "source": [
    "data.sample(3)"
   ]
  },
  {
   "cell_type": "markdown",
   "metadata": {},
   "source": [
    "## Limpieza de antiguedad"
   ]
  },
  {
   "cell_type": "code",
   "execution_count": 335,
   "metadata": {},
   "outputs": [
    {
     "data": {
      "text/plain": [
       "(121218, 40)"
      ]
     },
     "execution_count": 335,
     "metadata": {},
     "output_type": "execute_result"
    }
   ],
   "source": [
    "data_mask = data.description.notna()\n",
    "data_con_descriptions =  data.loc[data_mask,:]\n",
    "data_con_descriptions.shape"
   ]
  },
  {
   "cell_type": "code",
   "execution_count": 336,
   "metadata": {},
   "outputs": [],
   "source": [
    "#Análisis de inmuebles a estrenar\n",
    "a_estrenar = data_con_descriptions[data_con_descriptions['description'].str.contains('estrenar')]\n",
    "mask_a_estrenar = data.index.isin(a_estrenar.index)"
   ]
  },
  {
   "cell_type": "code",
   "execution_count": 337,
   "metadata": {},
   "outputs": [],
   "source": [
    "#Análisis de inmuebles en pozo\n",
    "en_pozo = data_con_descriptions[data_con_descriptions['description'].str.contains('en pozo')]\n",
    "mask_en_pozo = data.index.isin(en_pozo.index)"
   ]
  },
  {
   "cell_type": "code",
   "execution_count": 338,
   "metadata": {},
   "outputs": [],
   "source": [
    "#Análisis de años de antiguedad en número\n",
    "pattern_antiguedad = '(\\d+)[\\s]año'\n",
    "pattern_antiguedad_regex = re.compile(pattern_antiguedad)\n",
    "description_series = data_con_descriptions.description\n",
    "resultado_antiguedad = description_series.apply(lambda x: pattern_antiguedad_regex.search(x))\n",
    "resultado_antiguedad[resultado_antiguedad.notnull()]\n",
    "encontradas_ant = resultado_antiguedad[resultado_antiguedad.notnull()].apply(lambda x: x.group(1))"
   ]
  },
  {
   "cell_type": "code",
   "execution_count": 339,
   "metadata": {},
   "outputs": [
    {
     "data": {
      "text/plain": [
       "(4336,)"
      ]
     },
     "execution_count": 339,
     "metadata": {},
     "output_type": "execute_result"
    }
   ],
   "source": [
    "encontradas_ant.shape"
   ]
  },
  {
   "cell_type": "markdown",
   "metadata": {},
   "source": [
    "#### Es necesario revisar esta regex"
   ]
  },
  {
   "cell_type": "code",
   "execution_count": 340,
   "metadata": {},
   "outputs": [],
   "source": [
    "# #Análisis de años de antiguedad en letras\n",
    "\n",
    "# pattern_antiguedad_letras = '([a-zA-Z]*[\\s]?[a-zA-Z]*[\\s]?[a-zA-Z]*)[\\s]año'\n",
    "# pattern_antiguedad_letras_regex = re.compile(pattern_antiguedad_letras)\n",
    "# description_series_letras = data_con_descriptions.description\n",
    "# resultado_antiguedad_letras = description_series_letras.apply(lambda x: pattern_antiguedad_letras_regex.search(x))\n",
    "# resultado_antiguedad_letras[resultado_antiguedad_letras.notnull()]\n",
    "# encontradas_ant_letras = resultado_antiguedad_letras[resultado_antiguedad_letras.notnull()].apply(lambda x: x.group(1))\n"
   ]
  },
  {
   "cell_type": "code",
   "execution_count": 341,
   "metadata": {},
   "outputs": [],
   "source": [
    "numeroaint = {'cero': 0, 'uno': 1, 'un': 1, 'dos': 2, 'tres': 3, 'cuatro': 4, 'cinco': 5, 'seis': 6, 'siete': 7, 'ocho': 8,\n",
    "              'nueve': 9, 'diez': 10, 'once': 11, 'doce': 12, 'trece': 13, 'catorce': 14, 'quince': 15, 'dieciseis': 16,\n",
    "              'diecisiete': 17, 'dieciocho': 18, 'diecinueve': 19, 'veinte': 20, 'veintiun': 21, 'veintiuno': 21,\n",
    "              'veintidos': 22, 'veintitres': 23, 'veinticuatro': 24, 'veinticinco': 25, 'veintiseis': 26, 'veintisiete': 27,\n",
    "              'veintiocho': 28, 'veintinueve': 29, 'treinta': 30, 'treinta y un': 31, 'treinta y uno': 31, 'treinta y dos': 32, \n",
    "              'treinta y tres': 33, 'treinta y cuatro': 34, 'treinta y cinco': 35, 'treinta y seis': 36, 'trinta y siete': 37,\n",
    "              'treinta y ocho': 38, 'treinta y nueve': 39, 'cuarenta': 40, 'cuarenta y uno': 41, 'cuarenta y un': 41, \n",
    "              'cuarenta y dos': 42, 'cuarenta y tres': 43, 'cuarenta y cuatro': 44, 'cuarenta y cinco': 45,\n",
    "              'cuarenta y seis': 46, 'cuarenta y siete': 47, 'cuarenta y ocho': 48, 'cuarenta y nueve': 49, 'cincuenta': 50}\n",
    "              \n",
    "                       \n",
    "def n2i(x):\n",
    "    return numeroaint[x]\n"
   ]
  },
  {
   "cell_type": "markdown",
   "metadata": {},
   "source": [
    "#### Creamos variable ant para identificar si es a estrenar, de pozo u otros"
   ]
  },
  {
   "cell_type": "code",
   "execution_count": 342,
   "metadata": {},
   "outputs": [
    {
     "data": {
      "text/plain": [
       "otros         113692\n",
       "a_estrenar      6682\n",
       "en_pozo          846\n",
       "Name: ant, dtype: int64"
      ]
     },
     "execution_count": 342,
     "metadata": {},
     "output_type": "execute_result"
    }
   ],
   "source": [
    "data.loc[mask_a_estrenar, 'ant'] = 'a_estrenar'\n",
    "data.loc[mask_en_pozo, 'ant'] = 'en_pozo'\n",
    "data.loc[data['ant'].isnull(),'ant'] = 'otros'\n",
    "data.ant.value_counts()"
   ]
  },
  {
   "cell_type": "code",
   "execution_count": 343,
   "metadata": {},
   "outputs": [
    {
     "name": "stdout",
     "output_type": "stream",
     "text": [
      "Bs.As. G.B.A. Zona Norte        0.271265\n",
      "Capital Federal                 0.262476\n",
      "Santa Fe                        0.101147\n",
      "Buenos Aires Costa Atlántica    0.084910\n",
      "Bs.As. G.B.A. Zona Sur          0.084910\n",
      "Bs.As. G.B.A. Zona Oeste        0.078802\n",
      "Córdoba                         0.064204\n",
      "Buenos Aires Interior           0.016535\n",
      "Tucumán                         0.008193\n",
      "Corrientes                      0.008044\n",
      "Río Negro                       0.004469\n",
      "Mendoza                         0.004320\n",
      "Salta                           0.002830\n",
      "Entre Ríos                      0.002234\n",
      "Misiones                        0.002234\n",
      "Neuquén                         0.001788\n",
      "Chubut                          0.000894\n",
      "La Pampa                        0.000298\n",
      "Chaco                           0.000298\n",
      "San Luis                        0.000149\n",
      "Name: state_name, dtype: float64\n"
     ]
    },
    {
     "data": {
      "text/plain": [
       "Capital Federal                 0.266590\n",
       "Bs.As. G.B.A. Zona Norte        0.210856\n",
       "Bs.As. G.B.A. Zona Sur          0.115097\n",
       "Córdoba                         0.099563\n",
       "Santa Fe                        0.083914\n",
       "Buenos Aires Costa Atlántica    0.082544\n",
       "Bs.As. G.B.A. Zona Oeste        0.076902\n",
       "Buenos Aires Interior           0.018900\n",
       "Río Negro                       0.006666\n",
       "Neuquén                         0.006047\n",
       "Mendoza                         0.005618\n",
       "Tucumán                         0.005560\n",
       "Corrientes                      0.004809\n",
       "Misiones                        0.003828\n",
       "Entre Ríos                      0.003044\n",
       "Salta                           0.002293\n",
       "Chubut                          0.002137\n",
       "San Luis                        0.002079\n",
       "La Pampa                        0.001295\n",
       "Formosa                         0.000536\n",
       "Chaco                           0.000470\n",
       "San Juan                        0.000330\n",
       "Tierra Del Fuego                0.000256\n",
       "Catamarca                       0.000223\n",
       "Jujuy                           0.000214\n",
       "Santa Cruz                      0.000165\n",
       "La Rioja                        0.000033\n",
       "Santiago Del Estero             0.000033\n",
       "Name: state_name, dtype: float64"
      ]
     },
     "execution_count": 343,
     "metadata": {},
     "output_type": "execute_result"
    }
   ],
   "source": [
    "print(a_estrenar.state_name.value_counts(normalize = True))\n",
    "data.state_name.value_counts(normalize = True)"
   ]
  },
  {
   "cell_type": "code",
   "execution_count": 344,
   "metadata": {},
   "outputs": [
    {
     "data": {
      "text/plain": [
       "count        5771.000000\n",
       "mean       391171.337896\n",
       "std        707647.657698\n",
       "min         30000.000000\n",
       "25%         99000.000000\n",
       "50%        159000.000000\n",
       "75%        340000.000000\n",
       "max      13069000.000000\n",
       "Name: price, dtype: object"
      ]
     },
     "execution_count": 344,
     "metadata": {},
     "output_type": "execute_result"
    }
   ],
   "source": [
    "data.price.describe().apply(lambda x: format(x, 'f'))\n",
    "a_estrenar.price.describe().apply(lambda x: format(x, 'f'))"
   ]
  },
  {
   "cell_type": "markdown",
   "metadata": {},
   "source": [
    "## Limpieza de Precios"
   ]
  },
  {
   "cell_type": "code",
   "execution_count": 345,
   "metadata": {},
   "outputs": [
    {
     "data": {
      "text/html": [
       "<div>\n",
       "<style scoped>\n",
       "    .dataframe tbody tr th:only-of-type {\n",
       "        vertical-align: middle;\n",
       "    }\n",
       "\n",
       "    .dataframe tbody tr th {\n",
       "        vertical-align: top;\n",
       "    }\n",
       "\n",
       "    .dataframe thead th {\n",
       "        text-align: right;\n",
       "    }\n",
       "</style>\n",
       "<table border=\"1\" class=\"dataframe\">\n",
       "  <thead>\n",
       "    <tr style=\"text-align: right;\">\n",
       "      <th></th>\n",
       "      <th>place_name</th>\n",
       "      <th>price</th>\n",
       "      <th>currency</th>\n",
       "      <th>price_aprox_local_currency</th>\n",
       "      <th>price_aprox_usd</th>\n",
       "      <th>surface_total_in_m2</th>\n",
       "      <th>surface_covered_in_m2</th>\n",
       "      <th>price_usd_per_m2</th>\n",
       "      <th>price_per_m2</th>\n",
       "      <th>property_type</th>\n",
       "    </tr>\n",
       "  </thead>\n",
       "  <tbody>\n",
       "    <tr>\n",
       "      <th>66</th>\n",
       "      <td>Boedo</td>\n",
       "      <td>72900.0</td>\n",
       "      <td>USD</td>\n",
       "      <td>1286284.05</td>\n",
       "      <td>72900.0</td>\n",
       "      <td>38.0</td>\n",
       "      <td>NaN</td>\n",
       "      <td>1918.421053</td>\n",
       "      <td>NaN</td>\n",
       "      <td>apartment</td>\n",
       "    </tr>\n",
       "    <tr>\n",
       "      <th>96</th>\n",
       "      <td>San Bernardo</td>\n",
       "      <td>54000.0</td>\n",
       "      <td>USD</td>\n",
       "      <td>952803.00</td>\n",
       "      <td>54000.0</td>\n",
       "      <td>75.0</td>\n",
       "      <td>30.0</td>\n",
       "      <td>720.000000</td>\n",
       "      <td>1800.000000</td>\n",
       "      <td>apartment</td>\n",
       "    </tr>\n",
       "    <tr>\n",
       "      <th>98</th>\n",
       "      <td>Almagro</td>\n",
       "      <td>109900.0</td>\n",
       "      <td>USD</td>\n",
       "      <td>1939130.55</td>\n",
       "      <td>109900.0</td>\n",
       "      <td>50.0</td>\n",
       "      <td>40.0</td>\n",
       "      <td>2198.000000</td>\n",
       "      <td>2747.500000</td>\n",
       "      <td>apartment</td>\n",
       "    </tr>\n",
       "    <tr>\n",
       "      <th>125</th>\n",
       "      <td>Bs.As. G.B.A. Zona Sur</td>\n",
       "      <td>NaN</td>\n",
       "      <td>NaN</td>\n",
       "      <td>NaN</td>\n",
       "      <td>NaN</td>\n",
       "      <td>NaN</td>\n",
       "      <td>NaN</td>\n",
       "      <td>NaN</td>\n",
       "      <td>NaN</td>\n",
       "      <td>apartment</td>\n",
       "    </tr>\n",
       "    <tr>\n",
       "      <th>266</th>\n",
       "      <td>Palermo Hollywood</td>\n",
       "      <td>135000.0</td>\n",
       "      <td>USD</td>\n",
       "      <td>2382007.50</td>\n",
       "      <td>135000.0</td>\n",
       "      <td>47.0</td>\n",
       "      <td>41.0</td>\n",
       "      <td>2872.340426</td>\n",
       "      <td>3292.682927</td>\n",
       "      <td>apartment</td>\n",
       "    </tr>\n",
       "    <tr>\n",
       "      <th>...</th>\n",
       "      <td>...</td>\n",
       "      <td>...</td>\n",
       "      <td>...</td>\n",
       "      <td>...</td>\n",
       "      <td>...</td>\n",
       "      <td>...</td>\n",
       "      <td>...</td>\n",
       "      <td>...</td>\n",
       "      <td>...</td>\n",
       "      <td>...</td>\n",
       "    </tr>\n",
       "    <tr>\n",
       "      <th>121208</th>\n",
       "      <td>Escobar</td>\n",
       "      <td>NaN</td>\n",
       "      <td>NaN</td>\n",
       "      <td>NaN</td>\n",
       "      <td>NaN</td>\n",
       "      <td>NaN</td>\n",
       "      <td>178.0</td>\n",
       "      <td>NaN</td>\n",
       "      <td>NaN</td>\n",
       "      <td>house</td>\n",
       "    </tr>\n",
       "    <tr>\n",
       "      <th>121210</th>\n",
       "      <td>Martínez</td>\n",
       "      <td>NaN</td>\n",
       "      <td>NaN</td>\n",
       "      <td>NaN</td>\n",
       "      <td>NaN</td>\n",
       "      <td>NaN</td>\n",
       "      <td>120.0</td>\n",
       "      <td>NaN</td>\n",
       "      <td>NaN</td>\n",
       "      <td>house</td>\n",
       "    </tr>\n",
       "    <tr>\n",
       "      <th>121212</th>\n",
       "      <td>Acassuso</td>\n",
       "      <td>NaN</td>\n",
       "      <td>NaN</td>\n",
       "      <td>NaN</td>\n",
       "      <td>NaN</td>\n",
       "      <td>420.0</td>\n",
       "      <td>420.0</td>\n",
       "      <td>NaN</td>\n",
       "      <td>NaN</td>\n",
       "      <td>house</td>\n",
       "    </tr>\n",
       "    <tr>\n",
       "      <th>121213</th>\n",
       "      <td>Martínez</td>\n",
       "      <td>NaN</td>\n",
       "      <td>NaN</td>\n",
       "      <td>NaN</td>\n",
       "      <td>NaN</td>\n",
       "      <td>600.0</td>\n",
       "      <td>600.0</td>\n",
       "      <td>NaN</td>\n",
       "      <td>NaN</td>\n",
       "      <td>house</td>\n",
       "    </tr>\n",
       "    <tr>\n",
       "      <th>121216</th>\n",
       "      <td>Beccar</td>\n",
       "      <td>498000.0</td>\n",
       "      <td>USD</td>\n",
       "      <td>8786961.00</td>\n",
       "      <td>498000.0</td>\n",
       "      <td>360.0</td>\n",
       "      <td>360.0</td>\n",
       "      <td>1383.333333</td>\n",
       "      <td>1383.333333</td>\n",
       "      <td>house</td>\n",
       "    </tr>\n",
       "  </tbody>\n",
       "</table>\n",
       "<p>121220 rows × 10 columns</p>\n",
       "</div>"
      ],
      "text/plain": [
       "                    place_name     price currency  price_aprox_local_currency  \\\n",
       "66                       Boedo   72900.0      USD                  1286284.05   \n",
       "96                San Bernardo   54000.0      USD                   952803.00   \n",
       "98                     Almagro  109900.0      USD                  1939130.55   \n",
       "125     Bs.As. G.B.A. Zona Sur       NaN      NaN                         NaN   \n",
       "266          Palermo Hollywood  135000.0      USD                  2382007.50   \n",
       "...                        ...       ...      ...                         ...   \n",
       "121208                 Escobar       NaN      NaN                         NaN   \n",
       "121210                Martínez       NaN      NaN                         NaN   \n",
       "121212                Acassuso       NaN      NaN                         NaN   \n",
       "121213                Martínez       NaN      NaN                         NaN   \n",
       "121216                  Beccar  498000.0      USD                  8786961.00   \n",
       "\n",
       "        price_aprox_usd  surface_total_in_m2  surface_covered_in_m2  \\\n",
       "66              72900.0                 38.0                    NaN   \n",
       "96              54000.0                 75.0                   30.0   \n",
       "98             109900.0                 50.0                   40.0   \n",
       "125                 NaN                  NaN                    NaN   \n",
       "266            135000.0                 47.0                   41.0   \n",
       "...                 ...                  ...                    ...   \n",
       "121208              NaN                  NaN                  178.0   \n",
       "121210              NaN                  NaN                  120.0   \n",
       "121212              NaN                420.0                  420.0   \n",
       "121213              NaN                600.0                  600.0   \n",
       "121216         498000.0                360.0                  360.0   \n",
       "\n",
       "        price_usd_per_m2  price_per_m2 property_type  \n",
       "66           1918.421053           NaN     apartment  \n",
       "96            720.000000   1800.000000     apartment  \n",
       "98           2198.000000   2747.500000     apartment  \n",
       "125                  NaN           NaN     apartment  \n",
       "266          2872.340426   3292.682927     apartment  \n",
       "...                  ...           ...           ...  \n",
       "121208               NaN           NaN         house  \n",
       "121210               NaN           NaN         house  \n",
       "121212               NaN           NaN         house  \n",
       "121213               NaN           NaN         house  \n",
       "121216       1383.333333   1383.333333         house  \n",
       "\n",
       "[121220 rows x 10 columns]"
      ]
     },
     "execution_count": 345,
     "metadata": {},
     "output_type": "execute_result"
    }
   ],
   "source": [
    "data_precio= data.loc[:,[\"place_name\",\"price\", \"currency\", \"price_aprox_local_currency\", \"price_aprox_usd\",\"surface_total_in_m2\", \"surface_covered_in_m2\",\"price_usd_per_m2\", \"price_per_m2\", \"property_type\"]]\n",
    "data_precio"
   ]
  },
  {
   "cell_type": "code",
   "execution_count": 346,
   "metadata": {},
   "outputs": [
    {
     "data": {
      "text/plain": [
       "place_name                       23\n",
       "price                         20410\n",
       "currency                      20411\n",
       "price_aprox_local_currency    20410\n",
       "price_aprox_usd               20410\n",
       "surface_total_in_m2           39328\n",
       "surface_covered_in_m2         19907\n",
       "price_usd_per_m2              52603\n",
       "price_per_m2                  33562\n",
       "property_type                     0\n",
       "dtype: int64"
      ]
     },
     "execution_count": 346,
     "metadata": {},
     "output_type": "execute_result"
    }
   ],
   "source": [
    "data_precio.isnull().sum()"
   ]
  },
  {
   "cell_type": "code",
   "execution_count": 347,
   "metadata": {},
   "outputs": [
    {
     "data": {
      "text/plain": [
       "66    17.6445\n",
       "dtype: float64"
      ]
     },
     "execution_count": 347,
     "metadata": {},
     "output_type": "execute_result"
    }
   ],
   "source": [
    "tc = data_precio[\"price_aprox_local_currency\"] / data_precio[\"price\"]\n",
    "tc[:1]"
   ]
  },
  {
   "cell_type": "markdown",
   "metadata": {},
   "source": [
    "## Datos basicos para el analisis:\n",
    "\n",
    "1 - Columna Currency cambiar ARS X USD\n"
   ]
  },
  {
   "cell_type": "code",
   "execution_count": 348,
   "metadata": {},
   "outputs": [
    {
     "data": {
      "text/html": [
       "<div>\n",
       "<style scoped>\n",
       "    .dataframe tbody tr th:only-of-type {\n",
       "        vertical-align: middle;\n",
       "    }\n",
       "\n",
       "    .dataframe tbody tr th {\n",
       "        vertical-align: top;\n",
       "    }\n",
       "\n",
       "    .dataframe thead th {\n",
       "        text-align: right;\n",
       "    }\n",
       "</style>\n",
       "<table border=\"1\" class=\"dataframe\">\n",
       "  <thead>\n",
       "    <tr style=\"text-align: right;\">\n",
       "      <th></th>\n",
       "      <th>place_name</th>\n",
       "      <th>price</th>\n",
       "      <th>currency</th>\n",
       "      <th>price_aprox_local_currency</th>\n",
       "      <th>price_aprox_usd</th>\n",
       "      <th>surface_total_in_m2</th>\n",
       "      <th>surface_covered_in_m2</th>\n",
       "      <th>price_usd_per_m2</th>\n",
       "      <th>price_per_m2</th>\n",
       "      <th>property_type</th>\n",
       "    </tr>\n",
       "  </thead>\n",
       "  <tbody>\n",
       "    <tr>\n",
       "      <th>423</th>\n",
       "      <td>Córdoba</td>\n",
       "      <td>2450000.0</td>\n",
       "      <td>ARS</td>\n",
       "      <td>2521672.01</td>\n",
       "      <td>142915.47</td>\n",
       "      <td>95.0</td>\n",
       "      <td>75.0</td>\n",
       "      <td>1504.373368</td>\n",
       "      <td>32666.666667</td>\n",
       "      <td>apartment</td>\n",
       "    </tr>\n",
       "    <tr>\n",
       "      <th>830</th>\n",
       "      <td>Rosario</td>\n",
       "      <td>1200000.0</td>\n",
       "      <td>ARS</td>\n",
       "      <td>1187482.08</td>\n",
       "      <td>67300.41</td>\n",
       "      <td>32.0</td>\n",
       "      <td>32.0</td>\n",
       "      <td>2103.137813</td>\n",
       "      <td>37500.000000</td>\n",
       "      <td>apartment</td>\n",
       "    </tr>\n",
       "    <tr>\n",
       "      <th>4687</th>\n",
       "      <td>San Miguel de Tucumán</td>\n",
       "      <td>799240.0</td>\n",
       "      <td>ARS</td>\n",
       "      <td>790902.53</td>\n",
       "      <td>44824.31</td>\n",
       "      <td>71.0</td>\n",
       "      <td>NaN</td>\n",
       "      <td>631.328310</td>\n",
       "      <td>NaN</td>\n",
       "      <td>apartment</td>\n",
       "    </tr>\n",
       "    <tr>\n",
       "      <th>5572</th>\n",
       "      <td>Villa Crespo</td>\n",
       "      <td>289000.0</td>\n",
       "      <td>ARS</td>\n",
       "      <td>285985.23</td>\n",
       "      <td>16208.18</td>\n",
       "      <td>183.0</td>\n",
       "      <td>112.0</td>\n",
       "      <td>88.569290</td>\n",
       "      <td>2580.357143</td>\n",
       "      <td>apartment</td>\n",
       "    </tr>\n",
       "    <tr>\n",
       "      <th>6185</th>\n",
       "      <td>Río Cuarto</td>\n",
       "      <td>800000.0</td>\n",
       "      <td>ARS</td>\n",
       "      <td>791654.72</td>\n",
       "      <td>44866.94</td>\n",
       "      <td>NaN</td>\n",
       "      <td>NaN</td>\n",
       "      <td>NaN</td>\n",
       "      <td>NaN</td>\n",
       "      <td>apartment</td>\n",
       "    </tr>\n",
       "    <tr>\n",
       "      <th>...</th>\n",
       "      <td>...</td>\n",
       "      <td>...</td>\n",
       "      <td>...</td>\n",
       "      <td>...</td>\n",
       "      <td>...</td>\n",
       "      <td>...</td>\n",
       "      <td>...</td>\n",
       "      <td>...</td>\n",
       "      <td>...</td>\n",
       "      <td>...</td>\n",
       "    </tr>\n",
       "    <tr>\n",
       "      <th>120317</th>\n",
       "      <td>Córdoba</td>\n",
       "      <td>1987000.0</td>\n",
       "      <td>ARS</td>\n",
       "      <td>1966272.37</td>\n",
       "      <td>111438.26</td>\n",
       "      <td>350.0</td>\n",
       "      <td>350.0</td>\n",
       "      <td>318.395029</td>\n",
       "      <td>5677.142857</td>\n",
       "      <td>house</td>\n",
       "    </tr>\n",
       "    <tr>\n",
       "      <th>120324</th>\n",
       "      <td>Córdoba</td>\n",
       "      <td>900000.0</td>\n",
       "      <td>ARS</td>\n",
       "      <td>890611.43</td>\n",
       "      <td>50475.30</td>\n",
       "      <td>110.0</td>\n",
       "      <td>100.0</td>\n",
       "      <td>458.866364</td>\n",
       "      <td>9000.000000</td>\n",
       "      <td>house</td>\n",
       "    </tr>\n",
       "    <tr>\n",
       "      <th>121083</th>\n",
       "      <td>San Miguel de Tucumán</td>\n",
       "      <td>3900000.0</td>\n",
       "      <td>ARS</td>\n",
       "      <td>3859316.72</td>\n",
       "      <td>218726.33</td>\n",
       "      <td>200.0</td>\n",
       "      <td>200.0</td>\n",
       "      <td>1093.631650</td>\n",
       "      <td>19500.000000</td>\n",
       "      <td>house</td>\n",
       "    </tr>\n",
       "    <tr>\n",
       "      <th>121091</th>\n",
       "      <td>Rosario</td>\n",
       "      <td>2500000.0</td>\n",
       "      <td>ARS</td>\n",
       "      <td>2473921.05</td>\n",
       "      <td>140209.19</td>\n",
       "      <td>100.0</td>\n",
       "      <td>100.0</td>\n",
       "      <td>1402.091900</td>\n",
       "      <td>25000.000000</td>\n",
       "      <td>house</td>\n",
       "    </tr>\n",
       "    <tr>\n",
       "      <th>121119</th>\n",
       "      <td>Córdoba</td>\n",
       "      <td>1700000.0</td>\n",
       "      <td>ARS</td>\n",
       "      <td>1682266.33</td>\n",
       "      <td>95342.25</td>\n",
       "      <td>NaN</td>\n",
       "      <td>80.0</td>\n",
       "      <td>NaN</td>\n",
       "      <td>21250.000000</td>\n",
       "      <td>house</td>\n",
       "    </tr>\n",
       "  </tbody>\n",
       "</table>\n",
       "<p>13219 rows × 10 columns</p>\n",
       "</div>"
      ],
      "text/plain": [
       "                   place_name      price currency  price_aprox_local_currency  \\\n",
       "423                   Córdoba  2450000.0      ARS                  2521672.01   \n",
       "830                   Rosario  1200000.0      ARS                  1187482.08   \n",
       "4687    San Miguel de Tucumán   799240.0      ARS                   790902.53   \n",
       "5572             Villa Crespo   289000.0      ARS                   285985.23   \n",
       "6185               Río Cuarto   800000.0      ARS                   791654.72   \n",
       "...                       ...        ...      ...                         ...   \n",
       "120317                Córdoba  1987000.0      ARS                  1966272.37   \n",
       "120324                Córdoba   900000.0      ARS                   890611.43   \n",
       "121083  San Miguel de Tucumán  3900000.0      ARS                  3859316.72   \n",
       "121091                Rosario  2500000.0      ARS                  2473921.05   \n",
       "121119                Córdoba  1700000.0      ARS                  1682266.33   \n",
       "\n",
       "        price_aprox_usd  surface_total_in_m2  surface_covered_in_m2  \\\n",
       "423           142915.47                 95.0                   75.0   \n",
       "830            67300.41                 32.0                   32.0   \n",
       "4687           44824.31                 71.0                    NaN   \n",
       "5572           16208.18                183.0                  112.0   \n",
       "6185           44866.94                  NaN                    NaN   \n",
       "...                 ...                  ...                    ...   \n",
       "120317        111438.26                350.0                  350.0   \n",
       "120324         50475.30                110.0                  100.0   \n",
       "121083        218726.33                200.0                  200.0   \n",
       "121091        140209.19                100.0                  100.0   \n",
       "121119         95342.25                  NaN                   80.0   \n",
       "\n",
       "        price_usd_per_m2  price_per_m2 property_type  \n",
       "423          1504.373368  32666.666667     apartment  \n",
       "830          2103.137813  37500.000000     apartment  \n",
       "4687          631.328310           NaN     apartment  \n",
       "5572           88.569290   2580.357143     apartment  \n",
       "6185                 NaN           NaN     apartment  \n",
       "...                  ...           ...           ...  \n",
       "120317        318.395029   5677.142857         house  \n",
       "120324        458.866364   9000.000000         house  \n",
       "121083       1093.631650  19500.000000         house  \n",
       "121091       1402.091900  25000.000000         house  \n",
       "121119               NaN  21250.000000         house  \n",
       "\n",
       "[13219 rows x 10 columns]"
      ]
     },
     "execution_count": 348,
     "metadata": {},
     "output_type": "execute_result"
    }
   ],
   "source": [
    "mask_ars = data_precio['currency']== \"ARS\"\n",
    "datos_ars =data_precio.loc[mask_ars, :]\n",
    "datos_ars"
   ]
  },
  {
   "cell_type": "code",
   "execution_count": 349,
   "metadata": {},
   "outputs": [
    {
     "data": {
      "text/plain": [
       "9          460000.0\n",
       "32         550000.0\n",
       "37        1250000.0\n",
       "78        5500000.0\n",
       "97        1423800.0\n",
       "            ...    \n",
       "121202    1507000.0\n",
       "121203    1502000.0\n",
       "121204    1502000.0\n",
       "121205    1507000.0\n",
       "121206    1507000.0\n",
       "Length: 13219, dtype: float64"
      ]
     },
     "execution_count": 349,
     "metadata": {},
     "output_type": "execute_result"
    }
   ],
   "source": [
    "relacion  = datos_ars[\"price_aprox_local_currency\"]/tc\n",
    "relacion[mask_ars]"
   ]
  },
  {
   "cell_type": "code",
   "execution_count": 350,
   "metadata": {},
   "outputs": [],
   "source": [
    "data_precio_1 = data_precio.replace(\"ARS\", value = \"USD\")"
   ]
  },
  {
   "cell_type": "code",
   "execution_count": 351,
   "metadata": {},
   "outputs": [
    {
     "data": {
      "text/plain": [
       "place_name                       23\n",
       "price                         20410\n",
       "currency                      20411\n",
       "price_aprox_local_currency    20410\n",
       "price_aprox_usd               20410\n",
       "surface_total_in_m2           39328\n",
       "surface_covered_in_m2         19907\n",
       "price_usd_per_m2              52603\n",
       "price_per_m2                  33562\n",
       "property_type                     0\n",
       "dtype: int64"
      ]
     },
     "execution_count": 351,
     "metadata": {},
     "output_type": "execute_result"
    }
   ],
   "source": [
    "data_precio_1.isnull().sum()"
   ]
  },
  {
   "cell_type": "markdown",
   "metadata": {},
   "source": [
    "2 - Ajusto columna local price de acuerdo a TC"
   ]
  },
  {
   "cell_type": "code",
   "execution_count": 352,
   "metadata": {},
   "outputs": [
    {
     "data": {
      "text/html": [
       "<div>\n",
       "<style scoped>\n",
       "    .dataframe tbody tr th:only-of-type {\n",
       "        vertical-align: middle;\n",
       "    }\n",
       "\n",
       "    .dataframe tbody tr th {\n",
       "        vertical-align: top;\n",
       "    }\n",
       "\n",
       "    .dataframe thead th {\n",
       "        text-align: right;\n",
       "    }\n",
       "</style>\n",
       "<table border=\"1\" class=\"dataframe\">\n",
       "  <thead>\n",
       "    <tr style=\"text-align: right;\">\n",
       "      <th></th>\n",
       "      <th>place_name</th>\n",
       "      <th>price</th>\n",
       "      <th>currency</th>\n",
       "      <th>price_aprox_local_currency</th>\n",
       "      <th>price_aprox_usd</th>\n",
       "      <th>surface_total_in_m2</th>\n",
       "      <th>surface_covered_in_m2</th>\n",
       "      <th>price_usd_per_m2</th>\n",
       "      <th>price_per_m2</th>\n",
       "      <th>property_type</th>\n",
       "      <th>price_aprox_local_currency_nuevo</th>\n",
       "    </tr>\n",
       "  </thead>\n",
       "  <tbody>\n",
       "    <tr>\n",
       "      <th>66</th>\n",
       "      <td>Boedo</td>\n",
       "      <td>72900.0</td>\n",
       "      <td>USD</td>\n",
       "      <td>1286284.05</td>\n",
       "      <td>72900.0</td>\n",
       "      <td>38.0</td>\n",
       "      <td>NaN</td>\n",
       "      <td>1918.421053</td>\n",
       "      <td>NaN</td>\n",
       "      <td>apartment</td>\n",
       "      <td>1286284.05</td>\n",
       "    </tr>\n",
       "    <tr>\n",
       "      <th>96</th>\n",
       "      <td>San Bernardo</td>\n",
       "      <td>54000.0</td>\n",
       "      <td>USD</td>\n",
       "      <td>952803.00</td>\n",
       "      <td>54000.0</td>\n",
       "      <td>75.0</td>\n",
       "      <td>30.0</td>\n",
       "      <td>720.000000</td>\n",
       "      <td>1800.000000</td>\n",
       "      <td>apartment</td>\n",
       "      <td>952803.00</td>\n",
       "    </tr>\n",
       "    <tr>\n",
       "      <th>98</th>\n",
       "      <td>Almagro</td>\n",
       "      <td>109900.0</td>\n",
       "      <td>USD</td>\n",
       "      <td>1939130.55</td>\n",
       "      <td>109900.0</td>\n",
       "      <td>50.0</td>\n",
       "      <td>40.0</td>\n",
       "      <td>2198.000000</td>\n",
       "      <td>2747.500000</td>\n",
       "      <td>apartment</td>\n",
       "      <td>1939130.55</td>\n",
       "    </tr>\n",
       "    <tr>\n",
       "      <th>125</th>\n",
       "      <td>Bs.As. G.B.A. Zona Sur</td>\n",
       "      <td>NaN</td>\n",
       "      <td>NaN</td>\n",
       "      <td>NaN</td>\n",
       "      <td>NaN</td>\n",
       "      <td>NaN</td>\n",
       "      <td>NaN</td>\n",
       "      <td>NaN</td>\n",
       "      <td>NaN</td>\n",
       "      <td>apartment</td>\n",
       "      <td>NaN</td>\n",
       "    </tr>\n",
       "    <tr>\n",
       "      <th>266</th>\n",
       "      <td>Palermo Hollywood</td>\n",
       "      <td>135000.0</td>\n",
       "      <td>USD</td>\n",
       "      <td>2382007.50</td>\n",
       "      <td>135000.0</td>\n",
       "      <td>47.0</td>\n",
       "      <td>41.0</td>\n",
       "      <td>2872.340426</td>\n",
       "      <td>3292.682927</td>\n",
       "      <td>apartment</td>\n",
       "      <td>2382007.50</td>\n",
       "    </tr>\n",
       "    <tr>\n",
       "      <th>...</th>\n",
       "      <td>...</td>\n",
       "      <td>...</td>\n",
       "      <td>...</td>\n",
       "      <td>...</td>\n",
       "      <td>...</td>\n",
       "      <td>...</td>\n",
       "      <td>...</td>\n",
       "      <td>...</td>\n",
       "      <td>...</td>\n",
       "      <td>...</td>\n",
       "      <td>...</td>\n",
       "    </tr>\n",
       "    <tr>\n",
       "      <th>121208</th>\n",
       "      <td>Escobar</td>\n",
       "      <td>NaN</td>\n",
       "      <td>NaN</td>\n",
       "      <td>NaN</td>\n",
       "      <td>NaN</td>\n",
       "      <td>NaN</td>\n",
       "      <td>178.0</td>\n",
       "      <td>NaN</td>\n",
       "      <td>NaN</td>\n",
       "      <td>house</td>\n",
       "      <td>NaN</td>\n",
       "    </tr>\n",
       "    <tr>\n",
       "      <th>121210</th>\n",
       "      <td>Martínez</td>\n",
       "      <td>NaN</td>\n",
       "      <td>NaN</td>\n",
       "      <td>NaN</td>\n",
       "      <td>NaN</td>\n",
       "      <td>NaN</td>\n",
       "      <td>120.0</td>\n",
       "      <td>NaN</td>\n",
       "      <td>NaN</td>\n",
       "      <td>house</td>\n",
       "      <td>NaN</td>\n",
       "    </tr>\n",
       "    <tr>\n",
       "      <th>121212</th>\n",
       "      <td>Acassuso</td>\n",
       "      <td>NaN</td>\n",
       "      <td>NaN</td>\n",
       "      <td>NaN</td>\n",
       "      <td>NaN</td>\n",
       "      <td>420.0</td>\n",
       "      <td>420.0</td>\n",
       "      <td>NaN</td>\n",
       "      <td>NaN</td>\n",
       "      <td>house</td>\n",
       "      <td>NaN</td>\n",
       "    </tr>\n",
       "    <tr>\n",
       "      <th>121213</th>\n",
       "      <td>Martínez</td>\n",
       "      <td>NaN</td>\n",
       "      <td>NaN</td>\n",
       "      <td>NaN</td>\n",
       "      <td>NaN</td>\n",
       "      <td>600.0</td>\n",
       "      <td>600.0</td>\n",
       "      <td>NaN</td>\n",
       "      <td>NaN</td>\n",
       "      <td>house</td>\n",
       "      <td>NaN</td>\n",
       "    </tr>\n",
       "    <tr>\n",
       "      <th>121216</th>\n",
       "      <td>Beccar</td>\n",
       "      <td>498000.0</td>\n",
       "      <td>USD</td>\n",
       "      <td>8786961.00</td>\n",
       "      <td>498000.0</td>\n",
       "      <td>360.0</td>\n",
       "      <td>360.0</td>\n",
       "      <td>1383.333333</td>\n",
       "      <td>1383.333333</td>\n",
       "      <td>house</td>\n",
       "      <td>8786961.00</td>\n",
       "    </tr>\n",
       "  </tbody>\n",
       "</table>\n",
       "<p>121220 rows × 11 columns</p>\n",
       "</div>"
      ],
      "text/plain": [
       "                    place_name     price currency  price_aprox_local_currency  \\\n",
       "66                       Boedo   72900.0      USD                  1286284.05   \n",
       "96                San Bernardo   54000.0      USD                   952803.00   \n",
       "98                     Almagro  109900.0      USD                  1939130.55   \n",
       "125     Bs.As. G.B.A. Zona Sur       NaN      NaN                         NaN   \n",
       "266          Palermo Hollywood  135000.0      USD                  2382007.50   \n",
       "...                        ...       ...      ...                         ...   \n",
       "121208                 Escobar       NaN      NaN                         NaN   \n",
       "121210                Martínez       NaN      NaN                         NaN   \n",
       "121212                Acassuso       NaN      NaN                         NaN   \n",
       "121213                Martínez       NaN      NaN                         NaN   \n",
       "121216                  Beccar  498000.0      USD                  8786961.00   \n",
       "\n",
       "        price_aprox_usd  surface_total_in_m2  surface_covered_in_m2  \\\n",
       "66              72900.0                 38.0                    NaN   \n",
       "96              54000.0                 75.0                   30.0   \n",
       "98             109900.0                 50.0                   40.0   \n",
       "125                 NaN                  NaN                    NaN   \n",
       "266            135000.0                 47.0                   41.0   \n",
       "...                 ...                  ...                    ...   \n",
       "121208              NaN                  NaN                  178.0   \n",
       "121210              NaN                  NaN                  120.0   \n",
       "121212              NaN                420.0                  420.0   \n",
       "121213              NaN                600.0                  600.0   \n",
       "121216         498000.0                360.0                  360.0   \n",
       "\n",
       "        price_usd_per_m2  price_per_m2 property_type  \\\n",
       "66           1918.421053           NaN     apartment   \n",
       "96            720.000000   1800.000000     apartment   \n",
       "98           2198.000000   2747.500000     apartment   \n",
       "125                  NaN           NaN     apartment   \n",
       "266          2872.340426   3292.682927     apartment   \n",
       "...                  ...           ...           ...   \n",
       "121208               NaN           NaN         house   \n",
       "121210               NaN           NaN         house   \n",
       "121212               NaN           NaN         house   \n",
       "121213               NaN           NaN         house   \n",
       "121216       1383.333333   1383.333333         house   \n",
       "\n",
       "        price_aprox_local_currency_nuevo  \n",
       "66                            1286284.05  \n",
       "96                             952803.00  \n",
       "98                            1939130.55  \n",
       "125                                  NaN  \n",
       "266                           2382007.50  \n",
       "...                                  ...  \n",
       "121208                               NaN  \n",
       "121210                               NaN  \n",
       "121212                               NaN  \n",
       "121213                               NaN  \n",
       "121216                        8786961.00  \n",
       "\n",
       "[121220 rows x 11 columns]"
      ]
     },
     "execution_count": 352,
     "metadata": {},
     "output_type": "execute_result"
    }
   ],
   "source": [
    "data_precio_1[\"price_aprox_local_currency_nuevo\"] = data_precio_1[\"price_aprox_local_currency\"] = data_precio_1[\"price\"]*tc\n",
    "data_precio_1.replace(\"price_aprox_local_currency\",\"price_aprox_local_currency_nuevo\" )"
   ]
  },
  {
   "cell_type": "code",
   "execution_count": 353,
   "metadata": {},
   "outputs": [
    {
     "data": {
      "text/html": [
       "<div>\n",
       "<style scoped>\n",
       "    .dataframe tbody tr th:only-of-type {\n",
       "        vertical-align: middle;\n",
       "    }\n",
       "\n",
       "    .dataframe tbody tr th {\n",
       "        vertical-align: top;\n",
       "    }\n",
       "\n",
       "    .dataframe thead th {\n",
       "        text-align: right;\n",
       "    }\n",
       "</style>\n",
       "<table border=\"1\" class=\"dataframe\">\n",
       "  <thead>\n",
       "    <tr style=\"text-align: right;\">\n",
       "      <th></th>\n",
       "      <th>place_name</th>\n",
       "      <th>price</th>\n",
       "      <th>currency</th>\n",
       "      <th>price_aprox_local_currency</th>\n",
       "      <th>price_aprox_usd</th>\n",
       "      <th>surface_total_in_m2</th>\n",
       "      <th>surface_covered_in_m2</th>\n",
       "      <th>price_usd_per_m2</th>\n",
       "      <th>price_per_m2</th>\n",
       "      <th>property_type</th>\n",
       "    </tr>\n",
       "  </thead>\n",
       "  <tbody>\n",
       "    <tr>\n",
       "      <th>66</th>\n",
       "      <td>Boedo</td>\n",
       "      <td>72900.0</td>\n",
       "      <td>USD</td>\n",
       "      <td>1286284.05</td>\n",
       "      <td>72900.0</td>\n",
       "      <td>38.0</td>\n",
       "      <td>NaN</td>\n",
       "      <td>1918.421053</td>\n",
       "      <td>NaN</td>\n",
       "      <td>apartment</td>\n",
       "    </tr>\n",
       "    <tr>\n",
       "      <th>96</th>\n",
       "      <td>San Bernardo</td>\n",
       "      <td>54000.0</td>\n",
       "      <td>USD</td>\n",
       "      <td>952803.00</td>\n",
       "      <td>54000.0</td>\n",
       "      <td>75.0</td>\n",
       "      <td>30.0</td>\n",
       "      <td>720.000000</td>\n",
       "      <td>1800.000000</td>\n",
       "      <td>apartment</td>\n",
       "    </tr>\n",
       "    <tr>\n",
       "      <th>98</th>\n",
       "      <td>Almagro</td>\n",
       "      <td>109900.0</td>\n",
       "      <td>USD</td>\n",
       "      <td>1939130.55</td>\n",
       "      <td>109900.0</td>\n",
       "      <td>50.0</td>\n",
       "      <td>40.0</td>\n",
       "      <td>2198.000000</td>\n",
       "      <td>2747.500000</td>\n",
       "      <td>apartment</td>\n",
       "    </tr>\n",
       "    <tr>\n",
       "      <th>125</th>\n",
       "      <td>Bs.As. G.B.A. Zona Sur</td>\n",
       "      <td>NaN</td>\n",
       "      <td>NaN</td>\n",
       "      <td>NaN</td>\n",
       "      <td>NaN</td>\n",
       "      <td>NaN</td>\n",
       "      <td>NaN</td>\n",
       "      <td>NaN</td>\n",
       "      <td>NaN</td>\n",
       "      <td>apartment</td>\n",
       "    </tr>\n",
       "    <tr>\n",
       "      <th>266</th>\n",
       "      <td>Palermo Hollywood</td>\n",
       "      <td>135000.0</td>\n",
       "      <td>USD</td>\n",
       "      <td>2382007.50</td>\n",
       "      <td>135000.0</td>\n",
       "      <td>47.0</td>\n",
       "      <td>41.0</td>\n",
       "      <td>2872.340426</td>\n",
       "      <td>3292.682927</td>\n",
       "      <td>apartment</td>\n",
       "    </tr>\n",
       "    <tr>\n",
       "      <th>...</th>\n",
       "      <td>...</td>\n",
       "      <td>...</td>\n",
       "      <td>...</td>\n",
       "      <td>...</td>\n",
       "      <td>...</td>\n",
       "      <td>...</td>\n",
       "      <td>...</td>\n",
       "      <td>...</td>\n",
       "      <td>...</td>\n",
       "      <td>...</td>\n",
       "    </tr>\n",
       "    <tr>\n",
       "      <th>121208</th>\n",
       "      <td>Escobar</td>\n",
       "      <td>NaN</td>\n",
       "      <td>NaN</td>\n",
       "      <td>NaN</td>\n",
       "      <td>NaN</td>\n",
       "      <td>NaN</td>\n",
       "      <td>178.0</td>\n",
       "      <td>NaN</td>\n",
       "      <td>NaN</td>\n",
       "      <td>house</td>\n",
       "    </tr>\n",
       "    <tr>\n",
       "      <th>121210</th>\n",
       "      <td>Martínez</td>\n",
       "      <td>NaN</td>\n",
       "      <td>NaN</td>\n",
       "      <td>NaN</td>\n",
       "      <td>NaN</td>\n",
       "      <td>NaN</td>\n",
       "      <td>120.0</td>\n",
       "      <td>NaN</td>\n",
       "      <td>NaN</td>\n",
       "      <td>house</td>\n",
       "    </tr>\n",
       "    <tr>\n",
       "      <th>121212</th>\n",
       "      <td>Acassuso</td>\n",
       "      <td>NaN</td>\n",
       "      <td>NaN</td>\n",
       "      <td>NaN</td>\n",
       "      <td>NaN</td>\n",
       "      <td>420.0</td>\n",
       "      <td>420.0</td>\n",
       "      <td>NaN</td>\n",
       "      <td>NaN</td>\n",
       "      <td>house</td>\n",
       "    </tr>\n",
       "    <tr>\n",
       "      <th>121213</th>\n",
       "      <td>Martínez</td>\n",
       "      <td>NaN</td>\n",
       "      <td>NaN</td>\n",
       "      <td>NaN</td>\n",
       "      <td>NaN</td>\n",
       "      <td>600.0</td>\n",
       "      <td>600.0</td>\n",
       "      <td>NaN</td>\n",
       "      <td>NaN</td>\n",
       "      <td>house</td>\n",
       "    </tr>\n",
       "    <tr>\n",
       "      <th>121216</th>\n",
       "      <td>Beccar</td>\n",
       "      <td>498000.0</td>\n",
       "      <td>USD</td>\n",
       "      <td>8786961.00</td>\n",
       "      <td>498000.0</td>\n",
       "      <td>360.0</td>\n",
       "      <td>360.0</td>\n",
       "      <td>1383.333333</td>\n",
       "      <td>1383.333333</td>\n",
       "      <td>house</td>\n",
       "    </tr>\n",
       "  </tbody>\n",
       "</table>\n",
       "<p>121220 rows × 10 columns</p>\n",
       "</div>"
      ],
      "text/plain": [
       "                    place_name     price currency  price_aprox_local_currency  \\\n",
       "66                       Boedo   72900.0      USD                  1286284.05   \n",
       "96                San Bernardo   54000.0      USD                   952803.00   \n",
       "98                     Almagro  109900.0      USD                  1939130.55   \n",
       "125     Bs.As. G.B.A. Zona Sur       NaN      NaN                         NaN   \n",
       "266          Palermo Hollywood  135000.0      USD                  2382007.50   \n",
       "...                        ...       ...      ...                         ...   \n",
       "121208                 Escobar       NaN      NaN                         NaN   \n",
       "121210                Martínez       NaN      NaN                         NaN   \n",
       "121212                Acassuso       NaN      NaN                         NaN   \n",
       "121213                Martínez       NaN      NaN                         NaN   \n",
       "121216                  Beccar  498000.0      USD                  8786961.00   \n",
       "\n",
       "        price_aprox_usd  surface_total_in_m2  surface_covered_in_m2  \\\n",
       "66              72900.0                 38.0                    NaN   \n",
       "96              54000.0                 75.0                   30.0   \n",
       "98             109900.0                 50.0                   40.0   \n",
       "125                 NaN                  NaN                    NaN   \n",
       "266            135000.0                 47.0                   41.0   \n",
       "...                 ...                  ...                    ...   \n",
       "121208              NaN                  NaN                  178.0   \n",
       "121210              NaN                  NaN                  120.0   \n",
       "121212              NaN                420.0                  420.0   \n",
       "121213              NaN                600.0                  600.0   \n",
       "121216         498000.0                360.0                  360.0   \n",
       "\n",
       "        price_usd_per_m2  price_per_m2 property_type  \n",
       "66           1918.421053           NaN     apartment  \n",
       "96            720.000000   1800.000000     apartment  \n",
       "98           2198.000000   2747.500000     apartment  \n",
       "125                  NaN           NaN     apartment  \n",
       "266          2872.340426   3292.682927     apartment  \n",
       "...                  ...           ...           ...  \n",
       "121208               NaN           NaN         house  \n",
       "121210               NaN           NaN         house  \n",
       "121212               NaN           NaN         house  \n",
       "121213               NaN           NaN         house  \n",
       "121216       1383.333333   1383.333333         house  \n",
       "\n",
       "[121220 rows x 10 columns]"
      ]
     },
     "execution_count": 353,
     "metadata": {},
     "output_type": "execute_result"
    }
   ],
   "source": [
    "data_precio_1.drop(labels=\"price_aprox_local_currency_nuevo\", axis=1)"
   ]
  },
  {
   "cell_type": "code",
   "execution_count": 354,
   "metadata": {},
   "outputs": [
    {
     "data": {
      "text/plain": [
       "66         38.0\n",
       "96         75.0\n",
       "98         50.0\n",
       "125         NaN\n",
       "266        47.0\n",
       "          ...  \n",
       "121208      NaN\n",
       "121210      NaN\n",
       "121212    420.0\n",
       "121213    600.0\n",
       "121216    360.0\n",
       "Name: surface_total_in_m2, Length: 121220, dtype: float64"
      ]
     },
     "execution_count": 354,
     "metadata": {},
     "output_type": "execute_result"
    }
   ],
   "source": [
    "data_precio_1[\"surface_total_in_m2\"].replace(\"Nan\",data_precio_1[\"surface_covered_in_m2\"] )"
   ]
  },
  {
   "cell_type": "code",
   "execution_count": 355,
   "metadata": {},
   "outputs": [
    {
     "data": {
      "text/html": [
       "<div>\n",
       "<style scoped>\n",
       "    .dataframe tbody tr th:only-of-type {\n",
       "        vertical-align: middle;\n",
       "    }\n",
       "\n",
       "    .dataframe tbody tr th {\n",
       "        vertical-align: top;\n",
       "    }\n",
       "\n",
       "    .dataframe thead th {\n",
       "        text-align: right;\n",
       "    }\n",
       "</style>\n",
       "<table border=\"1\" class=\"dataframe\">\n",
       "  <thead>\n",
       "    <tr style=\"text-align: right;\">\n",
       "      <th></th>\n",
       "      <th>place_name</th>\n",
       "      <th>price</th>\n",
       "      <th>currency</th>\n",
       "      <th>price_aprox_local_currency</th>\n",
       "      <th>price_aprox_usd</th>\n",
       "      <th>surface_total_in_m2</th>\n",
       "      <th>surface_covered_in_m2</th>\n",
       "      <th>price_usd_per_m2</th>\n",
       "      <th>price_per_m2</th>\n",
       "      <th>property_type</th>\n",
       "      <th>price_aprox_local_currency_nuevo</th>\n",
       "    </tr>\n",
       "  </thead>\n",
       "  <tbody>\n",
       "    <tr>\n",
       "      <th>66</th>\n",
       "      <td>Boedo</td>\n",
       "      <td>72900.0</td>\n",
       "      <td>USD</td>\n",
       "      <td>1286284.05</td>\n",
       "      <td>72900.0</td>\n",
       "      <td>38.0</td>\n",
       "      <td>NaN</td>\n",
       "      <td>1918.421053</td>\n",
       "      <td>33849.580263</td>\n",
       "      <td>apartment</td>\n",
       "      <td>1286284.05</td>\n",
       "    </tr>\n",
       "    <tr>\n",
       "      <th>96</th>\n",
       "      <td>San Bernardo</td>\n",
       "      <td>54000.0</td>\n",
       "      <td>USD</td>\n",
       "      <td>952803.00</td>\n",
       "      <td>54000.0</td>\n",
       "      <td>75.0</td>\n",
       "      <td>30.0</td>\n",
       "      <td>720.000000</td>\n",
       "      <td>12704.040000</td>\n",
       "      <td>apartment</td>\n",
       "      <td>952803.00</td>\n",
       "    </tr>\n",
       "    <tr>\n",
       "      <th>98</th>\n",
       "      <td>Almagro</td>\n",
       "      <td>109900.0</td>\n",
       "      <td>USD</td>\n",
       "      <td>1939130.55</td>\n",
       "      <td>109900.0</td>\n",
       "      <td>50.0</td>\n",
       "      <td>40.0</td>\n",
       "      <td>2198.000000</td>\n",
       "      <td>38782.611000</td>\n",
       "      <td>apartment</td>\n",
       "      <td>1939130.55</td>\n",
       "    </tr>\n",
       "    <tr>\n",
       "      <th>125</th>\n",
       "      <td>Bs.As. G.B.A. Zona Sur</td>\n",
       "      <td>NaN</td>\n",
       "      <td>NaN</td>\n",
       "      <td>NaN</td>\n",
       "      <td>NaN</td>\n",
       "      <td>NaN</td>\n",
       "      <td>NaN</td>\n",
       "      <td>NaN</td>\n",
       "      <td>NaN</td>\n",
       "      <td>apartment</td>\n",
       "      <td>NaN</td>\n",
       "    </tr>\n",
       "    <tr>\n",
       "      <th>266</th>\n",
       "      <td>Palermo Hollywood</td>\n",
       "      <td>135000.0</td>\n",
       "      <td>USD</td>\n",
       "      <td>2382007.50</td>\n",
       "      <td>135000.0</td>\n",
       "      <td>47.0</td>\n",
       "      <td>41.0</td>\n",
       "      <td>2872.340426</td>\n",
       "      <td>50681.010638</td>\n",
       "      <td>apartment</td>\n",
       "      <td>2382007.50</td>\n",
       "    </tr>\n",
       "    <tr>\n",
       "      <th>...</th>\n",
       "      <td>...</td>\n",
       "      <td>...</td>\n",
       "      <td>...</td>\n",
       "      <td>...</td>\n",
       "      <td>...</td>\n",
       "      <td>...</td>\n",
       "      <td>...</td>\n",
       "      <td>...</td>\n",
       "      <td>...</td>\n",
       "      <td>...</td>\n",
       "      <td>...</td>\n",
       "    </tr>\n",
       "    <tr>\n",
       "      <th>121208</th>\n",
       "      <td>Escobar</td>\n",
       "      <td>NaN</td>\n",
       "      <td>NaN</td>\n",
       "      <td>NaN</td>\n",
       "      <td>NaN</td>\n",
       "      <td>NaN</td>\n",
       "      <td>178.0</td>\n",
       "      <td>NaN</td>\n",
       "      <td>NaN</td>\n",
       "      <td>house</td>\n",
       "      <td>NaN</td>\n",
       "    </tr>\n",
       "    <tr>\n",
       "      <th>121210</th>\n",
       "      <td>Martínez</td>\n",
       "      <td>NaN</td>\n",
       "      <td>NaN</td>\n",
       "      <td>NaN</td>\n",
       "      <td>NaN</td>\n",
       "      <td>NaN</td>\n",
       "      <td>120.0</td>\n",
       "      <td>NaN</td>\n",
       "      <td>NaN</td>\n",
       "      <td>house</td>\n",
       "      <td>NaN</td>\n",
       "    </tr>\n",
       "    <tr>\n",
       "      <th>121212</th>\n",
       "      <td>Acassuso</td>\n",
       "      <td>NaN</td>\n",
       "      <td>NaN</td>\n",
       "      <td>NaN</td>\n",
       "      <td>NaN</td>\n",
       "      <td>420.0</td>\n",
       "      <td>420.0</td>\n",
       "      <td>NaN</td>\n",
       "      <td>NaN</td>\n",
       "      <td>house</td>\n",
       "      <td>NaN</td>\n",
       "    </tr>\n",
       "    <tr>\n",
       "      <th>121213</th>\n",
       "      <td>Martínez</td>\n",
       "      <td>NaN</td>\n",
       "      <td>NaN</td>\n",
       "      <td>NaN</td>\n",
       "      <td>NaN</td>\n",
       "      <td>600.0</td>\n",
       "      <td>600.0</td>\n",
       "      <td>NaN</td>\n",
       "      <td>NaN</td>\n",
       "      <td>house</td>\n",
       "      <td>NaN</td>\n",
       "    </tr>\n",
       "    <tr>\n",
       "      <th>121216</th>\n",
       "      <td>Beccar</td>\n",
       "      <td>498000.0</td>\n",
       "      <td>USD</td>\n",
       "      <td>8786961.00</td>\n",
       "      <td>498000.0</td>\n",
       "      <td>360.0</td>\n",
       "      <td>360.0</td>\n",
       "      <td>1383.333333</td>\n",
       "      <td>24408.225000</td>\n",
       "      <td>house</td>\n",
       "      <td>8786961.00</td>\n",
       "    </tr>\n",
       "  </tbody>\n",
       "</table>\n",
       "<p>121220 rows × 11 columns</p>\n",
       "</div>"
      ],
      "text/plain": [
       "                    place_name     price currency  price_aprox_local_currency  \\\n",
       "66                       Boedo   72900.0      USD                  1286284.05   \n",
       "96                San Bernardo   54000.0      USD                   952803.00   \n",
       "98                     Almagro  109900.0      USD                  1939130.55   \n",
       "125     Bs.As. G.B.A. Zona Sur       NaN      NaN                         NaN   \n",
       "266          Palermo Hollywood  135000.0      USD                  2382007.50   \n",
       "...                        ...       ...      ...                         ...   \n",
       "121208                 Escobar       NaN      NaN                         NaN   \n",
       "121210                Martínez       NaN      NaN                         NaN   \n",
       "121212                Acassuso       NaN      NaN                         NaN   \n",
       "121213                Martínez       NaN      NaN                         NaN   \n",
       "121216                  Beccar  498000.0      USD                  8786961.00   \n",
       "\n",
       "        price_aprox_usd  surface_total_in_m2  surface_covered_in_m2  \\\n",
       "66              72900.0                 38.0                    NaN   \n",
       "96              54000.0                 75.0                   30.0   \n",
       "98             109900.0                 50.0                   40.0   \n",
       "125                 NaN                  NaN                    NaN   \n",
       "266            135000.0                 47.0                   41.0   \n",
       "...                 ...                  ...                    ...   \n",
       "121208              NaN                  NaN                  178.0   \n",
       "121210              NaN                  NaN                  120.0   \n",
       "121212              NaN                420.0                  420.0   \n",
       "121213              NaN                600.0                  600.0   \n",
       "121216         498000.0                360.0                  360.0   \n",
       "\n",
       "        price_usd_per_m2  price_per_m2 property_type  \\\n",
       "66           1918.421053  33849.580263     apartment   \n",
       "96            720.000000  12704.040000     apartment   \n",
       "98           2198.000000  38782.611000     apartment   \n",
       "125                  NaN           NaN     apartment   \n",
       "266          2872.340426  50681.010638     apartment   \n",
       "...                  ...           ...           ...   \n",
       "121208               NaN           NaN         house   \n",
       "121210               NaN           NaN         house   \n",
       "121212               NaN           NaN         house   \n",
       "121213               NaN           NaN         house   \n",
       "121216       1383.333333  24408.225000         house   \n",
       "\n",
       "        price_aprox_local_currency_nuevo  \n",
       "66                            1286284.05  \n",
       "96                             952803.00  \n",
       "98                            1939130.55  \n",
       "125                                  NaN  \n",
       "266                           2382007.50  \n",
       "...                                  ...  \n",
       "121208                               NaN  \n",
       "121210                               NaN  \n",
       "121212                               NaN  \n",
       "121213                               NaN  \n",
       "121216                        8786961.00  \n",
       "\n",
       "[121220 rows x 11 columns]"
      ]
     },
     "execution_count": 355,
     "metadata": {},
     "output_type": "execute_result"
    }
   ],
   "source": [
    "data_precio_1[\"price_usd_per_m2\"] = data_precio_1[\"price\"]/data_precio_1[\"surface_total_in_m2\"]\n",
    "data_precio_1[\"price_per_m2\"] = data_precio_1[\"price_aprox_local_currency\"]/data_precio_1[\"surface_total_in_m2\"]\n",
    "data_precio_1"
   ]
  },
  {
   "cell_type": "code",
   "execution_count": 356,
   "metadata": {},
   "outputs": [
    {
     "data": {
      "text/plain": [
       "place_name                             23\n",
       "price                               20410\n",
       "currency                            20411\n",
       "price_aprox_local_currency          20411\n",
       "price_aprox_usd                     20410\n",
       "surface_total_in_m2                 39328\n",
       "surface_covered_in_m2               19907\n",
       "price_usd_per_m2                    52354\n",
       "price_per_m2                        52354\n",
       "property_type                           0\n",
       "price_aprox_local_currency_nuevo    20411\n",
       "dtype: int64"
      ]
     },
     "execution_count": 356,
     "metadata": {},
     "output_type": "execute_result"
    }
   ],
   "source": [
    "data_precio_1.isnull().sum()"
   ]
  },
  {
   "cell_type": "code",
   "execution_count": 357,
   "metadata": {},
   "outputs": [
    {
     "data": {
      "text/html": [
       "<div>\n",
       "<style scoped>\n",
       "    .dataframe tbody tr th:only-of-type {\n",
       "        vertical-align: middle;\n",
       "    }\n",
       "\n",
       "    .dataframe tbody tr th {\n",
       "        vertical-align: top;\n",
       "    }\n",
       "\n",
       "    .dataframe thead th {\n",
       "        text-align: right;\n",
       "    }\n",
       "</style>\n",
       "<table border=\"1\" class=\"dataframe\">\n",
       "  <thead>\n",
       "    <tr style=\"text-align: right;\">\n",
       "      <th></th>\n",
       "      <th>place_name</th>\n",
       "      <th>price</th>\n",
       "      <th>currency</th>\n",
       "      <th>price_aprox_local_currency</th>\n",
       "      <th>price_aprox_usd</th>\n",
       "      <th>surface_total_in_m2</th>\n",
       "      <th>surface_covered_in_m2</th>\n",
       "      <th>price_usd_per_m2</th>\n",
       "      <th>price_per_m2</th>\n",
       "      <th>property_type</th>\n",
       "      <th>price_aprox_local_currency_nuevo</th>\n",
       "    </tr>\n",
       "  </thead>\n",
       "  <tbody>\n",
       "    <tr>\n",
       "      <th>66</th>\n",
       "      <td>Boedo</td>\n",
       "      <td>72900.0</td>\n",
       "      <td>USD</td>\n",
       "      <td>1286284.05</td>\n",
       "      <td>72900.0</td>\n",
       "      <td>38.0</td>\n",
       "      <td>NaN</td>\n",
       "      <td>1918.421053</td>\n",
       "      <td>33849.580263</td>\n",
       "      <td>apartment</td>\n",
       "      <td>1286284.05</td>\n",
       "    </tr>\n",
       "    <tr>\n",
       "      <th>96</th>\n",
       "      <td>San Bernardo</td>\n",
       "      <td>54000.0</td>\n",
       "      <td>USD</td>\n",
       "      <td>952803.00</td>\n",
       "      <td>54000.0</td>\n",
       "      <td>75.0</td>\n",
       "      <td>30.0</td>\n",
       "      <td>720.000000</td>\n",
       "      <td>12704.040000</td>\n",
       "      <td>apartment</td>\n",
       "      <td>952803.00</td>\n",
       "    </tr>\n",
       "    <tr>\n",
       "      <th>98</th>\n",
       "      <td>Almagro</td>\n",
       "      <td>109900.0</td>\n",
       "      <td>USD</td>\n",
       "      <td>1939130.55</td>\n",
       "      <td>109900.0</td>\n",
       "      <td>50.0</td>\n",
       "      <td>40.0</td>\n",
       "      <td>2198.000000</td>\n",
       "      <td>38782.611000</td>\n",
       "      <td>apartment</td>\n",
       "      <td>1939130.55</td>\n",
       "    </tr>\n",
       "    <tr>\n",
       "      <th>266</th>\n",
       "      <td>Palermo Hollywood</td>\n",
       "      <td>135000.0</td>\n",
       "      <td>USD</td>\n",
       "      <td>2382007.50</td>\n",
       "      <td>135000.0</td>\n",
       "      <td>47.0</td>\n",
       "      <td>41.0</td>\n",
       "      <td>2872.340426</td>\n",
       "      <td>50681.010638</td>\n",
       "      <td>apartment</td>\n",
       "      <td>2382007.50</td>\n",
       "    </tr>\n",
       "    <tr>\n",
       "      <th>272</th>\n",
       "      <td>Castelar</td>\n",
       "      <td>143000.0</td>\n",
       "      <td>USD</td>\n",
       "      <td>2523163.50</td>\n",
       "      <td>143000.0</td>\n",
       "      <td>66.0</td>\n",
       "      <td>62.0</td>\n",
       "      <td>2166.666667</td>\n",
       "      <td>38229.750000</td>\n",
       "      <td>apartment</td>\n",
       "      <td>2523163.50</td>\n",
       "    </tr>\n",
       "    <tr>\n",
       "      <th>...</th>\n",
       "      <td>...</td>\n",
       "      <td>...</td>\n",
       "      <td>...</td>\n",
       "      <td>...</td>\n",
       "      <td>...</td>\n",
       "      <td>...</td>\n",
       "      <td>...</td>\n",
       "      <td>...</td>\n",
       "      <td>...</td>\n",
       "      <td>...</td>\n",
       "      <td>...</td>\n",
       "    </tr>\n",
       "    <tr>\n",
       "      <th>121149</th>\n",
       "      <td>Caballito</td>\n",
       "      <td>485000.0</td>\n",
       "      <td>USD</td>\n",
       "      <td>8557582.50</td>\n",
       "      <td>485000.0</td>\n",
       "      <td>NaN</td>\n",
       "      <td>195.0</td>\n",
       "      <td>NaN</td>\n",
       "      <td>NaN</td>\n",
       "      <td>house</td>\n",
       "      <td>8557582.50</td>\n",
       "    </tr>\n",
       "    <tr>\n",
       "      <th>121154</th>\n",
       "      <td>La Plata</td>\n",
       "      <td>295000.0</td>\n",
       "      <td>USD</td>\n",
       "      <td>5205127.50</td>\n",
       "      <td>295000.0</td>\n",
       "      <td>205.0</td>\n",
       "      <td>205.0</td>\n",
       "      <td>1439.024390</td>\n",
       "      <td>25390.865854</td>\n",
       "      <td>house</td>\n",
       "      <td>5205127.50</td>\n",
       "    </tr>\n",
       "    <tr>\n",
       "      <th>121155</th>\n",
       "      <td>Pilar</td>\n",
       "      <td>170000.0</td>\n",
       "      <td>USD</td>\n",
       "      <td>2999565.00</td>\n",
       "      <td>170000.0</td>\n",
       "      <td>NaN</td>\n",
       "      <td>130.0</td>\n",
       "      <td>NaN</td>\n",
       "      <td>NaN</td>\n",
       "      <td>house</td>\n",
       "      <td>2999565.00</td>\n",
       "    </tr>\n",
       "    <tr>\n",
       "      <th>121156</th>\n",
       "      <td>Pilar</td>\n",
       "      <td>170000.0</td>\n",
       "      <td>USD</td>\n",
       "      <td>2999565.00</td>\n",
       "      <td>170000.0</td>\n",
       "      <td>NaN</td>\n",
       "      <td>130.0</td>\n",
       "      <td>NaN</td>\n",
       "      <td>NaN</td>\n",
       "      <td>house</td>\n",
       "      <td>2999565.00</td>\n",
       "    </tr>\n",
       "    <tr>\n",
       "      <th>121216</th>\n",
       "      <td>Beccar</td>\n",
       "      <td>498000.0</td>\n",
       "      <td>USD</td>\n",
       "      <td>8786961.00</td>\n",
       "      <td>498000.0</td>\n",
       "      <td>360.0</td>\n",
       "      <td>360.0</td>\n",
       "      <td>1383.333333</td>\n",
       "      <td>24408.225000</td>\n",
       "      <td>house</td>\n",
       "      <td>8786961.00</td>\n",
       "    </tr>\n",
       "  </tbody>\n",
       "</table>\n",
       "<p>100810 rows × 11 columns</p>\n",
       "</div>"
      ],
      "text/plain": [
       "               place_name     price currency  price_aprox_local_currency  \\\n",
       "66                  Boedo   72900.0      USD                  1286284.05   \n",
       "96           San Bernardo   54000.0      USD                   952803.00   \n",
       "98                Almagro  109900.0      USD                  1939130.55   \n",
       "266     Palermo Hollywood  135000.0      USD                  2382007.50   \n",
       "272              Castelar  143000.0      USD                  2523163.50   \n",
       "...                   ...       ...      ...                         ...   \n",
       "121149          Caballito  485000.0      USD                  8557582.50   \n",
       "121154           La Plata  295000.0      USD                  5205127.50   \n",
       "121155              Pilar  170000.0      USD                  2999565.00   \n",
       "121156              Pilar  170000.0      USD                  2999565.00   \n",
       "121216             Beccar  498000.0      USD                  8786961.00   \n",
       "\n",
       "        price_aprox_usd  surface_total_in_m2  surface_covered_in_m2  \\\n",
       "66              72900.0                 38.0                    NaN   \n",
       "96              54000.0                 75.0                   30.0   \n",
       "98             109900.0                 50.0                   40.0   \n",
       "266            135000.0                 47.0                   41.0   \n",
       "272            143000.0                 66.0                   62.0   \n",
       "...                 ...                  ...                    ...   \n",
       "121149         485000.0                  NaN                  195.0   \n",
       "121154         295000.0                205.0                  205.0   \n",
       "121155         170000.0                  NaN                  130.0   \n",
       "121156         170000.0                  NaN                  130.0   \n",
       "121216         498000.0                360.0                  360.0   \n",
       "\n",
       "        price_usd_per_m2  price_per_m2 property_type  \\\n",
       "66           1918.421053  33849.580263     apartment   \n",
       "96            720.000000  12704.040000     apartment   \n",
       "98           2198.000000  38782.611000     apartment   \n",
       "266          2872.340426  50681.010638     apartment   \n",
       "272          2166.666667  38229.750000     apartment   \n",
       "...                  ...           ...           ...   \n",
       "121149               NaN           NaN         house   \n",
       "121154       1439.024390  25390.865854         house   \n",
       "121155               NaN           NaN         house   \n",
       "121156               NaN           NaN         house   \n",
       "121216       1383.333333  24408.225000         house   \n",
       "\n",
       "        price_aprox_local_currency_nuevo  \n",
       "66                            1286284.05  \n",
       "96                             952803.00  \n",
       "98                            1939130.55  \n",
       "266                           2382007.50  \n",
       "272                           2523163.50  \n",
       "...                                  ...  \n",
       "121149                        8557582.50  \n",
       "121154                        5205127.50  \n",
       "121155                        2999565.00  \n",
       "121156                        2999565.00  \n",
       "121216                        8786961.00  \n",
       "\n",
       "[100810 rows x 11 columns]"
      ]
     },
     "execution_count": 357,
     "metadata": {},
     "output_type": "execute_result"
    }
   ],
   "source": [
    "mask=data_precio_1[\"price\"].notnull()\n",
    "con_precios = data_precio_1.loc[mask, :]\n",
    "con_precios"
   ]
  },
  {
   "cell_type": "code",
   "execution_count": 358,
   "metadata": {},
   "outputs": [],
   "source": [
    "data[['price_nuevo', 'currency_nuevo', 'price_aprox_local_currency_nuevo', 'price_aprox_usd_nuevo', 'surface_total_in_m2_nuevo',\\\n",
    "      'surface_covered_in_m2_nuevo', 'price_usd_per_m2_nuevo', 'price_per_m2_nuevo']] = data_precio_1.loc[:,'price':'price_per_m2']"
   ]
  },
  {
   "cell_type": "code",
   "execution_count": 359,
   "metadata": {},
   "outputs": [
    {
     "data": {
      "text/plain": [
       "Index(['Unnamed: 0', 'operation', 'property_type', 'place_name',\n",
       "       'place_with_parent_names', 'country_name', 'state_name', 'geonames_id',\n",
       "       'lat-lon', 'lat', 'lon', 'price', 'currency',\n",
       "       'price_aprox_local_currency', 'price_aprox_usd', 'surface_total_in_m2',\n",
       "       'surface_covered_in_m2', 'price_usd_per_m2', 'price_per_m2', 'floor',\n",
       "       'rooms', 'expenses', 'properati_url', 'description', 'title',\n",
       "       'image_thumbnail', 'rooms_completo', 'PILETA', 'PARRILLA',\n",
       "       'PATIO_JARDIN', 'expenses_bool', 'expenses_nuevo', 'geonames_id_nuevo',\n",
       "       'lat-lon_nuevo', 'lat_nuevo', 'lon_nuevo', 'floor_copia',\n",
       "       'property_type_copia', 'description_copia', 'title_copia', 'ant',\n",
       "       'price_nuevo', 'currency_nuevo', 'price_aprox_local_currency_nuevo',\n",
       "       'price_aprox_usd_nuevo', 'surface_total_in_m2_nuevo',\n",
       "       'surface_covered_in_m2_nuevo', 'price_usd_per_m2_nuevo',\n",
       "       'price_per_m2_nuevo'],\n",
       "      dtype='object')"
      ]
     },
     "execution_count": 359,
     "metadata": {},
     "output_type": "execute_result"
    }
   ],
   "source": [
    "data.columns"
   ]
  },
  {
   "cell_type": "markdown",
   "metadata": {},
   "source": [
    "## Limpieza de Places"
   ]
  },
  {
   "cell_type": "code",
   "execution_count": 360,
   "metadata": {},
   "outputs": [],
   "source": [
    "estructura_places = pd.DataFrame(data.place_with_parent_names.str.split('|', 6).tolist(),\n",
    "                                   columns = ['1', 'pais','provincia','localidad','zona','barrio','lugar'])"
   ]
  },
  {
   "cell_type": "markdown",
   "metadata": {},
   "source": [
    "#### Tomamos los datos \"None\" y los transformamos en vacíos"
   ]
  },
  {
   "cell_type": "code",
   "execution_count": 361,
   "metadata": {},
   "outputs": [],
   "source": [
    "estructura_places.fillna(value=\"\", inplace=True)"
   ]
  },
  {
   "cell_type": "markdown",
   "metadata": {},
   "source": [
    "#### Tomamos los datos vacíos y copiamos la información del \"padre\" directo"
   ]
  },
  {
   "cell_type": "code",
   "execution_count": 362,
   "metadata": {},
   "outputs": [
    {
     "data": {
      "text/html": [
       "<div>\n",
       "<style scoped>\n",
       "    .dataframe tbody tr th:only-of-type {\n",
       "        vertical-align: middle;\n",
       "    }\n",
       "\n",
       "    .dataframe tbody tr th {\n",
       "        vertical-align: top;\n",
       "    }\n",
       "\n",
       "    .dataframe thead th {\n",
       "        text-align: right;\n",
       "    }\n",
       "</style>\n",
       "<table border=\"1\" class=\"dataframe\">\n",
       "  <thead>\n",
       "    <tr style=\"text-align: right;\">\n",
       "      <th></th>\n",
       "      <th>1</th>\n",
       "      <th>pais</th>\n",
       "      <th>provincia</th>\n",
       "      <th>localidad</th>\n",
       "      <th>zona</th>\n",
       "      <th>barrio</th>\n",
       "      <th>lugar</th>\n",
       "    </tr>\n",
       "  </thead>\n",
       "  <tbody>\n",
       "    <tr>\n",
       "      <th>0</th>\n",
       "      <td></td>\n",
       "      <td>Argentina</td>\n",
       "      <td>Capital Federal</td>\n",
       "      <td>Boedo</td>\n",
       "      <td>Boedo</td>\n",
       "      <td>Boedo</td>\n",
       "      <td>Boedo</td>\n",
       "    </tr>\n",
       "    <tr>\n",
       "      <th>1</th>\n",
       "      <td></td>\n",
       "      <td>Argentina</td>\n",
       "      <td>Buenos Aires Costa Atlántica</td>\n",
       "      <td>San Bernardo</td>\n",
       "      <td>San Bernardo</td>\n",
       "      <td>San Bernardo</td>\n",
       "      <td>San Bernardo</td>\n",
       "    </tr>\n",
       "    <tr>\n",
       "      <th>2</th>\n",
       "      <td></td>\n",
       "      <td>Argentina</td>\n",
       "      <td>Capital Federal</td>\n",
       "      <td>Almagro</td>\n",
       "      <td>Almagro</td>\n",
       "      <td>Almagro</td>\n",
       "      <td>Almagro</td>\n",
       "    </tr>\n",
       "  </tbody>\n",
       "</table>\n",
       "</div>"
      ],
      "text/plain": [
       "  1       pais                     provincia     localidad          zona  \\\n",
       "0    Argentina               Capital Federal         Boedo         Boedo   \n",
       "1    Argentina  Buenos Aires Costa Atlántica  San Bernardo  San Bernardo   \n",
       "2    Argentina               Capital Federal       Almagro       Almagro   \n",
       "\n",
       "         barrio         lugar  \n",
       "0         Boedo         Boedo  \n",
       "1  San Bernardo  San Bernardo  \n",
       "2       Almagro       Almagro  "
      ]
     },
     "execution_count": 362,
     "metadata": {},
     "output_type": "execute_result"
    }
   ],
   "source": [
    "estructura_places.loc[estructura_places[\"localidad\"] == '','localidad'] = estructura_places[\"provincia\"]\n",
    "estructura_places.loc[estructura_places[\"zona\"] == '','zona'] = estructura_places[\"localidad\"]\n",
    "estructura_places.loc[estructura_places[\"barrio\"] == '','barrio'] = estructura_places[\"zona\"]\n",
    "estructura_places.loc[estructura_places[\"lugar\"] == '','lugar'] = estructura_places[\"barrio\"]\n",
    "estructura_places.head(3)"
   ]
  },
  {
   "cell_type": "markdown",
   "metadata": {},
   "source": [
    "#### Joineamos la el dataset con el original"
   ]
  },
  {
   "cell_type": "code",
   "execution_count": 363,
   "metadata": {},
   "outputs": [],
   "source": [
    "data = data.join(estructura_places)"
   ]
  },
  {
   "cell_type": "code",
   "execution_count": 364,
   "metadata": {},
   "outputs": [
    {
     "data": {
      "text/plain": [
       "Unnamed: 0                            int64\n",
       "operation                            object\n",
       "property_type                        object\n",
       "place_name                           object\n",
       "place_with_parent_names              object\n",
       "country_name                         object\n",
       "state_name                           object\n",
       "geonames_id                         float64\n",
       "lat-lon                              object\n",
       "lat                                 float64\n",
       "lon                                 float64\n",
       "price                               float64\n",
       "currency                             object\n",
       "price_aprox_local_currency          float64\n",
       "price_aprox_usd                     float64\n",
       "surface_total_in_m2                 float64\n",
       "surface_covered_in_m2               float64\n",
       "price_usd_per_m2                    float64\n",
       "price_per_m2                        float64\n",
       "floor                               float64\n",
       "rooms                               float64\n",
       "expenses                            float64\n",
       "properati_url                        object\n",
       "description                          object\n",
       "title                                object\n",
       "image_thumbnail                      object\n",
       "rooms_completo                      float64\n",
       "PILETA                                 bool\n",
       "PARRILLA                               bool\n",
       "PATIO_JARDIN                           bool\n",
       "expenses_bool                        object\n",
       "expenses_nuevo                      float64\n",
       "geonames_id_nuevo                   float64\n",
       "lat-lon_nuevo                        object\n",
       "lat_nuevo                           float64\n",
       "lon_nuevo                           float64\n",
       "floor_copia                         float64\n",
       "property_type_copia                  object\n",
       "description_copia                    object\n",
       "title_copia                          object\n",
       "ant                                  object\n",
       "price_nuevo                         float64\n",
       "currency_nuevo                       object\n",
       "price_aprox_local_currency_nuevo    float64\n",
       "price_aprox_usd_nuevo               float64\n",
       "surface_total_in_m2_nuevo           float64\n",
       "surface_covered_in_m2_nuevo         float64\n",
       "price_usd_per_m2_nuevo              float64\n",
       "price_per_m2_nuevo                  float64\n",
       "1                                    object\n",
       "pais                                 object\n",
       "provincia                            object\n",
       "localidad                            object\n",
       "zona                                 object\n",
       "barrio                               object\n",
       "lugar                                object\n",
       "dtype: object"
      ]
     },
     "execution_count": 364,
     "metadata": {},
     "output_type": "execute_result"
    }
   ],
   "source": [
    "data.dtypes"
   ]
  },
  {
   "cell_type": "code",
   "execution_count": 365,
   "metadata": {},
   "outputs": [],
   "source": [
    "data.drop(['Unnamed: 0', 'operation', 'property_type_copia', 'place_with_parent_names', 'country_name', 'geonames_id', 'lat-lon',\\\n",
    "          'lat', 'lon','1', 'price', 'currency', 'price', 'currency', 'price_aprox_local_currency', 'price_aprox_usd',\\\n",
    "          'surface_total_in_m2', 'surface_covered_in_m2', 'price_usd_per_m2', 'price_per_m2', 'floor', 'rooms', 'expenses',\\\n",
    "          'properati_url', 'image_thumbnail'], axis =1, inplace = True)"
   ]
  },
  {
   "cell_type": "code",
   "execution_count": 366,
   "metadata": {},
   "outputs": [
    {
     "data": {
      "text/html": [
       "<div>\n",
       "<style scoped>\n",
       "    .dataframe tbody tr th:only-of-type {\n",
       "        vertical-align: middle;\n",
       "    }\n",
       "\n",
       "    .dataframe tbody tr th {\n",
       "        vertical-align: top;\n",
       "    }\n",
       "\n",
       "    .dataframe thead th {\n",
       "        text-align: right;\n",
       "    }\n",
       "</style>\n",
       "<table border=\"1\" class=\"dataframe\">\n",
       "  <thead>\n",
       "    <tr style=\"text-align: right;\">\n",
       "      <th></th>\n",
       "      <th>property_type</th>\n",
       "      <th>place_name</th>\n",
       "      <th>state_name</th>\n",
       "      <th>description</th>\n",
       "      <th>title</th>\n",
       "      <th>rooms_completo</th>\n",
       "      <th>PILETA</th>\n",
       "      <th>PARRILLA</th>\n",
       "      <th>PATIO_JARDIN</th>\n",
       "      <th>expenses_bool</th>\n",
       "      <th>...</th>\n",
       "      <th>surface_total_in_m2_nuevo</th>\n",
       "      <th>surface_covered_in_m2_nuevo</th>\n",
       "      <th>price_usd_per_m2_nuevo</th>\n",
       "      <th>price_per_m2_nuevo</th>\n",
       "      <th>pais</th>\n",
       "      <th>provincia</th>\n",
       "      <th>localidad</th>\n",
       "      <th>zona</th>\n",
       "      <th>barrio</th>\n",
       "      <th>lugar</th>\n",
       "    </tr>\n",
       "  </thead>\n",
       "  <tbody>\n",
       "    <tr>\n",
       "      <th>66</th>\n",
       "      <td>apartment</td>\n",
       "      <td>Boedo</td>\n",
       "      <td>Capital Federal</td>\n",
       "      <td>CODIGO: 5 ubicado en: Avenida Independencia 26...</td>\n",
       "      <td>DEPARTAMENTO NUEVO, DE UN AMBIENTE amplio, 3 A...</td>\n",
       "      <td>0.0</td>\n",
       "      <td>False</td>\n",
       "      <td>False</td>\n",
       "      <td>False</td>\n",
       "      <td>SI</td>\n",
       "      <td>...</td>\n",
       "      <td>38.0</td>\n",
       "      <td>NaN</td>\n",
       "      <td>1918.421053</td>\n",
       "      <td>33849.580263</td>\n",
       "      <td>Argentina</td>\n",
       "      <td>Bs.As. G.B.A. Zona Oeste</td>\n",
       "      <td>Hurlingham</td>\n",
       "      <td>Hurlingham</td>\n",
       "      <td>Hurlingham</td>\n",
       "      <td>Hurlingham</td>\n",
       "    </tr>\n",
       "    <tr>\n",
       "      <th>96</th>\n",
       "      <td>apartment</td>\n",
       "      <td>San Bernardo</td>\n",
       "      <td>Buenos Aires Costa Atlántica</td>\n",
       "      <td>Departamento de 2 ambientes, ubicado en la cos...</td>\n",
       "      <td>DEPARTAMENTO EN VENTA</td>\n",
       "      <td>1.0</td>\n",
       "      <td>False</td>\n",
       "      <td>True</td>\n",
       "      <td>False</td>\n",
       "      <td>SI</td>\n",
       "      <td>...</td>\n",
       "      <td>75.0</td>\n",
       "      <td>30.0</td>\n",
       "      <td>720.000000</td>\n",
       "      <td>12704.040000</td>\n",
       "      <td>Argentina</td>\n",
       "      <td>Capital Federal</td>\n",
       "      <td>Barrio Norte</td>\n",
       "      <td>Barrio Norte</td>\n",
       "      <td>Barrio Norte</td>\n",
       "      <td>Barrio Norte</td>\n",
       "    </tr>\n",
       "    <tr>\n",
       "      <th>98</th>\n",
       "      <td>apartment</td>\n",
       "      <td>Almagro</td>\n",
       "      <td>Capital Federal</td>\n",
       "      <td>Venta de Departamento 2 AMBIENTES en Almagro, ...</td>\n",
       "      <td>DEPARTAMENTO EN VENTA</td>\n",
       "      <td>2.0</td>\n",
       "      <td>False</td>\n",
       "      <td>True</td>\n",
       "      <td>True</td>\n",
       "      <td>SI</td>\n",
       "      <td>...</td>\n",
       "      <td>50.0</td>\n",
       "      <td>40.0</td>\n",
       "      <td>2198.000000</td>\n",
       "      <td>38782.611000</td>\n",
       "      <td>Argentina</td>\n",
       "      <td>Capital Federal</td>\n",
       "      <td>Palermo</td>\n",
       "      <td>Palermo Soho</td>\n",
       "      <td>Palermo Soho</td>\n",
       "      <td>Palermo Soho</td>\n",
       "    </tr>\n",
       "    <tr>\n",
       "      <th>125</th>\n",
       "      <td>apartment</td>\n",
       "      <td>Bs.As. G.B.A. Zona Sur</td>\n",
       "      <td>Bs.As. G.B.A. Zona Sur</td>\n",
       "      <td>CODIGO: 438-12112 ubicado en: test de prueba -...</td>\n",
       "      <td>RUGGIERI</td>\n",
       "      <td>0.0</td>\n",
       "      <td>False</td>\n",
       "      <td>False</td>\n",
       "      <td>False</td>\n",
       "      <td>SI</td>\n",
       "      <td>...</td>\n",
       "      <td>NaN</td>\n",
       "      <td>NaN</td>\n",
       "      <td>NaN</td>\n",
       "      <td>NaN</td>\n",
       "      <td>Argentina</td>\n",
       "      <td>Buenos Aires Costa Atlántica</td>\n",
       "      <td>Mar del Plata</td>\n",
       "      <td>Mar del Plata</td>\n",
       "      <td>Mar del Plata</td>\n",
       "      <td>Mar del Plata</td>\n",
       "    </tr>\n",
       "  </tbody>\n",
       "</table>\n",
       "<p>4 rows × 33 columns</p>\n",
       "</div>"
      ],
      "text/plain": [
       "    property_type              place_name                    state_name  \\\n",
       "66      apartment                   Boedo               Capital Federal   \n",
       "96      apartment            San Bernardo  Buenos Aires Costa Atlántica   \n",
       "98      apartment                 Almagro               Capital Federal   \n",
       "125     apartment  Bs.As. G.B.A. Zona Sur        Bs.As. G.B.A. Zona Sur   \n",
       "\n",
       "                                           description  \\\n",
       "66   CODIGO: 5 ubicado en: Avenida Independencia 26...   \n",
       "96   Departamento de 2 ambientes, ubicado en la cos...   \n",
       "98   Venta de Departamento 2 AMBIENTES en Almagro, ...   \n",
       "125  CODIGO: 438-12112 ubicado en: test de prueba -...   \n",
       "\n",
       "                                                 title  rooms_completo  \\\n",
       "66   DEPARTAMENTO NUEVO, DE UN AMBIENTE amplio, 3 A...             0.0   \n",
       "96                               DEPARTAMENTO EN VENTA             1.0   \n",
       "98                               DEPARTAMENTO EN VENTA             2.0   \n",
       "125                                           RUGGIERI             0.0   \n",
       "\n",
       "     PILETA  PARRILLA  PATIO_JARDIN expenses_bool  ...  \\\n",
       "66    False     False         False            SI  ...   \n",
       "96    False      True         False            SI  ...   \n",
       "98    False      True          True            SI  ...   \n",
       "125   False     False         False            SI  ...   \n",
       "\n",
       "     surface_total_in_m2_nuevo  surface_covered_in_m2_nuevo  \\\n",
       "66                        38.0                          NaN   \n",
       "96                        75.0                         30.0   \n",
       "98                        50.0                         40.0   \n",
       "125                        NaN                          NaN   \n",
       "\n",
       "    price_usd_per_m2_nuevo  price_per_m2_nuevo       pais  \\\n",
       "66             1918.421053        33849.580263  Argentina   \n",
       "96              720.000000        12704.040000  Argentina   \n",
       "98             2198.000000        38782.611000  Argentina   \n",
       "125                    NaN                 NaN  Argentina   \n",
       "\n",
       "                        provincia      localidad           zona  \\\n",
       "66       Bs.As. G.B.A. Zona Oeste     Hurlingham     Hurlingham   \n",
       "96                Capital Federal   Barrio Norte   Barrio Norte   \n",
       "98                Capital Federal        Palermo   Palermo Soho   \n",
       "125  Buenos Aires Costa Atlántica  Mar del Plata  Mar del Plata   \n",
       "\n",
       "            barrio          lugar  \n",
       "66      Hurlingham     Hurlingham  \n",
       "96    Barrio Norte   Barrio Norte  \n",
       "98    Palermo Soho   Palermo Soho  \n",
       "125  Mar del Plata  Mar del Plata  \n",
       "\n",
       "[4 rows x 33 columns]"
      ]
     },
     "execution_count": 366,
     "metadata": {},
     "output_type": "execute_result"
    }
   ],
   "source": [
    "data.head(4)"
   ]
  },
  {
   "cell_type": "code",
   "execution_count": 367,
   "metadata": {},
   "outputs": [
    {
     "data": {
      "text/plain": [
       "Index(['property_type', 'place_name', 'state_name', 'description', 'title',\n",
       "       'rooms_completo', 'PILETA', 'PARRILLA', 'PATIO_JARDIN', 'expenses_bool',\n",
       "       'expenses_nuevo', 'geonames_id_nuevo', 'lat-lon_nuevo', 'lat_nuevo',\n",
       "       'lon_nuevo', 'floor_copia', 'description_copia', 'title_copia', 'ant',\n",
       "       'price_nuevo', 'currency_nuevo', 'price_aprox_local_currency_nuevo',\n",
       "       'price_aprox_usd_nuevo', 'surface_total_in_m2_nuevo',\n",
       "       'surface_covered_in_m2_nuevo', 'price_usd_per_m2_nuevo',\n",
       "       'price_per_m2_nuevo', 'pais', 'provincia', 'localidad', 'zona',\n",
       "       'barrio', 'lugar'],\n",
       "      dtype='object')"
      ]
     },
     "execution_count": 367,
     "metadata": {},
     "output_type": "execute_result"
    }
   ],
   "source": [
    "data.columns"
   ]
  },
  {
   "cell_type": "code",
   "execution_count": null,
   "metadata": {},
   "outputs": [],
   "source": []
  },
  {
   "cell_type": "code",
   "execution_count": null,
   "metadata": {},
   "outputs": [],
   "source": []
  },
  {
   "cell_type": "markdown",
   "metadata": {},
   "source": [
    "## Hipotesis Numero 1: Las viviendas del amba a estrenar son el 50% más caras que el resto"
   ]
  },
  {
   "cell_type": "code",
   "execution_count": 368,
   "metadata": {},
   "outputs": [],
   "source": [
    "import seaborn as sns\n",
    "import matplotlib.pyplot as plt\n",
    "from scipy import stats"
   ]
  },
  {
   "cell_type": "code",
   "execution_count": 478,
   "metadata": {},
   "outputs": [],
   "source": [
    "#Me quedo solo con la info del AMBA\n",
    "data_amba = data[data['state_name'].isin(['Bs.As. G.B.A. Zona Norte', 'Bs.As. G.B.A. Zona Oeste', 'Capital Federal',\\\n",
    "                                         'Bs.As. G.B.A. Zona Sur'])]"
   ]
  },
  {
   "cell_type": "code",
   "execution_count": 479,
   "metadata": {},
   "outputs": [
    {
     "data": {
      "image/png": "[encoded data removed]",
      "text/plain": [
       "<Figure size 432x288 with 1 Axes>"
      ]
     },
     "metadata": {
      "needs_background": "light"
     },
     "output_type": "display_data"
    }
   ],
   "source": [
    "#Cambiar \"property_type\" por el analisis de \"a estrenar\" y \"otros\"\n",
    "ax = sns.barplot(x=\"property_type\", y=\"price_nuevo\", data=data_amba)"
   ]
  },
  {
   "cell_type": "code",
   "execution_count": 480,
   "metadata": {},
   "outputs": [
    {
     "data": {
      "image/png": "[encoded data removed]",
      "text/plain": [
       "<Figure size 432x288 with 1 Axes>"
      ]
     },
     "metadata": {
      "needs_background": "light"
     },
     "output_type": "display_data"
    }
   ],
   "source": [
    "#Cambiar \"property_type\" por el analisis de \"a estrenar\" y \"otros\"\n",
    "ax = sns.barplot(x=\"state_name\", y=\"price_nuevo\", hue=\"property_type\", data=data_amba)"
   ]
  },
  {
   "cell_type": "code",
   "execution_count": 481,
   "metadata": {},
   "outputs": [
    {
     "data": {
      "text/html": [
       "<div>\n",
       "<style scoped>\n",
       "    .dataframe tbody tr th:only-of-type {\n",
       "        vertical-align: middle;\n",
       "    }\n",
       "\n",
       "    .dataframe tbody tr th {\n",
       "        vertical-align: top;\n",
       "    }\n",
       "\n",
       "    .dataframe thead th {\n",
       "        text-align: right;\n",
       "    }\n",
       "</style>\n",
       "<table border=\"1\" class=\"dataframe\">\n",
       "  <thead>\n",
       "    <tr style=\"text-align: right;\">\n",
       "      <th></th>\n",
       "      <th></th>\n",
       "      <th>rooms_completo</th>\n",
       "      <th>PILETA</th>\n",
       "      <th>PARRILLA</th>\n",
       "      <th>PATIO_JARDIN</th>\n",
       "      <th>expenses_nuevo</th>\n",
       "      <th>geonames_id_nuevo</th>\n",
       "      <th>lat_nuevo</th>\n",
       "      <th>lon_nuevo</th>\n",
       "      <th>floor_copia</th>\n",
       "      <th>price_nuevo</th>\n",
       "      <th>price_aprox_local_currency_nuevo</th>\n",
       "      <th>price_aprox_usd_nuevo</th>\n",
       "      <th>surface_total_in_m2_nuevo</th>\n",
       "      <th>surface_covered_in_m2_nuevo</th>\n",
       "      <th>price_usd_per_m2_nuevo</th>\n",
       "      <th>price_per_m2_nuevo</th>\n",
       "    </tr>\n",
       "    <tr>\n",
       "      <th>state_name</th>\n",
       "      <th>property_type</th>\n",
       "      <th></th>\n",
       "      <th></th>\n",
       "      <th></th>\n",
       "      <th></th>\n",
       "      <th></th>\n",
       "      <th></th>\n",
       "      <th></th>\n",
       "      <th></th>\n",
       "      <th></th>\n",
       "      <th></th>\n",
       "      <th></th>\n",
       "      <th></th>\n",
       "      <th></th>\n",
       "      <th></th>\n",
       "      <th></th>\n",
       "      <th></th>\n",
       "    </tr>\n",
       "  </thead>\n",
       "  <tbody>\n",
       "    <tr>\n",
       "      <th rowspan=\"4\" valign=\"top\">Bs.As. G.B.A. Zona Norte</th>\n",
       "      <th>PH</th>\n",
       "      <td>1.364467</td>\n",
       "      <td>0.037563</td>\n",
       "      <td>0.234518</td>\n",
       "      <td>0.370558</td>\n",
       "      <td>0.000000</td>\n",
       "      <td>3.439526e+06</td>\n",
       "      <td>-34.511493</td>\n",
       "      <td>-58.596595</td>\n",
       "      <td>0.849570</td>\n",
       "      <td>152925.210634</td>\n",
       "      <td>2.400446e+06</td>\n",
       "      <td>136045.021789</td>\n",
       "      <td>113.738170</td>\n",
       "      <td>85.288229</td>\n",
       "      <td>inf</td>\n",
       "      <td>inf</td>\n",
       "    </tr>\n",
       "    <tr>\n",
       "      <th>apartment</th>\n",
       "      <td>1.155150</td>\n",
       "      <td>0.195538</td>\n",
       "      <td>0.363208</td>\n",
       "      <td>0.129072</td>\n",
       "      <td>3142.551411</td>\n",
       "      <td>3.429912e+06</td>\n",
       "      <td>-34.453480</td>\n",
       "      <td>-58.652592</td>\n",
       "      <td>3.445884</td>\n",
       "      <td>508176.063104</td>\n",
       "      <td>3.548537e+06</td>\n",
       "      <td>201112.905033</td>\n",
       "      <td>86.988362</td>\n",
       "      <td>74.610631</td>\n",
       "      <td>inf</td>\n",
       "      <td>inf</td>\n",
       "    </tr>\n",
       "    <tr>\n",
       "      <th>house</th>\n",
       "      <td>1.336052</td>\n",
       "      <td>0.322808</td>\n",
       "      <td>0.497830</td>\n",
       "      <td>0.175471</td>\n",
       "      <td>0.000000</td>\n",
       "      <td>3.432431e+06</td>\n",
       "      <td>-34.441008</td>\n",
       "      <td>-58.691660</td>\n",
       "      <td>0.833207</td>\n",
       "      <td>437797.764206</td>\n",
       "      <td>7.522320e+06</td>\n",
       "      <td>426326.612906</td>\n",
       "      <td>492.580593</td>\n",
       "      <td>247.839224</td>\n",
       "      <td>inf</td>\n",
       "      <td>inf</td>\n",
       "    </tr>\n",
       "    <tr>\n",
       "      <th>store</th>\n",
       "      <td>0.190153</td>\n",
       "      <td>0.008489</td>\n",
       "      <td>0.032258</td>\n",
       "      <td>0.069610</td>\n",
       "      <td>2117.546811</td>\n",
       "      <td>3.439239e+06</td>\n",
       "      <td>-34.479583</td>\n",
       "      <td>-58.665198</td>\n",
       "      <td>1.714844</td>\n",
       "      <td>551540.503676</td>\n",
       "      <td>9.710838e+06</td>\n",
       "      <td>550360.608254</td>\n",
       "      <td>734.090680</td>\n",
       "      <td>712.510848</td>\n",
       "      <td>inf</td>\n",
       "      <td>inf</td>\n",
       "    </tr>\n",
       "    <tr>\n",
       "      <th rowspan=\"4\" valign=\"top\">Bs.As. G.B.A. Zona Oeste</th>\n",
       "      <th>PH</th>\n",
       "      <td>1.373891</td>\n",
       "      <td>0.035488</td>\n",
       "      <td>0.179975</td>\n",
       "      <td>0.323194</td>\n",
       "      <td>0.000000</td>\n",
       "      <td>3.459767e+06</td>\n",
       "      <td>-34.645326</td>\n",
       "      <td>-58.590464</td>\n",
       "      <td>0.923623</td>\n",
       "      <td>113155.482166</td>\n",
       "      <td>1.949272e+06</td>\n",
       "      <td>110474.792761</td>\n",
       "      <td>113.901804</td>\n",
       "      <td>88.967593</td>\n",
       "      <td>1261.384312</td>\n",
       "      <td>2.159720e+04</td>\n",
       "    </tr>\n",
       "    <tr>\n",
       "      <th>apartment</th>\n",
       "      <td>1.186844</td>\n",
       "      <td>0.048922</td>\n",
       "      <td>0.123825</td>\n",
       "      <td>0.090105</td>\n",
       "      <td>2935.878020</td>\n",
       "      <td>3.462683e+06</td>\n",
       "      <td>-34.643359</td>\n",
       "      <td>-58.596907</td>\n",
       "      <td>2.459007</td>\n",
       "      <td>150857.697652</td>\n",
       "      <td>2.019689e+06</td>\n",
       "      <td>114465.668528</td>\n",
       "      <td>64.846979</td>\n",
       "      <td>54.716597</td>\n",
       "      <td>inf</td>\n",
       "      <td>inf</td>\n",
       "    </tr>\n",
       "    <tr>\n",
       "      <th>house</th>\n",
       "      <td>1.393738</td>\n",
       "      <td>0.142612</td>\n",
       "      <td>0.242119</td>\n",
       "      <td>0.142827</td>\n",
       "      <td>0.000000</td>\n",
       "      <td>3.444318e+06</td>\n",
       "      <td>-34.648604</td>\n",
       "      <td>-58.665214</td>\n",
       "      <td>0.594748</td>\n",
       "      <td>238278.346642</td>\n",
       "      <td>3.855849e+06</td>\n",
       "      <td>218529.773389</td>\n",
       "      <td>390.288737</td>\n",
       "      <td>174.512000</td>\n",
       "      <td>inf</td>\n",
       "      <td>inf</td>\n",
       "    </tr>\n",
       "    <tr>\n",
       "      <th>store</th>\n",
       "      <td>0.257937</td>\n",
       "      <td>0.011905</td>\n",
       "      <td>0.019841</td>\n",
       "      <td>0.059524</td>\n",
       "      <td>2174.105608</td>\n",
       "      <td>3.450937e+06</td>\n",
       "      <td>-34.645784</td>\n",
       "      <td>-58.634606</td>\n",
       "      <td>1.136986</td>\n",
       "      <td>413947.668394</td>\n",
       "      <td>7.141665e+06</td>\n",
       "      <td>404753.043005</td>\n",
       "      <td>635.594595</td>\n",
       "      <td>527.875622</td>\n",
       "      <td>1637.854430</td>\n",
       "      <td>2.747156e+04</td>\n",
       "    </tr>\n",
       "    <tr>\n",
       "      <th rowspan=\"4\" valign=\"top\">Bs.As. G.B.A. Zona Sur</th>\n",
       "      <th>PH</th>\n",
       "      <td>1.243605</td>\n",
       "      <td>0.047503</td>\n",
       "      <td>0.202192</td>\n",
       "      <td>0.403167</td>\n",
       "      <td>0.000000</td>\n",
       "      <td>3.432372e+06</td>\n",
       "      <td>-34.774379</td>\n",
       "      <td>-58.275374</td>\n",
       "      <td>0.930464</td>\n",
       "      <td>122159.651007</td>\n",
       "      <td>1.951786e+06</td>\n",
       "      <td>110617.264765</td>\n",
       "      <td>118.083333</td>\n",
       "      <td>82.323052</td>\n",
       "      <td>1267.096091</td>\n",
       "      <td>1.965618e+04</td>\n",
       "    </tr>\n",
       "    <tr>\n",
       "      <th>apartment</th>\n",
       "      <td>1.131287</td>\n",
       "      <td>0.099873</td>\n",
       "      <td>0.171237</td>\n",
       "      <td>0.086072</td>\n",
       "      <td>2802.379480</td>\n",
       "      <td>3.432689e+06</td>\n",
       "      <td>-34.806420</td>\n",
       "      <td>-58.239383</td>\n",
       "      <td>3.147770</td>\n",
       "      <td>195515.726263</td>\n",
       "      <td>2.190729e+06</td>\n",
       "      <td>124159.305376</td>\n",
       "      <td>78.923514</td>\n",
       "      <td>67.296882</td>\n",
       "      <td>3392.407775</td>\n",
       "      <td>3.334773e+04</td>\n",
       "    </tr>\n",
       "    <tr>\n",
       "      <th>house</th>\n",
       "      <td>1.347459</td>\n",
       "      <td>0.183393</td>\n",
       "      <td>0.296063</td>\n",
       "      <td>0.198712</td>\n",
       "      <td>0.000000</td>\n",
       "      <td>3.434519e+06</td>\n",
       "      <td>-34.809255</td>\n",
       "      <td>-58.293610</td>\n",
       "      <td>0.616981</td>\n",
       "      <td>262997.041139</td>\n",
       "      <td>4.417092e+06</td>\n",
       "      <td>250338.176161</td>\n",
       "      <td>340.373672</td>\n",
       "      <td>196.384256</td>\n",
       "      <td>1224.997905</td>\n",
       "      <td>2.054709e+04</td>\n",
       "    </tr>\n",
       "    <tr>\n",
       "      <th>store</th>\n",
       "      <td>0.287950</td>\n",
       "      <td>0.025039</td>\n",
       "      <td>0.029734</td>\n",
       "      <td>0.103286</td>\n",
       "      <td>2236.361337</td>\n",
       "      <td>3.433066e+06</td>\n",
       "      <td>-34.791805</td>\n",
       "      <td>-58.286883</td>\n",
       "      <td>1.057348</td>\n",
       "      <td>583507.221239</td>\n",
       "      <td>6.924811e+06</td>\n",
       "      <td>392462.840389</td>\n",
       "      <td>870.407524</td>\n",
       "      <td>537.620853</td>\n",
       "      <td>1770.997026</td>\n",
       "      <td>2.719060e+04</td>\n",
       "    </tr>\n",
       "    <tr>\n",
       "      <th rowspan=\"4\" valign=\"top\">Capital Federal</th>\n",
       "      <th>PH</th>\n",
       "      <td>1.679431</td>\n",
       "      <td>0.032276</td>\n",
       "      <td>0.245624</td>\n",
       "      <td>0.399344</td>\n",
       "      <td>0.000000</td>\n",
       "      <td>3.529494e+06</td>\n",
       "      <td>-34.613767</td>\n",
       "      <td>-58.458650</td>\n",
       "      <td>1.149741</td>\n",
       "      <td>190326.580862</td>\n",
       "      <td>3.342457e+06</td>\n",
       "      <td>189433.372960</td>\n",
       "      <td>128.894372</td>\n",
       "      <td>91.915493</td>\n",
       "      <td>1716.129069</td>\n",
       "      <td>2.991656e+04</td>\n",
       "    </tr>\n",
       "    <tr>\n",
       "      <th>apartment</th>\n",
       "      <td>1.119355</td>\n",
       "      <td>0.102563</td>\n",
       "      <td>0.153050</td>\n",
       "      <td>0.088065</td>\n",
       "      <td>3151.409650</td>\n",
       "      <td>3.530139e+06</td>\n",
       "      <td>-34.596543</td>\n",
       "      <td>-58.441273</td>\n",
       "      <td>7.169827</td>\n",
       "      <td>370678.155088</td>\n",
       "      <td>4.329024e+06</td>\n",
       "      <td>245346.918178</td>\n",
       "      <td>87.589017</td>\n",
       "      <td>79.353843</td>\n",
       "      <td>inf</td>\n",
       "      <td>inf</td>\n",
       "    </tr>\n",
       "    <tr>\n",
       "      <th>house</th>\n",
       "      <td>1.574509</td>\n",
       "      <td>0.210350</td>\n",
       "      <td>0.354097</td>\n",
       "      <td>0.363201</td>\n",
       "      <td>0.000000</td>\n",
       "      <td>3.469355e+06</td>\n",
       "      <td>-34.614130</td>\n",
       "      <td>-58.457853</td>\n",
       "      <td>0.896637</td>\n",
       "      <td>510871.285639</td>\n",
       "      <td>8.844615e+06</td>\n",
       "      <td>501267.519862</td>\n",
       "      <td>460.640803</td>\n",
       "      <td>248.990302</td>\n",
       "      <td>1610.097315</td>\n",
       "      <td>2.729078e+04</td>\n",
       "    </tr>\n",
       "    <tr>\n",
       "      <th>store</th>\n",
       "      <td>0.162757</td>\n",
       "      <td>0.008798</td>\n",
       "      <td>0.032991</td>\n",
       "      <td>0.075513</td>\n",
       "      <td>2282.984294</td>\n",
       "      <td>3.578327e+06</td>\n",
       "      <td>-34.604523</td>\n",
       "      <td>-58.423343</td>\n",
       "      <td>2.677994</td>\n",
       "      <td>718502.899160</td>\n",
       "      <td>9.086568e+06</td>\n",
       "      <td>514980.211471</td>\n",
       "      <td>298.863850</td>\n",
       "      <td>263.112999</td>\n",
       "      <td>4068.759524</td>\n",
       "      <td>5.116318e+04</td>\n",
       "    </tr>\n",
       "  </tbody>\n",
       "</table>\n",
       "</div>"
      ],
      "text/plain": [
       "                                        rooms_completo    PILETA  PARRILLA  \\\n",
       "state_name               property_type                                       \n",
       "Bs.As. G.B.A. Zona Norte PH                   1.364467  0.037563  0.234518   \n",
       "                         apartment            1.155150  0.195538  0.363208   \n",
       "                         house                1.336052  0.322808  0.497830   \n",
       "                         store                0.190153  0.008489  0.032258   \n",
       "Bs.As. G.B.A. Zona Oeste PH                   1.373891  0.035488  0.179975   \n",
       "                         apartment            1.186844  0.048922  0.123825   \n",
       "                         house                1.393738  0.142612  0.242119   \n",
       "                         store                0.257937  0.011905  0.019841   \n",
       "Bs.As. G.B.A. Zona Sur   PH                   1.243605  0.047503  0.202192   \n",
       "                         apartment            1.131287  0.099873  0.171237   \n",
       "                         house                1.347459  0.183393  0.296063   \n",
       "                         store                0.287950  0.025039  0.029734   \n",
       "Capital Federal          PH                   1.679431  0.032276  0.245624   \n",
       "                         apartment            1.119355  0.102563  0.153050   \n",
       "                         house                1.574509  0.210350  0.354097   \n",
       "                         store                0.162757  0.008798  0.032991   \n",
       "\n",
       "                                        PATIO_JARDIN  expenses_nuevo  \\\n",
       "state_name               property_type                                 \n",
       "Bs.As. G.B.A. Zona Norte PH                 0.370558        0.000000   \n",
       "                         apartment          0.129072     3142.551411   \n",
       "                         house              0.175471        0.000000   \n",
       "                         store              0.069610     2117.546811   \n",
       "Bs.As. G.B.A. Zona Oeste PH                 0.323194        0.000000   \n",
       "                         apartment          0.090105     2935.878020   \n",
       "                         house              0.142827        0.000000   \n",
       "                         store              0.059524     2174.105608   \n",
       "Bs.As. G.B.A. Zona Sur   PH                 0.403167        0.000000   \n",
       "                         apartment          0.086072     2802.379480   \n",
       "                         house              0.198712        0.000000   \n",
       "                         store              0.103286     2236.361337   \n",
       "Capital Federal          PH                 0.399344        0.000000   \n",
       "                         apartment          0.088065     3151.409650   \n",
       "                         house              0.363201        0.000000   \n",
       "                         store              0.075513     2282.984294   \n",
       "\n",
       "                                        geonames_id_nuevo  lat_nuevo  \\\n",
       "state_name               property_type                                 \n",
       "Bs.As. G.B.A. Zona Norte PH                  3.439526e+06 -34.511493   \n",
       "                         apartment           3.429912e+06 -34.453480   \n",
       "                         house               3.432431e+06 -34.441008   \n",
       "                         store               3.439239e+06 -34.479583   \n",
       "Bs.As. G.B.A. Zona Oeste PH                  3.459767e+06 -34.645326   \n",
       "                         apartment           3.462683e+06 -34.643359   \n",
       "                         house               3.444318e+06 -34.648604   \n",
       "                         store               3.450937e+06 -34.645784   \n",
       "Bs.As. G.B.A. Zona Sur   PH                  3.432372e+06 -34.774379   \n",
       "                         apartment           3.432689e+06 -34.806420   \n",
       "                         house               3.434519e+06 -34.809255   \n",
       "                         store               3.433066e+06 -34.791805   \n",
       "Capital Federal          PH                  3.529494e+06 -34.613767   \n",
       "                         apartment           3.530139e+06 -34.596543   \n",
       "                         house               3.469355e+06 -34.614130   \n",
       "                         store               3.578327e+06 -34.604523   \n",
       "\n",
       "                                        lon_nuevo  floor_copia    price_nuevo  \\\n",
       "state_name               property_type                                          \n",
       "Bs.As. G.B.A. Zona Norte PH            -58.596595     0.849570  152925.210634   \n",
       "                         apartment     -58.652592     3.445884  508176.063104   \n",
       "                         house         -58.691660     0.833207  437797.764206   \n",
       "                         store         -58.665198     1.714844  551540.503676   \n",
       "Bs.As. G.B.A. Zona Oeste PH            -58.590464     0.923623  113155.482166   \n",
       "                         apartment     -58.596907     2.459007  150857.697652   \n",
       "                         house         -58.665214     0.594748  238278.346642   \n",
       "                         store         -58.634606     1.136986  413947.668394   \n",
       "Bs.As. G.B.A. Zona Sur   PH            -58.275374     0.930464  122159.651007   \n",
       "                         apartment     -58.239383     3.147770  195515.726263   \n",
       "                         house         -58.293610     0.616981  262997.041139   \n",
       "                         store         -58.286883     1.057348  583507.221239   \n",
       "Capital Federal          PH            -58.458650     1.149741  190326.580862   \n",
       "                         apartment     -58.441273     7.169827  370678.155088   \n",
       "                         house         -58.457853     0.896637  510871.285639   \n",
       "                         store         -58.423343     2.677994  718502.899160   \n",
       "\n",
       "                                        price_aprox_local_currency_nuevo  \\\n",
       "state_name               property_type                                     \n",
       "Bs.As. G.B.A. Zona Norte PH                                 2.400446e+06   \n",
       "                         apartment                          3.548537e+06   \n",
       "                         house                              7.522320e+06   \n",
       "                         store                              9.710838e+06   \n",
       "Bs.As. G.B.A. Zona Oeste PH                                 1.949272e+06   \n",
       "                         apartment                          2.019689e+06   \n",
       "                         house                              3.855849e+06   \n",
       "                         store                              7.141665e+06   \n",
       "Bs.As. G.B.A. Zona Sur   PH                                 1.951786e+06   \n",
       "                         apartment                          2.190729e+06   \n",
       "                         house                              4.417092e+06   \n",
       "                         store                              6.924811e+06   \n",
       "Capital Federal          PH                                 3.342457e+06   \n",
       "                         apartment                          4.329024e+06   \n",
       "                         house                              8.844615e+06   \n",
       "                         store                              9.086568e+06   \n",
       "\n",
       "                                        price_aprox_usd_nuevo  \\\n",
       "state_name               property_type                          \n",
       "Bs.As. G.B.A. Zona Norte PH                     136045.021789   \n",
       "                         apartment              201112.905033   \n",
       "                         house                  426326.612906   \n",
       "                         store                  550360.608254   \n",
       "Bs.As. G.B.A. Zona Oeste PH                     110474.792761   \n",
       "                         apartment              114465.668528   \n",
       "                         house                  218529.773389   \n",
       "                         store                  404753.043005   \n",
       "Bs.As. G.B.A. Zona Sur   PH                     110617.264765   \n",
       "                         apartment              124159.305376   \n",
       "                         house                  250338.176161   \n",
       "                         store                  392462.840389   \n",
       "Capital Federal          PH                     189433.372960   \n",
       "                         apartment              245346.918178   \n",
       "                         house                  501267.519862   \n",
       "                         store                  514980.211471   \n",
       "\n",
       "                                        surface_total_in_m2_nuevo  \\\n",
       "state_name               property_type                              \n",
       "Bs.As. G.B.A. Zona Norte PH                            113.738170   \n",
       "                         apartment                      86.988362   \n",
       "                         house                         492.580593   \n",
       "                         store                         734.090680   \n",
       "Bs.As. G.B.A. Zona Oeste PH                            113.901804   \n",
       "                         apartment                      64.846979   \n",
       "                         house                         390.288737   \n",
       "                         store                         635.594595   \n",
       "Bs.As. G.B.A. Zona Sur   PH                            118.083333   \n",
       "                         apartment                      78.923514   \n",
       "                         house                         340.373672   \n",
       "                         store                         870.407524   \n",
       "Capital Federal          PH                            128.894372   \n",
       "                         apartment                      87.589017   \n",
       "                         house                         460.640803   \n",
       "                         store                         298.863850   \n",
       "\n",
       "                                        surface_covered_in_m2_nuevo  \\\n",
       "state_name               property_type                                \n",
       "Bs.As. G.B.A. Zona Norte PH                               85.288229   \n",
       "                         apartment                        74.610631   \n",
       "                         house                           247.839224   \n",
       "                         store                           712.510848   \n",
       "Bs.As. G.B.A. Zona Oeste PH                               88.967593   \n",
       "                         apartment                        54.716597   \n",
       "                         house                           174.512000   \n",
       "                         store                           527.875622   \n",
       "Bs.As. G.B.A. Zona Sur   PH                               82.323052   \n",
       "                         apartment                        67.296882   \n",
       "                         house                           196.384256   \n",
       "                         store                           537.620853   \n",
       "Capital Federal          PH                               91.915493   \n",
       "                         apartment                        79.353843   \n",
       "                         house                           248.990302   \n",
       "                         store                           263.112999   \n",
       "\n",
       "                                        price_usd_per_m2_nuevo  \\\n",
       "state_name               property_type                           \n",
       "Bs.As. G.B.A. Zona Norte PH                                inf   \n",
       "                         apartment                         inf   \n",
       "                         house                             inf   \n",
       "                         store                             inf   \n",
       "Bs.As. G.B.A. Zona Oeste PH                        1261.384312   \n",
       "                         apartment                         inf   \n",
       "                         house                             inf   \n",
       "                         store                     1637.854430   \n",
       "Bs.As. G.B.A. Zona Sur   PH                        1267.096091   \n",
       "                         apartment                 3392.407775   \n",
       "                         house                     1224.997905   \n",
       "                         store                     1770.997026   \n",
       "Capital Federal          PH                        1716.129069   \n",
       "                         apartment                         inf   \n",
       "                         house                     1610.097315   \n",
       "                         store                     4068.759524   \n",
       "\n",
       "                                        price_per_m2_nuevo  \n",
       "state_name               property_type                      \n",
       "Bs.As. G.B.A. Zona Norte PH                            inf  \n",
       "                         apartment                     inf  \n",
       "                         house                         inf  \n",
       "                         store                         inf  \n",
       "Bs.As. G.B.A. Zona Oeste PH                   2.159720e+04  \n",
       "                         apartment                     inf  \n",
       "                         house                         inf  \n",
       "                         store                2.747156e+04  \n",
       "Bs.As. G.B.A. Zona Sur   PH                   1.965618e+04  \n",
       "                         apartment            3.334773e+04  \n",
       "                         house                2.054709e+04  \n",
       "                         store                2.719060e+04  \n",
       "Capital Federal          PH                   2.991656e+04  \n",
       "                         apartment                     inf  \n",
       "                         house                2.729078e+04  \n",
       "                         store                5.116318e+04  "
      ]
     },
     "execution_count": 481,
     "metadata": {},
     "output_type": "execute_result"
    }
   ],
   "source": [
    "#\n",
    "group_by_ant = data_amba.groupby(by=['state_name', 'property_type']).mean()\n",
    "group_by_ant"
   ]
  },
  {
   "cell_type": "code",
   "execution_count": 373,
   "metadata": {},
   "outputs": [
    {
     "data": {
      "text/plain": [
       "<seaborn.axisgrid.PairGrid at 0x1aaa87b3788>"
      ]
     },
     "execution_count": 373,
     "metadata": {},
     "output_type": "execute_result"
    },
    {
     "data": {
      "image/png": "[encoded data removed]",
      "text/plain": [
       "<Figure size 701.875x540 with 12 Axes>"
      ]
     },
     "metadata": {
      "needs_background": "light"
     },
     "output_type": "display_data"
    }
   ],
   "source": [
    "sns.pairplot(data_amba.loc[:, ('price_nuevo', 'expenses_nuevo', 'rooms_completo', 'state_name')], hue=\"state_name\")"
   ]
  },
  {
   "cell_type": "code",
   "execution_count": 425,
   "metadata": {},
   "outputs": [
    {
     "data": {
      "text/plain": [
       "<seaborn.axisgrid.PairGrid at 0x1aab6471ec8>"
      ]
     },
     "execution_count": 425,
     "metadata": {},
     "output_type": "execute_result"
    },
    {
     "data": {
      "image/png": "[encoded data removed]",
      "text/plain": [
       "<Figure size 448.5x360 with 6 Axes>"
      ]
     },
     "metadata": {
      "needs_background": "light"
     },
     "output_type": "display_data"
    }
   ],
   "source": [
    "sns.pairplot(data_amba.loc[:, ('price_nuevo', 'rooms_completo',  'property_type')][data_amba.rooms_completo<5], hue=\"property_type\")"
   ]
  },
  {
   "cell_type": "code",
   "execution_count": 374,
   "metadata": {},
   "outputs": [
    {
     "data": {
      "text/html": [
       "<div>\n",
       "<style scoped>\n",
       "    .dataframe tbody tr th:only-of-type {\n",
       "        vertical-align: middle;\n",
       "    }\n",
       "\n",
       "    .dataframe tbody tr th {\n",
       "        vertical-align: top;\n",
       "    }\n",
       "\n",
       "    .dataframe thead th {\n",
       "        text-align: right;\n",
       "    }\n",
       "</style>\n",
       "<table border=\"1\" class=\"dataframe\">\n",
       "  <thead>\n",
       "    <tr style=\"text-align: right;\">\n",
       "      <th></th>\n",
       "      <th>price_nuevo</th>\n",
       "      <th>expenses_nuevo</th>\n",
       "    </tr>\n",
       "  </thead>\n",
       "  <tbody>\n",
       "    <tr>\n",
       "      <th>66</th>\n",
       "      <td>72900.0</td>\n",
       "      <td>1200.0</td>\n",
       "    </tr>\n",
       "    <tr>\n",
       "      <th>98</th>\n",
       "      <td>109900.0</td>\n",
       "      <td>1577.0</td>\n",
       "    </tr>\n",
       "    <tr>\n",
       "      <th>125</th>\n",
       "      <td>NaN</td>\n",
       "      <td>1800.0</td>\n",
       "    </tr>\n",
       "    <tr>\n",
       "      <th>266</th>\n",
       "      <td>135000.0</td>\n",
       "      <td>1800.0</td>\n",
       "    </tr>\n",
       "    <tr>\n",
       "      <th>272</th>\n",
       "      <td>143000.0</td>\n",
       "      <td>1000.0</td>\n",
       "    </tr>\n",
       "    <tr>\n",
       "      <th>...</th>\n",
       "      <td>...</td>\n",
       "      <td>...</td>\n",
       "    </tr>\n",
       "    <tr>\n",
       "      <th>121208</th>\n",
       "      <td>NaN</td>\n",
       "      <td>0.0</td>\n",
       "    </tr>\n",
       "    <tr>\n",
       "      <th>121210</th>\n",
       "      <td>NaN</td>\n",
       "      <td>0.0</td>\n",
       "    </tr>\n",
       "    <tr>\n",
       "      <th>121212</th>\n",
       "      <td>NaN</td>\n",
       "      <td>0.0</td>\n",
       "    </tr>\n",
       "    <tr>\n",
       "      <th>121213</th>\n",
       "      <td>NaN</td>\n",
       "      <td>0.0</td>\n",
       "    </tr>\n",
       "    <tr>\n",
       "      <th>121216</th>\n",
       "      <td>498000.0</td>\n",
       "      <td>0.0</td>\n",
       "    </tr>\n",
       "  </tbody>\n",
       "</table>\n",
       "<p>81150 rows × 2 columns</p>\n",
       "</div>"
      ],
      "text/plain": [
       "        price_nuevo  expenses_nuevo\n",
       "66          72900.0          1200.0\n",
       "98         109900.0          1577.0\n",
       "125             NaN          1800.0\n",
       "266        135000.0          1800.0\n",
       "272        143000.0          1000.0\n",
       "...             ...             ...\n",
       "121208          NaN             0.0\n",
       "121210          NaN             0.0\n",
       "121212          NaN             0.0\n",
       "121213          NaN             0.0\n",
       "121216     498000.0             0.0\n",
       "\n",
       "[81150 rows x 2 columns]"
      ]
     },
     "execution_count": 374,
     "metadata": {},
     "output_type": "execute_result"
    }
   ],
   "source": [
    "data_amba.loc[:, ('price_nuevo', 'expenses_nuevo')]"
   ]
  },
  {
   "cell_type": "code",
   "execution_count": 375,
   "metadata": {},
   "outputs": [
    {
     "data": {
      "image/png": "[encoded data removed]",
      "text/plain": [
       "<Figure size 512.25x360 with 1 Axes>"
      ]
     },
     "metadata": {},
     "output_type": "display_data"
    }
   ],
   "source": [
    "with sns.axes_style(style='ticks'):\n",
    "    g = sns.catplot(\"property_type\", \"price_nuevo\", \"state_name\", data=data_amba, kind=\"box\")\n",
    "    g.set_axis_labels(\"Tipo de vivienda\", \"Precio de vivienda\");"
   ]
  },
  {
   "cell_type": "code",
   "execution_count": 376,
   "metadata": {},
   "outputs": [
    {
     "data": {
      "image/png": "[encoded data removed]",
      "text/plain": [
       "<Figure size 432x432 with 3 Axes>"
      ]
     },
     "metadata": {
      "needs_background": "light"
     },
     "output_type": "display_data"
    }
   ],
   "source": [
    "sns.jointplot(x=\"price_nuevo\", y=\"expenses_nuevo\", data=data_amba, kind=\"kde\");"
   ]
  },
  {
   "cell_type": "code",
   "execution_count": 491,
   "metadata": {},
   "outputs": [
    {
     "data": {
      "text/plain": [
       "CAPITAL-FED    32316\n",
       "GBA-NORTE      25560\n",
       "GBA-SUR        13952\n",
       "GBA-OESTE       9322\n",
       "Name: state_name, dtype: int64"
      ]
     },
     "execution_count": 491,
     "metadata": {},
     "output_type": "execute_result"
    }
   ],
   "source": [
    "data_amba.loc[:,\"state_name\"].replace({'state_name':{'Bs.As. G.B.A. Zona Norte':'GBA-NORTE','Bs.As. G.B.A. Zona Oeste':'GBA-OESTE',\\\n",
    "                                'Capital Federal':'CAPITAL-FED','Bs.As. G.B.A. Zona Sur':'GBA-SUR'}}, inplace=True)\n",
    "data_amba.state_name.value_counts()"
   ]
  },
  {
   "cell_type": "code",
   "execution_count": 499,
   "metadata": {},
   "outputs": [],
   "source": [
    "data_amba.loc[:,\"AMENITIES\"]=False"
   ]
  },
  {
   "cell_type": "code",
   "execution_count": 500,
   "metadata": {},
   "outputs": [],
   "source": [
    "mask = (data_amba.loc[:,\"PARRILLA\"]==True) & (data_amba.loc[:,\"PATIO_JARDIN\"]==True) & (data_amba.loc[:,\"PILETA\"]==True)"
   ]
  },
  {
   "cell_type": "code",
   "execution_count": 501,
   "metadata": {},
   "outputs": [],
   "source": [
    "data_amba.loc[mask,\"AMENITIES\"] = True"
   ]
  },
  {
   "cell_type": "code",
   "execution_count": 502,
   "metadata": {},
   "outputs": [
    {
     "data": {
      "text/html": [
       "<div>\n",
       "<style scoped>\n",
       "    .dataframe tbody tr th:only-of-type {\n",
       "        vertical-align: middle;\n",
       "    }\n",
       "\n",
       "    .dataframe tbody tr th {\n",
       "        vertical-align: top;\n",
       "    }\n",
       "\n",
       "    .dataframe thead th {\n",
       "        text-align: right;\n",
       "    }\n",
       "</style>\n",
       "<table border=\"1\" class=\"dataframe\">\n",
       "  <thead>\n",
       "    <tr style=\"text-align: right;\">\n",
       "      <th></th>\n",
       "      <th>property_type</th>\n",
       "      <th>place_name</th>\n",
       "      <th>state_name</th>\n",
       "      <th>description</th>\n",
       "      <th>title</th>\n",
       "      <th>rooms_completo</th>\n",
       "      <th>PILETA</th>\n",
       "      <th>PARRILLA</th>\n",
       "      <th>PATIO_JARDIN</th>\n",
       "      <th>expenses_bool</th>\n",
       "      <th>...</th>\n",
       "      <th>surface_covered_in_m2_nuevo</th>\n",
       "      <th>price_usd_per_m2_nuevo</th>\n",
       "      <th>price_per_m2_nuevo</th>\n",
       "      <th>pais</th>\n",
       "      <th>provincia</th>\n",
       "      <th>localidad</th>\n",
       "      <th>zona</th>\n",
       "      <th>barrio</th>\n",
       "      <th>lugar</th>\n",
       "      <th>AMENITIES</th>\n",
       "    </tr>\n",
       "  </thead>\n",
       "  <tbody>\n",
       "    <tr>\n",
       "      <th>66</th>\n",
       "      <td>apartment</td>\n",
       "      <td>Boedo</td>\n",
       "      <td>CAPITAL-FED</td>\n",
       "      <td>CODIGO: 5 ubicado en: Avenida Independencia 26...</td>\n",
       "      <td>DEPARTAMENTO NUEVO, DE UN AMBIENTE amplio, 3 A...</td>\n",
       "      <td>0.0</td>\n",
       "      <td>False</td>\n",
       "      <td>False</td>\n",
       "      <td>False</td>\n",
       "      <td>SI</td>\n",
       "      <td>...</td>\n",
       "      <td>NaN</td>\n",
       "      <td>1918.421053</td>\n",
       "      <td>33849.580263</td>\n",
       "      <td>Argentina</td>\n",
       "      <td>Bs.As. G.B.A. Zona Oeste</td>\n",
       "      <td>Hurlingham</td>\n",
       "      <td>Hurlingham</td>\n",
       "      <td>Hurlingham</td>\n",
       "      <td>Hurlingham</td>\n",
       "      <td>False</td>\n",
       "    </tr>\n",
       "    <tr>\n",
       "      <th>98</th>\n",
       "      <td>apartment</td>\n",
       "      <td>Almagro</td>\n",
       "      <td>CAPITAL-FED</td>\n",
       "      <td>Venta de Departamento 2 AMBIENTES en Almagro, ...</td>\n",
       "      <td>DEPARTAMENTO EN VENTA</td>\n",
       "      <td>2.0</td>\n",
       "      <td>False</td>\n",
       "      <td>True</td>\n",
       "      <td>True</td>\n",
       "      <td>SI</td>\n",
       "      <td>...</td>\n",
       "      <td>40.0</td>\n",
       "      <td>2198.000000</td>\n",
       "      <td>38782.611000</td>\n",
       "      <td>Argentina</td>\n",
       "      <td>Capital Federal</td>\n",
       "      <td>Palermo</td>\n",
       "      <td>Palermo Soho</td>\n",
       "      <td>Palermo Soho</td>\n",
       "      <td>Palermo Soho</td>\n",
       "      <td>False</td>\n",
       "    </tr>\n",
       "    <tr>\n",
       "      <th>125</th>\n",
       "      <td>apartment</td>\n",
       "      <td>Bs.As. G.B.A. Zona Sur</td>\n",
       "      <td>GBA-SUR</td>\n",
       "      <td>CODIGO: 438-12112 ubicado en: test de prueba -...</td>\n",
       "      <td>RUGGIERI</td>\n",
       "      <td>0.0</td>\n",
       "      <td>False</td>\n",
       "      <td>False</td>\n",
       "      <td>False</td>\n",
       "      <td>SI</td>\n",
       "      <td>...</td>\n",
       "      <td>NaN</td>\n",
       "      <td>NaN</td>\n",
       "      <td>NaN</td>\n",
       "      <td>Argentina</td>\n",
       "      <td>Buenos Aires Costa Atlántica</td>\n",
       "      <td>Mar del Plata</td>\n",
       "      <td>Mar del Plata</td>\n",
       "      <td>Mar del Plata</td>\n",
       "      <td>Mar del Plata</td>\n",
       "      <td>False</td>\n",
       "    </tr>\n",
       "    <tr>\n",
       "      <th>266</th>\n",
       "      <td>apartment</td>\n",
       "      <td>Palermo Hollywood</td>\n",
       "      <td>CAPITAL-FED</td>\n",
       "      <td>CODIGO:  ubicado en: Avenida Santa Fe 5000 -  ...</td>\n",
       "      <td>Av. Santa Fe 5000 - 2 amb - Palermo Hollywood</td>\n",
       "      <td>1.0</td>\n",
       "      <td>False</td>\n",
       "      <td>False</td>\n",
       "      <td>False</td>\n",
       "      <td>SI</td>\n",
       "      <td>...</td>\n",
       "      <td>41.0</td>\n",
       "      <td>2872.340426</td>\n",
       "      <td>50681.010638</td>\n",
       "      <td>Argentina</td>\n",
       "      <td>Capital Federal</td>\n",
       "      <td>Centro / Microcentro</td>\n",
       "      <td>Centro / Microcentro</td>\n",
       "      <td>Centro / Microcentro</td>\n",
       "      <td>Centro / Microcentro</td>\n",
       "      <td>False</td>\n",
       "    </tr>\n",
       "    <tr>\n",
       "      <th>272</th>\n",
       "      <td>apartment</td>\n",
       "      <td>Castelar</td>\n",
       "      <td>GBA-OESTE</td>\n",
       "      <td>CODIGO:  ubicado en: Monteverde 504 -  Publica...</td>\n",
       "      <td>Departamento 3 Ambientes Venta Castelar Sur</td>\n",
       "      <td>1.0</td>\n",
       "      <td>False</td>\n",
       "      <td>False</td>\n",
       "      <td>False</td>\n",
       "      <td>SI</td>\n",
       "      <td>...</td>\n",
       "      <td>62.0</td>\n",
       "      <td>2166.666667</td>\n",
       "      <td>38229.750000</td>\n",
       "      <td>Argentina</td>\n",
       "      <td>Bs.As. G.B.A. Zona Norte</td>\n",
       "      <td>Vicente López</td>\n",
       "      <td>Vicente López</td>\n",
       "      <td>Vicente López</td>\n",
       "      <td>Vicente López</td>\n",
       "      <td>False</td>\n",
       "    </tr>\n",
       "    <tr>\n",
       "      <th>...</th>\n",
       "      <td>...</td>\n",
       "      <td>...</td>\n",
       "      <td>...</td>\n",
       "      <td>...</td>\n",
       "      <td>...</td>\n",
       "      <td>...</td>\n",
       "      <td>...</td>\n",
       "      <td>...</td>\n",
       "      <td>...</td>\n",
       "      <td>...</td>\n",
       "      <td>...</td>\n",
       "      <td>...</td>\n",
       "      <td>...</td>\n",
       "      <td>...</td>\n",
       "      <td>...</td>\n",
       "      <td>...</td>\n",
       "      <td>...</td>\n",
       "      <td>...</td>\n",
       "      <td>...</td>\n",
       "      <td>...</td>\n",
       "      <td>...</td>\n",
       "    </tr>\n",
       "    <tr>\n",
       "      <th>121208</th>\n",
       "      <td>house</td>\n",
       "      <td>Escobar</td>\n",
       "      <td>GBA-NORTE</td>\n",
       "      <td>Puertos- Barrio Vistas - L. 88Casa en venta so...</td>\n",
       "      <td>Casa  en venta Puertos, barrio Vistas</td>\n",
       "      <td>1.0</td>\n",
       "      <td>False</td>\n",
       "      <td>True</td>\n",
       "      <td>False</td>\n",
       "      <td>NO</td>\n",
       "      <td>...</td>\n",
       "      <td>178.0</td>\n",
       "      <td>NaN</td>\n",
       "      <td>NaN</td>\n",
       "      <td>Argentina</td>\n",
       "      <td>Capital Federal</td>\n",
       "      <td>Belgrano</td>\n",
       "      <td>Belgrano</td>\n",
       "      <td>Belgrano</td>\n",
       "      <td>Belgrano</td>\n",
       "      <td>False</td>\n",
       "    </tr>\n",
       "    <tr>\n",
       "      <th>121210</th>\n",
       "      <td>house</td>\n",
       "      <td>Martínez</td>\n",
       "      <td>GBA-NORTE</td>\n",
       "      <td>Dos viviendas en block en excelente ubicación ...</td>\n",
       "      <td>Casa - Martinez</td>\n",
       "      <td>1.0</td>\n",
       "      <td>False</td>\n",
       "      <td>False</td>\n",
       "      <td>False</td>\n",
       "      <td>NO</td>\n",
       "      <td>...</td>\n",
       "      <td>120.0</td>\n",
       "      <td>NaN</td>\n",
       "      <td>NaN</td>\n",
       "      <td>Argentina</td>\n",
       "      <td>Capital Federal</td>\n",
       "      <td>Caballito</td>\n",
       "      <td>Caballito</td>\n",
       "      <td>Caballito</td>\n",
       "      <td>Caballito</td>\n",
       "      <td>False</td>\n",
       "    </tr>\n",
       "    <tr>\n",
       "      <th>121212</th>\n",
       "      <td>house</td>\n",
       "      <td>Acassuso</td>\n",
       "      <td>GBA-NORTE</td>\n",
       "      <td>ESPECTACULAR CASA ESTILO RACIONALISTA EN CALLE...</td>\n",
       "      <td>Casa - Acassuso</td>\n",
       "      <td>2.0</td>\n",
       "      <td>True</td>\n",
       "      <td>False</td>\n",
       "      <td>False</td>\n",
       "      <td>NO</td>\n",
       "      <td>...</td>\n",
       "      <td>420.0</td>\n",
       "      <td>NaN</td>\n",
       "      <td>NaN</td>\n",
       "      <td>Argentina</td>\n",
       "      <td>Bs.As. G.B.A. Zona Norte</td>\n",
       "      <td>Pilar</td>\n",
       "      <td>Pilar</td>\n",
       "      <td>Pilar</td>\n",
       "      <td>Pilar</td>\n",
       "      <td>False</td>\n",
       "    </tr>\n",
       "    <tr>\n",
       "      <th>121213</th>\n",
       "      <td>house</td>\n",
       "      <td>Martínez</td>\n",
       "      <td>GBA-NORTE</td>\n",
       "      <td>EXCELENTE casa en Martinez. Inmejorable ubicai...</td>\n",
       "      <td>Casa - Martinez</td>\n",
       "      <td>2.0</td>\n",
       "      <td>True</td>\n",
       "      <td>False</td>\n",
       "      <td>False</td>\n",
       "      <td>NO</td>\n",
       "      <td>...</td>\n",
       "      <td>600.0</td>\n",
       "      <td>NaN</td>\n",
       "      <td>NaN</td>\n",
       "      <td>Argentina</td>\n",
       "      <td>Bs.As. G.B.A. Zona Norte</td>\n",
       "      <td>Pilar</td>\n",
       "      <td>Pilar</td>\n",
       "      <td>Pilar</td>\n",
       "      <td>Pilar</td>\n",
       "      <td>False</td>\n",
       "    </tr>\n",
       "    <tr>\n",
       "      <th>121216</th>\n",
       "      <td>house</td>\n",
       "      <td>Beccar</td>\n",
       "      <td>GBA-NORTE</td>\n",
       "      <td>Excelente e impecable casa en Venta en Las Lom...</td>\n",
       "      <td>Ruca Inmuebles | Venta | Lomas de San Isidro |...</td>\n",
       "      <td>1.0</td>\n",
       "      <td>True</td>\n",
       "      <td>True</td>\n",
       "      <td>True</td>\n",
       "      <td>NO</td>\n",
       "      <td>...</td>\n",
       "      <td>360.0</td>\n",
       "      <td>1383.333333</td>\n",
       "      <td>24408.225000</td>\n",
       "      <td>Argentina</td>\n",
       "      <td>Bs.As. G.B.A. Zona Norte</td>\n",
       "      <td>San Isidro</td>\n",
       "      <td>Martínez</td>\n",
       "      <td>Martínez</td>\n",
       "      <td>Martínez</td>\n",
       "      <td>True</td>\n",
       "    </tr>\n",
       "  </tbody>\n",
       "</table>\n",
       "<p>81150 rows × 34 columns</p>\n",
       "</div>"
      ],
      "text/plain": [
       "       property_type              place_name   state_name  \\\n",
       "66         apartment                   Boedo  CAPITAL-FED   \n",
       "98         apartment                 Almagro  CAPITAL-FED   \n",
       "125        apartment  Bs.As. G.B.A. Zona Sur      GBA-SUR   \n",
       "266        apartment       Palermo Hollywood  CAPITAL-FED   \n",
       "272        apartment                Castelar    GBA-OESTE   \n",
       "...              ...                     ...          ...   \n",
       "121208         house                 Escobar    GBA-NORTE   \n",
       "121210         house                Martínez    GBA-NORTE   \n",
       "121212         house                Acassuso    GBA-NORTE   \n",
       "121213         house                Martínez    GBA-NORTE   \n",
       "121216         house                  Beccar    GBA-NORTE   \n",
       "\n",
       "                                              description  \\\n",
       "66      CODIGO: 5 ubicado en: Avenida Independencia 26...   \n",
       "98      Venta de Departamento 2 AMBIENTES en Almagro, ...   \n",
       "125     CODIGO: 438-12112 ubicado en: test de prueba -...   \n",
       "266     CODIGO:  ubicado en: Avenida Santa Fe 5000 -  ...   \n",
       "272     CODIGO:  ubicado en: Monteverde 504 -  Publica...   \n",
       "...                                                   ...   \n",
       "121208  Puertos- Barrio Vistas - L. 88Casa en venta so...   \n",
       "121210  Dos viviendas en block en excelente ubicación ...   \n",
       "121212  ESPECTACULAR CASA ESTILO RACIONALISTA EN CALLE...   \n",
       "121213  EXCELENTE casa en Martinez. Inmejorable ubicai...   \n",
       "121216  Excelente e impecable casa en Venta en Las Lom...   \n",
       "\n",
       "                                                    title  rooms_completo  \\\n",
       "66      DEPARTAMENTO NUEVO, DE UN AMBIENTE amplio, 3 A...             0.0   \n",
       "98                                  DEPARTAMENTO EN VENTA             2.0   \n",
       "125                                              RUGGIERI             0.0   \n",
       "266        Av. Santa Fe 5000 - 2 amb - Palermo Hollywood              1.0   \n",
       "272           Departamento 3 Ambientes Venta Castelar Sur             1.0   \n",
       "...                                                   ...             ...   \n",
       "121208              Casa  en venta Puertos, barrio Vistas             1.0   \n",
       "121210                                    Casa - Martinez             1.0   \n",
       "121212                                    Casa - Acassuso             2.0   \n",
       "121213                                    Casa - Martinez             2.0   \n",
       "121216  Ruca Inmuebles | Venta | Lomas de San Isidro |...             1.0   \n",
       "\n",
       "        PILETA  PARRILLA  PATIO_JARDIN expenses_bool  ...  \\\n",
       "66       False     False         False            SI  ...   \n",
       "98       False      True          True            SI  ...   \n",
       "125      False     False         False            SI  ...   \n",
       "266      False     False         False            SI  ...   \n",
       "272      False     False         False            SI  ...   \n",
       "...        ...       ...           ...           ...  ...   \n",
       "121208   False      True         False            NO  ...   \n",
       "121210   False     False         False            NO  ...   \n",
       "121212    True     False         False            NO  ...   \n",
       "121213    True     False         False            NO  ...   \n",
       "121216    True      True          True            NO  ...   \n",
       "\n",
       "        surface_covered_in_m2_nuevo  price_usd_per_m2_nuevo  \\\n",
       "66                              NaN             1918.421053   \n",
       "98                             40.0             2198.000000   \n",
       "125                             NaN                     NaN   \n",
       "266                            41.0             2872.340426   \n",
       "272                            62.0             2166.666667   \n",
       "...                             ...                     ...   \n",
       "121208                        178.0                     NaN   \n",
       "121210                        120.0                     NaN   \n",
       "121212                        420.0                     NaN   \n",
       "121213                        600.0                     NaN   \n",
       "121216                        360.0             1383.333333   \n",
       "\n",
       "       price_per_m2_nuevo       pais                     provincia  \\\n",
       "66           33849.580263  Argentina      Bs.As. G.B.A. Zona Oeste   \n",
       "98           38782.611000  Argentina               Capital Federal   \n",
       "125                   NaN  Argentina  Buenos Aires Costa Atlántica   \n",
       "266          50681.010638  Argentina               Capital Federal   \n",
       "272          38229.750000  Argentina      Bs.As. G.B.A. Zona Norte   \n",
       "...                   ...        ...                           ...   \n",
       "121208                NaN  Argentina               Capital Federal   \n",
       "121210                NaN  Argentina               Capital Federal   \n",
       "121212                NaN  Argentina      Bs.As. G.B.A. Zona Norte   \n",
       "121213                NaN  Argentina      Bs.As. G.B.A. Zona Norte   \n",
       "121216       24408.225000  Argentina      Bs.As. G.B.A. Zona Norte   \n",
       "\n",
       "                   localidad                  zona                barrio  \\\n",
       "66                Hurlingham            Hurlingham            Hurlingham   \n",
       "98                   Palermo          Palermo Soho          Palermo Soho   \n",
       "125            Mar del Plata         Mar del Plata         Mar del Plata   \n",
       "266     Centro / Microcentro  Centro / Microcentro  Centro / Microcentro   \n",
       "272            Vicente López         Vicente López         Vicente López   \n",
       "...                      ...                   ...                   ...   \n",
       "121208              Belgrano              Belgrano              Belgrano   \n",
       "121210             Caballito             Caballito             Caballito   \n",
       "121212                 Pilar                 Pilar                 Pilar   \n",
       "121213                 Pilar                 Pilar                 Pilar   \n",
       "121216            San Isidro              Martínez              Martínez   \n",
       "\n",
       "                       lugar  AMENITIES  \n",
       "66                Hurlingham      False  \n",
       "98              Palermo Soho      False  \n",
       "125            Mar del Plata      False  \n",
       "266     Centro / Microcentro      False  \n",
       "272            Vicente López      False  \n",
       "...                      ...        ...  \n",
       "121208              Belgrano      False  \n",
       "121210             Caballito      False  \n",
       "121212                 Pilar      False  \n",
       "121213                 Pilar      False  \n",
       "121216              Martínez       True  \n",
       "\n",
       "[81150 rows x 34 columns]"
      ]
     },
     "execution_count": 502,
     "metadata": {},
     "output_type": "execute_result"
    }
   ],
   "source": [
    "data_amba"
   ]
  },
  {
   "cell_type": "code",
   "execution_count": 507,
   "metadata": {},
   "outputs": [
    {
     "data": {
      "text/html": [
       "<div>\n",
       "<style scoped>\n",
       "    .dataframe tbody tr th:only-of-type {\n",
       "        vertical-align: middle;\n",
       "    }\n",
       "\n",
       "    .dataframe tbody tr th {\n",
       "        vertical-align: top;\n",
       "    }\n",
       "\n",
       "    .dataframe thead th {\n",
       "        text-align: right;\n",
       "    }\n",
       "</style>\n",
       "<table border=\"1\" class=\"dataframe\">\n",
       "  <thead>\n",
       "    <tr style=\"text-align: right;\">\n",
       "      <th></th>\n",
       "      <th>place_name</th>\n",
       "      <th>price_nuevo</th>\n",
       "      <th>rooms_completo</th>\n",
       "    </tr>\n",
       "    <tr>\n",
       "      <th>state_name</th>\n",
       "      <th></th>\n",
       "      <th></th>\n",
       "      <th></th>\n",
       "    </tr>\n",
       "  </thead>\n",
       "  <tbody>\n",
       "    <tr>\n",
       "      <th>GBA-NORTE</th>\n",
       "      <td>Country Maschwitz Club</td>\n",
       "      <td>311666.666667</td>\n",
       "      <td>1.333333</td>\n",
       "    </tr>\n",
       "    <tr>\n",
       "      <th>GBA-NORTE</th>\n",
       "      <td>los alamos</td>\n",
       "      <td>81600.000000</td>\n",
       "      <td>1.000000</td>\n",
       "    </tr>\n",
       "    <tr>\n",
       "      <th>GBA-SUR</th>\n",
       "      <td>9 de Abril</td>\n",
       "      <td>270000.000000</td>\n",
       "      <td>0.333333</td>\n",
       "    </tr>\n",
       "    <tr>\n",
       "      <th>CAPITAL-FED</th>\n",
       "      <td>Abasto</td>\n",
       "      <td>179511.039604</td>\n",
       "      <td>1.485149</td>\n",
       "    </tr>\n",
       "    <tr>\n",
       "      <th>GBA-SUR</th>\n",
       "      <td>Abasto</td>\n",
       "      <td>130000.000000</td>\n",
       "      <td>0.875000</td>\n",
       "    </tr>\n",
       "    <tr>\n",
       "      <th>...</th>\n",
       "      <td>...</td>\n",
       "      <td>...</td>\n",
       "      <td>...</td>\n",
       "    </tr>\n",
       "    <tr>\n",
       "      <th>GBA-NORTE</th>\n",
       "      <td>Virreyes</td>\n",
       "      <td>144719.512195</td>\n",
       "      <td>1.243902</td>\n",
       "    </tr>\n",
       "    <tr>\n",
       "      <th>GBA-SUR</th>\n",
       "      <td>Wilde</td>\n",
       "      <td>132862.307692</td>\n",
       "      <td>1.400000</td>\n",
       "    </tr>\n",
       "    <tr>\n",
       "      <th>GBA-OESTE</th>\n",
       "      <td>William Morris</td>\n",
       "      <td>210000.000000</td>\n",
       "      <td>3.000000</td>\n",
       "    </tr>\n",
       "    <tr>\n",
       "      <th>GBA-NORTE</th>\n",
       "      <td>Zelaya</td>\n",
       "      <td>129857.142857</td>\n",
       "      <td>0.857143</td>\n",
       "    </tr>\n",
       "    <tr>\n",
       "      <th>GBA-NORTE</th>\n",
       "      <td>coordenadas 34.255511</td>\n",
       "      <td>550000.000000</td>\n",
       "      <td>0.000000</td>\n",
       "    </tr>\n",
       "  </tbody>\n",
       "</table>\n",
       "<p>524 rows × 3 columns</p>\n",
       "</div>"
      ],
      "text/plain": [
       "                          place_name    price_nuevo  rooms_completo\n",
       "state_name                                                         \n",
       "GBA-NORTE     Country Maschwitz Club  311666.666667        1.333333\n",
       "GBA-NORTE                 los alamos   81600.000000        1.000000\n",
       "GBA-SUR                   9 de Abril  270000.000000        0.333333\n",
       "CAPITAL-FED                   Abasto  179511.039604        1.485149\n",
       "GBA-SUR                       Abasto  130000.000000        0.875000\n",
       "...                              ...            ...             ...\n",
       "GBA-NORTE                   Virreyes  144719.512195        1.243902\n",
       "GBA-SUR                        Wilde  132862.307692        1.400000\n",
       "GBA-OESTE             William Morris  210000.000000        3.000000\n",
       "GBA-NORTE                     Zelaya  129857.142857        0.857143\n",
       "GBA-NORTE      coordenadas 34.255511  550000.000000        0.000000\n",
       "\n",
       "[524 rows x 3 columns]"
      ]
     },
     "execution_count": 507,
     "metadata": {},
     "output_type": "execute_result"
    }
   ],
   "source": [
    "#data_amba_group= data_amba.groupby([\"place_name\",\"state_name\"])\n",
    "data_amba_filtr = data_amba[(data_amba.property_type !=\"local\")]\n",
    "data_amba_filtrada = data_amba_filtr[data_amba_filtr.price_nuevo>6850]\n",
    "# data_amba_filtrada\n",
    "data_amba_group= data_amba_filtrada.groupby([\"place_name\",\"state_name\"])\n",
    "precio_promedio = data_amba_group[[\"price_nuevo\",\"rooms_completo\"]].mean()\n",
    "precio_promedio.reset_index(level=0, inplace=True)\n",
    "# precio_promedio.reset_index(level=0, inplace=True)\n",
    "precio_promedio"
   ]
  },
  {
   "cell_type": "code",
   "execution_count": 509,
   "metadata": {},
   "outputs": [],
   "source": [
    "precio_promedio.reset_index(level=0, inplace=True)"
   ]
  },
  {
   "cell_type": "code",
   "execution_count": 510,
   "metadata": {},
   "outputs": [
    {
     "data": {
      "text/html": [
       "<div>\n",
       "<style scoped>\n",
       "    .dataframe tbody tr th:only-of-type {\n",
       "        vertical-align: middle;\n",
       "    }\n",
       "\n",
       "    .dataframe tbody tr th {\n",
       "        vertical-align: top;\n",
       "    }\n",
       "\n",
       "    .dataframe thead th {\n",
       "        text-align: right;\n",
       "    }\n",
       "</style>\n",
       "<table border=\"1\" class=\"dataframe\">\n",
       "  <thead>\n",
       "    <tr style=\"text-align: right;\">\n",
       "      <th></th>\n",
       "      <th>state_name</th>\n",
       "      <th>place_name</th>\n",
       "      <th>price_nuevo</th>\n",
       "      <th>rooms_completo</th>\n",
       "    </tr>\n",
       "  </thead>\n",
       "  <tbody>\n",
       "    <tr>\n",
       "      <th>0</th>\n",
       "      <td>GBA-NORTE</td>\n",
       "      <td>Country Maschwitz Club</td>\n",
       "      <td>311666.666667</td>\n",
       "      <td>1.333333</td>\n",
       "    </tr>\n",
       "    <tr>\n",
       "      <th>1</th>\n",
       "      <td>GBA-NORTE</td>\n",
       "      <td>los alamos</td>\n",
       "      <td>81600.000000</td>\n",
       "      <td>1.000000</td>\n",
       "    </tr>\n",
       "    <tr>\n",
       "      <th>2</th>\n",
       "      <td>GBA-SUR</td>\n",
       "      <td>9 de Abril</td>\n",
       "      <td>270000.000000</td>\n",
       "      <td>0.333333</td>\n",
       "    </tr>\n",
       "    <tr>\n",
       "      <th>3</th>\n",
       "      <td>CAPITAL-FED</td>\n",
       "      <td>Abasto</td>\n",
       "      <td>179511.039604</td>\n",
       "      <td>1.485149</td>\n",
       "    </tr>\n",
       "    <tr>\n",
       "      <th>4</th>\n",
       "      <td>GBA-SUR</td>\n",
       "      <td>Abasto</td>\n",
       "      <td>130000.000000</td>\n",
       "      <td>0.875000</td>\n",
       "    </tr>\n",
       "    <tr>\n",
       "      <th>...</th>\n",
       "      <td>...</td>\n",
       "      <td>...</td>\n",
       "      <td>...</td>\n",
       "      <td>...</td>\n",
       "    </tr>\n",
       "    <tr>\n",
       "      <th>519</th>\n",
       "      <td>GBA-NORTE</td>\n",
       "      <td>Virreyes</td>\n",
       "      <td>144719.512195</td>\n",
       "      <td>1.243902</td>\n",
       "    </tr>\n",
       "    <tr>\n",
       "      <th>520</th>\n",
       "      <td>GBA-SUR</td>\n",
       "      <td>Wilde</td>\n",
       "      <td>132862.307692</td>\n",
       "      <td>1.400000</td>\n",
       "    </tr>\n",
       "    <tr>\n",
       "      <th>521</th>\n",
       "      <td>GBA-OESTE</td>\n",
       "      <td>William Morris</td>\n",
       "      <td>210000.000000</td>\n",
       "      <td>3.000000</td>\n",
       "    </tr>\n",
       "    <tr>\n",
       "      <th>522</th>\n",
       "      <td>GBA-NORTE</td>\n",
       "      <td>Zelaya</td>\n",
       "      <td>129857.142857</td>\n",
       "      <td>0.857143</td>\n",
       "    </tr>\n",
       "    <tr>\n",
       "      <th>523</th>\n",
       "      <td>GBA-NORTE</td>\n",
       "      <td>coordenadas 34.255511</td>\n",
       "      <td>550000.000000</td>\n",
       "      <td>0.000000</td>\n",
       "    </tr>\n",
       "  </tbody>\n",
       "</table>\n",
       "<p>524 rows × 4 columns</p>\n",
       "</div>"
      ],
      "text/plain": [
       "      state_name               place_name    price_nuevo  rooms_completo\n",
       "0      GBA-NORTE   Country Maschwitz Club  311666.666667        1.333333\n",
       "1      GBA-NORTE               los alamos   81600.000000        1.000000\n",
       "2        GBA-SUR               9 de Abril  270000.000000        0.333333\n",
       "3    CAPITAL-FED                   Abasto  179511.039604        1.485149\n",
       "4        GBA-SUR                   Abasto  130000.000000        0.875000\n",
       "..           ...                      ...            ...             ...\n",
       "519    GBA-NORTE                 Virreyes  144719.512195        1.243902\n",
       "520      GBA-SUR                    Wilde  132862.307692        1.400000\n",
       "521    GBA-OESTE           William Morris  210000.000000        3.000000\n",
       "522    GBA-NORTE                   Zelaya  129857.142857        0.857143\n",
       "523    GBA-NORTE    coordenadas 34.255511  550000.000000        0.000000\n",
       "\n",
       "[524 rows x 4 columns]"
      ]
     },
     "execution_count": 510,
     "metadata": {},
     "output_type": "execute_result"
    }
   ],
   "source": [
    "precio_promedio"
   ]
  },
  {
   "cell_type": "code",
   "execution_count": 448,
   "metadata": {},
   "outputs": [],
   "source": [
    "def mostrar_join_plot(data_grafico,zona):\n",
    "    mask_place= data_grafico[\"state_name\"] == zona\n",
    "    print(\"Comparación promedio de rooms vs precio de \",zona)\n",
    "    g = (sns.jointplot(x=\"rooms_completo\", y=\"price_nuevo\",\n",
    "                   data=data_grafico[mask_place], color=\"k\")\n",
    "        .plot_joint(sns.kdeplot, zorder=0, n_levels=10))\n",
    " #   g.ax_marg_x.set_xlim(-1, 4)\n",
    "    return zona"
   ]
  },
  {
   "cell_type": "markdown",
   "metadata": {},
   "source": [
    "Se realiza una comparación del precio según la cantidad de Habitaciones para validar si tienen relación directa. \n",
    "Se separa en zonas geográficas para comparar las variaciones\n"
   ]
  },
  {
   "cell_type": "code",
   "execution_count": 511,
   "metadata": {},
   "outputs": [
    {
     "name": "stdout",
     "output_type": "stream",
     "text": [
      "Comparación promedio de rooms vs precio de  GBA-OESTE\n"
     ]
    },
    {
     "data": {
      "text/plain": [
       "'GBA-OESTE'"
      ]
     },
     "execution_count": 511,
     "metadata": {},
     "output_type": "execute_result"
    },
    {
     "data": {
      "image/png": "[encoded data removed]",
      "text/plain": [
       "<Figure size 432x432 with 3 Axes>"
      ]
     },
     "metadata": {
      "needs_background": "light"
     },
     "output_type": "display_data"
    }
   ],
   "source": [
    "mostrar_join_plot(precio_promedio,'GBA-OESTE')"
   ]
  },
  {
   "cell_type": "code",
   "execution_count": 512,
   "metadata": {},
   "outputs": [
    {
     "name": "stdout",
     "output_type": "stream",
     "text": [
      "Comparación promedio de rooms vs precio de  GBA-NORTE\n"
     ]
    },
    {
     "data": {
      "text/plain": [
       "'GBA-NORTE'"
      ]
     },
     "execution_count": 512,
     "metadata": {},
     "output_type": "execute_result"
    },
    {
     "data": {
      "image/png": "[encoded data removed]",
      "text/plain": [
       "<Figure size 432x432 with 3 Axes>"
      ]
     },
     "metadata": {
      "needs_background": "light"
     },
     "output_type": "display_data"
    }
   ],
   "source": [
    "mostrar_join_plot(precio_promedio,'GBA-NORTE')"
   ]
  },
  {
   "cell_type": "code",
   "execution_count": 513,
   "metadata": {},
   "outputs": [
    {
     "name": "stdout",
     "output_type": "stream",
     "text": [
      "Comparación promedio de rooms vs precio de  CAPITAL-FED\n"
     ]
    },
    {
     "data": {
      "text/plain": [
       "'CAPITAL-FED'"
      ]
     },
     "execution_count": 513,
     "metadata": {},
     "output_type": "execute_result"
    },
    {
     "data": {
      "image/png": "[encoded data removed]",
      "text/plain": [
       "<Figure size 432x432 with 3 Axes>"
      ]
     },
     "metadata": {
      "needs_background": "light"
     },
     "output_type": "display_data"
    }
   ],
   "source": [
    "mostrar_join_plot(precio_promedio,'CAPITAL-FED')"
   ]
  },
  {
   "cell_type": "code",
   "execution_count": 514,
   "metadata": {},
   "outputs": [
    {
     "name": "stdout",
     "output_type": "stream",
     "text": [
      "Comparación promedio de rooms vs precio de  GBA-SUR\n"
     ]
    },
    {
     "data": {
      "text/plain": [
       "'GBA-SUR'"
      ]
     },
     "execution_count": 514,
     "metadata": {},
     "output_type": "execute_result"
    },
    {
     "data": {
      "image/png": "[encoded data removed]",
      "text/plain": [
       "<Figure size 432x432 with 3 Axes>"
      ]
     },
     "metadata": {
      "needs_background": "light"
     },
     "output_type": "display_data"
    }
   ],
   "source": [
    "mostrar_join_plot(precio_promedio,'GBA-SUR')"
   ]
  },
  {
   "cell_type": "code",
   "execution_count": 516,
   "metadata": {},
   "outputs": [
    {
     "data": {
      "image/png": "[encoded data removed]",
      "text/plain": [
       "<Figure size 792x360 with 2 Axes>"
      ]
     },
     "metadata": {
      "needs_background": "light"
     },
     "output_type": "display_data"
    }
   ],
   "source": [
    "g = sns.FacetGrid(data_amba_filtrada, col = \"PATIO_JARDIN\", height=5, aspect=1.1)\n",
    "g.map(sns.barplot, \"state_name\", \"price_nuevo\");"
   ]
  },
  {
   "cell_type": "code",
   "execution_count": 517,
   "metadata": {},
   "outputs": [
    {
     "data": {
      "image/png": "[encoded data removed]",
      "text/plain": [
       "<Figure size 792x360 with 2 Axes>"
      ]
     },
     "metadata": {
      "needs_background": "light"
     },
     "output_type": "display_data"
    }
   ],
   "source": [
    "g = sns.FacetGrid(data_amba_filtrada, col = \"PARRILLA\", height=5, aspect=1.1)\n",
    "g.map(sns.barplot, \"state_name\", \"price_nuevo\");"
   ]
  },
  {
   "cell_type": "code",
   "execution_count": 518,
   "metadata": {},
   "outputs": [
    {
     "data": {
      "image/png": "[encoded data removed]",
      "text/plain": [
       "<Figure size 792x360 with 2 Axes>"
      ]
     },
     "metadata": {
      "needs_background": "light"
     },
     "output_type": "display_data"
    }
   ],
   "source": [
    "g = sns.FacetGrid(data_amba_filtrada, col = \"PILETA\", height=5, aspect=1.1)\n",
    "g.map(sns.barplot, \"state_name\", \"price_nuevo\");"
   ]
  },
  {
   "cell_type": "code",
   "execution_count": 519,
   "metadata": {},
   "outputs": [
    {
     "data": {
      "image/png": "[encoded data removed]",
      "text/plain": [
       "<Figure size 792x360 with 2 Axes>"
      ]
     },
     "metadata": {
      "needs_background": "light"
     },
     "output_type": "display_data"
    }
   ],
   "source": [
    "g = sns.FacetGrid(data_amba_filtrada, col = \"AMENITIES\", height=5, aspect=1.1)\n",
    "g.map(sns.barplot, \"state_name\", \"price_nuevo\");"
   ]
  },
  {
   "cell_type": "code",
   "execution_count": 520,
   "metadata": {},
   "outputs": [
    {
     "data": {
      "image/png": "[encoded data removed]",
      "text/plain": [
       "<Figure size 1152x288 with 4 Axes>"
      ]
     },
     "metadata": {
      "needs_background": "light"
     },
     "output_type": "display_data"
    }
   ],
   "source": [
    "g = sns.FacetGrid(data_amba_filtrada[data_amba_filtrada.rooms_completo<=4], col=\"state_name\", height=4, aspect=1)\n",
    "g = g.map(plt.hist, \"rooms_completo\", bins=5)"
   ]
  },
  {
   "cell_type": "code",
   "execution_count": null,
   "metadata": {},
   "outputs": [],
   "source": [
    "#data_amba[(data_amba.PARRILLA) | (data_amba.PATIO_JARDIN) | (data_amba.PILETA)]\n",
    "# data_amba_filtrada = data_amba[(data_amba.property_type ==\"apartment\") | (data_amba.property_type ==\"house\") | (data_amba.property_type ==\"PH\")]\n",
    "# data_amba_sin_out = data_amba_filtrada[data_amba_filtrada.price_nuevo>685000]\n",
    "# #data_amba_sin_out.loc[:,'price_nuevo'] = data_amba_sin_out.price_nuevo/1000\n",
    "\n",
    "# #data_amba_sin_out.price_nuevo/1000\n",
    "\n",
    "# data_amba_sin_out[\"price_nuevo\"]/1000\n",
    "# # data_amba_amenities= data_amba.groupby([\"place_name\",\"state_name\"])\n",
    "# # precio_promedio_place = data_amba_group[[\"price_nuevo\",\"rooms_completo\"]].mean()\n",
    "# # precio_promedio_place.reset_index(level=0, inplace=True)\n",
    "# # precio_promedio_place.reset_index(level=0, inplace=True)\n",
    "# # precio_promedio_place\n",
    "\n"
   ]
  },
  {
   "cell_type": "code",
   "execution_count": null,
   "metadata": {},
   "outputs": [],
   "source": [
    "data_displot=data_amba_filtrada.pivot_table('price_nuevo', index=\"rooms_completo\", columns='state_name', aggfunc='mean' )\n",
    "#data_displot.reset_index(level=0, inplace=True)\n",
    "data_displot"
   ]
  },
  {
   "cell_type": "code",
   "execution_count": null,
   "metadata": {},
   "outputs": [],
   "source": [
    "for col in data_displot.columns:\n",
    "    sns.kdeplot(data_displot[col], shade=True)"
   ]
  },
  {
   "cell_type": "code",
   "execution_count": null,
   "metadata": {},
   "outputs": [],
   "source": [
    "\n",
    "for col in data_displot.columns:\n",
    "    sns.kdeplot(data_displot[col], shade=True)"
   ]
  },
  {
   "cell_type": "code",
   "execution_count": null,
   "metadata": {},
   "outputs": [],
   "source": []
  },
  {
   "cell_type": "code",
   "execution_count": null,
   "metadata": {},
   "outputs": [],
   "source": [
    "\n",
    "\n",
    "data_amba_plot = data_amba[[\"place_name\",\"rooms_completo\",\"price_nuevo\",\"state_name\"]][(data_amba.property_type ==\"apartment\")]\n",
    "data_amba_plot_group = data_amba_plot.groupby(\"state_name\")\n",
    "data_amba_plot_group.apply(lambda grp: grp)\n",
    "#data_amba_plot.transpose()"
   ]
  },
  {
   "cell_type": "code",
   "execution_count": null,
   "metadata": {},
   "outputs": [],
   "source": [
    "data.state_name[\"price_nuevo\"]"
   ]
  },
  {
   "cell_type": "code",
   "execution_count": 410,
   "metadata": {},
   "outputs": [
    {
     "data": {
      "image/png": "[encoded data removed]",
      "text/plain": [
       "<Figure size 432x288 with 1 Axes>"
      ]
     },
     "metadata": {
      "needs_background": "light"
     },
     "output_type": "display_data"
    }
   ],
   "source": [
    "ax = sns.barplot(x=\"rooms_completo\", y=\"price_nuevo\", hue = \"property_type\", data=data_amba[data_amba.floor_copia<20])"
   ]
  },
  {
   "cell_type": "code",
   "execution_count": null,
   "metadata": {},
   "outputs": [],
   "source": [
    "precio_promedio_plot.reset_index(level=0, inplace=True)\n",
    "precio_promedio_plot.reset_index(level=0, inplace=True)"
   ]
  },
  {
   "cell_type": "code",
   "execution_count": null,
   "metadata": {},
   "outputs": [],
   "source": [
    "precio_promedio_plot"
   ]
  }
 ],
 "metadata": {
  "kernelspec": {
   "display_name": "Python 3",
   "language": "python",
   "name": "python3"
  },
  "language_info": {
   "codemirror_mode": {
    "name": "ipython",
    "version": 3
   },
   "file_extension": ".py",
   "mimetype": "text/x-python",
   "name": "python",
   "nbconvert_exporter": "python",
   "pygments_lexer": "ipython3",
   "version": "3.7.7"
  }
 },
 "nbformat": 4,
 "nbformat_minor": 4
}
