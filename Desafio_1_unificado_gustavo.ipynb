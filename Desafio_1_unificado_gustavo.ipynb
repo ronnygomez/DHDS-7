{
 "cells": [
  {
   "cell_type": "markdown",
   "metadata": {},
   "source": [
    "# Desafío Número 1: Equipo 7"
   ]
  },
  {
   "cell_type": "markdown",
   "metadata": {},
   "source": [
    "<a id=\"section_indice\"></a> \n",
    "## Indice\n",
    "\n",
    "[Introduccion](#section_introduccion)\n",
    "\n",
    "[Dataset](#section_dataset)\n",
    "\n",
    "[Limpieza de datos](#section_limpieza)\n",
    "\n",
    "$\\hspace{.5cm}$[Rooms](#section_limpieza_rooms)\n",
    "  \n",
    "$\\hspace{.5cm}$[Expensas](#section_limpieza_expensas)\n",
    "\n",
    "$\\hspace{.5cm}$[Geonames](#section_limpieza_geonames)\n",
    "\n",
    "$\\hspace{.5cm}$[Pisos](#section_limpieza_pisos)\n",
    "\n",
    "$\\hspace{.5cm}$[Antigüedad](#section_limpieza_antiguedad)\n",
    "\n",
    "$\\hspace{.5cm}$[Precios](#section_limpieza_precios)\n",
    "\n",
    "$\\hspace{.5cm}$[Places](#section_limpieza_places)\n",
    "\n",
    "\n",
    "[Definición de mitos o realidades](#section_mitos_o_realidades)\n",
    "\n",
    "$\\hspace{.5cm}$[Mito o Realidad N° 1: Los inmuebles a estrenar son más caros que los demás](#section_mito_1)\n",
    "\n",
    "$\\hspace{.5cm}$[Mito o Realidad N° 2: Existe una correlación entre el precio del inmueble y las expensas que abonan](#section_mito_2)\n",
    "\n"
   ]
  },
  {
   "cell_type": "markdown",
   "metadata": {},
   "source": [
    "<a id=\"section_introduccion\"></a> \n",
    "\n",
    "## Introducción\n",
    "\n",
    "[volver a Indice](#section_indice)"
   ]
  },
  {
   "cell_type": "markdown",
   "metadata": {},
   "source": [
    "El objetivo del desafío es generar la limpieza de una base de datos de \"Properati\" con observaciones sobre operaciones de venta de inmuebles aparentemente de Argentina.\n",
    "Con el objetivo de visualizar los principales indicadores y responder una serie de preguntas planteadas, se procedió a la estrategia de limpieza.\n",
    "\n",
    "Estrategia de limpieza: Se dividieron las columnas principales del dataset entre los integrantes del equipo, y se procedió a realizar la limpieza con prioridad en los datos existentes, complementando a través de regex los datos encontrados en las columnas \"Title\" y \"Description\".\n"
   ]
  },
  {
   "cell_type": "markdown",
   "metadata": {},
   "source": [
    "<a id=\"section_dataset\"></a> \n",
    "\n",
    "## Dataset\n",
    "\n",
    "[volver a Indice](#section_indice)"
   ]
  },
  {
   "cell_type": "code",
   "execution_count": null,
   "metadata": {},
   "outputs": [],
   "source": [
    "import pandas as pd\n",
    "import numpy as np\n",
    "import re "
   ]
  },
  {
   "cell_type": "code",
   "execution_count": null,
   "metadata": {},
   "outputs": [],
   "source": [
    "#Levantamos el archivo de trabajo\n",
    "data_location = \"../properati.csv\"\n",
    "data = pd.read_csv(data_location, sep=\",\")\n",
    "\n",
    "#Analizamos el tipo de dato de cada variable\n",
    "print(f'Tipo de datos de variables')\n",
    "print(data.dtypes)\n",
    "\n",
    "\n",
    "print('--------------------------------------------')\n",
    "#Analizamos los nulos existentes en cada variable\n",
    "print(f'Porcentaje de variables nulas')\n",
    "nulos = data.isnull()\n",
    "cant_no_nulos = round(nulos.sum()/data.shape[0]*100,2)\n",
    "print(cant_no_nulos)\n",
    "\n",
    "#Vusalizamos las primeras observaciones del data set\n",
    "data.head(3)"
   ]
  },
  {
   "cell_type": "markdown",
   "metadata": {},
   "source": [
    "<a id=\"section_limpieza\"></a> \n",
    "\n",
    "## Limpieza del dataset de Properati\n",
    "\n",
    "[volver a Indice](#section_indice)"
   ]
  },
  {
   "cell_type": "markdown",
   "metadata": {},
   "source": [
    "<a id=\"section_limpieza_rooms\"></a> \n",
    "\n",
    "### Limpieza de columna Rooms\n",
    "\n",
    "[volver a Indice](#section_indice)"
   ]
  },
  {
   "cell_type": "code",
   "execution_count": null,
   "metadata": {},
   "outputs": [],
   "source": [
    "data[\"rooms_completo\"] =data[\"rooms\"]\n",
    "data_room_null_description = data.description.astype(str).str.lower()\n",
    "data_room_null_title = data.title.astype(str).str.lower()\n",
    "display(data_room_null_description)\n",
    "display(data_room_null_title)"
   ]
  },
  {
   "cell_type": "code",
   "execution_count": null,
   "metadata": {},
   "outputs": [],
   "source": [
    "print(\"Primer grupo de filas sin rooms\")\n",
    "data[\"rooms_completo\"].isnull().value_counts()"
   ]
  },
  {
   "cell_type": "markdown",
   "metadata": {},
   "source": [
    "Seteamos los que son monoambientes\n",
    "Primero buscamos las palabras que identifiquen al monoambiente. \n",
    "Luego buscamos las coincidencias dentro del universo de coincidencias del campo descripción\n",
    "donde hubo coincidencias, le asignamos 1. "
   ]
  },
  {
   "cell_type": "code",
   "execution_count": null,
   "metadata": {},
   "outputs": [],
   "source": [
    "def fun_buscar_patt(data_validar,patt_room):\n",
    "    patt_regex = re.compile(patt_room)\n",
    "    data_match = data_validar.apply(lambda x:  x if x is np.NaN else patt_regex.search(x))\n",
    "    return data_match"
   ]
  },
  {
   "cell_type": "code",
   "execution_count": null,
   "metadata": {},
   "outputs": [],
   "source": [
    "def fun_buscar_disminuir(data_room_null_description, patt,restar):\n",
    "    ###se pasa la palabra y se asigna###\n",
    "    data_encontrada= fun_buscar_patt(data_room_null_description,patt)\n",
    "    encontradas = data_encontrada[data_encontrada.notnull()].apply(lambda x: x.group(1))\n",
    "    room_null_mask = data[\"rooms_completo\"].isnull()\n",
    "    data.loc[room_null_mask,\"rooms_completo\"]= encontradas[room_null_mask].apply(lambda x: x if x is np.NaN else (float(x)-restar)).astype(int)\n",
    "    print(\"Disminución en función a los ambientes tipo:\",patt)\n",
    "    result = data[\"rooms_completo\"].isnull().value_counts()\n",
    "    return result"
   ]
  },
  {
   "cell_type": "code",
   "execution_count": null,
   "metadata": {},
   "outputs": [],
   "source": [
    "def fun_buscar_disminuir_mapper(data_room_null_description, patt,restar):\n",
    "    ###se pasa la palabra y se asigna y se mapea el texto###\n",
    "    data_encontrada= fun_buscar_patt(data_room_null_description,patt)\n",
    "    encontradas = data_encontrada[data_encontrada.notnull()].apply(lambda x: x.group(1))\n",
    "    room_null_mask = data[\"rooms_completo\"].isnull()\n",
    "    numcol_cat_mapper = {\n",
    "       'un': 1,'uun':1, 'uno': 1,'dos': 2,'tres': 3,'cuatro':4,\n",
    "        'cinco':5,'sinco':5,'seis':6,'ceis':6,'siete':7,\n",
    "        'ciete':7,'ocho':8,'nueve':9,'diez':10,'once':11,\n",
    "        'doce':12,'trece':13,'catorce':14,'quince':15,\n",
    "        'dieciseis':16,'diecisiete':17,'dieciocho':18,'diecinueve':19,\n",
    "        'veinte':20\n",
    "    }\n",
    "    encontradas1 = encontradas.map(numcol_cat_mapper)\n",
    "    data.loc[room_null_mask,\"rooms_completo\"]= encontradas1[room_null_mask].apply(lambda x: x if x is np.NaN else (float(x)-restar))\n",
    "    print(\"Disminución en función a los ambientes :\",patt)\n",
    "    result = data[\"rooms_completo\"].isnull().value_counts()\n",
    "    return result"
   ]
  },
  {
   "cell_type": "code",
   "execution_count": null,
   "metadata": {},
   "outputs": [],
   "source": [
    "#validar que luego elija siempre la última que encuentre"
   ]
  },
  {
   "cell_type": "code",
   "execution_count": null,
   "metadata": {},
   "outputs": [],
   "source": [
    "def fun_buscar_disminuir_mapper_2(data_room_null_description, patt,restar):\n",
    "    ###se pasa la palabra y se asigna y se mapea el texto###\n",
    "    data_encontrada= fun_buscar_patt(data_room_null_description,patt)\n",
    "    encontradas = data_encontrada[data_encontrada.notnull()].apply(lambda x: x.group(1))\n",
    "    room_null_mask = data[\"rooms_completo\"].isnull()\n",
    "    numcol_cat_mapper = {\n",
    "                'segundo': 2,'tercer':3, 'cuarto': 4,'quinto': 5,'sexto': 6\n",
    "    }\n",
    "    encontradas1 = encontradas.map(numcol_cat_mapper)\n",
    "    data.loc[room_null_mask,\"rooms_completo\"]= encontradas1[room_null_mask].apply(lambda x: x if x is np.NaN else (float(x)-restar))\n",
    "    print(\"Disminución en función a los ambientes :\",patt)\n",
    "    result = data[\"rooms_completo\"].isnull().value_counts()\n",
    "    return result"
   ]
  },
  {
   "cell_type": "code",
   "execution_count": null,
   "metadata": {},
   "outputs": [],
   "source": [
    "def disminuciones_repeticion(serie,patt):\n",
    "    print(data[\"rooms_completo\"].isnull().value_counts())\n",
    "    data_encontrada = serie.apply(lambda x: x if x is np.NaN else x.count(patt))\n",
    "    maskarita= data_encontrada>0|data[\"rooms_completo\"].isnull()\n",
    "    data.loc[maskarita,\"rooms_completo\"] = data_encontrada[maskarita]\n",
    "    result = data[\"rooms_completo\"].isnull().value_counts()\n",
    "    return result"
   ]
  },
  {
   "cell_type": "code",
   "execution_count": null,
   "metadata": {},
   "outputs": [],
   "source": [
    "data_room_match = fun_buscar_patt(data_room_null_description,r\"(mono ambiente|monoambiente|mono-ambiente|Monoamb)\")\n",
    "data_room_match_mask = data_room_match.notnull()\n",
    "data_room_match[data_room_match_mask]=0\n",
    "data_room_mask = data[\"rooms_completo\"].isnull()\n",
    "\n",
    "data.loc[data_room_match_mask,\"rooms_completo\"] = data_room_match[data_room_match_mask].apply(lambda x: x if x is np.NaN else x)\n",
    "print(\"Primera disminución Monoambientes\")\n",
    "display(data[\"rooms_completo\"].isnull().value_counts())"
   ]
  },
  {
   "cell_type": "code",
   "execution_count": null,
   "metadata": {},
   "outputs": [],
   "source": [
    "data_room_match = fun_buscar_patt(data_room_null_title,r\"(mono ambiente|monoambiente|mono-ambiente|monoamb)\")\n",
    "data_room_match_mask = data_room_match.notnull()\n",
    "data_room_match[data_room_match_mask]=0\n",
    "data_room_mask = data[\"rooms_completo\"].isnull()\n",
    "\n",
    "data.loc[data_room_match_mask,\"rooms_completo\"] = data_room_match[data_room_match_mask].apply(lambda x: x if x is np.NaN else x)\n",
    "print(\"Primera disminución Monoambientes\")\n",
    "display(data[\"rooms_completo\"].isnull().value_counts())"
   ]
  },
  {
   "cell_type": "code",
   "execution_count": null,
   "metadata": {},
   "outputs": [],
   "source": [
    "resultado = fun_buscar_disminuir(data_room_null_description,r\"[\\s](\\d\\d)[\\s]?habitaci\",0)\n",
    "print(resultado)"
   ]
  },
  {
   "cell_type": "code",
   "execution_count": null,
   "metadata": {},
   "outputs": [],
   "source": [
    "resultado = fun_buscar_disminuir_mapper(data_room_null_description,r\"(\\w+)[\\s]?(dormitorio|domitorio)\",0)\n",
    "print(resultado)"
   ]
  },
  {
   "cell_type": "code",
   "execution_count": null,
   "metadata": {},
   "outputs": [],
   "source": [
    "resultado = fun_buscar_disminuir_mapper_2(data_room_null_description,r\"(\\w+)[\\s]?(dormitorio|domitorio)\",0)\n",
    "print(resultado)"
   ]
  },
  {
   "cell_type": "code",
   "execution_count": null,
   "metadata": {},
   "outputs": [],
   "source": [
    "resultado = fun_buscar_disminuir_mapper(data_room_null_description,r\"(\\w+)[\\s]?(ambiente)\",1)\n",
    "print(resultado)"
   ]
  },
  {
   "cell_type": "code",
   "execution_count": null,
   "metadata": {},
   "outputs": [],
   "source": [
    "resultado = fun_buscar_disminuir(data_room_null_description,r\"[\\s](\\d)[\\s]?(amb)\",1)\n",
    "print(resultado)"
   ]
  },
  {
   "cell_type": "code",
   "execution_count": null,
   "metadata": {},
   "outputs": [],
   "source": [
    "resultado = fun_buscar_disminuir(data_room_null_description,r\"\\D(\\d)[\\s]?(dorm)\",0)\n",
    "print(resultado)"
   ]
  },
  {
   "cell_type": "code",
   "execution_count": null,
   "metadata": {},
   "outputs": [],
   "source": [
    "resultado = fun_buscar_disminuir(data_room_null_title,r\"\\D(\\d?\\d)[\\s]?(dorm)\",0)\n",
    "print(resultado)"
   ]
  },
  {
   "cell_type": "code",
   "execution_count": null,
   "metadata": {},
   "outputs": [],
   "source": [
    "resultado = fun_buscar_disminuir(data_room_null_description,r\"(\\d)[\\s]?(suite)\",0)\n",
    "print(resultado)"
   ]
  },
  {
   "cell_type": "markdown",
   "metadata": {},
   "source": [
    "Buscamos ahora las restantes en el título"
   ]
  },
  {
   "cell_type": "code",
   "execution_count": null,
   "metadata": {},
   "outputs": [],
   "source": [
    "resultado = fun_buscar_disminuir(data_room_null_title,r\"([\\s]\\d?\\d)[\\s]?amb\",1)\n",
    "print(resultado)"
   ]
  },
  {
   "cell_type": "code",
   "execution_count": null,
   "metadata": {},
   "outputs": [],
   "source": [
    "resultado = fun_buscar_disminuir_mapper(data_room_null_title,r\"(\\w+)[\\s]?(amb)\",1)\n",
    "print(resultado)"
   ]
  },
  {
   "cell_type": "code",
   "execution_count": null,
   "metadata": {},
   "outputs": [],
   "source": [
    "disminuciones_repeticion(data_room_null_description,\"dormitorio\")"
   ]
  },
  {
   "cell_type": "code",
   "execution_count": null,
   "metadata": {},
   "outputs": [],
   "source": [
    "disminuciones_repeticion(data_room_null_description,\"habitacion\")\n"
   ]
  },
  {
   "cell_type": "code",
   "execution_count": null,
   "metadata": {},
   "outputs": [],
   "source": [
    "disminuciones_repeticion(data_room_null_description,\"suite\")"
   ]
  },
  {
   "cell_type": "markdown",
   "metadata": {},
   "source": [
    "## `SETEANDO RESTO DE ROOMS EN NULL`\n",
    "ALGUNOS AJUSTES POSTERIORES ESPECÍFICOS PORQUE LA REGEX LOS TOMÓ Y NO APLICABA"
   ]
  },
  {
   "cell_type": "markdown",
   "metadata": {},
   "source": [
    "\n",
    "AQUÍ SETEO EL RESTO QUE SE ENCUENTRA EN NULL"
   ]
  },
  {
   "cell_type": "code",
   "execution_count": null,
   "metadata": {},
   "outputs": [],
   "source": [
    "def fun_back(idreg):\n",
    "    data.loc[idreg:idreg,\"rooms_completo\"]=data.loc[idreg:idreg,\"rooms\"]\n",
    "    return data.loc[idreg:idreg,\"rooms_completo\"]\n",
    "fun_back(53793)\n",
    "fun_back(23884)"
   ]
  },
  {
   "cell_type": "code",
   "execution_count": null,
   "metadata": {},
   "outputs": [],
   "source": [
    "data[\"rooms_completo\"].fillna(0,inplace = True) \n",
    "print(data[\"rooms_completo\"].isnull().value_counts())"
   ]
  },
  {
   "cell_type": "markdown",
   "metadata": {},
   "source": [
    "## `AGREGANDO CAMPOS NUEVOS`\n",
    "Se crean nuevos campos para definir características que pueden revalorizar la propiedad\n",
    "____"
   ]
  },
  {
   "cell_type": "code",
   "execution_count": null,
   "metadata": {},
   "outputs": [],
   "source": [
    "data_encontrada1= fun_buscar_patt(data_room_null_description,\"(\\w+)[\\s]?(\\w+)[\\s]?(pileta|piscina|pisina|picina)\")\n",
    "encontradas_pileta = data_encontrada1[data_encontrada1.notnull()].apply(lambda x: x.group(0))\n",
    "data[\"PILETA\"] = encontradas_pileta.apply(lambda x: False if x.count(\"sin\")>0 else True)\n",
    "data[\"PILETA\"].fillna(value=False, inplace=True)\n",
    "data[\"PILETA\"].value_counts()"
   ]
  },
  {
   "cell_type": "code",
   "execution_count": null,
   "metadata": {},
   "outputs": [],
   "source": [
    "data_encontrada_parrilla= fun_buscar_patt(data_room_null_description,\"(\\w+)[\\s]?(\\w+)[\\s]?(parrilla|asado|grill|churrasquera)\")\n",
    "encontradas_parrilla = data_encontrada_parrilla[data_encontrada_parrilla.notnull()].apply(lambda x: x.group(0))\n",
    "data[\"PARRILLA\"] = encontradas_parrilla.apply(lambda x: False if x.count(\"sin\")>0 else True)\n",
    "data[\"PARRILLA\"].fillna(value=False, inplace=True)\n",
    "# data[\"PARRILLA\"]= data_encontrada_parrilla.notnull()\n",
    "data[\"PARRILLA\"].value_counts()"
   ]
  },
  {
   "cell_type": "code",
   "execution_count": null,
   "metadata": {},
   "outputs": [],
   "source": [
    "data_encontrada_patio= fun_buscar_patt(data_room_null_description,\"(\\w+)[\\s]?(\\w+)[\\s]?(patio|jardin)\")\n",
    "encontradas_patio = data_encontrada_patio[data_encontrada_patio.notnull()].apply(lambda x: x.group(0))\n",
    "data[\"PATIO_JARDIN\"] = encontradas_patio.apply(lambda x: False if x.count(\"sin\")>0 else True)\n",
    "data[\"PATIO_JARDIN\"].fillna(value=False, inplace=True)\n",
    "data[\"PATIO_JARDIN\"].value_counts()"
   ]
  },
  {
   "cell_type": "markdown",
   "metadata": {},
   "source": [
    "ESTO ES PARA REALIZAR VALIDACIÓN DE DATOS\n",
    "\n",
    "\n",
    "______\n"
   ]
  },
  {
   "cell_type": "code",
   "execution_count": null,
   "metadata": {},
   "outputs": [],
   "source": [
    "bins= [1,2,3,4,5,6,7,8,9,10,15,20,25,30,40]\n",
    "room= pd.cut(data.rooms_completo, bins,right=False)"
   ]
  },
  {
   "cell_type": "code",
   "execution_count": null,
   "metadata": {},
   "outputs": [],
   "source": [
    "data.pivot_table('rooms_completo', index=[room], columns='property_type', aggfunc='count' )"
   ]
  },
  {
   "cell_type": "markdown",
   "metadata": {},
   "source": [
    "<a id=\"section_limpieza_expensas\"></a> \n",
    "\n",
    "### Limpieza de columna Expensas\n",
    "\n",
    "[volver a Indice](#section_indice)\n"
   ]
  },
  {
   "cell_type": "markdown",
   "metadata": {},
   "source": [
    "#### Vemos que porcentaje de las filas de expensas tienen NA y creamos un dataset solo con los que tienen datos"
   ]
  },
  {
   "cell_type": "code",
   "execution_count": null,
   "metadata": {},
   "outputs": [],
   "source": [
    "#Separo los casos que son NA, los que tienen algun numero y de ellos los que son iguales a 1\n",
    "mask_filas_con_expensas_na = data.expenses.isna()\n",
    "mask_filas_con_expensas_notna = data.expenses.notna()\n",
    "mask_filas_con_expensas_1 = data.expenses == 1\n",
    "\n",
    "print(f'El total de filas es de {data.shape[0]}')\n",
    "print(f'Hay {mask_filas_con_expensas_notna.sum()} filas con expensas, son el {round((mask_filas_con_expensas_notna.sum())/(data.shape[0]),2)*100}%')"
   ]
  },
  {
   "cell_type": "markdown",
   "metadata": {},
   "source": [
    "#### Aplicamos la siguiente logica: si el tipo de propiedad es casa o PH, expensas = NO. Si es departamento o store = SI. Y si no tiene info tomamos el promedio de expensas segun los metros cuadrados."
   ]
  },
  {
   "cell_type": "code",
   "execution_count": null,
   "metadata": {},
   "outputs": [],
   "source": [
    "mask_apartment = data.property_type == \"apartment\"\n",
    "mask_house = data.property_type == \"house\"\n",
    "mask_PH = data.property_type == \"PH\"\n",
    "mask_store = data.property_type == \"store\""
   ]
  },
  {
   "cell_type": "code",
   "execution_count": null,
   "metadata": {},
   "outputs": [],
   "source": [
    "data['expenses_bool'] = np.select([mask_apartment, mask_house, mask_PH, mask_store], \n",
    "                            ['SI', 'NO', 'NO', 'SI'], \n",
    "                            default=np.nan)\n",
    "data.expenses_bool.value_counts()"
   ]
  },
  {
   "cell_type": "markdown",
   "metadata": {},
   "source": [
    "#### De los casos que pagan expensas analizamos nuevamente los datos"
   ]
  },
  {
   "cell_type": "code",
   "execution_count": null,
   "metadata": {},
   "outputs": [],
   "source": [
    "#Armo un df con los casos que pagan expensas\n",
    "mask_si_expensas = data.expenses_bool == \"SI\"\n",
    "con_expensas = data.loc[mask_si_expensas,:]\n",
    "con_expensas['expenses'].describe().apply(lambda x: format(x, 'f'))"
   ]
  },
  {
   "cell_type": "code",
   "execution_count": null,
   "metadata": {},
   "outputs": [],
   "source": [
    "con_expensas.expenses.value_counts().sort_index()"
   ]
  },
  {
   "cell_type": "markdown",
   "metadata": {},
   "source": [
    "#### Identificamos como desconocidos los casos atipicos (menor a 100 y mayor a 200.000) y los NA"
   ]
  },
  {
   "cell_type": "code",
   "execution_count": null,
   "metadata": {},
   "outputs": [],
   "source": [
    "mask_mayor_doscientosmil = con_expensas.expenses <= 200000\n",
    "mask_menor_cien = con_expensas.expenses >= 100\n",
    "\n",
    "mask_conocidos = np.logical_and(mask_mayor_doscientosmil, mask_menor_cien)\n",
    "mask_desconocidos = np.logical_not(mask_conocidos)\n",
    "\n",
    "# con_expensas = con_expensas.loc[mask_quantil_noventaycinco, :]\n",
    "# con_expensas.expenses.value_counts().sort_index()"
   ]
  },
  {
   "cell_type": "code",
   "execution_count": null,
   "metadata": {},
   "outputs": [],
   "source": [
    "print(mask_conocidos.sum())\n",
    "print(mask_desconocidos.sum())"
   ]
  },
  {
   "cell_type": "code",
   "execution_count": null,
   "metadata": {},
   "outputs": [],
   "source": [
    "con_expensas_desconocidos = con_expensas.loc[mask_desconocidos,:]\n",
    "con_expensas_conocidos = con_expensas.loc[mask_conocidos,:]\n",
    "con_expensas_conocidos.expenses.describe().apply(lambda x: format(x, 'f'))"
   ]
  },
  {
   "cell_type": "code",
   "execution_count": null,
   "metadata": {},
   "outputs": [],
   "source": [
    "con_expensas_conocidos.groupby('rooms')['expenses'].mean()"
   ]
  },
  {
   "cell_type": "markdown",
   "metadata": {},
   "source": [
    "#### A los casos desconocidos les aplicamos el promedio por cantidad de habitaciones"
   ]
  },
  {
   "cell_type": "code",
   "execution_count": null,
   "metadata": {},
   "outputs": [],
   "source": [
    "con_expensas_desconocidos = con_expensas_desconocidos.join(con_expensas_conocidos.groupby('rooms_completo')['expenses'].mean(), on='rooms_completo', rsuffix='_nuevo')"
   ]
  },
  {
   "cell_type": "markdown",
   "metadata": {},
   "source": [
    "#### Unificamos los montos de expensas"
   ]
  },
  {
   "cell_type": "code",
   "execution_count": null,
   "metadata": {},
   "outputs": [],
   "source": [
    "import warnings\n",
    "warnings.filterwarnings(\"ignore\")\n",
    "con_expensas_conocidos.loc[:, 'expenses_nuevo'] = con_expensas_conocidos.loc[:, 'expenses'].copy()\n",
    "con_expensas_conocidos.shape"
   ]
  },
  {
   "cell_type": "code",
   "execution_count": null,
   "metadata": {},
   "outputs": [],
   "source": [
    "con_expensas_desconocidos.shape"
   ]
  },
  {
   "cell_type": "code",
   "execution_count": null,
   "metadata": {},
   "outputs": [],
   "source": [
    "mask_no_expensas = data.expenses_bool == \"NO\"\n",
    "sin_expensas = data.loc[mask_no_expensas,:]\n",
    "sin_expensas.loc[:, 'expenses_nuevo'] = 0\n",
    "sin_expensas.shape\n"
   ]
  },
  {
   "cell_type": "code",
   "execution_count": null,
   "metadata": {},
   "outputs": [],
   "source": [
    "data = pd.concat([con_expensas_conocidos, con_expensas_desconocidos, sin_expensas])\n",
    "data = data.sort_index()\n"
   ]
  },
  {
   "cell_type": "markdown",
   "metadata": {},
   "source": [
    "<a id=\"section_limpieza_geonames\"></a> \n",
    "\n",
    "### Limpieza de la columna Geonames\n",
    "\n",
    "[volver a Indice](#section_indice)\n"
   ]
  },
  {
   "cell_type": "code",
   "execution_count": null,
   "metadata": {},
   "outputs": [],
   "source": [
    "data_geolocalizacion = data.loc[ : , [\"place_name\", \"place_with_parent_names\", \"geonames_id\", \"lat-lon\", \"lat\", \"lon\"]]\n",
    "display(data_geolocalizacion.head(10))\n",
    "print(data_geolocalizacion.shape)"
   ]
  },
  {
   "cell_type": "code",
   "execution_count": null,
   "metadata": {},
   "outputs": [],
   "source": [
    "nulos =data_geolocalizacion.isnull()\n",
    "nulos.sum()"
   ]
  },
  {
   "cell_type": "code",
   "execution_count": null,
   "metadata": {},
   "outputs": [],
   "source": [
    "geo_nulos = data_geolocalizacion.loc[nulos.index].sort_values('place_name')\n",
    "geo_nulos.head()"
   ]
  },
  {
   "cell_type": "code",
   "execution_count": null,
   "metadata": {},
   "outputs": [],
   "source": [
    "geo_nulos['place_name'].value_counts().sort_values(ascending=False).head(50)"
   ]
  },
  {
   "cell_type": "markdown",
   "metadata": {},
   "source": [
    "### LIMPIEZA CORDOBA"
   ]
  },
  {
   "cell_type": "code",
   "execution_count": null,
   "metadata": {},
   "outputs": [],
   "source": [
    "mask_cordoba = geo_nulos['place_name']== \"Córdoba\"\n",
    "datos_cordoba = geo_nulos.loc[mask_cordoba, :]\n",
    "#datos_cordoba.sort_values(by=\"geonames_id\").sample(10)"
   ]
  },
  {
   "cell_type": "code",
   "execution_count": null,
   "metadata": {},
   "outputs": [],
   "source": [
    "#datos_cordoba.isnull().sum()"
   ]
  },
  {
   "cell_type": "code",
   "execution_count": null,
   "metadata": {},
   "outputs": [],
   "source": [
    "#display(datos_cordoba.groupby(['geonames_id']).mean())"
   ]
  },
  {
   "cell_type": "code",
   "execution_count": null,
   "metadata": {},
   "outputs": [],
   "source": [
    "geo_mask_1 = datos_cordoba.place_with_parent_names == \"|Argentina|Córdoba|Córdoba|\"\n",
    "geo_mask_2 = datos_cordoba.place_with_parent_names == \"|Argentina|Córdoba|\"\n",
    "\n",
    "data_geolocalizacion_cordoba_3860259 = datos_cordoba.loc[geo_mask_1, :]\n",
    "values_3860259 = {\"geonames_id\":3860259.0, \"place_name\":\"Córdoba\",\"place_with_parent_names\": \"|Argentina|Córdoba|Córdoba|\", \"lat-lon\" : \"-31.421912, -64.192741\", \"lat\": -31.421912, \"lon\": -64.192741}\n",
    "\n",
    "data_geolocalizacion_cordoba_3860255 = datos_cordoba.loc[geo_mask_2, :]\n",
    "values_3860255 = {\"geonames_id\":3860255.0, \"place_name\":\"Córdoba\",\"place_with_parent_names\": \"|Argentina|Córdoba|\",\"lat-lon\" : \"-31.411897, -64.269298\", \"lat\": -31.411897, \"lon\": -64.269298}\n",
    "\n",
    "datos_cordoba_con_3860259 = datos_cordoba.fillna(values_3860259)\n",
    "datos_cordoba_completo = datos_cordoba.fillna(values_3860255)\n",
    "#datos_cordoba_completo.head()\n"
   ]
  },
  {
   "cell_type": "code",
   "execution_count": null,
   "metadata": {},
   "outputs": [],
   "source": [
    "#datos_cordoba_completo.isnull().sum()"
   ]
  },
  {
   "cell_type": "code",
   "execution_count": null,
   "metadata": {},
   "outputs": [],
   "source": [
    "geo_nulos = geo_nulos.fillna(datos_cordoba_completo)\n",
    "geo_nulos.isnull().sum()"
   ]
  },
  {
   "cell_type": "markdown",
   "metadata": {},
   "source": [
    "### LIMPIEZA ROSARIO"
   ]
  },
  {
   "cell_type": "code",
   "execution_count": null,
   "metadata": {},
   "outputs": [],
   "source": [
    "mask_rosario = geo_nulos['place_name']== \"Rosario\"\n",
    "datos_rosario = geo_nulos.loc[mask_rosario, :]\n",
    "#datos_rosario.sort_values(by=\"geonames_id\").sample(10)"
   ]
  },
  {
   "cell_type": "code",
   "execution_count": null,
   "metadata": {},
   "outputs": [],
   "source": [
    "#datos_rosario.isnull().sum()"
   ]
  },
  {
   "cell_type": "code",
   "execution_count": null,
   "metadata": {},
   "outputs": [],
   "source": [
    "#display(datos_rosario.groupby(['geonames_id']).mean())"
   ]
  },
  {
   "cell_type": "code",
   "execution_count": null,
   "metadata": {},
   "outputs": [],
   "source": [
    "values_3838574 = {\"geonames_id\":3838574.0, \"place_name\":\"Rosario\",\"place_with_parent_names\": \"|Argentina|Santa Fe|Rosario|\",\"lat-lon\" : \"-32.9473, -60.661795\", \"lat\": -32.9473, \"lon\": -60.661795}\n",
    "datos_rosario_completo = datos_rosario.fillna(values_3838574)\n",
    "#datos_rosario_completo.head()"
   ]
  },
  {
   "cell_type": "code",
   "execution_count": null,
   "metadata": {},
   "outputs": [],
   "source": [
    "#datos_rosario_completo.isnull().sum()"
   ]
  },
  {
   "cell_type": "code",
   "execution_count": null,
   "metadata": {},
   "outputs": [],
   "source": [
    "geo_nulos = geo_nulos.fillna(datos_rosario_completo)\n",
    "geo_nulos.isnull().sum()"
   ]
  },
  {
   "cell_type": "markdown",
   "metadata": {},
   "source": [
    "### LIMPIEZA MAR DEL PLATA"
   ]
  },
  {
   "cell_type": "code",
   "execution_count": null,
   "metadata": {},
   "outputs": [],
   "source": [
    "mask_mar_del_plata = geo_nulos['place_name']== \"Mar del Plata\"\n",
    "datos_mar_del_plata = geo_nulos.loc[mask_mar_del_plata, :]\n",
    "#datos_mar_del_plata.sort_values(by=\"geonames_id\").sample(10)"
   ]
  },
  {
   "cell_type": "code",
   "execution_count": null,
   "metadata": {},
   "outputs": [],
   "source": [
    "#datos_mar_del_plata.isnull().sum()"
   ]
  },
  {
   "cell_type": "code",
   "execution_count": null,
   "metadata": {},
   "outputs": [],
   "source": [
    "#display(datos_mar_del_plata.groupby(['geonames_id']).mean())"
   ]
  },
  {
   "cell_type": "code",
   "execution_count": null,
   "metadata": {},
   "outputs": [],
   "source": [
    "values_3430863 = {\"geonames_id\":3430863.0, \"place_name\":\"Mar del Plata\",\"place_with_parent_names\": \"|Argentina|Buenos Aires Costa Atlántica|Mar de...\",\"lat-lon\" : \"-38.006377, -57.553465\", \"lat\": -38.006377, \"lon\": -57.553465}\n",
    "datos_mar_del_plata_completo = datos_mar_del_plata.fillna(values_3430863)\n",
    "#datos_mar_del_plata_completo.head()"
   ]
  },
  {
   "cell_type": "code",
   "execution_count": null,
   "metadata": {},
   "outputs": [],
   "source": [
    "#datos_mar_del_plata_completo.isnull().sum()"
   ]
  },
  {
   "cell_type": "code",
   "execution_count": null,
   "metadata": {},
   "outputs": [],
   "source": [
    "geo_nulos = geo_nulos.fillna(datos_mar_del_plata_completo)\n",
    "geo_nulos.isnull().sum()"
   ]
  },
  {
   "cell_type": "markdown",
   "metadata": {},
   "source": [
    "### LIMPIEZA TIGRE"
   ]
  },
  {
   "cell_type": "code",
   "execution_count": null,
   "metadata": {},
   "outputs": [],
   "source": [
    "mask_tigre = geo_nulos['place_name']== \"Tigre\"\n",
    "datos_tigre = geo_nulos.loc[mask_tigre, :]\n",
    "#datos_tigre.sort_values(by=\"geonames_id\").sample(10)"
   ]
  },
  {
   "cell_type": "code",
   "execution_count": null,
   "metadata": {},
   "outputs": [],
   "source": [
    "#datos_tigre.isnull().sum()"
   ]
  },
  {
   "cell_type": "code",
   "execution_count": null,
   "metadata": {},
   "outputs": [],
   "source": [
    "#display(datos_tigre.groupby(['geonames_id']).mean())"
   ]
  },
  {
   "cell_type": "code",
   "execution_count": null,
   "metadata": {},
   "outputs": [],
   "source": [
    "values_3427753 = {\"geonames_id\":3427753.0, \"place_name\":\"Tigre\",\"place_with_parent_names\": \"|Argentina|Bs.As. G.B.A. Zona Norte|Tigre|\",\"lat-lon\" : \"-34.408622, -58.636493\", \"lat\": -34.408622, \"lon\": -58.636493}\n",
    "datos_tigre_completo = datos_tigre.fillna(values_3427753)\n",
    "#datos_tigre_completo.head()"
   ]
  },
  {
   "cell_type": "code",
   "execution_count": null,
   "metadata": {},
   "outputs": [],
   "source": [
    "#datos_tigre_completo.isnull().sum()"
   ]
  },
  {
   "cell_type": "code",
   "execution_count": null,
   "metadata": {},
   "outputs": [],
   "source": [
    "geo_nulos = geo_nulos.fillna(datos_tigre_completo)\n",
    "geo_nulos.isnull().sum()"
   ]
  },
  {
   "cell_type": "code",
   "execution_count": null,
   "metadata": {},
   "outputs": [],
   "source": [
    "mask_tigre2 = geo_nulos['place_with_parent_names'] == \"|Argentina|Bs.As. G.B.A. Zona Norte|Tigre||\"\n",
    "datos_tigre2 = geo_nulos.loc[mask_tigre2, :]\n",
    "datos_tigre_completo2 = datos_tigre2.fillna(values_3427753)\n",
    "datos_tigre_completo2.head()"
   ]
  },
  {
   "cell_type": "code",
   "execution_count": null,
   "metadata": {},
   "outputs": [],
   "source": [
    "geo_nulos = geo_nulos.fillna(datos_tigre_completo2)\n",
    "geo_nulos.isnull().sum()"
   ]
  },
  {
   "cell_type": "markdown",
   "metadata": {},
   "source": [
    "### LIMPIEZA NORDELTA"
   ]
  },
  {
   "cell_type": "code",
   "execution_count": null,
   "metadata": {},
   "outputs": [],
   "source": [
    "mask_nordelta = geo_nulos['place_name']== \"Nordelta\"\n",
    "datos_nordelta = geo_nulos.loc[mask_nordelta, :]\n",
    "#datos_nordelta.sort_values(by=\"geonames_id\").sample(10)"
   ]
  },
  {
   "cell_type": "code",
   "execution_count": null,
   "metadata": {},
   "outputs": [],
   "source": [
    "#datos_nordelta.isnull().sum()"
   ]
  },
  {
   "cell_type": "code",
   "execution_count": null,
   "metadata": {},
   "outputs": [],
   "source": [
    "#datos_nordelta.mean()"
   ]
  },
  {
   "cell_type": "code",
   "execution_count": null,
   "metadata": {},
   "outputs": [],
   "source": [
    "values_3427753_Nord = {\"geonames_id\":3427753.0, \"place_name\":\"Nordelta\",\"place_with_parent_names\": \"|Argentina|Bs.As. G.B.A. Zona Norte|Tigre|Nord...\",\"lat-lon\" : \"-34.410920, -58.644708\", \"lat\": -34.410920, \"lon\": -58.644708}\n",
    "datos_nordelta_completo = datos_nordelta.fillna(values_3427753_Nord)\n",
    "#datos_nordelta_completo.head()"
   ]
  },
  {
   "cell_type": "code",
   "execution_count": null,
   "metadata": {},
   "outputs": [],
   "source": [
    "#datos_nordelta_completo.isnull().sum()"
   ]
  },
  {
   "cell_type": "code",
   "execution_count": null,
   "metadata": {},
   "outputs": [],
   "source": [
    "geo_nulos = geo_nulos.fillna(datos_nordelta_completo)\n",
    "geo_nulos.isnull().sum()"
   ]
  },
  {
   "cell_type": "markdown",
   "metadata": {},
   "source": [
    "### LIMPIEZA BELGRANO"
   ]
  },
  {
   "cell_type": "code",
   "execution_count": null,
   "metadata": {},
   "outputs": [],
   "source": [
    "mask_belgrano = geo_nulos['place_name']== \"Belgrano\"\n",
    "datos_belgrano = geo_nulos.loc[mask_belgrano, :]\n",
    "#datos_belgrano.sort_values(by=\"geonames_id\").sample(10)"
   ]
  },
  {
   "cell_type": "code",
   "execution_count": null,
   "metadata": {},
   "outputs": [],
   "source": [
    "#datos_belgrano.isnull().sum()"
   ]
  },
  {
   "cell_type": "code",
   "execution_count": null,
   "metadata": {},
   "outputs": [],
   "source": [
    "#display(datos_belgrano.groupby(['geonames_id']).mean())"
   ]
  },
  {
   "cell_type": "code",
   "execution_count": null,
   "metadata": {},
   "outputs": [],
   "source": [
    "values_3436077 = {\"geonames_id\":3436077.0, \"place_name\":\"Belgrano\",\"place_with_parent_names\": \"|Argentina|Capital Federal|Belgrano|\",\"lat-lon\" : \"-34.563541, -58.453904\", \"lat\": -34.563541, \"lon\": -58.453904}\n",
    "datos_belgrano_completo = datos_belgrano.fillna(values_3436077)\n",
    "#datos_belgrano_completo.head()"
   ]
  },
  {
   "cell_type": "code",
   "execution_count": null,
   "metadata": {},
   "outputs": [],
   "source": [
    "#datos_belgrano_completo.isnull().sum()"
   ]
  },
  {
   "cell_type": "code",
   "execution_count": null,
   "metadata": {},
   "outputs": [],
   "source": [
    "geo_nulos = geo_nulos.fillna(datos_belgrano_completo)\n",
    "geo_nulos.isnull().sum()"
   ]
  },
  {
   "cell_type": "markdown",
   "metadata": {},
   "source": [
    "### LIMPIEZA PALERMO"
   ]
  },
  {
   "cell_type": "code",
   "execution_count": null,
   "metadata": {},
   "outputs": [],
   "source": [
    "mask_palermo = geo_nulos['place_name']== \"Palermo\"\n",
    "datos_palermo = geo_nulos.loc[mask_palermo, :]\n",
    "#datos_palermo.sort_values(by=\"geonames_id\").sample(10)"
   ]
  },
  {
   "cell_type": "code",
   "execution_count": null,
   "metadata": {},
   "outputs": [],
   "source": [
    "#datos_palermo.isnull().sum()"
   ]
  },
  {
   "cell_type": "code",
   "execution_count": null,
   "metadata": {},
   "outputs": [],
   "source": [
    "#display(datos_palermo.groupby(['geonames_id']).mean())"
   ]
  },
  {
   "cell_type": "code",
   "execution_count": null,
   "metadata": {},
   "outputs": [],
   "source": [
    "values_3430234 = {\"geonames_id\":3430234.0, \"place_name\":\"Palermo\",\"place_with_parent_names\": \"|Argentina|Capital Federal|Palermo|\",\"lat-lon\" : \"-34.583105, -58.424693\", \"lat\": -34.583105, \"lon\": -58.424693}\n",
    "datos_palermo_completo = datos_palermo.fillna(values_3430234)\n",
    "#datos_palermo_completo.head()"
   ]
  },
  {
   "cell_type": "code",
   "execution_count": null,
   "metadata": {},
   "outputs": [],
   "source": [
    "#datos_palermo_completo.isnull().sum()"
   ]
  },
  {
   "cell_type": "code",
   "execution_count": null,
   "metadata": {},
   "outputs": [],
   "source": [
    "geo_nulos = geo_nulos.fillna(datos_palermo_completo)\n",
    "geo_nulos.isnull().sum()"
   ]
  },
  {
   "cell_type": "markdown",
   "metadata": {},
   "source": [
    "### LIMPIEZA LA PLATA"
   ]
  },
  {
   "cell_type": "code",
   "execution_count": null,
   "metadata": {},
   "outputs": [],
   "source": [
    "mask_la_plata = geo_nulos['place_name']== \"La Plata\"\n",
    "datos_la_plata = geo_nulos.loc[mask_la_plata, :]\n",
    "#datos_la_plata.sort_values(by=\"geonames_id\").sample(10)"
   ]
  },
  {
   "cell_type": "code",
   "execution_count": null,
   "metadata": {},
   "outputs": [],
   "source": [
    "#datos_la_plata.isnull().sum()"
   ]
  },
  {
   "cell_type": "code",
   "execution_count": null,
   "metadata": {},
   "outputs": [],
   "source": [
    "#display(datos_la_plata.groupby(['geonames_id']).mean())"
   ]
  },
  {
   "cell_type": "code",
   "execution_count": null,
   "metadata": {},
   "outputs": [],
   "source": [
    "values_3432039 = {\"geonames_id\":3432039.0, \"place_name\":\"La Plata\",\"place_with_parent_names\": \"|Argentina|Bs.As. G.B.A. Zona Sur|La Plata|\",\"lat-lon\" : \"-34.924338, -57.966073\", \"lat\": -34.924338, \"lon\": -57.966073}\n",
    "datos_la_plata_completo = datos_la_plata.fillna(values_3432039)\n",
    "#datos_la_plata_completo.head()"
   ]
  },
  {
   "cell_type": "code",
   "execution_count": null,
   "metadata": {},
   "outputs": [],
   "source": [
    "#datos_la_plata_completo.isnull().sum()"
   ]
  },
  {
   "cell_type": "code",
   "execution_count": null,
   "metadata": {},
   "outputs": [],
   "source": [
    "geo_nulos = geo_nulos.fillna(datos_la_plata_completo)\n",
    "geo_nulos.isnull().sum()"
   ]
  },
  {
   "cell_type": "markdown",
   "metadata": {},
   "source": [
    "### LIMPIEZA CABALLITO"
   ]
  },
  {
   "cell_type": "code",
   "execution_count": null,
   "metadata": {},
   "outputs": [],
   "source": [
    "mask_caballito = geo_nulos['place_name']== \"Caballito\"\n",
    "datos_caballito = geo_nulos.loc[mask_caballito, :]\n",
    "#datos_caballito.sort_values(by=\"geonames_id\").sample(10)"
   ]
  },
  {
   "cell_type": "code",
   "execution_count": null,
   "metadata": {},
   "outputs": [],
   "source": [
    "#datos_caballito.isnull().sum()"
   ]
  },
  {
   "cell_type": "code",
   "execution_count": null,
   "metadata": {},
   "outputs": [],
   "source": [
    "#display(datos_caballito.groupby(['geonames_id']).mean())"
   ]
  },
  {
   "cell_type": "code",
   "execution_count": null,
   "metadata": {},
   "outputs": [],
   "source": [
    "values_3435874 = {\"geonames_id\":3435874.0, \"place_name\":\"Caballito\",\"place_with_parent_names\": \"|Argentina|Capital Federal|Caballito|\",\"lat-lon\" : \"-34.618748, -58.442827\", \"lat\": -34.618748, \"lon\": -58.442827}\n",
    "datos_caballito_completo = datos_caballito.fillna(values_3435874)\n",
    "#datos_caballito_completo.head()"
   ]
  },
  {
   "cell_type": "code",
   "execution_count": null,
   "metadata": {},
   "outputs": [],
   "source": [
    "#datos_caballito_completo.isnull().sum()"
   ]
  },
  {
   "cell_type": "code",
   "execution_count": null,
   "metadata": {},
   "outputs": [],
   "source": [
    "geo_nulos = geo_nulos.fillna(datos_caballito_completo)\n",
    "geo_nulos.isnull().sum()"
   ]
  },
  {
   "cell_type": "markdown",
   "metadata": {},
   "source": [
    "### LIMPIEZA PILAR"
   ]
  },
  {
   "cell_type": "code",
   "execution_count": null,
   "metadata": {},
   "outputs": [],
   "source": [
    "mask_pilar = geo_nulos['place_name']== \"Pilar\"\n",
    "datos_pilar = geo_nulos.loc[mask_pilar, :]\n",
    "#datos_pilar.sort_values(by=\"geonames_id\").sample(10)"
   ]
  },
  {
   "cell_type": "code",
   "execution_count": null,
   "metadata": {},
   "outputs": [],
   "source": [
    "#datos_pilar.isnull().sum()"
   ]
  },
  {
   "cell_type": "code",
   "execution_count": null,
   "metadata": {},
   "outputs": [],
   "source": [
    "#display(datos_pilar.groupby(['geonames_id']).mean())"
   ]
  },
  {
   "cell_type": "code",
   "execution_count": null,
   "metadata": {},
   "outputs": [],
   "source": [
    "#display(datos_pilar.groupby(['geonames_id']).count())"
   ]
  },
  {
   "cell_type": "code",
   "execution_count": null,
   "metadata": {},
   "outputs": [],
   "source": [
    "values_3429979 = {\"geonames_id\":3429979.0, \"place_name\":\"Pilar\",\"place_with_parent_names\": \"|Argentina|Bs.As. G.B.A. Zona Norte|Pilar|\",\"lat-lon\" : \"-34.448529, -58.868267\", \"lat\": -34.448529, \"lon\": -58.868267}\n",
    "datos_pilar_completo = datos_pilar.fillna(values_3429979)\n",
    "#datos_pilar_completo.head()"
   ]
  },
  {
   "cell_type": "code",
   "execution_count": null,
   "metadata": {},
   "outputs": [],
   "source": [
    "#datos_pilar_completo.isnull().sum()"
   ]
  },
  {
   "cell_type": "code",
   "execution_count": null,
   "metadata": {},
   "outputs": [],
   "source": [
    "geo_nulos = geo_nulos.fillna(datos_pilar_completo)\n",
    "geo_nulos.isnull().sum()"
   ]
  },
  {
   "cell_type": "markdown",
   "metadata": {},
   "source": [
    "### LIMPIEZA VILLA URQUIZA"
   ]
  },
  {
   "cell_type": "code",
   "execution_count": null,
   "metadata": {},
   "outputs": [],
   "source": [
    "mask_villa_urquiza = geo_nulos['place_name']== \"Villa Urquiza\"\n",
    "datos_villa_urquiza = geo_nulos.loc[mask_villa_urquiza, :]\n",
    "#datos_villa_urquiza.sort_values(by=\"geonames_id\").sample(10)"
   ]
  },
  {
   "cell_type": "code",
   "execution_count": null,
   "metadata": {},
   "outputs": [],
   "source": [
    "#datos_villa_urquiza.isnull().sum()"
   ]
  },
  {
   "cell_type": "markdown",
   "metadata": {},
   "source": [
    "<!--     original\tbajado\tsaldo\n",
    "geo: 18717 - 4648 - 14069/\n",
    "lat-lon: 51550 - 19491 - 32059/\n",
    "lat: 51550 - 19491 - 32059/\n",
    "lon: 51550 - 19491 - 32059 -->"
   ]
  },
  {
   "cell_type": "code",
   "execution_count": null,
   "metadata": {},
   "outputs": [],
   "source": [
    "#display(datos_villa_urquiza.groupby(['geonames_id']).mean())"
   ]
  },
  {
   "cell_type": "code",
   "execution_count": null,
   "metadata": {},
   "outputs": [],
   "source": [
    "values_3433775 = {\"geonames_id\":3433775.0, \"place_name\":\"Villa Urquiza\",\"place_with_parent_names\": \"|Argentina|Capital Federal|Villa Urquiza|\",\"lat-lon\" : \"-34.573057, -58.483033\", \"lat\": -34.573057, \"lon\": -58.483033}\n",
    "datos_villa_urquiza_completo = datos_villa_urquiza.fillna(values_3429979)\n",
    "#datos_villa_urquiza_completo.head()"
   ]
  },
  {
   "cell_type": "code",
   "execution_count": null,
   "metadata": {},
   "outputs": [],
   "source": [
    "#datos_villa_urquiza_completo.isnull().sum()"
   ]
  },
  {
   "cell_type": "code",
   "execution_count": null,
   "metadata": {},
   "outputs": [],
   "source": [
    "geo_nulos = geo_nulos.fillna(datos_villa_urquiza_completo)\n",
    "geo_nulos.isnull().sum()"
   ]
  },
  {
   "cell_type": "markdown",
   "metadata": {},
   "source": [
    "### LIMPIEZA OLIVOS"
   ]
  },
  {
   "cell_type": "code",
   "execution_count": null,
   "metadata": {},
   "outputs": [],
   "source": [
    "mask_olivos = geo_nulos['place_name']== \"Olivos\"\n",
    "datos_olivos = geo_nulos.loc[mask_olivos, :]\n",
    "#datos_olivos.sort_values(by=\"geonames_id\").sample(10)"
   ]
  },
  {
   "cell_type": "code",
   "execution_count": null,
   "metadata": {},
   "outputs": [],
   "source": [
    "#datos_olivos.isnull().sum()"
   ]
  },
  {
   "cell_type": "code",
   "execution_count": null,
   "metadata": {},
   "outputs": [],
   "source": [
    "#display(datos_olivos.groupby(['geonames_id']).mean())"
   ]
  },
  {
   "cell_type": "code",
   "execution_count": null,
   "metadata": {},
   "outputs": [],
   "source": [
    "values_3430310 = {\"geonames_id\":3430310.0, \"place_name\":\"Olivos\",\"place_with_parent_names\": \"|Argentina|Bs.As. G.B.A. Zona Norte|Vicente Ló...\",\"lat-lon\" : \"-34.510486, -58.490124\", \"lat\": -34.510486, \"lon\": -58.490124}\n",
    "datos_olivos_completo = datos_olivos.fillna(values_3429979)\n",
    "#datos_olivos_completo.head()"
   ]
  },
  {
   "cell_type": "code",
   "execution_count": null,
   "metadata": {},
   "outputs": [],
   "source": [
    "#datos_olivos_completo.isnull().sum()"
   ]
  },
  {
   "cell_type": "code",
   "execution_count": null,
   "metadata": {},
   "outputs": [],
   "source": [
    "geo_nulos = geo_nulos.fillna(datos_olivos_completo)\n",
    "geo_nulos.isnull().sum()"
   ]
  },
  {
   "cell_type": "markdown",
   "metadata": {},
   "source": [
    "### LIMPIEZA RECOLETA"
   ]
  },
  {
   "cell_type": "code",
   "execution_count": null,
   "metadata": {},
   "outputs": [],
   "source": [
    "mask_recoleta = geo_nulos['place_name']== \"Recoleta\"\n",
    "datos_recoleta = geo_nulos.loc[mask_recoleta, :]\n",
    "#datos_recoleta.sort_values(by=\"geonames_id\").sample(10)"
   ]
  },
  {
   "cell_type": "code",
   "execution_count": null,
   "metadata": {},
   "outputs": [],
   "source": [
    "#datos_recoleta.isnull().sum()"
   ]
  },
  {
   "cell_type": "code",
   "execution_count": null,
   "metadata": {},
   "outputs": [],
   "source": [
    "#display(datos_recoleta.groupby(['geonames_id']).mean())"
   ]
  },
  {
   "cell_type": "code",
   "execution_count": null,
   "metadata": {},
   "outputs": [],
   "source": [
    "values_3429595 = {\"geonames_id\":3429595.0, \"place_name\":\"Recoleta\",\"place_with_parent_names\": \"|Argentina|Capital Federal|Recoleta|\",\"lat-lon\" : \"-34.592, -58.395299\", \"lat\": -34.592, \"lon\": -58.395299}\n",
    "datos_recoleta_completo = datos_recoleta.fillna(values_3429595)\n",
    "#datos_recoleta_completo.head()"
   ]
  },
  {
   "cell_type": "code",
   "execution_count": null,
   "metadata": {},
   "outputs": [],
   "source": [
    "#datos_recoleta_completo.isnull().sum()"
   ]
  },
  {
   "cell_type": "code",
   "execution_count": null,
   "metadata": {},
   "outputs": [],
   "source": [
    "geo_nulos = geo_nulos.fillna(datos_recoleta_completo)\n",
    "geo_nulos.isnull().sum()"
   ]
  },
  {
   "cell_type": "markdown",
   "metadata": {},
   "source": [
    "### LIMPIEZA LOMAS DE ZAMORA"
   ]
  },
  {
   "cell_type": "code",
   "execution_count": null,
   "metadata": {},
   "outputs": [],
   "source": [
    "mask_lomas_de_zamora = geo_nulos['place_name']== \"Lomas de Zamora\"\n",
    "datos_lomas_de_zamora = geo_nulos.loc[mask_lomas_de_zamora, :]\n",
    "#datos_lomas_de_zamora.sort_values(by=\"geonames_id\").sample(10)"
   ]
  },
  {
   "cell_type": "code",
   "execution_count": null,
   "metadata": {},
   "outputs": [],
   "source": [
    "#datos_lomas_de_zamora.isnull().sum()"
   ]
  },
  {
   "cell_type": "code",
   "execution_count": null,
   "metadata": {},
   "outputs": [],
   "source": [
    "#display(datos_lomas_de_zamora.groupby(['geonames_id']).mean())"
   ]
  },
  {
   "cell_type": "code",
   "execution_count": null,
   "metadata": {},
   "outputs": [],
   "source": [
    "values_3431270 = {\"geonames_id\":3431270.0, \"place_name\":\"Lomas de Zamora\",\"place_with_parent_names\": \"|Argentina|Bs.As. G.B.A. Zona Sur|Lomas de Zam...\",\"lat-lon\" : \"-34.76043, -58.412512\", \"lat\": -34.76043, \"lon\": -58.412512}\n",
    "datos_lomas_de_zamora_completo = datos_lomas_de_zamora.fillna(values_3431270)\n",
    "#datos_lomas_de_zamora_completo.head()"
   ]
  },
  {
   "cell_type": "code",
   "execution_count": null,
   "metadata": {},
   "outputs": [],
   "source": [
    "#datos_lomas_de_zamora_completo.isnull().sum()"
   ]
  },
  {
   "cell_type": "code",
   "execution_count": null,
   "metadata": {},
   "outputs": [],
   "source": [
    "geo_nulos = geo_nulos.fillna(datos_lomas_de_zamora_completo)\n",
    "geo_nulos.isnull().sum()"
   ]
  },
  {
   "cell_type": "markdown",
   "metadata": {},
   "source": [
    "### LIMPIEZA FLORES"
   ]
  },
  {
   "cell_type": "code",
   "execution_count": null,
   "metadata": {},
   "outputs": [],
   "source": [
    "mask_flores = geo_nulos['place_name']== \"Flores\"\n",
    "datos_flores = geo_nulos.loc[mask_flores, :]\n",
    "#datos_flores.sort_values(by=\"geonames_id\").sample(10)"
   ]
  },
  {
   "cell_type": "code",
   "execution_count": null,
   "metadata": {},
   "outputs": [],
   "source": [
    "#datos_flores.isnull().sum()"
   ]
  },
  {
   "cell_type": "code",
   "execution_count": null,
   "metadata": {},
   "outputs": [],
   "source": [
    "#display(datos_flores.groupby(['geonames_id']).mean())"
   ]
  },
  {
   "cell_type": "code",
   "execution_count": null,
   "metadata": {},
   "outputs": [],
   "source": [
    "values_3433918 = {\"geonames_id\":3433918.0, \"place_name\":\"Flores\",\"place_with_parent_names\": \"|Argentina|Capital Federal|Flores|\",\"lat-lon\" : \"-34.628981, -58.46387\", \"lat\": -34.628981, \"lon\": -58.46387}\n",
    "datos_flores_completo = datos_flores.fillna(values_3431270)\n",
    "#datos_flores_completo.head()"
   ]
  },
  {
   "cell_type": "code",
   "execution_count": null,
   "metadata": {},
   "outputs": [],
   "source": [
    "geo_nulos = geo_nulos.fillna(datos_flores_completo)\n",
    "geo_nulos.isnull().sum()"
   ]
  },
  {
   "cell_type": "markdown",
   "metadata": {},
   "source": [
    "### LIMPIEZA ITUZAINGO"
   ]
  },
  {
   "cell_type": "code",
   "execution_count": null,
   "metadata": {},
   "outputs": [],
   "source": [
    "mask_ituzaingo = geo_nulos['place_name']== \"Ituzaingó\"\n",
    "datos_ituzaingo = geo_nulos.loc[mask_ituzaingo, :]\n",
    "#datos_ituzaingo.sort_values(by=\"geonames_id\").sample(10)"
   ]
  },
  {
   "cell_type": "code",
   "execution_count": null,
   "metadata": {},
   "outputs": [],
   "source": [
    "#datos_ituzaingo.isnull().sum()"
   ]
  },
  {
   "cell_type": "code",
   "execution_count": null,
   "metadata": {},
   "outputs": [],
   "source": [
    "#display(datos_ituzaingo.groupby(['geonames_id']).mean())"
   ]
  },
  {
   "cell_type": "code",
   "execution_count": null,
   "metadata": {},
   "outputs": [],
   "source": [
    "geo_mask_3 = datos_ituzaingo.place_with_parent_names == \"|Argentina|Corrientes|Ituzaingó|\"\n",
    "geo_mask_4 = datos_ituzaingo.place_with_parent_names == \"|Argentina|Bs.As. G.B.A. Zona Oeste|Ituzaingó|\"\n",
    "\n",
    "datos_ituzaingo_3433357 = datos_ituzaingo.loc[geo_mask_3, :]\n",
    "values_3433357 = {\"geonames_id\":3433357.0, \"place_name\":\"Ituzaingó\",\"place_with_parent_names\": \"|Argentina|Corrientes|Ituzaingó|\", \"lat-lon\" : \"-27.573083, -56.705464\", \"lat\": -27.573083, \"lon\": -56.705464}\n",
    "\n",
    "\n",
    "datos_ituzaingo_3433359 = datos_ituzaingo.loc[geo_mask_4, :]\n",
    "values_3860259 = {\"geonames_id\":3860259.0, \"place_name\":\"Ituzaingó\",\"place_with_parent_names\": \"|Argentina|Bs.As. G.B.A. Zona Oeste|Ituzaingó||\",\"lat-lon\" : \"-34.652894, -58.673752\", \"lat\": -34.652894, \"lon\": -58.673752}\n",
    "\n",
    "\n",
    "datos_ituzaingo_33433357 = datos_ituzaingo.fillna(values_3433357)\n",
    "datos_ituzaingo_completo = datos_ituzaingo.fillna(values_3860259)\n",
    "#datos_ituzaingo_completo.head()"
   ]
  },
  {
   "cell_type": "code",
   "execution_count": null,
   "metadata": {},
   "outputs": [],
   "source": [
    "#datos_ituzaingo_completo.isnull().sum()"
   ]
  },
  {
   "cell_type": "code",
   "execution_count": null,
   "metadata": {},
   "outputs": [],
   "source": [
    "geo_nulos = geo_nulos.fillna(datos_ituzaingo_completo)\n",
    "geo_nulos.isnull().sum()"
   ]
  },
  {
   "cell_type": "markdown",
   "metadata": {},
   "source": [
    "### LIMPIEZA VILLA CRESPO"
   ]
  },
  {
   "cell_type": "code",
   "execution_count": null,
   "metadata": {},
   "outputs": [],
   "source": [
    "mask_villa_crespo = geo_nulos['place_name']== \"Villa Crespo\"\n",
    "datos_villa_crespo = geo_nulos.loc[mask_villa_crespo, :]\n",
    "#datos_villa_crespo.sort_values(by=\"geonames_id\").sample(10)"
   ]
  },
  {
   "cell_type": "code",
   "execution_count": null,
   "metadata": {},
   "outputs": [],
   "source": [
    "#datos_villa_crespo.isnull().sum()"
   ]
  },
  {
   "cell_type": "code",
   "execution_count": null,
   "metadata": {},
   "outputs": [],
   "source": [
    "#display(datos_villa_crespo.groupby(['geonames_id']).mean())"
   ]
  },
  {
   "cell_type": "code",
   "execution_count": null,
   "metadata": {},
   "outputs": [],
   "source": [
    "values_3427458 = {\"geonames_id\":3427458.0, \"place_name\":\"Villa Crespo\",\"place_with_parent_names\": \"|Argentina|Capital Federal|Villa Crespo|\",\"lat-lon\" : \"-34.597889, -58.439293\", \"lat\": -34.597889, \"lon\": -58.439293}\n",
    "datos_villa_crespo_completo = datos_villa_crespo.fillna(values_3427458)\n",
    "#datos_villa_crespo_completo.head()"
   ]
  },
  {
   "cell_type": "code",
   "execution_count": null,
   "metadata": {},
   "outputs": [],
   "source": [
    "geo_nulos = geo_nulos.fillna(datos_villa_crespo_completo)\n",
    "geo_nulos.isnull().sum()"
   ]
  },
  {
   "cell_type": "markdown",
   "metadata": {},
   "source": [
    "### LIMPIEZA CAPITAL FEDEREAL"
   ]
  },
  {
   "cell_type": "code",
   "execution_count": null,
   "metadata": {},
   "outputs": [],
   "source": [
    "mask_capital_federal = geo_nulos['place_name']== \"Capital Federal\"\n",
    "datos_capital_federal = geo_nulos.loc[mask_capital_federal, :]\n",
    "#datos_capital_federal.sort_values(by=\"geonames_id\").sample(10)"
   ]
  },
  {
   "cell_type": "code",
   "execution_count": null,
   "metadata": {},
   "outputs": [],
   "source": [
    "#datos_capital_federal.isnull().sum()"
   ]
  },
  {
   "cell_type": "code",
   "execution_count": null,
   "metadata": {},
   "outputs": [],
   "source": [
    "#display(datos_capital_federal.groupby(['geonames_id']).mean())"
   ]
  },
  {
   "cell_type": "code",
   "execution_count": null,
   "metadata": {},
   "outputs": [],
   "source": [
    "values_3433955 = {\"geonames_id\":3433955.0, \"place_name\":\"Capital Federal\",\"place_with_parent_names\": \"|Argentina|Capital Federal|\",\"lat-lon\" : \"-34.626709, -58.435882\", \"lat\": -34.626709, \"lon\": -58.435882}\n",
    "datos_capital_federal_completo = datos_capital_federal.fillna(values_3433955)\n",
    "#datos_capital_federal_completo.head()"
   ]
  },
  {
   "cell_type": "code",
   "execution_count": null,
   "metadata": {},
   "outputs": [],
   "source": [
    "geo_nulos = geo_nulos.fillna(datos_capital_federal_completo)\n",
    "geo_nulos.isnull().sum()"
   ]
  },
  {
   "cell_type": "markdown",
   "metadata": {},
   "source": [
    "### LIMPIEZA SAN TELMO"
   ]
  },
  {
   "cell_type": "code",
   "execution_count": null,
   "metadata": {},
   "outputs": [],
   "source": [
    "mask_san_telmo = geo_nulos['place_name']== \"San Telmo\"\n",
    "datos_san_telmo = geo_nulos.loc[mask_san_telmo, :]\n",
    "#datos_san_telmo.sort_values(by=\"geonames_id\").sample(10)"
   ]
  },
  {
   "cell_type": "code",
   "execution_count": null,
   "metadata": {},
   "outputs": [],
   "source": [
    "#datos_san_telmo.isnull().sum()"
   ]
  },
  {
   "cell_type": "code",
   "execution_count": null,
   "metadata": {},
   "outputs": [],
   "source": [
    "#display(datos_san_telmo.groupby(['geonames_id']).mean())"
   ]
  },
  {
   "cell_type": "code",
   "execution_count": null,
   "metadata": {},
   "outputs": [],
   "source": [
    "values_3428113 = {\"geonames_id\":3428113.0, \"place_name\":\"San Telmo\",\"place_with_parent_names\": \"|Argentina|Capital Federal|San Telmo|\",\"lat-lon\" : \"-34.620805, -58.376068\", \"lat\": -34.620805, \"lon\": \t-58.376068}\n",
    "datos_san_telmo_completo = datos_san_telmo.fillna(values_3428113)\n",
    "#datos_san_telmo_completo.head()"
   ]
  },
  {
   "cell_type": "code",
   "execution_count": null,
   "metadata": {},
   "outputs": [],
   "source": [
    "geo_nulos = geo_nulos.fillna(datos_san_telmo_completo)\n",
    "geo_nulos.isnull().sum()"
   ]
  },
  {
   "cell_type": "markdown",
   "metadata": {},
   "source": [
    "### LIMPIEZA MORON"
   ]
  },
  {
   "cell_type": "code",
   "execution_count": null,
   "metadata": {},
   "outputs": [],
   "source": [
    "mask_moron = geo_nulos['place_name']== \"Morón\"\n",
    "datos_moron = geo_nulos.loc[mask_moron, :]\n",
    "#datos_moron.sort_values(by=\"geonames_id\").sample(10)"
   ]
  },
  {
   "cell_type": "code",
   "execution_count": null,
   "metadata": {},
   "outputs": [],
   "source": [
    "#datos_moron.isnull().sum()"
   ]
  },
  {
   "cell_type": "code",
   "execution_count": null,
   "metadata": {},
   "outputs": [],
   "source": [
    "#display(datos_moron.groupby(['geonames_id']).mean())"
   ]
  },
  {
   "cell_type": "code",
   "execution_count": null,
   "metadata": {},
   "outputs": [],
   "source": [
    "values_3430544 = {\"geonames_id\":3430544.0, \"place_name\":\"Morón\",\"place_with_parent_names\": \"|Argentina|Bs.As. G.B.A. Zona Oeste|Morón|\",\"lat-lon\" : \"-34.654915, -58.62302\", \"lat\": -34.654915, \"lon\": -58.62302}\n",
    "datos_moron_completo = datos_moron.fillna(values_3430544)\n",
    "#datos_moron_completo.head()"
   ]
  },
  {
   "cell_type": "code",
   "execution_count": null,
   "metadata": {},
   "outputs": [],
   "source": [
    "geo_nulos = geo_nulos.fillna(datos_moron_completo)\n",
    "geo_nulos.isnull().sum()"
   ]
  },
  {
   "cell_type": "markdown",
   "metadata": {},
   "source": [
    "### LIMPIEZA ALMAGRO"
   ]
  },
  {
   "cell_type": "code",
   "execution_count": null,
   "metadata": {},
   "outputs": [],
   "source": [
    "mask_almagro = geo_nulos['place_name']== \"Almagro\"\n",
    "datos_almagro = geo_nulos.loc[mask_almagro, :]\n",
    "#datos_almagro.sort_values(by=\"geonames_id\").sample(10)"
   ]
  },
  {
   "cell_type": "code",
   "execution_count": null,
   "metadata": {},
   "outputs": [],
   "source": [
    "#datos_almagro.isnull().sum()"
   ]
  },
  {
   "cell_type": "code",
   "execution_count": null,
   "metadata": {},
   "outputs": [],
   "source": [
    "#display(datos_almagro.groupby(['geonames_id']).mean())"
   ]
  },
  {
   "cell_type": "code",
   "execution_count": null,
   "metadata": {},
   "outputs": [],
   "source": [
    "values_3436397 = {\"geonames_id\":3436397.0, \"place_name\":\"Almagro\",\"place_with_parent_names\": \"|Argentina|Capital Federal|Almagro|\",\"lat-lon\" : \"-34.608187, -58.421223\", \"lat\": -34.608187, \"lon\": -58.421223}\n",
    "datos_almagro_completo = datos_almagro.fillna(values_3436397)\n",
    "#datos_almagro_completo.head()"
   ]
  },
  {
   "cell_type": "code",
   "execution_count": null,
   "metadata": {},
   "outputs": [],
   "source": [
    "geo_nulos = geo_nulos.fillna(datos_almagro_completo)\n",
    "geo_nulos.isnull().sum()"
   ]
  },
  {
   "cell_type": "markdown",
   "metadata": {},
   "source": [
    "### LIMPIEZA BARRIO NORTE"
   ]
  },
  {
   "cell_type": "code",
   "execution_count": null,
   "metadata": {},
   "outputs": [],
   "source": [
    "mask_barrio_norte = geo_nulos['place_name']== \"Barrio Norte\"\n",
    "datos_barrio_norte = geo_nulos.loc[mask_barrio_norte, :]\n",
    "#datos_barrio_norte.sort_values(by=\"geonames_id\").sample(10)"
   ]
  },
  {
   "cell_type": "code",
   "execution_count": null,
   "metadata": {},
   "outputs": [],
   "source": [
    "#datos_barrio_norte.isnull().sum()"
   ]
  },
  {
   "cell_type": "code",
   "execution_count": null,
   "metadata": {},
   "outputs": [],
   "source": [
    "#display(datos_barrio_norte.groupby(['geonames_id']).mean())"
   ]
  },
  {
   "cell_type": "code",
   "execution_count": null,
   "metadata": {},
   "outputs": [],
   "source": [
    "values_3436109 = {\"geonames_id\":3436109.0, \"place_name\":\"Barrio Norte\",\"place_with_parent_names\": \"\t|Argentina|Capital Federal|Barrio Norte|\",\"lat-lon\" : \"-34.593104, -58.400381\", \"lat\": -34.593104, \"lon\": -58.400381}\n",
    "datos_barrio_norte_completo = datos_barrio_norte.fillna(values_3436109)\n",
    "#datos_barrio_norte_completo.head()"
   ]
  },
  {
   "cell_type": "code",
   "execution_count": null,
   "metadata": {},
   "outputs": [],
   "source": [
    "geo_nulos = geo_nulos.fillna(datos_barrio_norte_completo)\n",
    "geo_nulos.isnull().sum()"
   ]
  },
  {
   "cell_type": "markdown",
   "metadata": {},
   "source": [
    "### LIMPIEZA RAMOS MEJIA"
   ]
  },
  {
   "cell_type": "code",
   "execution_count": null,
   "metadata": {},
   "outputs": [],
   "source": [
    "mask_ramos_mejia = geo_nulos['place_name']== \"Ramos Mejía\"\n",
    "datos_ramos_mejia = geo_nulos.loc[mask_ramos_mejia, :]\n",
    "#datos_ramos_mejia.sort_values(by=\"geonames_id\").sample(10)"
   ]
  },
  {
   "cell_type": "code",
   "execution_count": null,
   "metadata": {},
   "outputs": [],
   "source": [
    "#datos_ramos_mejia.isnull().sum()"
   ]
  },
  {
   "cell_type": "code",
   "execution_count": null,
   "metadata": {},
   "outputs": [],
   "source": [
    "#display(datos_ramos_mejia.groupby(['geonames_id']).mean())"
   ]
  },
  {
   "cell_type": "code",
   "execution_count": null,
   "metadata": {},
   "outputs": [],
   "source": [
    "values_3429617 = {\"geonames_id\":3429617.0, \"place_name\":\"Ramos Mejía\",\"place_with_parent_names\": \"|Argentina|Bs.As. G.B.A. Zona Oeste|La Matanza...\",\"lat-lon\" : \"-34.648363, -58.562762\", \"lat\": -34.648363, \"lon\": -58.562762}\n",
    "datos_ramos_mejia_completo = datos_ramos_mejia.fillna(values_3429617)\n",
    "#datos_barrio_norte_completo.head()"
   ]
  },
  {
   "cell_type": "code",
   "execution_count": null,
   "metadata": {},
   "outputs": [],
   "source": [
    "geo_nulos = geo_nulos.fillna(datos_ramos_mejia_completo)\n",
    "geo_nulos.isnull().sum()"
   ]
  },
  {
   "cell_type": "markdown",
   "metadata": {},
   "source": [
    "### LIMPIEZA MARTINEZ"
   ]
  },
  {
   "cell_type": "code",
   "execution_count": null,
   "metadata": {},
   "outputs": [],
   "source": [
    "mask_martinez = geo_nulos['place_name']== \"Martínez\"\n",
    "datos_martinez = geo_nulos.loc[mask_martinez, :]\n",
    "#datos_martinez.sort_values(by=\"geonames_id\").sample(10)"
   ]
  },
  {
   "cell_type": "code",
   "execution_count": null,
   "metadata": {},
   "outputs": [],
   "source": [
    "#datos_martinez.isnull().sum()"
   ]
  },
  {
   "cell_type": "code",
   "execution_count": null,
   "metadata": {},
   "outputs": [],
   "source": [
    "#display(datos_martinez.groupby(['geonames_id']).mean())"
   ]
  },
  {
   "cell_type": "code",
   "execution_count": null,
   "metadata": {},
   "outputs": [],
   "source": [
    "values_3430813 = {\"geonames_id\":3430813.0, \"place_name\":\"Martínez\",\"place_with_parent_names\": \"|Argentina|Bs.As. G.B.A. Zona Norte|San Isidro...\",\"lat-lon\" : \"-34.492594, -58.506898\", \"lat\": \t-34.492594, \"lon\": -58.506898}\n",
    "datos_martinez_completo = datos_martinez.fillna(values_3430813)\n",
    "#datos_martinez_completo.head()"
   ]
  },
  {
   "cell_type": "code",
   "execution_count": null,
   "metadata": {},
   "outputs": [],
   "source": [
    "geo_nulos = geo_nulos.fillna(datos_martinez_completo)\n",
    "geo_nulos.isnull().sum()"
   ]
  },
  {
   "cell_type": "markdown",
   "metadata": {},
   "source": [
    "### LIMPIEZA LANUS"
   ]
  },
  {
   "cell_type": "code",
   "execution_count": null,
   "metadata": {},
   "outputs": [],
   "source": [
    "mask_lanus = geo_nulos['place_name']== \"Lanús\"\n",
    "datos_lanus = geo_nulos.loc[mask_lanus, :]\n",
    "#datos_lanus.sort_values(by=\"geonames_id\").sample(10)"
   ]
  },
  {
   "cell_type": "code",
   "execution_count": null,
   "metadata": {},
   "outputs": [],
   "source": [
    "#datos_lanus.isnull().sum()"
   ]
  },
  {
   "cell_type": "code",
   "execution_count": null,
   "metadata": {},
   "outputs": [],
   "source": [
    "#display(datos_lanus.groupby(['geonames_id']).mean())"
   ]
  },
  {
   "cell_type": "code",
   "execution_count": null,
   "metadata": {},
   "outputs": [],
   "source": [
    "values_3432134 = {\"geonames_id\":3432134.0, \"place_name\":\"Lanús\",\"place_with_parent_names\": \"|Argentina|Bs.As. G.B.A. Zona Sur|Lanús|Lanús|\",\"lat-lon\" : \"-34.701389, -58.398743\", \"lat\": -34.701389, \"lon\": -58.398743}\n",
    "datos_lanus_completo = datos_lanus.fillna(values_3432134)\n",
    "#datos_lanus_completo.head()"
   ]
  },
  {
   "cell_type": "code",
   "execution_count": null,
   "metadata": {},
   "outputs": [],
   "source": [
    "geo_nulos = geo_nulos.fillna(datos_lanus_completo)\n",
    "geo_nulos.isnull().sum()"
   ]
  },
  {
   "cell_type": "markdown",
   "metadata": {},
   "source": [
    "### LIMPIEZA ESCOBAR"
   ]
  },
  {
   "cell_type": "code",
   "execution_count": null,
   "metadata": {},
   "outputs": [],
   "source": [
    "mask_escobar = geo_nulos['place_name']== \"Escobar\"\n",
    "datos_escobar = geo_nulos.loc[mask_escobar, :]\n",
    "#datos_escobar.sort_values(by=\"geonames_id\").sample(10)"
   ]
  },
  {
   "cell_type": "code",
   "execution_count": null,
   "metadata": {},
   "outputs": [],
   "source": [
    "#datos_escobar.isnull().sum()"
   ]
  },
  {
   "cell_type": "code",
   "execution_count": null,
   "metadata": {},
   "outputs": [],
   "source": [
    "display(datos_escobar.groupby(['geonames_id']).mean())"
   ]
  },
  {
   "cell_type": "code",
   "execution_count": null,
   "metadata": {},
   "outputs": [],
   "source": [
    "values_3434130 = {\"geonames_id\":3434130.0, \"place_name\":\"Escobar\", \"place_with_parent_names\": \"|Argentina|Bs.As. G.B.A. Zona Norte|Escobar|\",\"lat-lon\" : \"-34.36929, -58.756345\", \"lat\": -34.36929, \"lon\": -58.756345}\n",
    "datos_escobar_completo = datos_escobar.fillna(values_3434130)\n",
    "#datos_escobar_completo.head()"
   ]
  },
  {
   "cell_type": "code",
   "execution_count": null,
   "metadata": {},
   "outputs": [],
   "source": [
    "geo_nulos = geo_nulos.fillna(datos_escobar_completo)\n",
    "geo_nulos.isnull().sum()"
   ]
  },
  {
   "cell_type": "markdown",
   "metadata": {},
   "source": [
    "### LIMPIEZA BANFIELD"
   ]
  },
  {
   "cell_type": "code",
   "execution_count": null,
   "metadata": {},
   "outputs": [],
   "source": [
    "mask_banfield = geo_nulos['place_name']== \"Banfield\"\n",
    "datos_banfield = geo_nulos.loc[mask_banfield, :]\n",
    "#datos_banfield.sort_values(by=\"geonames_id\").sample(10)"
   ]
  },
  {
   "cell_type": "code",
   "execution_count": null,
   "metadata": {},
   "outputs": [],
   "source": [
    "datos_banfield.isnull().sum()"
   ]
  },
  {
   "cell_type": "code",
   "execution_count": null,
   "metadata": {},
   "outputs": [],
   "source": [
    "#display(datos_banfield.groupby(['geonames_id']).mean())"
   ]
  },
  {
   "cell_type": "code",
   "execution_count": null,
   "metadata": {},
   "outputs": [],
   "source": [
    "values_3436152 = {\"geonames_id\":3436152.0, \"place_name\":\"Banfield\", \"place_with_parent_names\": \"|Argentina|Bs.As. G.B.A. Zona Sur|Lomas de Zam...\",\"lat-lon\" : \"-34.742923, -58.399492\", \"lat\": -34.742923, \"lon\": -58.399492}\n",
    "datos_banfield_completo = datos_banfield.fillna(values_3436152)#\n",
    "#datos_banfield_completo.head()"
   ]
  },
  {
   "cell_type": "code",
   "execution_count": null,
   "metadata": {},
   "outputs": [],
   "source": [
    "geo_nulos = geo_nulos.fillna(datos_banfield_completo)\n",
    "geo_nulos.isnull().sum()"
   ]
  },
  {
   "cell_type": "markdown",
   "metadata": {},
   "source": [
    "### LIMPIEZA SAN ISIDRO"
   ]
  },
  {
   "cell_type": "code",
   "execution_count": null,
   "metadata": {},
   "outputs": [],
   "source": [
    "mask_sa_isidro = geo_nulos['place_name']== \"San Isidro\"\n",
    "datos_san_isidro = geo_nulos.loc[mask_sa_isidro, :]\n",
    "#datos_san_isidro.sort_values(by=\"geonames_id\").sample(10)"
   ]
  },
  {
   "cell_type": "code",
   "execution_count": null,
   "metadata": {},
   "outputs": [],
   "source": [
    "#datos_san_isidro.isnull().sum()"
   ]
  },
  {
   "cell_type": "code",
   "execution_count": null,
   "metadata": {},
   "outputs": [],
   "source": [
    "#display(datos_san_isidro.groupby(['geonames_id']).mean())"
   ]
  },
  {
   "cell_type": "code",
   "execution_count": null,
   "metadata": {},
   "outputs": [],
   "source": [
    "values_34289983 = {\"geonames_id\":3428983.0, \"place_name\":\"San Isidro\", \"place_with_parent_names\": \"|Argentina|Bs.As. G.B.A. Zona Norte|San Isidro|\",\"lat-lon\" : \"-34.478067, -58.536362\", \"lat\": -34.478067, \"lon\": -58.536362}\n",
    "datos_san_isidro_completo = datos_san_isidro.fillna(values_34289983)\n",
    "#datos_san_isidro_completo.head()"
   ]
  },
  {
   "cell_type": "code",
   "execution_count": null,
   "metadata": {},
   "outputs": [],
   "source": [
    "geo_nulos = geo_nulos.fillna(datos_san_isidro_completo)\n",
    "geo_nulos.isnull().sum()"
   ]
  },
  {
   "cell_type": "markdown",
   "metadata": {},
   "source": [
    "### LIMPIEZA PINAMAR"
   ]
  },
  {
   "cell_type": "code",
   "execution_count": null,
   "metadata": {},
   "outputs": [],
   "source": [
    "mask_pinarmar = geo_nulos['place_name']== \"Pinamar\"\n",
    "datos_pinamar = geo_nulos.loc[mask_pinarmar, :]\n",
    "datos_pinamar.sort_values(by=\"geonames_id\").sample(10)"
   ]
  },
  {
   "cell_type": "code",
   "execution_count": null,
   "metadata": {},
   "outputs": [],
   "source": [
    "datos_pinamar.isnull().sum()"
   ]
  },
  {
   "cell_type": "code",
   "execution_count": null,
   "metadata": {},
   "outputs": [],
   "source": [
    "display(datos_pinamar.groupby(['geonames_id']).mean())"
   ]
  },
  {
   "cell_type": "code",
   "execution_count": null,
   "metadata": {},
   "outputs": [],
   "source": [
    "values_3429971 = {\"geonames_id\":3429971.0, \"place_name\":\"Pinamar\", \"place_with_parent_names\": \"|Argentina|Buenos Aires Costa Atlántica|Pinamar|\",\"lat-lon\" : \"-37.10956\t-56.860607\", \"lat\": -37.10956, \"lon\": -56.860607}\n",
    "datos_pinamar_completo = datos_pinamar.fillna(values_3429971)\n",
    "datos_pinamar_completo.head()"
   ]
  },
  {
   "cell_type": "code",
   "execution_count": null,
   "metadata": {},
   "outputs": [],
   "source": [
    "geo_nulos = geo_nulos.fillna(datos_pinamar_completo)\n",
    "geo_nulos.isnull().sum()"
   ]
  },
  {
   "cell_type": "markdown",
   "metadata": {},
   "source": [
    "### LIMPIEZA BOEDO"
   ]
  },
  {
   "cell_type": "code",
   "execution_count": null,
   "metadata": {},
   "outputs": [],
   "source": [
    "mask_boedo = geo_nulos['place_name']== \"Boedo\"\n",
    "datos_boedo = geo_nulos.loc[mask_boedo, :]\n",
    "#datos_boedo.sort_values(by=\"geonames_id\").sample(10)"
   ]
  },
  {
   "cell_type": "code",
   "execution_count": null,
   "metadata": {},
   "outputs": [],
   "source": [
    "datos_boedo.isnull().sum()"
   ]
  },
  {
   "cell_type": "code",
   "execution_count": null,
   "metadata": {},
   "outputs": [],
   "source": [
    "display(datos_boedo.groupby(['geonames_id']).mean())"
   ]
  },
  {
   "cell_type": "code",
   "execution_count": null,
   "metadata": {},
   "outputs": [],
   "source": [
    "values_3436003 = {\"geonames_id\":3436003.0, \"place_name\":\"Boedo\", \"place_with_parent_names\": \"|Argentina|Capital Federal|Boedo|\",\"lat-lon\" : \"-34.625496, -58.417307\", \"lat\": -34.625496, \"lon\": -58.417307}\n",
    "datos_boedo_completo = datos_boedo.fillna(values_3436003)\n",
    "datos_boedo_completo.head()"
   ]
  },
  {
   "cell_type": "code",
   "execution_count": null,
   "metadata": {},
   "outputs": [],
   "source": [
    "geo_nulos = geo_nulos.fillna(datos_boedo_completo)\n",
    "geo_nulos.isnull().sum()"
   ]
  },
  {
   "cell_type": "markdown",
   "metadata": {},
   "source": [
    "### LIMPIEZA NUÑEZ"
   ]
  },
  {
   "cell_type": "code",
   "execution_count": null,
   "metadata": {},
   "outputs": [],
   "source": [
    "mask_nunez = geo_nulos['place_name']== \"Nuñez\"\n",
    "datos_nunez = geo_nulos.loc[mask_nunez, :]\n",
    "#datos_nunez.sort_values(by=\"geonames_id\").sample(10)"
   ]
  },
  {
   "cell_type": "code",
   "execution_count": null,
   "metadata": {},
   "outputs": [],
   "source": [
    "#datos_nunez.isnull().sum()"
   ]
  },
  {
   "cell_type": "code",
   "execution_count": null,
   "metadata": {},
   "outputs": [],
   "source": [
    "#display(datos_nunez.groupby(['geonames_id']).mean())"
   ]
  },
  {
   "cell_type": "code",
   "execution_count": null,
   "metadata": {},
   "outputs": [],
   "source": [
    "values_3430348 = {\"geonames_id\":3430348.0, \"place_name\":\"Nuñez\", \"place_with_parent_names\": \"|Argentina|Capital Federal|Nuñez|\",\"lat-lon\" : \"-34.549629, -58.463268\", \"lat\": -34.549629, \"lon\": -58.463268}\n",
    "datos_nunez_completo = datos_nunez.fillna(values_3430348)\n",
    "#datos_nunez_completo.head()"
   ]
  },
  {
   "cell_type": "code",
   "execution_count": null,
   "metadata": {},
   "outputs": [],
   "source": [
    "geo_nulos = geo_nulos.fillna(datos_nunez_completo)\n",
    "geo_nulos.isnull().sum()"
   ]
  },
  {
   "cell_type": "markdown",
   "metadata": {},
   "source": [
    "### LIMPIEZA SAN MIGUEL"
   ]
  },
  {
   "cell_type": "code",
   "execution_count": null,
   "metadata": {},
   "outputs": [],
   "source": [
    "mask_sa_miguel = geo_nulos['place_name']== \"San Miguel\"\n",
    "datos_san_miguel = geo_nulos.loc[mask_sa_miguel, :]#\n",
    "#datos_san_miguel.sort_values(by=\"geonames_id\").sample(10)"
   ]
  },
  {
   "cell_type": "code",
   "execution_count": null,
   "metadata": {},
   "outputs": [],
   "source": [
    "#datos_san_miguel.isnull().sum()"
   ]
  },
  {
   "cell_type": "code",
   "execution_count": null,
   "metadata": {},
   "outputs": [],
   "source": [
    "display(datos_san_miguel.mean())"
   ]
  },
  {
   "cell_type": "code",
   "execution_count": null,
   "metadata": {},
   "outputs": [],
   "source": [
    "geoname = 34645366.0"
   ]
  },
  {
   "cell_type": "code",
   "execution_count": null,
   "metadata": {},
   "outputs": [],
   "source": [
    "values_34645366 = {\"geonames_id\":34645366.0, \"place_name\":\"San Miguel\", \"place_with_parent_names\": \"|Argentina|Bs.As. G.B.A. Zona Norte|San Miguel|\",\"lat-lon\" : \" -34.542439, -58.713420\", \"lat\":  -34.542439, \"lon\":  -58.713420}\n",
    "datos_san_miguel_completo = datos_san_miguel.fillna(values_3430348)\n",
    "#datos_san_miguel_completo.head()"
   ]
  },
  {
   "cell_type": "code",
   "execution_count": null,
   "metadata": {},
   "outputs": [],
   "source": [
    "geo_nulos = geo_nulos.fillna(datos_san_miguel_completo)\n",
    "geo_nulos.isnull().sum()"
   ]
  },
  {
   "cell_type": "code",
   "execution_count": null,
   "metadata": {},
   "outputs": [],
   "source": [
    "data[['geonames_id_nuevo', 'lat-lon_nuevo', 'lat_nuevo', 'lon_nuevo']] = geo_nulos[['geonames_id', 'lat-lon', 'lat', 'lon']]"
   ]
  },
  {
   "cell_type": "markdown",
   "metadata": {},
   "source": [
    "<a id=\"section_limpieza_pisos\"></a> \n",
    "\n",
    "### Limpieza de la columna Pisos\n",
    "\n",
    "[volver a Indice](#section_indice)\n"
   ]
  },
  {
   "cell_type": "code",
   "execution_count": null,
   "metadata": {},
   "outputs": [],
   "source": [
    "#Creación de una nueva columna con la copia de los valores de la columna 'floor'\n",
    "data['floor_copia'] = data['floor']\n",
    "data['property_type_copia'] = data['property_type']\n",
    "#Cambio a minúscula estas dos nuevas columnas creadas\n",
    "data['description_copia'] = data['description'].astype(str).str.lower()\n",
    "data['title_copia']= data['title'].astype(str).str.lower()"
   ]
  },
  {
   "cell_type": "code",
   "execution_count": null,
   "metadata": {},
   "outputs": [],
   "source": [
    "#Comprobación de valores null en data 'floor_copia'\n",
    "data['floor_copia'].isnull().value_counts()"
   ]
  },
  {
   "cell_type": "code",
   "execution_count": null,
   "metadata": {},
   "outputs": [],
   "source": [
    "#Comprobación de valores null en data 'description_copia'\n",
    "data['description_copia'].isnull().value_counts()"
   ]
  },
  {
   "cell_type": "code",
   "execution_count": null,
   "metadata": {},
   "outputs": [],
   "source": [
    "#Comprobación de valores null en data 'title_copia'\n",
    "data['title_copia'].isnull().value_counts()"
   ]
  },
  {
   "cell_type": "code",
   "execution_count": null,
   "metadata": {},
   "outputs": [],
   "source": [
    "#Categrias en property_type y qué cantidaa hay\n",
    "data['property_type_copia'].value_counts()"
   ]
  },
  {
   "cell_type": "code",
   "execution_count": null,
   "metadata": {},
   "outputs": [],
   "source": [
    "#agrupo por tipo de propiedad\n",
    "tipo_propiedad = data.groupby('property_type_copia')"
   ]
  },
  {
   "cell_type": "code",
   "execution_count": null,
   "metadata": {},
   "outputs": [],
   "source": [
    "bins = [0, 1, 2, 3, 4, 5, 6, 7, 8, 9, 15, 20, 30, 40, 50, 1000, 2000]\n",
    "pisos = pd.cut(data.floor_copia, bins, right = False)"
   ]
  },
  {
   "cell_type": "code",
   "execution_count": null,
   "metadata": {},
   "outputs": [],
   "source": [
    "pisos.value_counts()"
   ]
  },
  {
   "cell_type": "code",
   "execution_count": null,
   "metadata": {},
   "outputs": [],
   "source": [
    "data.pivot_table('floor_copia', index = [pisos], columns= 'property_type_copia', aggfunc={'floor_copia': 'count'})"
   ]
  },
  {
   "cell_type": "code",
   "execution_count": null,
   "metadata": {},
   "outputs": [],
   "source": [
    "patron = \"\\spiso:[\\s]?(?P<numero>\\d[\\d]?)\"\n",
    "busca = re.compile(patron)\n",
    "\n",
    "description_series_match = data.description_copia.apply(lambda x:  x if x is np.NaN else busca.search(x))\n",
    "\n",
    "mask_description_notnull = description_series_match.notnull()\n",
    "data.loc[mask_description_notnull,'floor_copia'] = description_series_match[mask_description_notnull].apply(lambda x: x.group('numero')).astype(float)"
   ]
  },
  {
   "cell_type": "code",
   "execution_count": null,
   "metadata": {},
   "outputs": [],
   "source": [
    "data['floor_copia'].isnull().value_counts()"
   ]
  },
  {
   "cell_type": "code",
   "execution_count": null,
   "metadata": {},
   "outputs": [],
   "source": [
    "bins = [0, 1, 2, 3, 4, 5, 6, 7, 8, 9, 15, 20, 30, 40, 50, 1000, 2000]\n",
    "pisos = pd.cut(data.floor_copia, bins, right = False)\n",
    "data.pivot_table('floor_copia', index = [pisos], columns= 'property_type_copia', aggfunc={'floor_copia': 'count'})"
   ]
  },
  {
   "cell_type": "code",
   "execution_count": null,
   "metadata": {},
   "outputs": [],
   "source": [
    "patron = \"piso[\\s]?(?P<numero>\\d[\\d]?)\"\n",
    "\n",
    "busca = re.compile(patron)\n",
    "\n",
    "description_series_match = data.description_copia.apply(lambda x:  x if x is np.NaN else busca.search(x))\n",
    "\n",
    "mask_description_notnull = description_series_match.notnull()\n",
    "data.loc[mask_description_notnull,'floor_copia'] = description_series_match[mask_description_notnull].apply(lambda x: x.group('numero')).astype(float)"
   ]
  },
  {
   "cell_type": "code",
   "execution_count": null,
   "metadata": {},
   "outputs": [],
   "source": [
    "data['floor_copia'].isnull().value_counts()"
   ]
  },
  {
   "cell_type": "code",
   "execution_count": null,
   "metadata": {},
   "outputs": [],
   "source": [
    "bins = [0, 1, 2, 3, 4, 5, 6, 7, 8, 9, 15, 20, 30, 40, 50, 1000, 2000]\n",
    "pisos = pd.cut(data.floor_copia, bins, right = False)\n",
    "data.pivot_table('floor_copia', index = [pisos], columns= 'property_type_copia', aggfunc={'floor_copia': 'count'})"
   ]
  },
  {
   "cell_type": "code",
   "execution_count": null,
   "metadata": {},
   "outputs": [],
   "source": [
    "data.loc[mask_description_notnull, ['description_copia', 'title_copia']] = \"\""
   ]
  },
  {
   "cell_type": "code",
   "execution_count": null,
   "metadata": {},
   "outputs": [],
   "source": [
    "patron = \"\\s(?P<numero>\\d[\\d]?)[\\s]?[º|°]?\\s*piso\"\n",
    "busca = re.compile(patron)\n",
    "\n",
    "description_series_match = data.description_copia.apply(lambda x:  x if x is np.NaN else busca.search(x))\n",
    "\n",
    "mask_description_notnull = description_series_match.notnull()\n",
    "data.loc[mask_description_notnull,'floor_copia'] = description_series_match[mask_description_notnull].apply(lambda x: x.group('numero')).astype(float)"
   ]
  },
  {
   "cell_type": "code",
   "execution_count": null,
   "metadata": {},
   "outputs": [],
   "source": [
    "data.floor_copia.dtypes"
   ]
  },
  {
   "cell_type": "code",
   "execution_count": null,
   "metadata": {},
   "outputs": [],
   "source": [
    "data['floor_copia'].isnull().value_counts()"
   ]
  },
  {
   "cell_type": "code",
   "execution_count": null,
   "metadata": {},
   "outputs": [],
   "source": [
    "bins = [0, 1, 2, 3, 4, 5, 6, 7, 8, 9, 15, 20, 30, 40, 50, 1000, 2000]\n",
    "pisos = pd.cut(data.floor_copia, bins, right = False)\n",
    "data.pivot_table('floor_copia', index = [pisos], columns= 'property_type_copia', aggfunc={'floor_copia': 'count'})"
   ]
  },
  {
   "cell_type": "code",
   "execution_count": null,
   "metadata": {},
   "outputs": [],
   "source": [
    "data.loc[mask_description_notnull, ['description_copia', 'title_copia']] = \"\""
   ]
  },
  {
   "cell_type": "code",
   "execution_count": null,
   "metadata": {},
   "outputs": [],
   "source": [
    "patron = \"\\s(?P<numero>\\d[\\d]?)\\s*\\w{0,5}\\s*piso\"\n",
    "busca = re.compile(patron)\n",
    "\n",
    "description_series_match = data.description_copia.apply(lambda x:  x if x is np.NaN else busca.search(x))\n",
    "\n",
    "mask_description_notnull = description_series_match.notnull()\n",
    "data.loc[mask_description_notnull,'floor_copia'] = description_series_match[mask_description_notnull].apply(lambda x: x.group('numero')).astype(float)"
   ]
  },
  {
   "cell_type": "code",
   "execution_count": null,
   "metadata": {},
   "outputs": [],
   "source": [
    "data.floor_copia.dtypes"
   ]
  },
  {
   "cell_type": "code",
   "execution_count": null,
   "metadata": {},
   "outputs": [],
   "source": [
    "data['floor_copia'].isnull().value_counts()"
   ]
  },
  {
   "cell_type": "code",
   "execution_count": null,
   "metadata": {},
   "outputs": [],
   "source": [
    "bins = [0, 1, 2, 3, 4, 5, 6, 7, 8, 9, 15, 20, 30, 40, 50, 1000, 2000]\n",
    "pisos = pd.cut(data.floor_copia, bins, right = False)\n",
    "data.pivot_table('floor_copia', index = [pisos], columns= 'property_type_copia', aggfunc={'floor_copia': 'count'})"
   ]
  },
  {
   "cell_type": "code",
   "execution_count": null,
   "metadata": {},
   "outputs": [],
   "source": [
    "data.loc[mask_description_notnull, ['description_copia', 'title_copia']] = \"\""
   ]
  },
  {
   "cell_type": "code",
   "execution_count": null,
   "metadata": {},
   "outputs": [],
   "source": [
    "patron = r\"(duplex|triplex)\"\n",
    "busca = re.compile(patron)\n",
    "\n",
    "description_series_match = data.description_copia.apply(lambda x:  x if x is np.NaN else busca.search(x))\n",
    "mask_description_notnull = description_series_match.notnull()\n",
    "encontradas = description_series_match[mask_description_notnull].apply(lambda x: x.group(1))\n",
    "\n",
    "numcol_cat_mapper = {'duplex': 2,'triplex': 3}\n",
    "encontradas1 = encontradas.map(numcol_cat_mapper)\n"
   ]
  },
  {
   "cell_type": "code",
   "execution_count": null,
   "metadata": {},
   "outputs": [],
   "source": [
    "data.loc[mask_description_notnull,'floor_copia']= encontradas1.astype(float)"
   ]
  },
  {
   "cell_type": "code",
   "execution_count": null,
   "metadata": {},
   "outputs": [],
   "source": [
    "data['floor_copia'].isnull().value_counts()"
   ]
  },
  {
   "cell_type": "code",
   "execution_count": null,
   "metadata": {},
   "outputs": [],
   "source": [
    "bins = [0, 1, 2, 3, 4, 5, 6, 7, 8, 9, 15, 20, 30, 40, 50, 1000, 2000]\n",
    "pisos = pd.cut(data.floor_copia, bins, right = False)\n",
    "data.pivot_table('floor_copia', index = [pisos], columns= 'property_type_copia', aggfunc={'floor_copia': 'count'})"
   ]
  },
  {
   "cell_type": "code",
   "execution_count": null,
   "metadata": {},
   "outputs": [],
   "source": [
    "data.loc[mask_description_notnull, ['description_copia', 'title_copia']] = \"\""
   ]
  },
  {
   "cell_type": "code",
   "execution_count": null,
   "metadata": {},
   "outputs": [],
   "source": [
    "patron = r\"(primer|segundo|tercer|cuarto|quinto|sexto|s[e|é]ptimo|octavo|noveno|d[e|é]cimo|d[e|é]cimo[\\s]?primer|d[e|é]cimo[\\s]?segundo|d[e|é]cimo[\\s]?tercer|d[e|é]cimo[\\s]?cuarto|d[e|é]cimo[\\s]?quinto|d[e|é]cimo[\\s]?sexto|d[e|é]cimo[\\s]?s[e|é]ptimo|d[e|é]cimo[\\s]?octavo|d[e|é]cimo[\\s]?noveno|vig[e|é]simo)[\\s]?piso\"\n",
    "busca = re.compile(patron)\n",
    "\n",
    "description_series_match = data.description_copia.apply(lambda x:  x if x is np.NaN else busca.search(x))\n",
    "mask_description_notnull = description_series_match.notnull()\n",
    "encontradas = description_series_match[mask_description_notnull].apply(lambda x: x.group(1))\n",
    "\n",
    "num_pisos_mapper = {'primer': 1,'segundo':2, 'tercer': 3, 'cuarto': 4, 'quinto': 5, 'sexto': 6, \\\n",
    "                    'septimo':7, 'séptimo':7, 'octavo': 8, 'noveno': 9, 'decimo': 10, 'décimo': 10, \\\n",
    "                    'decimo primer': 11, 'décimo primer': 11, 'décimoprimer': 11, 'decimoprimer': 11, \\\n",
    "                    'decimo segundo': 12,  'décimo segundo': 12, 'décimosegundo': 12, 'decimosegundo': 12, \\\n",
    "                    'decimo tercer': 13, 'decimotercer': 13,  'décimo tercer': 13, 'décimotercer': 13, \\\n",
    "                    'decimocuarto': 14, 'decimo cuarto': 14, 'décimocuarto': 14, 'décimo cuarto': 14,\\\n",
    "                    'decimoquinto': 15, 'decimo quinto': 15, 'décimoquinto': 15, 'décimo quinto': 15,\n",
    "                    'décimo sexto': 16,  'decimosexto': 16, 'décimosexto': 16,  'decimo sexto': 16,\\\n",
    "                    'decimoseptimo': 17, 'decimo septimo': 17, 'decimoséptimo': 17, 'decimo séptimo': 17,\\\n",
    "                    'decimooctavo': 18, 'decimo octavo': 18, 'décimooctavo': 18, 'décimo octavo': 18,\\\n",
    "                    'decimonoveno': 19, 'decimo noveno': 19, 'décimonoveno': 19, 'décimo noveno': 19, \\\n",
    "                    'vigesimo': 20, 'vigésimo': 20}\n",
    "encontradas1 = encontradas.map(num_pisos_mapper)"
   ]
  },
  {
   "cell_type": "code",
   "execution_count": null,
   "metadata": {},
   "outputs": [],
   "source": [
    "data.loc[mask_description_notnull,'floor_copia']= encontradas1.astype(float)"
   ]
  },
  {
   "cell_type": "code",
   "execution_count": null,
   "metadata": {},
   "outputs": [],
   "source": [
    "data['floor_copia'].isnull().value_counts()"
   ]
  },
  {
   "cell_type": "code",
   "execution_count": null,
   "metadata": {},
   "outputs": [],
   "source": [
    "bins = [0, 1, 2, 3, 4, 5, 6, 7, 8, 9, 15, 20, 30, 40, 50, 1000, 2000]\n",
    "pisos = pd.cut(data.floor_copia, bins, right = False)\n",
    "data.pivot_table('floor_copia', index = [pisos], columns= 'property_type_copia', aggfunc={'floor_copia': 'count'})"
   ]
  },
  {
   "cell_type": "code",
   "execution_count": null,
   "metadata": {},
   "outputs": [],
   "source": [
    "data.loc[mask_description_notnull, ['description_copia', 'title_copia']] = \"\""
   ]
  },
  {
   "cell_type": "code",
   "execution_count": null,
   "metadata": {},
   "outputs": [],
   "source": [
    "patron = r\"[\\s]?piso[\\s]?(primer[a|o]?|segundo|tercer|cuarto|quinto|sexto|s[e|é]ptimo|octavo|noveno|d[e|é]cimo|d[e|é]cimo[\\s]?primer|d[e|é]cimo[\\s]?segundo|d[e|é]cimo[\\s]?tercer|d[e|é]cimo[\\s]?cuarto|d[e|é]cimo[\\s]?quinto|d[e|é]cimo[\\s]?sexto|d[e|é]cimo[\\s]?s[e|é]ptimo|d[e|é]cimo[\\s]?octavo|d[e|é]cimo[\\s]?noveno|vig[e|é]simo)\"\n",
    "busca = re.compile(patron)\n",
    "\n",
    "description_series_match = data.description_copia.apply(lambda x:  x if x is np.NaN else busca.search(x))\n",
    "mask_description_notnull = description_series_match.notnull()\n",
    "encontradas = description_series_match[mask_description_notnull].apply(lambda x: x.group(1))\n",
    "\n",
    "num_pisos_mapper = {'primer': 1, 'primera': 1, 'primero': 1, 'segundo':2, 'tercer': 3, 'cuarto': 4, 'quinto': 5, 'sexto': 6, \\\n",
    "                    'septimo':7, 'séptimo':7, 'octavo': 8, 'noveno': 9, 'decimo': 10, 'décimo': 10, \\\n",
    "                    'decimo primer': 11, 'décimo primer': 11, 'décimoprimer': 11, 'decimoprimer': 11, \\\n",
    "                    'decimo segundo': 12,  'décimo segundo': 12, 'décimosegundo': 12, 'decimosegundo': 12, \\\n",
    "                    'decimo tercer': 13, 'decimotercer': 13,  'décimo tercer': 13, 'décimotercer': 13, \\\n",
    "                    'decimocuarto': 14, 'decimo cuarto': 14, 'décimocuarto': 14, 'décimo cuarto': 14,\\\n",
    "                    'decimoquinto': 15, 'decimo quinto': 15, 'décimoquinto': 15, 'décimo quinto': 15,\n",
    "                    'décimo sexto': 16,  'decimosexto': 16, 'décimosexto': 16,  'decimo sexto': 16,\\\n",
    "                    'decimoseptimo': 17, 'decimo septimo': 17, 'decimoséptimo': 17, 'decimo séptimo': 17,\\\n",
    "                    'decimooctavo': 18, 'decimo octavo': 18, 'décimooctavo': 18, 'décimo octavo': 18,\\\n",
    "                    'decimonoveno': 19, 'decimo noveno': 19, 'décimonoveno': 19, 'décimo noveno': 19, \\\n",
    "                    'vigesimo': 20, 'vigésimo': 20}\n",
    "encontradas1 = encontradas.map(num_pisos_mapper)"
   ]
  },
  {
   "cell_type": "code",
   "execution_count": null,
   "metadata": {},
   "outputs": [],
   "source": [
    "data.loc[mask_description_notnull,'floor_copia']= encontradas1.astype(float)"
   ]
  },
  {
   "cell_type": "code",
   "execution_count": null,
   "metadata": {},
   "outputs": [],
   "source": [
    "data['floor_copia'].isnull().value_counts()"
   ]
  },
  {
   "cell_type": "code",
   "execution_count": null,
   "metadata": {},
   "outputs": [],
   "source": [
    "data.loc[mask_description_notnull, ['description_copia', 'title_copia']] = \"\""
   ]
  },
  {
   "cell_type": "code",
   "execution_count": null,
   "metadata": {},
   "outputs": [],
   "source": [
    "patron = r\"(un|dos|tres|cuatro|cinco|seis|siete|ocho|nueve|diez|once|doce|trece|catorce|quince|dieciseis|diecisiete|dieciocho|diecinueve|veinte)[\\s]?piso[\\s]\"\n",
    "busca = re.compile(patron)\n",
    "\n",
    "description_series_match = data.description_copia.apply(lambda x:  x if x is np.NaN else busca.search(x))\n",
    "mask_description_notnull = description_series_match.notnull()\n",
    "encontradas = description_series_match[mask_description_notnull].apply(lambda x: x.group(1))\n",
    "\n",
    "num_pisos_mapper = {'un': 1,'dos':2, 'tres': 3, 'cuatro': 4, 'cinco': 5, 'seis': 6, \\\n",
    "                    'siete':7, 'ocho': 8, 'nueve': 9, 'diez': 10, \\\n",
    "                    'once': 11, 'doce': 12, 'trece': 13, 'catorce': 14, 'quice': 15, 'dieciseis': 16, \\\n",
    "                    'diecisiete': 17, 'dieciocho': 18, 'diecinueve': 19,\\\n",
    "                    'veinte': 20}\n",
    "encontradas1 = encontradas.map(num_pisos_mapper)"
   ]
  },
  {
   "cell_type": "code",
   "execution_count": null,
   "metadata": {},
   "outputs": [],
   "source": [
    "data.loc[mask_description_notnull,'floor_copia']= encontradas1.astype(float)"
   ]
  },
  {
   "cell_type": "code",
   "execution_count": null,
   "metadata": {},
   "outputs": [],
   "source": [
    "data['floor_copia'].isnull().value_counts()"
   ]
  },
  {
   "cell_type": "code",
   "execution_count": null,
   "metadata": {},
   "outputs": [],
   "source": [
    "bins = [0, 1, 2, 3, 4, 5, 6, 7, 8, 9, 15, 20, 30, 40, 50, 1000, 2000]\n",
    "pisos = pd.cut(data.floor_copia, bins, right = False)\n",
    "data.pivot_table('floor_copia', index = [pisos], columns= 'property_type_copia', aggfunc={'floor_copia': 'count'})"
   ]
  },
  {
   "cell_type": "code",
   "execution_count": null,
   "metadata": {},
   "outputs": [],
   "source": [
    "data.loc[mask_description_notnull, ['description_copia', 'title_copia']] = \"\""
   ]
  },
  {
   "cell_type": "code",
   "execution_count": null,
   "metadata": {},
   "outputs": [],
   "source": [
    "patron = r\"(una|dos|tres|cuatro|cinco|seis|siete|ocho|nueve|diez|once|doce|trece|catorce|quince|dieciseis|diecisiete|dieciocho|diecinueve|veinte)[\\s]?[sola]?[\\s]?planta[s]?\"\n",
    "busca = re.compile(patron)\n",
    "\n",
    "description_series_match = data.description_copia.apply(lambda x:  x if x is np.NaN else busca.search(x))\n",
    "mask_description_notnull = description_series_match.notnull()\n",
    "encontradas = description_series_match[mask_description_notnull].apply(lambda x: x.group(1))\n",
    "\n",
    "num_pisos_mapper = {'una': 0,'dos':2, 'tres': 3, 'cuatro': 4, 'cinco': 5, 'seis': 6, \\\n",
    "                    'siete':7, 'ocho': 8, 'nueve': 9, 'diez': 10, \\\n",
    "                    'once': 11, 'doce': 12, 'trece': 13, 'catorce': 14, 'quice': 15, 'dieciseis': 16, \\\n",
    "                    'diecisiete': 17, 'dieciocho': 18, 'diecinueve': 19,\\\n",
    "                    'veinte': 20}\n",
    "encontradas1 = encontradas.map(num_pisos_mapper)"
   ]
  },
  {
   "cell_type": "code",
   "execution_count": null,
   "metadata": {},
   "outputs": [],
   "source": [
    "data.loc[mask_description_notnull,'floor_copia']= encontradas1.astype(float)"
   ]
  },
  {
   "cell_type": "code",
   "execution_count": null,
   "metadata": {},
   "outputs": [],
   "source": [
    "data['floor_copia'].isnull().value_counts()"
   ]
  },
  {
   "cell_type": "code",
   "execution_count": null,
   "metadata": {},
   "outputs": [],
   "source": [
    "data.loc[mask_description_notnull, ['description_copia', 'title_copia']] = \"\""
   ]
  },
  {
   "cell_type": "code",
   "execution_count": null,
   "metadata": {},
   "outputs": [],
   "source": [
    "patron = r\"planta[\\s]?(un[a|o]|dos|tres|cuatro|cinco|seis|siete|ocho|nueve|diez|once|doce|trece|catorce|quince|dieciseis|diecisiete|dieciocho|diecinueve|veinte)\"\n",
    "busca = re.compile(patron)\n",
    "\n",
    "description_series_match = data.description_copia.apply(lambda x:  x if x is np.NaN else busca.search(x))\n",
    "mask_description_notnull = description_series_match.notnull()\n",
    "encontradas = description_series_match[mask_description_notnull].apply(lambda x: x.group(1))\n",
    "\n",
    "num_pisos_mapper = {'una': 1, 'uno': 1, 'dos':2, 'tres': 3, 'cuatro': 4, 'cinco': 5, 'seis': 6, \\\n",
    "                    'siete':7, 'ocho': 8, 'nueve': 9, 'diez': 10, \\\n",
    "                    'once': 11, 'doce': 12, 'trece': 13, 'catorce': 14, 'quice': 15, 'dieciseis': 16, \\\n",
    "                    'diecisiete': 17, 'dieciocho': 18, 'diecinueve': 19,\\\n",
    "                    'veinte': 20}\n",
    "encontradas1 = encontradas.map(num_pisos_mapper)"
   ]
  },
  {
   "cell_type": "code",
   "execution_count": null,
   "metadata": {},
   "outputs": [],
   "source": [
    "data.loc[mask_description_notnull,'floor_copia']= encontradas1.astype(float)"
   ]
  },
  {
   "cell_type": "code",
   "execution_count": null,
   "metadata": {},
   "outputs": [],
   "source": [
    "data['floor_copia'].isnull().value_counts()"
   ]
  },
  {
   "cell_type": "code",
   "execution_count": null,
   "metadata": {},
   "outputs": [],
   "source": [
    "data.loc[mask_description_notnull, ['description_copia', 'title_copia']] = \"\""
   ]
  },
  {
   "cell_type": "code",
   "execution_count": null,
   "metadata": {},
   "outputs": [],
   "source": [
    "patron = r\"(planta[\\s]?alta)\"\n",
    "busca = re.compile(patron)\n",
    "\n",
    "description_series_match = data.description_copia.apply(lambda x:  x if x is np.NaN else busca.search(x))\n",
    "mask_description_notnull = description_series_match.notnull()\n",
    "encontradas = description_series_match[mask_description_notnull].apply(lambda x: x.group(1))\n",
    "\n",
    "numcol_cat_mapper = {'planta alta': 1,'plantalata': 1}\n",
    "encontradas1 = encontradas.map(numcol_cat_mapper)"
   ]
  },
  {
   "cell_type": "code",
   "execution_count": null,
   "metadata": {},
   "outputs": [],
   "source": [
    "data.loc[mask_description_notnull,'floor_copia']= encontradas1.astype(float)"
   ]
  },
  {
   "cell_type": "code",
   "execution_count": null,
   "metadata": {},
   "outputs": [],
   "source": [
    "data['floor_copia'].isnull().value_counts()"
   ]
  },
  {
   "cell_type": "code",
   "execution_count": null,
   "metadata": {},
   "outputs": [],
   "source": [
    "data.loc[mask_description_notnull, ['description_copia', 'title_copia']] = \"\""
   ]
  },
  {
   "cell_type": "code",
   "execution_count": null,
   "metadata": {},
   "outputs": [],
   "source": [
    "patron = r\"(planta[\\s]?baja)\"\n",
    "busca = re.compile(patron)\n",
    "\n",
    "description_series_match = data.description_copia.apply(lambda x:  x if x is np.NaN else busca.search(x))\n",
    "mask_description_notnull = description_series_match.notnull()\n",
    "encontradas = description_series_match[mask_description_notnull].apply(lambda x: x.group(1))\n",
    "\n",
    "numcol_cat_mapper = {'planta baja': 0,'plantabaja': 0}\n",
    "encontradas1 = encontradas.map(numcol_cat_mapper)"
   ]
  },
  {
   "cell_type": "code",
   "execution_count": null,
   "metadata": {},
   "outputs": [],
   "source": [
    "data.loc[mask_description_notnull,'floor_copia']= encontradas1.astype(float)"
   ]
  },
  {
   "cell_type": "code",
   "execution_count": null,
   "metadata": {},
   "outputs": [],
   "source": [
    "data['floor_copia'].isnull().value_counts()"
   ]
  },
  {
   "cell_type": "code",
   "execution_count": null,
   "metadata": {},
   "outputs": [],
   "source": [
    "data.loc[mask_description_notnull, ['description_copia', 'title_copia']] = \"\""
   ]
  },
  {
   "cell_type": "code",
   "execution_count": null,
   "metadata": {},
   "outputs": [],
   "source": [
    "mascara = data['description_copia'] == \"\""
   ]
  },
  {
   "cell_type": "markdown",
   "metadata": {},
   "source": [
    "Ahora busco con las mismas regex pero con la columna 'title_copia'"
   ]
  },
  {
   "cell_type": "code",
   "execution_count": null,
   "metadata": {},
   "outputs": [],
   "source": [
    "patron = r\"(planta[\\s]?baja)\"\n",
    "busca = re.compile(patron)\n",
    "\n",
    "description_series_match = data.title_copia.apply(lambda x:  x if x is np.NaN else busca.search(x))\n",
    "mask_description_notnull = description_series_match.notnull()\n",
    "encontradas = description_series_match[mask_description_notnull].apply(lambda x: x.group(1))\n",
    "\n",
    "numcol_cat_mapper = {'planta baja': 0,'plantabaja': 0}\n",
    "encontradas1 = encontradas.map(numcol_cat_mapper)"
   ]
  },
  {
   "cell_type": "code",
   "execution_count": null,
   "metadata": {},
   "outputs": [],
   "source": [
    "data.loc[mask_description_notnull,'floor_copia']= encontradas1.astype(float)"
   ]
  },
  {
   "cell_type": "code",
   "execution_count": null,
   "metadata": {},
   "outputs": [],
   "source": [
    "data['floor_copia'].isnull().value_counts()"
   ]
  },
  {
   "cell_type": "code",
   "execution_count": null,
   "metadata": {},
   "outputs": [],
   "source": [
    "data.loc[mask_description_notnull, ['description_copia', 'title_copia']] = \"\""
   ]
  },
  {
   "cell_type": "code",
   "execution_count": null,
   "metadata": {},
   "outputs": [],
   "source": [
    "patron = r\"(una|dos|tres|cuatro|cinco|seis|siete|ocho|nueve|diez|once|doce|trece|catorce|quince|dieciseis|diecisiete|dieciocho|diecinueve|veinte)[\\s]?[sola]?[\\s]?planta[s]?\"\n",
    "busca = re.compile(patron)\n",
    "\n",
    "description_series_match = data.title_copia.apply(lambda x:  x if x is np.NaN else busca.search(x))\n",
    "mask_description_notnull = description_series_match.notnull()\n",
    "encontradas = description_series_match[mask_description_notnull].apply(lambda x: x.group(1))\n",
    "\n",
    "num_pisos_mapper = {'una': 0,'dos':2, 'tres': 3, 'cuatro': 4, 'cinco': 5, 'seis': 6, \\\n",
    "                    'siete':7, 'ocho': 8, 'nueve': 9, 'diez': 10, \\\n",
    "                    'once': 11, 'doce': 12, 'trece': 13, 'catorce': 14, 'quice': 15, 'dieciseis': 16, \\\n",
    "                    'diecisiete': 17, 'dieciocho': 18, 'diecinueve': 19,\\\n",
    "                    'veinte': 20}\n",
    "encontradas1 = encontradas.map(num_pisos_mapper)"
   ]
  },
  {
   "cell_type": "code",
   "execution_count": null,
   "metadata": {},
   "outputs": [],
   "source": [
    "data.loc[mask_description_notnull,'floor_copia']= encontradas1.astype(float)"
   ]
  },
  {
   "cell_type": "code",
   "execution_count": null,
   "metadata": {},
   "outputs": [],
   "source": [
    "data['floor_copia'].isnull().value_counts()"
   ]
  },
  {
   "cell_type": "code",
   "execution_count": null,
   "metadata": {},
   "outputs": [],
   "source": [
    "data.loc[mask_description_notnull, ['description_copia', 'title_copia']] = \"\""
   ]
  },
  {
   "cell_type": "code",
   "execution_count": null,
   "metadata": {},
   "outputs": [],
   "source": [
    "patron = r\"(un|dos|tres|cuatro|cinco|seis|siete|ocho|nueve|diez|once|doce|trece|catorce|quince|dieciseis|diecisiete|dieciocho|diecinueve|veinte)[\\s]?piso[\\s]\"\n",
    "busca = re.compile(patron)\n",
    "\n",
    "description_series_match = data.title_copia.apply(lambda x:  x if x is np.NaN else busca.search(x))\n",
    "mask_description_notnull = description_series_match.notnull()\n",
    "encontradas = description_series_match[mask_description_notnull].apply(lambda x: x.group(1))\n",
    "\n",
    "num_pisos_mapper = {'un': 1,'dos':2, 'tres': 3, 'cuatro': 4, 'cinco': 5, 'seis': 6, \\\n",
    "                    'siete':7, 'ocho': 8, 'nueve': 9, 'diez': 10, \\\n",
    "                    'once': 11, 'doce': 12, 'trece': 13, 'catorce': 14, 'quice': 15, 'dieciseis': 16, \\\n",
    "                    'diecisiete': 17, 'dieciocho': 18, 'diecinueve': 19,\\\n",
    "                    'veinte': 20}\n",
    "encontradas1 = encontradas.map(num_pisos_mapper)"
   ]
  },
  {
   "cell_type": "code",
   "execution_count": null,
   "metadata": {},
   "outputs": [],
   "source": [
    "data.loc[mask_description_notnull,'floor_copia']= encontradas1.astype(float)"
   ]
  },
  {
   "cell_type": "code",
   "execution_count": null,
   "metadata": {},
   "outputs": [],
   "source": [
    "data['floor_copia'].isnull().value_counts()"
   ]
  },
  {
   "cell_type": "code",
   "execution_count": null,
   "metadata": {},
   "outputs": [],
   "source": [
    "patron = r\"(primer|segundo|tercer|cuarto|quinto|sexto|s[e|é]ptimo|octavo|noveno|d[e|é]cimo|d[e|é]cimo[\\s]?primer|d[e|é]cimo[\\s]?segundo|d[e|é]cimo[\\s]?tercer|d[e|é]cimo[\\s]?cuarto|d[e|é]cimo[\\s]?quinto|d[e|é]cimo[\\s]?sexto|d[e|é]cimo[\\s]?s[e|é]ptimo|d[e|é]cimo[\\s]?octavo|d[e|é]cimo[\\s]?noveno|vig[e|é]simo)[\\s]?piso\"\n",
    "busca = re.compile(patron)\n",
    "\n",
    "description_series_match = data.title_copia.apply(lambda x:  x if x is np.NaN else busca.search(x))\n",
    "mask_description_notnull = description_series_match.notnull()\n",
    "encontradas = description_series_match[mask_description_notnull].apply(lambda x: x.group(1))\n",
    "\n",
    "num_pisos_mapper = {'primer': 1,'segundo':2, 'tercer': 3, 'cuarto': 4, 'quinto': 5, 'sexto': 6, \\\n",
    "                    'septimo':7, 'séptimo':7, 'octavo': 8, 'noveno': 9, 'decimo': 10, 'décimo': 10, \\\n",
    "                    'decimo primer': 11, 'décimo primer': 11, 'décimoprimer': 11, 'decimoprimer': 11, \\\n",
    "                    'decimo segundo': 12,  'décimo segundo': 12, 'décimosegundo': 12, 'decimosegundo': 12, \\\n",
    "                    'decimo tercer': 13, 'decimotercer': 13,  'décimo tercer': 13, 'décimotercer': 13, \\\n",
    "                    'decimocuarto': 14, 'decimo cuarto': 14, 'décimocuarto': 14, 'décimo cuarto': 14,\\\n",
    "                    'decimoquinto': 15, 'decimo quinto': 15, 'décimoquinto': 15, 'décimo quinto': 15,\n",
    "                    'décimo sexto': 16,  'decimosexto': 16, 'décimosexto': 16,  'decimo sexto': 16,\\\n",
    "                    'decimoseptimo': 17, 'decimo septimo': 17, 'decimoséptimo': 17, 'decimo séptimo': 17,\\\n",
    "                    'decimooctavo': 18, 'decimo octavo': 18, 'décimooctavo': 18, 'décimo octavo': 18,\\\n",
    "                    'decimonoveno': 19, 'decimo noveno': 19, 'décimonoveno': 19, 'décimo noveno': 19, \\\n",
    "                    'vigesimo': 20, 'vigésimo': 20}\n",
    "encontradas1 = encontradas.map(num_pisos_mapper)"
   ]
  },
  {
   "cell_type": "code",
   "execution_count": null,
   "metadata": {},
   "outputs": [],
   "source": [
    "data.loc[mask_description_notnull,'floor_copia']= encontradas1.astype(float)"
   ]
  },
  {
   "cell_type": "code",
   "execution_count": null,
   "metadata": {},
   "outputs": [],
   "source": [
    "data['floor_copia'].isnull().value_counts()"
   ]
  },
  {
   "cell_type": "code",
   "execution_count": null,
   "metadata": {},
   "outputs": [],
   "source": [
    "data.loc[mask_description_notnull, ['description_copia', 'title_copia']] = \"\""
   ]
  },
  {
   "cell_type": "code",
   "execution_count": null,
   "metadata": {},
   "outputs": [],
   "source": [
    "patron = r\"(duplex|triplex)\"\n",
    "busca = re.compile(patron)\n",
    "\n",
    "description_series_match = data.title_copia.apply(lambda x:  x if x is np.NaN else busca.search(x))\n",
    "mask_description_notnull = description_series_match.notnull()\n",
    "encontradas = description_series_match[mask_description_notnull].apply(lambda x: x.group(1))\n",
    "\n",
    "numcol_cat_mapper = {'duplex': 2,'triplex': 3}\n",
    "encontradas1 = encontradas.map(numcol_cat_mapper)"
   ]
  },
  {
   "cell_type": "code",
   "execution_count": null,
   "metadata": {},
   "outputs": [],
   "source": [
    "data.loc[mask_description_notnull,'floor_copia']= encontradas1.astype(float)"
   ]
  },
  {
   "cell_type": "code",
   "execution_count": null,
   "metadata": {},
   "outputs": [],
   "source": [
    "data['floor_copia'].isnull().value_counts()"
   ]
  },
  {
   "cell_type": "code",
   "execution_count": null,
   "metadata": {},
   "outputs": [],
   "source": [
    "data.loc[mask_description_notnull, ['description_copia', 'title_copia']] = \"\""
   ]
  },
  {
   "cell_type": "code",
   "execution_count": null,
   "metadata": {},
   "outputs": [],
   "source": [
    "patron = \"\\s(?P<numero>\\d[\\d]?)\\s*\\w{0,5}\\s*piso\"\n",
    "busca = re.compile(patron)\n",
    "\n",
    "description_series_match = data.title_copia.apply(lambda x:  x if x is np.NaN else busca.search(x))\n",
    "\n",
    "mask_description_notnull = description_series_match.notnull()\n",
    "data.loc[mask_description_notnull,'floor_copia'] = description_series_match[mask_description_notnull].apply(lambda x: x.group('numero')).astype(float)"
   ]
  },
  {
   "cell_type": "code",
   "execution_count": null,
   "metadata": {},
   "outputs": [],
   "source": [
    "data['floor_copia'].isnull().value_counts()"
   ]
  },
  {
   "cell_type": "code",
   "execution_count": null,
   "metadata": {},
   "outputs": [],
   "source": [
    "data.loc[mask_description_notnull, ['description_copia', 'title_copia']] = \"\""
   ]
  },
  {
   "cell_type": "code",
   "execution_count": null,
   "metadata": {},
   "outputs": [],
   "source": [
    "patron = \"\\s(?P<numero>\\d[\\d]?)[\\s]?[º|°]?\\s*piso\"\n",
    "busca = re.compile(patron)\n",
    "\n",
    "description_series_match = data.title_copia.apply(lambda x:  x if x is np.NaN else busca.search(x))\n",
    "\n",
    "mask_description_notnull = description_series_match.notnull()\n",
    "data.loc[mask_description_notnull,'floor_copia'] = description_series_match[mask_description_notnull].apply(lambda x: x.group('numero')).astype(float)"
   ]
  },
  {
   "cell_type": "code",
   "execution_count": null,
   "metadata": {},
   "outputs": [],
   "source": [
    "data['floor_copia'].isnull().value_counts()"
   ]
  },
  {
   "cell_type": "code",
   "execution_count": null,
   "metadata": {},
   "outputs": [],
   "source": [
    "data.loc[mask_description_notnull, ['description_copia', 'title_copia']] = \"\""
   ]
  },
  {
   "cell_type": "code",
   "execution_count": null,
   "metadata": {},
   "outputs": [],
   "source": [
    "patron = \"piso[\\s]?(?P<numero>\\d[\\d]?)\"\n",
    "\n",
    "busca = re.compile(patron)\n",
    "\n",
    "description_series_match = data.title_copia.apply(lambda x:  x if x is np.NaN else busca.search(x))\n",
    "\n",
    "mask_description_notnull = description_series_match.notnull()\n",
    "data.loc[mask_description_notnull,'floor_copia'] = description_series_match[mask_description_notnull].apply(lambda x: x.group('numero')).astype(float)"
   ]
  },
  {
   "cell_type": "code",
   "execution_count": null,
   "metadata": {},
   "outputs": [],
   "source": [
    "data['floor_copia'].isnull().value_counts()"
   ]
  },
  {
   "cell_type": "code",
   "execution_count": null,
   "metadata": {},
   "outputs": [],
   "source": [
    "data.loc[mask_description_notnull, ['description_copia', 'title_copia']] = \"\""
   ]
  },
  {
   "cell_type": "code",
   "execution_count": null,
   "metadata": {},
   "outputs": [],
   "source": [
    "patron = \"\\spiso:[\\s]?(?P<numero>\\d[\\d]?)\"\n",
    "busca = re.compile(patron)\n",
    "\n",
    "description_series_match = data.title_copia.apply(lambda x:  x if x is np.NaN else busca.search(x))\n",
    "\n",
    "mask_description_notnull = description_series_match.notnull()\n",
    "data.loc[mask_description_notnull,'floor_copia'] = description_series_match[mask_description_notnull].apply(lambda x: x.group('numero')).astype(float)"
   ]
  },
  {
   "cell_type": "code",
   "execution_count": null,
   "metadata": {},
   "outputs": [],
   "source": [
    "data['floor_copia'].isnull().value_counts()"
   ]
  },
  {
   "cell_type": "code",
   "execution_count": null,
   "metadata": {},
   "outputs": [],
   "source": [
    "data.loc[data.title_copia!= \"\"]"
   ]
  },
  {
   "cell_type": "code",
   "execution_count": null,
   "metadata": {},
   "outputs": [],
   "source": [
    "data.loc[121217, 'description_copia']"
   ]
  },
  {
   "cell_type": "code",
   "execution_count": null,
   "metadata": {},
   "outputs": [],
   "source": [
    "patron = r\"(casa[s]?|chalet|quinta[s]?|cabaña[s]?|pb)\"\n",
    "busca = re.compile(patron)\n",
    "\n",
    "description_series_match = data.title_copia.apply(lambda x:  x if x is np.NaN else busca.search(x))\n",
    "mask_description_notnull = description_series_match.notnull()\n",
    "encontradas = description_series_match[mask_description_notnull].apply(lambda x: x.group(1))\n",
    "\n",
    "num_pisos_mapper = {'casa': 0,'casas':0, 'chalet': 0, 'quinta': 0, 'quintas': 0, 'cabaña': 0, \\\n",
    "                    'cabañas':0, 'pb': 0 }\n",
    "encontradas1 = encontradas.map(num_pisos_mapper)"
   ]
  },
  {
   "cell_type": "code",
   "execution_count": null,
   "metadata": {},
   "outputs": [],
   "source": [
    "data.loc[mask_description_notnull,'floor_copia']= encontradas1.astype(float)"
   ]
  },
  {
   "cell_type": "code",
   "execution_count": null,
   "metadata": {},
   "outputs": [],
   "source": [
    "data['floor_copia'].isnull().value_counts()"
   ]
  },
  {
   "cell_type": "code",
   "execution_count": null,
   "metadata": {},
   "outputs": [],
   "source": [
    "data.loc[mask_description_notnull, ['description_copia', 'title_copia']] = \"\""
   ]
  },
  {
   "cell_type": "code",
   "execution_count": null,
   "metadata": {},
   "outputs": [],
   "source": [
    "patron = r\"(casa[s]?|chalet|quinta[s]?|cabaña[s]?|pb)\"\n",
    "busca = re.compile(patron)\n",
    "\n",
    "description_series_match = data.description_copia.apply(lambda x:  x if x is np.NaN else busca.search(x))\n",
    "mask_description_notnull = description_series_match.notnull()\n",
    "encontradas = description_series_match[mask_description_notnull].apply(lambda x: x.group(1))\n",
    "\n",
    "num_pisos_mapper = {'casa': 0,'casas':0, 'chalet': 0, 'quinta': 0, 'quintas': 0, 'cabaña': 0, \\\n",
    "                    'cabañas':0, 'pb': 0 }\n",
    "encontradas1 = encontradas.map(num_pisos_mapper)"
   ]
  },
  {
   "cell_type": "code",
   "execution_count": null,
   "metadata": {},
   "outputs": [],
   "source": [
    "data.loc[mask_description_notnull,'floor_copia']= encontradas1.astype(float)"
   ]
  },
  {
   "cell_type": "code",
   "execution_count": null,
   "metadata": {},
   "outputs": [],
   "source": [
    "data['floor_copia'].isnull().value_counts()"
   ]
  },
  {
   "cell_type": "code",
   "execution_count": null,
   "metadata": {},
   "outputs": [],
   "source": [
    "data.loc[mask_description_notnull, ['description_copia', 'title_copia']] = \"\""
   ]
  },
  {
   "cell_type": "code",
   "execution_count": null,
   "metadata": {},
   "outputs": [],
   "source": [
    "data.sample(3)"
   ]
  },
  {
   "cell_type": "markdown",
   "metadata": {},
   "source": [
    "<a id=\"section_limpieza_antiguedad\"></a> \n",
    "\n",
    "### Limpieza de la columna Antigüedad\n",
    "\n",
    "[volver a Indice](#section_indice)\n"
   ]
  },
  {
   "cell_type": "code",
   "execution_count": null,
   "metadata": {},
   "outputs": [],
   "source": [
    "data_mask = data.description.notna()\n",
    "data_con_descriptions =  data.loc[data_mask,:]\n",
    "data_con_descriptions.shape"
   ]
  },
  {
   "cell_type": "code",
   "execution_count": null,
   "metadata": {},
   "outputs": [],
   "source": [
    "#Análisis de inmuebles a estrenar\n",
    "a_estrenar = data_con_descriptions[data_con_descriptions['description'].str.contains('estrenar')]\n",
    "mask_a_estrenar = data.index.isin(a_estrenar.index)"
   ]
  },
  {
   "cell_type": "code",
   "execution_count": null,
   "metadata": {},
   "outputs": [],
   "source": [
    "#Análisis de años de antiguedad en número\n",
    "pattern_antiguedad = '(\\d+)[\\s]año'\n",
    "pattern_antiguedad_regex = re.compile(pattern_antiguedad)\n",
    "description_series = data_con_descriptions.description\n",
    "resultado_antiguedad = description_series.apply(lambda x: pattern_antiguedad_regex.search(x))\n",
    "resultado_antiguedad[resultado_antiguedad.notnull()]\n",
    "encontradas_ant = resultado_antiguedad[resultado_antiguedad.notnull()].apply(lambda x: x.group(1))"
   ]
  },
  {
   "cell_type": "code",
   "execution_count": null,
   "metadata": {},
   "outputs": [],
   "source": [
    "encontradas_ant.shape"
   ]
  },
  {
   "cell_type": "markdown",
   "metadata": {},
   "source": [
    "#### Creamos variable ant para identificar si es a estrenar, de pozo u otros"
   ]
  },
  {
   "cell_type": "code",
   "execution_count": null,
   "metadata": {},
   "outputs": [],
   "source": [
    "data.loc[mask_a_estrenar, 'ant'] = 'a_estrenar'\n",
    "data.loc[data['ant'].isnull(),'ant'] = 'otros'\n",
    "data.ant.value_counts()"
   ]
  },
  {
   "cell_type": "code",
   "execution_count": null,
   "metadata": {},
   "outputs": [],
   "source": [
    "print(a_estrenar.state_name.value_counts(normalize = True))\n",
    "data.state_name.value_counts(normalize = True)"
   ]
  },
  {
   "cell_type": "code",
   "execution_count": null,
   "metadata": {},
   "outputs": [],
   "source": [
    "data.price.describe().apply(lambda x: format(x, 'f'))\n",
    "a_estrenar.price.describe().apply(lambda x: format(x, 'f'))"
   ]
  },
  {
   "cell_type": "markdown",
   "metadata": {},
   "source": [
    "<a id=\"section_limpieza_precios\"></a> \n",
    "\n",
    "### Limpieza de la columna Precios\n",
    "\n",
    "[volver a Indice](#section_indice)\n"
   ]
  },
  {
   "cell_type": "code",
   "execution_count": null,
   "metadata": {},
   "outputs": [],
   "source": [
    "data_precio= data.loc[:,[\"place_name\",\"price\", \"currency\", \"price_aprox_local_currency\", \"price_aprox_usd\",\"surface_total_in_m2\", \"surface_covered_in_m2\",\"price_usd_per_m2\", \"price_per_m2\", \"property_type\"]]\n",
    "data_precio"
   ]
  },
  {
   "cell_type": "code",
   "execution_count": null,
   "metadata": {},
   "outputs": [],
   "source": [
    "data_precio.isnull().sum()"
   ]
  },
  {
   "cell_type": "code",
   "execution_count": null,
   "metadata": {},
   "outputs": [],
   "source": [
    "tc = data_precio[\"price_aprox_local_currency\"] / data_precio[\"price\"]\n",
    "tc[:1]"
   ]
  },
  {
   "cell_type": "markdown",
   "metadata": {},
   "source": [
    "## Datos basicos para el analisis:\n",
    "\n",
    "1 - Columna Currency cambiar ARS X USD\n"
   ]
  },
  {
   "cell_type": "code",
   "execution_count": null,
   "metadata": {},
   "outputs": [],
   "source": [
    "mask_ars = data_precio['currency']== \"ARS\"\n",
    "datos_ars =data_precio.loc[mask_ars, :]\n",
    "datos_ars"
   ]
  },
  {
   "cell_type": "code",
   "execution_count": null,
   "metadata": {},
   "outputs": [],
   "source": [
    "relacion  = datos_ars[\"price_aprox_local_currency\"]/tc\n",
    "relacion[mask_ars]"
   ]
  },
  {
   "cell_type": "code",
   "execution_count": null,
   "metadata": {},
   "outputs": [],
   "source": [
    "data_precio_1 = data_precio.replace(\"ARS\", value = \"USD\")"
   ]
  },
  {
   "cell_type": "code",
   "execution_count": null,
   "metadata": {},
   "outputs": [],
   "source": [
    "data_precio_1.isnull().sum()"
   ]
  },
  {
   "cell_type": "markdown",
   "metadata": {},
   "source": [
    "2 - Ajusto columna local price de acuerdo a TC"
   ]
  },
  {
   "cell_type": "code",
   "execution_count": null,
   "metadata": {},
   "outputs": [],
   "source": [
    "data_precio_1[\"price_aprox_local_currency_nuevo\"] = data_precio_1[\"price_aprox_local_currency\"] = data_precio_1[\"price\"]*tc\n",
    "data_precio_1.replace(\"price_aprox_local_currency\",\"price_aprox_local_currency_nuevo\" )"
   ]
  },
  {
   "cell_type": "code",
   "execution_count": null,
   "metadata": {},
   "outputs": [],
   "source": [
    "data_precio_1.drop(labels=\"price_aprox_local_currency_nuevo\", axis=1)"
   ]
  },
  {
   "cell_type": "code",
   "execution_count": null,
   "metadata": {},
   "outputs": [],
   "source": [
    "data_precio_1[\"surface_total_in_m2\"].replace(\"Nan\",data_precio_1[\"surface_covered_in_m2\"] )"
   ]
  },
  {
   "cell_type": "code",
   "execution_count": null,
   "metadata": {},
   "outputs": [],
   "source": [
    "data_precio_1[\"price_usd_per_m2\"] = data_precio_1[\"price\"]/data_precio_1[\"surface_total_in_m2\"]\n",
    "data_precio_1[\"price_per_m2\"] = data_precio_1[\"price_aprox_local_currency\"]/data_precio_1[\"surface_total_in_m2\"]\n",
    "data_precio_1"
   ]
  },
  {
   "cell_type": "code",
   "execution_count": null,
   "metadata": {},
   "outputs": [],
   "source": [
    "data_precio_1.isnull().sum()"
   ]
  },
  {
   "cell_type": "code",
   "execution_count": null,
   "metadata": {},
   "outputs": [],
   "source": [
    "mask=data_precio_1[\"price\"].notnull()\n",
    "con_precios = data_precio_1.loc[mask, :]\n",
    "con_precios"
   ]
  },
  {
   "cell_type": "code",
   "execution_count": null,
   "metadata": {},
   "outputs": [],
   "source": [
    "data[['price_nuevo', 'currency_nuevo', 'price_aprox_local_currency_nuevo', 'price_aprox_usd_nuevo', 'surface_total_in_m2_nuevo',\\\n",
    "      'surface_covered_in_m2_nuevo', 'price_usd_per_m2_nuevo', 'price_per_m2_nuevo']] = data_precio_1.loc[:,'price':'price_per_m2']"
   ]
  },
  {
   "cell_type": "code",
   "execution_count": null,
   "metadata": {},
   "outputs": [],
   "source": [
    "data.columns"
   ]
  },
  {
   "cell_type": "markdown",
   "metadata": {},
   "source": [
    "<a id=\"section_limpieza_places\"></a> \n",
    "\n",
    "### Limpieza de la columna Places\n",
    "\n",
    "[volver a Indice](#section_indice)\n"
   ]
  },
  {
   "cell_type": "code",
   "execution_count": null,
   "metadata": {},
   "outputs": [],
   "source": [
    "estructura_places = pd.DataFrame(data.place_with_parent_names.str.split('|', 6).tolist(),\n",
    "                                   columns = ['1', 'pais','provincia','localidad','zona','barrio','lugar'])"
   ]
  },
  {
   "cell_type": "markdown",
   "metadata": {},
   "source": [
    "#### Tomamos los datos \"None\" y los transformamos en vacíos"
   ]
  },
  {
   "cell_type": "code",
   "execution_count": null,
   "metadata": {},
   "outputs": [],
   "source": [
    "estructura_places.fillna(value=\"\", inplace=True)"
   ]
  },
  {
   "cell_type": "markdown",
   "metadata": {},
   "source": [
    "#### Tomamos los datos vacíos y copiamos la información del \"padre\" directo"
   ]
  },
  {
   "cell_type": "code",
   "execution_count": null,
   "metadata": {},
   "outputs": [],
   "source": [
    "estructura_places.loc[estructura_places[\"localidad\"] == '','localidad'] = estructura_places[\"provincia\"]\n",
    "estructura_places.loc[estructura_places[\"zona\"] == '','zona'] = estructura_places[\"localidad\"]\n",
    "estructura_places.loc[estructura_places[\"barrio\"] == '','barrio'] = estructura_places[\"zona\"]\n",
    "estructura_places.loc[estructura_places[\"lugar\"] == '','lugar'] = estructura_places[\"barrio\"]\n",
    "estructura_places.head(3)"
   ]
  },
  {
   "cell_type": "markdown",
   "metadata": {},
   "source": [
    "#### Joineamos la el dataset con el original"
   ]
  },
  {
   "cell_type": "code",
   "execution_count": null,
   "metadata": {},
   "outputs": [],
   "source": [
    "data = data.join(estructura_places)"
   ]
  },
  {
   "cell_type": "markdown",
   "metadata": {},
   "source": [
    "### Analizamos el resultado final y eliminamos las variables duplicadas e inncesarias"
   ]
  },
  {
   "cell_type": "code",
   "execution_count": null,
   "metadata": {},
   "outputs": [],
   "source": [
    "data.dtypes"
   ]
  },
  {
   "cell_type": "code",
   "execution_count": null,
   "metadata": {},
   "outputs": [],
   "source": [
    "data.drop(['Unnamed: 0', 'operation', 'property_type_copia', 'place_with_parent_names', 'country_name', 'geonames_id', 'lat-lon',\\\n",
    "          'lat', 'lon','1', 'price', 'currency', 'price', 'currency', 'price_aprox_local_currency', 'price_aprox_usd',\\\n",
    "          'surface_total_in_m2', 'surface_covered_in_m2', 'price_usd_per_m2', 'price_per_m2', 'floor', 'rooms', 'expenses',\\\n",
    "          'properati_url', 'image_thumbnail'], axis =1, inplace = True)"
   ]
  },
  {
   "cell_type": "code",
   "execution_count": null,
   "metadata": {},
   "outputs": [],
   "source": [
    "pd.options.display.max_columns = None\n",
    "data.head(3)"
   ]
  },
  {
   "cell_type": "markdown",
   "metadata": {},
   "source": [
    "<a id=\"section_mitos_o_realidades\"></a> \n",
    "\n",
    "## Definición de Mitos o Realidades\n",
    "\n",
    "[volver a Indice](#section_indice)"
   ]
  },
  {
   "cell_type": "markdown",
   "metadata": {},
   "source": [
    "Nos planteamos algunas preguntas en forma de mito o realidad con el objetivo de establecer a partir de los datos si existe la posibilidad de afirmar o refutar el mito.\n",
    "Para todos los análisis utilizamos información solo del AMBA, identificado a través de la variable 'state_name'."
   ]
  },
  {
   "cell_type": "code",
   "execution_count": null,
   "metadata": {},
   "outputs": [],
   "source": [
    "import seaborn as sns\n",
    "import matplotlib.pyplot as plt\n",
    "from scipy import stats"
   ]
  },
  {
   "cell_type": "markdown",
   "metadata": {},
   "source": [
    "<a id=\"section_mito_1\"></a> \n",
    "\n",
    "### Mito o Realidad N° 1: Los inmuebles a estrenar son más caros que los demás\n",
    "\n",
    "[volver a Indice](#section_indice)\n"
   ]
  },
  {
   "cell_type": "code",
   "execution_count": null,
   "metadata": {},
   "outputs": [],
   "source": [
    "#Nos quedamos solo con la info del AMBA\n",
    "data_amba = data[data['state_name'].isin(['Bs.As. G.B.A. Zona Norte', 'Bs.As. G.B.A. Zona Oeste', 'Capital Federal',\\\n",
    "                                         'Bs.As. G.B.A. Zona Sur'])]"
   ]
  },
  {
   "cell_type": "code",
   "execution_count": null,
   "metadata": {},
   "outputs": [],
   "source": [
    "#Elimino del análisis los outliers de precios\n",
    "\n",
    "q1 = data_amba.price_nuevo.quantile(0.25)\n",
    "print(q1)\n",
    "q2 = data_amba.price_nuevo.quantile(0.5)\n",
    "print(q2)\n",
    "q3 = data_amba.price_nuevo.quantile(0.75)\n",
    "print(q3)\n",
    "\n",
    "\n",
    "iqr = (q3 - q1) * 1.5\n",
    "\n",
    "limite_superior_precio = q3 + iqr\n",
    "limite_inferior_precio = q1 - iqr\n",
    "\n",
    "print(limite_superior_precio)\n",
    "print(limite_inferior_precio)\n",
    "\n",
    "\n",
    "outlier_mask_sup_precio = data_amba.price_nuevo > limite_superior_precio\n",
    "outlier_mask_inf_precio = data_amba.price_nuevo < limite_inferior_precio\n",
    "outlier_mask_precio = np.logical_or(outlier_mask_sup_precio, outlier_mask_inf_precio)\n",
    "not_outliers_precio = np.logical_not(outlier_mask_precio)\n",
    "data_amba_sin_outliers_precio = data_amba[not_outliers_precio]\n",
    "\n",
    "#Eliminamos del análisis los tipo de propiedad Store\n",
    "data_amba_sin_outliers_sin_negocios_precio = data_amba_sin_outliers_precio[(data_amba_sin_outliers_precio.property_type != 'store')]\n",
    "#Eliminamos del análisis los casos que tienen más de 5 habitaciones (el limite superior para identificar outliers es de 3.5 habitaciones).\n",
    "data_amba_sin_outliers_sin_negocios_menos_cinco_hab_precio = data_amba_sin_outliers_sin_negocios_precio[(data_amba_sin_outliers_sin_negocios_precio.rooms_completo < 6)]"
   ]
  },
  {
   "cell_type": "code",
   "execution_count": null,
   "metadata": {},
   "outputs": [],
   "source": [
    "#Graficamos el precio promedio de las viviendas a estrenar vs las que no lo son por la cantidad de habitaciones\n",
    "ax = sns.barplot(x=\"rooms_completo\", y=\"price_nuevo\", hue=\"ant\", data=data_amba_sin_outliers_sin_negocios_menos_cinco_hab_precio)"
   ]
  },
  {
   "cell_type": "code",
   "execution_count": null,
   "metadata": {},
   "outputs": [],
   "source": [
    "g = sns.FacetGrid(data_amba_sin_outliers_sin_negocios_menos_cinco_hab_precio, col = \"property_type\", height=7, aspect=.6)\n",
    "g.map(sns.barplot, \"ant\", \"price_nuevo\")"
   ]
  },
  {
   "cell_type": "code",
   "execution_count": null,
   "metadata": {},
   "outputs": [],
   "source": [
    "g = sns.FacetGrid(data_amba_sin_outliers_sin_negocios_menos_cinco_hab_precio, col = \"ant\", height=7, aspect=.9)\n",
    "g.map(sns.barplot, \"rooms_completo\", \"price_nuevo\");"
   ]
  },
  {
   "cell_type": "markdown",
   "metadata": {},
   "source": [
    "#### Conclusion: No se puede establecer que los inmuebles a estrenar tienen un valor significativamente mayor con los datos obtenidos."
   ]
  },
  {
   "cell_type": "markdown",
   "metadata": {},
   "source": [
    "<a id=\"section_mito_2\"></a> \n",
    "\n",
    "### Mito o Realidad N° 2: Existe una correlación entre el precio del inmueble y las expensas que abonan\n",
    "\n",
    "[volver a Indice](#section_indice)\n"
   ]
  },
  {
   "cell_type": "code",
   "execution_count": null,
   "metadata": {},
   "outputs": [],
   "source": [
    "#Elimino del análisis los outliers de expensas\n",
    "\n",
    "q1 = data_amba_sin_outliers_precio.expenses_nuevo.quantile(0.25)\n",
    "print(q1)\n",
    "q2 = data_amba_sin_outliers_precio.expenses_nuevo.quantile(0.5)\n",
    "print(q2)\n",
    "q3 = data_amba_sin_outliers_precio.expenses_nuevo.quantile(0.75)\n",
    "print(q3)\n",
    "\n",
    "\n",
    "iqr = (q3 - q1) * 1.5\n",
    "\n",
    "limite_superior_expensas = q3 + iqr\n",
    "limite_inferior_expensas = q1 - iqr\n",
    "\n",
    "print(limite_superior_expensas)\n",
    "print(limite_inferior_expensas)\n",
    "\n",
    "\n",
    "outlier_mask_sup_expensas = data_amba_sin_outliers_precio.expenses_nuevo > limite_superior_expensas\n",
    "outlier_mask_inf_expensas = data_amba_sin_outliers_precio.expenses_nuevo < limite_inferior_expensas\n",
    "outlier_mask_expensas = np.logical_or(outlier_mask_sup_expensas, outlier_mask_inf_expensas)\n",
    "not_outliers_expensas = np.logical_not(outlier_mask_expensas)\n",
    "data_amba_sin_outliers_expensas = data_amba_sin_outliers_precio[not_outliers_expensas]"
   ]
  },
  {
   "cell_type": "code",
   "execution_count": null,
   "metadata": {},
   "outputs": [],
   "source": [
    "sns.pairplot(data_amba_sin_outliers_expensas.loc[:, ('expenses_nuevo', 'price_nuevo', 'state_name', 'property_type')], hue=\"property_type\")"
   ]
  },
  {
   "cell_type": "markdown",
   "metadata": {},
   "source": [
    "#### Conclusion: Gráficamente no se observa relación entre el precio de la propiedad y las expensas que abona."
   ]
  },
  {
   "cell_type": "code",
   "execution_count": null,
   "metadata": {},
   "outputs": [],
   "source": [
    "# with sns.axes_style(style='ticks'):\n",
    "#     g = sns.catplot(\"property_type\", \"price_nuevo\", \"state_name\", data=data_amba_sin_outliers_precio, kind=\"box\")\n",
    "#     g.set_axis_labels(\"Tipo de vivienda\", \"Precio de vivienda\");"
   ]
  },
  {
   "cell_type": "code",
   "execution_count": null,
   "metadata": {},
   "outputs": [],
   "source": []
  },
  {
   "cell_type": "code",
   "execution_count": null,
   "metadata": {},
   "outputs": [],
   "source": []
  },
  {
   "cell_type": "code",
   "execution_count": null,
   "metadata": {},
   "outputs": [],
   "source": []
  }
 ],
 "metadata": {
  "kernelspec": {
   "display_name": "Python 3",
   "language": "python",
   "name": "python3"
  },
  "language_info": {
   "codemirror_mode": {
    "name": "ipython",
    "version": 3
   },
   "file_extension": ".py",
   "mimetype": "text/x-python",
   "name": "python",
   "nbconvert_exporter": "python",
   "pygments_lexer": "ipython3",
   "version": "3.7.7"
  }
 },
 "nbformat": 4,
 "nbformat_minor": 4
}
