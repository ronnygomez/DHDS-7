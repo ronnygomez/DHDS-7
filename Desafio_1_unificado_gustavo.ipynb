{
 "cells": [
  {
   "cell_type": "markdown",
   "metadata": {},
   "source": [
    "# Desafío Número 1: Equipo 7"
   ]
  },
  {
   "cell_type": "markdown",
   "metadata": {},
   "source": [
    "<a id=\"section_indice\"></a> \n",
    "## Indice\n",
    "\n",
    "[Introduccion](#section_introduccion)\n",
    "\n",
    "[Dataset](#section_dataset)\n",
    "\n",
    "[Limpieza de datos](#section_limpieza)\n",
    "\n",
    "$\\hspace{.5cm}$[Rooms](#section_limpieza_rooms)\n",
    "  \n",
    "$\\hspace{.5cm}$[Expensas](#section_limpieza_expensas)\n",
    "\n",
    "$\\hspace{.5cm}$[Geonames](#section_limpieza_geonames)\n",
    "\n",
    "$\\hspace{.5cm}$[Pisos](#section_limpieza_pisos)\n",
    "\n",
    "$\\hspace{.5cm}$[Antigüedad](#section_limpieza_antiguedad)\n",
    "\n",
    "$\\hspace{.5cm}$[Precios](#section_limpieza_precios)\n",
    "\n",
    "$\\hspace{.5cm}$[Places](#section_limpieza_places)\n",
    "\n",
    "\n",
    "[Definición de mitos o realidades](#section_mitos_o_realidades)\n",
    "\n",
    "$\\hspace{.5cm}$[Mito o Realidad N° 1: Los inmuebles a estrenar son más caros que los demás](#section_mito_1)\n",
    "\n",
    "$\\hspace{.5cm}$[Mito o Realidad N° 2: Existe una correlación entre el precio del inmueble y las expensas que abonan](#section_mito_2)\n",
    "\n"
   ]
  },
  {
   "cell_type": "markdown",
   "metadata": {},
   "source": [
    "<a id=\"section_introduccion\"></a> \n",
    "\n",
    "## Introducción\n",
    "\n",
    "[volver a Indice](#section_indice)"
   ]
  },
  {
   "cell_type": "markdown",
   "metadata": {},
   "source": [
    "El objetivo del desafío es generar la limpieza de una base de datos de \"Properati\" con observaciones sobre operaciones de venta de inmuebles aparentemente de Argentina.\n",
    "Con el objetivo de visualizar los principales indicadores y responder una serie de preguntas planteadas, se procedió a la estrategia de limpieza.\n",
    "\n",
    "Estrategia de limpieza: Se dividieron las columnas principales del dataset entre los integrantes del equipo, y se procedió a realizar la limpieza con prioridad en los datos existentes, complementando a través de regex los datos encontrados en las columnas \"Title\" y \"Description\".\n"
   ]
  },
  {
   "cell_type": "markdown",
   "metadata": {},
   "source": [
    "<a id=\"section_dataset\"></a> \n",
    "\n",
    "## Dataset\n",
    "\n",
    "[volver a Indice](#section_indice)"
   ]
  },
  {
   "cell_type": "code",
   "execution_count": 1,
   "metadata": {},
   "outputs": [],
   "source": [
    "import pandas as pd\n",
    "import numpy as np\n",
    "import re "
   ]
  },
  {
   "cell_type": "code",
   "execution_count": 2,
   "metadata": {},
   "outputs": [
    {
     "name": "stdout",
     "output_type": "stream",
     "text": [
      "Tipo de datos de variables\n",
      "Unnamed: 0                      int64\n",
      "operation                      object\n",
      "property_type                  object\n",
      "place_name                     object\n",
      "place_with_parent_names        object\n",
      "country_name                   object\n",
      "state_name                     object\n",
      "geonames_id                   float64\n",
      "lat-lon                        object\n",
      "lat                           float64\n",
      "lon                           float64\n",
      "price                         float64\n",
      "currency                       object\n",
      "price_aprox_local_currency    float64\n",
      "price_aprox_usd               float64\n",
      "surface_total_in_m2           float64\n",
      "surface_covered_in_m2         float64\n",
      "price_usd_per_m2              float64\n",
      "price_per_m2                  float64\n",
      "floor                         float64\n",
      "rooms                         float64\n",
      "expenses                      float64\n",
      "properati_url                  object\n",
      "description                    object\n",
      "title                          object\n",
      "image_thumbnail                object\n",
      "dtype: object\n",
      "--------------------------------------------\n",
      "Porcentaje de variables nulas\n",
      "Unnamed: 0                     0.00\n",
      "operation                      0.00\n",
      "property_type                  0.00\n",
      "place_name                     0.02\n",
      "place_with_parent_names        0.00\n",
      "country_name                   0.00\n",
      "state_name                     0.00\n",
      "geonames_id                   15.44\n",
      "lat-lon                       42.53\n",
      "lat                           42.53\n",
      "lon                           42.53\n",
      "price                         16.84\n",
      "currency                      16.84\n",
      "price_aprox_local_currency    16.84\n",
      "price_aprox_usd               16.84\n",
      "surface_total_in_m2           32.44\n",
      "surface_covered_in_m2         16.42\n",
      "price_usd_per_m2              43.39\n",
      "price_per_m2                  27.69\n",
      "floor                         93.48\n",
      "rooms                         60.91\n",
      "expenses                      88.23\n",
      "properati_url                  0.00\n",
      "description                    0.00\n",
      "title                          0.00\n",
      "image_thumbnail                2.57\n",
      "dtype: float64\n"
     ]
    },
    {
     "data": {
      "text/html": [
       "<div>\n",
       "<style scoped>\n",
       "    .dataframe tbody tr th:only-of-type {\n",
       "        vertical-align: middle;\n",
       "    }\n",
       "\n",
       "    .dataframe tbody tr th {\n",
       "        vertical-align: top;\n",
       "    }\n",
       "\n",
       "    .dataframe thead th {\n",
       "        text-align: right;\n",
       "    }\n",
       "</style>\n",
       "<table border=\"1\" class=\"dataframe\">\n",
       "  <thead>\n",
       "    <tr style=\"text-align: right;\">\n",
       "      <th></th>\n",
       "      <th>Unnamed: 0</th>\n",
       "      <th>operation</th>\n",
       "      <th>property_type</th>\n",
       "      <th>place_name</th>\n",
       "      <th>place_with_parent_names</th>\n",
       "      <th>country_name</th>\n",
       "      <th>state_name</th>\n",
       "      <th>geonames_id</th>\n",
       "      <th>lat-lon</th>\n",
       "      <th>lat</th>\n",
       "      <th>...</th>\n",
       "      <th>surface_covered_in_m2</th>\n",
       "      <th>price_usd_per_m2</th>\n",
       "      <th>price_per_m2</th>\n",
       "      <th>floor</th>\n",
       "      <th>rooms</th>\n",
       "      <th>expenses</th>\n",
       "      <th>properati_url</th>\n",
       "      <th>description</th>\n",
       "      <th>title</th>\n",
       "      <th>image_thumbnail</th>\n",
       "    </tr>\n",
       "  </thead>\n",
       "  <tbody>\n",
       "    <tr>\n",
       "      <th>0</th>\n",
       "      <td>0</td>\n",
       "      <td>sell</td>\n",
       "      <td>PH</td>\n",
       "      <td>Mataderos</td>\n",
       "      <td>|Argentina|Capital Federal|Mataderos|</td>\n",
       "      <td>Argentina</td>\n",
       "      <td>Capital Federal</td>\n",
       "      <td>3430787.0</td>\n",
       "      <td>-34.6618237,-58.5088387</td>\n",
       "      <td>-34.661824</td>\n",
       "      <td>...</td>\n",
       "      <td>40.0</td>\n",
       "      <td>1127.272727</td>\n",
       "      <td>1550.000000</td>\n",
       "      <td>NaN</td>\n",
       "      <td>NaN</td>\n",
       "      <td>NaN</td>\n",
       "      <td>http://www.properati.com.ar/15bo8_venta_ph_mat...</td>\n",
       "      <td>2 AMBIENTES TIPO CASA PLANTA BAJA POR PASILLO,...</td>\n",
       "      <td>2 AMB TIPO CASA SIN EXPENSAS EN PB</td>\n",
       "      <td>https://thumbs4.properati.com/8/BluUYiHJLhgIIK...</td>\n",
       "    </tr>\n",
       "    <tr>\n",
       "      <th>1</th>\n",
       "      <td>1</td>\n",
       "      <td>sell</td>\n",
       "      <td>apartment</td>\n",
       "      <td>La Plata</td>\n",
       "      <td>|Argentina|Bs.As. G.B.A. Zona Sur|La Plata|</td>\n",
       "      <td>Argentina</td>\n",
       "      <td>Bs.As. G.B.A. Zona Sur</td>\n",
       "      <td>3432039.0</td>\n",
       "      <td>-34.9038831,-57.9643295</td>\n",
       "      <td>-34.903883</td>\n",
       "      <td>...</td>\n",
       "      <td>NaN</td>\n",
       "      <td>NaN</td>\n",
       "      <td>NaN</td>\n",
       "      <td>NaN</td>\n",
       "      <td>NaN</td>\n",
       "      <td>NaN</td>\n",
       "      <td>http://www.properati.com.ar/15bob_venta_depart...</td>\n",
       "      <td>Venta de departamento en décimo piso al frente...</td>\n",
       "      <td>VENTA Depto 2 dorm. a estrenar 7 e/ 36 y 37   ...</td>\n",
       "      <td>https://thumbs4.properati.com/7/ikpVBu2ztHA7jv...</td>\n",
       "    </tr>\n",
       "    <tr>\n",
       "      <th>2</th>\n",
       "      <td>2</td>\n",
       "      <td>sell</td>\n",
       "      <td>apartment</td>\n",
       "      <td>Mataderos</td>\n",
       "      <td>|Argentina|Capital Federal|Mataderos|</td>\n",
       "      <td>Argentina</td>\n",
       "      <td>Capital Federal</td>\n",
       "      <td>3430787.0</td>\n",
       "      <td>-34.6522615,-58.5229825</td>\n",
       "      <td>-34.652262</td>\n",
       "      <td>...</td>\n",
       "      <td>55.0</td>\n",
       "      <td>1309.090909</td>\n",
       "      <td>1309.090909</td>\n",
       "      <td>NaN</td>\n",
       "      <td>NaN</td>\n",
       "      <td>NaN</td>\n",
       "      <td>http://www.properati.com.ar/15bod_venta_depart...</td>\n",
       "      <td>2 AMBIENTES 3ER PISO LATERAL LIVING COMEDOR AM...</td>\n",
       "      <td>2 AMB 3ER PISO CON ASCENSOR APTO CREDITO</td>\n",
       "      <td>https://thumbs4.properati.com/5/SXKr34F_IwG3W_...</td>\n",
       "    </tr>\n",
       "  </tbody>\n",
       "</table>\n",
       "<p>3 rows × 26 columns</p>\n",
       "</div>"
      ],
      "text/plain": [
       "   Unnamed: 0 operation property_type place_name  \\\n",
       "0           0      sell            PH  Mataderos   \n",
       "1           1      sell     apartment   La Plata   \n",
       "2           2      sell     apartment  Mataderos   \n",
       "\n",
       "                       place_with_parent_names country_name  \\\n",
       "0        |Argentina|Capital Federal|Mataderos|    Argentina   \n",
       "1  |Argentina|Bs.As. G.B.A. Zona Sur|La Plata|    Argentina   \n",
       "2        |Argentina|Capital Federal|Mataderos|    Argentina   \n",
       "\n",
       "               state_name  geonames_id                  lat-lon        lat  \\\n",
       "0         Capital Federal    3430787.0  -34.6618237,-58.5088387 -34.661824   \n",
       "1  Bs.As. G.B.A. Zona Sur    3432039.0  -34.9038831,-57.9643295 -34.903883   \n",
       "2         Capital Federal    3430787.0  -34.6522615,-58.5229825 -34.652262   \n",
       "\n",
       "   ...  surface_covered_in_m2  price_usd_per_m2 price_per_m2  floor  rooms  \\\n",
       "0  ...                   40.0       1127.272727  1550.000000    NaN    NaN   \n",
       "1  ...                    NaN               NaN          NaN    NaN    NaN   \n",
       "2  ...                   55.0       1309.090909  1309.090909    NaN    NaN   \n",
       "\n",
       "   expenses                                      properati_url  \\\n",
       "0       NaN  http://www.properati.com.ar/15bo8_venta_ph_mat...   \n",
       "1       NaN  http://www.properati.com.ar/15bob_venta_depart...   \n",
       "2       NaN  http://www.properati.com.ar/15bod_venta_depart...   \n",
       "\n",
       "                                         description  \\\n",
       "0  2 AMBIENTES TIPO CASA PLANTA BAJA POR PASILLO,...   \n",
       "1  Venta de departamento en décimo piso al frente...   \n",
       "2  2 AMBIENTES 3ER PISO LATERAL LIVING COMEDOR AM...   \n",
       "\n",
       "                                               title  \\\n",
       "0                 2 AMB TIPO CASA SIN EXPENSAS EN PB   \n",
       "1  VENTA Depto 2 dorm. a estrenar 7 e/ 36 y 37   ...   \n",
       "2           2 AMB 3ER PISO CON ASCENSOR APTO CREDITO   \n",
       "\n",
       "                                     image_thumbnail  \n",
       "0  https://thumbs4.properati.com/8/BluUYiHJLhgIIK...  \n",
       "1  https://thumbs4.properati.com/7/ikpVBu2ztHA7jv...  \n",
       "2  https://thumbs4.properati.com/5/SXKr34F_IwG3W_...  \n",
       "\n",
       "[3 rows x 26 columns]"
      ]
     },
     "execution_count": 2,
     "metadata": {},
     "output_type": "execute_result"
    }
   ],
   "source": [
    "#Levantamos el archivo de trabajo\n",
    "data_location = \"../properati.csv\"\n",
    "data = pd.read_csv(data_location, sep=\",\")\n",
    "\n",
    "#Analizamos el tipo de dato de cada variable\n",
    "print(f'Tipo de datos de variables')\n",
    "print(data.dtypes)\n",
    "\n",
    "\n",
    "print('--------------------------------------------')\n",
    "#Analizamos los nulos existentes en cada variable\n",
    "print(f'Porcentaje de variables nulas')\n",
    "nulos = data.isnull()\n",
    "cant_no_nulos = round(nulos.sum()/data.shape[0]*100,2)\n",
    "print(cant_no_nulos)\n",
    "\n",
    "#Vusalizamos las primeras observaciones del data set\n",
    "data.head(3)"
   ]
  },
  {
   "cell_type": "markdown",
   "metadata": {},
   "source": [
    "<a id=\"section_limpieza\"></a> \n",
    "\n",
    "## Limpieza del dataset de Properati\n",
    "\n",
    "[volver a Indice](#section_indice)"
   ]
  },
  {
   "cell_type": "markdown",
   "metadata": {},
   "source": [
    "<a id=\"section_limpieza_rooms\"></a> \n",
    "\n",
    "### Limpieza de columna Rooms\n",
    "\n",
    "[volver a Indice](#section_indice)"
   ]
  },
  {
   "cell_type": "code",
   "execution_count": 3,
   "metadata": {},
   "outputs": [
    {
     "data": {
      "text/plain": [
       "0         2 ambientes tipo casa planta baja por pasillo,...\n",
       "1         venta de departamento en décimo piso al frente...\n",
       "2         2 ambientes 3er piso lateral living comedor am...\n",
       "3         ph 3 ambientes con patio. hay 3 deptos en lote...\n",
       "4         departamento con fantástica iluminación natura...\n",
       "                                ...                        \n",
       "121215    torre forum alcorta - máxima categoría.impecab...\n",
       "121216    excelente e impecable casa en venta en las lom...\n",
       "121217    venta departamento ambiente divisible a estren...\n",
       "121218    2 amb al contrafrente,  luminoso. el departame...\n",
       "121219    departamento de 77 m2 apto profesional. edific...\n",
       "Name: description, Length: 121220, dtype: object"
      ]
     },
     "metadata": {},
     "output_type": "display_data"
    },
    {
     "data": {
      "text/plain": [
       "0                        2 amb tipo casa sin expensas en pb\n",
       "1         venta depto 2 dorm. a estrenar 7 e/ 36 y 37   ...\n",
       "2                  2 amb 3er piso con ascensor apto credito\n",
       "3                              ph 3 amb. cfte. reciclado   \n",
       "4         depto 2 amb al contrafrente zona centro/plaza ...\n",
       "                                ...                        \n",
       "121215           torre forum alcorta- impecable 3 ambientes\n",
       "121216    ruca inmuebles | venta | lomas de san isidro |...\n",
       "121217    venta departamento ambiente divisible a estren...\n",
       "121218    2 amb. c/ dep. de servicio al contrafrente| re...\n",
       "121219           departamento apto profesional en el centro\n",
       "Name: title, Length: 121220, dtype: object"
      ]
     },
     "metadata": {},
     "output_type": "display_data"
    }
   ],
   "source": [
    "data[\"rooms_completo\"] =data[\"rooms\"]\n",
    "data_room_null_description = data.description.astype(str).str.lower()\n",
    "data_room_null_title = data.title.astype(str).str.lower()\n",
    "display(data_room_null_description)\n",
    "display(data_room_null_title)"
   ]
  },
  {
   "cell_type": "code",
   "execution_count": 4,
   "metadata": {},
   "outputs": [
    {
     "name": "stdout",
     "output_type": "stream",
     "text": [
      "Primer grupo de filas sin rooms\n"
     ]
    },
    {
     "data": {
      "text/plain": [
       "True     73830\n",
       "False    47390\n",
       "Name: rooms_completo, dtype: int64"
      ]
     },
     "execution_count": 4,
     "metadata": {},
     "output_type": "execute_result"
    }
   ],
   "source": [
    "print(\"Primer grupo de filas sin rooms\")\n",
    "data[\"rooms_completo\"].isnull().value_counts()"
   ]
  },
  {
   "cell_type": "markdown",
   "metadata": {},
   "source": [
    "Seteamos los que son monoambientes\n",
    "Primero buscamos las palabras que identifiquen al monoambiente. \n",
    "Luego buscamos las coincidencias dentro del universo de coincidencias del campo descripción\n",
    "donde hubo coincidencias, le asignamos 1. "
   ]
  },
  {
   "cell_type": "code",
   "execution_count": 5,
   "metadata": {},
   "outputs": [],
   "source": [
    "def fun_buscar_patt(data_validar,patt_room):\n",
    "    patt_regex = re.compile(patt_room)\n",
    "    data_match = data_validar.apply(lambda x:  x if x is np.NaN else patt_regex.search(x))\n",
    "    return data_match"
   ]
  },
  {
   "cell_type": "code",
   "execution_count": 6,
   "metadata": {},
   "outputs": [],
   "source": [
    "def fun_buscar_disminuir(data_room_null_description, patt,restar):\n",
    "    ###se pasa la palabra y se asigna###\n",
    "    data_encontrada= fun_buscar_patt(data_room_null_description,patt)\n",
    "    encontradas = data_encontrada[data_encontrada.notnull()].apply(lambda x: x.group(1))\n",
    "    room_null_mask = data[\"rooms_completo\"].isnull()\n",
    "    data.loc[room_null_mask,\"rooms_completo\"]= encontradas[room_null_mask].apply(lambda x: x if x is np.NaN else (float(x)-restar)).astype(int)\n",
    "    print(\"Disminución en función a los ambientes tipo:\",patt)\n",
    "    result = data[\"rooms_completo\"].isnull().value_counts()\n",
    "    return result"
   ]
  },
  {
   "cell_type": "code",
   "execution_count": 7,
   "metadata": {},
   "outputs": [],
   "source": [
    "def fun_buscar_disminuir_mapper(data_room_null_description, patt,restar):\n",
    "    ###se pasa la palabra y se asigna y se mapea el texto###\n",
    "    data_encontrada= fun_buscar_patt(data_room_null_description,patt)\n",
    "    encontradas = data_encontrada[data_encontrada.notnull()].apply(lambda x: x.group(1))\n",
    "    room_null_mask = data[\"rooms_completo\"].isnull()\n",
    "    numcol_cat_mapper = {\n",
    "       'un': 1,'uun':1, 'uno': 1,'dos': 2,'tres': 3,'cuatro':4,\n",
    "        'cinco':5,'sinco':5,'seis':6,'ceis':6,'siete':7,\n",
    "        'ciete':7,'ocho':8,'nueve':9,'diez':10,'once':11,\n",
    "        'doce':12,'trece':13,'catorce':14,'quince':15,\n",
    "        'dieciseis':16,'diecisiete':17,'dieciocho':18,'diecinueve':19,\n",
    "        'veinte':20\n",
    "    }\n",
    "    encontradas1 = encontradas.map(numcol_cat_mapper)\n",
    "    data.loc[room_null_mask,\"rooms_completo\"]= encontradas1[room_null_mask].apply(lambda x: x if x is np.NaN else (float(x)-restar))\n",
    "    print(\"Disminución en función a los ambientes :\",patt)\n",
    "    result = data[\"rooms_completo\"].isnull().value_counts()\n",
    "    return result"
   ]
  },
  {
   "cell_type": "code",
   "execution_count": 8,
   "metadata": {},
   "outputs": [],
   "source": [
    "#validar que luego elija siempre la última que encuentre"
   ]
  },
  {
   "cell_type": "code",
   "execution_count": 9,
   "metadata": {},
   "outputs": [],
   "source": [
    "def fun_buscar_disminuir_mapper_2(data_room_null_description, patt,restar):\n",
    "    ###se pasa la palabra y se asigna y se mapea el texto###\n",
    "    data_encontrada= fun_buscar_patt(data_room_null_description,patt)\n",
    "    encontradas = data_encontrada[data_encontrada.notnull()].apply(lambda x: x.group(1))\n",
    "    room_null_mask = data[\"rooms_completo\"].isnull()\n",
    "    numcol_cat_mapper = {\n",
    "                'segundo': 2,'tercer':3, 'cuarto': 4,'quinto': 5,'sexto': 6\n",
    "    }\n",
    "    encontradas1 = encontradas.map(numcol_cat_mapper)\n",
    "    data.loc[room_null_mask,\"rooms_completo\"]= encontradas1[room_null_mask].apply(lambda x: x if x is np.NaN else (float(x)-restar))\n",
    "    print(\"Disminución en función a los ambientes :\",patt)\n",
    "    result = data[\"rooms_completo\"].isnull().value_counts()\n",
    "    return result"
   ]
  },
  {
   "cell_type": "code",
   "execution_count": 10,
   "metadata": {},
   "outputs": [],
   "source": [
    "def disminuciones_repeticion(serie,patt):\n",
    "    print(data[\"rooms_completo\"].isnull().value_counts())\n",
    "    data_encontrada = serie.apply(lambda x: x if x is np.NaN else x.count(patt))\n",
    "    maskarita= data_encontrada>0|data[\"rooms_completo\"].isnull()\n",
    "    data.loc[maskarita,\"rooms_completo\"] = data_encontrada[maskarita]\n",
    "    result = data[\"rooms_completo\"].isnull().value_counts()\n",
    "    return result"
   ]
  },
  {
   "cell_type": "code",
   "execution_count": 11,
   "metadata": {},
   "outputs": [
    {
     "name": "stdout",
     "output_type": "stream",
     "text": [
      "Primera disminución Monoambientes\n"
     ]
    },
    {
     "data": {
      "text/plain": [
       "True     69080\n",
       "False    52140\n",
       "Name: rooms_completo, dtype: int64"
      ]
     },
     "metadata": {},
     "output_type": "display_data"
    }
   ],
   "source": [
    "data_room_match = fun_buscar_patt(data_room_null_description,r\"(mono ambiente|monoambiente|mono-ambiente|Monoamb)\")\n",
    "data_room_match_mask = data_room_match.notnull()\n",
    "data_room_match[data_room_match_mask]=0\n",
    "data_room_mask = data[\"rooms_completo\"].isnull()\n",
    "\n",
    "data.loc[data_room_match_mask,\"rooms_completo\"] = data_room_match[data_room_match_mask].apply(lambda x: x if x is np.NaN else x)\n",
    "print(\"Primera disminución Monoambientes\")\n",
    "display(data[\"rooms_completo\"].isnull().value_counts())"
   ]
  },
  {
   "cell_type": "code",
   "execution_count": 12,
   "metadata": {},
   "outputs": [
    {
     "name": "stdout",
     "output_type": "stream",
     "text": [
      "Primera disminución Monoambientes\n"
     ]
    },
    {
     "data": {
      "text/plain": [
       "True     68675\n",
       "False    52545\n",
       "Name: rooms_completo, dtype: int64"
      ]
     },
     "metadata": {},
     "output_type": "display_data"
    }
   ],
   "source": [
    "data_room_match = fun_buscar_patt(data_room_null_title,r\"(mono ambiente|monoambiente|mono-ambiente|monoamb)\")\n",
    "data_room_match_mask = data_room_match.notnull()\n",
    "data_room_match[data_room_match_mask]=0\n",
    "data_room_mask = data[\"rooms_completo\"].isnull()\n",
    "\n",
    "data.loc[data_room_match_mask,\"rooms_completo\"] = data_room_match[data_room_match_mask].apply(lambda x: x if x is np.NaN else x)\n",
    "print(\"Primera disminución Monoambientes\")\n",
    "display(data[\"rooms_completo\"].isnull().value_counts())"
   ]
  },
  {
   "cell_type": "code",
   "execution_count": 13,
   "metadata": {},
   "outputs": [
    {
     "name": "stdout",
     "output_type": "stream",
     "text": [
      "Disminución en función a los ambientes tipo: [\\s](\\d\\d)[\\s]?habitaci\n",
      "True     68631\n",
      "False    52589\n",
      "Name: rooms_completo, dtype: int64\n"
     ]
    }
   ],
   "source": [
    "resultado = fun_buscar_disminuir(data_room_null_description,r\"[\\s](\\d\\d)[\\s]?habitaci\",0)\n",
    "print(resultado)"
   ]
  },
  {
   "cell_type": "code",
   "execution_count": 14,
   "metadata": {},
   "outputs": [
    {
     "name": "stdout",
     "output_type": "stream",
     "text": [
      "Disminución en función a los ambientes : (\\w+)[\\s]?(dormitorio|domitorio)\n",
      "False    64513\n",
      "True     56707\n",
      "Name: rooms_completo, dtype: int64\n"
     ]
    }
   ],
   "source": [
    "resultado = fun_buscar_disminuir_mapper(data_room_null_description,r\"(\\w+)[\\s]?(dormitorio|domitorio)\",0)\n",
    "print(resultado)"
   ]
  },
  {
   "cell_type": "code",
   "execution_count": 15,
   "metadata": {},
   "outputs": [
    {
     "name": "stdout",
     "output_type": "stream",
     "text": [
      "Disminución en función a los ambientes : (\\w+)[\\s]?(dormitorio|domitorio)\n",
      "False    65214\n",
      "True     56006\n",
      "Name: rooms_completo, dtype: int64\n"
     ]
    }
   ],
   "source": [
    "resultado = fun_buscar_disminuir_mapper_2(data_room_null_description,r\"(\\w+)[\\s]?(dormitorio|domitorio)\",0)\n",
    "print(resultado)"
   ]
  },
  {
   "cell_type": "code",
   "execution_count": 16,
   "metadata": {},
   "outputs": [
    {
     "name": "stdout",
     "output_type": "stream",
     "text": [
      "Disminución en función a los ambientes : (\\w+)[\\s]?(ambiente)\n",
      "False    67069\n",
      "True     54151\n",
      "Name: rooms_completo, dtype: int64\n"
     ]
    }
   ],
   "source": [
    "resultado = fun_buscar_disminuir_mapper(data_room_null_description,r\"(\\w+)[\\s]?(ambiente)\",1)\n",
    "print(resultado)"
   ]
  },
  {
   "cell_type": "code",
   "execution_count": 17,
   "metadata": {},
   "outputs": [
    {
     "name": "stdout",
     "output_type": "stream",
     "text": [
      "Disminución en función a los ambientes tipo: [\\s](\\d)[\\s]?(amb)\n",
      "False    82384\n",
      "True     38836\n",
      "Name: rooms_completo, dtype: int64\n"
     ]
    }
   ],
   "source": [
    "resultado = fun_buscar_disminuir(data_room_null_description,r\"[\\s](\\d)[\\s]?(amb)\",1)\n",
    "print(resultado)"
   ]
  },
  {
   "cell_type": "code",
   "execution_count": 18,
   "metadata": {},
   "outputs": [
    {
     "name": "stdout",
     "output_type": "stream",
     "text": [
      "Disminución en función a los ambientes tipo: \\D(\\d)[\\s]?(dorm)\n",
      "False    100893\n",
      "True      20327\n",
      "Name: rooms_completo, dtype: int64\n"
     ]
    }
   ],
   "source": [
    "resultado = fun_buscar_disminuir(data_room_null_description,r\"\\D(\\d)[\\s]?(dorm)\",0)\n",
    "print(resultado)"
   ]
  },
  {
   "cell_type": "code",
   "execution_count": 19,
   "metadata": {},
   "outputs": [
    {
     "name": "stdout",
     "output_type": "stream",
     "text": [
      "Disminución en función a los ambientes tipo: \\D(\\d?\\d)[\\s]?(dorm)\n",
      "False    101365\n",
      "True      19855\n",
      "Name: rooms_completo, dtype: int64\n"
     ]
    }
   ],
   "source": [
    "resultado = fun_buscar_disminuir(data_room_null_title,r\"\\D(\\d?\\d)[\\s]?(dorm)\",0)\n",
    "print(resultado)"
   ]
  },
  {
   "cell_type": "code",
   "execution_count": 20,
   "metadata": {},
   "outputs": [
    {
     "name": "stdout",
     "output_type": "stream",
     "text": [
      "Disminución en función a los ambientes tipo: (\\d)[\\s]?(suite)\n",
      "False    101515\n",
      "True      19705\n",
      "Name: rooms_completo, dtype: int64\n"
     ]
    }
   ],
   "source": [
    "resultado = fun_buscar_disminuir(data_room_null_description,r\"(\\d)[\\s]?(suite)\",0)\n",
    "print(resultado)"
   ]
  },
  {
   "cell_type": "markdown",
   "metadata": {},
   "source": [
    "Buscamos ahora las restantes en el título"
   ]
  },
  {
   "cell_type": "code",
   "execution_count": 21,
   "metadata": {},
   "outputs": [
    {
     "name": "stdout",
     "output_type": "stream",
     "text": [
      "Disminución en función a los ambientes tipo: ([\\s]\\d?\\d)[\\s]?amb\n",
      "False    102495\n",
      "True      18725\n",
      "Name: rooms_completo, dtype: int64\n"
     ]
    }
   ],
   "source": [
    "resultado = fun_buscar_disminuir(data_room_null_title,r\"([\\s]\\d?\\d)[\\s]?amb\",1)\n",
    "print(resultado)"
   ]
  },
  {
   "cell_type": "code",
   "execution_count": 22,
   "metadata": {},
   "outputs": [
    {
     "name": "stdout",
     "output_type": "stream",
     "text": [
      "Disminución en función a los ambientes : (\\w+)[\\s]?(amb)\n",
      "False    102663\n",
      "True      18557\n",
      "Name: rooms_completo, dtype: int64\n"
     ]
    }
   ],
   "source": [
    "resultado = fun_buscar_disminuir_mapper(data_room_null_title,r\"(\\w+)[\\s]?(amb)\",1)\n",
    "print(resultado)"
   ]
  },
  {
   "cell_type": "code",
   "execution_count": 23,
   "metadata": {},
   "outputs": [
    {
     "name": "stdout",
     "output_type": "stream",
     "text": [
      "False    102663\n",
      "True      18557\n",
      "Name: rooms_completo, dtype: int64\n"
     ]
    },
    {
     "data": {
      "text/plain": [
       "False    104570\n",
       "True      16650\n",
       "Name: rooms_completo, dtype: int64"
      ]
     },
     "execution_count": 23,
     "metadata": {},
     "output_type": "execute_result"
    }
   ],
   "source": [
    "disminuciones_repeticion(data_room_null_description,\"dormitorio\")"
   ]
  },
  {
   "cell_type": "code",
   "execution_count": 24,
   "metadata": {},
   "outputs": [
    {
     "name": "stdout",
     "output_type": "stream",
     "text": [
      "False    104570\n",
      "True      16650\n",
      "Name: rooms_completo, dtype: int64\n"
     ]
    },
    {
     "data": {
      "text/plain": [
       "False    104948\n",
       "True      16272\n",
       "Name: rooms_completo, dtype: int64"
      ]
     },
     "execution_count": 24,
     "metadata": {},
     "output_type": "execute_result"
    }
   ],
   "source": [
    "disminuciones_repeticion(data_room_null_description,\"habitacion\")\n"
   ]
  },
  {
   "cell_type": "code",
   "execution_count": 25,
   "metadata": {},
   "outputs": [
    {
     "name": "stdout",
     "output_type": "stream",
     "text": [
      "False    104948\n",
      "True      16272\n",
      "Name: rooms_completo, dtype: int64\n"
     ]
    },
    {
     "data": {
      "text/plain": [
       "False    105281\n",
       "True      15939\n",
       "Name: rooms_completo, dtype: int64"
      ]
     },
     "execution_count": 25,
     "metadata": {},
     "output_type": "execute_result"
    }
   ],
   "source": [
    "disminuciones_repeticion(data_room_null_description,\"suite\")"
   ]
  },
  {
   "cell_type": "markdown",
   "metadata": {},
   "source": [
    "## `SETEANDO RESTO DE ROOMS EN NULL`\n",
    "ALGUNOS AJUSTES POSTERIORES ESPECÍFICOS PORQUE LA REGEX LOS TOMÓ Y NO APLICABA"
   ]
  },
  {
   "cell_type": "markdown",
   "metadata": {},
   "source": [
    "\n",
    "AQUÍ SETEO EL RESTO QUE SE ENCUENTRA EN NULL"
   ]
  },
  {
   "cell_type": "code",
   "execution_count": 26,
   "metadata": {},
   "outputs": [
    {
     "data": {
      "text/plain": [
       "23884   NaN\n",
       "Name: rooms_completo, dtype: float64"
      ]
     },
     "execution_count": 26,
     "metadata": {},
     "output_type": "execute_result"
    }
   ],
   "source": [
    "def fun_back(idreg):\n",
    "    data.loc[idreg:idreg,\"rooms_completo\"]=data.loc[idreg:idreg,\"rooms\"]\n",
    "    return data.loc[idreg:idreg,\"rooms_completo\"]\n",
    "fun_back(53793)\n",
    "fun_back(23884)"
   ]
  },
  {
   "cell_type": "code",
   "execution_count": 27,
   "metadata": {},
   "outputs": [
    {
     "name": "stdout",
     "output_type": "stream",
     "text": [
      "False    121220\n",
      "Name: rooms_completo, dtype: int64\n"
     ]
    }
   ],
   "source": [
    "data[\"rooms_completo\"].fillna(0,inplace = True) \n",
    "print(data[\"rooms_completo\"].isnull().value_counts())"
   ]
  },
  {
   "cell_type": "markdown",
   "metadata": {},
   "source": [
    "## `AGREGANDO CAMPOS NUEVOS`\n",
    "Se crean nuevos campos para definir características que pueden revalorizar la propiedad\n",
    "____"
   ]
  },
  {
   "cell_type": "code",
   "execution_count": 28,
   "metadata": {},
   "outputs": [
    {
     "data": {
      "text/plain": [
       "False    104706\n",
       "True      16514\n",
       "Name: PILETA, dtype: int64"
      ]
     },
     "execution_count": 28,
     "metadata": {},
     "output_type": "execute_result"
    }
   ],
   "source": [
    "data_encontrada1= fun_buscar_patt(data_room_null_description,\"(\\w+)[\\s]?(\\w+)[\\s]?(pileta|piscina|pisina|picina)\")\n",
    "encontradas_pileta = data_encontrada1[data_encontrada1.notnull()].apply(lambda x: x.group(0))\n",
    "data[\"PILETA\"] = encontradas_pileta.apply(lambda x: False if x.count(\"sin\")>0 else True)\n",
    "data[\"PILETA\"].fillna(value=False, inplace=True)\n",
    "data[\"PILETA\"].value_counts()"
   ]
  },
  {
   "cell_type": "code",
   "execution_count": 29,
   "metadata": {},
   "outputs": [
    {
     "data": {
      "text/plain": [
       "False    93220\n",
       "True     28000\n",
       "Name: PARRILLA, dtype: int64"
      ]
     },
     "execution_count": 29,
     "metadata": {},
     "output_type": "execute_result"
    }
   ],
   "source": [
    "data_encontrada_parrilla= fun_buscar_patt(data_room_null_description,\"(\\w+)[\\s]?(\\w+)[\\s]?(parrilla|asado|grill|churrasquera)\")\n",
    "encontradas_parrilla = data_encontrada_parrilla[data_encontrada_parrilla.notnull()].apply(lambda x: x.group(0))\n",
    "data[\"PARRILLA\"] = encontradas_parrilla.apply(lambda x: False if x.count(\"sin\")>0 else True)\n",
    "data[\"PARRILLA\"].fillna(value=False, inplace=True)\n",
    "# data[\"PARRILLA\"]= data_encontrada_parrilla.notnull()\n",
    "data[\"PARRILLA\"].value_counts()"
   ]
  },
  {
   "cell_type": "code",
   "execution_count": 30,
   "metadata": {},
   "outputs": [
    {
     "data": {
      "text/plain": [
       "False    104289\n",
       "True      16931\n",
       "Name: PATIO_JARDIN, dtype: int64"
      ]
     },
     "execution_count": 30,
     "metadata": {},
     "output_type": "execute_result"
    }
   ],
   "source": [
    "data_encontrada_patio= fun_buscar_patt(data_room_null_description,\"(\\w+)[\\s]?(\\w+)[\\s]?(patio|jardin)\")\n",
    "encontradas_patio = data_encontrada_patio[data_encontrada_patio.notnull()].apply(lambda x: x.group(0))\n",
    "data[\"PATIO_JARDIN\"] = encontradas_patio.apply(lambda x: False if x.count(\"sin\")>0 else True)\n",
    "data[\"PATIO_JARDIN\"].fillna(value=False, inplace=True)\n",
    "data[\"PATIO_JARDIN\"].value_counts()"
   ]
  },
  {
   "cell_type": "markdown",
   "metadata": {},
   "source": [
    "ESTO ES PARA REALIZAR VALIDACIÓN DE DATOS\n",
    "\n",
    "\n",
    "______\n"
   ]
  },
  {
   "cell_type": "code",
   "execution_count": 31,
   "metadata": {},
   "outputs": [],
   "source": [
    "bins= [1,2,3,4,5,6,7,8,9,10,15,20,25,30,40]\n",
    "room= pd.cut(data.rooms_completo, bins,right=False)"
   ]
  },
  {
   "cell_type": "code",
   "execution_count": 32,
   "metadata": {},
   "outputs": [
    {
     "data": {
      "text/html": [
       "<div>\n",
       "<style scoped>\n",
       "    .dataframe tbody tr th:only-of-type {\n",
       "        vertical-align: middle;\n",
       "    }\n",
       "\n",
       "    .dataframe tbody tr th {\n",
       "        vertical-align: top;\n",
       "    }\n",
       "\n",
       "    .dataframe thead th {\n",
       "        text-align: right;\n",
       "    }\n",
       "</style>\n",
       "<table border=\"1\" class=\"dataframe\">\n",
       "  <thead>\n",
       "    <tr style=\"text-align: right;\">\n",
       "      <th>property_type</th>\n",
       "      <th>PH</th>\n",
       "      <th>apartment</th>\n",
       "      <th>house</th>\n",
       "      <th>store</th>\n",
       "    </tr>\n",
       "    <tr>\n",
       "      <th>rooms_completo</th>\n",
       "      <th></th>\n",
       "      <th></th>\n",
       "      <th></th>\n",
       "      <th></th>\n",
       "    </tr>\n",
       "  </thead>\n",
       "  <tbody>\n",
       "    <tr>\n",
       "      <th>[1, 2)</th>\n",
       "      <td>3136.0</td>\n",
       "      <td>36930.0</td>\n",
       "      <td>23846.0</td>\n",
       "      <td>362.0</td>\n",
       "    </tr>\n",
       "    <tr>\n",
       "      <th>[2, 3)</th>\n",
       "      <td>1394.0</td>\n",
       "      <td>12378.0</td>\n",
       "      <td>7558.0</td>\n",
       "      <td>145.0</td>\n",
       "    </tr>\n",
       "    <tr>\n",
       "      <th>[3, 4)</th>\n",
       "      <td>545.0</td>\n",
       "      <td>4631.0</td>\n",
       "      <td>2979.0</td>\n",
       "      <td>79.0</td>\n",
       "    </tr>\n",
       "    <tr>\n",
       "      <th>[4, 5)</th>\n",
       "      <td>161.0</td>\n",
       "      <td>1170.0</td>\n",
       "      <td>1047.0</td>\n",
       "      <td>14.0</td>\n",
       "    </tr>\n",
       "    <tr>\n",
       "      <th>[5, 6)</th>\n",
       "      <td>46.0</td>\n",
       "      <td>323.0</td>\n",
       "      <td>409.0</td>\n",
       "      <td>12.0</td>\n",
       "    </tr>\n",
       "    <tr>\n",
       "      <th>[6, 7)</th>\n",
       "      <td>22.0</td>\n",
       "      <td>136.0</td>\n",
       "      <td>152.0</td>\n",
       "      <td>6.0</td>\n",
       "    </tr>\n",
       "    <tr>\n",
       "      <th>[7, 8)</th>\n",
       "      <td>6.0</td>\n",
       "      <td>81.0</td>\n",
       "      <td>77.0</td>\n",
       "      <td>4.0</td>\n",
       "    </tr>\n",
       "    <tr>\n",
       "      <th>[8, 9)</th>\n",
       "      <td>1.0</td>\n",
       "      <td>64.0</td>\n",
       "      <td>34.0</td>\n",
       "      <td>1.0</td>\n",
       "    </tr>\n",
       "    <tr>\n",
       "      <th>[9, 10)</th>\n",
       "      <td>NaN</td>\n",
       "      <td>22.0</td>\n",
       "      <td>19.0</td>\n",
       "      <td>NaN</td>\n",
       "    </tr>\n",
       "    <tr>\n",
       "      <th>[10, 15)</th>\n",
       "      <td>NaN</td>\n",
       "      <td>48.0</td>\n",
       "      <td>44.0</td>\n",
       "      <td>2.0</td>\n",
       "    </tr>\n",
       "    <tr>\n",
       "      <th>[15, 20)</th>\n",
       "      <td>NaN</td>\n",
       "      <td>5.0</td>\n",
       "      <td>4.0</td>\n",
       "      <td>NaN</td>\n",
       "    </tr>\n",
       "    <tr>\n",
       "      <th>[20, 25)</th>\n",
       "      <td>NaN</td>\n",
       "      <td>5.0</td>\n",
       "      <td>6.0</td>\n",
       "      <td>NaN</td>\n",
       "    </tr>\n",
       "    <tr>\n",
       "      <th>[30, 40)</th>\n",
       "      <td>NaN</td>\n",
       "      <td>1.0</td>\n",
       "      <td>3.0</td>\n",
       "      <td>NaN</td>\n",
       "    </tr>\n",
       "  </tbody>\n",
       "</table>\n",
       "</div>"
      ],
      "text/plain": [
       "property_type       PH  apartment    house  store\n",
       "rooms_completo                                   \n",
       "[1, 2)          3136.0    36930.0  23846.0  362.0\n",
       "[2, 3)          1394.0    12378.0   7558.0  145.0\n",
       "[3, 4)           545.0     4631.0   2979.0   79.0\n",
       "[4, 5)           161.0     1170.0   1047.0   14.0\n",
       "[5, 6)            46.0      323.0    409.0   12.0\n",
       "[6, 7)            22.0      136.0    152.0    6.0\n",
       "[7, 8)             6.0       81.0     77.0    4.0\n",
       "[8, 9)             1.0       64.0     34.0    1.0\n",
       "[9, 10)            NaN       22.0     19.0    NaN\n",
       "[10, 15)           NaN       48.0     44.0    2.0\n",
       "[15, 20)           NaN        5.0      4.0    NaN\n",
       "[20, 25)           NaN        5.0      6.0    NaN\n",
       "[30, 40)           NaN        1.0      3.0    NaN"
      ]
     },
     "execution_count": 32,
     "metadata": {},
     "output_type": "execute_result"
    }
   ],
   "source": [
    "data.pivot_table('rooms_completo', index=[room], columns='property_type', aggfunc='count' )"
   ]
  },
  {
   "cell_type": "markdown",
   "metadata": {},
   "source": [
    "<a id=\"section_limpieza_expensas\"></a> \n",
    "\n",
    "### Limpieza de columna Expensas\n",
    "\n",
    "[volver a Indice](#section_indice)\n"
   ]
  },
  {
   "cell_type": "markdown",
   "metadata": {},
   "source": [
    "#### Vemos que porcentaje de las filas de expensas tienen NA y creamos un dataset solo con los que tienen datos"
   ]
  },
  {
   "cell_type": "code",
   "execution_count": 33,
   "metadata": {},
   "outputs": [
    {
     "name": "stdout",
     "output_type": "stream",
     "text": [
      "El total de filas es de 121220\n",
      "Hay 14262 filas con expensas, son el 12.0%\n"
     ]
    }
   ],
   "source": [
    "#Separo los casos que son NA, los que tienen algun numero y de ellos los que son iguales a 1\n",
    "mask_filas_con_expensas_na = data.expenses.isna()\n",
    "mask_filas_con_expensas_notna = data.expenses.notna()\n",
    "mask_filas_con_expensas_1 = data.expenses == 1\n",
    "\n",
    "print(f'El total de filas es de {data.shape[0]}')\n",
    "print(f'Hay {mask_filas_con_expensas_notna.sum()} filas con expensas, son el {round((mask_filas_con_expensas_notna.sum())/(data.shape[0]),2)*100}%')"
   ]
  },
  {
   "cell_type": "markdown",
   "metadata": {},
   "source": [
    "#### Aplicamos la siguiente logica: si el tipo de propiedad es casa o PH, expensas = NO. Si es departamento o store = SI. Y si no tiene info tomamos el promedio de expensas segun los metros cuadrados."
   ]
  },
  {
   "cell_type": "code",
   "execution_count": 34,
   "metadata": {},
   "outputs": [],
   "source": [
    "mask_apartment = data.property_type == \"apartment\"\n",
    "mask_house = data.property_type == \"house\"\n",
    "mask_PH = data.property_type == \"PH\"\n",
    "mask_store = data.property_type == \"store\""
   ]
  },
  {
   "cell_type": "code",
   "execution_count": 35,
   "metadata": {},
   "outputs": [
    {
     "data": {
      "text/plain": [
       "SI    75201\n",
       "NO    46019\n",
       "Name: expenses_bool, dtype: int64"
      ]
     },
     "execution_count": 35,
     "metadata": {},
     "output_type": "execute_result"
    }
   ],
   "source": [
    "data['expenses_bool'] = np.select([mask_apartment, mask_house, mask_PH, mask_store], \n",
    "                            ['SI', 'NO', 'NO', 'SI'], \n",
    "                            default=np.nan)\n",
    "data.expenses_bool.value_counts()"
   ]
  },
  {
   "cell_type": "markdown",
   "metadata": {},
   "source": [
    "#### De los casos que pagan expensas analizamos nuevamente los datos"
   ]
  },
  {
   "cell_type": "code",
   "execution_count": 36,
   "metadata": {},
   "outputs": [
    {
     "data": {
      "text/plain": [
       "count       11606.000000\n",
       "mean         4907.131570\n",
       "std        132691.813566\n",
       "min             1.000000\n",
       "25%          1000.000000\n",
       "50%          1700.000000\n",
       "75%          3100.000000\n",
       "max      10001500.000000\n",
       "Name: expenses, dtype: object"
      ]
     },
     "execution_count": 36,
     "metadata": {},
     "output_type": "execute_result"
    }
   ],
   "source": [
    "#Armo un df con los casos que pagan expensas\n",
    "mask_si_expensas = data.expenses_bool == \"SI\"\n",
    "con_expensas = data.loc[mask_si_expensas,:]\n",
    "con_expensas['expenses'].describe().apply(lambda x: format(x, 'f'))"
   ]
  },
  {
   "cell_type": "code",
   "execution_count": 37,
   "metadata": {},
   "outputs": [
    {
     "data": {
      "text/plain": [
       "1.0           850\n",
       "2.0            54\n",
       "3.0             1\n",
       "4.0             2\n",
       "5.0             2\n",
       "             ... \n",
       "550000.0        1\n",
       "1000000.0       1\n",
       "1100000.0       1\n",
       "1200000.0       1\n",
       "10001500.0      2\n",
       "Name: expenses, Length: 941, dtype: int64"
      ]
     },
     "execution_count": 37,
     "metadata": {},
     "output_type": "execute_result"
    }
   ],
   "source": [
    "con_expensas.expenses.value_counts().sort_index()"
   ]
  },
  {
   "cell_type": "markdown",
   "metadata": {},
   "source": [
    "#### Identificamos como desconocidos los casos atipicos (menor a 100 y mayor a 200.000) y los NA"
   ]
  },
  {
   "cell_type": "code",
   "execution_count": 38,
   "metadata": {},
   "outputs": [],
   "source": [
    "mask_mayor_doscientosmil = con_expensas.expenses <= 200000\n",
    "mask_menor_cien = con_expensas.expenses >= 100\n",
    "\n",
    "mask_conocidos = np.logical_and(mask_mayor_doscientosmil, mask_menor_cien)\n",
    "mask_desconocidos = np.logical_not(mask_conocidos)\n",
    "\n",
    "# con_expensas = con_expensas.loc[mask_quantil_noventaycinco, :]\n",
    "# con_expensas.expenses.value_counts().sort_index()"
   ]
  },
  {
   "cell_type": "code",
   "execution_count": 39,
   "metadata": {},
   "outputs": [
    {
     "name": "stdout",
     "output_type": "stream",
     "text": [
      "10664\n",
      "64537\n"
     ]
    }
   ],
   "source": [
    "print(mask_conocidos.sum())\n",
    "print(mask_desconocidos.sum())"
   ]
  },
  {
   "cell_type": "code",
   "execution_count": 40,
   "metadata": {},
   "outputs": [
    {
     "data": {
      "text/plain": [
       "count     10664.000000\n",
       "mean       3011.734902\n",
       "std        3917.418488\n",
       "min         100.000000\n",
       "25%        1100.000000\n",
       "50%        1860.000000\n",
       "75%        3500.000000\n",
       "max      110000.000000\n",
       "Name: expenses, dtype: object"
      ]
     },
     "execution_count": 40,
     "metadata": {},
     "output_type": "execute_result"
    }
   ],
   "source": [
    "con_expensas_desconocidos = con_expensas.loc[mask_desconocidos,:]\n",
    "con_expensas_conocidos = con_expensas.loc[mask_conocidos,:]\n",
    "con_expensas_conocidos.expenses.describe().apply(lambda x: format(x, 'f'))"
   ]
  },
  {
   "cell_type": "code",
   "execution_count": 41,
   "metadata": {},
   "outputs": [
    {
     "data": {
      "text/plain": [
       "rooms\n",
       "1.0     1541.115672\n",
       "2.0     1576.646179\n",
       "3.0     2756.033223\n",
       "4.0     5040.478378\n",
       "5.0    10888.910000\n",
       "6.0    11223.809524\n",
       "7.0     5014.285714\n",
       "8.0    12000.000000\n",
       "Name: expenses, dtype: float64"
      ]
     },
     "execution_count": 41,
     "metadata": {},
     "output_type": "execute_result"
    }
   ],
   "source": [
    "con_expensas_conocidos.groupby('rooms')['expenses'].mean()"
   ]
  },
  {
   "cell_type": "markdown",
   "metadata": {},
   "source": [
    "#### A los casos desconocidos les aplicamos el promedio por cantidad de habitaciones"
   ]
  },
  {
   "cell_type": "code",
   "execution_count": 42,
   "metadata": {},
   "outputs": [],
   "source": [
    "con_expensas_desconocidos = con_expensas_desconocidos.join(con_expensas_conocidos.groupby('rooms_completo')['expenses'].mean(), on='rooms_completo', rsuffix='_nuevo')"
   ]
  },
  {
   "cell_type": "markdown",
   "metadata": {},
   "source": [
    "#### Unificamos los montos de expensas"
   ]
  },
  {
   "cell_type": "code",
   "execution_count": 43,
   "metadata": {},
   "outputs": [
    {
     "data": {
      "text/plain": [
       "(10664, 32)"
      ]
     },
     "execution_count": 43,
     "metadata": {},
     "output_type": "execute_result"
    }
   ],
   "source": [
    "import warnings\n",
    "warnings.filterwarnings(\"ignore\")\n",
    "con_expensas_conocidos.loc[:, 'expenses_nuevo'] = con_expensas_conocidos.loc[:, 'expenses'].copy()\n",
    "con_expensas_conocidos.shape"
   ]
  },
  {
   "cell_type": "code",
   "execution_count": 44,
   "metadata": {},
   "outputs": [
    {
     "data": {
      "text/plain": [
       "(64537, 32)"
      ]
     },
     "execution_count": 44,
     "metadata": {},
     "output_type": "execute_result"
    }
   ],
   "source": [
    "con_expensas_desconocidos.shape"
   ]
  },
  {
   "cell_type": "code",
   "execution_count": 45,
   "metadata": {},
   "outputs": [
    {
     "data": {
      "text/plain": [
       "(46019, 32)"
      ]
     },
     "execution_count": 45,
     "metadata": {},
     "output_type": "execute_result"
    }
   ],
   "source": [
    "mask_no_expensas = data.expenses_bool == \"NO\"\n",
    "sin_expensas = data.loc[mask_no_expensas,:]\n",
    "sin_expensas.loc[:, 'expenses_nuevo'] = 0\n",
    "sin_expensas.shape\n"
   ]
  },
  {
   "cell_type": "code",
   "execution_count": 46,
   "metadata": {},
   "outputs": [],
   "source": [
    "data = pd.concat([con_expensas_conocidos, con_expensas_desconocidos, sin_expensas])\n",
    "data = data.sort_index()\n"
   ]
  },
  {
   "cell_type": "markdown",
   "metadata": {},
   "source": [
    "<a id=\"section_limpieza_geonames\"></a> \n",
    "\n",
    "### Limpieza de la columna Geonames\n",
    "\n",
    "[volver a Indice](#section_indice)\n"
   ]
  },
  {
   "cell_type": "code",
   "execution_count": 47,
   "metadata": {},
   "outputs": [
    {
     "data": {
      "text/html": [
       "<div>\n",
       "<style scoped>\n",
       "    .dataframe tbody tr th:only-of-type {\n",
       "        vertical-align: middle;\n",
       "    }\n",
       "\n",
       "    .dataframe tbody tr th {\n",
       "        vertical-align: top;\n",
       "    }\n",
       "\n",
       "    .dataframe thead th {\n",
       "        text-align: right;\n",
       "    }\n",
       "</style>\n",
       "<table border=\"1\" class=\"dataframe\">\n",
       "  <thead>\n",
       "    <tr style=\"text-align: right;\">\n",
       "      <th></th>\n",
       "      <th>place_name</th>\n",
       "      <th>place_with_parent_names</th>\n",
       "      <th>geonames_id</th>\n",
       "      <th>lat-lon</th>\n",
       "      <th>lat</th>\n",
       "      <th>lon</th>\n",
       "    </tr>\n",
       "  </thead>\n",
       "  <tbody>\n",
       "    <tr>\n",
       "      <th>0</th>\n",
       "      <td>Mataderos</td>\n",
       "      <td>|Argentina|Capital Federal|Mataderos|</td>\n",
       "      <td>3430787.0</td>\n",
       "      <td>-34.6618237,-58.5088387</td>\n",
       "      <td>-34.661824</td>\n",
       "      <td>-58.508839</td>\n",
       "    </tr>\n",
       "    <tr>\n",
       "      <th>1</th>\n",
       "      <td>La Plata</td>\n",
       "      <td>|Argentina|Bs.As. G.B.A. Zona Sur|La Plata|</td>\n",
       "      <td>3432039.0</td>\n",
       "      <td>-34.9038831,-57.9643295</td>\n",
       "      <td>-34.903883</td>\n",
       "      <td>-57.964330</td>\n",
       "    </tr>\n",
       "    <tr>\n",
       "      <th>2</th>\n",
       "      <td>Mataderos</td>\n",
       "      <td>|Argentina|Capital Federal|Mataderos|</td>\n",
       "      <td>3430787.0</td>\n",
       "      <td>-34.6522615,-58.5229825</td>\n",
       "      <td>-34.652262</td>\n",
       "      <td>-58.522982</td>\n",
       "    </tr>\n",
       "    <tr>\n",
       "      <th>3</th>\n",
       "      <td>Liniers</td>\n",
       "      <td>|Argentina|Capital Federal|Liniers|</td>\n",
       "      <td>3431333.0</td>\n",
       "      <td>-34.6477969,-58.5164244</td>\n",
       "      <td>-34.647797</td>\n",
       "      <td>-58.516424</td>\n",
       "    </tr>\n",
       "    <tr>\n",
       "      <th>4</th>\n",
       "      <td>Centro</td>\n",
       "      <td>|Argentina|Buenos Aires Costa Atlántica|Mar de...</td>\n",
       "      <td>3435548.0</td>\n",
       "      <td>-38.0026256,-57.5494468</td>\n",
       "      <td>-38.002626</td>\n",
       "      <td>-57.549447</td>\n",
       "    </tr>\n",
       "    <tr>\n",
       "      <th>5</th>\n",
       "      <td>Gualeguaychú</td>\n",
       "      <td>|Argentina|Entre Ríos|Gualeguaychú|</td>\n",
       "      <td>3433657.0</td>\n",
       "      <td>-33.0140714,-58.519828</td>\n",
       "      <td>-33.014071</td>\n",
       "      <td>-58.519828</td>\n",
       "    </tr>\n",
       "    <tr>\n",
       "      <th>6</th>\n",
       "      <td>Munro</td>\n",
       "      <td>|Argentina|Bs.As. G.B.A. Zona Norte|Vicente Ló...</td>\n",
       "      <td>3430511.0</td>\n",
       "      <td>-34.5329567,-58.5217825</td>\n",
       "      <td>-34.532957</td>\n",
       "      <td>-58.521782</td>\n",
       "    </tr>\n",
       "    <tr>\n",
       "      <th>7</th>\n",
       "      <td>Belgrano</td>\n",
       "      <td>|Argentina|Capital Federal|Belgrano|</td>\n",
       "      <td>3436077.0</td>\n",
       "      <td>-34.5598729,-58.443362</td>\n",
       "      <td>-34.559873</td>\n",
       "      <td>-58.443362</td>\n",
       "    </tr>\n",
       "    <tr>\n",
       "      <th>8</th>\n",
       "      <td>Belgrano</td>\n",
       "      <td>|Argentina|Capital Federal|Belgrano|</td>\n",
       "      <td>3436077.0</td>\n",
       "      <td>-34.5598729,-58.443362</td>\n",
       "      <td>-34.559873</td>\n",
       "      <td>-58.443362</td>\n",
       "    </tr>\n",
       "    <tr>\n",
       "      <th>9</th>\n",
       "      <td>Rosario</td>\n",
       "      <td>|Argentina|Santa Fe|Rosario|</td>\n",
       "      <td>3838574.0</td>\n",
       "      <td>-32.942031,-60.7259192</td>\n",
       "      <td>-32.942031</td>\n",
       "      <td>-60.725919</td>\n",
       "    </tr>\n",
       "  </tbody>\n",
       "</table>\n",
       "</div>"
      ],
      "text/plain": [
       "     place_name                            place_with_parent_names  \\\n",
       "0     Mataderos              |Argentina|Capital Federal|Mataderos|   \n",
       "1      La Plata        |Argentina|Bs.As. G.B.A. Zona Sur|La Plata|   \n",
       "2     Mataderos              |Argentina|Capital Federal|Mataderos|   \n",
       "3       Liniers                |Argentina|Capital Federal|Liniers|   \n",
       "4        Centro  |Argentina|Buenos Aires Costa Atlántica|Mar de...   \n",
       "5  Gualeguaychú                |Argentina|Entre Ríos|Gualeguaychú|   \n",
       "6         Munro  |Argentina|Bs.As. G.B.A. Zona Norte|Vicente Ló...   \n",
       "7      Belgrano               |Argentina|Capital Federal|Belgrano|   \n",
       "8      Belgrano               |Argentina|Capital Federal|Belgrano|   \n",
       "9       Rosario                       |Argentina|Santa Fe|Rosario|   \n",
       "\n",
       "   geonames_id                  lat-lon        lat        lon  \n",
       "0    3430787.0  -34.6618237,-58.5088387 -34.661824 -58.508839  \n",
       "1    3432039.0  -34.9038831,-57.9643295 -34.903883 -57.964330  \n",
       "2    3430787.0  -34.6522615,-58.5229825 -34.652262 -58.522982  \n",
       "3    3431333.0  -34.6477969,-58.5164244 -34.647797 -58.516424  \n",
       "4    3435548.0  -38.0026256,-57.5494468 -38.002626 -57.549447  \n",
       "5    3433657.0   -33.0140714,-58.519828 -33.014071 -58.519828  \n",
       "6    3430511.0  -34.5329567,-58.5217825 -34.532957 -58.521782  \n",
       "7    3436077.0   -34.5598729,-58.443362 -34.559873 -58.443362  \n",
       "8    3436077.0   -34.5598729,-58.443362 -34.559873 -58.443362  \n",
       "9    3838574.0   -32.942031,-60.7259192 -32.942031 -60.725919  "
      ]
     },
     "metadata": {},
     "output_type": "display_data"
    },
    {
     "name": "stdout",
     "output_type": "stream",
     "text": [
      "(121220, 6)\n"
     ]
    }
   ],
   "source": [
    "data_geolocalizacion = data.loc[ : , [\"place_name\", \"place_with_parent_names\", \"geonames_id\", \"lat-lon\", \"lat\", \"lon\"]]\n",
    "display(data_geolocalizacion.head(10))\n",
    "print(data_geolocalizacion.shape)"
   ]
  },
  {
   "cell_type": "code",
   "execution_count": 48,
   "metadata": {},
   "outputs": [
    {
     "data": {
      "text/plain": [
       "place_name                    23\n",
       "place_with_parent_names        0\n",
       "geonames_id                18717\n",
       "lat-lon                    51550\n",
       "lat                        51550\n",
       "lon                        51550\n",
       "dtype: int64"
      ]
     },
     "execution_count": 48,
     "metadata": {},
     "output_type": "execute_result"
    }
   ],
   "source": [
    "nulos =data_geolocalizacion.isnull()\n",
    "nulos.sum()"
   ]
  },
  {
   "cell_type": "code",
   "execution_count": 49,
   "metadata": {},
   "outputs": [
    {
     "data": {
      "text/html": [
       "<div>\n",
       "<style scoped>\n",
       "    .dataframe tbody tr th:only-of-type {\n",
       "        vertical-align: middle;\n",
       "    }\n",
       "\n",
       "    .dataframe tbody tr th {\n",
       "        vertical-align: top;\n",
       "    }\n",
       "\n",
       "    .dataframe thead th {\n",
       "        text-align: right;\n",
       "    }\n",
       "</style>\n",
       "<table border=\"1\" class=\"dataframe\">\n",
       "  <thead>\n",
       "    <tr style=\"text-align: right;\">\n",
       "      <th></th>\n",
       "      <th>place_name</th>\n",
       "      <th>place_with_parent_names</th>\n",
       "      <th>geonames_id</th>\n",
       "      <th>lat-lon</th>\n",
       "      <th>lat</th>\n",
       "      <th>lon</th>\n",
       "    </tr>\n",
       "  </thead>\n",
       "  <tbody>\n",
       "    <tr>\n",
       "      <th>42404</th>\n",
       "      <td>Country Maschwitz Club</td>\n",
       "      <td>|Argentina|Bs.As. G.B.A. Zona Norte|Escobar| C...</td>\n",
       "      <td>NaN</td>\n",
       "      <td>-34.3782857,-58.7541862</td>\n",
       "      <td>-34.378286</td>\n",
       "      <td>-58.754186</td>\n",
       "    </tr>\n",
       "    <tr>\n",
       "      <th>45159</th>\n",
       "      <td>Country Maschwitz Club</td>\n",
       "      <td>|Argentina|Bs.As. G.B.A. Zona Norte|Escobar| C...</td>\n",
       "      <td>NaN</td>\n",
       "      <td>-34.377446,-58.756042</td>\n",
       "      <td>-34.377446</td>\n",
       "      <td>-58.756042</td>\n",
       "    </tr>\n",
       "    <tr>\n",
       "      <th>33586</th>\n",
       "      <td>Country Maschwitz Club</td>\n",
       "      <td>|Argentina|Bs.As. G.B.A. Zona Norte|Escobar| C...</td>\n",
       "      <td>NaN</td>\n",
       "      <td>-34.3773892772,-58.756005714</td>\n",
       "      <td>-34.377389</td>\n",
       "      <td>-58.756006</td>\n",
       "    </tr>\n",
       "    <tr>\n",
       "      <th>23730</th>\n",
       "      <td>los alamos</td>\n",
       "      <td>|Argentina|Bs.As. G.B.A. Zona Norte|Tigre| los...</td>\n",
       "      <td>NaN</td>\n",
       "      <td>-34.4239891,-58.601876</td>\n",
       "      <td>-34.423989</td>\n",
       "      <td>-58.601876</td>\n",
       "    </tr>\n",
       "    <tr>\n",
       "      <th>84843</th>\n",
       "      <td>9 de Abril</td>\n",
       "      <td>|Argentina|Bs.As. G.B.A. Zona Sur|Esteban Eche...</td>\n",
       "      <td>NaN</td>\n",
       "      <td>NaN</td>\n",
       "      <td>NaN</td>\n",
       "      <td>NaN</td>\n",
       "    </tr>\n",
       "  </tbody>\n",
       "</table>\n",
       "</div>"
      ],
      "text/plain": [
       "                    place_name  \\\n",
       "42404   Country Maschwitz Club   \n",
       "45159   Country Maschwitz Club   \n",
       "33586   Country Maschwitz Club   \n",
       "23730               los alamos   \n",
       "84843               9 de Abril   \n",
       "\n",
       "                                 place_with_parent_names  geonames_id  \\\n",
       "42404  |Argentina|Bs.As. G.B.A. Zona Norte|Escobar| C...          NaN   \n",
       "45159  |Argentina|Bs.As. G.B.A. Zona Norte|Escobar| C...          NaN   \n",
       "33586  |Argentina|Bs.As. G.B.A. Zona Norte|Escobar| C...          NaN   \n",
       "23730  |Argentina|Bs.As. G.B.A. Zona Norte|Tigre| los...          NaN   \n",
       "84843  |Argentina|Bs.As. G.B.A. Zona Sur|Esteban Eche...          NaN   \n",
       "\n",
       "                            lat-lon        lat        lon  \n",
       "42404       -34.3782857,-58.7541862 -34.378286 -58.754186  \n",
       "45159         -34.377446,-58.756042 -34.377446 -58.756042  \n",
       "33586  -34.3773892772,-58.756005714 -34.377389 -58.756006  \n",
       "23730        -34.4239891,-58.601876 -34.423989 -58.601876  \n",
       "84843                           NaN        NaN        NaN  "
      ]
     },
     "execution_count": 49,
     "metadata": {},
     "output_type": "execute_result"
    }
   ],
   "source": [
    "geo_nulos = data_geolocalizacion.loc[nulos.index].sort_values('place_name')\n",
    "geo_nulos.head()"
   ]
  },
  {
   "cell_type": "code",
   "execution_count": 50,
   "metadata": {},
   "outputs": [
    {
     "data": {
      "text/plain": [
       "Córdoba                    9254\n",
       "Rosario                    8504\n",
       "Mar del Plata              6534\n",
       "Tigre                      3324\n",
       "Nordelta                   3315\n",
       "Belgrano                   2992\n",
       "Palermo                    2885\n",
       "La Plata                   2534\n",
       "Caballito                  2273\n",
       "Pilar                      2228\n",
       "Villa Urquiza              1632\n",
       "Olivos                     1590\n",
       "Recoleta                   1547\n",
       "Lomas de Zamora            1529\n",
       "Flores                     1354\n",
       "Ituzaingó                  1340\n",
       "Villa Crespo               1331\n",
       "Capital Federal            1297\n",
       "San Telmo                  1216\n",
       "Morón                      1209\n",
       "Almagro                    1165\n",
       "Barrio Norte               1140\n",
       "Ramos Mejía                1127\n",
       "Martínez                   1058\n",
       "Lanús                      1048\n",
       "Escobar                    1037\n",
       "Banfield                   1007\n",
       "San Isidro                  990\n",
       "Pinamar                     932\n",
       "Boedo                       890\n",
       "Nuñez                       778\n",
       "San Miguel                  752\n",
       "Adrogué                     734\n",
       "Punilla                     713\n",
       "Temperley                   703\n",
       "Quilmes                     699\n",
       "Vicente López               681\n",
       "Balvanera                   667\n",
       "Puerto Madero               647\n",
       "San Fernando                643\n",
       "Castelar                    640\n",
       "San Carlos de Bariloche     639\n",
       "Santa Fe                    628\n",
       "Florida                     620\n",
       "San Cristobal               614\n",
       "Villa Carlos Paz            612\n",
       "Benavidez                   604\n",
       "Villa Ballester             588\n",
       "Saavedra                    542\n",
       "Monserrat                   538\n",
       "Name: place_name, dtype: int64"
      ]
     },
     "execution_count": 50,
     "metadata": {},
     "output_type": "execute_result"
    }
   ],
   "source": [
    "geo_nulos['place_name'].value_counts().sort_values(ascending=False).head(50)"
   ]
  },
  {
   "cell_type": "markdown",
   "metadata": {},
   "source": [
    "### LIMPIEZA CORDOBA"
   ]
  },
  {
   "cell_type": "code",
   "execution_count": 51,
   "metadata": {},
   "outputs": [],
   "source": [
    "mask_cordoba = geo_nulos['place_name']== \"Córdoba\"\n",
    "datos_cordoba = geo_nulos.loc[mask_cordoba, :]\n",
    "#datos_cordoba.sort_values(by=\"geonames_id\").sample(10)"
   ]
  },
  {
   "cell_type": "code",
   "execution_count": 52,
   "metadata": {},
   "outputs": [],
   "source": [
    "#datos_cordoba.isnull().sum()"
   ]
  },
  {
   "cell_type": "code",
   "execution_count": 53,
   "metadata": {},
   "outputs": [],
   "source": [
    "#display(datos_cordoba.groupby(['geonames_id']).mean())"
   ]
  },
  {
   "cell_type": "code",
   "execution_count": 54,
   "metadata": {},
   "outputs": [],
   "source": [
    "geo_mask_1 = datos_cordoba.place_with_parent_names == \"|Argentina|Córdoba|Córdoba|\"\n",
    "geo_mask_2 = datos_cordoba.place_with_parent_names == \"|Argentina|Córdoba|\"\n",
    "\n",
    "data_geolocalizacion_cordoba_3860259 = datos_cordoba.loc[geo_mask_1, :]\n",
    "values_3860259 = {\"geonames_id\":3860259.0, \"place_name\":\"Córdoba\",\"place_with_parent_names\": \"|Argentina|Córdoba|Córdoba|\", \"lat-lon\" : \"-31.421912, -64.192741\", \"lat\": -31.421912, \"lon\": -64.192741}\n",
    "\n",
    "data_geolocalizacion_cordoba_3860255 = datos_cordoba.loc[geo_mask_2, :]\n",
    "values_3860255 = {\"geonames_id\":3860255.0, \"place_name\":\"Córdoba\",\"place_with_parent_names\": \"|Argentina|Córdoba|\",\"lat-lon\" : \"-31.411897, -64.269298\", \"lat\": -31.411897, \"lon\": -64.269298}\n",
    "\n",
    "datos_cordoba_con_3860259 = datos_cordoba.fillna(values_3860259)\n",
    "datos_cordoba_completo = datos_cordoba.fillna(values_3860255)\n",
    "#datos_cordoba_completo.head()\n"
   ]
  },
  {
   "cell_type": "code",
   "execution_count": 55,
   "metadata": {},
   "outputs": [],
   "source": [
    "#datos_cordoba_completo.isnull().sum()"
   ]
  },
  {
   "cell_type": "code",
   "execution_count": 56,
   "metadata": {},
   "outputs": [
    {
     "data": {
      "text/plain": [
       "place_name                    23\n",
       "place_with_parent_names        0\n",
       "geonames_id                18717\n",
       "lat-lon                    45809\n",
       "lat                        45809\n",
       "lon                        45809\n",
       "dtype: int64"
      ]
     },
     "execution_count": 56,
     "metadata": {},
     "output_type": "execute_result"
    }
   ],
   "source": [
    "geo_nulos = geo_nulos.fillna(datos_cordoba_completo)\n",
    "geo_nulos.isnull().sum()"
   ]
  },
  {
   "cell_type": "markdown",
   "metadata": {},
   "source": [
    "### LIMPIEZA ROSARIO"
   ]
  },
  {
   "cell_type": "code",
   "execution_count": 57,
   "metadata": {},
   "outputs": [],
   "source": [
    "mask_rosario = geo_nulos['place_name']== \"Rosario\"\n",
    "datos_rosario = geo_nulos.loc[mask_rosario, :]\n",
    "#datos_rosario.sort_values(by=\"geonames_id\").sample(10)"
   ]
  },
  {
   "cell_type": "code",
   "execution_count": 58,
   "metadata": {},
   "outputs": [],
   "source": [
    "#datos_rosario.isnull().sum()"
   ]
  },
  {
   "cell_type": "code",
   "execution_count": 59,
   "metadata": {},
   "outputs": [],
   "source": [
    "#display(datos_rosario.groupby(['geonames_id']).mean())"
   ]
  },
  {
   "cell_type": "code",
   "execution_count": 60,
   "metadata": {},
   "outputs": [],
   "source": [
    "values_3838574 = {\"geonames_id\":3838574.0, \"place_name\":\"Rosario\",\"place_with_parent_names\": \"|Argentina|Santa Fe|Rosario|\",\"lat-lon\" : \"-32.9473, -60.661795\", \"lat\": -32.9473, \"lon\": -60.661795}\n",
    "datos_rosario_completo = datos_rosario.fillna(values_3838574)\n",
    "#datos_rosario_completo.head()"
   ]
  },
  {
   "cell_type": "code",
   "execution_count": 61,
   "metadata": {},
   "outputs": [],
   "source": [
    "#datos_rosario_completo.isnull().sum()"
   ]
  },
  {
   "cell_type": "code",
   "execution_count": 62,
   "metadata": {},
   "outputs": [
    {
     "data": {
      "text/plain": [
       "place_name                    23\n",
       "place_with_parent_names        0\n",
       "geonames_id                18717\n",
       "lat-lon                    41291\n",
       "lat                        41291\n",
       "lon                        41291\n",
       "dtype: int64"
      ]
     },
     "execution_count": 62,
     "metadata": {},
     "output_type": "execute_result"
    }
   ],
   "source": [
    "geo_nulos = geo_nulos.fillna(datos_rosario_completo)\n",
    "geo_nulos.isnull().sum()"
   ]
  },
  {
   "cell_type": "markdown",
   "metadata": {},
   "source": [
    "### LIMPIEZA MAR DEL PLATA"
   ]
  },
  {
   "cell_type": "code",
   "execution_count": 63,
   "metadata": {},
   "outputs": [],
   "source": [
    "mask_mar_del_plata = geo_nulos['place_name']== \"Mar del Plata\"\n",
    "datos_mar_del_plata = geo_nulos.loc[mask_mar_del_plata, :]\n",
    "#datos_mar_del_plata.sort_values(by=\"geonames_id\").sample(10)"
   ]
  },
  {
   "cell_type": "code",
   "execution_count": 64,
   "metadata": {},
   "outputs": [],
   "source": [
    "#datos_mar_del_plata.isnull().sum()"
   ]
  },
  {
   "cell_type": "code",
   "execution_count": 65,
   "metadata": {},
   "outputs": [],
   "source": [
    "#display(datos_mar_del_plata.groupby(['geonames_id']).mean())"
   ]
  },
  {
   "cell_type": "code",
   "execution_count": 66,
   "metadata": {},
   "outputs": [],
   "source": [
    "values_3430863 = {\"geonames_id\":3430863.0, \"place_name\":\"Mar del Plata\",\"place_with_parent_names\": \"|Argentina|Buenos Aires Costa Atlántica|Mar de...\",\"lat-lon\" : \"-38.006377, -57.553465\", \"lat\": -38.006377, \"lon\": -57.553465}\n",
    "datos_mar_del_plata_completo = datos_mar_del_plata.fillna(values_3430863)\n",
    "#datos_mar_del_plata_completo.head()"
   ]
  },
  {
   "cell_type": "code",
   "execution_count": 67,
   "metadata": {},
   "outputs": [],
   "source": [
    "#datos_mar_del_plata_completo.isnull().sum()"
   ]
  },
  {
   "cell_type": "code",
   "execution_count": 68,
   "metadata": {},
   "outputs": [
    {
     "data": {
      "text/plain": [
       "place_name                    23\n",
       "place_with_parent_names        0\n",
       "geonames_id                18717\n",
       "lat-lon                    40589\n",
       "lat                        40589\n",
       "lon                        40589\n",
       "dtype: int64"
      ]
     },
     "execution_count": 68,
     "metadata": {},
     "output_type": "execute_result"
    }
   ],
   "source": [
    "geo_nulos = geo_nulos.fillna(datos_mar_del_plata_completo)\n",
    "geo_nulos.isnull().sum()"
   ]
  },
  {
   "cell_type": "markdown",
   "metadata": {},
   "source": [
    "### LIMPIEZA TIGRE"
   ]
  },
  {
   "cell_type": "code",
   "execution_count": 69,
   "metadata": {},
   "outputs": [],
   "source": [
    "mask_tigre = geo_nulos['place_name']== \"Tigre\"\n",
    "datos_tigre = geo_nulos.loc[mask_tigre, :]\n",
    "#datos_tigre.sort_values(by=\"geonames_id\").sample(10)"
   ]
  },
  {
   "cell_type": "code",
   "execution_count": 70,
   "metadata": {},
   "outputs": [],
   "source": [
    "#datos_tigre.isnull().sum()"
   ]
  },
  {
   "cell_type": "code",
   "execution_count": 71,
   "metadata": {},
   "outputs": [],
   "source": [
    "#display(datos_tigre.groupby(['geonames_id']).mean())"
   ]
  },
  {
   "cell_type": "code",
   "execution_count": 72,
   "metadata": {},
   "outputs": [],
   "source": [
    "values_3427753 = {\"geonames_id\":3427753.0, \"place_name\":\"Tigre\",\"place_with_parent_names\": \"|Argentina|Bs.As. G.B.A. Zona Norte|Tigre|\",\"lat-lon\" : \"-34.408622, -58.636493\", \"lat\": -34.408622, \"lon\": -58.636493}\n",
    "datos_tigre_completo = datos_tigre.fillna(values_3427753)\n",
    "#datos_tigre_completo.head()"
   ]
  },
  {
   "cell_type": "code",
   "execution_count": 73,
   "metadata": {},
   "outputs": [],
   "source": [
    "#datos_tigre_completo.isnull().sum()"
   ]
  },
  {
   "cell_type": "code",
   "execution_count": 74,
   "metadata": {},
   "outputs": [
    {
     "data": {
      "text/plain": [
       "place_name                    23\n",
       "place_with_parent_names        0\n",
       "geonames_id                17752\n",
       "lat-lon                    38801\n",
       "lat                        38801\n",
       "lon                        38801\n",
       "dtype: int64"
      ]
     },
     "execution_count": 74,
     "metadata": {},
     "output_type": "execute_result"
    }
   ],
   "source": [
    "geo_nulos = geo_nulos.fillna(datos_tigre_completo)\n",
    "geo_nulos.isnull().sum()"
   ]
  },
  {
   "cell_type": "code",
   "execution_count": 75,
   "metadata": {},
   "outputs": [
    {
     "data": {
      "text/html": [
       "<div>\n",
       "<style scoped>\n",
       "    .dataframe tbody tr th:only-of-type {\n",
       "        vertical-align: middle;\n",
       "    }\n",
       "\n",
       "    .dataframe tbody tr th {\n",
       "        vertical-align: top;\n",
       "    }\n",
       "\n",
       "    .dataframe thead th {\n",
       "        text-align: right;\n",
       "    }\n",
       "</style>\n",
       "<table border=\"1\" class=\"dataframe\">\n",
       "  <thead>\n",
       "    <tr style=\"text-align: right;\">\n",
       "      <th></th>\n",
       "      <th>place_name</th>\n",
       "      <th>place_with_parent_names</th>\n",
       "      <th>geonames_id</th>\n",
       "      <th>lat-lon</th>\n",
       "      <th>lat</th>\n",
       "      <th>lon</th>\n",
       "    </tr>\n",
       "  </thead>\n",
       "  <tbody>\n",
       "    <tr>\n",
       "      <th>6489</th>\n",
       "      <td>Tigre</td>\n",
       "      <td>|Argentina|Bs.As. G.B.A. Zona Norte|Tigre||</td>\n",
       "      <td>3427753.0</td>\n",
       "      <td>-34.4008968545,-58.63809847</td>\n",
       "      <td>-34.400897</td>\n",
       "      <td>-58.638098</td>\n",
       "    </tr>\n",
       "    <tr>\n",
       "      <th>10201</th>\n",
       "      <td>Tigre</td>\n",
       "      <td>|Argentina|Bs.As. G.B.A. Zona Norte|Tigre||</td>\n",
       "      <td>3427753.0</td>\n",
       "      <td>-34.400704,-58.638067</td>\n",
       "      <td>-34.400704</td>\n",
       "      <td>-58.638067</td>\n",
       "    </tr>\n",
       "    <tr>\n",
       "      <th>11451</th>\n",
       "      <td>Tigre</td>\n",
       "      <td>|Argentina|Bs.As. G.B.A. Zona Norte|Tigre||</td>\n",
       "      <td>3427753.0</td>\n",
       "      <td>-34.4026880384,-58.6262613379</td>\n",
       "      <td>-34.402688</td>\n",
       "      <td>-58.626261</td>\n",
       "    </tr>\n",
       "    <tr>\n",
       "      <th>14839</th>\n",
       "      <td>Tigre</td>\n",
       "      <td>|Argentina|Bs.As. G.B.A. Zona Norte|Tigre||</td>\n",
       "      <td>3427753.0</td>\n",
       "      <td>-34.4007994779,-58.6381735719</td>\n",
       "      <td>-34.400799</td>\n",
       "      <td>-58.638174</td>\n",
       "    </tr>\n",
       "    <tr>\n",
       "      <th>18622</th>\n",
       "      <td>Tigre</td>\n",
       "      <td>|Argentina|Bs.As. G.B.A. Zona Norte|Tigre||</td>\n",
       "      <td>3427753.0</td>\n",
       "      <td>-34.4032781195,-58.6263503945</td>\n",
       "      <td>-34.403278</td>\n",
       "      <td>-58.626350</td>\n",
       "    </tr>\n",
       "  </tbody>\n",
       "</table>\n",
       "</div>"
      ],
      "text/plain": [
       "      place_name                      place_with_parent_names  geonames_id  \\\n",
       "6489       Tigre  |Argentina|Bs.As. G.B.A. Zona Norte|Tigre||    3427753.0   \n",
       "10201      Tigre  |Argentina|Bs.As. G.B.A. Zona Norte|Tigre||    3427753.0   \n",
       "11451      Tigre  |Argentina|Bs.As. G.B.A. Zona Norte|Tigre||    3427753.0   \n",
       "14839      Tigre  |Argentina|Bs.As. G.B.A. Zona Norte|Tigre||    3427753.0   \n",
       "18622      Tigre  |Argentina|Bs.As. G.B.A. Zona Norte|Tigre||    3427753.0   \n",
       "\n",
       "                             lat-lon        lat        lon  \n",
       "6489     -34.4008968545,-58.63809847 -34.400897 -58.638098  \n",
       "10201          -34.400704,-58.638067 -34.400704 -58.638067  \n",
       "11451  -34.4026880384,-58.6262613379 -34.402688 -58.626261  \n",
       "14839  -34.4007994779,-58.6381735719 -34.400799 -58.638174  \n",
       "18622  -34.4032781195,-58.6263503945 -34.403278 -58.626350  "
      ]
     },
     "execution_count": 75,
     "metadata": {},
     "output_type": "execute_result"
    }
   ],
   "source": [
    "mask_tigre2 = geo_nulos['place_with_parent_names'] == \"|Argentina|Bs.As. G.B.A. Zona Norte|Tigre||\"\n",
    "datos_tigre2 = geo_nulos.loc[mask_tigre2, :]\n",
    "datos_tigre_completo2 = datos_tigre2.fillna(values_3427753)\n",
    "datos_tigre_completo2.head()"
   ]
  },
  {
   "cell_type": "code",
   "execution_count": 76,
   "metadata": {},
   "outputs": [
    {
     "data": {
      "text/plain": [
       "place_name                     0\n",
       "place_with_parent_names        0\n",
       "geonames_id                17729\n",
       "lat-lon                    38801\n",
       "lat                        38801\n",
       "lon                        38801\n",
       "dtype: int64"
      ]
     },
     "execution_count": 76,
     "metadata": {},
     "output_type": "execute_result"
    }
   ],
   "source": [
    "geo_nulos = geo_nulos.fillna(datos_tigre_completo2)\n",
    "geo_nulos.isnull().sum()"
   ]
  },
  {
   "cell_type": "markdown",
   "metadata": {},
   "source": [
    "### LIMPIEZA NORDELTA"
   ]
  },
  {
   "cell_type": "code",
   "execution_count": 77,
   "metadata": {},
   "outputs": [],
   "source": [
    "mask_nordelta = geo_nulos['place_name']== \"Nordelta\"\n",
    "datos_nordelta = geo_nulos.loc[mask_nordelta, :]\n",
    "#datos_nordelta.sort_values(by=\"geonames_id\").sample(10)"
   ]
  },
  {
   "cell_type": "code",
   "execution_count": 78,
   "metadata": {},
   "outputs": [],
   "source": [
    "#datos_nordelta.isnull().sum()"
   ]
  },
  {
   "cell_type": "code",
   "execution_count": 79,
   "metadata": {},
   "outputs": [],
   "source": [
    "#datos_nordelta.mean()"
   ]
  },
  {
   "cell_type": "code",
   "execution_count": 80,
   "metadata": {},
   "outputs": [],
   "source": [
    "values_3427753_Nord = {\"geonames_id\":3427753.0, \"place_name\":\"Nordelta\",\"place_with_parent_names\": \"|Argentina|Bs.As. G.B.A. Zona Norte|Tigre|Nord...\",\"lat-lon\" : \"-34.410920, -58.644708\", \"lat\": -34.410920, \"lon\": -58.644708}\n",
    "datos_nordelta_completo = datos_nordelta.fillna(values_3427753_Nord)\n",
    "#datos_nordelta_completo.head()"
   ]
  },
  {
   "cell_type": "code",
   "execution_count": 81,
   "metadata": {},
   "outputs": [],
   "source": [
    "#datos_nordelta_completo.isnull().sum()"
   ]
  },
  {
   "cell_type": "code",
   "execution_count": 82,
   "metadata": {},
   "outputs": [
    {
     "data": {
      "text/plain": [
       "place_name                     0\n",
       "place_with_parent_names        0\n",
       "geonames_id                14414\n",
       "lat-lon                    37050\n",
       "lat                        37050\n",
       "lon                        37050\n",
       "dtype: int64"
      ]
     },
     "execution_count": 82,
     "metadata": {},
     "output_type": "execute_result"
    }
   ],
   "source": [
    "geo_nulos = geo_nulos.fillna(datos_nordelta_completo)\n",
    "geo_nulos.isnull().sum()"
   ]
  },
  {
   "cell_type": "markdown",
   "metadata": {},
   "source": [
    "### LIMPIEZA BELGRANO"
   ]
  },
  {
   "cell_type": "code",
   "execution_count": 83,
   "metadata": {},
   "outputs": [],
   "source": [
    "mask_belgrano = geo_nulos['place_name']== \"Belgrano\"\n",
    "datos_belgrano = geo_nulos.loc[mask_belgrano, :]\n",
    "#datos_belgrano.sort_values(by=\"geonames_id\").sample(10)"
   ]
  },
  {
   "cell_type": "code",
   "execution_count": 84,
   "metadata": {},
   "outputs": [],
   "source": [
    "#datos_belgrano.isnull().sum()"
   ]
  },
  {
   "cell_type": "code",
   "execution_count": 85,
   "metadata": {},
   "outputs": [],
   "source": [
    "#display(datos_belgrano.groupby(['geonames_id']).mean())"
   ]
  },
  {
   "cell_type": "code",
   "execution_count": 86,
   "metadata": {},
   "outputs": [],
   "source": [
    "values_3436077 = {\"geonames_id\":3436077.0, \"place_name\":\"Belgrano\",\"place_with_parent_names\": \"|Argentina|Capital Federal|Belgrano|\",\"lat-lon\" : \"-34.563541, -58.453904\", \"lat\": -34.563541, \"lon\": -58.453904}\n",
    "datos_belgrano_completo = datos_belgrano.fillna(values_3436077)\n",
    "#datos_belgrano_completo.head()"
   ]
  },
  {
   "cell_type": "code",
   "execution_count": 87,
   "metadata": {},
   "outputs": [],
   "source": [
    "#datos_belgrano_completo.isnull().sum()"
   ]
  },
  {
   "cell_type": "code",
   "execution_count": 88,
   "metadata": {},
   "outputs": [
    {
     "data": {
      "text/plain": [
       "place_name                     0\n",
       "place_with_parent_names        0\n",
       "geonames_id                14414\n",
       "lat-lon                    36031\n",
       "lat                        36031\n",
       "lon                        36031\n",
       "dtype: int64"
      ]
     },
     "execution_count": 88,
     "metadata": {},
     "output_type": "execute_result"
    }
   ],
   "source": [
    "geo_nulos = geo_nulos.fillna(datos_belgrano_completo)\n",
    "geo_nulos.isnull().sum()"
   ]
  },
  {
   "cell_type": "markdown",
   "metadata": {},
   "source": [
    "### LIMPIEZA PALERMO"
   ]
  },
  {
   "cell_type": "code",
   "execution_count": 89,
   "metadata": {},
   "outputs": [],
   "source": [
    "mask_palermo = geo_nulos['place_name']== \"Palermo\"\n",
    "datos_palermo = geo_nulos.loc[mask_palermo, :]\n",
    "#datos_palermo.sort_values(by=\"geonames_id\").sample(10)"
   ]
  },
  {
   "cell_type": "code",
   "execution_count": 90,
   "metadata": {},
   "outputs": [],
   "source": [
    "#datos_palermo.isnull().sum()"
   ]
  },
  {
   "cell_type": "code",
   "execution_count": 91,
   "metadata": {},
   "outputs": [],
   "source": [
    "#display(datos_palermo.groupby(['geonames_id']).mean())"
   ]
  },
  {
   "cell_type": "code",
   "execution_count": 92,
   "metadata": {},
   "outputs": [],
   "source": [
    "values_3430234 = {\"geonames_id\":3430234.0, \"place_name\":\"Palermo\",\"place_with_parent_names\": \"|Argentina|Capital Federal|Palermo|\",\"lat-lon\" : \"-34.583105, -58.424693\", \"lat\": -34.583105, \"lon\": -58.424693}\n",
    "datos_palermo_completo = datos_palermo.fillna(values_3430234)\n",
    "#datos_palermo_completo.head()"
   ]
  },
  {
   "cell_type": "code",
   "execution_count": 93,
   "metadata": {},
   "outputs": [],
   "source": [
    "#datos_palermo_completo.isnull().sum()"
   ]
  },
  {
   "cell_type": "code",
   "execution_count": 94,
   "metadata": {},
   "outputs": [
    {
     "data": {
      "text/plain": [
       "place_name                     0\n",
       "place_with_parent_names        0\n",
       "geonames_id                14414\n",
       "lat-lon                    35232\n",
       "lat                        35232\n",
       "lon                        35232\n",
       "dtype: int64"
      ]
     },
     "execution_count": 94,
     "metadata": {},
     "output_type": "execute_result"
    }
   ],
   "source": [
    "geo_nulos = geo_nulos.fillna(datos_palermo_completo)\n",
    "geo_nulos.isnull().sum()"
   ]
  },
  {
   "cell_type": "markdown",
   "metadata": {},
   "source": [
    "### LIMPIEZA LA PLATA"
   ]
  },
  {
   "cell_type": "code",
   "execution_count": 95,
   "metadata": {},
   "outputs": [],
   "source": [
    "mask_la_plata = geo_nulos['place_name']== \"La Plata\"\n",
    "datos_la_plata = geo_nulos.loc[mask_la_plata, :]\n",
    "#datos_la_plata.sort_values(by=\"geonames_id\").sample(10)"
   ]
  },
  {
   "cell_type": "code",
   "execution_count": 96,
   "metadata": {},
   "outputs": [],
   "source": [
    "#datos_la_plata.isnull().sum()"
   ]
  },
  {
   "cell_type": "code",
   "execution_count": 97,
   "metadata": {},
   "outputs": [],
   "source": [
    "#display(datos_la_plata.groupby(['geonames_id']).mean())"
   ]
  },
  {
   "cell_type": "code",
   "execution_count": 98,
   "metadata": {},
   "outputs": [],
   "source": [
    "values_3432039 = {\"geonames_id\":3432039.0, \"place_name\":\"La Plata\",\"place_with_parent_names\": \"|Argentina|Bs.As. G.B.A. Zona Sur|La Plata|\",\"lat-lon\" : \"-34.924338, -57.966073\", \"lat\": -34.924338, \"lon\": -57.966073}\n",
    "datos_la_plata_completo = datos_la_plata.fillna(values_3432039)\n",
    "#datos_la_plata_completo.head()"
   ]
  },
  {
   "cell_type": "code",
   "execution_count": 99,
   "metadata": {},
   "outputs": [],
   "source": [
    "#datos_la_plata_completo.isnull().sum()"
   ]
  },
  {
   "cell_type": "code",
   "execution_count": 100,
   "metadata": {},
   "outputs": [
    {
     "data": {
      "text/plain": [
       "place_name                     0\n",
       "place_with_parent_names        0\n",
       "geonames_id                14414\n",
       "lat-lon                    33763\n",
       "lat                        33763\n",
       "lon                        33763\n",
       "dtype: int64"
      ]
     },
     "execution_count": 100,
     "metadata": {},
     "output_type": "execute_result"
    }
   ],
   "source": [
    "geo_nulos = geo_nulos.fillna(datos_la_plata_completo)\n",
    "geo_nulos.isnull().sum()"
   ]
  },
  {
   "cell_type": "markdown",
   "metadata": {},
   "source": [
    "### LIMPIEZA CABALLITO"
   ]
  },
  {
   "cell_type": "code",
   "execution_count": 101,
   "metadata": {},
   "outputs": [],
   "source": [
    "mask_caballito = geo_nulos['place_name']== \"Caballito\"\n",
    "datos_caballito = geo_nulos.loc[mask_caballito, :]\n",
    "#datos_caballito.sort_values(by=\"geonames_id\").sample(10)"
   ]
  },
  {
   "cell_type": "code",
   "execution_count": 102,
   "metadata": {},
   "outputs": [],
   "source": [
    "#datos_caballito.isnull().sum()"
   ]
  },
  {
   "cell_type": "code",
   "execution_count": 103,
   "metadata": {},
   "outputs": [],
   "source": [
    "#display(datos_caballito.groupby(['geonames_id']).mean())"
   ]
  },
  {
   "cell_type": "code",
   "execution_count": 104,
   "metadata": {},
   "outputs": [],
   "source": [
    "values_3435874 = {\"geonames_id\":3435874.0, \"place_name\":\"Caballito\",\"place_with_parent_names\": \"|Argentina|Capital Federal|Caballito|\",\"lat-lon\" : \"-34.618748, -58.442827\", \"lat\": -34.618748, \"lon\": -58.442827}\n",
    "datos_caballito_completo = datos_caballito.fillna(values_3435874)\n",
    "#datos_caballito_completo.head()"
   ]
  },
  {
   "cell_type": "code",
   "execution_count": 105,
   "metadata": {},
   "outputs": [],
   "source": [
    "#datos_caballito_completo.isnull().sum()"
   ]
  },
  {
   "cell_type": "code",
   "execution_count": 106,
   "metadata": {},
   "outputs": [
    {
     "data": {
      "text/plain": [
       "place_name                     0\n",
       "place_with_parent_names        0\n",
       "geonames_id                14414\n",
       "lat-lon                    33317\n",
       "lat                        33317\n",
       "lon                        33317\n",
       "dtype: int64"
      ]
     },
     "execution_count": 106,
     "metadata": {},
     "output_type": "execute_result"
    }
   ],
   "source": [
    "geo_nulos = geo_nulos.fillna(datos_caballito_completo)\n",
    "geo_nulos.isnull().sum()"
   ]
  },
  {
   "cell_type": "markdown",
   "metadata": {},
   "source": [
    "### LIMPIEZA PILAR"
   ]
  },
  {
   "cell_type": "code",
   "execution_count": 107,
   "metadata": {},
   "outputs": [],
   "source": [
    "mask_pilar = geo_nulos['place_name']== \"Pilar\"\n",
    "datos_pilar = geo_nulos.loc[mask_pilar, :]\n",
    "#datos_pilar.sort_values(by=\"geonames_id\").sample(10)"
   ]
  },
  {
   "cell_type": "code",
   "execution_count": 108,
   "metadata": {},
   "outputs": [],
   "source": [
    "#datos_pilar.isnull().sum()"
   ]
  },
  {
   "cell_type": "code",
   "execution_count": 109,
   "metadata": {},
   "outputs": [],
   "source": [
    "#display(datos_pilar.groupby(['geonames_id']).mean())"
   ]
  },
  {
   "cell_type": "code",
   "execution_count": 110,
   "metadata": {},
   "outputs": [],
   "source": [
    "#display(datos_pilar.groupby(['geonames_id']).count())"
   ]
  },
  {
   "cell_type": "code",
   "execution_count": 111,
   "metadata": {},
   "outputs": [],
   "source": [
    "values_3429979 = {\"geonames_id\":3429979.0, \"place_name\":\"Pilar\",\"place_with_parent_names\": \"|Argentina|Bs.As. G.B.A. Zona Norte|Pilar|\",\"lat-lon\" : \"-34.448529, -58.868267\", \"lat\": -34.448529, \"lon\": -58.868267}\n",
    "datos_pilar_completo = datos_pilar.fillna(values_3429979)\n",
    "#datos_pilar_completo.head()"
   ]
  },
  {
   "cell_type": "code",
   "execution_count": 112,
   "metadata": {},
   "outputs": [],
   "source": [
    "#datos_pilar_completo.isnull().sum()"
   ]
  },
  {
   "cell_type": "code",
   "execution_count": 113,
   "metadata": {},
   "outputs": [
    {
     "data": {
      "text/plain": [
       "place_name                     0\n",
       "place_with_parent_names        0\n",
       "geonames_id                14046\n",
       "lat-lon                    32059\n",
       "lat                        32059\n",
       "lon                        32059\n",
       "dtype: int64"
      ]
     },
     "execution_count": 113,
     "metadata": {},
     "output_type": "execute_result"
    }
   ],
   "source": [
    "geo_nulos = geo_nulos.fillna(datos_pilar_completo)\n",
    "geo_nulos.isnull().sum()"
   ]
  },
  {
   "cell_type": "markdown",
   "metadata": {},
   "source": [
    "### LIMPIEZA VILLA URQUIZA"
   ]
  },
  {
   "cell_type": "code",
   "execution_count": 114,
   "metadata": {},
   "outputs": [],
   "source": [
    "mask_villa_urquiza = geo_nulos['place_name']== \"Villa Urquiza\"\n",
    "datos_villa_urquiza = geo_nulos.loc[mask_villa_urquiza, :]\n",
    "#datos_villa_urquiza.sort_values(by=\"geonames_id\").sample(10)"
   ]
  },
  {
   "cell_type": "code",
   "execution_count": 115,
   "metadata": {},
   "outputs": [],
   "source": [
    "#datos_villa_urquiza.isnull().sum()"
   ]
  },
  {
   "cell_type": "markdown",
   "metadata": {},
   "source": [
    "<!--     original\tbajado\tsaldo\n",
    "geo: 18717 - 4648 - 14069/\n",
    "lat-lon: 51550 - 19491 - 32059/\n",
    "lat: 51550 - 19491 - 32059/\n",
    "lon: 51550 - 19491 - 32059 -->"
   ]
  },
  {
   "cell_type": "code",
   "execution_count": 116,
   "metadata": {},
   "outputs": [],
   "source": [
    "#display(datos_villa_urquiza.groupby(['geonames_id']).mean())"
   ]
  },
  {
   "cell_type": "code",
   "execution_count": 117,
   "metadata": {},
   "outputs": [],
   "source": [
    "values_3433775 = {\"geonames_id\":3433775.0, \"place_name\":\"Villa Urquiza\",\"place_with_parent_names\": \"|Argentina|Capital Federal|Villa Urquiza|\",\"lat-lon\" : \"-34.573057, -58.483033\", \"lat\": -34.573057, \"lon\": -58.483033}\n",
    "datos_villa_urquiza_completo = datos_villa_urquiza.fillna(values_3429979)\n",
    "#datos_villa_urquiza_completo.head()"
   ]
  },
  {
   "cell_type": "code",
   "execution_count": 118,
   "metadata": {},
   "outputs": [],
   "source": [
    "#datos_villa_urquiza_completo.isnull().sum()"
   ]
  },
  {
   "cell_type": "code",
   "execution_count": 119,
   "metadata": {},
   "outputs": [
    {
     "data": {
      "text/plain": [
       "place_name                     0\n",
       "place_with_parent_names        0\n",
       "geonames_id                14046\n",
       "lat-lon                    31515\n",
       "lat                        31515\n",
       "lon                        31515\n",
       "dtype: int64"
      ]
     },
     "execution_count": 119,
     "metadata": {},
     "output_type": "execute_result"
    }
   ],
   "source": [
    "geo_nulos = geo_nulos.fillna(datos_villa_urquiza_completo)\n",
    "geo_nulos.isnull().sum()"
   ]
  },
  {
   "cell_type": "markdown",
   "metadata": {},
   "source": [
    "### LIMPIEZA OLIVOS"
   ]
  },
  {
   "cell_type": "code",
   "execution_count": 120,
   "metadata": {},
   "outputs": [],
   "source": [
    "mask_olivos = geo_nulos['place_name']== \"Olivos\"\n",
    "datos_olivos = geo_nulos.loc[mask_olivos, :]\n",
    "#datos_olivos.sort_values(by=\"geonames_id\").sample(10)"
   ]
  },
  {
   "cell_type": "code",
   "execution_count": 121,
   "metadata": {},
   "outputs": [],
   "source": [
    "#datos_olivos.isnull().sum()"
   ]
  },
  {
   "cell_type": "code",
   "execution_count": 122,
   "metadata": {},
   "outputs": [],
   "source": [
    "#display(datos_olivos.groupby(['geonames_id']).mean())"
   ]
  },
  {
   "cell_type": "code",
   "execution_count": 123,
   "metadata": {},
   "outputs": [],
   "source": [
    "values_3430310 = {\"geonames_id\":3430310.0, \"place_name\":\"Olivos\",\"place_with_parent_names\": \"|Argentina|Bs.As. G.B.A. Zona Norte|Vicente Ló...\",\"lat-lon\" : \"-34.510486, -58.490124\", \"lat\": -34.510486, \"lon\": -58.490124}\n",
    "datos_olivos_completo = datos_olivos.fillna(values_3429979)\n",
    "#datos_olivos_completo.head()"
   ]
  },
  {
   "cell_type": "code",
   "execution_count": 124,
   "metadata": {},
   "outputs": [],
   "source": [
    "#datos_olivos_completo.isnull().sum()"
   ]
  },
  {
   "cell_type": "code",
   "execution_count": 125,
   "metadata": {},
   "outputs": [
    {
     "data": {
      "text/plain": [
       "place_name                     0\n",
       "place_with_parent_names        0\n",
       "geonames_id                14046\n",
       "lat-lon                    30399\n",
       "lat                        30399\n",
       "lon                        30399\n",
       "dtype: int64"
      ]
     },
     "execution_count": 125,
     "metadata": {},
     "output_type": "execute_result"
    }
   ],
   "source": [
    "geo_nulos = geo_nulos.fillna(datos_olivos_completo)\n",
    "geo_nulos.isnull().sum()"
   ]
  },
  {
   "cell_type": "markdown",
   "metadata": {},
   "source": [
    "### LIMPIEZA RECOLETA"
   ]
  },
  {
   "cell_type": "code",
   "execution_count": 126,
   "metadata": {},
   "outputs": [],
   "source": [
    "mask_recoleta = geo_nulos['place_name']== \"Recoleta\"\n",
    "datos_recoleta = geo_nulos.loc[mask_recoleta, :]\n",
    "#datos_recoleta.sort_values(by=\"geonames_id\").sample(10)"
   ]
  },
  {
   "cell_type": "code",
   "execution_count": 127,
   "metadata": {},
   "outputs": [],
   "source": [
    "#datos_recoleta.isnull().sum()"
   ]
  },
  {
   "cell_type": "code",
   "execution_count": 128,
   "metadata": {},
   "outputs": [],
   "source": [
    "#display(datos_recoleta.groupby(['geonames_id']).mean())"
   ]
  },
  {
   "cell_type": "code",
   "execution_count": 129,
   "metadata": {},
   "outputs": [],
   "source": [
    "values_3429595 = {\"geonames_id\":3429595.0, \"place_name\":\"Recoleta\",\"place_with_parent_names\": \"|Argentina|Capital Federal|Recoleta|\",\"lat-lon\" : \"-34.592, -58.395299\", \"lat\": -34.592, \"lon\": -58.395299}\n",
    "datos_recoleta_completo = datos_recoleta.fillna(values_3429595)\n",
    "#datos_recoleta_completo.head()"
   ]
  },
  {
   "cell_type": "code",
   "execution_count": 130,
   "metadata": {},
   "outputs": [],
   "source": [
    "#datos_recoleta_completo.isnull().sum()"
   ]
  },
  {
   "cell_type": "code",
   "execution_count": 131,
   "metadata": {},
   "outputs": [
    {
     "data": {
      "text/plain": [
       "place_name                     0\n",
       "place_with_parent_names        0\n",
       "geonames_id                14046\n",
       "lat-lon                    30130\n",
       "lat                        30130\n",
       "lon                        30130\n",
       "dtype: int64"
      ]
     },
     "execution_count": 131,
     "metadata": {},
     "output_type": "execute_result"
    }
   ],
   "source": [
    "geo_nulos = geo_nulos.fillna(datos_recoleta_completo)\n",
    "geo_nulos.isnull().sum()"
   ]
  },
  {
   "cell_type": "markdown",
   "metadata": {},
   "source": [
    "### LIMPIEZA LOMAS DE ZAMORA"
   ]
  },
  {
   "cell_type": "code",
   "execution_count": 132,
   "metadata": {},
   "outputs": [],
   "source": [
    "mask_lomas_de_zamora = geo_nulos['place_name']== \"Lomas de Zamora\"\n",
    "datos_lomas_de_zamora = geo_nulos.loc[mask_lomas_de_zamora, :]\n",
    "#datos_lomas_de_zamora.sort_values(by=\"geonames_id\").sample(10)"
   ]
  },
  {
   "cell_type": "code",
   "execution_count": 133,
   "metadata": {},
   "outputs": [],
   "source": [
    "#datos_lomas_de_zamora.isnull().sum()"
   ]
  },
  {
   "cell_type": "code",
   "execution_count": 134,
   "metadata": {},
   "outputs": [],
   "source": [
    "#display(datos_lomas_de_zamora.groupby(['geonames_id']).mean())"
   ]
  },
  {
   "cell_type": "code",
   "execution_count": 135,
   "metadata": {},
   "outputs": [],
   "source": [
    "values_3431270 = {\"geonames_id\":3431270.0, \"place_name\":\"Lomas de Zamora\",\"place_with_parent_names\": \"|Argentina|Bs.As. G.B.A. Zona Sur|Lomas de Zam...\",\"lat-lon\" : \"-34.76043, -58.412512\", \"lat\": -34.76043, \"lon\": -58.412512}\n",
    "datos_lomas_de_zamora_completo = datos_lomas_de_zamora.fillna(values_3431270)\n",
    "#datos_lomas_de_zamora_completo.head()"
   ]
  },
  {
   "cell_type": "code",
   "execution_count": 136,
   "metadata": {},
   "outputs": [],
   "source": [
    "#datos_lomas_de_zamora_completo.isnull().sum()"
   ]
  },
  {
   "cell_type": "code",
   "execution_count": 137,
   "metadata": {},
   "outputs": [
    {
     "data": {
      "text/plain": [
       "place_name                     0\n",
       "place_with_parent_names        0\n",
       "geonames_id                12793\n",
       "lat-lon                    29136\n",
       "lat                        29136\n",
       "lon                        29136\n",
       "dtype: int64"
      ]
     },
     "execution_count": 137,
     "metadata": {},
     "output_type": "execute_result"
    }
   ],
   "source": [
    "geo_nulos = geo_nulos.fillna(datos_lomas_de_zamora_completo)\n",
    "geo_nulos.isnull().sum()"
   ]
  },
  {
   "cell_type": "markdown",
   "metadata": {},
   "source": [
    "### LIMPIEZA FLORES"
   ]
  },
  {
   "cell_type": "code",
   "execution_count": 138,
   "metadata": {},
   "outputs": [],
   "source": [
    "mask_flores = geo_nulos['place_name']== \"Flores\"\n",
    "datos_flores = geo_nulos.loc[mask_flores, :]\n",
    "#datos_flores.sort_values(by=\"geonames_id\").sample(10)"
   ]
  },
  {
   "cell_type": "code",
   "execution_count": 139,
   "metadata": {},
   "outputs": [],
   "source": [
    "#datos_flores.isnull().sum()"
   ]
  },
  {
   "cell_type": "code",
   "execution_count": 140,
   "metadata": {},
   "outputs": [],
   "source": [
    "#display(datos_flores.groupby(['geonames_id']).mean())"
   ]
  },
  {
   "cell_type": "code",
   "execution_count": 141,
   "metadata": {},
   "outputs": [],
   "source": [
    "values_3433918 = {\"geonames_id\":3433918.0, \"place_name\":\"Flores\",\"place_with_parent_names\": \"|Argentina|Capital Federal|Flores|\",\"lat-lon\" : \"-34.628981, -58.46387\", \"lat\": -34.628981, \"lon\": -58.46387}\n",
    "datos_flores_completo = datos_flores.fillna(values_3431270)\n",
    "#datos_flores_completo.head()"
   ]
  },
  {
   "cell_type": "code",
   "execution_count": 142,
   "metadata": {},
   "outputs": [
    {
     "data": {
      "text/plain": [
       "place_name                     0\n",
       "place_with_parent_names        0\n",
       "geonames_id                12793\n",
       "lat-lon                    28981\n",
       "lat                        28981\n",
       "lon                        28981\n",
       "dtype: int64"
      ]
     },
     "execution_count": 142,
     "metadata": {},
     "output_type": "execute_result"
    }
   ],
   "source": [
    "geo_nulos = geo_nulos.fillna(datos_flores_completo)\n",
    "geo_nulos.isnull().sum()"
   ]
  },
  {
   "cell_type": "markdown",
   "metadata": {},
   "source": [
    "### LIMPIEZA ITUZAINGO"
   ]
  },
  {
   "cell_type": "code",
   "execution_count": 143,
   "metadata": {},
   "outputs": [],
   "source": [
    "mask_ituzaingo = geo_nulos['place_name']== \"Ituzaingó\"\n",
    "datos_ituzaingo = geo_nulos.loc[mask_ituzaingo, :]\n",
    "#datos_ituzaingo.sort_values(by=\"geonames_id\").sample(10)"
   ]
  },
  {
   "cell_type": "code",
   "execution_count": 144,
   "metadata": {},
   "outputs": [],
   "source": [
    "#datos_ituzaingo.isnull().sum()"
   ]
  },
  {
   "cell_type": "code",
   "execution_count": 145,
   "metadata": {},
   "outputs": [],
   "source": [
    "#display(datos_ituzaingo.groupby(['geonames_id']).mean())"
   ]
  },
  {
   "cell_type": "code",
   "execution_count": 146,
   "metadata": {},
   "outputs": [],
   "source": [
    "geo_mask_3 = datos_ituzaingo.place_with_parent_names == \"|Argentina|Corrientes|Ituzaingó|\"\n",
    "geo_mask_4 = datos_ituzaingo.place_with_parent_names == \"|Argentina|Bs.As. G.B.A. Zona Oeste|Ituzaingó|\"\n",
    "\n",
    "datos_ituzaingo_3433357 = datos_ituzaingo.loc[geo_mask_3, :]\n",
    "values_3433357 = {\"geonames_id\":3433357.0, \"place_name\":\"Ituzaingó\",\"place_with_parent_names\": \"|Argentina|Corrientes|Ituzaingó|\", \"lat-lon\" : \"-27.573083, -56.705464\", \"lat\": -27.573083, \"lon\": -56.705464}\n",
    "\n",
    "\n",
    "datos_ituzaingo_3433359 = datos_ituzaingo.loc[geo_mask_4, :]\n",
    "values_3860259 = {\"geonames_id\":3860259.0, \"place_name\":\"Ituzaingó\",\"place_with_parent_names\": \"|Argentina|Bs.As. G.B.A. Zona Oeste|Ituzaingó||\",\"lat-lon\" : \"-34.652894, -58.673752\", \"lat\": -34.652894, \"lon\": -58.673752}\n",
    "\n",
    "\n",
    "datos_ituzaingo_33433357 = datos_ituzaingo.fillna(values_3433357)\n",
    "datos_ituzaingo_completo = datos_ituzaingo.fillna(values_3860259)\n",
    "#datos_ituzaingo_completo.head()"
   ]
  },
  {
   "cell_type": "code",
   "execution_count": 147,
   "metadata": {},
   "outputs": [],
   "source": [
    "#datos_ituzaingo_completo.isnull().sum()"
   ]
  },
  {
   "cell_type": "code",
   "execution_count": 148,
   "metadata": {},
   "outputs": [
    {
     "data": {
      "text/plain": [
       "place_name                     0\n",
       "place_with_parent_names        0\n",
       "geonames_id                12793\n",
       "lat-lon                    28182\n",
       "lat                        28182\n",
       "lon                        28182\n",
       "dtype: int64"
      ]
     },
     "execution_count": 148,
     "metadata": {},
     "output_type": "execute_result"
    }
   ],
   "source": [
    "geo_nulos = geo_nulos.fillna(datos_ituzaingo_completo)\n",
    "geo_nulos.isnull().sum()"
   ]
  },
  {
   "cell_type": "markdown",
   "metadata": {},
   "source": [
    "### LIMPIEZA VILLA CRESPO"
   ]
  },
  {
   "cell_type": "code",
   "execution_count": 149,
   "metadata": {},
   "outputs": [],
   "source": [
    "mask_villa_crespo = geo_nulos['place_name']== \"Villa Crespo\"\n",
    "datos_villa_crespo = geo_nulos.loc[mask_villa_crespo, :]\n",
    "#datos_villa_crespo.sort_values(by=\"geonames_id\").sample(10)"
   ]
  },
  {
   "cell_type": "code",
   "execution_count": 150,
   "metadata": {},
   "outputs": [],
   "source": [
    "#datos_villa_crespo.isnull().sum()"
   ]
  },
  {
   "cell_type": "code",
   "execution_count": 151,
   "metadata": {},
   "outputs": [],
   "source": [
    "#display(datos_villa_crespo.groupby(['geonames_id']).mean())"
   ]
  },
  {
   "cell_type": "code",
   "execution_count": 152,
   "metadata": {},
   "outputs": [],
   "source": [
    "values_3427458 = {\"geonames_id\":3427458.0, \"place_name\":\"Villa Crespo\",\"place_with_parent_names\": \"|Argentina|Capital Federal|Villa Crespo|\",\"lat-lon\" : \"-34.597889, -58.439293\", \"lat\": -34.597889, \"lon\": -58.439293}\n",
    "datos_villa_crespo_completo = datos_villa_crespo.fillna(values_3427458)\n",
    "#datos_villa_crespo_completo.head()"
   ]
  },
  {
   "cell_type": "code",
   "execution_count": 153,
   "metadata": {},
   "outputs": [
    {
     "data": {
      "text/plain": [
       "place_name                     0\n",
       "place_with_parent_names        0\n",
       "geonames_id                12793\n",
       "lat-lon                    27792\n",
       "lat                        27792\n",
       "lon                        27792\n",
       "dtype: int64"
      ]
     },
     "execution_count": 153,
     "metadata": {},
     "output_type": "execute_result"
    }
   ],
   "source": [
    "geo_nulos = geo_nulos.fillna(datos_villa_crespo_completo)\n",
    "geo_nulos.isnull().sum()"
   ]
  },
  {
   "cell_type": "markdown",
   "metadata": {},
   "source": [
    "### LIMPIEZA CAPITAL FEDEREAL"
   ]
  },
  {
   "cell_type": "code",
   "execution_count": 154,
   "metadata": {},
   "outputs": [],
   "source": [
    "mask_capital_federal = geo_nulos['place_name']== \"Capital Federal\"\n",
    "datos_capital_federal = geo_nulos.loc[mask_capital_federal, :]\n",
    "#datos_capital_federal.sort_values(by=\"geonames_id\").sample(10)"
   ]
  },
  {
   "cell_type": "code",
   "execution_count": 155,
   "metadata": {},
   "outputs": [],
   "source": [
    "#datos_capital_federal.isnull().sum()"
   ]
  },
  {
   "cell_type": "code",
   "execution_count": 156,
   "metadata": {},
   "outputs": [],
   "source": [
    "#display(datos_capital_federal.groupby(['geonames_id']).mean())"
   ]
  },
  {
   "cell_type": "code",
   "execution_count": 157,
   "metadata": {},
   "outputs": [],
   "source": [
    "values_3433955 = {\"geonames_id\":3433955.0, \"place_name\":\"Capital Federal\",\"place_with_parent_names\": \"|Argentina|Capital Federal|\",\"lat-lon\" : \"-34.626709, -58.435882\", \"lat\": -34.626709, \"lon\": -58.435882}\n",
    "datos_capital_federal_completo = datos_capital_federal.fillna(values_3433955)\n",
    "#datos_capital_federal_completo.head()"
   ]
  },
  {
   "cell_type": "code",
   "execution_count": 158,
   "metadata": {},
   "outputs": [
    {
     "data": {
      "text/plain": [
       "place_name                     0\n",
       "place_with_parent_names        0\n",
       "geonames_id                12793\n",
       "lat-lon                    27097\n",
       "lat                        27097\n",
       "lon                        27097\n",
       "dtype: int64"
      ]
     },
     "execution_count": 158,
     "metadata": {},
     "output_type": "execute_result"
    }
   ],
   "source": [
    "geo_nulos = geo_nulos.fillna(datos_capital_federal_completo)\n",
    "geo_nulos.isnull().sum()"
   ]
  },
  {
   "cell_type": "markdown",
   "metadata": {},
   "source": [
    "### LIMPIEZA SAN TELMO"
   ]
  },
  {
   "cell_type": "code",
   "execution_count": 159,
   "metadata": {},
   "outputs": [],
   "source": [
    "mask_san_telmo = geo_nulos['place_name']== \"San Telmo\"\n",
    "datos_san_telmo = geo_nulos.loc[mask_san_telmo, :]\n",
    "#datos_san_telmo.sort_values(by=\"geonames_id\").sample(10)"
   ]
  },
  {
   "cell_type": "code",
   "execution_count": 160,
   "metadata": {},
   "outputs": [],
   "source": [
    "#datos_san_telmo.isnull().sum()"
   ]
  },
  {
   "cell_type": "code",
   "execution_count": 161,
   "metadata": {},
   "outputs": [],
   "source": [
    "#display(datos_san_telmo.groupby(['geonames_id']).mean())"
   ]
  },
  {
   "cell_type": "code",
   "execution_count": 162,
   "metadata": {},
   "outputs": [],
   "source": [
    "values_3428113 = {\"geonames_id\":3428113.0, \"place_name\":\"San Telmo\",\"place_with_parent_names\": \"|Argentina|Capital Federal|San Telmo|\",\"lat-lon\" : \"-34.620805, -58.376068\", \"lat\": -34.620805, \"lon\": \t-58.376068}\n",
    "datos_san_telmo_completo = datos_san_telmo.fillna(values_3428113)\n",
    "#datos_san_telmo_completo.head()"
   ]
  },
  {
   "cell_type": "code",
   "execution_count": 163,
   "metadata": {},
   "outputs": [
    {
     "data": {
      "text/plain": [
       "place_name                     0\n",
       "place_with_parent_names        0\n",
       "geonames_id                12793\n",
       "lat-lon                    26635\n",
       "lat                        26635\n",
       "lon                        26635\n",
       "dtype: int64"
      ]
     },
     "execution_count": 163,
     "metadata": {},
     "output_type": "execute_result"
    }
   ],
   "source": [
    "geo_nulos = geo_nulos.fillna(datos_san_telmo_completo)\n",
    "geo_nulos.isnull().sum()"
   ]
  },
  {
   "cell_type": "markdown",
   "metadata": {},
   "source": [
    "### LIMPIEZA MORON"
   ]
  },
  {
   "cell_type": "code",
   "execution_count": 164,
   "metadata": {},
   "outputs": [],
   "source": [
    "mask_moron = geo_nulos['place_name']== \"Morón\"\n",
    "datos_moron = geo_nulos.loc[mask_moron, :]\n",
    "#datos_moron.sort_values(by=\"geonames_id\").sample(10)"
   ]
  },
  {
   "cell_type": "code",
   "execution_count": 165,
   "metadata": {},
   "outputs": [],
   "source": [
    "#datos_moron.isnull().sum()"
   ]
  },
  {
   "cell_type": "code",
   "execution_count": 166,
   "metadata": {},
   "outputs": [],
   "source": [
    "#display(datos_moron.groupby(['geonames_id']).mean())"
   ]
  },
  {
   "cell_type": "code",
   "execution_count": 167,
   "metadata": {},
   "outputs": [],
   "source": [
    "values_3430544 = {\"geonames_id\":3430544.0, \"place_name\":\"Morón\",\"place_with_parent_names\": \"|Argentina|Bs.As. G.B.A. Zona Oeste|Morón|\",\"lat-lon\" : \"-34.654915, -58.62302\", \"lat\": -34.654915, \"lon\": -58.62302}\n",
    "datos_moron_completo = datos_moron.fillna(values_3430544)\n",
    "#datos_moron_completo.head()"
   ]
  },
  {
   "cell_type": "code",
   "execution_count": 168,
   "metadata": {},
   "outputs": [
    {
     "data": {
      "text/plain": [
       "place_name                     0\n",
       "place_with_parent_names        0\n",
       "geonames_id                12793\n",
       "lat-lon                    25944\n",
       "lat                        25944\n",
       "lon                        25944\n",
       "dtype: int64"
      ]
     },
     "execution_count": 168,
     "metadata": {},
     "output_type": "execute_result"
    }
   ],
   "source": [
    "geo_nulos = geo_nulos.fillna(datos_moron_completo)\n",
    "geo_nulos.isnull().sum()"
   ]
  },
  {
   "cell_type": "markdown",
   "metadata": {},
   "source": [
    "### LIMPIEZA ALMAGRO"
   ]
  },
  {
   "cell_type": "code",
   "execution_count": 169,
   "metadata": {},
   "outputs": [],
   "source": [
    "mask_almagro = geo_nulos['place_name']== \"Almagro\"\n",
    "datos_almagro = geo_nulos.loc[mask_almagro, :]\n",
    "#datos_almagro.sort_values(by=\"geonames_id\").sample(10)"
   ]
  },
  {
   "cell_type": "code",
   "execution_count": 170,
   "metadata": {},
   "outputs": [],
   "source": [
    "#datos_almagro.isnull().sum()"
   ]
  },
  {
   "cell_type": "code",
   "execution_count": 171,
   "metadata": {},
   "outputs": [],
   "source": [
    "#display(datos_almagro.groupby(['geonames_id']).mean())"
   ]
  },
  {
   "cell_type": "code",
   "execution_count": 172,
   "metadata": {},
   "outputs": [],
   "source": [
    "values_3436397 = {\"geonames_id\":3436397.0, \"place_name\":\"Almagro\",\"place_with_parent_names\": \"|Argentina|Capital Federal|Almagro|\",\"lat-lon\" : \"-34.608187, -58.421223\", \"lat\": -34.608187, \"lon\": -58.421223}\n",
    "datos_almagro_completo = datos_almagro.fillna(values_3436397)\n",
    "#datos_almagro_completo.head()"
   ]
  },
  {
   "cell_type": "code",
   "execution_count": 173,
   "metadata": {},
   "outputs": [
    {
     "data": {
      "text/plain": [
       "place_name                     0\n",
       "place_with_parent_names        0\n",
       "geonames_id                12793\n",
       "lat-lon                    25741\n",
       "lat                        25741\n",
       "lon                        25741\n",
       "dtype: int64"
      ]
     },
     "execution_count": 173,
     "metadata": {},
     "output_type": "execute_result"
    }
   ],
   "source": [
    "geo_nulos = geo_nulos.fillna(datos_almagro_completo)\n",
    "geo_nulos.isnull().sum()"
   ]
  },
  {
   "cell_type": "markdown",
   "metadata": {},
   "source": [
    "### LIMPIEZA BARRIO NORTE"
   ]
  },
  {
   "cell_type": "code",
   "execution_count": 174,
   "metadata": {},
   "outputs": [],
   "source": [
    "mask_barrio_norte = geo_nulos['place_name']== \"Barrio Norte\"\n",
    "datos_barrio_norte = geo_nulos.loc[mask_barrio_norte, :]\n",
    "#datos_barrio_norte.sort_values(by=\"geonames_id\").sample(10)"
   ]
  },
  {
   "cell_type": "code",
   "execution_count": 175,
   "metadata": {},
   "outputs": [],
   "source": [
    "#datos_barrio_norte.isnull().sum()"
   ]
  },
  {
   "cell_type": "code",
   "execution_count": 176,
   "metadata": {},
   "outputs": [],
   "source": [
    "#display(datos_barrio_norte.groupby(['geonames_id']).mean())"
   ]
  },
  {
   "cell_type": "code",
   "execution_count": 177,
   "metadata": {},
   "outputs": [],
   "source": [
    "values_3436109 = {\"geonames_id\":3436109.0, \"place_name\":\"Barrio Norte\",\"place_with_parent_names\": \"\t|Argentina|Capital Federal|Barrio Norte|\",\"lat-lon\" : \"-34.593104, -58.400381\", \"lat\": -34.593104, \"lon\": -58.400381}\n",
    "datos_barrio_norte_completo = datos_barrio_norte.fillna(values_3436109)\n",
    "#datos_barrio_norte_completo.head()"
   ]
  },
  {
   "cell_type": "code",
   "execution_count": 178,
   "metadata": {},
   "outputs": [
    {
     "data": {
      "text/plain": [
       "place_name                     0\n",
       "place_with_parent_names        0\n",
       "geonames_id                12793\n",
       "lat-lon                    25513\n",
       "lat                        25513\n",
       "lon                        25513\n",
       "dtype: int64"
      ]
     },
     "execution_count": 178,
     "metadata": {},
     "output_type": "execute_result"
    }
   ],
   "source": [
    "geo_nulos = geo_nulos.fillna(datos_barrio_norte_completo)\n",
    "geo_nulos.isnull().sum()"
   ]
  },
  {
   "cell_type": "markdown",
   "metadata": {},
   "source": [
    "### LIMPIEZA RAMOS MEJIA"
   ]
  },
  {
   "cell_type": "code",
   "execution_count": 179,
   "metadata": {},
   "outputs": [],
   "source": [
    "mask_ramos_mejia = geo_nulos['place_name']== \"Ramos Mejía\"\n",
    "datos_ramos_mejia = geo_nulos.loc[mask_ramos_mejia, :]\n",
    "#datos_ramos_mejia.sort_values(by=\"geonames_id\").sample(10)"
   ]
  },
  {
   "cell_type": "code",
   "execution_count": 180,
   "metadata": {},
   "outputs": [],
   "source": [
    "#datos_ramos_mejia.isnull().sum()"
   ]
  },
  {
   "cell_type": "code",
   "execution_count": 181,
   "metadata": {},
   "outputs": [],
   "source": [
    "#display(datos_ramos_mejia.groupby(['geonames_id']).mean())"
   ]
  },
  {
   "cell_type": "code",
   "execution_count": 182,
   "metadata": {},
   "outputs": [],
   "source": [
    "values_3429617 = {\"geonames_id\":3429617.0, \"place_name\":\"Ramos Mejía\",\"place_with_parent_names\": \"|Argentina|Bs.As. G.B.A. Zona Oeste|La Matanza...\",\"lat-lon\" : \"-34.648363, -58.562762\", \"lat\": -34.648363, \"lon\": -58.562762}\n",
    "datos_ramos_mejia_completo = datos_ramos_mejia.fillna(values_3429617)\n",
    "#datos_barrio_norte_completo.head()"
   ]
  },
  {
   "cell_type": "code",
   "execution_count": 183,
   "metadata": {},
   "outputs": [
    {
     "data": {
      "text/plain": [
       "place_name                     0\n",
       "place_with_parent_names        0\n",
       "geonames_id                12793\n",
       "lat-lon                    24850\n",
       "lat                        24850\n",
       "lon                        24850\n",
       "dtype: int64"
      ]
     },
     "execution_count": 183,
     "metadata": {},
     "output_type": "execute_result"
    }
   ],
   "source": [
    "geo_nulos = geo_nulos.fillna(datos_ramos_mejia_completo)\n",
    "geo_nulos.isnull().sum()"
   ]
  },
  {
   "cell_type": "markdown",
   "metadata": {},
   "source": [
    "### LIMPIEZA MARTINEZ"
   ]
  },
  {
   "cell_type": "code",
   "execution_count": 184,
   "metadata": {},
   "outputs": [],
   "source": [
    "mask_martinez = geo_nulos['place_name']== \"Martínez\"\n",
    "datos_martinez = geo_nulos.loc[mask_martinez, :]\n",
    "#datos_martinez.sort_values(by=\"geonames_id\").sample(10)"
   ]
  },
  {
   "cell_type": "code",
   "execution_count": 185,
   "metadata": {},
   "outputs": [],
   "source": [
    "#datos_martinez.isnull().sum()"
   ]
  },
  {
   "cell_type": "code",
   "execution_count": 186,
   "metadata": {},
   "outputs": [],
   "source": [
    "#display(datos_martinez.groupby(['geonames_id']).mean())"
   ]
  },
  {
   "cell_type": "code",
   "execution_count": 187,
   "metadata": {},
   "outputs": [],
   "source": [
    "values_3430813 = {\"geonames_id\":3430813.0, \"place_name\":\"Martínez\",\"place_with_parent_names\": \"|Argentina|Bs.As. G.B.A. Zona Norte|San Isidro...\",\"lat-lon\" : \"-34.492594, -58.506898\", \"lat\": \t-34.492594, \"lon\": -58.506898}\n",
    "datos_martinez_completo = datos_martinez.fillna(values_3430813)\n",
    "#datos_martinez_completo.head()"
   ]
  },
  {
   "cell_type": "code",
   "execution_count": 188,
   "metadata": {},
   "outputs": [
    {
     "data": {
      "text/plain": [
       "place_name                     0\n",
       "place_with_parent_names        0\n",
       "geonames_id                12793\n",
       "lat-lon                    24017\n",
       "lat                        24017\n",
       "lon                        24017\n",
       "dtype: int64"
      ]
     },
     "execution_count": 188,
     "metadata": {},
     "output_type": "execute_result"
    }
   ],
   "source": [
    "geo_nulos = geo_nulos.fillna(datos_martinez_completo)\n",
    "geo_nulos.isnull().sum()"
   ]
  },
  {
   "cell_type": "markdown",
   "metadata": {},
   "source": [
    "### LIMPIEZA LANUS"
   ]
  },
  {
   "cell_type": "code",
   "execution_count": 189,
   "metadata": {},
   "outputs": [],
   "source": [
    "mask_lanus = geo_nulos['place_name']== \"Lanús\"\n",
    "datos_lanus = geo_nulos.loc[mask_lanus, :]\n",
    "#datos_lanus.sort_values(by=\"geonames_id\").sample(10)"
   ]
  },
  {
   "cell_type": "code",
   "execution_count": 190,
   "metadata": {},
   "outputs": [],
   "source": [
    "#datos_lanus.isnull().sum()"
   ]
  },
  {
   "cell_type": "code",
   "execution_count": 191,
   "metadata": {},
   "outputs": [],
   "source": [
    "#display(datos_lanus.groupby(['geonames_id']).mean())"
   ]
  },
  {
   "cell_type": "code",
   "execution_count": 192,
   "metadata": {},
   "outputs": [],
   "source": [
    "values_3432134 = {\"geonames_id\":3432134.0, \"place_name\":\"Lanús\",\"place_with_parent_names\": \"|Argentina|Bs.As. G.B.A. Zona Sur|Lanús|Lanús|\",\"lat-lon\" : \"-34.701389, -58.398743\", \"lat\": -34.701389, \"lon\": -58.398743}\n",
    "datos_lanus_completo = datos_lanus.fillna(values_3432134)\n",
    "#datos_lanus_completo.head()"
   ]
  },
  {
   "cell_type": "code",
   "execution_count": 193,
   "metadata": {},
   "outputs": [
    {
     "data": {
      "text/plain": [
       "place_name                     0\n",
       "place_with_parent_names        0\n",
       "geonames_id                11822\n",
       "lat-lon                    23290\n",
       "lat                        23290\n",
       "lon                        23290\n",
       "dtype: int64"
      ]
     },
     "execution_count": 193,
     "metadata": {},
     "output_type": "execute_result"
    }
   ],
   "source": [
    "geo_nulos = geo_nulos.fillna(datos_lanus_completo)\n",
    "geo_nulos.isnull().sum()"
   ]
  },
  {
   "cell_type": "markdown",
   "metadata": {},
   "source": [
    "### LIMPIEZA ESCOBAR"
   ]
  },
  {
   "cell_type": "code",
   "execution_count": 194,
   "metadata": {},
   "outputs": [],
   "source": [
    "mask_escobar = geo_nulos['place_name']== \"Escobar\"\n",
    "datos_escobar = geo_nulos.loc[mask_escobar, :]\n",
    "#datos_escobar.sort_values(by=\"geonames_id\").sample(10)"
   ]
  },
  {
   "cell_type": "code",
   "execution_count": 195,
   "metadata": {},
   "outputs": [],
   "source": [
    "#datos_escobar.isnull().sum()"
   ]
  },
  {
   "cell_type": "code",
   "execution_count": 196,
   "metadata": {},
   "outputs": [
    {
     "data": {
      "text/html": [
       "<div>\n",
       "<style scoped>\n",
       "    .dataframe tbody tr th:only-of-type {\n",
       "        vertical-align: middle;\n",
       "    }\n",
       "\n",
       "    .dataframe tbody tr th {\n",
       "        vertical-align: top;\n",
       "    }\n",
       "\n",
       "    .dataframe thead th {\n",
       "        text-align: right;\n",
       "    }\n",
       "</style>\n",
       "<table border=\"1\" class=\"dataframe\">\n",
       "  <thead>\n",
       "    <tr style=\"text-align: right;\">\n",
       "      <th></th>\n",
       "      <th>lat</th>\n",
       "      <th>lon</th>\n",
       "    </tr>\n",
       "    <tr>\n",
       "      <th>geonames_id</th>\n",
       "      <th></th>\n",
       "      <th></th>\n",
       "    </tr>\n",
       "  </thead>\n",
       "  <tbody>\n",
       "    <tr>\n",
       "      <th>3434130.0</th>\n",
       "      <td>-34.36929</td>\n",
       "      <td>-58.756345</td>\n",
       "    </tr>\n",
       "  </tbody>\n",
       "</table>\n",
       "</div>"
      ],
      "text/plain": [
       "                  lat        lon\n",
       "geonames_id                     \n",
       "3434130.0   -34.36929 -58.756345"
      ]
     },
     "metadata": {},
     "output_type": "display_data"
    }
   ],
   "source": [
    "display(datos_escobar.groupby(['geonames_id']).mean())"
   ]
  },
  {
   "cell_type": "code",
   "execution_count": 197,
   "metadata": {},
   "outputs": [],
   "source": [
    "values_3434130 = {\"geonames_id\":3434130.0, \"place_name\":\"Escobar\", \"place_with_parent_names\": \"|Argentina|Bs.As. G.B.A. Zona Norte|Escobar|\",\"lat-lon\" : \"-34.36929, -58.756345\", \"lat\": -34.36929, \"lon\": -58.756345}\n",
    "datos_escobar_completo = datos_escobar.fillna(values_3434130)\n",
    "#datos_escobar_completo.head()"
   ]
  },
  {
   "cell_type": "code",
   "execution_count": 198,
   "metadata": {},
   "outputs": [
    {
     "data": {
      "text/plain": [
       "place_name                     0\n",
       "place_with_parent_names        0\n",
       "geonames_id                11822\n",
       "lat-lon                    22541\n",
       "lat                        22541\n",
       "lon                        22541\n",
       "dtype: int64"
      ]
     },
     "execution_count": 198,
     "metadata": {},
     "output_type": "execute_result"
    }
   ],
   "source": [
    "geo_nulos = geo_nulos.fillna(datos_escobar_completo)\n",
    "geo_nulos.isnull().sum()"
   ]
  },
  {
   "cell_type": "markdown",
   "metadata": {},
   "source": [
    "### LIMPIEZA BANFIELD"
   ]
  },
  {
   "cell_type": "code",
   "execution_count": 199,
   "metadata": {},
   "outputs": [],
   "source": [
    "mask_banfield = geo_nulos['place_name']== \"Banfield\"\n",
    "datos_banfield = geo_nulos.loc[mask_banfield, :]\n",
    "#datos_banfield.sort_values(by=\"geonames_id\").sample(10)"
   ]
  },
  {
   "cell_type": "code",
   "execution_count": 200,
   "metadata": {},
   "outputs": [
    {
     "data": {
      "text/plain": [
       "place_name                   0\n",
       "place_with_parent_names      0\n",
       "geonames_id                  0\n",
       "lat-lon                    757\n",
       "lat                        757\n",
       "lon                        757\n",
       "dtype: int64"
      ]
     },
     "execution_count": 200,
     "metadata": {},
     "output_type": "execute_result"
    }
   ],
   "source": [
    "datos_banfield.isnull().sum()"
   ]
  },
  {
   "cell_type": "code",
   "execution_count": 201,
   "metadata": {},
   "outputs": [],
   "source": [
    "#display(datos_banfield.groupby(['geonames_id']).mean())"
   ]
  },
  {
   "cell_type": "code",
   "execution_count": 202,
   "metadata": {},
   "outputs": [],
   "source": [
    "values_3436152 = {\"geonames_id\":3436152.0, \"place_name\":\"Banfield\", \"place_with_parent_names\": \"|Argentina|Bs.As. G.B.A. Zona Sur|Lomas de Zam...\",\"lat-lon\" : \"-34.742923, -58.399492\", \"lat\": -34.742923, \"lon\": -58.399492}\n",
    "datos_banfield_completo = datos_banfield.fillna(values_3436152)#\n",
    "#datos_banfield_completo.head()"
   ]
  },
  {
   "cell_type": "code",
   "execution_count": 203,
   "metadata": {},
   "outputs": [
    {
     "data": {
      "text/plain": [
       "place_name                     0\n",
       "place_with_parent_names        0\n",
       "geonames_id                11822\n",
       "lat-lon                    21784\n",
       "lat                        21784\n",
       "lon                        21784\n",
       "dtype: int64"
      ]
     },
     "execution_count": 203,
     "metadata": {},
     "output_type": "execute_result"
    }
   ],
   "source": [
    "geo_nulos = geo_nulos.fillna(datos_banfield_completo)\n",
    "geo_nulos.isnull().sum()"
   ]
  },
  {
   "cell_type": "markdown",
   "metadata": {},
   "source": [
    "### LIMPIEZA SAN ISIDRO"
   ]
  },
  {
   "cell_type": "code",
   "execution_count": 204,
   "metadata": {},
   "outputs": [],
   "source": [
    "mask_sa_isidro = geo_nulos['place_name']== \"San Isidro\"\n",
    "datos_san_isidro = geo_nulos.loc[mask_sa_isidro, :]\n",
    "#datos_san_isidro.sort_values(by=\"geonames_id\").sample(10)"
   ]
  },
  {
   "cell_type": "code",
   "execution_count": 205,
   "metadata": {},
   "outputs": [],
   "source": [
    "#datos_san_isidro.isnull().sum()"
   ]
  },
  {
   "cell_type": "code",
   "execution_count": 206,
   "metadata": {},
   "outputs": [],
   "source": [
    "#display(datos_san_isidro.groupby(['geonames_id']).mean())"
   ]
  },
  {
   "cell_type": "code",
   "execution_count": 207,
   "metadata": {},
   "outputs": [],
   "source": [
    "values_34289983 = {\"geonames_id\":3428983.0, \"place_name\":\"San Isidro\", \"place_with_parent_names\": \"|Argentina|Bs.As. G.B.A. Zona Norte|San Isidro|\",\"lat-lon\" : \"-34.478067, -58.536362\", \"lat\": -34.478067, \"lon\": -58.536362}\n",
    "datos_san_isidro_completo = datos_san_isidro.fillna(values_34289983)\n",
    "#datos_san_isidro_completo.head()"
   ]
  },
  {
   "cell_type": "code",
   "execution_count": 208,
   "metadata": {},
   "outputs": [
    {
     "data": {
      "text/plain": [
       "place_name                     0\n",
       "place_with_parent_names        0\n",
       "geonames_id                11822\n",
       "lat-lon                    21090\n",
       "lat                        21090\n",
       "lon                        21090\n",
       "dtype: int64"
      ]
     },
     "execution_count": 208,
     "metadata": {},
     "output_type": "execute_result"
    }
   ],
   "source": [
    "geo_nulos = geo_nulos.fillna(datos_san_isidro_completo)\n",
    "geo_nulos.isnull().sum()"
   ]
  },
  {
   "cell_type": "markdown",
   "metadata": {},
   "source": [
    "### LIMPIEZA PINAMAR"
   ]
  },
  {
   "cell_type": "code",
   "execution_count": 209,
   "metadata": {},
   "outputs": [
    {
     "data": {
      "text/html": [
       "<div>\n",
       "<style scoped>\n",
       "    .dataframe tbody tr th:only-of-type {\n",
       "        vertical-align: middle;\n",
       "    }\n",
       "\n",
       "    .dataframe tbody tr th {\n",
       "        vertical-align: top;\n",
       "    }\n",
       "\n",
       "    .dataframe thead th {\n",
       "        text-align: right;\n",
       "    }\n",
       "</style>\n",
       "<table border=\"1\" class=\"dataframe\">\n",
       "  <thead>\n",
       "    <tr style=\"text-align: right;\">\n",
       "      <th></th>\n",
       "      <th>place_name</th>\n",
       "      <th>place_with_parent_names</th>\n",
       "      <th>geonames_id</th>\n",
       "      <th>lat-lon</th>\n",
       "      <th>lat</th>\n",
       "      <th>lon</th>\n",
       "    </tr>\n",
       "  </thead>\n",
       "  <tbody>\n",
       "    <tr>\n",
       "      <th>15358</th>\n",
       "      <td>Pinamar</td>\n",
       "      <td>|Argentina|Buenos Aires Costa Atlántica|Pinamar|</td>\n",
       "      <td>3429971.0</td>\n",
       "      <td>-37.1300000925,-56.8718536153</td>\n",
       "      <td>-37.130000</td>\n",
       "      <td>-56.871854</td>\n",
       "    </tr>\n",
       "    <tr>\n",
       "      <th>69458</th>\n",
       "      <td>Pinamar</td>\n",
       "      <td>|Argentina|Buenos Aires Costa Atlántica|Pinamar|</td>\n",
       "      <td>3429971.0</td>\n",
       "      <td>NaN</td>\n",
       "      <td>NaN</td>\n",
       "      <td>NaN</td>\n",
       "    </tr>\n",
       "    <tr>\n",
       "      <th>8949</th>\n",
       "      <td>Pinamar</td>\n",
       "      <td>|Argentina|Buenos Aires Costa Atlántica|Pinamar|</td>\n",
       "      <td>3429971.0</td>\n",
       "      <td>-37.0865109504,-56.8343848862</td>\n",
       "      <td>-37.086511</td>\n",
       "      <td>-56.834385</td>\n",
       "    </tr>\n",
       "    <tr>\n",
       "      <th>113269</th>\n",
       "      <td>Pinamar</td>\n",
       "      <td>|Argentina|Buenos Aires Costa Atlántica|Pinamar|</td>\n",
       "      <td>3429971.0</td>\n",
       "      <td>-37.1257893563,-56.8652766178</td>\n",
       "      <td>-37.125789</td>\n",
       "      <td>-56.865277</td>\n",
       "    </tr>\n",
       "    <tr>\n",
       "      <th>51945</th>\n",
       "      <td>Pinamar</td>\n",
       "      <td>|Argentina|Buenos Aires Costa Atlántica|Pinamar|</td>\n",
       "      <td>3429971.0</td>\n",
       "      <td>-37.0925871,-56.8374236</td>\n",
       "      <td>-37.092587</td>\n",
       "      <td>-56.837424</td>\n",
       "    </tr>\n",
       "    <tr>\n",
       "      <th>47234</th>\n",
       "      <td>Pinamar</td>\n",
       "      <td>|Argentina|Buenos Aires Costa Atlántica|Pinamar|</td>\n",
       "      <td>3429971.0</td>\n",
       "      <td>-37.1163842,-56.8766677</td>\n",
       "      <td>-37.116384</td>\n",
       "      <td>-56.876668</td>\n",
       "    </tr>\n",
       "    <tr>\n",
       "      <th>52322</th>\n",
       "      <td>Pinamar</td>\n",
       "      <td>|Argentina|Buenos Aires Costa Atlántica|Pinamar|</td>\n",
       "      <td>3429971.0</td>\n",
       "      <td>-37.0818456702,-56.8333454015</td>\n",
       "      <td>-37.081846</td>\n",
       "      <td>-56.833345</td>\n",
       "    </tr>\n",
       "    <tr>\n",
       "      <th>110150</th>\n",
       "      <td>Pinamar</td>\n",
       "      <td>|Argentina|Buenos Aires Costa Atlántica|Pinamar|</td>\n",
       "      <td>3429971.0</td>\n",
       "      <td>-37.1122565,-56.8673072</td>\n",
       "      <td>-37.112257</td>\n",
       "      <td>-56.867307</td>\n",
       "    </tr>\n",
       "    <tr>\n",
       "      <th>23471</th>\n",
       "      <td>Pinamar</td>\n",
       "      <td>|Argentina|Buenos Aires Costa Atlántica|Pinamar|</td>\n",
       "      <td>3429971.0</td>\n",
       "      <td>-37.0762172411,-56.8322679071</td>\n",
       "      <td>-37.076217</td>\n",
       "      <td>-56.832268</td>\n",
       "    </tr>\n",
       "    <tr>\n",
       "      <th>49510</th>\n",
       "      <td>Pinamar</td>\n",
       "      <td>|Argentina|Buenos Aires Costa Atlántica|Pinamar|</td>\n",
       "      <td>3429971.0</td>\n",
       "      <td>NaN</td>\n",
       "      <td>NaN</td>\n",
       "      <td>NaN</td>\n",
       "    </tr>\n",
       "  </tbody>\n",
       "</table>\n",
       "</div>"
      ],
      "text/plain": [
       "       place_name                           place_with_parent_names  \\\n",
       "15358     Pinamar  |Argentina|Buenos Aires Costa Atlántica|Pinamar|   \n",
       "69458     Pinamar  |Argentina|Buenos Aires Costa Atlántica|Pinamar|   \n",
       "8949      Pinamar  |Argentina|Buenos Aires Costa Atlántica|Pinamar|   \n",
       "113269    Pinamar  |Argentina|Buenos Aires Costa Atlántica|Pinamar|   \n",
       "51945     Pinamar  |Argentina|Buenos Aires Costa Atlántica|Pinamar|   \n",
       "47234     Pinamar  |Argentina|Buenos Aires Costa Atlántica|Pinamar|   \n",
       "52322     Pinamar  |Argentina|Buenos Aires Costa Atlántica|Pinamar|   \n",
       "110150    Pinamar  |Argentina|Buenos Aires Costa Atlántica|Pinamar|   \n",
       "23471     Pinamar  |Argentina|Buenos Aires Costa Atlántica|Pinamar|   \n",
       "49510     Pinamar  |Argentina|Buenos Aires Costa Atlántica|Pinamar|   \n",
       "\n",
       "        geonames_id                        lat-lon        lat        lon  \n",
       "15358     3429971.0  -37.1300000925,-56.8718536153 -37.130000 -56.871854  \n",
       "69458     3429971.0                            NaN        NaN        NaN  \n",
       "8949      3429971.0  -37.0865109504,-56.8343848862 -37.086511 -56.834385  \n",
       "113269    3429971.0  -37.1257893563,-56.8652766178 -37.125789 -56.865277  \n",
       "51945     3429971.0        -37.0925871,-56.8374236 -37.092587 -56.837424  \n",
       "47234     3429971.0        -37.1163842,-56.8766677 -37.116384 -56.876668  \n",
       "52322     3429971.0  -37.0818456702,-56.8333454015 -37.081846 -56.833345  \n",
       "110150    3429971.0        -37.1122565,-56.8673072 -37.112257 -56.867307  \n",
       "23471     3429971.0  -37.0762172411,-56.8322679071 -37.076217 -56.832268  \n",
       "49510     3429971.0                            NaN        NaN        NaN  "
      ]
     },
     "execution_count": 209,
     "metadata": {},
     "output_type": "execute_result"
    }
   ],
   "source": [
    "mask_pinarmar = geo_nulos['place_name']== \"Pinamar\"\n",
    "datos_pinamar = geo_nulos.loc[mask_pinarmar, :]\n",
    "datos_pinamar.sort_values(by=\"geonames_id\").sample(10)"
   ]
  },
  {
   "cell_type": "code",
   "execution_count": 210,
   "metadata": {},
   "outputs": [
    {
     "data": {
      "text/plain": [
       "place_name                   0\n",
       "place_with_parent_names      0\n",
       "geonames_id                  0\n",
       "lat-lon                    116\n",
       "lat                        116\n",
       "lon                        116\n",
       "dtype: int64"
      ]
     },
     "execution_count": 210,
     "metadata": {},
     "output_type": "execute_result"
    }
   ],
   "source": [
    "datos_pinamar.isnull().sum()"
   ]
  },
  {
   "cell_type": "code",
   "execution_count": 211,
   "metadata": {},
   "outputs": [
    {
     "data": {
      "text/html": [
       "<div>\n",
       "<style scoped>\n",
       "    .dataframe tbody tr th:only-of-type {\n",
       "        vertical-align: middle;\n",
       "    }\n",
       "\n",
       "    .dataframe tbody tr th {\n",
       "        vertical-align: top;\n",
       "    }\n",
       "\n",
       "    .dataframe thead th {\n",
       "        text-align: right;\n",
       "    }\n",
       "</style>\n",
       "<table border=\"1\" class=\"dataframe\">\n",
       "  <thead>\n",
       "    <tr style=\"text-align: right;\">\n",
       "      <th></th>\n",
       "      <th>lat</th>\n",
       "      <th>lon</th>\n",
       "    </tr>\n",
       "    <tr>\n",
       "      <th>geonames_id</th>\n",
       "      <th></th>\n",
       "      <th></th>\n",
       "    </tr>\n",
       "  </thead>\n",
       "  <tbody>\n",
       "    <tr>\n",
       "      <th>3429971.0</th>\n",
       "      <td>-37.10956</td>\n",
       "      <td>-56.860607</td>\n",
       "    </tr>\n",
       "  </tbody>\n",
       "</table>\n",
       "</div>"
      ],
      "text/plain": [
       "                  lat        lon\n",
       "geonames_id                     \n",
       "3429971.0   -37.10956 -56.860607"
      ]
     },
     "metadata": {},
     "output_type": "display_data"
    }
   ],
   "source": [
    "display(datos_pinamar.groupby(['geonames_id']).mean())"
   ]
  },
  {
   "cell_type": "code",
   "execution_count": 212,
   "metadata": {},
   "outputs": [
    {
     "data": {
      "text/html": [
       "<div>\n",
       "<style scoped>\n",
       "    .dataframe tbody tr th:only-of-type {\n",
       "        vertical-align: middle;\n",
       "    }\n",
       "\n",
       "    .dataframe tbody tr th {\n",
       "        vertical-align: top;\n",
       "    }\n",
       "\n",
       "    .dataframe thead th {\n",
       "        text-align: right;\n",
       "    }\n",
       "</style>\n",
       "<table border=\"1\" class=\"dataframe\">\n",
       "  <thead>\n",
       "    <tr style=\"text-align: right;\">\n",
       "      <th></th>\n",
       "      <th>place_name</th>\n",
       "      <th>place_with_parent_names</th>\n",
       "      <th>geonames_id</th>\n",
       "      <th>lat-lon</th>\n",
       "      <th>lat</th>\n",
       "      <th>lon</th>\n",
       "    </tr>\n",
       "  </thead>\n",
       "  <tbody>\n",
       "    <tr>\n",
       "      <th>968</th>\n",
       "      <td>Pinamar</td>\n",
       "      <td>|Argentina|Buenos Aires Costa Atlántica|Pinamar|</td>\n",
       "      <td>3429971.0</td>\n",
       "      <td>-37.1093307,-56.8564926</td>\n",
       "      <td>-37.109331</td>\n",
       "      <td>-56.856493</td>\n",
       "    </tr>\n",
       "    <tr>\n",
       "      <th>120205</th>\n",
       "      <td>Pinamar</td>\n",
       "      <td>|Argentina|Buenos Aires Costa Atlántica|Pinamar|</td>\n",
       "      <td>3429971.0</td>\n",
       "      <td>-37.0991133862,-56.8405399116</td>\n",
       "      <td>-37.099113</td>\n",
       "      <td>-56.840540</td>\n",
       "    </tr>\n",
       "    <tr>\n",
       "      <th>113267</th>\n",
       "      <td>Pinamar</td>\n",
       "      <td>|Argentina|Buenos Aires Costa Atlántica|Pinamar|</td>\n",
       "      <td>3429971.0</td>\n",
       "      <td>-37.1257893563,-56.8652766178</td>\n",
       "      <td>-37.125789</td>\n",
       "      <td>-56.865277</td>\n",
       "    </tr>\n",
       "    <tr>\n",
       "      <th>46951</th>\n",
       "      <td>Pinamar</td>\n",
       "      <td>|Argentina|Buenos Aires Costa Atlántica|Pinamar|</td>\n",
       "      <td>3429971.0</td>\n",
       "      <td>-37.0841918,-56.8374748</td>\n",
       "      <td>-37.084192</td>\n",
       "      <td>-56.837475</td>\n",
       "    </tr>\n",
       "    <tr>\n",
       "      <th>40260</th>\n",
       "      <td>Pinamar</td>\n",
       "      <td>|Argentina|Buenos Aires Costa Atlántica|Pinamar|</td>\n",
       "      <td>3429971.0</td>\n",
       "      <td>-37.0808215463,-56.8267850348</td>\n",
       "      <td>-37.080822</td>\n",
       "      <td>-56.826785</td>\n",
       "    </tr>\n",
       "  </tbody>\n",
       "</table>\n",
       "</div>"
      ],
      "text/plain": [
       "       place_name                           place_with_parent_names  \\\n",
       "968       Pinamar  |Argentina|Buenos Aires Costa Atlántica|Pinamar|   \n",
       "120205    Pinamar  |Argentina|Buenos Aires Costa Atlántica|Pinamar|   \n",
       "113267    Pinamar  |Argentina|Buenos Aires Costa Atlántica|Pinamar|   \n",
       "46951     Pinamar  |Argentina|Buenos Aires Costa Atlántica|Pinamar|   \n",
       "40260     Pinamar  |Argentina|Buenos Aires Costa Atlántica|Pinamar|   \n",
       "\n",
       "        geonames_id                        lat-lon        lat        lon  \n",
       "968       3429971.0        -37.1093307,-56.8564926 -37.109331 -56.856493  \n",
       "120205    3429971.0  -37.0991133862,-56.8405399116 -37.099113 -56.840540  \n",
       "113267    3429971.0  -37.1257893563,-56.8652766178 -37.125789 -56.865277  \n",
       "46951     3429971.0        -37.0841918,-56.8374748 -37.084192 -56.837475  \n",
       "40260     3429971.0  -37.0808215463,-56.8267850348 -37.080822 -56.826785  "
      ]
     },
     "execution_count": 212,
     "metadata": {},
     "output_type": "execute_result"
    }
   ],
   "source": [
    "values_3429971 = {\"geonames_id\":3429971.0, \"place_name\":\"Pinamar\", \"place_with_parent_names\": \"|Argentina|Buenos Aires Costa Atlántica|Pinamar|\",\"lat-lon\" : \"-37.10956\t-56.860607\", \"lat\": -37.10956, \"lon\": -56.860607}\n",
    "datos_pinamar_completo = datos_pinamar.fillna(values_3429971)\n",
    "datos_pinamar_completo.head()"
   ]
  },
  {
   "cell_type": "code",
   "execution_count": 213,
   "metadata": {},
   "outputs": [
    {
     "data": {
      "text/plain": [
       "place_name                     0\n",
       "place_with_parent_names        0\n",
       "geonames_id                11822\n",
       "lat-lon                    20974\n",
       "lat                        20974\n",
       "lon                        20974\n",
       "dtype: int64"
      ]
     },
     "execution_count": 213,
     "metadata": {},
     "output_type": "execute_result"
    }
   ],
   "source": [
    "geo_nulos = geo_nulos.fillna(datos_pinamar_completo)\n",
    "geo_nulos.isnull().sum()"
   ]
  },
  {
   "cell_type": "markdown",
   "metadata": {},
   "source": [
    "### LIMPIEZA BOEDO"
   ]
  },
  {
   "cell_type": "code",
   "execution_count": 214,
   "metadata": {},
   "outputs": [],
   "source": [
    "mask_boedo = geo_nulos['place_name']== \"Boedo\"\n",
    "datos_boedo = geo_nulos.loc[mask_boedo, :]\n",
    "#datos_boedo.sort_values(by=\"geonames_id\").sample(10)"
   ]
  },
  {
   "cell_type": "code",
   "execution_count": 215,
   "metadata": {},
   "outputs": [
    {
     "data": {
      "text/plain": [
       "place_name                   0\n",
       "place_with_parent_names      0\n",
       "geonames_id                  0\n",
       "lat-lon                    548\n",
       "lat                        548\n",
       "lon                        548\n",
       "dtype: int64"
      ]
     },
     "execution_count": 215,
     "metadata": {},
     "output_type": "execute_result"
    }
   ],
   "source": [
    "datos_boedo.isnull().sum()"
   ]
  },
  {
   "cell_type": "code",
   "execution_count": 216,
   "metadata": {},
   "outputs": [
    {
     "data": {
      "text/html": [
       "<div>\n",
       "<style scoped>\n",
       "    .dataframe tbody tr th:only-of-type {\n",
       "        vertical-align: middle;\n",
       "    }\n",
       "\n",
       "    .dataframe tbody tr th {\n",
       "        vertical-align: top;\n",
       "    }\n",
       "\n",
       "    .dataframe thead th {\n",
       "        text-align: right;\n",
       "    }\n",
       "</style>\n",
       "<table border=\"1\" class=\"dataframe\">\n",
       "  <thead>\n",
       "    <tr style=\"text-align: right;\">\n",
       "      <th></th>\n",
       "      <th>lat</th>\n",
       "      <th>lon</th>\n",
       "    </tr>\n",
       "    <tr>\n",
       "      <th>geonames_id</th>\n",
       "      <th></th>\n",
       "      <th></th>\n",
       "    </tr>\n",
       "  </thead>\n",
       "  <tbody>\n",
       "    <tr>\n",
       "      <th>3436003.0</th>\n",
       "      <td>-34.625496</td>\n",
       "      <td>-58.417307</td>\n",
       "    </tr>\n",
       "  </tbody>\n",
       "</table>\n",
       "</div>"
      ],
      "text/plain": [
       "                   lat        lon\n",
       "geonames_id                      \n",
       "3436003.0   -34.625496 -58.417307"
      ]
     },
     "metadata": {},
     "output_type": "display_data"
    }
   ],
   "source": [
    "display(datos_boedo.groupby(['geonames_id']).mean())"
   ]
  },
  {
   "cell_type": "code",
   "execution_count": 217,
   "metadata": {},
   "outputs": [
    {
     "data": {
      "text/html": [
       "<div>\n",
       "<style scoped>\n",
       "    .dataframe tbody tr th:only-of-type {\n",
       "        vertical-align: middle;\n",
       "    }\n",
       "\n",
       "    .dataframe tbody tr th {\n",
       "        vertical-align: top;\n",
       "    }\n",
       "\n",
       "    .dataframe thead th {\n",
       "        text-align: right;\n",
       "    }\n",
       "</style>\n",
       "<table border=\"1\" class=\"dataframe\">\n",
       "  <thead>\n",
       "    <tr style=\"text-align: right;\">\n",
       "      <th></th>\n",
       "      <th>place_name</th>\n",
       "      <th>place_with_parent_names</th>\n",
       "      <th>geonames_id</th>\n",
       "      <th>lat-lon</th>\n",
       "      <th>lat</th>\n",
       "      <th>lon</th>\n",
       "    </tr>\n",
       "  </thead>\n",
       "  <tbody>\n",
       "    <tr>\n",
       "      <th>25522</th>\n",
       "      <td>Boedo</td>\n",
       "      <td>|Argentina|Capital Federal|Boedo|</td>\n",
       "      <td>3436003.0</td>\n",
       "      <td>-34.625496, -58.417307</td>\n",
       "      <td>-34.625496</td>\n",
       "      <td>-58.417307</td>\n",
       "    </tr>\n",
       "    <tr>\n",
       "      <th>25523</th>\n",
       "      <td>Boedo</td>\n",
       "      <td>|Argentina|Capital Federal|Boedo|</td>\n",
       "      <td>3436003.0</td>\n",
       "      <td>-34.625496, -58.417307</td>\n",
       "      <td>-34.625496</td>\n",
       "      <td>-58.417307</td>\n",
       "    </tr>\n",
       "    <tr>\n",
       "      <th>25536</th>\n",
       "      <td>Boedo</td>\n",
       "      <td>|Argentina|Capital Federal|Boedo|</td>\n",
       "      <td>3436003.0</td>\n",
       "      <td>-34.625496, -58.417307</td>\n",
       "      <td>-34.625496</td>\n",
       "      <td>-58.417307</td>\n",
       "    </tr>\n",
       "    <tr>\n",
       "      <th>105084</th>\n",
       "      <td>Boedo</td>\n",
       "      <td>|Argentina|Capital Federal|Boedo|</td>\n",
       "      <td>3436003.0</td>\n",
       "      <td>-34.6208776148,-58.4164461837</td>\n",
       "      <td>-34.620878</td>\n",
       "      <td>-58.416446</td>\n",
       "    </tr>\n",
       "    <tr>\n",
       "      <th>25535</th>\n",
       "      <td>Boedo</td>\n",
       "      <td>|Argentina|Capital Federal|Boedo|</td>\n",
       "      <td>3436003.0</td>\n",
       "      <td>-34.625496, -58.417307</td>\n",
       "      <td>-34.625496</td>\n",
       "      <td>-58.417307</td>\n",
       "    </tr>\n",
       "  </tbody>\n",
       "</table>\n",
       "</div>"
      ],
      "text/plain": [
       "       place_name            place_with_parent_names  geonames_id  \\\n",
       "25522       Boedo  |Argentina|Capital Federal|Boedo|    3436003.0   \n",
       "25523       Boedo  |Argentina|Capital Federal|Boedo|    3436003.0   \n",
       "25536       Boedo  |Argentina|Capital Federal|Boedo|    3436003.0   \n",
       "105084      Boedo  |Argentina|Capital Federal|Boedo|    3436003.0   \n",
       "25535       Boedo  |Argentina|Capital Federal|Boedo|    3436003.0   \n",
       "\n",
       "                              lat-lon        lat        lon  \n",
       "25522          -34.625496, -58.417307 -34.625496 -58.417307  \n",
       "25523          -34.625496, -58.417307 -34.625496 -58.417307  \n",
       "25536          -34.625496, -58.417307 -34.625496 -58.417307  \n",
       "105084  -34.6208776148,-58.4164461837 -34.620878 -58.416446  \n",
       "25535          -34.625496, -58.417307 -34.625496 -58.417307  "
      ]
     },
     "execution_count": 217,
     "metadata": {},
     "output_type": "execute_result"
    }
   ],
   "source": [
    "values_3436003 = {\"geonames_id\":3436003.0, \"place_name\":\"Boedo\", \"place_with_parent_names\": \"|Argentina|Capital Federal|Boedo|\",\"lat-lon\" : \"-34.625496, -58.417307\", \"lat\": -34.625496, \"lon\": -58.417307}\n",
    "datos_boedo_completo = datos_boedo.fillna(values_3436003)\n",
    "datos_boedo_completo.head()"
   ]
  },
  {
   "cell_type": "code",
   "execution_count": 218,
   "metadata": {},
   "outputs": [
    {
     "data": {
      "text/plain": [
       "place_name                     0\n",
       "place_with_parent_names        0\n",
       "geonames_id                11822\n",
       "lat-lon                    20426\n",
       "lat                        20426\n",
       "lon                        20426\n",
       "dtype: int64"
      ]
     },
     "execution_count": 218,
     "metadata": {},
     "output_type": "execute_result"
    }
   ],
   "source": [
    "geo_nulos = geo_nulos.fillna(datos_boedo_completo)\n",
    "geo_nulos.isnull().sum()"
   ]
  },
  {
   "cell_type": "markdown",
   "metadata": {},
   "source": [
    "### LIMPIEZA NUÑEZ"
   ]
  },
  {
   "cell_type": "code",
   "execution_count": 219,
   "metadata": {},
   "outputs": [],
   "source": [
    "mask_nunez = geo_nulos['place_name']== \"Nuñez\"\n",
    "datos_nunez = geo_nulos.loc[mask_nunez, :]\n",
    "#datos_nunez.sort_values(by=\"geonames_id\").sample(10)"
   ]
  },
  {
   "cell_type": "code",
   "execution_count": 220,
   "metadata": {},
   "outputs": [],
   "source": [
    "#datos_nunez.isnull().sum()"
   ]
  },
  {
   "cell_type": "code",
   "execution_count": 221,
   "metadata": {},
   "outputs": [],
   "source": [
    "#display(datos_nunez.groupby(['geonames_id']).mean())"
   ]
  },
  {
   "cell_type": "code",
   "execution_count": 222,
   "metadata": {},
   "outputs": [],
   "source": [
    "values_3430348 = {\"geonames_id\":3430348.0, \"place_name\":\"Nuñez\", \"place_with_parent_names\": \"|Argentina|Capital Federal|Nuñez|\",\"lat-lon\" : \"-34.549629, -58.463268\", \"lat\": -34.549629, \"lon\": -58.463268}\n",
    "datos_nunez_completo = datos_nunez.fillna(values_3430348)\n",
    "#datos_nunez_completo.head()"
   ]
  },
  {
   "cell_type": "code",
   "execution_count": 223,
   "metadata": {},
   "outputs": [
    {
     "data": {
      "text/plain": [
       "place_name                     0\n",
       "place_with_parent_names        0\n",
       "geonames_id                11822\n",
       "lat-lon                    20195\n",
       "lat                        20195\n",
       "lon                        20195\n",
       "dtype: int64"
      ]
     },
     "execution_count": 223,
     "metadata": {},
     "output_type": "execute_result"
    }
   ],
   "source": [
    "geo_nulos = geo_nulos.fillna(datos_nunez_completo)\n",
    "geo_nulos.isnull().sum()"
   ]
  },
  {
   "cell_type": "markdown",
   "metadata": {},
   "source": [
    "### LIMPIEZA SAN MIGUEL"
   ]
  },
  {
   "cell_type": "code",
   "execution_count": 224,
   "metadata": {},
   "outputs": [],
   "source": [
    "mask_sa_miguel = geo_nulos['place_name']== \"San Miguel\"\n",
    "datos_san_miguel = geo_nulos.loc[mask_sa_miguel, :]#\n",
    "#datos_san_miguel.sort_values(by=\"geonames_id\").sample(10)"
   ]
  },
  {
   "cell_type": "code",
   "execution_count": 225,
   "metadata": {},
   "outputs": [],
   "source": [
    "#datos_san_miguel.isnull().sum()"
   ]
  },
  {
   "cell_type": "code",
   "execution_count": 226,
   "metadata": {},
   "outputs": [
    {
     "data": {
      "text/plain": [
       "geonames_id          NaN\n",
       "lat           -34.542439\n",
       "lon           -58.713420\n",
       "dtype: float64"
      ]
     },
     "metadata": {},
     "output_type": "display_data"
    }
   ],
   "source": [
    "display(datos_san_miguel.mean())"
   ]
  },
  {
   "cell_type": "code",
   "execution_count": 227,
   "metadata": {},
   "outputs": [],
   "source": [
    "geoname = 34645366.0"
   ]
  },
  {
   "cell_type": "code",
   "execution_count": 228,
   "metadata": {},
   "outputs": [],
   "source": [
    "values_34645366 = {\"geonames_id\":34645366.0, \"place_name\":\"San Miguel\", \"place_with_parent_names\": \"|Argentina|Bs.As. G.B.A. Zona Norte|San Miguel|\",\"lat-lon\" : \" -34.542439, -58.713420\", \"lat\":  -34.542439, \"lon\":  -58.713420}\n",
    "datos_san_miguel_completo = datos_san_miguel.fillna(values_3430348)\n",
    "#datos_san_miguel_completo.head()"
   ]
  },
  {
   "cell_type": "code",
   "execution_count": 229,
   "metadata": {},
   "outputs": [
    {
     "data": {
      "text/plain": [
       "place_name                     0\n",
       "place_with_parent_names        0\n",
       "geonames_id                11070\n",
       "lat-lon                    20125\n",
       "lat                        20125\n",
       "lon                        20125\n",
       "dtype: int64"
      ]
     },
     "execution_count": 229,
     "metadata": {},
     "output_type": "execute_result"
    }
   ],
   "source": [
    "geo_nulos = geo_nulos.fillna(datos_san_miguel_completo)\n",
    "geo_nulos.isnull().sum()"
   ]
  },
  {
   "cell_type": "code",
   "execution_count": 230,
   "metadata": {},
   "outputs": [],
   "source": [
    "data[['geonames_id_nuevo', 'lat-lon_nuevo', 'lat_nuevo', 'lon_nuevo']] = geo_nulos[['geonames_id', 'lat-lon', 'lat', 'lon']]"
   ]
  },
  {
   "cell_type": "markdown",
   "metadata": {},
   "source": [
    "<a id=\"section_limpieza_pisos\"></a> \n",
    "\n",
    "### Limpieza de la columna Pisos\n",
    "\n",
    "[volver a Indice](#section_indice)\n"
   ]
  },
  {
   "cell_type": "code",
   "execution_count": 231,
   "metadata": {},
   "outputs": [],
   "source": [
    "#Creación de una nueva columna con la copia de los valores de la columna 'floor'\n",
    "data['floor_copia'] = data['floor']\n",
    "data['property_type_copia'] = data['property_type']\n",
    "#Cambio a minúscula estas dos nuevas columnas creadas\n",
    "data['description_copia'] = data['description'].astype(str).str.lower()\n",
    "data['title_copia']= data['title'].astype(str).str.lower()"
   ]
  },
  {
   "cell_type": "code",
   "execution_count": 232,
   "metadata": {},
   "outputs": [
    {
     "data": {
      "text/plain": [
       "True     113321\n",
       "False      7899\n",
       "Name: floor_copia, dtype: int64"
      ]
     },
     "execution_count": 232,
     "metadata": {},
     "output_type": "execute_result"
    }
   ],
   "source": [
    "#Comprobación de valores null en data 'floor_copia'\n",
    "data['floor_copia'].isnull().value_counts()"
   ]
  },
  {
   "cell_type": "code",
   "execution_count": 233,
   "metadata": {},
   "outputs": [
    {
     "data": {
      "text/plain": [
       "False    121220\n",
       "Name: description_copia, dtype: int64"
      ]
     },
     "execution_count": 233,
     "metadata": {},
     "output_type": "execute_result"
    }
   ],
   "source": [
    "#Comprobación de valores null en data 'description_copia'\n",
    "data['description_copia'].isnull().value_counts()"
   ]
  },
  {
   "cell_type": "code",
   "execution_count": 234,
   "metadata": {},
   "outputs": [
    {
     "data": {
      "text/plain": [
       "False    121220\n",
       "Name: title_copia, dtype: int64"
      ]
     },
     "execution_count": 234,
     "metadata": {},
     "output_type": "execute_result"
    }
   ],
   "source": [
    "#Comprobación de valores null en data 'title_copia'\n",
    "data['title_copia'].isnull().value_counts()"
   ]
  },
  {
   "cell_type": "code",
   "execution_count": 235,
   "metadata": {},
   "outputs": [
    {
     "data": {
      "text/plain": [
       "apartment    71065\n",
       "house        40268\n",
       "PH            5751\n",
       "store         4136\n",
       "Name: property_type_copia, dtype: int64"
      ]
     },
     "execution_count": 235,
     "metadata": {},
     "output_type": "execute_result"
    }
   ],
   "source": [
    "#Categrias en property_type y qué cantidaa hay\n",
    "data['property_type_copia'].value_counts()"
   ]
  },
  {
   "cell_type": "code",
   "execution_count": 236,
   "metadata": {},
   "outputs": [],
   "source": [
    "#agrupo por tipo de propiedad\n",
    "tipo_propiedad = data.groupby('property_type_copia')"
   ]
  },
  {
   "cell_type": "code",
   "execution_count": 237,
   "metadata": {},
   "outputs": [],
   "source": [
    "bins = [0, 1, 2, 3, 4, 5, 6, 7, 8, 9, 15, 20, 30, 40, 50, 1000, 2000]\n",
    "pisos = pd.cut(data.floor_copia, bins, right = False)"
   ]
  },
  {
   "cell_type": "code",
   "execution_count": 238,
   "metadata": {},
   "outputs": [
    {
     "data": {
      "text/plain": [
       "[1, 2)          2080\n",
       "[2, 3)          1542\n",
       "[3, 4)           914\n",
       "[9, 15)          743\n",
       "[4, 5)           658\n",
       "[5, 6)           484\n",
       "[6, 7)           483\n",
       "[7, 8)           355\n",
       "[8, 9)           248\n",
       "[50, 1000)       149\n",
       "[15, 20)         121\n",
       "[20, 30)          51\n",
       "[1000, 2000)      34\n",
       "[30, 40)          20\n",
       "[40, 50)          13\n",
       "[0, 1)             0\n",
       "Name: floor_copia, dtype: int64"
      ]
     },
     "execution_count": 238,
     "metadata": {},
     "output_type": "execute_result"
    }
   ],
   "source": [
    "pisos.value_counts()"
   ]
  },
  {
   "cell_type": "code",
   "execution_count": 239,
   "metadata": {},
   "outputs": [
    {
     "data": {
      "text/html": [
       "<div>\n",
       "<style scoped>\n",
       "    .dataframe tbody tr th:only-of-type {\n",
       "        vertical-align: middle;\n",
       "    }\n",
       "\n",
       "    .dataframe tbody tr th {\n",
       "        vertical-align: top;\n",
       "    }\n",
       "\n",
       "    .dataframe thead th {\n",
       "        text-align: right;\n",
       "    }\n",
       "</style>\n",
       "<table border=\"1\" class=\"dataframe\">\n",
       "  <thead>\n",
       "    <tr style=\"text-align: right;\">\n",
       "      <th>property_type_copia</th>\n",
       "      <th>PH</th>\n",
       "      <th>apartment</th>\n",
       "      <th>house</th>\n",
       "      <th>store</th>\n",
       "    </tr>\n",
       "    <tr>\n",
       "      <th>floor_copia</th>\n",
       "      <th></th>\n",
       "      <th></th>\n",
       "      <th></th>\n",
       "      <th></th>\n",
       "    </tr>\n",
       "  </thead>\n",
       "  <tbody>\n",
       "    <tr>\n",
       "      <th>[0, 1)</th>\n",
       "      <td>0</td>\n",
       "      <td>0</td>\n",
       "      <td>0</td>\n",
       "      <td>0</td>\n",
       "    </tr>\n",
       "    <tr>\n",
       "      <th>[1, 2)</th>\n",
       "      <td>154</td>\n",
       "      <td>1517</td>\n",
       "      <td>385</td>\n",
       "      <td>24</td>\n",
       "    </tr>\n",
       "    <tr>\n",
       "      <th>[2, 3)</th>\n",
       "      <td>146</td>\n",
       "      <td>1096</td>\n",
       "      <td>290</td>\n",
       "      <td>10</td>\n",
       "    </tr>\n",
       "    <tr>\n",
       "      <th>[3, 4)</th>\n",
       "      <td>63</td>\n",
       "      <td>833</td>\n",
       "      <td>18</td>\n",
       "      <td>0</td>\n",
       "    </tr>\n",
       "    <tr>\n",
       "      <th>[4, 5)</th>\n",
       "      <td>31</td>\n",
       "      <td>625</td>\n",
       "      <td>1</td>\n",
       "      <td>1</td>\n",
       "    </tr>\n",
       "    <tr>\n",
       "      <th>[5, 6)</th>\n",
       "      <td>38</td>\n",
       "      <td>444</td>\n",
       "      <td>2</td>\n",
       "      <td>0</td>\n",
       "    </tr>\n",
       "    <tr>\n",
       "      <th>[6, 7)</th>\n",
       "      <td>42</td>\n",
       "      <td>439</td>\n",
       "      <td>2</td>\n",
       "      <td>0</td>\n",
       "    </tr>\n",
       "    <tr>\n",
       "      <th>[7, 8)</th>\n",
       "      <td>31</td>\n",
       "      <td>320</td>\n",
       "      <td>4</td>\n",
       "      <td>0</td>\n",
       "    </tr>\n",
       "    <tr>\n",
       "      <th>[8, 9)</th>\n",
       "      <td>12</td>\n",
       "      <td>232</td>\n",
       "      <td>4</td>\n",
       "      <td>0</td>\n",
       "    </tr>\n",
       "    <tr>\n",
       "      <th>[9, 15)</th>\n",
       "      <td>52</td>\n",
       "      <td>681</td>\n",
       "      <td>8</td>\n",
       "      <td>2</td>\n",
       "    </tr>\n",
       "    <tr>\n",
       "      <th>[15, 20)</th>\n",
       "      <td>4</td>\n",
       "      <td>114</td>\n",
       "      <td>2</td>\n",
       "      <td>1</td>\n",
       "    </tr>\n",
       "    <tr>\n",
       "      <th>[20, 30)</th>\n",
       "      <td>0</td>\n",
       "      <td>43</td>\n",
       "      <td>8</td>\n",
       "      <td>0</td>\n",
       "    </tr>\n",
       "    <tr>\n",
       "      <th>[30, 40)</th>\n",
       "      <td>0</td>\n",
       "      <td>15</td>\n",
       "      <td>4</td>\n",
       "      <td>1</td>\n",
       "    </tr>\n",
       "    <tr>\n",
       "      <th>[40, 50)</th>\n",
       "      <td>0</td>\n",
       "      <td>11</td>\n",
       "      <td>2</td>\n",
       "      <td>0</td>\n",
       "    </tr>\n",
       "    <tr>\n",
       "      <th>[50, 1000)</th>\n",
       "      <td>0</td>\n",
       "      <td>120</td>\n",
       "      <td>28</td>\n",
       "      <td>1</td>\n",
       "    </tr>\n",
       "    <tr>\n",
       "      <th>[1000, 2000)</th>\n",
       "      <td>0</td>\n",
       "      <td>29</td>\n",
       "      <td>5</td>\n",
       "      <td>0</td>\n",
       "    </tr>\n",
       "  </tbody>\n",
       "</table>\n",
       "</div>"
      ],
      "text/plain": [
       "property_type_copia   PH  apartment  house  store\n",
       "floor_copia                                      \n",
       "[0, 1)                 0          0      0      0\n",
       "[1, 2)               154       1517    385     24\n",
       "[2, 3)               146       1096    290     10\n",
       "[3, 4)                63        833     18      0\n",
       "[4, 5)                31        625      1      1\n",
       "[5, 6)                38        444      2      0\n",
       "[6, 7)                42        439      2      0\n",
       "[7, 8)                31        320      4      0\n",
       "[8, 9)                12        232      4      0\n",
       "[9, 15)               52        681      8      2\n",
       "[15, 20)               4        114      2      1\n",
       "[20, 30)               0         43      8      0\n",
       "[30, 40)               0         15      4      1\n",
       "[40, 50)               0         11      2      0\n",
       "[50, 1000)             0        120     28      1\n",
       "[1000, 2000)           0         29      5      0"
      ]
     },
     "execution_count": 239,
     "metadata": {},
     "output_type": "execute_result"
    }
   ],
   "source": [
    "data.pivot_table('floor_copia', index = [pisos], columns= 'property_type_copia', aggfunc={'floor_copia': 'count'})"
   ]
  },
  {
   "cell_type": "code",
   "execution_count": 240,
   "metadata": {},
   "outputs": [],
   "source": [
    "patron = \"\\spiso:[\\s]?(?P<numero>\\d[\\d]?)\"\n",
    "busca = re.compile(patron)\n",
    "\n",
    "description_series_match = data.description_copia.apply(lambda x:  x if x is np.NaN else busca.search(x))\n",
    "\n",
    "mask_description_notnull = description_series_match.notnull()\n",
    "data.loc[mask_description_notnull,'floor_copia'] = description_series_match[mask_description_notnull].apply(lambda x: x.group('numero')).astype(float)"
   ]
  },
  {
   "cell_type": "code",
   "execution_count": 241,
   "metadata": {},
   "outputs": [
    {
     "data": {
      "text/plain": [
       "True     112808\n",
       "False      8412\n",
       "Name: floor_copia, dtype: int64"
      ]
     },
     "execution_count": 241,
     "metadata": {},
     "output_type": "execute_result"
    }
   ],
   "source": [
    "data['floor_copia'].isnull().value_counts()"
   ]
  },
  {
   "cell_type": "code",
   "execution_count": 242,
   "metadata": {},
   "outputs": [
    {
     "data": {
      "text/html": [
       "<div>\n",
       "<style scoped>\n",
       "    .dataframe tbody tr th:only-of-type {\n",
       "        vertical-align: middle;\n",
       "    }\n",
       "\n",
       "    .dataframe tbody tr th {\n",
       "        vertical-align: top;\n",
       "    }\n",
       "\n",
       "    .dataframe thead th {\n",
       "        text-align: right;\n",
       "    }\n",
       "</style>\n",
       "<table border=\"1\" class=\"dataframe\">\n",
       "  <thead>\n",
       "    <tr style=\"text-align: right;\">\n",
       "      <th>property_type_copia</th>\n",
       "      <th>PH</th>\n",
       "      <th>apartment</th>\n",
       "      <th>house</th>\n",
       "      <th>store</th>\n",
       "    </tr>\n",
       "    <tr>\n",
       "      <th>floor_copia</th>\n",
       "      <th></th>\n",
       "      <th></th>\n",
       "      <th></th>\n",
       "      <th></th>\n",
       "    </tr>\n",
       "  </thead>\n",
       "  <tbody>\n",
       "    <tr>\n",
       "      <th>[0, 1)</th>\n",
       "      <td>0</td>\n",
       "      <td>0</td>\n",
       "      <td>0</td>\n",
       "      <td>0</td>\n",
       "    </tr>\n",
       "    <tr>\n",
       "      <th>[1, 2)</th>\n",
       "      <td>158</td>\n",
       "      <td>1538</td>\n",
       "      <td>403</td>\n",
       "      <td>24</td>\n",
       "    </tr>\n",
       "    <tr>\n",
       "      <th>[2, 3)</th>\n",
       "      <td>169</td>\n",
       "      <td>1152</td>\n",
       "      <td>343</td>\n",
       "      <td>12</td>\n",
       "    </tr>\n",
       "    <tr>\n",
       "      <th>[3, 4)</th>\n",
       "      <td>72</td>\n",
       "      <td>865</td>\n",
       "      <td>103</td>\n",
       "      <td>1</td>\n",
       "    </tr>\n",
       "    <tr>\n",
       "      <th>[4, 5)</th>\n",
       "      <td>43</td>\n",
       "      <td>673</td>\n",
       "      <td>35</td>\n",
       "      <td>1</td>\n",
       "    </tr>\n",
       "    <tr>\n",
       "      <th>[5, 6)</th>\n",
       "      <td>38</td>\n",
       "      <td>454</td>\n",
       "      <td>8</td>\n",
       "      <td>0</td>\n",
       "    </tr>\n",
       "    <tr>\n",
       "      <th>[6, 7)</th>\n",
       "      <td>42</td>\n",
       "      <td>448</td>\n",
       "      <td>3</td>\n",
       "      <td>2</td>\n",
       "    </tr>\n",
       "    <tr>\n",
       "      <th>[7, 8)</th>\n",
       "      <td>31</td>\n",
       "      <td>329</td>\n",
       "      <td>4</td>\n",
       "      <td>0</td>\n",
       "    </tr>\n",
       "    <tr>\n",
       "      <th>[8, 9)</th>\n",
       "      <td>12</td>\n",
       "      <td>238</td>\n",
       "      <td>4</td>\n",
       "      <td>2</td>\n",
       "    </tr>\n",
       "    <tr>\n",
       "      <th>[9, 15)</th>\n",
       "      <td>52</td>\n",
       "      <td>693</td>\n",
       "      <td>9</td>\n",
       "      <td>10</td>\n",
       "    </tr>\n",
       "    <tr>\n",
       "      <th>[15, 20)</th>\n",
       "      <td>4</td>\n",
       "      <td>117</td>\n",
       "      <td>1</td>\n",
       "      <td>10</td>\n",
       "    </tr>\n",
       "    <tr>\n",
       "      <th>[20, 30)</th>\n",
       "      <td>1</td>\n",
       "      <td>43</td>\n",
       "      <td>11</td>\n",
       "      <td>3</td>\n",
       "    </tr>\n",
       "    <tr>\n",
       "      <th>[30, 40)</th>\n",
       "      <td>0</td>\n",
       "      <td>15</td>\n",
       "      <td>6</td>\n",
       "      <td>9</td>\n",
       "    </tr>\n",
       "    <tr>\n",
       "      <th>[40, 50)</th>\n",
       "      <td>0</td>\n",
       "      <td>13</td>\n",
       "      <td>2</td>\n",
       "      <td>2</td>\n",
       "    </tr>\n",
       "    <tr>\n",
       "      <th>[50, 1000)</th>\n",
       "      <td>3</td>\n",
       "      <td>127</td>\n",
       "      <td>30</td>\n",
       "      <td>6</td>\n",
       "    </tr>\n",
       "    <tr>\n",
       "      <th>[1000, 2000)</th>\n",
       "      <td>0</td>\n",
       "      <td>29</td>\n",
       "      <td>5</td>\n",
       "      <td>0</td>\n",
       "    </tr>\n",
       "  </tbody>\n",
       "</table>\n",
       "</div>"
      ],
      "text/plain": [
       "property_type_copia   PH  apartment  house  store\n",
       "floor_copia                                      \n",
       "[0, 1)                 0          0      0      0\n",
       "[1, 2)               158       1538    403     24\n",
       "[2, 3)               169       1152    343     12\n",
       "[3, 4)                72        865    103      1\n",
       "[4, 5)                43        673     35      1\n",
       "[5, 6)                38        454      8      0\n",
       "[6, 7)                42        448      3      2\n",
       "[7, 8)                31        329      4      0\n",
       "[8, 9)                12        238      4      2\n",
       "[9, 15)               52        693      9     10\n",
       "[15, 20)               4        117      1     10\n",
       "[20, 30)               1         43     11      3\n",
       "[30, 40)               0         15      6      9\n",
       "[40, 50)               0         13      2      2\n",
       "[50, 1000)             3        127     30      6\n",
       "[1000, 2000)           0         29      5      0"
      ]
     },
     "execution_count": 242,
     "metadata": {},
     "output_type": "execute_result"
    }
   ],
   "source": [
    "bins = [0, 1, 2, 3, 4, 5, 6, 7, 8, 9, 15, 20, 30, 40, 50, 1000, 2000]\n",
    "pisos = pd.cut(data.floor_copia, bins, right = False)\n",
    "data.pivot_table('floor_copia', index = [pisos], columns= 'property_type_copia', aggfunc={'floor_copia': 'count'})"
   ]
  },
  {
   "cell_type": "code",
   "execution_count": 243,
   "metadata": {},
   "outputs": [],
   "source": [
    "patron = \"piso[\\s]?(?P<numero>\\d[\\d]?)\"\n",
    "\n",
    "busca = re.compile(patron)\n",
    "\n",
    "description_series_match = data.description_copia.apply(lambda x:  x if x is np.NaN else busca.search(x))\n",
    "\n",
    "mask_description_notnull = description_series_match.notnull()\n",
    "data.loc[mask_description_notnull,'floor_copia'] = description_series_match[mask_description_notnull].apply(lambda x: x.group('numero')).astype(float)"
   ]
  },
  {
   "cell_type": "code",
   "execution_count": 244,
   "metadata": {},
   "outputs": [
    {
     "data": {
      "text/plain": [
       "True     109015\n",
       "False     12205\n",
       "Name: floor_copia, dtype: int64"
      ]
     },
     "execution_count": 244,
     "metadata": {},
     "output_type": "execute_result"
    }
   ],
   "source": [
    "data['floor_copia'].isnull().value_counts()"
   ]
  },
  {
   "cell_type": "code",
   "execution_count": 245,
   "metadata": {},
   "outputs": [
    {
     "data": {
      "text/html": [
       "<div>\n",
       "<style scoped>\n",
       "    .dataframe tbody tr th:only-of-type {\n",
       "        vertical-align: middle;\n",
       "    }\n",
       "\n",
       "    .dataframe tbody tr th {\n",
       "        vertical-align: top;\n",
       "    }\n",
       "\n",
       "    .dataframe thead th {\n",
       "        text-align: right;\n",
       "    }\n",
       "</style>\n",
       "<table border=\"1\" class=\"dataframe\">\n",
       "  <thead>\n",
       "    <tr style=\"text-align: right;\">\n",
       "      <th>property_type_copia</th>\n",
       "      <th>PH</th>\n",
       "      <th>apartment</th>\n",
       "      <th>house</th>\n",
       "      <th>store</th>\n",
       "    </tr>\n",
       "    <tr>\n",
       "      <th>floor_copia</th>\n",
       "      <th></th>\n",
       "      <th></th>\n",
       "      <th></th>\n",
       "      <th></th>\n",
       "    </tr>\n",
       "  </thead>\n",
       "  <tbody>\n",
       "    <tr>\n",
       "      <th>[0, 1)</th>\n",
       "      <td>0</td>\n",
       "      <td>0</td>\n",
       "      <td>0</td>\n",
       "      <td>0</td>\n",
       "    </tr>\n",
       "    <tr>\n",
       "      <th>[1, 2)</th>\n",
       "      <td>161</td>\n",
       "      <td>1825</td>\n",
       "      <td>430</td>\n",
       "      <td>27</td>\n",
       "    </tr>\n",
       "    <tr>\n",
       "      <th>[2, 3)</th>\n",
       "      <td>177</td>\n",
       "      <td>1407</td>\n",
       "      <td>372</td>\n",
       "      <td>17</td>\n",
       "    </tr>\n",
       "    <tr>\n",
       "      <th>[3, 4)</th>\n",
       "      <td>82</td>\n",
       "      <td>1144</td>\n",
       "      <td>136</td>\n",
       "      <td>4</td>\n",
       "    </tr>\n",
       "    <tr>\n",
       "      <th>[4, 5)</th>\n",
       "      <td>46</td>\n",
       "      <td>948</td>\n",
       "      <td>53</td>\n",
       "      <td>5</td>\n",
       "    </tr>\n",
       "    <tr>\n",
       "      <th>[5, 6)</th>\n",
       "      <td>38</td>\n",
       "      <td>560</td>\n",
       "      <td>10</td>\n",
       "      <td>4</td>\n",
       "    </tr>\n",
       "    <tr>\n",
       "      <th>[6, 7)</th>\n",
       "      <td>42</td>\n",
       "      <td>678</td>\n",
       "      <td>6</td>\n",
       "      <td>2</td>\n",
       "    </tr>\n",
       "    <tr>\n",
       "      <th>[7, 8)</th>\n",
       "      <td>31</td>\n",
       "      <td>497</td>\n",
       "      <td>5</td>\n",
       "      <td>1</td>\n",
       "    </tr>\n",
       "    <tr>\n",
       "      <th>[8, 9)</th>\n",
       "      <td>12</td>\n",
       "      <td>425</td>\n",
       "      <td>4</td>\n",
       "      <td>5</td>\n",
       "    </tr>\n",
       "    <tr>\n",
       "      <th>[9, 15)</th>\n",
       "      <td>56</td>\n",
       "      <td>1834</td>\n",
       "      <td>27</td>\n",
       "      <td>27</td>\n",
       "    </tr>\n",
       "    <tr>\n",
       "      <th>[15, 20)</th>\n",
       "      <td>4</td>\n",
       "      <td>557</td>\n",
       "      <td>1</td>\n",
       "      <td>14</td>\n",
       "    </tr>\n",
       "    <tr>\n",
       "      <th>[20, 30)</th>\n",
       "      <td>1</td>\n",
       "      <td>214</td>\n",
       "      <td>11</td>\n",
       "      <td>7</td>\n",
       "    </tr>\n",
       "    <tr>\n",
       "      <th>[30, 40)</th>\n",
       "      <td>0</td>\n",
       "      <td>59</td>\n",
       "      <td>8</td>\n",
       "      <td>11</td>\n",
       "    </tr>\n",
       "    <tr>\n",
       "      <th>[40, 50)</th>\n",
       "      <td>0</td>\n",
       "      <td>35</td>\n",
       "      <td>3</td>\n",
       "      <td>3</td>\n",
       "    </tr>\n",
       "    <tr>\n",
       "      <th>[50, 1000)</th>\n",
       "      <td>3</td>\n",
       "      <td>114</td>\n",
       "      <td>35</td>\n",
       "      <td>18</td>\n",
       "    </tr>\n",
       "    <tr>\n",
       "      <th>[1000, 2000)</th>\n",
       "      <td>0</td>\n",
       "      <td>0</td>\n",
       "      <td>5</td>\n",
       "      <td>0</td>\n",
       "    </tr>\n",
       "  </tbody>\n",
       "</table>\n",
       "</div>"
      ],
      "text/plain": [
       "property_type_copia   PH  apartment  house  store\n",
       "floor_copia                                      \n",
       "[0, 1)                 0          0      0      0\n",
       "[1, 2)               161       1825    430     27\n",
       "[2, 3)               177       1407    372     17\n",
       "[3, 4)                82       1144    136      4\n",
       "[4, 5)                46        948     53      5\n",
       "[5, 6)                38        560     10      4\n",
       "[6, 7)                42        678      6      2\n",
       "[7, 8)                31        497      5      1\n",
       "[8, 9)                12        425      4      5\n",
       "[9, 15)               56       1834     27     27\n",
       "[15, 20)               4        557      1     14\n",
       "[20, 30)               1        214     11      7\n",
       "[30, 40)               0         59      8     11\n",
       "[40, 50)               0         35      3      3\n",
       "[50, 1000)             3        114     35     18\n",
       "[1000, 2000)           0          0      5      0"
      ]
     },
     "execution_count": 245,
     "metadata": {},
     "output_type": "execute_result"
    }
   ],
   "source": [
    "bins = [0, 1, 2, 3, 4, 5, 6, 7, 8, 9, 15, 20, 30, 40, 50, 1000, 2000]\n",
    "pisos = pd.cut(data.floor_copia, bins, right = False)\n",
    "data.pivot_table('floor_copia', index = [pisos], columns= 'property_type_copia', aggfunc={'floor_copia': 'count'})"
   ]
  },
  {
   "cell_type": "code",
   "execution_count": 246,
   "metadata": {},
   "outputs": [],
   "source": [
    "data.loc[mask_description_notnull, ['description_copia', 'title_copia']] = \"\""
   ]
  },
  {
   "cell_type": "code",
   "execution_count": 247,
   "metadata": {},
   "outputs": [],
   "source": [
    "patron = \"\\s(?P<numero>\\d[\\d]?)[\\s]?[º|°]?\\s*piso\"\n",
    "busca = re.compile(patron)\n",
    "\n",
    "description_series_match = data.description_copia.apply(lambda x:  x if x is np.NaN else busca.search(x))\n",
    "\n",
    "mask_description_notnull = description_series_match.notnull()\n",
    "data.loc[mask_description_notnull,'floor_copia'] = description_series_match[mask_description_notnull].apply(lambda x: x.group('numero')).astype(float)"
   ]
  },
  {
   "cell_type": "code",
   "execution_count": 248,
   "metadata": {},
   "outputs": [
    {
     "data": {
      "text/plain": [
       "dtype('float64')"
      ]
     },
     "execution_count": 248,
     "metadata": {},
     "output_type": "execute_result"
    }
   ],
   "source": [
    "data.floor_copia.dtypes"
   ]
  },
  {
   "cell_type": "code",
   "execution_count": 249,
   "metadata": {},
   "outputs": [
    {
     "data": {
      "text/plain": [
       "True     101137\n",
       "False     20083\n",
       "Name: floor_copia, dtype: int64"
      ]
     },
     "execution_count": 249,
     "metadata": {},
     "output_type": "execute_result"
    }
   ],
   "source": [
    "data['floor_copia'].isnull().value_counts()"
   ]
  },
  {
   "cell_type": "code",
   "execution_count": 250,
   "metadata": {},
   "outputs": [
    {
     "data": {
      "text/html": [
       "<div>\n",
       "<style scoped>\n",
       "    .dataframe tbody tr th:only-of-type {\n",
       "        vertical-align: middle;\n",
       "    }\n",
       "\n",
       "    .dataframe tbody tr th {\n",
       "        vertical-align: top;\n",
       "    }\n",
       "\n",
       "    .dataframe thead th {\n",
       "        text-align: right;\n",
       "    }\n",
       "</style>\n",
       "<table border=\"1\" class=\"dataframe\">\n",
       "  <thead>\n",
       "    <tr style=\"text-align: right;\">\n",
       "      <th>property_type_copia</th>\n",
       "      <th>PH</th>\n",
       "      <th>apartment</th>\n",
       "      <th>house</th>\n",
       "      <th>store</th>\n",
       "    </tr>\n",
       "    <tr>\n",
       "      <th>floor_copia</th>\n",
       "      <th></th>\n",
       "      <th></th>\n",
       "      <th></th>\n",
       "      <th></th>\n",
       "    </tr>\n",
       "  </thead>\n",
       "  <tbody>\n",
       "    <tr>\n",
       "      <th>[0, 1)</th>\n",
       "      <td>0</td>\n",
       "      <td>0</td>\n",
       "      <td>0</td>\n",
       "      <td>0</td>\n",
       "    </tr>\n",
       "    <tr>\n",
       "      <th>[1, 2)</th>\n",
       "      <td>330</td>\n",
       "      <td>2401</td>\n",
       "      <td>626</td>\n",
       "      <td>88</td>\n",
       "    </tr>\n",
       "    <tr>\n",
       "      <th>[2, 3)</th>\n",
       "      <td>201</td>\n",
       "      <td>1919</td>\n",
       "      <td>461</td>\n",
       "      <td>45</td>\n",
       "    </tr>\n",
       "    <tr>\n",
       "      <th>[3, 4)</th>\n",
       "      <td>96</td>\n",
       "      <td>1683</td>\n",
       "      <td>186</td>\n",
       "      <td>21</td>\n",
       "    </tr>\n",
       "    <tr>\n",
       "      <th>[4, 5)</th>\n",
       "      <td>52</td>\n",
       "      <td>1536</td>\n",
       "      <td>83</td>\n",
       "      <td>18</td>\n",
       "    </tr>\n",
       "    <tr>\n",
       "      <th>[5, 6)</th>\n",
       "      <td>42</td>\n",
       "      <td>1002</td>\n",
       "      <td>27</td>\n",
       "      <td>9</td>\n",
       "    </tr>\n",
       "    <tr>\n",
       "      <th>[6, 7)</th>\n",
       "      <td>45</td>\n",
       "      <td>1181</td>\n",
       "      <td>16</td>\n",
       "      <td>8</td>\n",
       "    </tr>\n",
       "    <tr>\n",
       "      <th>[7, 8)</th>\n",
       "      <td>31</td>\n",
       "      <td>982</td>\n",
       "      <td>12</td>\n",
       "      <td>7</td>\n",
       "    </tr>\n",
       "    <tr>\n",
       "      <th>[8, 9)</th>\n",
       "      <td>13</td>\n",
       "      <td>1190</td>\n",
       "      <td>12</td>\n",
       "      <td>15</td>\n",
       "    </tr>\n",
       "    <tr>\n",
       "      <th>[9, 15)</th>\n",
       "      <td>59</td>\n",
       "      <td>3998</td>\n",
       "      <td>41</td>\n",
       "      <td>50</td>\n",
       "    </tr>\n",
       "    <tr>\n",
       "      <th>[15, 20)</th>\n",
       "      <td>4</td>\n",
       "      <td>758</td>\n",
       "      <td>6</td>\n",
       "      <td>15</td>\n",
       "    </tr>\n",
       "    <tr>\n",
       "      <th>[20, 30)</th>\n",
       "      <td>1</td>\n",
       "      <td>437</td>\n",
       "      <td>10</td>\n",
       "      <td>8</td>\n",
       "    </tr>\n",
       "    <tr>\n",
       "      <th>[30, 40)</th>\n",
       "      <td>0</td>\n",
       "      <td>94</td>\n",
       "      <td>8</td>\n",
       "      <td>5</td>\n",
       "    </tr>\n",
       "    <tr>\n",
       "      <th>[40, 50)</th>\n",
       "      <td>0</td>\n",
       "      <td>53</td>\n",
       "      <td>3</td>\n",
       "      <td>2</td>\n",
       "    </tr>\n",
       "    <tr>\n",
       "      <th>[50, 1000)</th>\n",
       "      <td>3</td>\n",
       "      <td>129</td>\n",
       "      <td>36</td>\n",
       "      <td>17</td>\n",
       "    </tr>\n",
       "    <tr>\n",
       "      <th>[1000, 2000)</th>\n",
       "      <td>0</td>\n",
       "      <td>0</td>\n",
       "      <td>5</td>\n",
       "      <td>0</td>\n",
       "    </tr>\n",
       "  </tbody>\n",
       "</table>\n",
       "</div>"
      ],
      "text/plain": [
       "property_type_copia   PH  apartment  house  store\n",
       "floor_copia                                      \n",
       "[0, 1)                 0          0      0      0\n",
       "[1, 2)               330       2401    626     88\n",
       "[2, 3)               201       1919    461     45\n",
       "[3, 4)                96       1683    186     21\n",
       "[4, 5)                52       1536     83     18\n",
       "[5, 6)                42       1002     27      9\n",
       "[6, 7)                45       1181     16      8\n",
       "[7, 8)                31        982     12      7\n",
       "[8, 9)                13       1190     12     15\n",
       "[9, 15)               59       3998     41     50\n",
       "[15, 20)               4        758      6     15\n",
       "[20, 30)               1        437     10      8\n",
       "[30, 40)               0         94      8      5\n",
       "[40, 50)               0         53      3      2\n",
       "[50, 1000)             3        129     36     17\n",
       "[1000, 2000)           0          0      5      0"
      ]
     },
     "execution_count": 250,
     "metadata": {},
     "output_type": "execute_result"
    }
   ],
   "source": [
    "bins = [0, 1, 2, 3, 4, 5, 6, 7, 8, 9, 15, 20, 30, 40, 50, 1000, 2000]\n",
    "pisos = pd.cut(data.floor_copia, bins, right = False)\n",
    "data.pivot_table('floor_copia', index = [pisos], columns= 'property_type_copia', aggfunc={'floor_copia': 'count'})"
   ]
  },
  {
   "cell_type": "code",
   "execution_count": 251,
   "metadata": {},
   "outputs": [],
   "source": [
    "data.loc[mask_description_notnull, ['description_copia', 'title_copia']] = \"\""
   ]
  },
  {
   "cell_type": "code",
   "execution_count": 252,
   "metadata": {},
   "outputs": [],
   "source": [
    "patron = \"\\s(?P<numero>\\d[\\d]?)\\s*\\w{0,5}\\s*piso\"\n",
    "busca = re.compile(patron)\n",
    "\n",
    "description_series_match = data.description_copia.apply(lambda x:  x if x is np.NaN else busca.search(x))\n",
    "\n",
    "mask_description_notnull = description_series_match.notnull()\n",
    "data.loc[mask_description_notnull,'floor_copia'] = description_series_match[mask_description_notnull].apply(lambda x: x.group('numero')).astype(float)"
   ]
  },
  {
   "cell_type": "code",
   "execution_count": 253,
   "metadata": {},
   "outputs": [
    {
     "data": {
      "text/plain": [
       "dtype('float64')"
      ]
     },
     "execution_count": 253,
     "metadata": {},
     "output_type": "execute_result"
    }
   ],
   "source": [
    "data.floor_copia.dtypes"
   ]
  },
  {
   "cell_type": "code",
   "execution_count": 254,
   "metadata": {},
   "outputs": [
    {
     "data": {
      "text/plain": [
       "True     99124\n",
       "False    22096\n",
       "Name: floor_copia, dtype: int64"
      ]
     },
     "execution_count": 254,
     "metadata": {},
     "output_type": "execute_result"
    }
   ],
   "source": [
    "data['floor_copia'].isnull().value_counts()"
   ]
  },
  {
   "cell_type": "code",
   "execution_count": 255,
   "metadata": {},
   "outputs": [
    {
     "data": {
      "text/html": [
       "<div>\n",
       "<style scoped>\n",
       "    .dataframe tbody tr th:only-of-type {\n",
       "        vertical-align: middle;\n",
       "    }\n",
       "\n",
       "    .dataframe tbody tr th {\n",
       "        vertical-align: top;\n",
       "    }\n",
       "\n",
       "    .dataframe thead th {\n",
       "        text-align: right;\n",
       "    }\n",
       "</style>\n",
       "<table border=\"1\" class=\"dataframe\">\n",
       "  <thead>\n",
       "    <tr style=\"text-align: right;\">\n",
       "      <th>property_type_copia</th>\n",
       "      <th>PH</th>\n",
       "      <th>apartment</th>\n",
       "      <th>house</th>\n",
       "      <th>store</th>\n",
       "    </tr>\n",
       "    <tr>\n",
       "      <th>floor_copia</th>\n",
       "      <th></th>\n",
       "      <th></th>\n",
       "      <th></th>\n",
       "      <th></th>\n",
       "    </tr>\n",
       "  </thead>\n",
       "  <tbody>\n",
       "    <tr>\n",
       "      <th>[0, 1)</th>\n",
       "      <td>0</td>\n",
       "      <td>0</td>\n",
       "      <td>0</td>\n",
       "      <td>0</td>\n",
       "    </tr>\n",
       "    <tr>\n",
       "      <th>[1, 2)</th>\n",
       "      <td>417</td>\n",
       "      <td>2746</td>\n",
       "      <td>774</td>\n",
       "      <td>115</td>\n",
       "    </tr>\n",
       "    <tr>\n",
       "      <th>[2, 3)</th>\n",
       "      <td>230</td>\n",
       "      <td>2219</td>\n",
       "      <td>520</td>\n",
       "      <td>52</td>\n",
       "    </tr>\n",
       "    <tr>\n",
       "      <th>[3, 4)</th>\n",
       "      <td>106</td>\n",
       "      <td>1899</td>\n",
       "      <td>234</td>\n",
       "      <td>23</td>\n",
       "    </tr>\n",
       "    <tr>\n",
       "      <th>[4, 5)</th>\n",
       "      <td>57</td>\n",
       "      <td>1682</td>\n",
       "      <td>121</td>\n",
       "      <td>20</td>\n",
       "    </tr>\n",
       "    <tr>\n",
       "      <th>[5, 6)</th>\n",
       "      <td>45</td>\n",
       "      <td>1114</td>\n",
       "      <td>39</td>\n",
       "      <td>9</td>\n",
       "    </tr>\n",
       "    <tr>\n",
       "      <th>[6, 7)</th>\n",
       "      <td>46</td>\n",
       "      <td>1269</td>\n",
       "      <td>22</td>\n",
       "      <td>10</td>\n",
       "    </tr>\n",
       "    <tr>\n",
       "      <th>[7, 8)</th>\n",
       "      <td>31</td>\n",
       "      <td>1051</td>\n",
       "      <td>16</td>\n",
       "      <td>7</td>\n",
       "    </tr>\n",
       "    <tr>\n",
       "      <th>[8, 9)</th>\n",
       "      <td>13</td>\n",
       "      <td>1259</td>\n",
       "      <td>12</td>\n",
       "      <td>15</td>\n",
       "    </tr>\n",
       "    <tr>\n",
       "      <th>[9, 15)</th>\n",
       "      <td>60</td>\n",
       "      <td>4075</td>\n",
       "      <td>47</td>\n",
       "      <td>50</td>\n",
       "    </tr>\n",
       "    <tr>\n",
       "      <th>[15, 20)</th>\n",
       "      <td>4</td>\n",
       "      <td>785</td>\n",
       "      <td>6</td>\n",
       "      <td>15</td>\n",
       "    </tr>\n",
       "    <tr>\n",
       "      <th>[20, 30)</th>\n",
       "      <td>2</td>\n",
       "      <td>461</td>\n",
       "      <td>12</td>\n",
       "      <td>8</td>\n",
       "    </tr>\n",
       "    <tr>\n",
       "      <th>[30, 40)</th>\n",
       "      <td>0</td>\n",
       "      <td>98</td>\n",
       "      <td>8</td>\n",
       "      <td>5</td>\n",
       "    </tr>\n",
       "    <tr>\n",
       "      <th>[40, 50)</th>\n",
       "      <td>0</td>\n",
       "      <td>61</td>\n",
       "      <td>3</td>\n",
       "      <td>2</td>\n",
       "    </tr>\n",
       "    <tr>\n",
       "      <th>[50, 1000)</th>\n",
       "      <td>2</td>\n",
       "      <td>152</td>\n",
       "      <td>41</td>\n",
       "      <td>18</td>\n",
       "    </tr>\n",
       "    <tr>\n",
       "      <th>[1000, 2000)</th>\n",
       "      <td>0</td>\n",
       "      <td>0</td>\n",
       "      <td>5</td>\n",
       "      <td>0</td>\n",
       "    </tr>\n",
       "  </tbody>\n",
       "</table>\n",
       "</div>"
      ],
      "text/plain": [
       "property_type_copia   PH  apartment  house  store\n",
       "floor_copia                                      \n",
       "[0, 1)                 0          0      0      0\n",
       "[1, 2)               417       2746    774    115\n",
       "[2, 3)               230       2219    520     52\n",
       "[3, 4)               106       1899    234     23\n",
       "[4, 5)                57       1682    121     20\n",
       "[5, 6)                45       1114     39      9\n",
       "[6, 7)                46       1269     22     10\n",
       "[7, 8)                31       1051     16      7\n",
       "[8, 9)                13       1259     12     15\n",
       "[9, 15)               60       4075     47     50\n",
       "[15, 20)               4        785      6     15\n",
       "[20, 30)               2        461     12      8\n",
       "[30, 40)               0         98      8      5\n",
       "[40, 50)               0         61      3      2\n",
       "[50, 1000)             2        152     41     18\n",
       "[1000, 2000)           0          0      5      0"
      ]
     },
     "execution_count": 255,
     "metadata": {},
     "output_type": "execute_result"
    }
   ],
   "source": [
    "bins = [0, 1, 2, 3, 4, 5, 6, 7, 8, 9, 15, 20, 30, 40, 50, 1000, 2000]\n",
    "pisos = pd.cut(data.floor_copia, bins, right = False)\n",
    "data.pivot_table('floor_copia', index = [pisos], columns= 'property_type_copia', aggfunc={'floor_copia': 'count'})"
   ]
  },
  {
   "cell_type": "code",
   "execution_count": 256,
   "metadata": {},
   "outputs": [],
   "source": [
    "data.loc[mask_description_notnull, ['description_copia', 'title_copia']] = \"\""
   ]
  },
  {
   "cell_type": "code",
   "execution_count": 257,
   "metadata": {},
   "outputs": [],
   "source": [
    "patron = r\"(duplex|triplex)\"\n",
    "busca = re.compile(patron)\n",
    "\n",
    "description_series_match = data.description_copia.apply(lambda x:  x if x is np.NaN else busca.search(x))\n",
    "mask_description_notnull = description_series_match.notnull()\n",
    "encontradas = description_series_match[mask_description_notnull].apply(lambda x: x.group(1))\n",
    "\n",
    "numcol_cat_mapper = {'duplex': 2,'triplex': 3}\n",
    "encontradas1 = encontradas.map(numcol_cat_mapper)\n"
   ]
  },
  {
   "cell_type": "code",
   "execution_count": 258,
   "metadata": {},
   "outputs": [],
   "source": [
    "data.loc[mask_description_notnull,'floor_copia']= encontradas1.astype(float)"
   ]
  },
  {
   "cell_type": "code",
   "execution_count": 259,
   "metadata": {},
   "outputs": [
    {
     "data": {
      "text/plain": [
       "True     94666\n",
       "False    26554\n",
       "Name: floor_copia, dtype: int64"
      ]
     },
     "execution_count": 259,
     "metadata": {},
     "output_type": "execute_result"
    }
   ],
   "source": [
    "data['floor_copia'].isnull().value_counts()"
   ]
  },
  {
   "cell_type": "code",
   "execution_count": 260,
   "metadata": {},
   "outputs": [
    {
     "data": {
      "text/html": [
       "<div>\n",
       "<style scoped>\n",
       "    .dataframe tbody tr th:only-of-type {\n",
       "        vertical-align: middle;\n",
       "    }\n",
       "\n",
       "    .dataframe tbody tr th {\n",
       "        vertical-align: top;\n",
       "    }\n",
       "\n",
       "    .dataframe thead th {\n",
       "        text-align: right;\n",
       "    }\n",
       "</style>\n",
       "<table border=\"1\" class=\"dataframe\">\n",
       "  <thead>\n",
       "    <tr style=\"text-align: right;\">\n",
       "      <th>property_type_copia</th>\n",
       "      <th>PH</th>\n",
       "      <th>apartment</th>\n",
       "      <th>house</th>\n",
       "      <th>store</th>\n",
       "    </tr>\n",
       "    <tr>\n",
       "      <th>floor_copia</th>\n",
       "      <th></th>\n",
       "      <th></th>\n",
       "      <th></th>\n",
       "      <th></th>\n",
       "    </tr>\n",
       "  </thead>\n",
       "  <tbody>\n",
       "    <tr>\n",
       "      <th>[0, 1)</th>\n",
       "      <td>0</td>\n",
       "      <td>0</td>\n",
       "      <td>0</td>\n",
       "      <td>0</td>\n",
       "    </tr>\n",
       "    <tr>\n",
       "      <th>[1, 2)</th>\n",
       "      <td>404</td>\n",
       "      <td>2710</td>\n",
       "      <td>767</td>\n",
       "      <td>115</td>\n",
       "    </tr>\n",
       "    <tr>\n",
       "      <th>[2, 3)</th>\n",
       "      <td>622</td>\n",
       "      <td>4333</td>\n",
       "      <td>2096</td>\n",
       "      <td>70</td>\n",
       "    </tr>\n",
       "    <tr>\n",
       "      <th>[3, 4)</th>\n",
       "      <td>155</td>\n",
       "      <td>2084</td>\n",
       "      <td>513</td>\n",
       "      <td>23</td>\n",
       "    </tr>\n",
       "    <tr>\n",
       "      <th>[4, 5)</th>\n",
       "      <td>57</td>\n",
       "      <td>1672</td>\n",
       "      <td>119</td>\n",
       "      <td>20</td>\n",
       "    </tr>\n",
       "    <tr>\n",
       "      <th>[5, 6)</th>\n",
       "      <td>43</td>\n",
       "      <td>1101</td>\n",
       "      <td>37</td>\n",
       "      <td>9</td>\n",
       "    </tr>\n",
       "    <tr>\n",
       "      <th>[6, 7)</th>\n",
       "      <td>46</td>\n",
       "      <td>1259</td>\n",
       "      <td>22</td>\n",
       "      <td>10</td>\n",
       "    </tr>\n",
       "    <tr>\n",
       "      <th>[7, 8)</th>\n",
       "      <td>30</td>\n",
       "      <td>1040</td>\n",
       "      <td>15</td>\n",
       "      <td>7</td>\n",
       "    </tr>\n",
       "    <tr>\n",
       "      <th>[8, 9)</th>\n",
       "      <td>13</td>\n",
       "      <td>1251</td>\n",
       "      <td>12</td>\n",
       "      <td>15</td>\n",
       "    </tr>\n",
       "    <tr>\n",
       "      <th>[9, 15)</th>\n",
       "      <td>60</td>\n",
       "      <td>4059</td>\n",
       "      <td>43</td>\n",
       "      <td>50</td>\n",
       "    </tr>\n",
       "    <tr>\n",
       "      <th>[15, 20)</th>\n",
       "      <td>4</td>\n",
       "      <td>777</td>\n",
       "      <td>6</td>\n",
       "      <td>15</td>\n",
       "    </tr>\n",
       "    <tr>\n",
       "      <th>[20, 30)</th>\n",
       "      <td>2</td>\n",
       "      <td>460</td>\n",
       "      <td>10</td>\n",
       "      <td>8</td>\n",
       "    </tr>\n",
       "    <tr>\n",
       "      <th>[30, 40)</th>\n",
       "      <td>0</td>\n",
       "      <td>98</td>\n",
       "      <td>5</td>\n",
       "      <td>5</td>\n",
       "    </tr>\n",
       "    <tr>\n",
       "      <th>[40, 50)</th>\n",
       "      <td>0</td>\n",
       "      <td>61</td>\n",
       "      <td>3</td>\n",
       "      <td>2</td>\n",
       "    </tr>\n",
       "    <tr>\n",
       "      <th>[50, 1000)</th>\n",
       "      <td>2</td>\n",
       "      <td>148</td>\n",
       "      <td>41</td>\n",
       "      <td>18</td>\n",
       "    </tr>\n",
       "    <tr>\n",
       "      <th>[1000, 2000)</th>\n",
       "      <td>0</td>\n",
       "      <td>0</td>\n",
       "      <td>5</td>\n",
       "      <td>0</td>\n",
       "    </tr>\n",
       "  </tbody>\n",
       "</table>\n",
       "</div>"
      ],
      "text/plain": [
       "property_type_copia   PH  apartment  house  store\n",
       "floor_copia                                      \n",
       "[0, 1)                 0          0      0      0\n",
       "[1, 2)               404       2710    767    115\n",
       "[2, 3)               622       4333   2096     70\n",
       "[3, 4)               155       2084    513     23\n",
       "[4, 5)                57       1672    119     20\n",
       "[5, 6)                43       1101     37      9\n",
       "[6, 7)                46       1259     22     10\n",
       "[7, 8)                30       1040     15      7\n",
       "[8, 9)                13       1251     12     15\n",
       "[9, 15)               60       4059     43     50\n",
       "[15, 20)               4        777      6     15\n",
       "[20, 30)               2        460     10      8\n",
       "[30, 40)               0         98      5      5\n",
       "[40, 50)               0         61      3      2\n",
       "[50, 1000)             2        148     41     18\n",
       "[1000, 2000)           0          0      5      0"
      ]
     },
     "execution_count": 260,
     "metadata": {},
     "output_type": "execute_result"
    }
   ],
   "source": [
    "bins = [0, 1, 2, 3, 4, 5, 6, 7, 8, 9, 15, 20, 30, 40, 50, 1000, 2000]\n",
    "pisos = pd.cut(data.floor_copia, bins, right = False)\n",
    "data.pivot_table('floor_copia', index = [pisos], columns= 'property_type_copia', aggfunc={'floor_copia': 'count'})"
   ]
  },
  {
   "cell_type": "code",
   "execution_count": 261,
   "metadata": {},
   "outputs": [],
   "source": [
    "data.loc[mask_description_notnull, ['description_copia', 'title_copia']] = \"\""
   ]
  },
  {
   "cell_type": "code",
   "execution_count": 262,
   "metadata": {},
   "outputs": [],
   "source": [
    "patron = r\"(primer|segundo|tercer|cuarto|quinto|sexto|s[e|é]ptimo|octavo|noveno|d[e|é]cimo|d[e|é]cimo[\\s]?primer|d[e|é]cimo[\\s]?segundo|d[e|é]cimo[\\s]?tercer|d[e|é]cimo[\\s]?cuarto|d[e|é]cimo[\\s]?quinto|d[e|é]cimo[\\s]?sexto|d[e|é]cimo[\\s]?s[e|é]ptimo|d[e|é]cimo[\\s]?octavo|d[e|é]cimo[\\s]?noveno|vig[e|é]simo)[\\s]?piso\"\n",
    "busca = re.compile(patron)\n",
    "\n",
    "description_series_match = data.description_copia.apply(lambda x:  x if x is np.NaN else busca.search(x))\n",
    "mask_description_notnull = description_series_match.notnull()\n",
    "encontradas = description_series_match[mask_description_notnull].apply(lambda x: x.group(1))\n",
    "\n",
    "num_pisos_mapper = {'primer': 1,'segundo':2, 'tercer': 3, 'cuarto': 4, 'quinto': 5, 'sexto': 6, \\\n",
    "                    'septimo':7, 'séptimo':7, 'octavo': 8, 'noveno': 9, 'decimo': 10, 'décimo': 10, \\\n",
    "                    'decimo primer': 11, 'décimo primer': 11, 'décimoprimer': 11, 'decimoprimer': 11, \\\n",
    "                    'decimo segundo': 12,  'décimo segundo': 12, 'décimosegundo': 12, 'decimosegundo': 12, \\\n",
    "                    'decimo tercer': 13, 'decimotercer': 13,  'décimo tercer': 13, 'décimotercer': 13, \\\n",
    "                    'decimocuarto': 14, 'decimo cuarto': 14, 'décimocuarto': 14, 'décimo cuarto': 14,\\\n",
    "                    'decimoquinto': 15, 'decimo quinto': 15, 'décimoquinto': 15, 'décimo quinto': 15,\n",
    "                    'décimo sexto': 16,  'decimosexto': 16, 'décimosexto': 16,  'decimo sexto': 16,\\\n",
    "                    'decimoseptimo': 17, 'decimo septimo': 17, 'decimoséptimo': 17, 'decimo séptimo': 17,\\\n",
    "                    'decimooctavo': 18, 'decimo octavo': 18, 'décimooctavo': 18, 'décimo octavo': 18,\\\n",
    "                    'decimonoveno': 19, 'decimo noveno': 19, 'décimonoveno': 19, 'décimo noveno': 19, \\\n",
    "                    'vigesimo': 20, 'vigésimo': 20}\n",
    "encontradas1 = encontradas.map(num_pisos_mapper)"
   ]
  },
  {
   "cell_type": "code",
   "execution_count": 263,
   "metadata": {},
   "outputs": [],
   "source": [
    "data.loc[mask_description_notnull,'floor_copia']= encontradas1.astype(float)"
   ]
  },
  {
   "cell_type": "code",
   "execution_count": 264,
   "metadata": {},
   "outputs": [
    {
     "data": {
      "text/plain": [
       "True     90145\n",
       "False    31075\n",
       "Name: floor_copia, dtype: int64"
      ]
     },
     "execution_count": 264,
     "metadata": {},
     "output_type": "execute_result"
    }
   ],
   "source": [
    "data['floor_copia'].isnull().value_counts()"
   ]
  },
  {
   "cell_type": "code",
   "execution_count": 265,
   "metadata": {},
   "outputs": [
    {
     "data": {
      "text/html": [
       "<div>\n",
       "<style scoped>\n",
       "    .dataframe tbody tr th:only-of-type {\n",
       "        vertical-align: middle;\n",
       "    }\n",
       "\n",
       "    .dataframe tbody tr th {\n",
       "        vertical-align: top;\n",
       "    }\n",
       "\n",
       "    .dataframe thead th {\n",
       "        text-align: right;\n",
       "    }\n",
       "</style>\n",
       "<table border=\"1\" class=\"dataframe\">\n",
       "  <thead>\n",
       "    <tr style=\"text-align: right;\">\n",
       "      <th>property_type_copia</th>\n",
       "      <th>PH</th>\n",
       "      <th>apartment</th>\n",
       "      <th>house</th>\n",
       "      <th>store</th>\n",
       "    </tr>\n",
       "    <tr>\n",
       "      <th>floor_copia</th>\n",
       "      <th></th>\n",
       "      <th></th>\n",
       "      <th></th>\n",
       "      <th></th>\n",
       "    </tr>\n",
       "  </thead>\n",
       "  <tbody>\n",
       "    <tr>\n",
       "      <th>[0, 1)</th>\n",
       "      <td>0</td>\n",
       "      <td>0</td>\n",
       "      <td>0</td>\n",
       "      <td>0</td>\n",
       "    </tr>\n",
       "    <tr>\n",
       "      <th>[1, 2)</th>\n",
       "      <td>879</td>\n",
       "      <td>4324</td>\n",
       "      <td>1431</td>\n",
       "      <td>223</td>\n",
       "    </tr>\n",
       "    <tr>\n",
       "      <th>[2, 3)</th>\n",
       "      <td>659</td>\n",
       "      <td>5035</td>\n",
       "      <td>2182</td>\n",
       "      <td>85</td>\n",
       "    </tr>\n",
       "    <tr>\n",
       "      <th>[3, 4)</th>\n",
       "      <td>149</td>\n",
       "      <td>2417</td>\n",
       "      <td>561</td>\n",
       "      <td>24</td>\n",
       "    </tr>\n",
       "    <tr>\n",
       "      <th>[4, 5)</th>\n",
       "      <td>54</td>\n",
       "      <td>1834</td>\n",
       "      <td>107</td>\n",
       "      <td>21</td>\n",
       "    </tr>\n",
       "    <tr>\n",
       "      <th>[5, 6)</th>\n",
       "      <td>41</td>\n",
       "      <td>1199</td>\n",
       "      <td>36</td>\n",
       "      <td>9</td>\n",
       "    </tr>\n",
       "    <tr>\n",
       "      <th>[6, 7)</th>\n",
       "      <td>45</td>\n",
       "      <td>1336</td>\n",
       "      <td>22</td>\n",
       "      <td>10</td>\n",
       "    </tr>\n",
       "    <tr>\n",
       "      <th>[7, 8)</th>\n",
       "      <td>30</td>\n",
       "      <td>1099</td>\n",
       "      <td>15</td>\n",
       "      <td>7</td>\n",
       "    </tr>\n",
       "    <tr>\n",
       "      <th>[8, 9)</th>\n",
       "      <td>12</td>\n",
       "      <td>1300</td>\n",
       "      <td>13</td>\n",
       "      <td>13</td>\n",
       "    </tr>\n",
       "    <tr>\n",
       "      <th>[9, 15)</th>\n",
       "      <td>58</td>\n",
       "      <td>4104</td>\n",
       "      <td>42</td>\n",
       "      <td>49</td>\n",
       "    </tr>\n",
       "    <tr>\n",
       "      <th>[15, 20)</th>\n",
       "      <td>4</td>\n",
       "      <td>776</td>\n",
       "      <td>6</td>\n",
       "      <td>15</td>\n",
       "    </tr>\n",
       "    <tr>\n",
       "      <th>[20, 30)</th>\n",
       "      <td>2</td>\n",
       "      <td>456</td>\n",
       "      <td>7</td>\n",
       "      <td>8</td>\n",
       "    </tr>\n",
       "    <tr>\n",
       "      <th>[30, 40)</th>\n",
       "      <td>0</td>\n",
       "      <td>97</td>\n",
       "      <td>5</td>\n",
       "      <td>4</td>\n",
       "    </tr>\n",
       "    <tr>\n",
       "      <th>[40, 50)</th>\n",
       "      <td>0</td>\n",
       "      <td>61</td>\n",
       "      <td>3</td>\n",
       "      <td>2</td>\n",
       "    </tr>\n",
       "    <tr>\n",
       "      <th>[50, 1000)</th>\n",
       "      <td>1</td>\n",
       "      <td>139</td>\n",
       "      <td>39</td>\n",
       "      <td>18</td>\n",
       "    </tr>\n",
       "    <tr>\n",
       "      <th>[1000, 2000)</th>\n",
       "      <td>0</td>\n",
       "      <td>0</td>\n",
       "      <td>5</td>\n",
       "      <td>0</td>\n",
       "    </tr>\n",
       "  </tbody>\n",
       "</table>\n",
       "</div>"
      ],
      "text/plain": [
       "property_type_copia   PH  apartment  house  store\n",
       "floor_copia                                      \n",
       "[0, 1)                 0          0      0      0\n",
       "[1, 2)               879       4324   1431    223\n",
       "[2, 3)               659       5035   2182     85\n",
       "[3, 4)               149       2417    561     24\n",
       "[4, 5)                54       1834    107     21\n",
       "[5, 6)                41       1199     36      9\n",
       "[6, 7)                45       1336     22     10\n",
       "[7, 8)                30       1099     15      7\n",
       "[8, 9)                12       1300     13     13\n",
       "[9, 15)               58       4104     42     49\n",
       "[15, 20)               4        776      6     15\n",
       "[20, 30)               2        456      7      8\n",
       "[30, 40)               0         97      5      4\n",
       "[40, 50)               0         61      3      2\n",
       "[50, 1000)             1        139     39     18\n",
       "[1000, 2000)           0          0      5      0"
      ]
     },
     "execution_count": 265,
     "metadata": {},
     "output_type": "execute_result"
    }
   ],
   "source": [
    "bins = [0, 1, 2, 3, 4, 5, 6, 7, 8, 9, 15, 20, 30, 40, 50, 1000, 2000]\n",
    "pisos = pd.cut(data.floor_copia, bins, right = False)\n",
    "data.pivot_table('floor_copia', index = [pisos], columns= 'property_type_copia', aggfunc={'floor_copia': 'count'})"
   ]
  },
  {
   "cell_type": "code",
   "execution_count": 266,
   "metadata": {},
   "outputs": [],
   "source": [
    "data.loc[mask_description_notnull, ['description_copia', 'title_copia']] = \"\""
   ]
  },
  {
   "cell_type": "code",
   "execution_count": 267,
   "metadata": {},
   "outputs": [],
   "source": [
    "patron = r\"[\\s]?piso[\\s]?(primer[a|o]?|segundo|tercer|cuarto|quinto|sexto|s[e|é]ptimo|octavo|noveno|d[e|é]cimo|d[e|é]cimo[\\s]?primer|d[e|é]cimo[\\s]?segundo|d[e|é]cimo[\\s]?tercer|d[e|é]cimo[\\s]?cuarto|d[e|é]cimo[\\s]?quinto|d[e|é]cimo[\\s]?sexto|d[e|é]cimo[\\s]?s[e|é]ptimo|d[e|é]cimo[\\s]?octavo|d[e|é]cimo[\\s]?noveno|vig[e|é]simo)\"\n",
    "busca = re.compile(patron)\n",
    "\n",
    "description_series_match = data.description_copia.apply(lambda x:  x if x is np.NaN else busca.search(x))\n",
    "mask_description_notnull = description_series_match.notnull()\n",
    "encontradas = description_series_match[mask_description_notnull].apply(lambda x: x.group(1))\n",
    "\n",
    "num_pisos_mapper = {'primer': 1, 'primera': 1, 'primero': 1, 'segundo':2, 'tercer': 3, 'cuarto': 4, 'quinto': 5, 'sexto': 6, \\\n",
    "                    'septimo':7, 'séptimo':7, 'octavo': 8, 'noveno': 9, 'decimo': 10, 'décimo': 10, \\\n",
    "                    'decimo primer': 11, 'décimo primer': 11, 'décimoprimer': 11, 'decimoprimer': 11, \\\n",
    "                    'decimo segundo': 12,  'décimo segundo': 12, 'décimosegundo': 12, 'decimosegundo': 12, \\\n",
    "                    'decimo tercer': 13, 'decimotercer': 13,  'décimo tercer': 13, 'décimotercer': 13, \\\n",
    "                    'decimocuarto': 14, 'decimo cuarto': 14, 'décimocuarto': 14, 'décimo cuarto': 14,\\\n",
    "                    'decimoquinto': 15, 'decimo quinto': 15, 'décimoquinto': 15, 'décimo quinto': 15,\n",
    "                    'décimo sexto': 16,  'decimosexto': 16, 'décimosexto': 16,  'decimo sexto': 16,\\\n",
    "                    'decimoseptimo': 17, 'decimo septimo': 17, 'decimoséptimo': 17, 'decimo séptimo': 17,\\\n",
    "                    'decimooctavo': 18, 'decimo octavo': 18, 'décimooctavo': 18, 'décimo octavo': 18,\\\n",
    "                    'decimonoveno': 19, 'decimo noveno': 19, 'décimonoveno': 19, 'décimo noveno': 19, \\\n",
    "                    'vigesimo': 20, 'vigésimo': 20}\n",
    "encontradas1 = encontradas.map(num_pisos_mapper)"
   ]
  },
  {
   "cell_type": "code",
   "execution_count": 268,
   "metadata": {},
   "outputs": [],
   "source": [
    "data.loc[mask_description_notnull,'floor_copia']= encontradas1.astype(float)"
   ]
  },
  {
   "cell_type": "code",
   "execution_count": 269,
   "metadata": {},
   "outputs": [
    {
     "data": {
      "text/plain": [
       "True     90118\n",
       "False    31102\n",
       "Name: floor_copia, dtype: int64"
      ]
     },
     "execution_count": 269,
     "metadata": {},
     "output_type": "execute_result"
    }
   ],
   "source": [
    "data['floor_copia'].isnull().value_counts()"
   ]
  },
  {
   "cell_type": "code",
   "execution_count": 270,
   "metadata": {},
   "outputs": [],
   "source": [
    "data.loc[mask_description_notnull, ['description_copia', 'title_copia']] = \"\""
   ]
  },
  {
   "cell_type": "code",
   "execution_count": 271,
   "metadata": {},
   "outputs": [],
   "source": [
    "patron = r\"(un|dos|tres|cuatro|cinco|seis|siete|ocho|nueve|diez|once|doce|trece|catorce|quince|dieciseis|diecisiete|dieciocho|diecinueve|veinte)[\\s]?piso[\\s]\"\n",
    "busca = re.compile(patron)\n",
    "\n",
    "description_series_match = data.description_copia.apply(lambda x:  x if x is np.NaN else busca.search(x))\n",
    "mask_description_notnull = description_series_match.notnull()\n",
    "encontradas = description_series_match[mask_description_notnull].apply(lambda x: x.group(1))\n",
    "\n",
    "num_pisos_mapper = {'un': 1,'dos':2, 'tres': 3, 'cuatro': 4, 'cinco': 5, 'seis': 6, \\\n",
    "                    'siete':7, 'ocho': 8, 'nueve': 9, 'diez': 10, \\\n",
    "                    'once': 11, 'doce': 12, 'trece': 13, 'catorce': 14, 'quice': 15, 'dieciseis': 16, \\\n",
    "                    'diecisiete': 17, 'dieciocho': 18, 'diecinueve': 19,\\\n",
    "                    'veinte': 20}\n",
    "encontradas1 = encontradas.map(num_pisos_mapper)"
   ]
  },
  {
   "cell_type": "code",
   "execution_count": 272,
   "metadata": {},
   "outputs": [],
   "source": [
    "data.loc[mask_description_notnull,'floor_copia']= encontradas1.astype(float)"
   ]
  },
  {
   "cell_type": "code",
   "execution_count": 273,
   "metadata": {},
   "outputs": [
    {
     "data": {
      "text/plain": [
       "True     89954\n",
       "False    31266\n",
       "Name: floor_copia, dtype: int64"
      ]
     },
     "execution_count": 273,
     "metadata": {},
     "output_type": "execute_result"
    }
   ],
   "source": [
    "data['floor_copia'].isnull().value_counts()"
   ]
  },
  {
   "cell_type": "code",
   "execution_count": 274,
   "metadata": {},
   "outputs": [
    {
     "data": {
      "text/html": [
       "<div>\n",
       "<style scoped>\n",
       "    .dataframe tbody tr th:only-of-type {\n",
       "        vertical-align: middle;\n",
       "    }\n",
       "\n",
       "    .dataframe tbody tr th {\n",
       "        vertical-align: top;\n",
       "    }\n",
       "\n",
       "    .dataframe thead th {\n",
       "        text-align: right;\n",
       "    }\n",
       "</style>\n",
       "<table border=\"1\" class=\"dataframe\">\n",
       "  <thead>\n",
       "    <tr style=\"text-align: right;\">\n",
       "      <th>property_type_copia</th>\n",
       "      <th>PH</th>\n",
       "      <th>apartment</th>\n",
       "      <th>house</th>\n",
       "      <th>store</th>\n",
       "    </tr>\n",
       "    <tr>\n",
       "      <th>floor_copia</th>\n",
       "      <th></th>\n",
       "      <th></th>\n",
       "      <th></th>\n",
       "      <th></th>\n",
       "    </tr>\n",
       "  </thead>\n",
       "  <tbody>\n",
       "    <tr>\n",
       "      <th>[0, 1)</th>\n",
       "      <td>0</td>\n",
       "      <td>0</td>\n",
       "      <td>0</td>\n",
       "      <td>0</td>\n",
       "    </tr>\n",
       "    <tr>\n",
       "      <th>[1, 2)</th>\n",
       "      <td>882</td>\n",
       "      <td>4465</td>\n",
       "      <td>1451</td>\n",
       "      <td>225</td>\n",
       "    </tr>\n",
       "    <tr>\n",
       "      <th>[2, 3)</th>\n",
       "      <td>659</td>\n",
       "      <td>5049</td>\n",
       "      <td>2182</td>\n",
       "      <td>85</td>\n",
       "    </tr>\n",
       "    <tr>\n",
       "      <th>[3, 4)</th>\n",
       "      <td>150</td>\n",
       "      <td>2418</td>\n",
       "      <td>562</td>\n",
       "      <td>24</td>\n",
       "    </tr>\n",
       "    <tr>\n",
       "      <th>[4, 5)</th>\n",
       "      <td>54</td>\n",
       "      <td>1837</td>\n",
       "      <td>107</td>\n",
       "      <td>21</td>\n",
       "    </tr>\n",
       "    <tr>\n",
       "      <th>[5, 6)</th>\n",
       "      <td>41</td>\n",
       "      <td>1201</td>\n",
       "      <td>36</td>\n",
       "      <td>9</td>\n",
       "    </tr>\n",
       "    <tr>\n",
       "      <th>[6, 7)</th>\n",
       "      <td>45</td>\n",
       "      <td>1339</td>\n",
       "      <td>22</td>\n",
       "      <td>10</td>\n",
       "    </tr>\n",
       "    <tr>\n",
       "      <th>[7, 8)</th>\n",
       "      <td>30</td>\n",
       "      <td>1096</td>\n",
       "      <td>15</td>\n",
       "      <td>7</td>\n",
       "    </tr>\n",
       "    <tr>\n",
       "      <th>[8, 9)</th>\n",
       "      <td>12</td>\n",
       "      <td>1302</td>\n",
       "      <td>13</td>\n",
       "      <td>13</td>\n",
       "    </tr>\n",
       "    <tr>\n",
       "      <th>[9, 15)</th>\n",
       "      <td>58</td>\n",
       "      <td>4106</td>\n",
       "      <td>42</td>\n",
       "      <td>49</td>\n",
       "    </tr>\n",
       "    <tr>\n",
       "      <th>[15, 20)</th>\n",
       "      <td>4</td>\n",
       "      <td>775</td>\n",
       "      <td>6</td>\n",
       "      <td>15</td>\n",
       "    </tr>\n",
       "    <tr>\n",
       "      <th>[20, 30)</th>\n",
       "      <td>2</td>\n",
       "      <td>456</td>\n",
       "      <td>7</td>\n",
       "      <td>8</td>\n",
       "    </tr>\n",
       "    <tr>\n",
       "      <th>[30, 40)</th>\n",
       "      <td>0</td>\n",
       "      <td>97</td>\n",
       "      <td>5</td>\n",
       "      <td>4</td>\n",
       "    </tr>\n",
       "    <tr>\n",
       "      <th>[40, 50)</th>\n",
       "      <td>0</td>\n",
       "      <td>61</td>\n",
       "      <td>3</td>\n",
       "      <td>2</td>\n",
       "    </tr>\n",
       "    <tr>\n",
       "      <th>[50, 1000)</th>\n",
       "      <td>1</td>\n",
       "      <td>139</td>\n",
       "      <td>39</td>\n",
       "      <td>18</td>\n",
       "    </tr>\n",
       "    <tr>\n",
       "      <th>[1000, 2000)</th>\n",
       "      <td>0</td>\n",
       "      <td>0</td>\n",
       "      <td>5</td>\n",
       "      <td>0</td>\n",
       "    </tr>\n",
       "  </tbody>\n",
       "</table>\n",
       "</div>"
      ],
      "text/plain": [
       "property_type_copia   PH  apartment  house  store\n",
       "floor_copia                                      \n",
       "[0, 1)                 0          0      0      0\n",
       "[1, 2)               882       4465   1451    225\n",
       "[2, 3)               659       5049   2182     85\n",
       "[3, 4)               150       2418    562     24\n",
       "[4, 5)                54       1837    107     21\n",
       "[5, 6)                41       1201     36      9\n",
       "[6, 7)                45       1339     22     10\n",
       "[7, 8)                30       1096     15      7\n",
       "[8, 9)                12       1302     13     13\n",
       "[9, 15)               58       4106     42     49\n",
       "[15, 20)               4        775      6     15\n",
       "[20, 30)               2        456      7      8\n",
       "[30, 40)               0         97      5      4\n",
       "[40, 50)               0         61      3      2\n",
       "[50, 1000)             1        139     39     18\n",
       "[1000, 2000)           0          0      5      0"
      ]
     },
     "execution_count": 274,
     "metadata": {},
     "output_type": "execute_result"
    }
   ],
   "source": [
    "bins = [0, 1, 2, 3, 4, 5, 6, 7, 8, 9, 15, 20, 30, 40, 50, 1000, 2000]\n",
    "pisos = pd.cut(data.floor_copia, bins, right = False)\n",
    "data.pivot_table('floor_copia', index = [pisos], columns= 'property_type_copia', aggfunc={'floor_copia': 'count'})"
   ]
  },
  {
   "cell_type": "code",
   "execution_count": 275,
   "metadata": {},
   "outputs": [],
   "source": [
    "data.loc[mask_description_notnull, ['description_copia', 'title_copia']] = \"\""
   ]
  },
  {
   "cell_type": "code",
   "execution_count": 276,
   "metadata": {},
   "outputs": [],
   "source": [
    "patron = r\"(una|dos|tres|cuatro|cinco|seis|siete|ocho|nueve|diez|once|doce|trece|catorce|quince|dieciseis|diecisiete|dieciocho|diecinueve|veinte)[\\s]?[sola]?[\\s]?planta[s]?\"\n",
    "busca = re.compile(patron)\n",
    "\n",
    "description_series_match = data.description_copia.apply(lambda x:  x if x is np.NaN else busca.search(x))\n",
    "mask_description_notnull = description_series_match.notnull()\n",
    "encontradas = description_series_match[mask_description_notnull].apply(lambda x: x.group(1))\n",
    "\n",
    "num_pisos_mapper = {'una': 0,'dos':2, 'tres': 3, 'cuatro': 4, 'cinco': 5, 'seis': 6, \\\n",
    "                    'siete':7, 'ocho': 8, 'nueve': 9, 'diez': 10, \\\n",
    "                    'once': 11, 'doce': 12, 'trece': 13, 'catorce': 14, 'quice': 15, 'dieciseis': 16, \\\n",
    "                    'diecisiete': 17, 'dieciocho': 18, 'diecinueve': 19,\\\n",
    "                    'veinte': 20}\n",
    "encontradas1 = encontradas.map(num_pisos_mapper)"
   ]
  },
  {
   "cell_type": "code",
   "execution_count": 277,
   "metadata": {},
   "outputs": [],
   "source": [
    "data.loc[mask_description_notnull,'floor_copia']= encontradas1.astype(float)"
   ]
  },
  {
   "cell_type": "code",
   "execution_count": 278,
   "metadata": {},
   "outputs": [
    {
     "data": {
      "text/plain": [
       "True     82318\n",
       "False    38902\n",
       "Name: floor_copia, dtype: int64"
      ]
     },
     "execution_count": 278,
     "metadata": {},
     "output_type": "execute_result"
    }
   ],
   "source": [
    "data['floor_copia'].isnull().value_counts()"
   ]
  },
  {
   "cell_type": "code",
   "execution_count": 279,
   "metadata": {},
   "outputs": [],
   "source": [
    "data.loc[mask_description_notnull, ['description_copia', 'title_copia']] = \"\""
   ]
  },
  {
   "cell_type": "code",
   "execution_count": 280,
   "metadata": {},
   "outputs": [],
   "source": [
    "patron = r\"planta[\\s]?(un[a|o]|dos|tres|cuatro|cinco|seis|siete|ocho|nueve|diez|once|doce|trece|catorce|quince|dieciseis|diecisiete|dieciocho|diecinueve|veinte)\"\n",
    "busca = re.compile(patron)\n",
    "\n",
    "description_series_match = data.description_copia.apply(lambda x:  x if x is np.NaN else busca.search(x))\n",
    "mask_description_notnull = description_series_match.notnull()\n",
    "encontradas = description_series_match[mask_description_notnull].apply(lambda x: x.group(1))\n",
    "\n",
    "num_pisos_mapper = {'una': 1, 'uno': 1, 'dos':2, 'tres': 3, 'cuatro': 4, 'cinco': 5, 'seis': 6, \\\n",
    "                    'siete':7, 'ocho': 8, 'nueve': 9, 'diez': 10, \\\n",
    "                    'once': 11, 'doce': 12, 'trece': 13, 'catorce': 14, 'quice': 15, 'dieciseis': 16, \\\n",
    "                    'diecisiete': 17, 'dieciocho': 18, 'diecinueve': 19,\\\n",
    "                    'veinte': 20}\n",
    "encontradas1 = encontradas.map(num_pisos_mapper)"
   ]
  },
  {
   "cell_type": "code",
   "execution_count": 281,
   "metadata": {},
   "outputs": [],
   "source": [
    "data.loc[mask_description_notnull,'floor_copia']= encontradas1.astype(float)"
   ]
  },
  {
   "cell_type": "code",
   "execution_count": 282,
   "metadata": {},
   "outputs": [
    {
     "data": {
      "text/plain": [
       "True     82280\n",
       "False    38940\n",
       "Name: floor_copia, dtype: int64"
      ]
     },
     "execution_count": 282,
     "metadata": {},
     "output_type": "execute_result"
    }
   ],
   "source": [
    "data['floor_copia'].isnull().value_counts()"
   ]
  },
  {
   "cell_type": "code",
   "execution_count": 283,
   "metadata": {},
   "outputs": [],
   "source": [
    "data.loc[mask_description_notnull, ['description_copia', 'title_copia']] = \"\""
   ]
  },
  {
   "cell_type": "code",
   "execution_count": 284,
   "metadata": {},
   "outputs": [],
   "source": [
    "patron = r\"(planta[\\s]?alta)\"\n",
    "busca = re.compile(patron)\n",
    "\n",
    "description_series_match = data.description_copia.apply(lambda x:  x if x is np.NaN else busca.search(x))\n",
    "mask_description_notnull = description_series_match.notnull()\n",
    "encontradas = description_series_match[mask_description_notnull].apply(lambda x: x.group(1))\n",
    "\n",
    "numcol_cat_mapper = {'planta alta': 1,'plantalata': 1}\n",
    "encontradas1 = encontradas.map(numcol_cat_mapper)"
   ]
  },
  {
   "cell_type": "code",
   "execution_count": 285,
   "metadata": {},
   "outputs": [],
   "source": [
    "data.loc[mask_description_notnull,'floor_copia']= encontradas1.astype(float)"
   ]
  },
  {
   "cell_type": "code",
   "execution_count": 286,
   "metadata": {},
   "outputs": [
    {
     "data": {
      "text/plain": [
       "True     74322\n",
       "False    46898\n",
       "Name: floor_copia, dtype: int64"
      ]
     },
     "execution_count": 286,
     "metadata": {},
     "output_type": "execute_result"
    }
   ],
   "source": [
    "data['floor_copia'].isnull().value_counts()"
   ]
  },
  {
   "cell_type": "code",
   "execution_count": 287,
   "metadata": {},
   "outputs": [],
   "source": [
    "data.loc[mask_description_notnull, ['description_copia', 'title_copia']] = \"\""
   ]
  },
  {
   "cell_type": "code",
   "execution_count": 288,
   "metadata": {},
   "outputs": [],
   "source": [
    "patron = r\"(planta[\\s]?baja)\"\n",
    "busca = re.compile(patron)\n",
    "\n",
    "description_series_match = data.description_copia.apply(lambda x:  x if x is np.NaN else busca.search(x))\n",
    "mask_description_notnull = description_series_match.notnull()\n",
    "encontradas = description_series_match[mask_description_notnull].apply(lambda x: x.group(1))\n",
    "\n",
    "numcol_cat_mapper = {'planta baja': 0,'plantabaja': 0}\n",
    "encontradas1 = encontradas.map(numcol_cat_mapper)"
   ]
  },
  {
   "cell_type": "code",
   "execution_count": 289,
   "metadata": {},
   "outputs": [],
   "source": [
    "data.loc[mask_description_notnull,'floor_copia']= encontradas1.astype(float)"
   ]
  },
  {
   "cell_type": "code",
   "execution_count": 290,
   "metadata": {},
   "outputs": [
    {
     "data": {
      "text/plain": [
       "True     68408\n",
       "False    52812\n",
       "Name: floor_copia, dtype: int64"
      ]
     },
     "execution_count": 290,
     "metadata": {},
     "output_type": "execute_result"
    }
   ],
   "source": [
    "data['floor_copia'].isnull().value_counts()"
   ]
  },
  {
   "cell_type": "code",
   "execution_count": 291,
   "metadata": {},
   "outputs": [],
   "source": [
    "data.loc[mask_description_notnull, ['description_copia', 'title_copia']] = \"\""
   ]
  },
  {
   "cell_type": "code",
   "execution_count": 292,
   "metadata": {},
   "outputs": [],
   "source": [
    "mascara = data['description_copia'] == \"\""
   ]
  },
  {
   "cell_type": "markdown",
   "metadata": {},
   "source": [
    "Ahora busco con las mismas regex pero con la columna 'title_copia'"
   ]
  },
  {
   "cell_type": "code",
   "execution_count": 293,
   "metadata": {},
   "outputs": [],
   "source": [
    "patron = r\"(planta[\\s]?baja)\"\n",
    "busca = re.compile(patron)\n",
    "\n",
    "description_series_match = data.title_copia.apply(lambda x:  x if x is np.NaN else busca.search(x))\n",
    "mask_description_notnull = description_series_match.notnull()\n",
    "encontradas = description_series_match[mask_description_notnull].apply(lambda x: x.group(1))\n",
    "\n",
    "numcol_cat_mapper = {'planta baja': 0,'plantabaja': 0}\n",
    "encontradas1 = encontradas.map(numcol_cat_mapper)"
   ]
  },
  {
   "cell_type": "code",
   "execution_count": 294,
   "metadata": {},
   "outputs": [],
   "source": [
    "data.loc[mask_description_notnull,'floor_copia']= encontradas1.astype(float)"
   ]
  },
  {
   "cell_type": "code",
   "execution_count": 295,
   "metadata": {},
   "outputs": [
    {
     "data": {
      "text/plain": [
       "True     68306\n",
       "False    52914\n",
       "Name: floor_copia, dtype: int64"
      ]
     },
     "execution_count": 295,
     "metadata": {},
     "output_type": "execute_result"
    }
   ],
   "source": [
    "data['floor_copia'].isnull().value_counts()"
   ]
  },
  {
   "cell_type": "code",
   "execution_count": 296,
   "metadata": {},
   "outputs": [],
   "source": [
    "data.loc[mask_description_notnull, ['description_copia', 'title_copia']] = \"\""
   ]
  },
  {
   "cell_type": "code",
   "execution_count": 297,
   "metadata": {},
   "outputs": [],
   "source": [
    "patron = r\"(una|dos|tres|cuatro|cinco|seis|siete|ocho|nueve|diez|once|doce|trece|catorce|quince|dieciseis|diecisiete|dieciocho|diecinueve|veinte)[\\s]?[sola]?[\\s]?planta[s]?\"\n",
    "busca = re.compile(patron)\n",
    "\n",
    "description_series_match = data.title_copia.apply(lambda x:  x if x is np.NaN else busca.search(x))\n",
    "mask_description_notnull = description_series_match.notnull()\n",
    "encontradas = description_series_match[mask_description_notnull].apply(lambda x: x.group(1))\n",
    "\n",
    "num_pisos_mapper = {'una': 0,'dos':2, 'tres': 3, 'cuatro': 4, 'cinco': 5, 'seis': 6, \\\n",
    "                    'siete':7, 'ocho': 8, 'nueve': 9, 'diez': 10, \\\n",
    "                    'once': 11, 'doce': 12, 'trece': 13, 'catorce': 14, 'quice': 15, 'dieciseis': 16, \\\n",
    "                    'diecisiete': 17, 'dieciocho': 18, 'diecinueve': 19,\\\n",
    "                    'veinte': 20}\n",
    "encontradas1 = encontradas.map(num_pisos_mapper)"
   ]
  },
  {
   "cell_type": "code",
   "execution_count": 298,
   "metadata": {},
   "outputs": [],
   "source": [
    "data.loc[mask_description_notnull,'floor_copia']= encontradas1.astype(float)"
   ]
  },
  {
   "cell_type": "code",
   "execution_count": 299,
   "metadata": {},
   "outputs": [
    {
     "data": {
      "text/plain": [
       "True     68229\n",
       "False    52991\n",
       "Name: floor_copia, dtype: int64"
      ]
     },
     "execution_count": 299,
     "metadata": {},
     "output_type": "execute_result"
    }
   ],
   "source": [
    "data['floor_copia'].isnull().value_counts()"
   ]
  },
  {
   "cell_type": "code",
   "execution_count": 300,
   "metadata": {},
   "outputs": [],
   "source": [
    "data.loc[mask_description_notnull, ['description_copia', 'title_copia']] = \"\""
   ]
  },
  {
   "cell_type": "code",
   "execution_count": 301,
   "metadata": {},
   "outputs": [],
   "source": [
    "patron = r\"(un|dos|tres|cuatro|cinco|seis|siete|ocho|nueve|diez|once|doce|trece|catorce|quince|dieciseis|diecisiete|dieciocho|diecinueve|veinte)[\\s]?piso[\\s]\"\n",
    "busca = re.compile(patron)\n",
    "\n",
    "description_series_match = data.title_copia.apply(lambda x:  x if x is np.NaN else busca.search(x))\n",
    "mask_description_notnull = description_series_match.notnull()\n",
    "encontradas = description_series_match[mask_description_notnull].apply(lambda x: x.group(1))\n",
    "\n",
    "num_pisos_mapper = {'un': 1,'dos':2, 'tres': 3, 'cuatro': 4, 'cinco': 5, 'seis': 6, \\\n",
    "                    'siete':7, 'ocho': 8, 'nueve': 9, 'diez': 10, \\\n",
    "                    'once': 11, 'doce': 12, 'trece': 13, 'catorce': 14, 'quice': 15, 'dieciseis': 16, \\\n",
    "                    'diecisiete': 17, 'dieciocho': 18, 'diecinueve': 19,\\\n",
    "                    'veinte': 20}\n",
    "encontradas1 = encontradas.map(num_pisos_mapper)"
   ]
  },
  {
   "cell_type": "code",
   "execution_count": 302,
   "metadata": {},
   "outputs": [],
   "source": [
    "data.loc[mask_description_notnull,'floor_copia']= encontradas1.astype(float)"
   ]
  },
  {
   "cell_type": "code",
   "execution_count": 303,
   "metadata": {},
   "outputs": [
    {
     "data": {
      "text/plain": [
       "True     68227\n",
       "False    52993\n",
       "Name: floor_copia, dtype: int64"
      ]
     },
     "execution_count": 303,
     "metadata": {},
     "output_type": "execute_result"
    }
   ],
   "source": [
    "data['floor_copia'].isnull().value_counts()"
   ]
  },
  {
   "cell_type": "code",
   "execution_count": 304,
   "metadata": {},
   "outputs": [],
   "source": [
    "patron = r\"(primer|segundo|tercer|cuarto|quinto|sexto|s[e|é]ptimo|octavo|noveno|d[e|é]cimo|d[e|é]cimo[\\s]?primer|d[e|é]cimo[\\s]?segundo|d[e|é]cimo[\\s]?tercer|d[e|é]cimo[\\s]?cuarto|d[e|é]cimo[\\s]?quinto|d[e|é]cimo[\\s]?sexto|d[e|é]cimo[\\s]?s[e|é]ptimo|d[e|é]cimo[\\s]?octavo|d[e|é]cimo[\\s]?noveno|vig[e|é]simo)[\\s]?piso\"\n",
    "busca = re.compile(patron)\n",
    "\n",
    "description_series_match = data.title_copia.apply(lambda x:  x if x is np.NaN else busca.search(x))\n",
    "mask_description_notnull = description_series_match.notnull()\n",
    "encontradas = description_series_match[mask_description_notnull].apply(lambda x: x.group(1))\n",
    "\n",
    "num_pisos_mapper = {'primer': 1,'segundo':2, 'tercer': 3, 'cuarto': 4, 'quinto': 5, 'sexto': 6, \\\n",
    "                    'septimo':7, 'séptimo':7, 'octavo': 8, 'noveno': 9, 'decimo': 10, 'décimo': 10, \\\n",
    "                    'decimo primer': 11, 'décimo primer': 11, 'décimoprimer': 11, 'decimoprimer': 11, \\\n",
    "                    'decimo segundo': 12,  'décimo segundo': 12, 'décimosegundo': 12, 'decimosegundo': 12, \\\n",
    "                    'decimo tercer': 13, 'decimotercer': 13,  'décimo tercer': 13, 'décimotercer': 13, \\\n",
    "                    'decimocuarto': 14, 'decimo cuarto': 14, 'décimocuarto': 14, 'décimo cuarto': 14,\\\n",
    "                    'decimoquinto': 15, 'decimo quinto': 15, 'décimoquinto': 15, 'décimo quinto': 15,\n",
    "                    'décimo sexto': 16,  'decimosexto': 16, 'décimosexto': 16,  'decimo sexto': 16,\\\n",
    "                    'decimoseptimo': 17, 'decimo septimo': 17, 'decimoséptimo': 17, 'decimo séptimo': 17,\\\n",
    "                    'decimooctavo': 18, 'decimo octavo': 18, 'décimooctavo': 18, 'décimo octavo': 18,\\\n",
    "                    'decimonoveno': 19, 'decimo noveno': 19, 'décimonoveno': 19, 'décimo noveno': 19, \\\n",
    "                    'vigesimo': 20, 'vigésimo': 20}\n",
    "encontradas1 = encontradas.map(num_pisos_mapper)"
   ]
  },
  {
   "cell_type": "code",
   "execution_count": 305,
   "metadata": {},
   "outputs": [],
   "source": [
    "data.loc[mask_description_notnull,'floor_copia']= encontradas1.astype(float)"
   ]
  },
  {
   "cell_type": "code",
   "execution_count": 306,
   "metadata": {},
   "outputs": [
    {
     "data": {
      "text/plain": [
       "True     68187\n",
       "False    53033\n",
       "Name: floor_copia, dtype: int64"
      ]
     },
     "execution_count": 306,
     "metadata": {},
     "output_type": "execute_result"
    }
   ],
   "source": [
    "data['floor_copia'].isnull().value_counts()"
   ]
  },
  {
   "cell_type": "code",
   "execution_count": 307,
   "metadata": {},
   "outputs": [],
   "source": [
    "data.loc[mask_description_notnull, ['description_copia', 'title_copia']] = \"\""
   ]
  },
  {
   "cell_type": "code",
   "execution_count": 308,
   "metadata": {},
   "outputs": [],
   "source": [
    "patron = r\"(duplex|triplex)\"\n",
    "busca = re.compile(patron)\n",
    "\n",
    "description_series_match = data.title_copia.apply(lambda x:  x if x is np.NaN else busca.search(x))\n",
    "mask_description_notnull = description_series_match.notnull()\n",
    "encontradas = description_series_match[mask_description_notnull].apply(lambda x: x.group(1))\n",
    "\n",
    "numcol_cat_mapper = {'duplex': 2,'triplex': 3}\n",
    "encontradas1 = encontradas.map(numcol_cat_mapper)"
   ]
  },
  {
   "cell_type": "code",
   "execution_count": 309,
   "metadata": {},
   "outputs": [],
   "source": [
    "data.loc[mask_description_notnull,'floor_copia']= encontradas1.astype(float)"
   ]
  },
  {
   "cell_type": "code",
   "execution_count": 310,
   "metadata": {},
   "outputs": [
    {
     "data": {
      "text/plain": [
       "True     67932\n",
       "False    53288\n",
       "Name: floor_copia, dtype: int64"
      ]
     },
     "execution_count": 310,
     "metadata": {},
     "output_type": "execute_result"
    }
   ],
   "source": [
    "data['floor_copia'].isnull().value_counts()"
   ]
  },
  {
   "cell_type": "code",
   "execution_count": 311,
   "metadata": {},
   "outputs": [],
   "source": [
    "data.loc[mask_description_notnull, ['description_copia', 'title_copia']] = \"\""
   ]
  },
  {
   "cell_type": "code",
   "execution_count": 312,
   "metadata": {},
   "outputs": [],
   "source": [
    "patron = \"\\s(?P<numero>\\d[\\d]?)\\s*\\w{0,5}\\s*piso\"\n",
    "busca = re.compile(patron)\n",
    "\n",
    "description_series_match = data.title_copia.apply(lambda x:  x if x is np.NaN else busca.search(x))\n",
    "\n",
    "mask_description_notnull = description_series_match.notnull()\n",
    "data.loc[mask_description_notnull,'floor_copia'] = description_series_match[mask_description_notnull].apply(lambda x: x.group('numero')).astype(float)"
   ]
  },
  {
   "cell_type": "code",
   "execution_count": 313,
   "metadata": {},
   "outputs": [
    {
     "data": {
      "text/plain": [
       "True     67789\n",
       "False    53431\n",
       "Name: floor_copia, dtype: int64"
      ]
     },
     "execution_count": 313,
     "metadata": {},
     "output_type": "execute_result"
    }
   ],
   "source": [
    "data['floor_copia'].isnull().value_counts()"
   ]
  },
  {
   "cell_type": "code",
   "execution_count": 314,
   "metadata": {},
   "outputs": [],
   "source": [
    "data.loc[mask_description_notnull, ['description_copia', 'title_copia']] = \"\""
   ]
  },
  {
   "cell_type": "code",
   "execution_count": 315,
   "metadata": {},
   "outputs": [],
   "source": [
    "patron = \"\\s(?P<numero>\\d[\\d]?)[\\s]?[º|°]?\\s*piso\"\n",
    "busca = re.compile(patron)\n",
    "\n",
    "description_series_match = data.title_copia.apply(lambda x:  x if x is np.NaN else busca.search(x))\n",
    "\n",
    "mask_description_notnull = description_series_match.notnull()\n",
    "data.loc[mask_description_notnull,'floor_copia'] = description_series_match[mask_description_notnull].apply(lambda x: x.group('numero')).astype(float)"
   ]
  },
  {
   "cell_type": "code",
   "execution_count": 316,
   "metadata": {},
   "outputs": [
    {
     "data": {
      "text/plain": [
       "True     67747\n",
       "False    53473\n",
       "Name: floor_copia, dtype: int64"
      ]
     },
     "execution_count": 316,
     "metadata": {},
     "output_type": "execute_result"
    }
   ],
   "source": [
    "data['floor_copia'].isnull().value_counts()"
   ]
  },
  {
   "cell_type": "code",
   "execution_count": 317,
   "metadata": {},
   "outputs": [],
   "source": [
    "data.loc[mask_description_notnull, ['description_copia', 'title_copia']] = \"\""
   ]
  },
  {
   "cell_type": "code",
   "execution_count": 318,
   "metadata": {},
   "outputs": [],
   "source": [
    "patron = \"piso[\\s]?(?P<numero>\\d[\\d]?)\"\n",
    "\n",
    "busca = re.compile(patron)\n",
    "\n",
    "description_series_match = data.title_copia.apply(lambda x:  x if x is np.NaN else busca.search(x))\n",
    "\n",
    "mask_description_notnull = description_series_match.notnull()\n",
    "data.loc[mask_description_notnull,'floor_copia'] = description_series_match[mask_description_notnull].apply(lambda x: x.group('numero')).astype(float)"
   ]
  },
  {
   "cell_type": "code",
   "execution_count": 319,
   "metadata": {},
   "outputs": [
    {
     "data": {
      "text/plain": [
       "True     67478\n",
       "False    53742\n",
       "Name: floor_copia, dtype: int64"
      ]
     },
     "execution_count": 319,
     "metadata": {},
     "output_type": "execute_result"
    }
   ],
   "source": [
    "data['floor_copia'].isnull().value_counts()"
   ]
  },
  {
   "cell_type": "code",
   "execution_count": 320,
   "metadata": {},
   "outputs": [],
   "source": [
    "data.loc[mask_description_notnull, ['description_copia', 'title_copia']] = \"\""
   ]
  },
  {
   "cell_type": "code",
   "execution_count": 321,
   "metadata": {},
   "outputs": [],
   "source": [
    "patron = \"\\spiso:[\\s]?(?P<numero>\\d[\\d]?)\"\n",
    "busca = re.compile(patron)\n",
    "\n",
    "description_series_match = data.title_copia.apply(lambda x:  x if x is np.NaN else busca.search(x))\n",
    "\n",
    "mask_description_notnull = description_series_match.notnull()\n",
    "data.loc[mask_description_notnull,'floor_copia'] = description_series_match[mask_description_notnull].apply(lambda x: x.group('numero')).astype(float)"
   ]
  },
  {
   "cell_type": "code",
   "execution_count": 322,
   "metadata": {},
   "outputs": [
    {
     "data": {
      "text/plain": [
       "True     67478\n",
       "False    53742\n",
       "Name: floor_copia, dtype: int64"
      ]
     },
     "execution_count": 322,
     "metadata": {},
     "output_type": "execute_result"
    }
   ],
   "source": [
    "data['floor_copia'].isnull().value_counts()"
   ]
  },
  {
   "cell_type": "code",
   "execution_count": 323,
   "metadata": {},
   "outputs": [
    {
     "data": {
      "text/html": [
       "<div>\n",
       "<style scoped>\n",
       "    .dataframe tbody tr th:only-of-type {\n",
       "        vertical-align: middle;\n",
       "    }\n",
       "\n",
       "    .dataframe tbody tr th {\n",
       "        vertical-align: top;\n",
       "    }\n",
       "\n",
       "    .dataframe thead th {\n",
       "        text-align: right;\n",
       "    }\n",
       "</style>\n",
       "<table border=\"1\" class=\"dataframe\">\n",
       "  <thead>\n",
       "    <tr style=\"text-align: right;\">\n",
       "      <th></th>\n",
       "      <th>Unnamed: 0</th>\n",
       "      <th>operation</th>\n",
       "      <th>property_type</th>\n",
       "      <th>place_name</th>\n",
       "      <th>place_with_parent_names</th>\n",
       "      <th>country_name</th>\n",
       "      <th>state_name</th>\n",
       "      <th>geonames_id</th>\n",
       "      <th>lat-lon</th>\n",
       "      <th>lat</th>\n",
       "      <th>...</th>\n",
       "      <th>expenses_bool</th>\n",
       "      <th>expenses_nuevo</th>\n",
       "      <th>geonames_id_nuevo</th>\n",
       "      <th>lat-lon_nuevo</th>\n",
       "      <th>lat_nuevo</th>\n",
       "      <th>lon_nuevo</th>\n",
       "      <th>floor_copia</th>\n",
       "      <th>property_type_copia</th>\n",
       "      <th>description_copia</th>\n",
       "      <th>title_copia</th>\n",
       "    </tr>\n",
       "  </thead>\n",
       "  <tbody>\n",
       "    <tr>\n",
       "      <th>4</th>\n",
       "      <td>4</td>\n",
       "      <td>sell</td>\n",
       "      <td>apartment</td>\n",
       "      <td>Centro</td>\n",
       "      <td>|Argentina|Buenos Aires Costa Atlántica|Mar de...</td>\n",
       "      <td>Argentina</td>\n",
       "      <td>Buenos Aires Costa Atlántica</td>\n",
       "      <td>3435548.0</td>\n",
       "      <td>-38.0026256,-57.5494468</td>\n",
       "      <td>-38.002626</td>\n",
       "      <td>...</td>\n",
       "      <td>SI</td>\n",
       "      <td>3301.497719</td>\n",
       "      <td>3435548.0</td>\n",
       "      <td>-38.0026256,-57.5494468</td>\n",
       "      <td>-38.002626</td>\n",
       "      <td>-57.549447</td>\n",
       "      <td>NaN</td>\n",
       "      <td>apartment</td>\n",
       "      <td>departamento con fantástica iluminación natura...</td>\n",
       "      <td>depto 2 amb al contrafrente zona centro/plaza ...</td>\n",
       "    </tr>\n",
       "    <tr>\n",
       "      <th>5</th>\n",
       "      <td>5</td>\n",
       "      <td>sell</td>\n",
       "      <td>house</td>\n",
       "      <td>Gualeguaychú</td>\n",
       "      <td>|Argentina|Entre Ríos|Gualeguaychú|</td>\n",
       "      <td>Argentina</td>\n",
       "      <td>Entre Ríos</td>\n",
       "      <td>3433657.0</td>\n",
       "      <td>-33.0140714,-58.519828</td>\n",
       "      <td>-33.014071</td>\n",
       "      <td>...</td>\n",
       "      <td>NO</td>\n",
       "      <td>0.000000</td>\n",
       "      <td>3433657.0</td>\n",
       "      <td>-33.0140714,-58.519828</td>\n",
       "      <td>-33.014071</td>\n",
       "      <td>-58.519828</td>\n",
       "      <td>NaN</td>\n",
       "      <td>house</td>\n",
       "      <td>casa en el perímetro del barrio 338, ubicada e...</td>\n",
       "      <td>casa barrio 338. sobre calle 3 de caballería, ...</td>\n",
       "    </tr>\n",
       "    <tr>\n",
       "      <th>7</th>\n",
       "      <td>7</td>\n",
       "      <td>sell</td>\n",
       "      <td>apartment</td>\n",
       "      <td>Belgrano</td>\n",
       "      <td>|Argentina|Capital Federal|Belgrano|</td>\n",
       "      <td>Argentina</td>\n",
       "      <td>Capital Federal</td>\n",
       "      <td>3436077.0</td>\n",
       "      <td>-34.5598729,-58.443362</td>\n",
       "      <td>-34.559873</td>\n",
       "      <td>...</td>\n",
       "      <td>SI</td>\n",
       "      <td>1982.219551</td>\n",
       "      <td>3436077.0</td>\n",
       "      <td>-34.5598729,-58.443362</td>\n",
       "      <td>-34.559873</td>\n",
       "      <td>-58.443362</td>\n",
       "      <td>NaN</td>\n",
       "      <td>apartment</td>\n",
       "      <td>excelente monoambiente a estrenar amplio super...</td>\n",
       "      <td>jose hernandez 1400 monoambiente  estrenar cat...</td>\n",
       "    </tr>\n",
       "    <tr>\n",
       "      <th>8</th>\n",
       "      <td>8</td>\n",
       "      <td>sell</td>\n",
       "      <td>apartment</td>\n",
       "      <td>Belgrano</td>\n",
       "      <td>|Argentina|Capital Federal|Belgrano|</td>\n",
       "      <td>Argentina</td>\n",
       "      <td>Capital Federal</td>\n",
       "      <td>3436077.0</td>\n",
       "      <td>-34.5598729,-58.443362</td>\n",
       "      <td>-34.559873</td>\n",
       "      <td>...</td>\n",
       "      <td>SI</td>\n",
       "      <td>3301.497719</td>\n",
       "      <td>3436077.0</td>\n",
       "      <td>-34.5598729,-58.443362</td>\n",
       "      <td>-34.559873</td>\n",
       "      <td>-58.443362</td>\n",
       "      <td>NaN</td>\n",
       "      <td>apartment</td>\n",
       "      <td>excelente dos ambientes  estrenar amplio super...</td>\n",
       "      <td>jose hernandez   1400 dos ambientes estrenar ,...</td>\n",
       "    </tr>\n",
       "    <tr>\n",
       "      <th>10</th>\n",
       "      <td>10</td>\n",
       "      <td>sell</td>\n",
       "      <td>house</td>\n",
       "      <td>Córdoba</td>\n",
       "      <td>|Argentina|Córdoba|Córdoba|</td>\n",
       "      <td>Argentina</td>\n",
       "      <td>Córdoba</td>\n",
       "      <td>3860259.0</td>\n",
       "      <td>-31.4200833,-64.1887761</td>\n",
       "      <td>-31.420083</td>\n",
       "      <td>...</td>\n",
       "      <td>NO</td>\n",
       "      <td>0.000000</td>\n",
       "      <td>3860259.0</td>\n",
       "      <td>-31.4200833,-64.1887761</td>\n",
       "      <td>-31.420083</td>\n",
       "      <td>-64.188776</td>\n",
       "      <td>NaN</td>\n",
       "      <td>house</td>\n",
       "      <td>hermosa casa sin terminar de 3 dormitorios, ba...</td>\n",
       "      <td>casa sin terminar en falda de cañete.         ...</td>\n",
       "    </tr>\n",
       "    <tr>\n",
       "      <th>...</th>\n",
       "      <td>...</td>\n",
       "      <td>...</td>\n",
       "      <td>...</td>\n",
       "      <td>...</td>\n",
       "      <td>...</td>\n",
       "      <td>...</td>\n",
       "      <td>...</td>\n",
       "      <td>...</td>\n",
       "      <td>...</td>\n",
       "      <td>...</td>\n",
       "      <td>...</td>\n",
       "      <td>...</td>\n",
       "      <td>...</td>\n",
       "      <td>...</td>\n",
       "      <td>...</td>\n",
       "      <td>...</td>\n",
       "      <td>...</td>\n",
       "      <td>...</td>\n",
       "      <td>...</td>\n",
       "      <td>...</td>\n",
       "      <td>...</td>\n",
       "    </tr>\n",
       "    <tr>\n",
       "      <th>121214</th>\n",
       "      <td>121214</td>\n",
       "      <td>sell</td>\n",
       "      <td>store</td>\n",
       "      <td>San Isidro</td>\n",
       "      <td>|Argentina|Bs.As. G.B.A. Zona Norte|San Isidro|</td>\n",
       "      <td>Argentina</td>\n",
       "      <td>Bs.As. G.B.A. Zona Norte</td>\n",
       "      <td>3428983.0</td>\n",
       "      <td>NaN</td>\n",
       "      <td>NaN</td>\n",
       "      <td>...</td>\n",
       "      <td>SI</td>\n",
       "      <td>1982.219551</td>\n",
       "      <td>3428983.0</td>\n",
       "      <td>-34.478067, -58.536362</td>\n",
       "      <td>-34.478067</td>\n",
       "      <td>-58.536362</td>\n",
       "      <td>NaN</td>\n",
       "      <td>store</td>\n",
       "      <td>***venta con renta***local en edificio lomas ...</td>\n",
       "      <td>local - san isidro</td>\n",
       "    </tr>\n",
       "    <tr>\n",
       "      <th>121215</th>\n",
       "      <td>121215</td>\n",
       "      <td>sell</td>\n",
       "      <td>apartment</td>\n",
       "      <td>Belgrano</td>\n",
       "      <td>|Argentina|Capital Federal|Belgrano|</td>\n",
       "      <td>Argentina</td>\n",
       "      <td>Capital Federal</td>\n",
       "      <td>3436077.0</td>\n",
       "      <td>NaN</td>\n",
       "      <td>NaN</td>\n",
       "      <td>...</td>\n",
       "      <td>SI</td>\n",
       "      <td>10000.000000</td>\n",
       "      <td>3436077.0</td>\n",
       "      <td>-34.563541, -58.453904</td>\n",
       "      <td>-34.563541</td>\n",
       "      <td>-58.453904</td>\n",
       "      <td>NaN</td>\n",
       "      <td>apartment</td>\n",
       "      <td>torre forum alcorta - máxima categoría.impecab...</td>\n",
       "      <td>torre forum alcorta- impecable 3 ambientes</td>\n",
       "    </tr>\n",
       "    <tr>\n",
       "      <th>121216</th>\n",
       "      <td>121216</td>\n",
       "      <td>sell</td>\n",
       "      <td>house</td>\n",
       "      <td>Beccar</td>\n",
       "      <td>|Argentina|Bs.As. G.B.A. Zona Norte|San Isidro...</td>\n",
       "      <td>Argentina</td>\n",
       "      <td>Bs.As. G.B.A. Zona Norte</td>\n",
       "      <td>3436080.0</td>\n",
       "      <td>NaN</td>\n",
       "      <td>NaN</td>\n",
       "      <td>...</td>\n",
       "      <td>NO</td>\n",
       "      <td>0.000000</td>\n",
       "      <td>3436080.0</td>\n",
       "      <td>NaN</td>\n",
       "      <td>NaN</td>\n",
       "      <td>NaN</td>\n",
       "      <td>NaN</td>\n",
       "      <td>house</td>\n",
       "      <td>excelente e impecable casa en venta en las lom...</td>\n",
       "      <td>ruca inmuebles | venta | lomas de san isidro |...</td>\n",
       "    </tr>\n",
       "    <tr>\n",
       "      <th>121217</th>\n",
       "      <td>121217</td>\n",
       "      <td>sell</td>\n",
       "      <td>apartment</td>\n",
       "      <td>Villa Urquiza</td>\n",
       "      <td>|Argentina|Capital Federal|Villa Urquiza|</td>\n",
       "      <td>Argentina</td>\n",
       "      <td>Capital Federal</td>\n",
       "      <td>3433775.0</td>\n",
       "      <td>-34.5706388726,-58.4755963355</td>\n",
       "      <td>-34.570639</td>\n",
       "      <td>...</td>\n",
       "      <td>SI</td>\n",
       "      <td>1982.219551</td>\n",
       "      <td>3433775.0</td>\n",
       "      <td>-34.5706388726,-58.4755963355</td>\n",
       "      <td>-34.570639</td>\n",
       "      <td>-58.475596</td>\n",
       "      <td>NaN</td>\n",
       "      <td>apartment</td>\n",
       "      <td>venta departamento ambiente divisible a estren...</td>\n",
       "      <td>venta departamento ambiente divisible a estren...</td>\n",
       "    </tr>\n",
       "    <tr>\n",
       "      <th>121219</th>\n",
       "      <td>121219</td>\n",
       "      <td>sell</td>\n",
       "      <td>apartment</td>\n",
       "      <td>Capital Federal</td>\n",
       "      <td>|Argentina|Capital Federal|</td>\n",
       "      <td>Argentina</td>\n",
       "      <td>Capital Federal</td>\n",
       "      <td>3433955.0</td>\n",
       "      <td>NaN</td>\n",
       "      <td>NaN</td>\n",
       "      <td>...</td>\n",
       "      <td>SI</td>\n",
       "      <td>3500.000000</td>\n",
       "      <td>3433955.0</td>\n",
       "      <td>-34.626709, -58.435882</td>\n",
       "      <td>-34.626709</td>\n",
       "      <td>-58.435882</td>\n",
       "      <td>NaN</td>\n",
       "      <td>apartment</td>\n",
       "      <td>departamento de 77 m2 apto profesional. edific...</td>\n",
       "      <td>departamento apto profesional en el centro</td>\n",
       "    </tr>\n",
       "  </tbody>\n",
       "</table>\n",
       "<p>72396 rows × 40 columns</p>\n",
       "</div>"
      ],
      "text/plain": [
       "        Unnamed: 0 operation property_type       place_name  \\\n",
       "4                4      sell     apartment           Centro   \n",
       "5                5      sell         house     Gualeguaychú   \n",
       "7                7      sell     apartment         Belgrano   \n",
       "8                8      sell     apartment         Belgrano   \n",
       "10              10      sell         house          Córdoba   \n",
       "...            ...       ...           ...              ...   \n",
       "121214      121214      sell         store       San Isidro   \n",
       "121215      121215      sell     apartment         Belgrano   \n",
       "121216      121216      sell         house           Beccar   \n",
       "121217      121217      sell     apartment    Villa Urquiza   \n",
       "121219      121219      sell     apartment  Capital Federal   \n",
       "\n",
       "                                  place_with_parent_names country_name  \\\n",
       "4       |Argentina|Buenos Aires Costa Atlántica|Mar de...    Argentina   \n",
       "5                     |Argentina|Entre Ríos|Gualeguaychú|    Argentina   \n",
       "7                    |Argentina|Capital Federal|Belgrano|    Argentina   \n",
       "8                    |Argentina|Capital Federal|Belgrano|    Argentina   \n",
       "10                            |Argentina|Córdoba|Córdoba|    Argentina   \n",
       "...                                                   ...          ...   \n",
       "121214    |Argentina|Bs.As. G.B.A. Zona Norte|San Isidro|    Argentina   \n",
       "121215               |Argentina|Capital Federal|Belgrano|    Argentina   \n",
       "121216  |Argentina|Bs.As. G.B.A. Zona Norte|San Isidro...    Argentina   \n",
       "121217          |Argentina|Capital Federal|Villa Urquiza|    Argentina   \n",
       "121219                        |Argentina|Capital Federal|    Argentina   \n",
       "\n",
       "                          state_name  geonames_id  \\\n",
       "4       Buenos Aires Costa Atlántica    3435548.0   \n",
       "5                         Entre Ríos    3433657.0   \n",
       "7                    Capital Federal    3436077.0   \n",
       "8                    Capital Federal    3436077.0   \n",
       "10                           Córdoba    3860259.0   \n",
       "...                              ...          ...   \n",
       "121214      Bs.As. G.B.A. Zona Norte    3428983.0   \n",
       "121215               Capital Federal    3436077.0   \n",
       "121216      Bs.As. G.B.A. Zona Norte    3436080.0   \n",
       "121217               Capital Federal    3433775.0   \n",
       "121219               Capital Federal    3433955.0   \n",
       "\n",
       "                              lat-lon        lat  ...  expenses_bool  \\\n",
       "4             -38.0026256,-57.5494468 -38.002626  ...             SI   \n",
       "5              -33.0140714,-58.519828 -33.014071  ...             NO   \n",
       "7              -34.5598729,-58.443362 -34.559873  ...             SI   \n",
       "8              -34.5598729,-58.443362 -34.559873  ...             SI   \n",
       "10            -31.4200833,-64.1887761 -31.420083  ...             NO   \n",
       "...                               ...        ...  ...            ...   \n",
       "121214                            NaN        NaN  ...             SI   \n",
       "121215                            NaN        NaN  ...             SI   \n",
       "121216                            NaN        NaN  ...             NO   \n",
       "121217  -34.5706388726,-58.4755963355 -34.570639  ...             SI   \n",
       "121219                            NaN        NaN  ...             SI   \n",
       "\n",
       "        expenses_nuevo geonames_id_nuevo                  lat-lon_nuevo  \\\n",
       "4          3301.497719         3435548.0        -38.0026256,-57.5494468   \n",
       "5             0.000000         3433657.0         -33.0140714,-58.519828   \n",
       "7          1982.219551         3436077.0         -34.5598729,-58.443362   \n",
       "8          3301.497719         3436077.0         -34.5598729,-58.443362   \n",
       "10            0.000000         3860259.0        -31.4200833,-64.1887761   \n",
       "...                ...               ...                            ...   \n",
       "121214     1982.219551         3428983.0         -34.478067, -58.536362   \n",
       "121215    10000.000000         3436077.0         -34.563541, -58.453904   \n",
       "121216        0.000000         3436080.0                            NaN   \n",
       "121217     1982.219551         3433775.0  -34.5706388726,-58.4755963355   \n",
       "121219     3500.000000         3433955.0         -34.626709, -58.435882   \n",
       "\n",
       "        lat_nuevo  lon_nuevo  floor_copia  property_type_copia  \\\n",
       "4      -38.002626 -57.549447          NaN            apartment   \n",
       "5      -33.014071 -58.519828          NaN                house   \n",
       "7      -34.559873 -58.443362          NaN            apartment   \n",
       "8      -34.559873 -58.443362          NaN            apartment   \n",
       "10     -31.420083 -64.188776          NaN                house   \n",
       "...           ...        ...          ...                  ...   \n",
       "121214 -34.478067 -58.536362          NaN                store   \n",
       "121215 -34.563541 -58.453904          NaN            apartment   \n",
       "121216        NaN        NaN          NaN                house   \n",
       "121217 -34.570639 -58.475596          NaN            apartment   \n",
       "121219 -34.626709 -58.435882          NaN            apartment   \n",
       "\n",
       "                                        description_copia  \\\n",
       "4       departamento con fantástica iluminación natura...   \n",
       "5       casa en el perímetro del barrio 338, ubicada e...   \n",
       "7       excelente monoambiente a estrenar amplio super...   \n",
       "8       excelente dos ambientes  estrenar amplio super...   \n",
       "10      hermosa casa sin terminar de 3 dormitorios, ba...   \n",
       "...                                                   ...   \n",
       "121214   ***venta con renta***local en edificio lomas ...   \n",
       "121215  torre forum alcorta - máxima categoría.impecab...   \n",
       "121216  excelente e impecable casa en venta en las lom...   \n",
       "121217  venta departamento ambiente divisible a estren...   \n",
       "121219  departamento de 77 m2 apto profesional. edific...   \n",
       "\n",
       "                                              title_copia  \n",
       "4       depto 2 amb al contrafrente zona centro/plaza ...  \n",
       "5       casa barrio 338. sobre calle 3 de caballería, ...  \n",
       "7       jose hernandez 1400 monoambiente  estrenar cat...  \n",
       "8       jose hernandez   1400 dos ambientes estrenar ,...  \n",
       "10      casa sin terminar en falda de cañete.         ...  \n",
       "...                                                   ...  \n",
       "121214                                 local - san isidro  \n",
       "121215         torre forum alcorta- impecable 3 ambientes  \n",
       "121216  ruca inmuebles | venta | lomas de san isidro |...  \n",
       "121217  venta departamento ambiente divisible a estren...  \n",
       "121219         departamento apto profesional en el centro  \n",
       "\n",
       "[72396 rows x 40 columns]"
      ]
     },
     "execution_count": 323,
     "metadata": {},
     "output_type": "execute_result"
    }
   ],
   "source": [
    "data.loc[data.title_copia!= \"\"]"
   ]
  },
  {
   "cell_type": "code",
   "execution_count": 324,
   "metadata": {},
   "outputs": [
    {
     "data": {
      "text/plain": [
       "'venta departamento ambiente divisible a estrenar balcon amenities.entrega inmediata* departamento: excelente monoambiente de (43,00m2) divisible, con importante placard - baño completo - balcón corrido, cocina integrada con equipamiento completo y herrajes de acero inoxidable, grifería fv, cocina con horno, termotanque eléctrico, servicios individuales, preinstalación aire acondicionado frío-calor, conexión lavarropas y lavavajillas.* edificio: moderno edificio, amenities - laundry - parrillas y solarium - terraza de uso común - grupo electrógeno.* cocheras disponibles desde usd 20.000* barrio: nuevo corredor urbano de 13 manzanas - holmberg/donado - área parquizada  - bicisendas  - zona de importantes embajadas - rodeado de espacios verdes.* medios de transporte: siete cuadras del subte b - próximo a uba( drago), colegio san patrick, estaciones drago y coglhan.si tenes que vender para comprar // somos especialistas en operaciones simultaneas// comunicate con nosotros para asesorarte. // las medidas, superficies y valores de esta ficha son aproximadas y a título informativo únicamente.triada propiedades oficina central: 4 788 2600direccion: juramento 1304, cabaweb: '"
      ]
     },
     "execution_count": 324,
     "metadata": {},
     "output_type": "execute_result"
    }
   ],
   "source": [
    "data.loc[121217, 'description_copia']"
   ]
  },
  {
   "cell_type": "code",
   "execution_count": 325,
   "metadata": {},
   "outputs": [],
   "source": [
    "patron = r\"(casa[s]?|chalet|quinta[s]?|cabaña[s]?|pb)\"\n",
    "busca = re.compile(patron)\n",
    "\n",
    "description_series_match = data.title_copia.apply(lambda x:  x if x is np.NaN else busca.search(x))\n",
    "mask_description_notnull = description_series_match.notnull()\n",
    "encontradas = description_series_match[mask_description_notnull].apply(lambda x: x.group(1))\n",
    "\n",
    "num_pisos_mapper = {'casa': 0,'casas':0, 'chalet': 0, 'quinta': 0, 'quintas': 0, 'cabaña': 0, \\\n",
    "                    'cabañas':0, 'pb': 0 }\n",
    "encontradas1 = encontradas.map(num_pisos_mapper)"
   ]
  },
  {
   "cell_type": "code",
   "execution_count": 326,
   "metadata": {},
   "outputs": [],
   "source": [
    "data.loc[mask_description_notnull,'floor_copia']= encontradas1.astype(float)"
   ]
  },
  {
   "cell_type": "code",
   "execution_count": 327,
   "metadata": {},
   "outputs": [
    {
     "data": {
      "text/plain": [
       "False    72785\n",
       "True     48435\n",
       "Name: floor_copia, dtype: int64"
      ]
     },
     "execution_count": 327,
     "metadata": {},
     "output_type": "execute_result"
    }
   ],
   "source": [
    "data['floor_copia'].isnull().value_counts()"
   ]
  },
  {
   "cell_type": "code",
   "execution_count": 328,
   "metadata": {},
   "outputs": [],
   "source": [
    "data.loc[mask_description_notnull, ['description_copia', 'title_copia']] = \"\""
   ]
  },
  {
   "cell_type": "code",
   "execution_count": 329,
   "metadata": {},
   "outputs": [],
   "source": [
    "patron = r\"(casa[s]?|chalet|quinta[s]?|cabaña[s]?|pb)\"\n",
    "busca = re.compile(patron)\n",
    "\n",
    "description_series_match = data.description_copia.apply(lambda x:  x if x is np.NaN else busca.search(x))\n",
    "mask_description_notnull = description_series_match.notnull()\n",
    "encontradas = description_series_match[mask_description_notnull].apply(lambda x: x.group(1))\n",
    "\n",
    "num_pisos_mapper = {'casa': 0,'casas':0, 'chalet': 0, 'quinta': 0, 'quintas': 0, 'cabaña': 0, \\\n",
    "                    'cabañas':0, 'pb': 0 }\n",
    "encontradas1 = encontradas.map(num_pisos_mapper)"
   ]
  },
  {
   "cell_type": "code",
   "execution_count": 330,
   "metadata": {},
   "outputs": [],
   "source": [
    "data.loc[mask_description_notnull,'floor_copia']= encontradas1.astype(float)"
   ]
  },
  {
   "cell_type": "code",
   "execution_count": 331,
   "metadata": {},
   "outputs": [
    {
     "data": {
      "text/plain": [
       "False    77585\n",
       "True     43635\n",
       "Name: floor_copia, dtype: int64"
      ]
     },
     "execution_count": 331,
     "metadata": {},
     "output_type": "execute_result"
    }
   ],
   "source": [
    "data['floor_copia'].isnull().value_counts()"
   ]
  },
  {
   "cell_type": "code",
   "execution_count": 332,
   "metadata": {},
   "outputs": [],
   "source": [
    "data.loc[mask_description_notnull, ['description_copia', 'title_copia']] = \"\""
   ]
  },
  {
   "cell_type": "code",
   "execution_count": 333,
   "metadata": {},
   "outputs": [
    {
     "data": {
      "text/html": [
       "<div>\n",
       "<style scoped>\n",
       "    .dataframe tbody tr th:only-of-type {\n",
       "        vertical-align: middle;\n",
       "    }\n",
       "\n",
       "    .dataframe tbody tr th {\n",
       "        vertical-align: top;\n",
       "    }\n",
       "\n",
       "    .dataframe thead th {\n",
       "        text-align: right;\n",
       "    }\n",
       "</style>\n",
       "<table border=\"1\" class=\"dataframe\">\n",
       "  <thead>\n",
       "    <tr style=\"text-align: right;\">\n",
       "      <th></th>\n",
       "      <th>Unnamed: 0</th>\n",
       "      <th>operation</th>\n",
       "      <th>property_type</th>\n",
       "      <th>place_name</th>\n",
       "      <th>place_with_parent_names</th>\n",
       "      <th>country_name</th>\n",
       "      <th>state_name</th>\n",
       "      <th>geonames_id</th>\n",
       "      <th>lat-lon</th>\n",
       "      <th>lat</th>\n",
       "      <th>...</th>\n",
       "      <th>expenses_bool</th>\n",
       "      <th>expenses_nuevo</th>\n",
       "      <th>geonames_id_nuevo</th>\n",
       "      <th>lat-lon_nuevo</th>\n",
       "      <th>lat_nuevo</th>\n",
       "      <th>lon_nuevo</th>\n",
       "      <th>floor_copia</th>\n",
       "      <th>property_type_copia</th>\n",
       "      <th>description_copia</th>\n",
       "      <th>title_copia</th>\n",
       "    </tr>\n",
       "  </thead>\n",
       "  <tbody>\n",
       "    <tr>\n",
       "      <th>90347</th>\n",
       "      <td>90347</td>\n",
       "      <td>sell</td>\n",
       "      <td>apartment</td>\n",
       "      <td>Rosario</td>\n",
       "      <td>|Argentina|Santa Fe|Rosario|</td>\n",
       "      <td>Argentina</td>\n",
       "      <td>Santa Fe</td>\n",
       "      <td>3838574.0</td>\n",
       "      <td>NaN</td>\n",
       "      <td>NaN</td>\n",
       "      <td>...</td>\n",
       "      <td>SI</td>\n",
       "      <td>3019.709032</td>\n",
       "      <td>3838574.0</td>\n",
       "      <td>-32.9473, -60.661795</td>\n",
       "      <td>-32.947300</td>\n",
       "      <td>-60.661795</td>\n",
       "      <td>0.0</td>\n",
       "      <td>apartment</td>\n",
       "      <td></td>\n",
       "      <td></td>\n",
       "    </tr>\n",
       "    <tr>\n",
       "      <th>52096</th>\n",
       "      <td>52096</td>\n",
       "      <td>sell</td>\n",
       "      <td>apartment</td>\n",
       "      <td>San Carlos de Bariloche</td>\n",
       "      <td>|Argentina|Río Negro|San Carlos de Bariloche|S...</td>\n",
       "      <td>Argentina</td>\n",
       "      <td>Río Negro</td>\n",
       "      <td>3837856.0</td>\n",
       "      <td>-41.138887,-71.307862</td>\n",
       "      <td>-41.138887</td>\n",
       "      <td>...</td>\n",
       "      <td>SI</td>\n",
       "      <td>3301.497719</td>\n",
       "      <td>3837856.0</td>\n",
       "      <td>-41.138887,-71.307862</td>\n",
       "      <td>-41.138887</td>\n",
       "      <td>-71.307862</td>\n",
       "      <td>1.0</td>\n",
       "      <td>apartment</td>\n",
       "      <td></td>\n",
       "      <td></td>\n",
       "    </tr>\n",
       "    <tr>\n",
       "      <th>55745</th>\n",
       "      <td>55745</td>\n",
       "      <td>sell</td>\n",
       "      <td>apartment</td>\n",
       "      <td>Villa Carlos Paz</td>\n",
       "      <td>|Argentina|Córdoba|Villa Carlos Paz|</td>\n",
       "      <td>Argentina</td>\n",
       "      <td>Córdoba</td>\n",
       "      <td>3832791.0</td>\n",
       "      <td>-31.4058897,-64.4890295</td>\n",
       "      <td>-31.405890</td>\n",
       "      <td>...</td>\n",
       "      <td>SI</td>\n",
       "      <td>860.000000</td>\n",
       "      <td>3832791.0</td>\n",
       "      <td>-31.4058897,-64.4890295</td>\n",
       "      <td>-31.405890</td>\n",
       "      <td>-64.489030</td>\n",
       "      <td>3.0</td>\n",
       "      <td>apartment</td>\n",
       "      <td></td>\n",
       "      <td></td>\n",
       "    </tr>\n",
       "  </tbody>\n",
       "</table>\n",
       "<p>3 rows × 40 columns</p>\n",
       "</div>"
      ],
      "text/plain": [
       "       Unnamed: 0 operation property_type               place_name  \\\n",
       "90347       90347      sell     apartment                  Rosario   \n",
       "52096       52096      sell     apartment  San Carlos de Bariloche   \n",
       "55745       55745      sell     apartment         Villa Carlos Paz   \n",
       "\n",
       "                                 place_with_parent_names country_name  \\\n",
       "90347                       |Argentina|Santa Fe|Rosario|    Argentina   \n",
       "52096  |Argentina|Río Negro|San Carlos de Bariloche|S...    Argentina   \n",
       "55745               |Argentina|Córdoba|Villa Carlos Paz|    Argentina   \n",
       "\n",
       "      state_name  geonames_id                  lat-lon        lat  ...  \\\n",
       "90347   Santa Fe    3838574.0                      NaN        NaN  ...   \n",
       "52096  Río Negro    3837856.0    -41.138887,-71.307862 -41.138887  ...   \n",
       "55745    Córdoba    3832791.0  -31.4058897,-64.4890295 -31.405890  ...   \n",
       "\n",
       "       expenses_bool  expenses_nuevo geonames_id_nuevo  \\\n",
       "90347             SI     3019.709032         3838574.0   \n",
       "52096             SI     3301.497719         3837856.0   \n",
       "55745             SI      860.000000         3832791.0   \n",
       "\n",
       "                 lat-lon_nuevo  lat_nuevo  lon_nuevo  floor_copia  \\\n",
       "90347     -32.9473, -60.661795 -32.947300 -60.661795          0.0   \n",
       "52096    -41.138887,-71.307862 -41.138887 -71.307862          1.0   \n",
       "55745  -31.4058897,-64.4890295 -31.405890 -64.489030          3.0   \n",
       "\n",
       "       property_type_copia  description_copia  title_copia  \n",
       "90347            apartment                                  \n",
       "52096            apartment                                  \n",
       "55745            apartment                                  \n",
       "\n",
       "[3 rows x 40 columns]"
      ]
     },
     "execution_count": 333,
     "metadata": {},
     "output_type": "execute_result"
    }
   ],
   "source": [
    "data.sample(3)"
   ]
  },
  {
   "cell_type": "markdown",
   "metadata": {},
   "source": [
    "<a id=\"section_limpieza_antiguedad\"></a> \n",
    "\n",
    "### Limpieza de la columna Antigüedad\n",
    "\n",
    "[volver a Indice](#section_indice)\n"
   ]
  },
  {
   "cell_type": "code",
   "execution_count": 334,
   "metadata": {},
   "outputs": [
    {
     "data": {
      "text/plain": [
       "(121218, 40)"
      ]
     },
     "execution_count": 334,
     "metadata": {},
     "output_type": "execute_result"
    }
   ],
   "source": [
    "data_mask = data.description.notna()\n",
    "data_con_descriptions =  data.loc[data_mask,:]\n",
    "data_con_descriptions.shape"
   ]
  },
  {
   "cell_type": "code",
   "execution_count": 335,
   "metadata": {},
   "outputs": [],
   "source": [
    "#Análisis de inmuebles a estrenar\n",
    "a_estrenar = data_con_descriptions[data_con_descriptions['description'].str.contains('estrenar')]\n",
    "mask_a_estrenar = data.index.isin(a_estrenar.index)"
   ]
  },
  {
   "cell_type": "code",
   "execution_count": 336,
   "metadata": {},
   "outputs": [],
   "source": [
    "#Análisis de años de antiguedad en número\n",
    "pattern_antiguedad = '(\\d+)[\\s]año'\n",
    "pattern_antiguedad_regex = re.compile(pattern_antiguedad)\n",
    "description_series = data_con_descriptions.description\n",
    "resultado_antiguedad = description_series.apply(lambda x: pattern_antiguedad_regex.search(x))\n",
    "resultado_antiguedad[resultado_antiguedad.notnull()]\n",
    "encontradas_ant = resultado_antiguedad[resultado_antiguedad.notnull()].apply(lambda x: x.group(1))"
   ]
  },
  {
   "cell_type": "code",
   "execution_count": 337,
   "metadata": {},
   "outputs": [
    {
     "data": {
      "text/plain": [
       "(4336,)"
      ]
     },
     "execution_count": 337,
     "metadata": {},
     "output_type": "execute_result"
    }
   ],
   "source": [
    "encontradas_ant.shape"
   ]
  },
  {
   "cell_type": "markdown",
   "metadata": {},
   "source": [
    "#### Creamos variable ant para identificar si es a estrenar, de pozo u otros"
   ]
  },
  {
   "cell_type": "code",
   "execution_count": 338,
   "metadata": {},
   "outputs": [
    {
     "data": {
      "text/plain": [
       "otros         114507\n",
       "a_estrenar      6713\n",
       "Name: ant, dtype: int64"
      ]
     },
     "execution_count": 338,
     "metadata": {},
     "output_type": "execute_result"
    }
   ],
   "source": [
    "data.loc[mask_a_estrenar, 'ant'] = 'a_estrenar'\n",
    "data.loc[data['ant'].isnull(),'ant'] = 'otros'\n",
    "data.ant.value_counts()"
   ]
  },
  {
   "cell_type": "code",
   "execution_count": 339,
   "metadata": {},
   "outputs": [
    {
     "name": "stdout",
     "output_type": "stream",
     "text": [
      "Bs.As. G.B.A. Zona Norte        0.271265\n",
      "Capital Federal                 0.262476\n",
      "Santa Fe                        0.101147\n",
      "Bs.As. G.B.A. Zona Sur          0.084910\n",
      "Buenos Aires Costa Atlántica    0.084910\n",
      "Bs.As. G.B.A. Zona Oeste        0.078802\n",
      "Córdoba                         0.064204\n",
      "Buenos Aires Interior           0.016535\n",
      "Tucumán                         0.008193\n",
      "Corrientes                      0.008044\n",
      "Río Negro                       0.004469\n",
      "Mendoza                         0.004320\n",
      "Salta                           0.002830\n",
      "Entre Ríos                      0.002234\n",
      "Misiones                        0.002234\n",
      "Neuquén                         0.001788\n",
      "Chubut                          0.000894\n",
      "Chaco                           0.000298\n",
      "La Pampa                        0.000298\n",
      "San Luis                        0.000149\n",
      "Name: state_name, dtype: float64\n"
     ]
    },
    {
     "data": {
      "text/plain": [
       "Capital Federal                 0.266590\n",
       "Bs.As. G.B.A. Zona Norte        0.210856\n",
       "Bs.As. G.B.A. Zona Sur          0.115097\n",
       "Córdoba                         0.099563\n",
       "Santa Fe                        0.083914\n",
       "Buenos Aires Costa Atlántica    0.082544\n",
       "Bs.As. G.B.A. Zona Oeste        0.076902\n",
       "Buenos Aires Interior           0.018900\n",
       "Río Negro                       0.006666\n",
       "Neuquén                         0.006047\n",
       "Mendoza                         0.005618\n",
       "Tucumán                         0.005560\n",
       "Corrientes                      0.004809\n",
       "Misiones                        0.003828\n",
       "Entre Ríos                      0.003044\n",
       "Salta                           0.002293\n",
       "Chubut                          0.002137\n",
       "San Luis                        0.002079\n",
       "La Pampa                        0.001295\n",
       "Formosa                         0.000536\n",
       "Chaco                           0.000470\n",
       "San Juan                        0.000330\n",
       "Tierra Del Fuego                0.000256\n",
       "Catamarca                       0.000223\n",
       "Jujuy                           0.000214\n",
       "Santa Cruz                      0.000165\n",
       "La Rioja                        0.000033\n",
       "Santiago Del Estero             0.000033\n",
       "Name: state_name, dtype: float64"
      ]
     },
     "execution_count": 339,
     "metadata": {},
     "output_type": "execute_result"
    }
   ],
   "source": [
    "print(a_estrenar.state_name.value_counts(normalize = True))\n",
    "data.state_name.value_counts(normalize = True)"
   ]
  },
  {
   "cell_type": "code",
   "execution_count": 340,
   "metadata": {},
   "outputs": [
    {
     "data": {
      "text/plain": [
       "count        5771.000000\n",
       "mean       391171.337896\n",
       "std        707647.657698\n",
       "min         30000.000000\n",
       "25%         99000.000000\n",
       "50%        159000.000000\n",
       "75%        340000.000000\n",
       "max      13069000.000000\n",
       "Name: price, dtype: object"
      ]
     },
     "execution_count": 340,
     "metadata": {},
     "output_type": "execute_result"
    }
   ],
   "source": [
    "data.price.describe().apply(lambda x: format(x, 'f'))\n",
    "a_estrenar.price.describe().apply(lambda x: format(x, 'f'))"
   ]
  },
  {
   "cell_type": "markdown",
   "metadata": {},
   "source": [
    "<a id=\"section_limpieza_precios\"></a> \n",
    "\n",
    "### Limpieza de la columna Precios\n",
    "\n",
    "[volver a Indice](#section_indice)\n"
   ]
  },
  {
   "cell_type": "code",
   "execution_count": 341,
   "metadata": {},
   "outputs": [
    {
     "data": {
      "text/html": [
       "<div>\n",
       "<style scoped>\n",
       "    .dataframe tbody tr th:only-of-type {\n",
       "        vertical-align: middle;\n",
       "    }\n",
       "\n",
       "    .dataframe tbody tr th {\n",
       "        vertical-align: top;\n",
       "    }\n",
       "\n",
       "    .dataframe thead th {\n",
       "        text-align: right;\n",
       "    }\n",
       "</style>\n",
       "<table border=\"1\" class=\"dataframe\">\n",
       "  <thead>\n",
       "    <tr style=\"text-align: right;\">\n",
       "      <th></th>\n",
       "      <th>place_name</th>\n",
       "      <th>price</th>\n",
       "      <th>currency</th>\n",
       "      <th>price_aprox_local_currency</th>\n",
       "      <th>price_aprox_usd</th>\n",
       "      <th>surface_total_in_m2</th>\n",
       "      <th>surface_covered_in_m2</th>\n",
       "      <th>price_usd_per_m2</th>\n",
       "      <th>price_per_m2</th>\n",
       "      <th>property_type</th>\n",
       "    </tr>\n",
       "  </thead>\n",
       "  <tbody>\n",
       "    <tr>\n",
       "      <th>0</th>\n",
       "      <td>Mataderos</td>\n",
       "      <td>62000.0</td>\n",
       "      <td>USD</td>\n",
       "      <td>1093959.00</td>\n",
       "      <td>62000.0</td>\n",
       "      <td>55.0</td>\n",
       "      <td>40.0</td>\n",
       "      <td>1127.272727</td>\n",
       "      <td>1550.000000</td>\n",
       "      <td>PH</td>\n",
       "    </tr>\n",
       "    <tr>\n",
       "      <th>1</th>\n",
       "      <td>La Plata</td>\n",
       "      <td>150000.0</td>\n",
       "      <td>USD</td>\n",
       "      <td>2646675.00</td>\n",
       "      <td>150000.0</td>\n",
       "      <td>NaN</td>\n",
       "      <td>NaN</td>\n",
       "      <td>NaN</td>\n",
       "      <td>NaN</td>\n",
       "      <td>apartment</td>\n",
       "    </tr>\n",
       "    <tr>\n",
       "      <th>2</th>\n",
       "      <td>Mataderos</td>\n",
       "      <td>72000.0</td>\n",
       "      <td>USD</td>\n",
       "      <td>1270404.00</td>\n",
       "      <td>72000.0</td>\n",
       "      <td>55.0</td>\n",
       "      <td>55.0</td>\n",
       "      <td>1309.090909</td>\n",
       "      <td>1309.090909</td>\n",
       "      <td>apartment</td>\n",
       "    </tr>\n",
       "    <tr>\n",
       "      <th>3</th>\n",
       "      <td>Liniers</td>\n",
       "      <td>95000.0</td>\n",
       "      <td>USD</td>\n",
       "      <td>1676227.50</td>\n",
       "      <td>95000.0</td>\n",
       "      <td>NaN</td>\n",
       "      <td>NaN</td>\n",
       "      <td>NaN</td>\n",
       "      <td>NaN</td>\n",
       "      <td>PH</td>\n",
       "    </tr>\n",
       "    <tr>\n",
       "      <th>4</th>\n",
       "      <td>Centro</td>\n",
       "      <td>64000.0</td>\n",
       "      <td>USD</td>\n",
       "      <td>1129248.00</td>\n",
       "      <td>64000.0</td>\n",
       "      <td>35.0</td>\n",
       "      <td>35.0</td>\n",
       "      <td>1828.571429</td>\n",
       "      <td>1828.571429</td>\n",
       "      <td>apartment</td>\n",
       "    </tr>\n",
       "    <tr>\n",
       "      <th>...</th>\n",
       "      <td>...</td>\n",
       "      <td>...</td>\n",
       "      <td>...</td>\n",
       "      <td>...</td>\n",
       "      <td>...</td>\n",
       "      <td>...</td>\n",
       "      <td>...</td>\n",
       "      <td>...</td>\n",
       "      <td>...</td>\n",
       "      <td>...</td>\n",
       "    </tr>\n",
       "    <tr>\n",
       "      <th>121215</th>\n",
       "      <td>Belgrano</td>\n",
       "      <td>870000.0</td>\n",
       "      <td>USD</td>\n",
       "      <td>15350715.00</td>\n",
       "      <td>870000.0</td>\n",
       "      <td>113.0</td>\n",
       "      <td>93.0</td>\n",
       "      <td>7699.115044</td>\n",
       "      <td>9354.838710</td>\n",
       "      <td>apartment</td>\n",
       "    </tr>\n",
       "    <tr>\n",
       "      <th>121216</th>\n",
       "      <td>Beccar</td>\n",
       "      <td>498000.0</td>\n",
       "      <td>USD</td>\n",
       "      <td>8786961.00</td>\n",
       "      <td>498000.0</td>\n",
       "      <td>360.0</td>\n",
       "      <td>360.0</td>\n",
       "      <td>1383.333333</td>\n",
       "      <td>1383.333333</td>\n",
       "      <td>house</td>\n",
       "    </tr>\n",
       "    <tr>\n",
       "      <th>121217</th>\n",
       "      <td>Villa Urquiza</td>\n",
       "      <td>131500.0</td>\n",
       "      <td>USD</td>\n",
       "      <td>2320251.75</td>\n",
       "      <td>131500.0</td>\n",
       "      <td>46.0</td>\n",
       "      <td>39.0</td>\n",
       "      <td>2858.695652</td>\n",
       "      <td>3371.794872</td>\n",
       "      <td>apartment</td>\n",
       "    </tr>\n",
       "    <tr>\n",
       "      <th>121218</th>\n",
       "      <td>Plaza Colón</td>\n",
       "      <td>95900.0</td>\n",
       "      <td>USD</td>\n",
       "      <td>1692107.55</td>\n",
       "      <td>95900.0</td>\n",
       "      <td>48.0</td>\n",
       "      <td>48.0</td>\n",
       "      <td>1997.916667</td>\n",
       "      <td>1997.916667</td>\n",
       "      <td>apartment</td>\n",
       "    </tr>\n",
       "    <tr>\n",
       "      <th>121219</th>\n",
       "      <td>Capital Federal</td>\n",
       "      <td>129000.0</td>\n",
       "      <td>USD</td>\n",
       "      <td>2276140.50</td>\n",
       "      <td>129000.0</td>\n",
       "      <td>77.0</td>\n",
       "      <td>77.0</td>\n",
       "      <td>1675.324675</td>\n",
       "      <td>1675.324675</td>\n",
       "      <td>apartment</td>\n",
       "    </tr>\n",
       "  </tbody>\n",
       "</table>\n",
       "<p>121220 rows × 10 columns</p>\n",
       "</div>"
      ],
      "text/plain": [
       "             place_name     price currency  price_aprox_local_currency  \\\n",
       "0             Mataderos   62000.0      USD                  1093959.00   \n",
       "1              La Plata  150000.0      USD                  2646675.00   \n",
       "2             Mataderos   72000.0      USD                  1270404.00   \n",
       "3               Liniers   95000.0      USD                  1676227.50   \n",
       "4                Centro   64000.0      USD                  1129248.00   \n",
       "...                 ...       ...      ...                         ...   \n",
       "121215         Belgrano  870000.0      USD                 15350715.00   \n",
       "121216           Beccar  498000.0      USD                  8786961.00   \n",
       "121217    Villa Urquiza  131500.0      USD                  2320251.75   \n",
       "121218      Plaza Colón   95900.0      USD                  1692107.55   \n",
       "121219  Capital Federal  129000.0      USD                  2276140.50   \n",
       "\n",
       "        price_aprox_usd  surface_total_in_m2  surface_covered_in_m2  \\\n",
       "0               62000.0                 55.0                   40.0   \n",
       "1              150000.0                  NaN                    NaN   \n",
       "2               72000.0                 55.0                   55.0   \n",
       "3               95000.0                  NaN                    NaN   \n",
       "4               64000.0                 35.0                   35.0   \n",
       "...                 ...                  ...                    ...   \n",
       "121215         870000.0                113.0                   93.0   \n",
       "121216         498000.0                360.0                  360.0   \n",
       "121217         131500.0                 46.0                   39.0   \n",
       "121218          95900.0                 48.0                   48.0   \n",
       "121219         129000.0                 77.0                   77.0   \n",
       "\n",
       "        price_usd_per_m2  price_per_m2 property_type  \n",
       "0            1127.272727   1550.000000            PH  \n",
       "1                    NaN           NaN     apartment  \n",
       "2            1309.090909   1309.090909     apartment  \n",
       "3                    NaN           NaN            PH  \n",
       "4            1828.571429   1828.571429     apartment  \n",
       "...                  ...           ...           ...  \n",
       "121215       7699.115044   9354.838710     apartment  \n",
       "121216       1383.333333   1383.333333         house  \n",
       "121217       2858.695652   3371.794872     apartment  \n",
       "121218       1997.916667   1997.916667     apartment  \n",
       "121219       1675.324675   1675.324675     apartment  \n",
       "\n",
       "[121220 rows x 10 columns]"
      ]
     },
     "execution_count": 341,
     "metadata": {},
     "output_type": "execute_result"
    }
   ],
   "source": [
    "data_precio= data.loc[:,[\"place_name\",\"price\", \"currency\", \"price_aprox_local_currency\", \"price_aprox_usd\",\"surface_total_in_m2\", \"surface_covered_in_m2\",\"price_usd_per_m2\", \"price_per_m2\", \"property_type\"]]\n",
    "data_precio"
   ]
  },
  {
   "cell_type": "code",
   "execution_count": 342,
   "metadata": {},
   "outputs": [
    {
     "data": {
      "text/plain": [
       "place_name                       23\n",
       "price                         20410\n",
       "currency                      20411\n",
       "price_aprox_local_currency    20410\n",
       "price_aprox_usd               20410\n",
       "surface_total_in_m2           39328\n",
       "surface_covered_in_m2         19907\n",
       "price_usd_per_m2              52603\n",
       "price_per_m2                  33562\n",
       "property_type                     0\n",
       "dtype: int64"
      ]
     },
     "execution_count": 342,
     "metadata": {},
     "output_type": "execute_result"
    }
   ],
   "source": [
    "data_precio.isnull().sum()"
   ]
  },
  {
   "cell_type": "code",
   "execution_count": 343,
   "metadata": {},
   "outputs": [
    {
     "data": {
      "text/plain": [
       "0    17.6445\n",
       "dtype: float64"
      ]
     },
     "execution_count": 343,
     "metadata": {},
     "output_type": "execute_result"
    }
   ],
   "source": [
    "tc = data_precio[\"price_aprox_local_currency\"] / data_precio[\"price\"]\n",
    "tc[:1]"
   ]
  },
  {
   "cell_type": "markdown",
   "metadata": {},
   "source": [
    "## Datos basicos para el analisis:\n",
    "\n",
    "1 - Columna Currency cambiar ARS X USD\n"
   ]
  },
  {
   "cell_type": "code",
   "execution_count": 344,
   "metadata": {},
   "outputs": [
    {
     "data": {
      "text/html": [
       "<div>\n",
       "<style scoped>\n",
       "    .dataframe tbody tr th:only-of-type {\n",
       "        vertical-align: middle;\n",
       "    }\n",
       "\n",
       "    .dataframe tbody tr th {\n",
       "        vertical-align: top;\n",
       "    }\n",
       "\n",
       "    .dataframe thead th {\n",
       "        text-align: right;\n",
       "    }\n",
       "</style>\n",
       "<table border=\"1\" class=\"dataframe\">\n",
       "  <thead>\n",
       "    <tr style=\"text-align: right;\">\n",
       "      <th></th>\n",
       "      <th>place_name</th>\n",
       "      <th>price</th>\n",
       "      <th>currency</th>\n",
       "      <th>price_aprox_local_currency</th>\n",
       "      <th>price_aprox_usd</th>\n",
       "      <th>surface_total_in_m2</th>\n",
       "      <th>surface_covered_in_m2</th>\n",
       "      <th>price_usd_per_m2</th>\n",
       "      <th>price_per_m2</th>\n",
       "      <th>property_type</th>\n",
       "    </tr>\n",
       "  </thead>\n",
       "  <tbody>\n",
       "    <tr>\n",
       "      <th>9</th>\n",
       "      <td>Rosario</td>\n",
       "      <td>460000.0</td>\n",
       "      <td>ARS</td>\n",
       "      <td>455201.45</td>\n",
       "      <td>25798.49</td>\n",
       "      <td>NaN</td>\n",
       "      <td>NaN</td>\n",
       "      <td>NaN</td>\n",
       "      <td>NaN</td>\n",
       "      <td>house</td>\n",
       "    </tr>\n",
       "    <tr>\n",
       "      <th>32</th>\n",
       "      <td>Córdoba</td>\n",
       "      <td>550000.0</td>\n",
       "      <td>ARS</td>\n",
       "      <td>544262.59</td>\n",
       "      <td>30846.02</td>\n",
       "      <td>50.0</td>\n",
       "      <td>50.0</td>\n",
       "      <td>616.920400</td>\n",
       "      <td>11000.000000</td>\n",
       "      <td>apartment</td>\n",
       "    </tr>\n",
       "    <tr>\n",
       "      <th>37</th>\n",
       "      <td>Malagueño</td>\n",
       "      <td>1250000.0</td>\n",
       "      <td>ARS</td>\n",
       "      <td>1236960.43</td>\n",
       "      <td>70104.59</td>\n",
       "      <td>75.0</td>\n",
       "      <td>75.0</td>\n",
       "      <td>934.727867</td>\n",
       "      <td>16666.666667</td>\n",
       "      <td>house</td>\n",
       "    </tr>\n",
       "    <tr>\n",
       "      <th>78</th>\n",
       "      <td>Posadas</td>\n",
       "      <td>5500000.0</td>\n",
       "      <td>ARS</td>\n",
       "      <td>5442626.35</td>\n",
       "      <td>308460.22</td>\n",
       "      <td>261.0</td>\n",
       "      <td>18615.0</td>\n",
       "      <td>1181.839923</td>\n",
       "      <td>295.460650</td>\n",
       "      <td>house</td>\n",
       "    </tr>\n",
       "    <tr>\n",
       "      <th>97</th>\n",
       "      <td>San Telmo</td>\n",
       "      <td>1423800.0</td>\n",
       "      <td>ARS</td>\n",
       "      <td>1408947.37</td>\n",
       "      <td>79851.93</td>\n",
       "      <td>NaN</td>\n",
       "      <td>NaN</td>\n",
       "      <td>NaN</td>\n",
       "      <td>NaN</td>\n",
       "      <td>apartment</td>\n",
       "    </tr>\n",
       "    <tr>\n",
       "      <th>...</th>\n",
       "      <td>...</td>\n",
       "      <td>...</td>\n",
       "      <td>...</td>\n",
       "      <td>...</td>\n",
       "      <td>...</td>\n",
       "      <td>...</td>\n",
       "      <td>...</td>\n",
       "      <td>...</td>\n",
       "      <td>...</td>\n",
       "      <td>...</td>\n",
       "    </tr>\n",
       "    <tr>\n",
       "      <th>121202</th>\n",
       "      <td>Córdoba</td>\n",
       "      <td>1507000.0</td>\n",
       "      <td>ARS</td>\n",
       "      <td>1491279.61</td>\n",
       "      <td>84518.10</td>\n",
       "      <td>52.0</td>\n",
       "      <td>NaN</td>\n",
       "      <td>1625.348077</td>\n",
       "      <td>NaN</td>\n",
       "      <td>apartment</td>\n",
       "    </tr>\n",
       "    <tr>\n",
       "      <th>121203</th>\n",
       "      <td>Córdoba</td>\n",
       "      <td>1502000.0</td>\n",
       "      <td>ARS</td>\n",
       "      <td>1486331.74</td>\n",
       "      <td>84237.68</td>\n",
       "      <td>50.0</td>\n",
       "      <td>NaN</td>\n",
       "      <td>1684.753600</td>\n",
       "      <td>NaN</td>\n",
       "      <td>apartment</td>\n",
       "    </tr>\n",
       "    <tr>\n",
       "      <th>121204</th>\n",
       "      <td>Córdoba</td>\n",
       "      <td>1502000.0</td>\n",
       "      <td>ARS</td>\n",
       "      <td>1486331.74</td>\n",
       "      <td>84237.68</td>\n",
       "      <td>50.0</td>\n",
       "      <td>NaN</td>\n",
       "      <td>1684.753600</td>\n",
       "      <td>NaN</td>\n",
       "      <td>apartment</td>\n",
       "    </tr>\n",
       "    <tr>\n",
       "      <th>121205</th>\n",
       "      <td>Córdoba</td>\n",
       "      <td>1507000.0</td>\n",
       "      <td>ARS</td>\n",
       "      <td>1491279.61</td>\n",
       "      <td>84518.10</td>\n",
       "      <td>50.0</td>\n",
       "      <td>NaN</td>\n",
       "      <td>1690.362000</td>\n",
       "      <td>NaN</td>\n",
       "      <td>apartment</td>\n",
       "    </tr>\n",
       "    <tr>\n",
       "      <th>121206</th>\n",
       "      <td>Córdoba</td>\n",
       "      <td>1507000.0</td>\n",
       "      <td>ARS</td>\n",
       "      <td>1491279.61</td>\n",
       "      <td>84518.10</td>\n",
       "      <td>50.0</td>\n",
       "      <td>NaN</td>\n",
       "      <td>1690.362000</td>\n",
       "      <td>NaN</td>\n",
       "      <td>apartment</td>\n",
       "    </tr>\n",
       "  </tbody>\n",
       "</table>\n",
       "<p>13219 rows × 10 columns</p>\n",
       "</div>"
      ],
      "text/plain": [
       "       place_name      price currency  price_aprox_local_currency  \\\n",
       "9         Rosario   460000.0      ARS                   455201.45   \n",
       "32        Córdoba   550000.0      ARS                   544262.59   \n",
       "37      Malagueño  1250000.0      ARS                  1236960.43   \n",
       "78        Posadas  5500000.0      ARS                  5442626.35   \n",
       "97      San Telmo  1423800.0      ARS                  1408947.37   \n",
       "...           ...        ...      ...                         ...   \n",
       "121202    Córdoba  1507000.0      ARS                  1491279.61   \n",
       "121203    Córdoba  1502000.0      ARS                  1486331.74   \n",
       "121204    Córdoba  1502000.0      ARS                  1486331.74   \n",
       "121205    Córdoba  1507000.0      ARS                  1491279.61   \n",
       "121206    Córdoba  1507000.0      ARS                  1491279.61   \n",
       "\n",
       "        price_aprox_usd  surface_total_in_m2  surface_covered_in_m2  \\\n",
       "9              25798.49                  NaN                    NaN   \n",
       "32             30846.02                 50.0                   50.0   \n",
       "37             70104.59                 75.0                   75.0   \n",
       "78            308460.22                261.0                18615.0   \n",
       "97             79851.93                  NaN                    NaN   \n",
       "...                 ...                  ...                    ...   \n",
       "121202         84518.10                 52.0                    NaN   \n",
       "121203         84237.68                 50.0                    NaN   \n",
       "121204         84237.68                 50.0                    NaN   \n",
       "121205         84518.10                 50.0                    NaN   \n",
       "121206         84518.10                 50.0                    NaN   \n",
       "\n",
       "        price_usd_per_m2  price_per_m2 property_type  \n",
       "9                    NaN           NaN         house  \n",
       "32            616.920400  11000.000000     apartment  \n",
       "37            934.727867  16666.666667         house  \n",
       "78           1181.839923    295.460650         house  \n",
       "97                   NaN           NaN     apartment  \n",
       "...                  ...           ...           ...  \n",
       "121202       1625.348077           NaN     apartment  \n",
       "121203       1684.753600           NaN     apartment  \n",
       "121204       1684.753600           NaN     apartment  \n",
       "121205       1690.362000           NaN     apartment  \n",
       "121206       1690.362000           NaN     apartment  \n",
       "\n",
       "[13219 rows x 10 columns]"
      ]
     },
     "execution_count": 344,
     "metadata": {},
     "output_type": "execute_result"
    }
   ],
   "source": [
    "mask_ars = data_precio['currency']== \"ARS\"\n",
    "datos_ars =data_precio.loc[mask_ars, :]\n",
    "datos_ars"
   ]
  },
  {
   "cell_type": "code",
   "execution_count": 345,
   "metadata": {},
   "outputs": [
    {
     "data": {
      "text/plain": [
       "9          460000.0\n",
       "32         550000.0\n",
       "37        1250000.0\n",
       "78        5500000.0\n",
       "97        1423800.0\n",
       "            ...    \n",
       "121202    1507000.0\n",
       "121203    1502000.0\n",
       "121204    1502000.0\n",
       "121205    1507000.0\n",
       "121206    1507000.0\n",
       "Length: 13219, dtype: float64"
      ]
     },
     "execution_count": 345,
     "metadata": {},
     "output_type": "execute_result"
    }
   ],
   "source": [
    "relacion  = datos_ars[\"price_aprox_local_currency\"]/tc\n",
    "relacion[mask_ars]"
   ]
  },
  {
   "cell_type": "code",
   "execution_count": 346,
   "metadata": {},
   "outputs": [],
   "source": [
    "data_precio_1 = data_precio.replace(\"ARS\", value = \"USD\")"
   ]
  },
  {
   "cell_type": "code",
   "execution_count": 347,
   "metadata": {},
   "outputs": [
    {
     "data": {
      "text/plain": [
       "place_name                       23\n",
       "price                         20410\n",
       "currency                      20411\n",
       "price_aprox_local_currency    20410\n",
       "price_aprox_usd               20410\n",
       "surface_total_in_m2           39328\n",
       "surface_covered_in_m2         19907\n",
       "price_usd_per_m2              52603\n",
       "price_per_m2                  33562\n",
       "property_type                     0\n",
       "dtype: int64"
      ]
     },
     "execution_count": 347,
     "metadata": {},
     "output_type": "execute_result"
    }
   ],
   "source": [
    "data_precio_1.isnull().sum()"
   ]
  },
  {
   "cell_type": "markdown",
   "metadata": {},
   "source": [
    "2 - Ajusto columna local price de acuerdo a TC"
   ]
  },
  {
   "cell_type": "code",
   "execution_count": 348,
   "metadata": {},
   "outputs": [
    {
     "data": {
      "text/html": [
       "<div>\n",
       "<style scoped>\n",
       "    .dataframe tbody tr th:only-of-type {\n",
       "        vertical-align: middle;\n",
       "    }\n",
       "\n",
       "    .dataframe tbody tr th {\n",
       "        vertical-align: top;\n",
       "    }\n",
       "\n",
       "    .dataframe thead th {\n",
       "        text-align: right;\n",
       "    }\n",
       "</style>\n",
       "<table border=\"1\" class=\"dataframe\">\n",
       "  <thead>\n",
       "    <tr style=\"text-align: right;\">\n",
       "      <th></th>\n",
       "      <th>place_name</th>\n",
       "      <th>price</th>\n",
       "      <th>currency</th>\n",
       "      <th>price_aprox_local_currency</th>\n",
       "      <th>price_aprox_usd</th>\n",
       "      <th>surface_total_in_m2</th>\n",
       "      <th>surface_covered_in_m2</th>\n",
       "      <th>price_usd_per_m2</th>\n",
       "      <th>price_per_m2</th>\n",
       "      <th>property_type</th>\n",
       "      <th>price_aprox_local_currency_nuevo</th>\n",
       "    </tr>\n",
       "  </thead>\n",
       "  <tbody>\n",
       "    <tr>\n",
       "      <th>0</th>\n",
       "      <td>Mataderos</td>\n",
       "      <td>62000.0</td>\n",
       "      <td>USD</td>\n",
       "      <td>1093959.00</td>\n",
       "      <td>62000.0</td>\n",
       "      <td>55.0</td>\n",
       "      <td>40.0</td>\n",
       "      <td>1127.272727</td>\n",
       "      <td>1550.000000</td>\n",
       "      <td>PH</td>\n",
       "      <td>1093959.00</td>\n",
       "    </tr>\n",
       "    <tr>\n",
       "      <th>1</th>\n",
       "      <td>La Plata</td>\n",
       "      <td>150000.0</td>\n",
       "      <td>USD</td>\n",
       "      <td>2646675.00</td>\n",
       "      <td>150000.0</td>\n",
       "      <td>NaN</td>\n",
       "      <td>NaN</td>\n",
       "      <td>NaN</td>\n",
       "      <td>NaN</td>\n",
       "      <td>apartment</td>\n",
       "      <td>2646675.00</td>\n",
       "    </tr>\n",
       "    <tr>\n",
       "      <th>2</th>\n",
       "      <td>Mataderos</td>\n",
       "      <td>72000.0</td>\n",
       "      <td>USD</td>\n",
       "      <td>1270404.00</td>\n",
       "      <td>72000.0</td>\n",
       "      <td>55.0</td>\n",
       "      <td>55.0</td>\n",
       "      <td>1309.090909</td>\n",
       "      <td>1309.090909</td>\n",
       "      <td>apartment</td>\n",
       "      <td>1270404.00</td>\n",
       "    </tr>\n",
       "    <tr>\n",
       "      <th>3</th>\n",
       "      <td>Liniers</td>\n",
       "      <td>95000.0</td>\n",
       "      <td>USD</td>\n",
       "      <td>1676227.50</td>\n",
       "      <td>95000.0</td>\n",
       "      <td>NaN</td>\n",
       "      <td>NaN</td>\n",
       "      <td>NaN</td>\n",
       "      <td>NaN</td>\n",
       "      <td>PH</td>\n",
       "      <td>1676227.50</td>\n",
       "    </tr>\n",
       "    <tr>\n",
       "      <th>4</th>\n",
       "      <td>Centro</td>\n",
       "      <td>64000.0</td>\n",
       "      <td>USD</td>\n",
       "      <td>1129248.00</td>\n",
       "      <td>64000.0</td>\n",
       "      <td>35.0</td>\n",
       "      <td>35.0</td>\n",
       "      <td>1828.571429</td>\n",
       "      <td>1828.571429</td>\n",
       "      <td>apartment</td>\n",
       "      <td>1129248.00</td>\n",
       "    </tr>\n",
       "    <tr>\n",
       "      <th>...</th>\n",
       "      <td>...</td>\n",
       "      <td>...</td>\n",
       "      <td>...</td>\n",
       "      <td>...</td>\n",
       "      <td>...</td>\n",
       "      <td>...</td>\n",
       "      <td>...</td>\n",
       "      <td>...</td>\n",
       "      <td>...</td>\n",
       "      <td>...</td>\n",
       "      <td>...</td>\n",
       "    </tr>\n",
       "    <tr>\n",
       "      <th>121215</th>\n",
       "      <td>Belgrano</td>\n",
       "      <td>870000.0</td>\n",
       "      <td>USD</td>\n",
       "      <td>15350715.00</td>\n",
       "      <td>870000.0</td>\n",
       "      <td>113.0</td>\n",
       "      <td>93.0</td>\n",
       "      <td>7699.115044</td>\n",
       "      <td>9354.838710</td>\n",
       "      <td>apartment</td>\n",
       "      <td>15350715.00</td>\n",
       "    </tr>\n",
       "    <tr>\n",
       "      <th>121216</th>\n",
       "      <td>Beccar</td>\n",
       "      <td>498000.0</td>\n",
       "      <td>USD</td>\n",
       "      <td>8786961.00</td>\n",
       "      <td>498000.0</td>\n",
       "      <td>360.0</td>\n",
       "      <td>360.0</td>\n",
       "      <td>1383.333333</td>\n",
       "      <td>1383.333333</td>\n",
       "      <td>house</td>\n",
       "      <td>8786961.00</td>\n",
       "    </tr>\n",
       "    <tr>\n",
       "      <th>121217</th>\n",
       "      <td>Villa Urquiza</td>\n",
       "      <td>131500.0</td>\n",
       "      <td>USD</td>\n",
       "      <td>2320251.75</td>\n",
       "      <td>131500.0</td>\n",
       "      <td>46.0</td>\n",
       "      <td>39.0</td>\n",
       "      <td>2858.695652</td>\n",
       "      <td>3371.794872</td>\n",
       "      <td>apartment</td>\n",
       "      <td>2320251.75</td>\n",
       "    </tr>\n",
       "    <tr>\n",
       "      <th>121218</th>\n",
       "      <td>Plaza Colón</td>\n",
       "      <td>95900.0</td>\n",
       "      <td>USD</td>\n",
       "      <td>1692107.55</td>\n",
       "      <td>95900.0</td>\n",
       "      <td>48.0</td>\n",
       "      <td>48.0</td>\n",
       "      <td>1997.916667</td>\n",
       "      <td>1997.916667</td>\n",
       "      <td>apartment</td>\n",
       "      <td>1692107.55</td>\n",
       "    </tr>\n",
       "    <tr>\n",
       "      <th>121219</th>\n",
       "      <td>Capital Federal</td>\n",
       "      <td>129000.0</td>\n",
       "      <td>USD</td>\n",
       "      <td>2276140.50</td>\n",
       "      <td>129000.0</td>\n",
       "      <td>77.0</td>\n",
       "      <td>77.0</td>\n",
       "      <td>1675.324675</td>\n",
       "      <td>1675.324675</td>\n",
       "      <td>apartment</td>\n",
       "      <td>2276140.50</td>\n",
       "    </tr>\n",
       "  </tbody>\n",
       "</table>\n",
       "<p>121220 rows × 11 columns</p>\n",
       "</div>"
      ],
      "text/plain": [
       "             place_name     price currency  price_aprox_local_currency  \\\n",
       "0             Mataderos   62000.0      USD                  1093959.00   \n",
       "1              La Plata  150000.0      USD                  2646675.00   \n",
       "2             Mataderos   72000.0      USD                  1270404.00   \n",
       "3               Liniers   95000.0      USD                  1676227.50   \n",
       "4                Centro   64000.0      USD                  1129248.00   \n",
       "...                 ...       ...      ...                         ...   \n",
       "121215         Belgrano  870000.0      USD                 15350715.00   \n",
       "121216           Beccar  498000.0      USD                  8786961.00   \n",
       "121217    Villa Urquiza  131500.0      USD                  2320251.75   \n",
       "121218      Plaza Colón   95900.0      USD                  1692107.55   \n",
       "121219  Capital Federal  129000.0      USD                  2276140.50   \n",
       "\n",
       "        price_aprox_usd  surface_total_in_m2  surface_covered_in_m2  \\\n",
       "0               62000.0                 55.0                   40.0   \n",
       "1              150000.0                  NaN                    NaN   \n",
       "2               72000.0                 55.0                   55.0   \n",
       "3               95000.0                  NaN                    NaN   \n",
       "4               64000.0                 35.0                   35.0   \n",
       "...                 ...                  ...                    ...   \n",
       "121215         870000.0                113.0                   93.0   \n",
       "121216         498000.0                360.0                  360.0   \n",
       "121217         131500.0                 46.0                   39.0   \n",
       "121218          95900.0                 48.0                   48.0   \n",
       "121219         129000.0                 77.0                   77.0   \n",
       "\n",
       "        price_usd_per_m2  price_per_m2 property_type  \\\n",
       "0            1127.272727   1550.000000            PH   \n",
       "1                    NaN           NaN     apartment   \n",
       "2            1309.090909   1309.090909     apartment   \n",
       "3                    NaN           NaN            PH   \n",
       "4            1828.571429   1828.571429     apartment   \n",
       "...                  ...           ...           ...   \n",
       "121215       7699.115044   9354.838710     apartment   \n",
       "121216       1383.333333   1383.333333         house   \n",
       "121217       2858.695652   3371.794872     apartment   \n",
       "121218       1997.916667   1997.916667     apartment   \n",
       "121219       1675.324675   1675.324675     apartment   \n",
       "\n",
       "        price_aprox_local_currency_nuevo  \n",
       "0                             1093959.00  \n",
       "1                             2646675.00  \n",
       "2                             1270404.00  \n",
       "3                             1676227.50  \n",
       "4                             1129248.00  \n",
       "...                                  ...  \n",
       "121215                       15350715.00  \n",
       "121216                        8786961.00  \n",
       "121217                        2320251.75  \n",
       "121218                        1692107.55  \n",
       "121219                        2276140.50  \n",
       "\n",
       "[121220 rows x 11 columns]"
      ]
     },
     "execution_count": 348,
     "metadata": {},
     "output_type": "execute_result"
    }
   ],
   "source": [
    "data_precio_1[\"price_aprox_local_currency_nuevo\"] = data_precio_1[\"price_aprox_local_currency\"] = data_precio_1[\"price\"]*tc\n",
    "data_precio_1.replace(\"price_aprox_local_currency\",\"price_aprox_local_currency_nuevo\" )"
   ]
  },
  {
   "cell_type": "code",
   "execution_count": 349,
   "metadata": {},
   "outputs": [
    {
     "data": {
      "text/html": [
       "<div>\n",
       "<style scoped>\n",
       "    .dataframe tbody tr th:only-of-type {\n",
       "        vertical-align: middle;\n",
       "    }\n",
       "\n",
       "    .dataframe tbody tr th {\n",
       "        vertical-align: top;\n",
       "    }\n",
       "\n",
       "    .dataframe thead th {\n",
       "        text-align: right;\n",
       "    }\n",
       "</style>\n",
       "<table border=\"1\" class=\"dataframe\">\n",
       "  <thead>\n",
       "    <tr style=\"text-align: right;\">\n",
       "      <th></th>\n",
       "      <th>place_name</th>\n",
       "      <th>price</th>\n",
       "      <th>currency</th>\n",
       "      <th>price_aprox_local_currency</th>\n",
       "      <th>price_aprox_usd</th>\n",
       "      <th>surface_total_in_m2</th>\n",
       "      <th>surface_covered_in_m2</th>\n",
       "      <th>price_usd_per_m2</th>\n",
       "      <th>price_per_m2</th>\n",
       "      <th>property_type</th>\n",
       "    </tr>\n",
       "  </thead>\n",
       "  <tbody>\n",
       "    <tr>\n",
       "      <th>0</th>\n",
       "      <td>Mataderos</td>\n",
       "      <td>62000.0</td>\n",
       "      <td>USD</td>\n",
       "      <td>1093959.00</td>\n",
       "      <td>62000.0</td>\n",
       "      <td>55.0</td>\n",
       "      <td>40.0</td>\n",
       "      <td>1127.272727</td>\n",
       "      <td>1550.000000</td>\n",
       "      <td>PH</td>\n",
       "    </tr>\n",
       "    <tr>\n",
       "      <th>1</th>\n",
       "      <td>La Plata</td>\n",
       "      <td>150000.0</td>\n",
       "      <td>USD</td>\n",
       "      <td>2646675.00</td>\n",
       "      <td>150000.0</td>\n",
       "      <td>NaN</td>\n",
       "      <td>NaN</td>\n",
       "      <td>NaN</td>\n",
       "      <td>NaN</td>\n",
       "      <td>apartment</td>\n",
       "    </tr>\n",
       "    <tr>\n",
       "      <th>2</th>\n",
       "      <td>Mataderos</td>\n",
       "      <td>72000.0</td>\n",
       "      <td>USD</td>\n",
       "      <td>1270404.00</td>\n",
       "      <td>72000.0</td>\n",
       "      <td>55.0</td>\n",
       "      <td>55.0</td>\n",
       "      <td>1309.090909</td>\n",
       "      <td>1309.090909</td>\n",
       "      <td>apartment</td>\n",
       "    </tr>\n",
       "    <tr>\n",
       "      <th>3</th>\n",
       "      <td>Liniers</td>\n",
       "      <td>95000.0</td>\n",
       "      <td>USD</td>\n",
       "      <td>1676227.50</td>\n",
       "      <td>95000.0</td>\n",
       "      <td>NaN</td>\n",
       "      <td>NaN</td>\n",
       "      <td>NaN</td>\n",
       "      <td>NaN</td>\n",
       "      <td>PH</td>\n",
       "    </tr>\n",
       "    <tr>\n",
       "      <th>4</th>\n",
       "      <td>Centro</td>\n",
       "      <td>64000.0</td>\n",
       "      <td>USD</td>\n",
       "      <td>1129248.00</td>\n",
       "      <td>64000.0</td>\n",
       "      <td>35.0</td>\n",
       "      <td>35.0</td>\n",
       "      <td>1828.571429</td>\n",
       "      <td>1828.571429</td>\n",
       "      <td>apartment</td>\n",
       "    </tr>\n",
       "    <tr>\n",
       "      <th>...</th>\n",
       "      <td>...</td>\n",
       "      <td>...</td>\n",
       "      <td>...</td>\n",
       "      <td>...</td>\n",
       "      <td>...</td>\n",
       "      <td>...</td>\n",
       "      <td>...</td>\n",
       "      <td>...</td>\n",
       "      <td>...</td>\n",
       "      <td>...</td>\n",
       "    </tr>\n",
       "    <tr>\n",
       "      <th>121215</th>\n",
       "      <td>Belgrano</td>\n",
       "      <td>870000.0</td>\n",
       "      <td>USD</td>\n",
       "      <td>15350715.00</td>\n",
       "      <td>870000.0</td>\n",
       "      <td>113.0</td>\n",
       "      <td>93.0</td>\n",
       "      <td>7699.115044</td>\n",
       "      <td>9354.838710</td>\n",
       "      <td>apartment</td>\n",
       "    </tr>\n",
       "    <tr>\n",
       "      <th>121216</th>\n",
       "      <td>Beccar</td>\n",
       "      <td>498000.0</td>\n",
       "      <td>USD</td>\n",
       "      <td>8786961.00</td>\n",
       "      <td>498000.0</td>\n",
       "      <td>360.0</td>\n",
       "      <td>360.0</td>\n",
       "      <td>1383.333333</td>\n",
       "      <td>1383.333333</td>\n",
       "      <td>house</td>\n",
       "    </tr>\n",
       "    <tr>\n",
       "      <th>121217</th>\n",
       "      <td>Villa Urquiza</td>\n",
       "      <td>131500.0</td>\n",
       "      <td>USD</td>\n",
       "      <td>2320251.75</td>\n",
       "      <td>131500.0</td>\n",
       "      <td>46.0</td>\n",
       "      <td>39.0</td>\n",
       "      <td>2858.695652</td>\n",
       "      <td>3371.794872</td>\n",
       "      <td>apartment</td>\n",
       "    </tr>\n",
       "    <tr>\n",
       "      <th>121218</th>\n",
       "      <td>Plaza Colón</td>\n",
       "      <td>95900.0</td>\n",
       "      <td>USD</td>\n",
       "      <td>1692107.55</td>\n",
       "      <td>95900.0</td>\n",
       "      <td>48.0</td>\n",
       "      <td>48.0</td>\n",
       "      <td>1997.916667</td>\n",
       "      <td>1997.916667</td>\n",
       "      <td>apartment</td>\n",
       "    </tr>\n",
       "    <tr>\n",
       "      <th>121219</th>\n",
       "      <td>Capital Federal</td>\n",
       "      <td>129000.0</td>\n",
       "      <td>USD</td>\n",
       "      <td>2276140.50</td>\n",
       "      <td>129000.0</td>\n",
       "      <td>77.0</td>\n",
       "      <td>77.0</td>\n",
       "      <td>1675.324675</td>\n",
       "      <td>1675.324675</td>\n",
       "      <td>apartment</td>\n",
       "    </tr>\n",
       "  </tbody>\n",
       "</table>\n",
       "<p>121220 rows × 10 columns</p>\n",
       "</div>"
      ],
      "text/plain": [
       "             place_name     price currency  price_aprox_local_currency  \\\n",
       "0             Mataderos   62000.0      USD                  1093959.00   \n",
       "1              La Plata  150000.0      USD                  2646675.00   \n",
       "2             Mataderos   72000.0      USD                  1270404.00   \n",
       "3               Liniers   95000.0      USD                  1676227.50   \n",
       "4                Centro   64000.0      USD                  1129248.00   \n",
       "...                 ...       ...      ...                         ...   \n",
       "121215         Belgrano  870000.0      USD                 15350715.00   \n",
       "121216           Beccar  498000.0      USD                  8786961.00   \n",
       "121217    Villa Urquiza  131500.0      USD                  2320251.75   \n",
       "121218      Plaza Colón   95900.0      USD                  1692107.55   \n",
       "121219  Capital Federal  129000.0      USD                  2276140.50   \n",
       "\n",
       "        price_aprox_usd  surface_total_in_m2  surface_covered_in_m2  \\\n",
       "0               62000.0                 55.0                   40.0   \n",
       "1              150000.0                  NaN                    NaN   \n",
       "2               72000.0                 55.0                   55.0   \n",
       "3               95000.0                  NaN                    NaN   \n",
       "4               64000.0                 35.0                   35.0   \n",
       "...                 ...                  ...                    ...   \n",
       "121215         870000.0                113.0                   93.0   \n",
       "121216         498000.0                360.0                  360.0   \n",
       "121217         131500.0                 46.0                   39.0   \n",
       "121218          95900.0                 48.0                   48.0   \n",
       "121219         129000.0                 77.0                   77.0   \n",
       "\n",
       "        price_usd_per_m2  price_per_m2 property_type  \n",
       "0            1127.272727   1550.000000            PH  \n",
       "1                    NaN           NaN     apartment  \n",
       "2            1309.090909   1309.090909     apartment  \n",
       "3                    NaN           NaN            PH  \n",
       "4            1828.571429   1828.571429     apartment  \n",
       "...                  ...           ...           ...  \n",
       "121215       7699.115044   9354.838710     apartment  \n",
       "121216       1383.333333   1383.333333         house  \n",
       "121217       2858.695652   3371.794872     apartment  \n",
       "121218       1997.916667   1997.916667     apartment  \n",
       "121219       1675.324675   1675.324675     apartment  \n",
       "\n",
       "[121220 rows x 10 columns]"
      ]
     },
     "execution_count": 349,
     "metadata": {},
     "output_type": "execute_result"
    }
   ],
   "source": [
    "data_precio_1.drop(labels=\"price_aprox_local_currency_nuevo\", axis=1)"
   ]
  },
  {
   "cell_type": "code",
   "execution_count": 350,
   "metadata": {},
   "outputs": [
    {
     "data": {
      "text/plain": [
       "0          55.0\n",
       "1           NaN\n",
       "2          55.0\n",
       "3           NaN\n",
       "4          35.0\n",
       "          ...  \n",
       "121215    113.0\n",
       "121216    360.0\n",
       "121217     46.0\n",
       "121218     48.0\n",
       "121219     77.0\n",
       "Name: surface_total_in_m2, Length: 121220, dtype: float64"
      ]
     },
     "execution_count": 350,
     "metadata": {},
     "output_type": "execute_result"
    }
   ],
   "source": [
    "data_precio_1[\"surface_total_in_m2\"].replace(\"Nan\",data_precio_1[\"surface_covered_in_m2\"] )"
   ]
  },
  {
   "cell_type": "code",
   "execution_count": 351,
   "metadata": {},
   "outputs": [
    {
     "data": {
      "text/html": [
       "<div>\n",
       "<style scoped>\n",
       "    .dataframe tbody tr th:only-of-type {\n",
       "        vertical-align: middle;\n",
       "    }\n",
       "\n",
       "    .dataframe tbody tr th {\n",
       "        vertical-align: top;\n",
       "    }\n",
       "\n",
       "    .dataframe thead th {\n",
       "        text-align: right;\n",
       "    }\n",
       "</style>\n",
       "<table border=\"1\" class=\"dataframe\">\n",
       "  <thead>\n",
       "    <tr style=\"text-align: right;\">\n",
       "      <th></th>\n",
       "      <th>place_name</th>\n",
       "      <th>price</th>\n",
       "      <th>currency</th>\n",
       "      <th>price_aprox_local_currency</th>\n",
       "      <th>price_aprox_usd</th>\n",
       "      <th>surface_total_in_m2</th>\n",
       "      <th>surface_covered_in_m2</th>\n",
       "      <th>price_usd_per_m2</th>\n",
       "      <th>price_per_m2</th>\n",
       "      <th>property_type</th>\n",
       "      <th>price_aprox_local_currency_nuevo</th>\n",
       "    </tr>\n",
       "  </thead>\n",
       "  <tbody>\n",
       "    <tr>\n",
       "      <th>0</th>\n",
       "      <td>Mataderos</td>\n",
       "      <td>62000.0</td>\n",
       "      <td>USD</td>\n",
       "      <td>1093959.00</td>\n",
       "      <td>62000.0</td>\n",
       "      <td>55.0</td>\n",
       "      <td>40.0</td>\n",
       "      <td>1127.272727</td>\n",
       "      <td>19890.163636</td>\n",
       "      <td>PH</td>\n",
       "      <td>1093959.00</td>\n",
       "    </tr>\n",
       "    <tr>\n",
       "      <th>1</th>\n",
       "      <td>La Plata</td>\n",
       "      <td>150000.0</td>\n",
       "      <td>USD</td>\n",
       "      <td>2646675.00</td>\n",
       "      <td>150000.0</td>\n",
       "      <td>NaN</td>\n",
       "      <td>NaN</td>\n",
       "      <td>NaN</td>\n",
       "      <td>NaN</td>\n",
       "      <td>apartment</td>\n",
       "      <td>2646675.00</td>\n",
       "    </tr>\n",
       "    <tr>\n",
       "      <th>2</th>\n",
       "      <td>Mataderos</td>\n",
       "      <td>72000.0</td>\n",
       "      <td>USD</td>\n",
       "      <td>1270404.00</td>\n",
       "      <td>72000.0</td>\n",
       "      <td>55.0</td>\n",
       "      <td>55.0</td>\n",
       "      <td>1309.090909</td>\n",
       "      <td>23098.254545</td>\n",
       "      <td>apartment</td>\n",
       "      <td>1270404.00</td>\n",
       "    </tr>\n",
       "    <tr>\n",
       "      <th>3</th>\n",
       "      <td>Liniers</td>\n",
       "      <td>95000.0</td>\n",
       "      <td>USD</td>\n",
       "      <td>1676227.50</td>\n",
       "      <td>95000.0</td>\n",
       "      <td>NaN</td>\n",
       "      <td>NaN</td>\n",
       "      <td>NaN</td>\n",
       "      <td>NaN</td>\n",
       "      <td>PH</td>\n",
       "      <td>1676227.50</td>\n",
       "    </tr>\n",
       "    <tr>\n",
       "      <th>4</th>\n",
       "      <td>Centro</td>\n",
       "      <td>64000.0</td>\n",
       "      <td>USD</td>\n",
       "      <td>1129248.00</td>\n",
       "      <td>64000.0</td>\n",
       "      <td>35.0</td>\n",
       "      <td>35.0</td>\n",
       "      <td>1828.571429</td>\n",
       "      <td>32264.228571</td>\n",
       "      <td>apartment</td>\n",
       "      <td>1129248.00</td>\n",
       "    </tr>\n",
       "    <tr>\n",
       "      <th>...</th>\n",
       "      <td>...</td>\n",
       "      <td>...</td>\n",
       "      <td>...</td>\n",
       "      <td>...</td>\n",
       "      <td>...</td>\n",
       "      <td>...</td>\n",
       "      <td>...</td>\n",
       "      <td>...</td>\n",
       "      <td>...</td>\n",
       "      <td>...</td>\n",
       "      <td>...</td>\n",
       "    </tr>\n",
       "    <tr>\n",
       "      <th>121215</th>\n",
       "      <td>Belgrano</td>\n",
       "      <td>870000.0</td>\n",
       "      <td>USD</td>\n",
       "      <td>15350715.00</td>\n",
       "      <td>870000.0</td>\n",
       "      <td>113.0</td>\n",
       "      <td>93.0</td>\n",
       "      <td>7699.115044</td>\n",
       "      <td>135847.035398</td>\n",
       "      <td>apartment</td>\n",
       "      <td>15350715.00</td>\n",
       "    </tr>\n",
       "    <tr>\n",
       "      <th>121216</th>\n",
       "      <td>Beccar</td>\n",
       "      <td>498000.0</td>\n",
       "      <td>USD</td>\n",
       "      <td>8786961.00</td>\n",
       "      <td>498000.0</td>\n",
       "      <td>360.0</td>\n",
       "      <td>360.0</td>\n",
       "      <td>1383.333333</td>\n",
       "      <td>24408.225000</td>\n",
       "      <td>house</td>\n",
       "      <td>8786961.00</td>\n",
       "    </tr>\n",
       "    <tr>\n",
       "      <th>121217</th>\n",
       "      <td>Villa Urquiza</td>\n",
       "      <td>131500.0</td>\n",
       "      <td>USD</td>\n",
       "      <td>2320251.75</td>\n",
       "      <td>131500.0</td>\n",
       "      <td>46.0</td>\n",
       "      <td>39.0</td>\n",
       "      <td>2858.695652</td>\n",
       "      <td>50440.255435</td>\n",
       "      <td>apartment</td>\n",
       "      <td>2320251.75</td>\n",
       "    </tr>\n",
       "    <tr>\n",
       "      <th>121218</th>\n",
       "      <td>Plaza Colón</td>\n",
       "      <td>95900.0</td>\n",
       "      <td>USD</td>\n",
       "      <td>1692107.55</td>\n",
       "      <td>95900.0</td>\n",
       "      <td>48.0</td>\n",
       "      <td>48.0</td>\n",
       "      <td>1997.916667</td>\n",
       "      <td>35252.240625</td>\n",
       "      <td>apartment</td>\n",
       "      <td>1692107.55</td>\n",
       "    </tr>\n",
       "    <tr>\n",
       "      <th>121219</th>\n",
       "      <td>Capital Federal</td>\n",
       "      <td>129000.0</td>\n",
       "      <td>USD</td>\n",
       "      <td>2276140.50</td>\n",
       "      <td>129000.0</td>\n",
       "      <td>77.0</td>\n",
       "      <td>77.0</td>\n",
       "      <td>1675.324675</td>\n",
       "      <td>29560.266234</td>\n",
       "      <td>apartment</td>\n",
       "      <td>2276140.50</td>\n",
       "    </tr>\n",
       "  </tbody>\n",
       "</table>\n",
       "<p>121220 rows × 11 columns</p>\n",
       "</div>"
      ],
      "text/plain": [
       "             place_name     price currency  price_aprox_local_currency  \\\n",
       "0             Mataderos   62000.0      USD                  1093959.00   \n",
       "1              La Plata  150000.0      USD                  2646675.00   \n",
       "2             Mataderos   72000.0      USD                  1270404.00   \n",
       "3               Liniers   95000.0      USD                  1676227.50   \n",
       "4                Centro   64000.0      USD                  1129248.00   \n",
       "...                 ...       ...      ...                         ...   \n",
       "121215         Belgrano  870000.0      USD                 15350715.00   \n",
       "121216           Beccar  498000.0      USD                  8786961.00   \n",
       "121217    Villa Urquiza  131500.0      USD                  2320251.75   \n",
       "121218      Plaza Colón   95900.0      USD                  1692107.55   \n",
       "121219  Capital Federal  129000.0      USD                  2276140.50   \n",
       "\n",
       "        price_aprox_usd  surface_total_in_m2  surface_covered_in_m2  \\\n",
       "0               62000.0                 55.0                   40.0   \n",
       "1              150000.0                  NaN                    NaN   \n",
       "2               72000.0                 55.0                   55.0   \n",
       "3               95000.0                  NaN                    NaN   \n",
       "4               64000.0                 35.0                   35.0   \n",
       "...                 ...                  ...                    ...   \n",
       "121215         870000.0                113.0                   93.0   \n",
       "121216         498000.0                360.0                  360.0   \n",
       "121217         131500.0                 46.0                   39.0   \n",
       "121218          95900.0                 48.0                   48.0   \n",
       "121219         129000.0                 77.0                   77.0   \n",
       "\n",
       "        price_usd_per_m2   price_per_m2 property_type  \\\n",
       "0            1127.272727   19890.163636            PH   \n",
       "1                    NaN            NaN     apartment   \n",
       "2            1309.090909   23098.254545     apartment   \n",
       "3                    NaN            NaN            PH   \n",
       "4            1828.571429   32264.228571     apartment   \n",
       "...                  ...            ...           ...   \n",
       "121215       7699.115044  135847.035398     apartment   \n",
       "121216       1383.333333   24408.225000         house   \n",
       "121217       2858.695652   50440.255435     apartment   \n",
       "121218       1997.916667   35252.240625     apartment   \n",
       "121219       1675.324675   29560.266234     apartment   \n",
       "\n",
       "        price_aprox_local_currency_nuevo  \n",
       "0                             1093959.00  \n",
       "1                             2646675.00  \n",
       "2                             1270404.00  \n",
       "3                             1676227.50  \n",
       "4                             1129248.00  \n",
       "...                                  ...  \n",
       "121215                       15350715.00  \n",
       "121216                        8786961.00  \n",
       "121217                        2320251.75  \n",
       "121218                        1692107.55  \n",
       "121219                        2276140.50  \n",
       "\n",
       "[121220 rows x 11 columns]"
      ]
     },
     "execution_count": 351,
     "metadata": {},
     "output_type": "execute_result"
    }
   ],
   "source": [
    "data_precio_1[\"price_usd_per_m2\"] = data_precio_1[\"price\"]/data_precio_1[\"surface_total_in_m2\"]\n",
    "data_precio_1[\"price_per_m2\"] = data_precio_1[\"price_aprox_local_currency\"]/data_precio_1[\"surface_total_in_m2\"]\n",
    "data_precio_1"
   ]
  },
  {
   "cell_type": "code",
   "execution_count": 352,
   "metadata": {},
   "outputs": [
    {
     "data": {
      "text/plain": [
       "place_name                             23\n",
       "price                               20410\n",
       "currency                            20411\n",
       "price_aprox_local_currency          20411\n",
       "price_aprox_usd                     20410\n",
       "surface_total_in_m2                 39328\n",
       "surface_covered_in_m2               19907\n",
       "price_usd_per_m2                    52354\n",
       "price_per_m2                        52354\n",
       "property_type                           0\n",
       "price_aprox_local_currency_nuevo    20411\n",
       "dtype: int64"
      ]
     },
     "execution_count": 352,
     "metadata": {},
     "output_type": "execute_result"
    }
   ],
   "source": [
    "data_precio_1.isnull().sum()"
   ]
  },
  {
   "cell_type": "code",
   "execution_count": 353,
   "metadata": {},
   "outputs": [
    {
     "data": {
      "text/html": [
       "<div>\n",
       "<style scoped>\n",
       "    .dataframe tbody tr th:only-of-type {\n",
       "        vertical-align: middle;\n",
       "    }\n",
       "\n",
       "    .dataframe tbody tr th {\n",
       "        vertical-align: top;\n",
       "    }\n",
       "\n",
       "    .dataframe thead th {\n",
       "        text-align: right;\n",
       "    }\n",
       "</style>\n",
       "<table border=\"1\" class=\"dataframe\">\n",
       "  <thead>\n",
       "    <tr style=\"text-align: right;\">\n",
       "      <th></th>\n",
       "      <th>place_name</th>\n",
       "      <th>price</th>\n",
       "      <th>currency</th>\n",
       "      <th>price_aprox_local_currency</th>\n",
       "      <th>price_aprox_usd</th>\n",
       "      <th>surface_total_in_m2</th>\n",
       "      <th>surface_covered_in_m2</th>\n",
       "      <th>price_usd_per_m2</th>\n",
       "      <th>price_per_m2</th>\n",
       "      <th>property_type</th>\n",
       "      <th>price_aprox_local_currency_nuevo</th>\n",
       "    </tr>\n",
       "  </thead>\n",
       "  <tbody>\n",
       "    <tr>\n",
       "      <th>0</th>\n",
       "      <td>Mataderos</td>\n",
       "      <td>62000.0</td>\n",
       "      <td>USD</td>\n",
       "      <td>1093959.00</td>\n",
       "      <td>62000.0</td>\n",
       "      <td>55.0</td>\n",
       "      <td>40.0</td>\n",
       "      <td>1127.272727</td>\n",
       "      <td>19890.163636</td>\n",
       "      <td>PH</td>\n",
       "      <td>1093959.00</td>\n",
       "    </tr>\n",
       "    <tr>\n",
       "      <th>1</th>\n",
       "      <td>La Plata</td>\n",
       "      <td>150000.0</td>\n",
       "      <td>USD</td>\n",
       "      <td>2646675.00</td>\n",
       "      <td>150000.0</td>\n",
       "      <td>NaN</td>\n",
       "      <td>NaN</td>\n",
       "      <td>NaN</td>\n",
       "      <td>NaN</td>\n",
       "      <td>apartment</td>\n",
       "      <td>2646675.00</td>\n",
       "    </tr>\n",
       "    <tr>\n",
       "      <th>2</th>\n",
       "      <td>Mataderos</td>\n",
       "      <td>72000.0</td>\n",
       "      <td>USD</td>\n",
       "      <td>1270404.00</td>\n",
       "      <td>72000.0</td>\n",
       "      <td>55.0</td>\n",
       "      <td>55.0</td>\n",
       "      <td>1309.090909</td>\n",
       "      <td>23098.254545</td>\n",
       "      <td>apartment</td>\n",
       "      <td>1270404.00</td>\n",
       "    </tr>\n",
       "    <tr>\n",
       "      <th>3</th>\n",
       "      <td>Liniers</td>\n",
       "      <td>95000.0</td>\n",
       "      <td>USD</td>\n",
       "      <td>1676227.50</td>\n",
       "      <td>95000.0</td>\n",
       "      <td>NaN</td>\n",
       "      <td>NaN</td>\n",
       "      <td>NaN</td>\n",
       "      <td>NaN</td>\n",
       "      <td>PH</td>\n",
       "      <td>1676227.50</td>\n",
       "    </tr>\n",
       "    <tr>\n",
       "      <th>4</th>\n",
       "      <td>Centro</td>\n",
       "      <td>64000.0</td>\n",
       "      <td>USD</td>\n",
       "      <td>1129248.00</td>\n",
       "      <td>64000.0</td>\n",
       "      <td>35.0</td>\n",
       "      <td>35.0</td>\n",
       "      <td>1828.571429</td>\n",
       "      <td>32264.228571</td>\n",
       "      <td>apartment</td>\n",
       "      <td>1129248.00</td>\n",
       "    </tr>\n",
       "    <tr>\n",
       "      <th>...</th>\n",
       "      <td>...</td>\n",
       "      <td>...</td>\n",
       "      <td>...</td>\n",
       "      <td>...</td>\n",
       "      <td>...</td>\n",
       "      <td>...</td>\n",
       "      <td>...</td>\n",
       "      <td>...</td>\n",
       "      <td>...</td>\n",
       "      <td>...</td>\n",
       "      <td>...</td>\n",
       "    </tr>\n",
       "    <tr>\n",
       "      <th>121215</th>\n",
       "      <td>Belgrano</td>\n",
       "      <td>870000.0</td>\n",
       "      <td>USD</td>\n",
       "      <td>15350715.00</td>\n",
       "      <td>870000.0</td>\n",
       "      <td>113.0</td>\n",
       "      <td>93.0</td>\n",
       "      <td>7699.115044</td>\n",
       "      <td>135847.035398</td>\n",
       "      <td>apartment</td>\n",
       "      <td>15350715.00</td>\n",
       "    </tr>\n",
       "    <tr>\n",
       "      <th>121216</th>\n",
       "      <td>Beccar</td>\n",
       "      <td>498000.0</td>\n",
       "      <td>USD</td>\n",
       "      <td>8786961.00</td>\n",
       "      <td>498000.0</td>\n",
       "      <td>360.0</td>\n",
       "      <td>360.0</td>\n",
       "      <td>1383.333333</td>\n",
       "      <td>24408.225000</td>\n",
       "      <td>house</td>\n",
       "      <td>8786961.00</td>\n",
       "    </tr>\n",
       "    <tr>\n",
       "      <th>121217</th>\n",
       "      <td>Villa Urquiza</td>\n",
       "      <td>131500.0</td>\n",
       "      <td>USD</td>\n",
       "      <td>2320251.75</td>\n",
       "      <td>131500.0</td>\n",
       "      <td>46.0</td>\n",
       "      <td>39.0</td>\n",
       "      <td>2858.695652</td>\n",
       "      <td>50440.255435</td>\n",
       "      <td>apartment</td>\n",
       "      <td>2320251.75</td>\n",
       "    </tr>\n",
       "    <tr>\n",
       "      <th>121218</th>\n",
       "      <td>Plaza Colón</td>\n",
       "      <td>95900.0</td>\n",
       "      <td>USD</td>\n",
       "      <td>1692107.55</td>\n",
       "      <td>95900.0</td>\n",
       "      <td>48.0</td>\n",
       "      <td>48.0</td>\n",
       "      <td>1997.916667</td>\n",
       "      <td>35252.240625</td>\n",
       "      <td>apartment</td>\n",
       "      <td>1692107.55</td>\n",
       "    </tr>\n",
       "    <tr>\n",
       "      <th>121219</th>\n",
       "      <td>Capital Federal</td>\n",
       "      <td>129000.0</td>\n",
       "      <td>USD</td>\n",
       "      <td>2276140.50</td>\n",
       "      <td>129000.0</td>\n",
       "      <td>77.0</td>\n",
       "      <td>77.0</td>\n",
       "      <td>1675.324675</td>\n",
       "      <td>29560.266234</td>\n",
       "      <td>apartment</td>\n",
       "      <td>2276140.50</td>\n",
       "    </tr>\n",
       "  </tbody>\n",
       "</table>\n",
       "<p>100810 rows × 11 columns</p>\n",
       "</div>"
      ],
      "text/plain": [
       "             place_name     price currency  price_aprox_local_currency  \\\n",
       "0             Mataderos   62000.0      USD                  1093959.00   \n",
       "1              La Plata  150000.0      USD                  2646675.00   \n",
       "2             Mataderos   72000.0      USD                  1270404.00   \n",
       "3               Liniers   95000.0      USD                  1676227.50   \n",
       "4                Centro   64000.0      USD                  1129248.00   \n",
       "...                 ...       ...      ...                         ...   \n",
       "121215         Belgrano  870000.0      USD                 15350715.00   \n",
       "121216           Beccar  498000.0      USD                  8786961.00   \n",
       "121217    Villa Urquiza  131500.0      USD                  2320251.75   \n",
       "121218      Plaza Colón   95900.0      USD                  1692107.55   \n",
       "121219  Capital Federal  129000.0      USD                  2276140.50   \n",
       "\n",
       "        price_aprox_usd  surface_total_in_m2  surface_covered_in_m2  \\\n",
       "0               62000.0                 55.0                   40.0   \n",
       "1              150000.0                  NaN                    NaN   \n",
       "2               72000.0                 55.0                   55.0   \n",
       "3               95000.0                  NaN                    NaN   \n",
       "4               64000.0                 35.0                   35.0   \n",
       "...                 ...                  ...                    ...   \n",
       "121215         870000.0                113.0                   93.0   \n",
       "121216         498000.0                360.0                  360.0   \n",
       "121217         131500.0                 46.0                   39.0   \n",
       "121218          95900.0                 48.0                   48.0   \n",
       "121219         129000.0                 77.0                   77.0   \n",
       "\n",
       "        price_usd_per_m2   price_per_m2 property_type  \\\n",
       "0            1127.272727   19890.163636            PH   \n",
       "1                    NaN            NaN     apartment   \n",
       "2            1309.090909   23098.254545     apartment   \n",
       "3                    NaN            NaN            PH   \n",
       "4            1828.571429   32264.228571     apartment   \n",
       "...                  ...            ...           ...   \n",
       "121215       7699.115044  135847.035398     apartment   \n",
       "121216       1383.333333   24408.225000         house   \n",
       "121217       2858.695652   50440.255435     apartment   \n",
       "121218       1997.916667   35252.240625     apartment   \n",
       "121219       1675.324675   29560.266234     apartment   \n",
       "\n",
       "        price_aprox_local_currency_nuevo  \n",
       "0                             1093959.00  \n",
       "1                             2646675.00  \n",
       "2                             1270404.00  \n",
       "3                             1676227.50  \n",
       "4                             1129248.00  \n",
       "...                                  ...  \n",
       "121215                       15350715.00  \n",
       "121216                        8786961.00  \n",
       "121217                        2320251.75  \n",
       "121218                        1692107.55  \n",
       "121219                        2276140.50  \n",
       "\n",
       "[100810 rows x 11 columns]"
      ]
     },
     "execution_count": 353,
     "metadata": {},
     "output_type": "execute_result"
    }
   ],
   "source": [
    "mask=data_precio_1[\"price\"].notnull()\n",
    "con_precios = data_precio_1.loc[mask, :]\n",
    "con_precios"
   ]
  },
  {
   "cell_type": "code",
   "execution_count": 354,
   "metadata": {},
   "outputs": [],
   "source": [
    "data[['price_nuevo', 'currency_nuevo', 'price_aprox_local_currency_nuevo', 'price_aprox_usd_nuevo', 'surface_total_in_m2_nuevo',\\\n",
    "      'surface_covered_in_m2_nuevo', 'price_usd_per_m2_nuevo', 'price_per_m2_nuevo']] = data_precio_1.loc[:,'price':'price_per_m2']"
   ]
  },
  {
   "cell_type": "code",
   "execution_count": 355,
   "metadata": {},
   "outputs": [
    {
     "data": {
      "text/plain": [
       "Index(['Unnamed: 0', 'operation', 'property_type', 'place_name',\n",
       "       'place_with_parent_names', 'country_name', 'state_name', 'geonames_id',\n",
       "       'lat-lon', 'lat', 'lon', 'price', 'currency',\n",
       "       'price_aprox_local_currency', 'price_aprox_usd', 'surface_total_in_m2',\n",
       "       'surface_covered_in_m2', 'price_usd_per_m2', 'price_per_m2', 'floor',\n",
       "       'rooms', 'expenses', 'properati_url', 'description', 'title',\n",
       "       'image_thumbnail', 'rooms_completo', 'PILETA', 'PARRILLA',\n",
       "       'PATIO_JARDIN', 'expenses_bool', 'expenses_nuevo', 'geonames_id_nuevo',\n",
       "       'lat-lon_nuevo', 'lat_nuevo', 'lon_nuevo', 'floor_copia',\n",
       "       'property_type_copia', 'description_copia', 'title_copia', 'ant',\n",
       "       'price_nuevo', 'currency_nuevo', 'price_aprox_local_currency_nuevo',\n",
       "       'price_aprox_usd_nuevo', 'surface_total_in_m2_nuevo',\n",
       "       'surface_covered_in_m2_nuevo', 'price_usd_per_m2_nuevo',\n",
       "       'price_per_m2_nuevo'],\n",
       "      dtype='object')"
      ]
     },
     "execution_count": 355,
     "metadata": {},
     "output_type": "execute_result"
    }
   ],
   "source": [
    "data.columns"
   ]
  },
  {
   "cell_type": "markdown",
   "metadata": {},
   "source": [
    "<a id=\"section_limpieza_places\"></a> \n",
    "\n",
    "### Limpieza de la columna Places\n",
    "\n",
    "[volver a Indice](#section_indice)\n"
   ]
  },
  {
   "cell_type": "code",
   "execution_count": 356,
   "metadata": {},
   "outputs": [],
   "source": [
    "estructura_places = pd.DataFrame(data.place_with_parent_names.str.split('|', 6).tolist(),\n",
    "                                   columns = ['1', 'pais','provincia','localidad','zona','barrio','lugar'])"
   ]
  },
  {
   "cell_type": "markdown",
   "metadata": {},
   "source": [
    "#### Tomamos los datos \"None\" y los transformamos en vacíos"
   ]
  },
  {
   "cell_type": "code",
   "execution_count": 357,
   "metadata": {},
   "outputs": [],
   "source": [
    "estructura_places.fillna(value=\"\", inplace=True)"
   ]
  },
  {
   "cell_type": "markdown",
   "metadata": {},
   "source": [
    "#### Tomamos los datos vacíos y copiamos la información del \"padre\" directo"
   ]
  },
  {
   "cell_type": "code",
   "execution_count": 358,
   "metadata": {},
   "outputs": [
    {
     "data": {
      "text/html": [
       "<div>\n",
       "<style scoped>\n",
       "    .dataframe tbody tr th:only-of-type {\n",
       "        vertical-align: middle;\n",
       "    }\n",
       "\n",
       "    .dataframe tbody tr th {\n",
       "        vertical-align: top;\n",
       "    }\n",
       "\n",
       "    .dataframe thead th {\n",
       "        text-align: right;\n",
       "    }\n",
       "</style>\n",
       "<table border=\"1\" class=\"dataframe\">\n",
       "  <thead>\n",
       "    <tr style=\"text-align: right;\">\n",
       "      <th></th>\n",
       "      <th>1</th>\n",
       "      <th>pais</th>\n",
       "      <th>provincia</th>\n",
       "      <th>localidad</th>\n",
       "      <th>zona</th>\n",
       "      <th>barrio</th>\n",
       "      <th>lugar</th>\n",
       "    </tr>\n",
       "  </thead>\n",
       "  <tbody>\n",
       "    <tr>\n",
       "      <th>0</th>\n",
       "      <td></td>\n",
       "      <td>Argentina</td>\n",
       "      <td>Capital Federal</td>\n",
       "      <td>Mataderos</td>\n",
       "      <td>Mataderos</td>\n",
       "      <td>Mataderos</td>\n",
       "      <td>Mataderos</td>\n",
       "    </tr>\n",
       "    <tr>\n",
       "      <th>1</th>\n",
       "      <td></td>\n",
       "      <td>Argentina</td>\n",
       "      <td>Bs.As. G.B.A. Zona Sur</td>\n",
       "      <td>La Plata</td>\n",
       "      <td>La Plata</td>\n",
       "      <td>La Plata</td>\n",
       "      <td>La Plata</td>\n",
       "    </tr>\n",
       "    <tr>\n",
       "      <th>2</th>\n",
       "      <td></td>\n",
       "      <td>Argentina</td>\n",
       "      <td>Capital Federal</td>\n",
       "      <td>Mataderos</td>\n",
       "      <td>Mataderos</td>\n",
       "      <td>Mataderos</td>\n",
       "      <td>Mataderos</td>\n",
       "    </tr>\n",
       "  </tbody>\n",
       "</table>\n",
       "</div>"
      ],
      "text/plain": [
       "  1       pais               provincia  localidad       zona     barrio  \\\n",
       "0    Argentina         Capital Federal  Mataderos  Mataderos  Mataderos   \n",
       "1    Argentina  Bs.As. G.B.A. Zona Sur   La Plata   La Plata   La Plata   \n",
       "2    Argentina         Capital Federal  Mataderos  Mataderos  Mataderos   \n",
       "\n",
       "       lugar  \n",
       "0  Mataderos  \n",
       "1   La Plata  \n",
       "2  Mataderos  "
      ]
     },
     "execution_count": 358,
     "metadata": {},
     "output_type": "execute_result"
    }
   ],
   "source": [
    "estructura_places.loc[estructura_places[\"localidad\"] == '','localidad'] = estructura_places[\"provincia\"]\n",
    "estructura_places.loc[estructura_places[\"zona\"] == '','zona'] = estructura_places[\"localidad\"]\n",
    "estructura_places.loc[estructura_places[\"barrio\"] == '','barrio'] = estructura_places[\"zona\"]\n",
    "estructura_places.loc[estructura_places[\"lugar\"] == '','lugar'] = estructura_places[\"barrio\"]\n",
    "estructura_places.head(3)"
   ]
  },
  {
   "cell_type": "markdown",
   "metadata": {},
   "source": [
    "#### Joineamos la el dataset con el original"
   ]
  },
  {
   "cell_type": "code",
   "execution_count": 359,
   "metadata": {},
   "outputs": [],
   "source": [
    "data = data.join(estructura_places)"
   ]
  },
  {
   "cell_type": "markdown",
   "metadata": {},
   "source": [
    "### Analizamos el resultado final y eliminamos las variables duplicadas e inncesarias"
   ]
  },
  {
   "cell_type": "code",
   "execution_count": 360,
   "metadata": {},
   "outputs": [
    {
     "data": {
      "text/plain": [
       "Unnamed: 0                            int64\n",
       "operation                            object\n",
       "property_type                        object\n",
       "place_name                           object\n",
       "place_with_parent_names              object\n",
       "country_name                         object\n",
       "state_name                           object\n",
       "geonames_id                         float64\n",
       "lat-lon                              object\n",
       "lat                                 float64\n",
       "lon                                 float64\n",
       "price                               float64\n",
       "currency                             object\n",
       "price_aprox_local_currency          float64\n",
       "price_aprox_usd                     float64\n",
       "surface_total_in_m2                 float64\n",
       "surface_covered_in_m2               float64\n",
       "price_usd_per_m2                    float64\n",
       "price_per_m2                        float64\n",
       "floor                               float64\n",
       "rooms                               float64\n",
       "expenses                            float64\n",
       "properati_url                        object\n",
       "description                          object\n",
       "title                                object\n",
       "image_thumbnail                      object\n",
       "rooms_completo                      float64\n",
       "PILETA                                 bool\n",
       "PARRILLA                               bool\n",
       "PATIO_JARDIN                           bool\n",
       "expenses_bool                        object\n",
       "expenses_nuevo                      float64\n",
       "geonames_id_nuevo                   float64\n",
       "lat-lon_nuevo                        object\n",
       "lat_nuevo                           float64\n",
       "lon_nuevo                           float64\n",
       "floor_copia                         float64\n",
       "property_type_copia                  object\n",
       "description_copia                    object\n",
       "title_copia                          object\n",
       "ant                                  object\n",
       "price_nuevo                         float64\n",
       "currency_nuevo                       object\n",
       "price_aprox_local_currency_nuevo    float64\n",
       "price_aprox_usd_nuevo               float64\n",
       "surface_total_in_m2_nuevo           float64\n",
       "surface_covered_in_m2_nuevo         float64\n",
       "price_usd_per_m2_nuevo              float64\n",
       "price_per_m2_nuevo                  float64\n",
       "1                                    object\n",
       "pais                                 object\n",
       "provincia                            object\n",
       "localidad                            object\n",
       "zona                                 object\n",
       "barrio                               object\n",
       "lugar                                object\n",
       "dtype: object"
      ]
     },
     "execution_count": 360,
     "metadata": {},
     "output_type": "execute_result"
    }
   ],
   "source": [
    "data.dtypes"
   ]
  },
  {
   "cell_type": "code",
   "execution_count": 361,
   "metadata": {},
   "outputs": [],
   "source": [
    "data.drop(['Unnamed: 0', 'operation', 'property_type_copia', 'place_with_parent_names', 'country_name', 'geonames_id', 'lat-lon',\\\n",
    "          'lat', 'lon','1', 'price', 'currency', 'price', 'currency', 'price_aprox_local_currency', 'price_aprox_usd',\\\n",
    "          'surface_total_in_m2', 'surface_covered_in_m2', 'price_usd_per_m2', 'price_per_m2', 'floor', 'rooms', 'expenses',\\\n",
    "          'properati_url', 'image_thumbnail'], axis =1, inplace = True)"
   ]
  },
  {
   "cell_type": "code",
   "execution_count": 362,
   "metadata": {},
   "outputs": [
    {
     "data": {
      "text/html": [
       "<div>\n",
       "<style scoped>\n",
       "    .dataframe tbody tr th:only-of-type {\n",
       "        vertical-align: middle;\n",
       "    }\n",
       "\n",
       "    .dataframe tbody tr th {\n",
       "        vertical-align: top;\n",
       "    }\n",
       "\n",
       "    .dataframe thead th {\n",
       "        text-align: right;\n",
       "    }\n",
       "</style>\n",
       "<table border=\"1\" class=\"dataframe\">\n",
       "  <thead>\n",
       "    <tr style=\"text-align: right;\">\n",
       "      <th></th>\n",
       "      <th>property_type</th>\n",
       "      <th>place_name</th>\n",
       "      <th>state_name</th>\n",
       "      <th>description</th>\n",
       "      <th>title</th>\n",
       "      <th>rooms_completo</th>\n",
       "      <th>PILETA</th>\n",
       "      <th>PARRILLA</th>\n",
       "      <th>PATIO_JARDIN</th>\n",
       "      <th>expenses_bool</th>\n",
       "      <th>expenses_nuevo</th>\n",
       "      <th>geonames_id_nuevo</th>\n",
       "      <th>lat-lon_nuevo</th>\n",
       "      <th>lat_nuevo</th>\n",
       "      <th>lon_nuevo</th>\n",
       "      <th>floor_copia</th>\n",
       "      <th>description_copia</th>\n",
       "      <th>title_copia</th>\n",
       "      <th>ant</th>\n",
       "      <th>price_nuevo</th>\n",
       "      <th>currency_nuevo</th>\n",
       "      <th>price_aprox_local_currency_nuevo</th>\n",
       "      <th>price_aprox_usd_nuevo</th>\n",
       "      <th>surface_total_in_m2_nuevo</th>\n",
       "      <th>surface_covered_in_m2_nuevo</th>\n",
       "      <th>price_usd_per_m2_nuevo</th>\n",
       "      <th>price_per_m2_nuevo</th>\n",
       "      <th>pais</th>\n",
       "      <th>provincia</th>\n",
       "      <th>localidad</th>\n",
       "      <th>zona</th>\n",
       "      <th>barrio</th>\n",
       "      <th>lugar</th>\n",
       "    </tr>\n",
       "  </thead>\n",
       "  <tbody>\n",
       "    <tr>\n",
       "      <th>0</th>\n",
       "      <td>PH</td>\n",
       "      <td>Mataderos</td>\n",
       "      <td>Capital Federal</td>\n",
       "      <td>2 AMBIENTES TIPO CASA PLANTA BAJA POR PASILLO,...</td>\n",
       "      <td>2 AMB TIPO CASA SIN EXPENSAS EN PB</td>\n",
       "      <td>0.0</td>\n",
       "      <td>False</td>\n",
       "      <td>False</td>\n",
       "      <td>False</td>\n",
       "      <td>NO</td>\n",
       "      <td>0.000000</td>\n",
       "      <td>3430787.0</td>\n",
       "      <td>-34.6618237,-58.5088387</td>\n",
       "      <td>-34.661824</td>\n",
       "      <td>-58.508839</td>\n",
       "      <td>0.0</td>\n",
       "      <td></td>\n",
       "      <td></td>\n",
       "      <td>otros</td>\n",
       "      <td>62000.0</td>\n",
       "      <td>USD</td>\n",
       "      <td>1093959.0</td>\n",
       "      <td>62000.0</td>\n",
       "      <td>55.0</td>\n",
       "      <td>40.0</td>\n",
       "      <td>1127.272727</td>\n",
       "      <td>19890.163636</td>\n",
       "      <td>Argentina</td>\n",
       "      <td>Capital Federal</td>\n",
       "      <td>Mataderos</td>\n",
       "      <td>Mataderos</td>\n",
       "      <td>Mataderos</td>\n",
       "      <td>Mataderos</td>\n",
       "    </tr>\n",
       "    <tr>\n",
       "      <th>1</th>\n",
       "      <td>apartment</td>\n",
       "      <td>La Plata</td>\n",
       "      <td>Bs.As. G.B.A. Zona Sur</td>\n",
       "      <td>Venta de departamento en décimo piso al frente...</td>\n",
       "      <td>VENTA Depto 2 dorm. a estrenar 7 e/ 36 y 37   ...</td>\n",
       "      <td>2.0</td>\n",
       "      <td>False</td>\n",
       "      <td>False</td>\n",
       "      <td>False</td>\n",
       "      <td>SI</td>\n",
       "      <td>3019.709032</td>\n",
       "      <td>3432039.0</td>\n",
       "      <td>-34.9038831,-57.9643295</td>\n",
       "      <td>-34.903883</td>\n",
       "      <td>-57.964330</td>\n",
       "      <td>10.0</td>\n",
       "      <td></td>\n",
       "      <td></td>\n",
       "      <td>a_estrenar</td>\n",
       "      <td>150000.0</td>\n",
       "      <td>USD</td>\n",
       "      <td>2646675.0</td>\n",
       "      <td>150000.0</td>\n",
       "      <td>NaN</td>\n",
       "      <td>NaN</td>\n",
       "      <td>NaN</td>\n",
       "      <td>NaN</td>\n",
       "      <td>Argentina</td>\n",
       "      <td>Bs.As. G.B.A. Zona Sur</td>\n",
       "      <td>La Plata</td>\n",
       "      <td>La Plata</td>\n",
       "      <td>La Plata</td>\n",
       "      <td>La Plata</td>\n",
       "    </tr>\n",
       "    <tr>\n",
       "      <th>2</th>\n",
       "      <td>apartment</td>\n",
       "      <td>Mataderos</td>\n",
       "      <td>Capital Federal</td>\n",
       "      <td>2 AMBIENTES 3ER PISO LATERAL LIVING COMEDOR AM...</td>\n",
       "      <td>2 AMB 3ER PISO CON ASCENSOR APTO CREDITO</td>\n",
       "      <td>0.0</td>\n",
       "      <td>False</td>\n",
       "      <td>False</td>\n",
       "      <td>False</td>\n",
       "      <td>SI</td>\n",
       "      <td>1982.219551</td>\n",
       "      <td>3430787.0</td>\n",
       "      <td>-34.6522615,-58.5229825</td>\n",
       "      <td>-34.652262</td>\n",
       "      <td>-58.522982</td>\n",
       "      <td>3.0</td>\n",
       "      <td></td>\n",
       "      <td></td>\n",
       "      <td>otros</td>\n",
       "      <td>72000.0</td>\n",
       "      <td>USD</td>\n",
       "      <td>1270404.0</td>\n",
       "      <td>72000.0</td>\n",
       "      <td>55.0</td>\n",
       "      <td>55.0</td>\n",
       "      <td>1309.090909</td>\n",
       "      <td>23098.254545</td>\n",
       "      <td>Argentina</td>\n",
       "      <td>Capital Federal</td>\n",
       "      <td>Mataderos</td>\n",
       "      <td>Mataderos</td>\n",
       "      <td>Mataderos</td>\n",
       "      <td>Mataderos</td>\n",
       "    </tr>\n",
       "  </tbody>\n",
       "</table>\n",
       "</div>"
      ],
      "text/plain": [
       "  property_type place_name              state_name  \\\n",
       "0            PH  Mataderos         Capital Federal   \n",
       "1     apartment   La Plata  Bs.As. G.B.A. Zona Sur   \n",
       "2     apartment  Mataderos         Capital Federal   \n",
       "\n",
       "                                         description  \\\n",
       "0  2 AMBIENTES TIPO CASA PLANTA BAJA POR PASILLO,...   \n",
       "1  Venta de departamento en décimo piso al frente...   \n",
       "2  2 AMBIENTES 3ER PISO LATERAL LIVING COMEDOR AM...   \n",
       "\n",
       "                                               title  rooms_completo  PILETA  \\\n",
       "0                 2 AMB TIPO CASA SIN EXPENSAS EN PB             0.0   False   \n",
       "1  VENTA Depto 2 dorm. a estrenar 7 e/ 36 y 37   ...             2.0   False   \n",
       "2           2 AMB 3ER PISO CON ASCENSOR APTO CREDITO             0.0   False   \n",
       "\n",
       "   PARRILLA  PATIO_JARDIN expenses_bool  expenses_nuevo  geonames_id_nuevo  \\\n",
       "0     False         False            NO        0.000000          3430787.0   \n",
       "1     False         False            SI     3019.709032          3432039.0   \n",
       "2     False         False            SI     1982.219551          3430787.0   \n",
       "\n",
       "             lat-lon_nuevo  lat_nuevo  lon_nuevo  floor_copia  \\\n",
       "0  -34.6618237,-58.5088387 -34.661824 -58.508839          0.0   \n",
       "1  -34.9038831,-57.9643295 -34.903883 -57.964330         10.0   \n",
       "2  -34.6522615,-58.5229825 -34.652262 -58.522982          3.0   \n",
       "\n",
       "  description_copia title_copia         ant  price_nuevo currency_nuevo  \\\n",
       "0                                     otros      62000.0            USD   \n",
       "1                                a_estrenar     150000.0            USD   \n",
       "2                                     otros      72000.0            USD   \n",
       "\n",
       "   price_aprox_local_currency_nuevo  price_aprox_usd_nuevo  \\\n",
       "0                         1093959.0                62000.0   \n",
       "1                         2646675.0               150000.0   \n",
       "2                         1270404.0                72000.0   \n",
       "\n",
       "   surface_total_in_m2_nuevo  surface_covered_in_m2_nuevo  \\\n",
       "0                       55.0                         40.0   \n",
       "1                        NaN                          NaN   \n",
       "2                       55.0                         55.0   \n",
       "\n",
       "   price_usd_per_m2_nuevo  price_per_m2_nuevo       pais  \\\n",
       "0             1127.272727        19890.163636  Argentina   \n",
       "1                     NaN                 NaN  Argentina   \n",
       "2             1309.090909        23098.254545  Argentina   \n",
       "\n",
       "                provincia  localidad       zona     barrio      lugar  \n",
       "0         Capital Federal  Mataderos  Mataderos  Mataderos  Mataderos  \n",
       "1  Bs.As. G.B.A. Zona Sur   La Plata   La Plata   La Plata   La Plata  \n",
       "2         Capital Federal  Mataderos  Mataderos  Mataderos  Mataderos  "
      ]
     },
     "execution_count": 362,
     "metadata": {},
     "output_type": "execute_result"
    }
   ],
   "source": [
    "pd.options.display.max_columns = None\n",
    "data.head(3)"
   ]
  },
  {
   "cell_type": "markdown",
   "metadata": {},
   "source": [
    "<a id=\"section_mitos_o_realidades\"></a> \n",
    "\n",
    "## Definición de Mitos o Realidades\n",
    "\n",
    "[volver a Indice](#section_indice)"
   ]
  },
  {
   "cell_type": "markdown",
   "metadata": {},
   "source": [
    "Nos planteamos algunas preguntas en forma de mito o realidad con el objetivo de establecer a partir de los datos si existe la posibilidad de afirmar o refutar el mito.\n",
    "Para todos los análisis utilizamos información solo del AMBA, identificado a través de la variable 'state_name'."
   ]
  },
  {
   "cell_type": "code",
   "execution_count": 363,
   "metadata": {},
   "outputs": [],
   "source": [
    "import seaborn as sns\n",
    "import matplotlib.pyplot as plt\n",
    "from scipy import stats"
   ]
  },
  {
   "cell_type": "markdown",
   "metadata": {},
   "source": [
    "<a id=\"section_mito_1\"></a> \n",
    "\n",
    "### Mito o Realidad N° 1: Los inmuebles a estrenar son más caros que los demás\n",
    "\n",
    "[volver a Indice](#section_indice)\n"
   ]
  },
  {
   "cell_type": "code",
   "execution_count": 364,
   "metadata": {},
   "outputs": [],
   "source": [
    "#Nos quedamos solo con la info del AMBA\n",
    "data_amba = data[data['state_name'].isin(['Bs.As. G.B.A. Zona Norte', 'Bs.As. G.B.A. Zona Oeste', 'Capital Federal',\\\n",
    "                                         'Bs.As. G.B.A. Zona Sur'])]"
   ]
  },
  {
   "cell_type": "code",
   "execution_count": 365,
   "metadata": {},
   "outputs": [
    {
     "name": "stdout",
     "output_type": "stream",
     "text": [
      "110000.0\n",
      "176000.0\n",
      "340000.0\n",
      "685000.0\n",
      "-235000.0\n"
     ]
    }
   ],
   "source": [
    "#Elimino del análisis los outliers de precios\n",
    "\n",
    "q1 = data_amba.price_nuevo.quantile(0.25)\n",
    "print(q1)\n",
    "q2 = data_amba.price_nuevo.quantile(0.5)\n",
    "print(q2)\n",
    "q3 = data_amba.price_nuevo.quantile(0.75)\n",
    "print(q3)\n",
    "\n",
    "\n",
    "iqr = (q3 - q1) * 1.5\n",
    "\n",
    "limite_superior_precio = q3 + iqr\n",
    "limite_inferior_precio = q1 - iqr\n",
    "\n",
    "print(limite_superior_precio)\n",
    "print(limite_inferior_precio)\n",
    "\n",
    "\n",
    "outlier_mask_sup_precio = data_amba.price_nuevo > limite_superior_precio\n",
    "outlier_mask_inf_precio = data_amba.price_nuevo < limite_inferior_precio\n",
    "outlier_mask_precio = np.logical_or(outlier_mask_sup_precio, outlier_mask_inf_precio)\n",
    "not_outliers_precio = np.logical_not(outlier_mask_precio)\n",
    "data_amba_sin_outliers_precio = data_amba[not_outliers_precio]\n",
    "\n",
    "#Eliminamos del análisis los tipo de propiedad Store\n",
    "data_amba_sin_outliers_sin_negocios_precio = data_amba_sin_outliers_precio[(data_amba_sin_outliers_precio.property_type != 'store')]\n",
    "#Eliminamos del análisis los casos que tienen más de 5 habitaciones (el limite superior para identificar outliers es de 3.5 habitaciones).\n",
    "data_amba_sin_outliers_sin_negocios_menos_cinco_hab_precio = data_amba_sin_outliers_sin_negocios_precio[(data_amba_sin_outliers_sin_negocios_precio.rooms_completo < 6)]"
   ]
  },
  {
   "cell_type": "code",
   "execution_count": 366,
   "metadata": {},
   "outputs": [
    {
     "data": {
      "image/png": "[encoded data removed]",
      "text/plain": [
       "<Figure size 432x288 with 1 Axes>"
      ]
     },
     "metadata": {
      "needs_background": "light"
     },
     "output_type": "display_data"
    }
   ],
   "source": [
    "#Graficamos el precio promedio de las viviendas a estrenar vs las que no lo son por la cantidad de habitaciones\n",
    "ax = sns.barplot(x=\"rooms_completo\", y=\"price_nuevo\", hue=\"ant\", data=data_amba_sin_outliers_sin_negocios_menos_cinco_hab_precio)"
   ]
  },
  {
   "cell_type": "code",
   "execution_count": 367,
   "metadata": {},
   "outputs": [
    {
     "data": {
      "text/plain": [
       "<seaborn.axisgrid.FacetGrid at 0x1bd453fdf08>"
      ]
     },
     "execution_count": 367,
     "metadata": {},
     "output_type": "execute_result"
    },
    {
     "data": {
      "image/png": "[encoded data removed]",
      "text/plain": [
       "<Figure size 907.2x504 with 3 Axes>"
      ]
     },
     "metadata": {
      "needs_background": "light"
     },
     "output_type": "display_data"
    }
   ],
   "source": [
    "g = sns.FacetGrid(data_amba_sin_outliers_sin_negocios_menos_cinco_hab_precio, col = \"property_type\", height=7, aspect=.6)\n",
    "g.map(sns.barplot, \"ant\", \"price_nuevo\")"
   ]
  },
  {
   "cell_type": "code",
   "execution_count": 368,
   "metadata": {},
   "outputs": [
    {
     "data": {
      "image/png": "[encoded data removed]",
      "text/plain": [
       "<Figure size 907.2x504 with 2 Axes>"
      ]
     },
     "metadata": {
      "needs_background": "light"
     },
     "output_type": "display_data"
    }
   ],
   "source": [
    "g = sns.FacetGrid(data_amba_sin_outliers_sin_negocios_menos_cinco_hab_precio, col = \"ant\", height=7, aspect=.9)\n",
    "g.map(sns.barplot, \"rooms_completo\", \"price_nuevo\");"
   ]
  },
  {
   "cell_type": "markdown",
   "metadata": {},
   "source": [
    "#### Conclusion: No se puede establecer que los inmuebles a estrenar tienen un valor significativamente mayor con los datos obtenidos."
   ]
  },
  {
   "cell_type": "markdown",
   "metadata": {},
   "source": [
    "<a id=\"section_mito_2\"></a> \n",
    "\n",
    "### Mito o Realidad N° 2: Existe una correlación entre el precio del inmueble y las expensas que abonan\n",
    "\n",
    "[volver a Indice](#section_indice)\n"
   ]
  },
  {
   "cell_type": "code",
   "execution_count": 369,
   "metadata": {},
   "outputs": [
    {
     "name": "stdout",
     "output_type": "stream",
     "text": [
      "0.0\n",
      "1982.2195506503745\n",
      "3301.497719209326\n",
      "8253.744298023315\n",
      "-4952.246578813989\n"
     ]
    }
   ],
   "source": [
    "#Elimino del análisis los outliers de expensas\n",
    "\n",
    "q1 = data_amba_sin_outliers_precio.expenses_nuevo.quantile(0.25)\n",
    "print(q1)\n",
    "q2 = data_amba_sin_outliers_precio.expenses_nuevo.quantile(0.5)\n",
    "print(q2)\n",
    "q3 = data_amba_sin_outliers_precio.expenses_nuevo.quantile(0.75)\n",
    "print(q3)\n",
    "\n",
    "\n",
    "iqr = (q3 - q1) * 1.5\n",
    "\n",
    "limite_superior_expensas = q3 + iqr\n",
    "limite_inferior_expensas = q1 - iqr\n",
    "\n",
    "print(limite_superior_expensas)\n",
    "print(limite_inferior_expensas)\n",
    "\n",
    "\n",
    "outlier_mask_sup_expensas = data_amba_sin_outliers_precio.expenses_nuevo > limite_superior_expensas\n",
    "outlier_mask_inf_expensas = data_amba_sin_outliers_precio.expenses_nuevo < limite_inferior_expensas\n",
    "outlier_mask_expensas = np.logical_or(outlier_mask_sup_expensas, outlier_mask_inf_expensas)\n",
    "not_outliers_expensas = np.logical_not(outlier_mask_expensas)\n",
    "data_amba_sin_outliers_expensas = data_amba_sin_outliers_precio[not_outliers_expensas]"
   ]
  },
  {
   "cell_type": "code",
   "execution_count": 370,
   "metadata": {},
   "outputs": [
    {
     "data": {
      "text/plain": [
       "<seaborn.axisgrid.PairGrid at 0x1bd4550fac8>"
      ]
     },
     "execution_count": 370,
     "metadata": {},
     "output_type": "execute_result"
    },
    {
     "data": {
      "image/png": "[encoded data removed]",
      "text/plain": [
       "<Figure size 448.5x360 with 6 Axes>"
      ]
     },
     "metadata": {
      "needs_background": "light"
     },
     "output_type": "display_data"
    }
   ],
   "source": [
    "sns.pairplot(data_amba_sin_outliers_expensas.loc[:, ('expenses_nuevo', 'price_nuevo', 'state_name', 'property_type')], hue=\"property_type\")"
   ]
  },
  {
   "cell_type": "markdown",
   "metadata": {},
   "source": [
    "#### Conclusion: Gráficamente no se observa relación entre el precio de la propiedad y las expensas que abona."
   ]
  },
  {
   "cell_type": "code",
   "execution_count": 371,
   "metadata": {},
   "outputs": [
    {
     "data": {
      "image/png": "[encoded data removed]",
      "text/plain": [
       "<Figure size 512.25x360 with 1 Axes>"
      ]
     },
     "metadata": {},
     "output_type": "display_data"
    }
   ],
   "source": [
    "# with sns.axes_style(style='ticks'):\n",
    "#     g = sns.catplot(\"property_type\", \"price_nuevo\", \"state_name\", data=data_amba_sin_outliers_precio, kind=\"box\")\n",
    "#     g.set_axis_labels(\"Tipo de vivienda\", \"Precio de vivienda\");"
   ]
  },
  {
   "cell_type": "code",
   "execution_count": null,
   "metadata": {},
   "outputs": [],
   "source": []
  },
  {
   "cell_type": "code",
   "execution_count": null,
   "metadata": {},
   "outputs": [],
   "source": []
  },
  {
   "cell_type": "code",
   "execution_count": null,
   "metadata": {},
   "outputs": [],
   "source": []
  }
 ],
 "metadata": {
  "kernelspec": {
   "display_name": "Python 3",
   "language": "python",
   "name": "python3"
  },
  "language_info": {
   "codemirror_mode": {
    "name": "ipython",
    "version": 3
   },
   "file_extension": ".py",
   "mimetype": "text/x-python",
   "name": "python",
   "nbconvert_exporter": "python",
   "pygments_lexer": "ipython3",
   "version": "3.7.7"
  }
 },
 "nbformat": 4,
 "nbformat_minor": 4
}
