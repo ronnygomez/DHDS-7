{
 "cells": [
  {
   "cell_type": "markdown",
   "metadata": {},
   "source": [
    "# Desafío Número 1\n",
    "## Limpieza de la base de Properati"
   ]
  },
  {
   "cell_type": "markdown",
   "metadata": {},
   "source": [
    "### Identificacion de la antiguedad de la propiedad"
   ]
  },
  {
   "cell_type": "code",
   "execution_count": 1,
   "metadata": {},
   "outputs": [],
   "source": [
    "import pandas as pd\n",
    "import numpy as np\n",
    "import re\n",
    "import seaborn as sns\n",
    "import matplotlib.pyplot as plt\n",
    "from scipy import stats"
   ]
  },
  {
   "cell_type": "code",
   "execution_count": 2,
   "metadata": {},
   "outputs": [],
   "source": [
    "#Leo el archivo de properati\n",
    "data = pd.read_csv(\"properati.csv\")"
   ]
  },
  {
   "cell_type": "code",
   "execution_count": 3,
   "metadata": {},
   "outputs": [
    {
     "data": {
      "text/plain": [
       "Unnamed: 0                      int64\n",
       "operation                      object\n",
       "property_type                  object\n",
       "place_name                     object\n",
       "place_with_parent_names        object\n",
       "country_name                   object\n",
       "state_name                     object\n",
       "geonames_id                   float64\n",
       "lat-lon                        object\n",
       "lat                           float64\n",
       "lon                           float64\n",
       "price                         float64\n",
       "currency                       object\n",
       "price_aprox_local_currency    float64\n",
       "price_aprox_usd               float64\n",
       "surface_total_in_m2           float64\n",
       "surface_covered_in_m2         float64\n",
       "price_usd_per_m2              float64\n",
       "price_per_m2                  float64\n",
       "floor                         float64\n",
       "rooms                         float64\n",
       "expenses                      float64\n",
       "properati_url                  object\n",
       "description                    object\n",
       "title                          object\n",
       "image_thumbnail                object\n",
       "dtype: object"
      ]
     },
     "execution_count": 3,
     "metadata": {},
     "output_type": "execute_result"
    }
   ],
   "source": [
    "data.dtypes"
   ]
  },
  {
   "cell_type": "code",
   "execution_count": 4,
   "metadata": {},
   "outputs": [],
   "source": [
    "# data.description[106272]"
   ]
  },
  {
   "cell_type": "code",
   "execution_count": 5,
   "metadata": {},
   "outputs": [],
   "source": [
    "# data.title[40]"
   ]
  },
  {
   "cell_type": "code",
   "execution_count": 6,
   "metadata": {},
   "outputs": [
    {
     "data": {
      "text/plain": [
       "(121218, 26)"
      ]
     },
     "execution_count": 6,
     "metadata": {},
     "output_type": "execute_result"
    }
   ],
   "source": [
    "data_mask = data.description.notna()\n",
    "data_con_descriptions =  data.loc[data_mask,:]\n",
    "data_con_descriptions.shape"
   ]
  },
  {
   "cell_type": "code",
   "execution_count": 7,
   "metadata": {},
   "outputs": [],
   "source": [
    "#Análisis de inmuebles a estrenar\n",
    "a_estrenar = data_con_descriptions[data_con_descriptions['description'].str.contains('estrenar')]\n",
    "mask_a_estrenar = data.index.isin(a_estrenar.index)"
   ]
  },
  {
   "cell_type": "code",
   "execution_count": 8,
   "metadata": {},
   "outputs": [],
   "source": [
    "#Análisis de inmuebles en pozo\n",
    "en_pozo = data_con_descriptions[data_con_descriptions['description'].str.contains('en pozo')]\n",
    "mask_en_pozo = data.index.isin(en_pozo.index)"
   ]
  },
  {
   "cell_type": "code",
   "execution_count": 9,
   "metadata": {},
   "outputs": [],
   "source": [
    "#Análisis de años de antiguedad en número\n",
    "pattern_antiguedad = '(\\d+)[\\s]año'\n",
    "pattern_antiguedad_regex = re.compile(pattern_antiguedad)\n",
    "description_series = data_con_descriptions.description\n",
    "resultado_antiguedad = description_series.apply(lambda x: pattern_antiguedad_regex.search(x))\n",
    "resultado_antiguedad[resultado_antiguedad.notnull()]\n",
    "encontradas_ant = resultado_antiguedad[resultado_antiguedad.notnull()].apply(lambda x: x.group(1))"
   ]
  },
  {
   "cell_type": "code",
   "execution_count": 10,
   "metadata": {},
   "outputs": [
    {
     "data": {
      "text/plain": [
       "(4336,)"
      ]
     },
     "execution_count": 10,
     "metadata": {},
     "output_type": "execute_result"
    }
   ],
   "source": [
    "encontradas_ant.shape"
   ]
  },
  {
   "cell_type": "markdown",
   "metadata": {},
   "source": [
    "#### Es necesario revisar esta regex"
   ]
  },
  {
   "cell_type": "code",
   "execution_count": 11,
   "metadata": {},
   "outputs": [],
   "source": [
    "# #Análisis de años de antiguedad en letras\n",
    "\n",
    "# pattern_antiguedad_letras = '([a-zA-Z]*[\\s]?[a-zA-Z]*[\\s]?[a-zA-Z]*)[\\s]año'\n",
    "# pattern_antiguedad_letras_regex = re.compile(pattern_antiguedad_letras)\n",
    "# description_series_letras = data_con_descriptions.description\n",
    "# resultado_antiguedad_letras = description_series_letras.apply(lambda x: pattern_antiguedad_letras_regex.search(x))\n",
    "# resultado_antiguedad_letras[resultado_antiguedad_letras.notnull()]\n",
    "# encontradas_ant_letras = resultado_antiguedad_letras[resultado_antiguedad_letras.notnull()].apply(lambda x: x.group(1))\n"
   ]
  },
  {
   "cell_type": "code",
   "execution_count": 12,
   "metadata": {},
   "outputs": [],
   "source": [
    "numeroaint = {'cero': 0, 'uno': 1, 'un': 1, 'dos': 2, 'tres': 3, 'cuatro': 4, 'cinco': 5, 'seis': 6, 'siete': 7, 'ocho': 8,\n",
    "              'nueve': 9, 'diez': 10, 'once': 11, 'doce': 12, 'trece': 13, 'catorce': 14, 'quince': 15, 'dieciseis': 16,\n",
    "              'diecisiete': 17, 'dieciocho': 18, 'diecinueve': 19, 'veinte': 20, 'veintiun': 21, 'veintiuno': 21,\n",
    "              'veintidos': 22, 'veintitres': 23, 'veinticuatro': 24, 'veinticinco': 25, 'veintiseis': 26, 'veintisiete': 27,\n",
    "              'veintiocho': 28, 'veintinueve': 29, 'treinta': 30, 'treinta y un': 31, 'treinta y uno': 31, 'treinta y dos': 32, \n",
    "              'treinta y tres': 33, 'treinta y cuatro': 34, 'treinta y cinco': 35, 'treinta y seis': 36, 'trinta y siete': 37,\n",
    "              'treinta y ocho': 38, 'treinta y nueve': 39, 'cuarenta': 40, 'cuarenta y uno': 41, 'cuarenta y un': 41, \n",
    "              'cuarenta y dos': 42, 'cuarenta y tres': 43, 'cuarenta y cuatro': 44, 'cuarenta y cinco': 45,\n",
    "              'cuarenta y seis': 46, 'cuarenta y siete': 47, 'cuarenta y ocho': 48, 'cuarenta y nueve': 49, 'cincuenta': 50}\n",
    "              \n",
    "                       \n",
    "def n2i(x):\n",
    "    return numeroaint[x]\n"
   ]
  },
  {
   "cell_type": "markdown",
   "metadata": {},
   "source": [
    "#### Creamos variable ant para identificar si es a estrenar, de pozo u otros"
   ]
  },
  {
   "cell_type": "code",
   "execution_count": 13,
   "metadata": {},
   "outputs": [
    {
     "data": {
      "text/plain": [
       "otros         113692\n",
       "a_estrenar      6682\n",
       "en_pozo          846\n",
       "Name: ant, dtype: int64"
      ]
     },
     "execution_count": 13,
     "metadata": {},
     "output_type": "execute_result"
    }
   ],
   "source": [
    "data.loc[mask_a_estrenar, 'ant'] = 'a_estrenar'\n",
    "data.loc[mask_en_pozo, 'ant'] = 'en_pozo'\n",
    "data.loc[data['ant'].isnull(),'ant'] = 'otros'\n",
    "data.ant.value_counts()"
   ]
  },
  {
   "cell_type": "code",
   "execution_count": 14,
   "metadata": {},
   "outputs": [
    {
     "name": "stdout",
     "output_type": "stream",
     "text": [
      "Bs.As. G.B.A. Zona Norte        0.271265\n",
      "Capital Federal                 0.262476\n",
      "Santa Fe                        0.101147\n",
      "Buenos Aires Costa Atlántica    0.084910\n",
      "Bs.As. G.B.A. Zona Sur          0.084910\n",
      "Bs.As. G.B.A. Zona Oeste        0.078802\n",
      "Córdoba                         0.064204\n",
      "Buenos Aires Interior           0.016535\n",
      "Tucumán                         0.008193\n",
      "Corrientes                      0.008044\n",
      "Río Negro                       0.004469\n",
      "Mendoza                         0.004320\n",
      "Salta                           0.002830\n",
      "Misiones                        0.002234\n",
      "Entre Ríos                      0.002234\n",
      "Neuquén                         0.001788\n",
      "Chubut                          0.000894\n",
      "La Pampa                        0.000298\n",
      "Chaco                           0.000298\n",
      "San Luis                        0.000149\n",
      "Name: state_name, dtype: float64\n"
     ]
    },
    {
     "data": {
      "text/plain": [
       "Capital Federal                 0.266590\n",
       "Bs.As. G.B.A. Zona Norte        0.210856\n",
       "Bs.As. G.B.A. Zona Sur          0.115097\n",
       "Córdoba                         0.099563\n",
       "Santa Fe                        0.083914\n",
       "Buenos Aires Costa Atlántica    0.082544\n",
       "Bs.As. G.B.A. Zona Oeste        0.076902\n",
       "Buenos Aires Interior           0.018900\n",
       "Río Negro                       0.006666\n",
       "Neuquén                         0.006047\n",
       "Mendoza                         0.005618\n",
       "Tucumán                         0.005560\n",
       "Corrientes                      0.004809\n",
       "Misiones                        0.003828\n",
       "Entre Ríos                      0.003044\n",
       "Salta                           0.002293\n",
       "Chubut                          0.002137\n",
       "San Luis                        0.002079\n",
       "La Pampa                        0.001295\n",
       "Formosa                         0.000536\n",
       "Chaco                           0.000470\n",
       "San Juan                        0.000330\n",
       "Tierra Del Fuego                0.000256\n",
       "Catamarca                       0.000223\n",
       "Jujuy                           0.000214\n",
       "Santa Cruz                      0.000165\n",
       "La Rioja                        0.000033\n",
       "Santiago Del Estero             0.000033\n",
       "Name: state_name, dtype: float64"
      ]
     },
     "execution_count": 14,
     "metadata": {},
     "output_type": "execute_result"
    }
   ],
   "source": [
    "print(a_estrenar.state_name.value_counts(normalize = True))\n",
    "data.state_name.value_counts(normalize = True)"
   ]
  },
  {
   "cell_type": "code",
   "execution_count": 15,
   "metadata": {},
   "outputs": [
    {
     "data": {
      "text/plain": [
       "count        5771.000000\n",
       "mean       391171.337896\n",
       "std        707647.657698\n",
       "min         30000.000000\n",
       "25%         99000.000000\n",
       "50%        159000.000000\n",
       "75%        340000.000000\n",
       "max      13069000.000000\n",
       "Name: price, dtype: object"
      ]
     },
     "execution_count": 15,
     "metadata": {},
     "output_type": "execute_result"
    }
   ],
   "source": [
    "data.price.describe().apply(lambda x: format(x, 'f'))\n",
    "a_estrenar.price.describe().apply(lambda x: format(x, 'f'))"
   ]
  },
  {
   "cell_type": "code",
   "execution_count": 17,
   "metadata": {},
   "outputs": [],
   "source": [
    "data_amba = data[data['state_name'].isin(['Bs.As. G.B.A. Zona Norte', 'Bs.As. G.B.A. Zona Oeste', 'Capital Federal',\\\n",
    "                                         'Bs.As. G.B.A. Zona Sur'])]\n",
    "group_by_ant = data_amba.groupby(by=['state_name', 'ant']).mean()\n",
    "data_count_prom = group_by_ant.iloc[:,4]/1000"
   ]
  },
  {
   "cell_type": "code",
   "execution_count": 23,
   "metadata": {},
   "outputs": [
    {
     "data": {
      "text/html": [
       "<div>\n",
       "<style scoped>\n",
       "    .dataframe tbody tr th:only-of-type {\n",
       "        vertical-align: middle;\n",
       "    }\n",
       "\n",
       "    .dataframe tbody tr th {\n",
       "        vertical-align: top;\n",
       "    }\n",
       "\n",
       "    .dataframe thead th {\n",
       "        text-align: right;\n",
       "    }\n",
       "</style>\n",
       "<table border=\"1\" class=\"dataframe\">\n",
       "  <thead>\n",
       "    <tr style=\"text-align: right;\">\n",
       "      <th></th>\n",
       "      <th></th>\n",
       "      <th>Unnamed: 0</th>\n",
       "      <th>geonames_id</th>\n",
       "      <th>lat</th>\n",
       "      <th>lon</th>\n",
       "      <th>price</th>\n",
       "      <th>price_aprox_local_currency</th>\n",
       "      <th>price_aprox_usd</th>\n",
       "      <th>surface_total_in_m2</th>\n",
       "      <th>surface_covered_in_m2</th>\n",
       "      <th>price_usd_per_m2</th>\n",
       "      <th>price_per_m2</th>\n",
       "      <th>floor</th>\n",
       "      <th>rooms</th>\n",
       "      <th>expenses</th>\n",
       "    </tr>\n",
       "    <tr>\n",
       "      <th>state_name</th>\n",
       "      <th>ant</th>\n",
       "      <th></th>\n",
       "      <th></th>\n",
       "      <th></th>\n",
       "      <th></th>\n",
       "      <th></th>\n",
       "      <th></th>\n",
       "      <th></th>\n",
       "      <th></th>\n",
       "      <th></th>\n",
       "      <th></th>\n",
       "      <th></th>\n",
       "      <th></th>\n",
       "      <th></th>\n",
       "      <th></th>\n",
       "    </tr>\n",
       "  </thead>\n",
       "  <tbody>\n",
       "    <tr>\n",
       "      <th rowspan=\"3\" valign=\"top\">Bs.As. G.B.A. Zona Norte</th>\n",
       "      <th>a_estrenar</th>\n",
       "      <td>59614.537231</td>\n",
       "      <td>3.431312e+06</td>\n",
       "      <td>-34.434276</td>\n",
       "      <td>-58.676778</td>\n",
       "      <td>3.085041e+05</td>\n",
       "      <td>4.996848e+06</td>\n",
       "      <td>283195.763878</td>\n",
       "      <td>203.942408</td>\n",
       "      <td>126.179207</td>\n",
       "      <td>2032.372550</td>\n",
       "      <td>2910.589227</td>\n",
       "      <td>17.270270</td>\n",
       "      <td>2.700197</td>\n",
       "      <td>3712.447257</td>\n",
       "    </tr>\n",
       "    <tr>\n",
       "      <th>en_pozo</th>\n",
       "      <td>70631.902597</td>\n",
       "      <td>3.430314e+06</td>\n",
       "      <td>-34.465500</td>\n",
       "      <td>-58.680146</td>\n",
       "      <td>1.994392e+06</td>\n",
       "      <td>3.686336e+06</td>\n",
       "      <td>208922.680584</td>\n",
       "      <td>88.909091</td>\n",
       "      <td>74.348684</td>\n",
       "      <td>2247.315660</td>\n",
       "      <td>28526.011696</td>\n",
       "      <td>2.714286</td>\n",
       "      <td>2.353846</td>\n",
       "      <td>NaN</td>\n",
       "    </tr>\n",
       "    <tr>\n",
       "      <th>otros</th>\n",
       "      <td>57147.649218</td>\n",
       "      <td>3.433092e+06</td>\n",
       "      <td>-34.463074</td>\n",
       "      <td>-58.654429</td>\n",
       "      <td>4.587348e+05</td>\n",
       "      <td>5.792624e+06</td>\n",
       "      <td>328296.296425</td>\n",
       "      <td>323.731193</td>\n",
       "      <td>184.884860</td>\n",
       "      <td>1844.920909</td>\n",
       "      <td>4871.126165</td>\n",
       "      <td>50.147077</td>\n",
       "      <td>3.162531</td>\n",
       "      <td>4235.672996</td>\n",
       "    </tr>\n",
       "    <tr>\n",
       "      <th rowspan=\"3\" valign=\"top\">Bs.As. G.B.A. Zona Oeste</th>\n",
       "      <th>a_estrenar</th>\n",
       "      <td>48002.967742</td>\n",
       "      <td>3.444321e+06</td>\n",
       "      <td>-34.635035</td>\n",
       "      <td>-58.630999</td>\n",
       "      <td>1.454459e+05</td>\n",
       "      <td>1.818962e+06</td>\n",
       "      <td>103089.482386</td>\n",
       "      <td>102.077181</td>\n",
       "      <td>62.351967</td>\n",
       "      <td>1746.598951</td>\n",
       "      <td>3287.005846</td>\n",
       "      <td>3.298246</td>\n",
       "      <td>2.126623</td>\n",
       "      <td>979.666667</td>\n",
       "    </tr>\n",
       "    <tr>\n",
       "      <th>en_pozo</th>\n",
       "      <td>33434.819672</td>\n",
       "      <td>3.430551e+06</td>\n",
       "      <td>-34.655152</td>\n",
       "      <td>-58.744242</td>\n",
       "      <td>9.424028e+04</td>\n",
       "      <td>1.662823e+06</td>\n",
       "      <td>94240.281250</td>\n",
       "      <td>51.279070</td>\n",
       "      <td>22.400000</td>\n",
       "      <td>2583.189863</td>\n",
       "      <td>1752.374415</td>\n",
       "      <td>4.000000</td>\n",
       "      <td>1.395349</td>\n",
       "      <td>NaN</td>\n",
       "    </tr>\n",
       "    <tr>\n",
       "      <th>otros</th>\n",
       "      <td>45964.428212</td>\n",
       "      <td>3.454207e+06</td>\n",
       "      <td>-34.644877</td>\n",
       "      <td>-58.637638</td>\n",
       "      <td>1.958781e+05</td>\n",
       "      <td>3.035227e+06</td>\n",
       "      <td>172021.160063</td>\n",
       "      <td>273.215961</td>\n",
       "      <td>135.042286</td>\n",
       "      <td>1324.551290</td>\n",
       "      <td>3588.746528</td>\n",
       "      <td>3.624230</td>\n",
       "      <td>3.066907</td>\n",
       "      <td>2893.404040</td>\n",
       "    </tr>\n",
       "    <tr>\n",
       "      <th rowspan=\"3\" valign=\"top\">Bs.As. G.B.A. Zona Sur</th>\n",
       "      <th>a_estrenar</th>\n",
       "      <td>59172.635088</td>\n",
       "      <td>3.435233e+06</td>\n",
       "      <td>-34.828798</td>\n",
       "      <td>-58.220942</td>\n",
       "      <td>2.723867e+05</td>\n",
       "      <td>2.791169e+06</td>\n",
       "      <td>158189.181706</td>\n",
       "      <td>110.916435</td>\n",
       "      <td>77.556044</td>\n",
       "      <td>2211.928249</td>\n",
       "      <td>4670.463324</td>\n",
       "      <td>6.961538</td>\n",
       "      <td>2.583784</td>\n",
       "      <td>1849.500000</td>\n",
       "    </tr>\n",
       "    <tr>\n",
       "      <th>en_pozo</th>\n",
       "      <td>65492.694444</td>\n",
       "      <td>3.432673e+06</td>\n",
       "      <td>-34.736441</td>\n",
       "      <td>-58.311433</td>\n",
       "      <td>3.350780e+05</td>\n",
       "      <td>1.609760e+06</td>\n",
       "      <td>91232.948889</td>\n",
       "      <td>47.913043</td>\n",
       "      <td>53.531250</td>\n",
       "      <td>1834.060315</td>\n",
       "      <td>6908.533645</td>\n",
       "      <td>5.500000</td>\n",
       "      <td>2.250000</td>\n",
       "      <td>200.500000</td>\n",
       "    </tr>\n",
       "    <tr>\n",
       "      <th>otros</th>\n",
       "      <td>67749.994305</td>\n",
       "      <td>3.433928e+06</td>\n",
       "      <td>-34.802170</td>\n",
       "      <td>-58.287310</td>\n",
       "      <td>2.412403e+05</td>\n",
       "      <td>3.536652e+06</td>\n",
       "      <td>200439.365506</td>\n",
       "      <td>237.566969</td>\n",
       "      <td>152.809624</td>\n",
       "      <td>1488.729504</td>\n",
       "      <td>4997.290026</td>\n",
       "      <td>6.361789</td>\n",
       "      <td>3.319419</td>\n",
       "      <td>2440.499117</td>\n",
       "    </tr>\n",
       "    <tr>\n",
       "      <th rowspan=\"3\" valign=\"top\">Capital Federal</th>\n",
       "      <th>a_estrenar</th>\n",
       "      <td>56642.649083</td>\n",
       "      <td>3.473488e+06</td>\n",
       "      <td>-34.599902</td>\n",
       "      <td>-58.444895</td>\n",
       "      <td>2.322357e+05</td>\n",
       "      <td>3.803207e+06</td>\n",
       "      <td>215546.290739</td>\n",
       "      <td>69.810028</td>\n",
       "      <td>57.553931</td>\n",
       "      <td>3147.118381</td>\n",
       "      <td>3901.221690</td>\n",
       "      <td>12.829016</td>\n",
       "      <td>1.860665</td>\n",
       "      <td>2153.454237</td>\n",
       "    </tr>\n",
       "    <tr>\n",
       "      <th>en_pozo</th>\n",
       "      <td>70167.204918</td>\n",
       "      <td>3.431738e+06</td>\n",
       "      <td>-34.616530</td>\n",
       "      <td>-58.435453</td>\n",
       "      <td>1.889475e+05</td>\n",
       "      <td>2.453605e+06</td>\n",
       "      <td>139057.778833</td>\n",
       "      <td>58.090634</td>\n",
       "      <td>49.463068</td>\n",
       "      <td>2470.678425</td>\n",
       "      <td>4109.777636</td>\n",
       "      <td>7.190476</td>\n",
       "      <td>1.670000</td>\n",
       "      <td>898.148148</td>\n",
       "    </tr>\n",
       "    <tr>\n",
       "      <th>otros</th>\n",
       "      <td>61303.042409</td>\n",
       "      <td>3.532394e+06</td>\n",
       "      <td>-34.601745</td>\n",
       "      <td>-58.435732</td>\n",
       "      <td>3.945115e+05</td>\n",
       "      <td>4.844484e+06</td>\n",
       "      <td>274560.553333</td>\n",
       "      <td>122.875861</td>\n",
       "      <td>100.752859</td>\n",
       "      <td>3124.827626</td>\n",
       "      <td>6267.226670</td>\n",
       "      <td>12.774428</td>\n",
       "      <td>2.776448</td>\n",
       "      <td>6577.770335</td>\n",
       "    </tr>\n",
       "  </tbody>\n",
       "</table>\n",
       "</div>"
      ],
      "text/plain": [
       "                                       Unnamed: 0   geonames_id        lat  \\\n",
       "state_name               ant                                                 \n",
       "Bs.As. G.B.A. Zona Norte a_estrenar  59614.537231  3.431312e+06 -34.434276   \n",
       "                         en_pozo     70631.902597  3.430314e+06 -34.465500   \n",
       "                         otros       57147.649218  3.433092e+06 -34.463074   \n",
       "Bs.As. G.B.A. Zona Oeste a_estrenar  48002.967742  3.444321e+06 -34.635035   \n",
       "                         en_pozo     33434.819672  3.430551e+06 -34.655152   \n",
       "                         otros       45964.428212  3.454207e+06 -34.644877   \n",
       "Bs.As. G.B.A. Zona Sur   a_estrenar  59172.635088  3.435233e+06 -34.828798   \n",
       "                         en_pozo     65492.694444  3.432673e+06 -34.736441   \n",
       "                         otros       67749.994305  3.433928e+06 -34.802170   \n",
       "Capital Federal          a_estrenar  56642.649083  3.473488e+06 -34.599902   \n",
       "                         en_pozo     70167.204918  3.431738e+06 -34.616530   \n",
       "                         otros       61303.042409  3.532394e+06 -34.601745   \n",
       "\n",
       "                                           lon         price  \\\n",
       "state_name               ant                                   \n",
       "Bs.As. G.B.A. Zona Norte a_estrenar -58.676778  3.085041e+05   \n",
       "                         en_pozo    -58.680146  1.994392e+06   \n",
       "                         otros      -58.654429  4.587348e+05   \n",
       "Bs.As. G.B.A. Zona Oeste a_estrenar -58.630999  1.454459e+05   \n",
       "                         en_pozo    -58.744242  9.424028e+04   \n",
       "                         otros      -58.637638  1.958781e+05   \n",
       "Bs.As. G.B.A. Zona Sur   a_estrenar -58.220942  2.723867e+05   \n",
       "                         en_pozo    -58.311433  3.350780e+05   \n",
       "                         otros      -58.287310  2.412403e+05   \n",
       "Capital Federal          a_estrenar -58.444895  2.322357e+05   \n",
       "                         en_pozo    -58.435453  1.889475e+05   \n",
       "                         otros      -58.435732  3.945115e+05   \n",
       "\n",
       "                                     price_aprox_local_currency  \\\n",
       "state_name               ant                                      \n",
       "Bs.As. G.B.A. Zona Norte a_estrenar                4.996848e+06   \n",
       "                         en_pozo                   3.686336e+06   \n",
       "                         otros                     5.792624e+06   \n",
       "Bs.As. G.B.A. Zona Oeste a_estrenar                1.818962e+06   \n",
       "                         en_pozo                   1.662823e+06   \n",
       "                         otros                     3.035227e+06   \n",
       "Bs.As. G.B.A. Zona Sur   a_estrenar                2.791169e+06   \n",
       "                         en_pozo                   1.609760e+06   \n",
       "                         otros                     3.536652e+06   \n",
       "Capital Federal          a_estrenar                3.803207e+06   \n",
       "                         en_pozo                   2.453605e+06   \n",
       "                         otros                     4.844484e+06   \n",
       "\n",
       "                                     price_aprox_usd  surface_total_in_m2  \\\n",
       "state_name               ant                                                \n",
       "Bs.As. G.B.A. Zona Norte a_estrenar    283195.763878           203.942408   \n",
       "                         en_pozo       208922.680584            88.909091   \n",
       "                         otros         328296.296425           323.731193   \n",
       "Bs.As. G.B.A. Zona Oeste a_estrenar    103089.482386           102.077181   \n",
       "                         en_pozo        94240.281250            51.279070   \n",
       "                         otros         172021.160063           273.215961   \n",
       "Bs.As. G.B.A. Zona Sur   a_estrenar    158189.181706           110.916435   \n",
       "                         en_pozo        91232.948889            47.913043   \n",
       "                         otros         200439.365506           237.566969   \n",
       "Capital Federal          a_estrenar    215546.290739            69.810028   \n",
       "                         en_pozo       139057.778833            58.090634   \n",
       "                         otros         274560.553333           122.875861   \n",
       "\n",
       "                                     surface_covered_in_m2  price_usd_per_m2  \\\n",
       "state_name               ant                                                   \n",
       "Bs.As. G.B.A. Zona Norte a_estrenar             126.179207       2032.372550   \n",
       "                         en_pozo                 74.348684       2247.315660   \n",
       "                         otros                  184.884860       1844.920909   \n",
       "Bs.As. G.B.A. Zona Oeste a_estrenar              62.351967       1746.598951   \n",
       "                         en_pozo                 22.400000       2583.189863   \n",
       "                         otros                  135.042286       1324.551290   \n",
       "Bs.As. G.B.A. Zona Sur   a_estrenar              77.556044       2211.928249   \n",
       "                         en_pozo                 53.531250       1834.060315   \n",
       "                         otros                  152.809624       1488.729504   \n",
       "Capital Federal          a_estrenar              57.553931       3147.118381   \n",
       "                         en_pozo                 49.463068       2470.678425   \n",
       "                         otros                  100.752859       3124.827626   \n",
       "\n",
       "                                     price_per_m2      floor     rooms  \\\n",
       "state_name               ant                                             \n",
       "Bs.As. G.B.A. Zona Norte a_estrenar   2910.589227  17.270270  2.700197   \n",
       "                         en_pozo     28526.011696   2.714286  2.353846   \n",
       "                         otros        4871.126165  50.147077  3.162531   \n",
       "Bs.As. G.B.A. Zona Oeste a_estrenar   3287.005846   3.298246  2.126623   \n",
       "                         en_pozo      1752.374415   4.000000  1.395349   \n",
       "                         otros        3588.746528   3.624230  3.066907   \n",
       "Bs.As. G.B.A. Zona Sur   a_estrenar   4670.463324   6.961538  2.583784   \n",
       "                         en_pozo      6908.533645   5.500000  2.250000   \n",
       "                         otros        4997.290026   6.361789  3.319419   \n",
       "Capital Federal          a_estrenar   3901.221690  12.829016  1.860665   \n",
       "                         en_pozo      4109.777636   7.190476  1.670000   \n",
       "                         otros        6267.226670  12.774428  2.776448   \n",
       "\n",
       "                                        expenses  \n",
       "state_name               ant                      \n",
       "Bs.As. G.B.A. Zona Norte a_estrenar  3712.447257  \n",
       "                         en_pozo             NaN  \n",
       "                         otros       4235.672996  \n",
       "Bs.As. G.B.A. Zona Oeste a_estrenar   979.666667  \n",
       "                         en_pozo             NaN  \n",
       "                         otros       2893.404040  \n",
       "Bs.As. G.B.A. Zona Sur   a_estrenar  1849.500000  \n",
       "                         en_pozo      200.500000  \n",
       "                         otros       2440.499117  \n",
       "Capital Federal          a_estrenar  2153.454237  \n",
       "                         en_pozo      898.148148  \n",
       "                         otros       6577.770335  "
      ]
     },
     "execution_count": 23,
     "metadata": {},
     "output_type": "execute_result"
    }
   ],
   "source": [
    "group_by_ant"
   ]
  },
  {
   "cell_type": "code",
   "execution_count": 25,
   "metadata": {},
   "outputs": [
    {
     "data": {
      "image/png": "[encoded data removed]",
      "text/plain": [
       "<Figure size 432x288 with 1 Axes>"
      ]
     },
     "metadata": {
      "needs_background": "light"
     },
     "output_type": "display_data"
    }
   ],
   "source": []
  },
  {
   "cell_type": "code",
   "execution_count": null,
   "metadata": {},
   "outputs": [],
   "source": []
  }
 ],
 "metadata": {
  "kernelspec": {
   "display_name": "Python 3",
   "language": "python",
   "name": "python3"
  },
  "language_info": {
   "codemirror_mode": {
    "name": "ipython",
    "version": 3
   },
   "file_extension": ".py",
   "mimetype": "text/x-python",
   "name": "python",
   "nbconvert_exporter": "python",
   "pygments_lexer": "ipython3",
   "version": "3.7.7"
  }
 },
 "nbformat": 4,
 "nbformat_minor": 4
}
