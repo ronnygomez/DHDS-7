{
 "cells": [
  {
   "cell_type": "markdown",
   "metadata": {},
   "source": [
    "# Desafío Número 1\n",
    "## Limpieza de la base de Properati"
   ]
  },
  {
   "cell_type": "markdown",
   "metadata": {},
   "source": [
    "### Identificacion de la antiguedad de la propiedad"
   ]
  },
  {
   "cell_type": "code",
   "execution_count": 1,
   "metadata": {},
   "outputs": [],
   "source": [
    "import pandas as pd\n",
    "import numpy as np\n",
    "import re"
   ]
  },
  {
   "cell_type": "code",
   "execution_count": 2,
   "metadata": {},
   "outputs": [],
   "source": [
    "#Leo el archivo de properati\n",
    "data = pd.read_csv(\"properati.csv\")"
   ]
  },
  {
   "cell_type": "code",
   "execution_count": 3,
   "metadata": {},
   "outputs": [
    {
     "data": {
      "text/plain": [
       "'EDIFICIO EN POZO EN PESOS INVERSION PASEO ALDREY GUEMESA 100 metros del nuevo Paseo Aldrey y a 4 cuadras de la arteria comercial GUEMES, se encuentra este desarrollo en altura en etapa de pozo.Edificio de corte moderno con excelente diseño y alta calidad y categoria constructiva. Semipisos de diferentes tipologías en venta. Oportunidad como inversión. Rentabilidad estimada 30% en dolares a dos años. Pago en pesos de las cuotas.Aberturas DVH de aluminio.Calefacción por losa radiante.Pisos de porcellanato.Muebles a medida.Balcones terraza.Griferia FV.Sanitarios FERRUM.Ascensor ultima generación.Llave magnetica.Portero visor.SUM/QUINCHO planta baja.Edificio diseñado para pagar pocas expensas. Posibilidad de cocheras.Semipisos 2, 3 y 4 ambientes en 60/75 y 135 m2.Anticipo desde 40% y cuotas en pesos o dólares a 24 meses. Planes de pago adaptados a cada inversor. Consulte por más detalles y financiación a medida. Cocheras OPTATIVAS a elección del comprador.Consulte por otras opciones en misma zona o aledañas. BESSONE PROPIEDADES. Registro 2413. 46 años de experiencia inmobiliaria.25 de Mayo 3765. Mar del Plata. Buenos Aires. Argentina.Teléfonos: (0223) 475-6694 y líneas rotativas.Horario corrido de 9:30 a 21 hs. en INSTAGRAM @bessonepropiedadesFan Page de Facebook: @bessoneinmobiliaria “Un especialista para cada área del sector inmobiliario”División Urbana. División Campo. División Hoteles.Bróker Inmobiliario. Germán Bessone. Gerente Departamento Urbano. Celular/Whatsapp 223-4482755Consulte por otras opciones en misma zona o aledañas. BESSONE PROPIEDADES. Registro 2413. 46 años de experiencia inmobiliaria.25 de Mayo 3765. Mar del Plata. Buenos Aires. Argentina.Teléfonos: (0223) 475-6694 y líneas rotativas.Seguinos en INSTAGRAM @bessonepropiedadesFan Page de Facebook: @bessoneinmobiliaria “Un especialista para cada área del sector inmobiliario”División Urbana. División Campo. División Hoteles.Bróker Inmobiliario. Germán Bessone. Gerente Departamento Urbano. Celular/Whatsapp 223-4482755'"
      ]
     },
     "execution_count": 3,
     "metadata": {},
     "output_type": "execute_result"
    }
   ],
   "source": [
    "data.description[106272]"
   ]
  },
  {
   "cell_type": "code",
   "execution_count": 4,
   "metadata": {},
   "outputs": [
    {
     "data": {
      "text/plain": [
       "' VENTA DEPTO 3 AMB C/TERRAZA - TORTUGAS 3 '"
      ]
     },
     "execution_count": 4,
     "metadata": {},
     "output_type": "execute_result"
    }
   ],
   "source": [
    "data.title[40]"
   ]
  },
  {
   "cell_type": "code",
   "execution_count": 5,
   "metadata": {},
   "outputs": [
    {
     "data": {
      "text/plain": [
       "(121218, 26)"
      ]
     },
     "execution_count": 5,
     "metadata": {},
     "output_type": "execute_result"
    }
   ],
   "source": [
    "data_mask = data.description.notna()\n",
    "data_con_descriptions =  data.loc[data_mask,:]\n",
    "data_con_descriptions.shape"
   ]
  },
  {
   "cell_type": "code",
   "execution_count": 43,
   "metadata": {},
   "outputs": [
    {
     "data": {
      "text/plain": [
       "(6713, 26)"
      ]
     },
     "execution_count": 43,
     "metadata": {},
     "output_type": "execute_result"
    }
   ],
   "source": [
    "#Análisis de inmuebles a estrenar\n",
    "a_estrenar = data_con_descriptions[data_con_descriptions['description'].str.contains('estrenar')]\n",
    "a_estrenar.shape"
   ]
  },
  {
   "cell_type": "code",
   "execution_count": 7,
   "metadata": {},
   "outputs": [
    {
     "data": {
      "text/plain": [
       "(846, 26)"
      ]
     },
     "execution_count": 7,
     "metadata": {},
     "output_type": "execute_result"
    }
   ],
   "source": [
    "#Análisis de inmuebles en pozo\n",
    "en_pozo = data_con_descriptions[data_con_descriptions['description'].str.contains('en pozo')]\n",
    "en_pozo.shape"
   ]
  },
  {
   "cell_type": "code",
   "execution_count": 41,
   "metadata": {},
   "outputs": [
    {
     "data": {
      "text/plain": [
       "34         6\n",
       "45         8\n",
       "51         8\n",
       "52        50\n",
       "83        30\n",
       "          ..\n",
       "121094    50\n",
       "121103    50\n",
       "121160    45\n",
       "121209    45\n",
       "121214     5\n",
       "Name: description, Length: 4336, dtype: object"
      ]
     },
     "execution_count": 41,
     "metadata": {},
     "output_type": "execute_result"
    }
   ],
   "source": [
    "#Análisis de años de antiguedad en número\n",
    "pattern_antiguedad = '(\\d+)[\\s]año'\n",
    "pattern_antiguedad_regex = re.compile(pattern_antiguedad)\n",
    "description_series = data_con_descriptions.description\n",
    "resultado_antiguedad = description_series.apply(lambda x: pattern_antiguedad_regex.search(x))\n",
    "resultado_antiguedad[resultado_antiguedad.notnull()]\n",
    "encontradas_ant = resultado_antiguedad[resultado_antiguedad.notnull()].apply(lambda x: x.group(1))\n",
    "encontradas_ant"
   ]
  },
  {
   "cell_type": "code",
   "execution_count": 63,
   "metadata": {},
   "outputs": [],
   "source": [
    "#Análisis de años de antiguedad en letras\n",
    "# pattern_antiguedad_letras = '([a-zA-Z]*)[\\s]año'\n",
    "pattern_antiguedad_letras = '([a-zA-Z]*[\\s]?[a-zA-Z]*[\\s]?[a-zA-Z]*[\\s]?)año'\n",
    "pattern_antiguedad_letras_regex = re.compile(pattern_antiguedad_letras)\n",
    "description_series_letras = data_con_descriptions.description\n",
    "resultado_antiguedad_letras = description_series_letras.apply(lambda x: pattern_antiguedad_letras_regex.search(x))\n",
    "resultado_antiguedad_letras[resultado_antiguedad_letras.notnull()]\n",
    "encontradas_ant_letras = resultado_antiguedad_letras[resultado_antiguedad_letras.notnull()].apply(lambda x: x.group(1))\n"
   ]
  },
  {
   "cell_type": "code",
   "execution_count": 64,
   "metadata": {},
   "outputs": [],
   "source": [
    "numeroaint = {'cero': 0, 'uno': 1, 'un': 1, 'dos': 2, 'tres': 3, 'cuatro': 4, 'cinco': 5, 'seis': 6, 'siete': 7, 'ocho': 8,\n",
    "              'nueve': 9, 'diez': 10, 'once': 11, 'doce': 12, 'trece': 13, 'catorce': 14, 'quince': 15, 'dieciseis': 16,\n",
    "              'diecisiete': 17, 'dieciocho': 18, 'diecinueve': 19, 'veinte': 20, 'veintiun': 21, 'veintiuno': 21,\n",
    "              'veintidos': 22, 'veintitres': 23, 'veinticuatro': 24, 'veinticinco': 25, 'veintiseis': 26, 'veintisiete': 27,\n",
    "              'veintiocho': 28, 'veintinueve': 29, 'treinta': 30, 'treinta y un': 31, 'treinta y uno': 31, 'treinta y dos': 32, \n",
    "              'treinta y tres': 33, 'treinta y cuatro': 34, 'treinta y cinco': 35, 'treinta y seis': 36, 'trinta y siete': 37,\n",
    "              'treinta y ocho': 38, 'treinta y nueve': 39, 'cuarenta': 40, 'cuarenta y uno': 41, 'cuarenta y un': 41, \n",
    "              'cuarenta y dos': 42, 'cuarenta y tres': 43, 'cuarenta y cuatro': 44, 'cuarenta y cinco': 45,\n",
    "              'cuarenta y seis': 46, 'cuarenta y siete': 47, 'cuarenta y ocho': 48, 'cuarenta y nueve': 49, 'cincuenta': 50}\n",
    "              \n",
    "                       \n",
    "def n2i(x):\n",
    "    return numeroaint[x]\n"
   ]
  },
  {
   "cell_type": "code",
   "execution_count": 65,
   "metadata": {},
   "outputs": [
    {
     "data": {
      "text/plain": [
       "1         n por radiadorB\n",
       "5                       b\n",
       "10                      b\n",
       "11                      B\n",
       "13                y dos b\n",
       "               ...       \n",
       "121214                  b\n",
       "121216                y b\n",
       "121217                  B\n",
       "121218    dependencia y b\n",
       "121219                  B\n",
       "Name: description, Length: 68347, dtype: object"
      ]
     },
     "execution_count": 65,
     "metadata": {},
     "output_type": "execute_result"
    }
   ],
   "source": [
    "encontradas_ant_letras"
   ]
  },
  {
   "cell_type": "code",
   "execution_count": 40,
   "metadata": {},
   "outputs": [
    {
     "data": {
      "text/plain": [
       "34         6\n",
       "45         8\n",
       "51         8\n",
       "52        50\n",
       "83        30\n",
       "          ..\n",
       "121094    50\n",
       "121103    50\n",
       "121160    45\n",
       "121209    45\n",
       "121214     5\n",
       "Name: description, Length: 4336, dtype: object"
      ]
     },
     "execution_count": 40,
     "metadata": {},
     "output_type": "execute_result"
    }
   ],
   "source": []
  },
  {
   "cell_type": "code",
   "execution_count": null,
   "metadata": {},
   "outputs": [],
   "source": []
  },
  {
   "cell_type": "code",
   "execution_count": null,
   "metadata": {},
   "outputs": [],
   "source": []
  }
 ],
 "metadata": {
  "kernelspec": {
   "display_name": "Python 3",
   "language": "python",
   "name": "python3"
  },
  "language_info": {
   "codemirror_mode": {
    "name": "ipython",
    "version": 3
   },
   "file_extension": ".py",
   "mimetype": "text/x-python",
   "name": "python",
   "nbconvert_exporter": "python",
   "pygments_lexer": "ipython3",
   "version": "3.7.7"
  }
 },
 "nbformat": 4,
 "nbformat_minor": 4
}
