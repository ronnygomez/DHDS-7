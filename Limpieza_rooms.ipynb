{
 "cells": [
  {
   "cell_type": "markdown",
   "metadata": {},
   "source": [
    "Limpieza de datos Rooms"
   ]
  },
  {
   "cell_type": "code",
   "execution_count": 569,
   "metadata": {},
   "outputs": [],
   "source": [
    "import pandas as pd\n",
    "import numpy as np\n",
    "import re "
   ]
  },
  {
   "cell_type": "code",
   "execution_count": 570,
   "metadata": {},
   "outputs": [
    {
     "name": "stdout",
     "output_type": "stream",
     "text": [
      "Unnamed: 0                      int64\n",
      "operation                      object\n",
      "property_type                  object\n",
      "place_name                     object\n",
      "place_with_parent_names        object\n",
      "country_name                   object\n",
      "state_name                     object\n",
      "geonames_id                   float64\n",
      "lat-lon                        object\n",
      "lat                           float64\n",
      "lon                           float64\n",
      "price                         float64\n",
      "currency                       object\n",
      "price_aprox_local_currency    float64\n",
      "price_aprox_usd               float64\n",
      "surface_total_in_m2           float64\n",
      "surface_covered_in_m2         float64\n",
      "price_usd_per_m2              float64\n",
      "price_per_m2                  float64\n",
      "floor                         float64\n",
      "rooms                         float64\n",
      "expenses                      float64\n",
      "properati_url                  object\n",
      "description                    object\n",
      "title                          object\n",
      "image_thumbnail                object\n",
      "dtype: object\n"
     ]
    },
    {
     "data": {
      "text/html": [
       "<div>\n",
       "<style scoped>\n",
       "    .dataframe tbody tr th:only-of-type {\n",
       "        vertical-align: middle;\n",
       "    }\n",
       "\n",
       "    .dataframe tbody tr th {\n",
       "        vertical-align: top;\n",
       "    }\n",
       "\n",
       "    .dataframe thead th {\n",
       "        text-align: right;\n",
       "    }\n",
       "</style>\n",
       "<table border=\"1\" class=\"dataframe\">\n",
       "  <thead>\n",
       "    <tr style=\"text-align: right;\">\n",
       "      <th></th>\n",
       "      <th>Unnamed: 0</th>\n",
       "      <th>operation</th>\n",
       "      <th>property_type</th>\n",
       "      <th>place_name</th>\n",
       "      <th>place_with_parent_names</th>\n",
       "      <th>country_name</th>\n",
       "      <th>state_name</th>\n",
       "      <th>geonames_id</th>\n",
       "      <th>lat-lon</th>\n",
       "      <th>lat</th>\n",
       "      <th>...</th>\n",
       "      <th>surface_covered_in_m2</th>\n",
       "      <th>price_usd_per_m2</th>\n",
       "      <th>price_per_m2</th>\n",
       "      <th>floor</th>\n",
       "      <th>rooms</th>\n",
       "      <th>expenses</th>\n",
       "      <th>properati_url</th>\n",
       "      <th>description</th>\n",
       "      <th>title</th>\n",
       "      <th>image_thumbnail</th>\n",
       "    </tr>\n",
       "  </thead>\n",
       "  <tbody>\n",
       "    <tr>\n",
       "      <th>0</th>\n",
       "      <td>0</td>\n",
       "      <td>sell</td>\n",
       "      <td>PH</td>\n",
       "      <td>Mataderos</td>\n",
       "      <td>|Argentina|Capital Federal|Mataderos|</td>\n",
       "      <td>Argentina</td>\n",
       "      <td>Capital Federal</td>\n",
       "      <td>3430787.0</td>\n",
       "      <td>-34.6618237,-58.5088387</td>\n",
       "      <td>-34.661824</td>\n",
       "      <td>...</td>\n",
       "      <td>40.0</td>\n",
       "      <td>1127.272727</td>\n",
       "      <td>1550.000000</td>\n",
       "      <td>NaN</td>\n",
       "      <td>NaN</td>\n",
       "      <td>NaN</td>\n",
       "      <td>http://www.properati.com.ar/15bo8_venta_ph_mat...</td>\n",
       "      <td>2 AMBIENTES TIPO CASA PLANTA BAJA POR PASILLO,...</td>\n",
       "      <td>2 AMB TIPO CASA SIN EXPENSAS EN PB</td>\n",
       "      <td>https://thumbs4.properati.com/8/BluUYiHJLhgIIK...</td>\n",
       "    </tr>\n",
       "    <tr>\n",
       "      <th>1</th>\n",
       "      <td>1</td>\n",
       "      <td>sell</td>\n",
       "      <td>apartment</td>\n",
       "      <td>La Plata</td>\n",
       "      <td>|Argentina|Bs.As. G.B.A. Zona Sur|La Plata|</td>\n",
       "      <td>Argentina</td>\n",
       "      <td>Bs.As. G.B.A. Zona Sur</td>\n",
       "      <td>3432039.0</td>\n",
       "      <td>-34.9038831,-57.9643295</td>\n",
       "      <td>-34.903883</td>\n",
       "      <td>...</td>\n",
       "      <td>NaN</td>\n",
       "      <td>NaN</td>\n",
       "      <td>NaN</td>\n",
       "      <td>NaN</td>\n",
       "      <td>NaN</td>\n",
       "      <td>NaN</td>\n",
       "      <td>http://www.properati.com.ar/15bob_venta_depart...</td>\n",
       "      <td>Venta de departamento en décimo piso al frente...</td>\n",
       "      <td>VENTA Depto 2 dorm. a estrenar 7 e/ 36 y 37   ...</td>\n",
       "      <td>https://thumbs4.properati.com/7/ikpVBu2ztHA7jv...</td>\n",
       "    </tr>\n",
       "    <tr>\n",
       "      <th>2</th>\n",
       "      <td>2</td>\n",
       "      <td>sell</td>\n",
       "      <td>apartment</td>\n",
       "      <td>Mataderos</td>\n",
       "      <td>|Argentina|Capital Federal|Mataderos|</td>\n",
       "      <td>Argentina</td>\n",
       "      <td>Capital Federal</td>\n",
       "      <td>3430787.0</td>\n",
       "      <td>-34.6522615,-58.5229825</td>\n",
       "      <td>-34.652262</td>\n",
       "      <td>...</td>\n",
       "      <td>55.0</td>\n",
       "      <td>1309.090909</td>\n",
       "      <td>1309.090909</td>\n",
       "      <td>NaN</td>\n",
       "      <td>NaN</td>\n",
       "      <td>NaN</td>\n",
       "      <td>http://www.properati.com.ar/15bod_venta_depart...</td>\n",
       "      <td>2 AMBIENTES 3ER PISO LATERAL LIVING COMEDOR AM...</td>\n",
       "      <td>2 AMB 3ER PISO CON ASCENSOR APTO CREDITO</td>\n",
       "      <td>https://thumbs4.properati.com/5/SXKr34F_IwG3W_...</td>\n",
       "    </tr>\n",
       "  </tbody>\n",
       "</table>\n",
       "<p>3 rows × 26 columns</p>\n",
       "</div>"
      ],
      "text/plain": [
       "   Unnamed: 0 operation property_type place_name  \\\n",
       "0           0      sell            PH  Mataderos   \n",
       "1           1      sell     apartment   La Plata   \n",
       "2           2      sell     apartment  Mataderos   \n",
       "\n",
       "                       place_with_parent_names country_name  \\\n",
       "0        |Argentina|Capital Federal|Mataderos|    Argentina   \n",
       "1  |Argentina|Bs.As. G.B.A. Zona Sur|La Plata|    Argentina   \n",
       "2        |Argentina|Capital Federal|Mataderos|    Argentina   \n",
       "\n",
       "               state_name  geonames_id                  lat-lon        lat  \\\n",
       "0         Capital Federal    3430787.0  -34.6618237,-58.5088387 -34.661824   \n",
       "1  Bs.As. G.B.A. Zona Sur    3432039.0  -34.9038831,-57.9643295 -34.903883   \n",
       "2         Capital Federal    3430787.0  -34.6522615,-58.5229825 -34.652262   \n",
       "\n",
       "   ...  surface_covered_in_m2  price_usd_per_m2 price_per_m2  floor  rooms  \\\n",
       "0  ...                   40.0       1127.272727  1550.000000    NaN    NaN   \n",
       "1  ...                    NaN               NaN          NaN    NaN    NaN   \n",
       "2  ...                   55.0       1309.090909  1309.090909    NaN    NaN   \n",
       "\n",
       "   expenses                                      properati_url  \\\n",
       "0       NaN  http://www.properati.com.ar/15bo8_venta_ph_mat...   \n",
       "1       NaN  http://www.properati.com.ar/15bob_venta_depart...   \n",
       "2       NaN  http://www.properati.com.ar/15bod_venta_depart...   \n",
       "\n",
       "                                         description  \\\n",
       "0  2 AMBIENTES TIPO CASA PLANTA BAJA POR PASILLO,...   \n",
       "1  Venta de departamento en décimo piso al frente...   \n",
       "2  2 AMBIENTES 3ER PISO LATERAL LIVING COMEDOR AM...   \n",
       "\n",
       "                                               title  \\\n",
       "0                 2 AMB TIPO CASA SIN EXPENSAS EN PB   \n",
       "1  VENTA Depto 2 dorm. a estrenar 7 e/ 36 y 37   ...   \n",
       "2           2 AMB 3ER PISO CON ASCENSOR APTO CREDITO   \n",
       "\n",
       "                                     image_thumbnail  \n",
       "0  https://thumbs4.properati.com/8/BluUYiHJLhgIIK...  \n",
       "1  https://thumbs4.properati.com/7/ikpVBu2ztHA7jv...  \n",
       "2  https://thumbs4.properati.com/5/SXKr34F_IwG3W_...  \n",
       "\n",
       "[3 rows x 26 columns]"
      ]
     },
     "execution_count": 570,
     "metadata": {},
     "output_type": "execute_result"
    }
   ],
   "source": [
    "data_location = \"./Data/properati.csv\"\n",
    "data = pd.read_csv(data_location, sep=\",\")\n",
    "print(data.dtypes)\n",
    "data.head(3)"
   ]
  },
  {
   "cell_type": "code",
   "execution_count": 571,
   "metadata": {},
   "outputs": [
    {
     "data": {
      "text/plain": [
       "0         2 ambientes tipo casa planta baja por pasillo,...\n",
       "1         venta de departamento en décimo piso al frente...\n",
       "2         2 ambientes 3er piso lateral living comedor am...\n",
       "3         ph 3 ambientes con patio. hay 3 deptos en lote...\n",
       "4         departamento con fantástica iluminación natura...\n",
       "                                ...                        \n",
       "121215    torre forum alcorta - máxima categoría.impecab...\n",
       "121216    excelente e impecable casa en venta en las lom...\n",
       "121217    venta departamento ambiente divisible a estren...\n",
       "121218    2 amb al contrafrente,  luminoso. el departame...\n",
       "121219    departamento de 77 m2 apto profesional. edific...\n",
       "Name: description, Length: 121220, dtype: object"
      ]
     },
     "metadata": {},
     "output_type": "display_data"
    },
    {
     "data": {
      "text/plain": [
       "0                        2 amb tipo casa sin expensas en pb\n",
       "1         venta depto 2 dorm. a estrenar 7 e/ 36 y 37   ...\n",
       "2                  2 amb 3er piso con ascensor apto credito\n",
       "3                              ph 3 amb. cfte. reciclado   \n",
       "4         depto 2 amb al contrafrente zona centro/plaza ...\n",
       "                                ...                        \n",
       "121215           torre forum alcorta- impecable 3 ambientes\n",
       "121216    ruca inmuebles | venta | lomas de san isidro |...\n",
       "121217    venta departamento ambiente divisible a estren...\n",
       "121218    2 amb. c/ dep. de servicio al contrafrente| re...\n",
       "121219           departamento apto profesional en el centro\n",
       "Name: title, Length: 121220, dtype: object"
      ]
     },
     "metadata": {},
     "output_type": "display_data"
    }
   ],
   "source": [
    "data[\"rooms_completo\"] =data[\"rooms\"]\n",
    "data_room_null_description = data.description.astype(str).str.lower()\n",
    "data_room_null_title = data.title.astype(str).str.lower()\n",
    "display(data_room_null_description)\n",
    "display(data_room_null_title)"
   ]
  },
  {
   "cell_type": "code",
   "execution_count": 572,
   "metadata": {},
   "outputs": [
    {
     "name": "stdout",
     "output_type": "stream",
     "text": [
      "Primer grupo de filas sin rooms\n"
     ]
    },
    {
     "data": {
      "text/plain": [
       "True     73830\n",
       "False    47390\n",
       "Name: rooms_completo, dtype: int64"
      ]
     },
     "execution_count": 572,
     "metadata": {},
     "output_type": "execute_result"
    }
   ],
   "source": [
    "print(\"Primer grupo de filas sin rooms\")\n",
    "data[\"rooms_completo\"].isnull().value_counts()"
   ]
  },
  {
   "cell_type": "markdown",
   "metadata": {},
   "source": [
    "Seteamos los que son monoambientes\n",
    "Primero buscamos las palabras que identifiquen al monoambiente. \n",
    "Luego buscamos las coincidencias dentro del universo de coincidencias del campo descripción\n",
    "donde hubo coincidencias, le asignamos 1. "
   ]
  },
  {
   "cell_type": "code",
   "execution_count": 573,
   "metadata": {},
   "outputs": [],
   "source": [
    "def fun_buscar_patt(data_validar,patt_room):\n",
    "    patt_regex = re.compile(patt_room)\n",
    "    data_match = data_validar.apply(lambda x:  x if x is np.NaN else patt_regex.search(x))\n",
    "    return data_match"
   ]
  },
  {
   "cell_type": "code",
   "execution_count": 574,
   "metadata": {},
   "outputs": [],
   "source": [
    "def fun_buscar_disminuir(data_room_null_description, patt,restar):\n",
    "    ###se pasa la palabra y se asigna###\n",
    "    data_encontrada= fun_buscar_patt(data_room_null_description,patt)\n",
    "    encontradas = data_encontrada[data_encontrada.notnull()].apply(lambda x: x.group(1))\n",
    "    room_null_mask = data[\"rooms_completo\"].isnull()\n",
    "    data.loc[room_null_mask,\"rooms_completo\"]= encontradas[room_null_mask].apply(lambda x: x if x is np.NaN else (float(x)-restar)).astype(int)\n",
    "    print(\"Disminución en función a los ambientes tipo:\",patt)\n",
    "    result = data[\"rooms_completo\"].isnull().value_counts()\n",
    "    return result"
   ]
  },
  {
   "cell_type": "code",
   "execution_count": 575,
   "metadata": {},
   "outputs": [],
   "source": [
    "def fun_buscar_disminuir_mapper(data_room_null_description, patt,restar):\n",
    "    ###se pasa la palabra y se asigna y se mapea el texto###\n",
    "    data_encontrada= fun_buscar_patt(data_room_null_description,patt)\n",
    "    encontradas = data_encontrada[data_encontrada.notnull()].apply(lambda x: x.group(1))\n",
    "    room_null_mask = data[\"rooms_completo\"].isnull()\n",
    "    numcol_cat_mapper = {\n",
    "       'un': 1,'uun':1, 'uno': 1,'dos': 2,'tres': 3,'cuatro':4,\n",
    "        'cinco':5,'sinco':5,'seis':6,'ceis':6,'siete':7,\n",
    "        'ciete':7,'ocho':8,'nueve':9,'diez':10,'once':11,\n",
    "        'doce':12,'trece':13,'catorce':14,'quince':15,\n",
    "        'dieciseis':16,'diecisiete':17,'dieciocho':18,'diecinueve':19,\n",
    "        'veinte':20\n",
    "    }\n",
    "    encontradas1 = encontradas.map(numcol_cat_mapper)\n",
    "    data.loc[room_null_mask,\"rooms_completo\"]= encontradas1[room_null_mask].apply(lambda x: x if x is np.NaN else (float(x)-restar))\n",
    "    print(\"Disminución en función a los ambientes :\",patt)\n",
    "    result = data[\"rooms_completo\"].isnull().value_counts()\n",
    "    return result"
   ]
  },
  {
   "cell_type": "code",
   "execution_count": 576,
   "metadata": {},
   "outputs": [],
   "source": [
    "#validar que luego elija siempre la última que encuentre"
   ]
  },
  {
   "cell_type": "code",
   "execution_count": 577,
   "metadata": {},
   "outputs": [],
   "source": [
    "def fun_buscar_disminuir_mapper_2(data_room_null_description, patt,restar):\n",
    "    ###se pasa la palabra y se asigna y se mapea el texto###\n",
    "    data_encontrada= fun_buscar_patt(data_room_null_description,patt)\n",
    "    encontradas = data_encontrada[data_encontrada.notnull()].apply(lambda x: x.group(1))\n",
    "    room_null_mask = data[\"rooms_completo\"].isnull()\n",
    "    numcol_cat_mapper = {\n",
    "                'segundo': 2,'tercer':3, 'cuarto': 4,'quinto': 5,'sexto': 6\n",
    "    }\n",
    "    encontradas1 = encontradas.map(numcol_cat_mapper)\n",
    "    data.loc[room_null_mask,\"rooms_completo\"]= encontradas1[room_null_mask].apply(lambda x: x if x is np.NaN else (float(x)-restar))\n",
    "    print(\"Disminución en función a los ambientes :\",patt)\n",
    "    result = data[\"rooms_completo\"].isnull().value_counts()\n",
    "    return result"
   ]
  },
  {
   "cell_type": "code",
   "execution_count": 578,
   "metadata": {},
   "outputs": [],
   "source": [
    "def disminuciones_repeticion(serie,patt):\n",
    "    print(data[\"rooms_completo\"].isnull().value_counts())\n",
    "    data_encontrada = serie.apply(lambda x: x if x is np.NaN else x.count(patt))\n",
    "    maskarita= data_encontrada>0|data[\"rooms_completo\"].isnull()\n",
    "    data.loc[maskarita,\"rooms_completo\"] = data_encontrada[maskarita]\n",
    "    result = data[\"rooms_completo\"].isnull().value_counts()\n",
    "    return result"
   ]
  },
  {
   "cell_type": "code",
   "execution_count": 579,
   "metadata": {},
   "outputs": [
    {
     "name": "stdout",
     "output_type": "stream",
     "text": [
      "Primera disminución Monoambientes\n"
     ]
    },
    {
     "data": {
      "text/plain": [
       "True     69080\n",
       "False    52140\n",
       "Name: rooms_completo, dtype: int64"
      ]
     },
     "metadata": {},
     "output_type": "display_data"
    }
   ],
   "source": [
    "data_room_match = fun_buscar_patt(data_room_null_description,r\"(mono ambiente|monoambiente|mono-ambiente|Monoamb)\")\n",
    "data_room_match_mask = data_room_match.notnull()\n",
    "data_room_match[data_room_match_mask]=0\n",
    "data_room_mask = data[\"rooms_completo\"].isnull()\n",
    "\n",
    "data.loc[data_room_match_mask,\"rooms_completo\"] = data_room_match[data_room_match_mask].apply(lambda x: x if x is np.NaN else x)\n",
    "print(\"Primera disminución Monoambientes\")\n",
    "display(data[\"rooms_completo\"].isnull().value_counts())"
   ]
  },
  {
   "cell_type": "code",
   "execution_count": 580,
   "metadata": {},
   "outputs": [
    {
     "name": "stdout",
     "output_type": "stream",
     "text": [
      "Primera disminución Monoambientes\n"
     ]
    },
    {
     "data": {
      "text/plain": [
       "True     68675\n",
       "False    52545\n",
       "Name: rooms_completo, dtype: int64"
      ]
     },
     "metadata": {},
     "output_type": "display_data"
    }
   ],
   "source": [
    "data_room_match = fun_buscar_patt(data_room_null_title,r\"(mono ambiente|monoambiente|mono-ambiente|monoamb)\")\n",
    "data_room_match_mask = data_room_match.notnull()\n",
    "data_room_match[data_room_match_mask]=0\n",
    "data_room_mask = data[\"rooms_completo\"].isnull()\n",
    "\n",
    "data.loc[data_room_match_mask,\"rooms_completo\"] = data_room_match[data_room_match_mask].apply(lambda x: x if x is np.NaN else x)\n",
    "print(\"Primera disminución Monoambientes\")\n",
    "display(data[\"rooms_completo\"].isnull().value_counts())"
   ]
  },
  {
   "cell_type": "code",
   "execution_count": 581,
   "metadata": {},
   "outputs": [
    {
     "name": "stdout",
     "output_type": "stream",
     "text": [
      "Disminución en función a los ambientes tipo: [\\s](\\d\\d)[\\s]?habitaci\n",
      "True     68631\n",
      "False    52589\n",
      "Name: rooms_completo, dtype: int64\n"
     ]
    }
   ],
   "source": [
    "resultado = fun_buscar_disminuir(data_room_null_description,r\"[\\s](\\d\\d)[\\s]?habitaci\",0)\n",
    "print(resultado)"
   ]
  },
  {
   "cell_type": "code",
   "execution_count": 582,
   "metadata": {},
   "outputs": [
    {
     "name": "stdout",
     "output_type": "stream",
     "text": [
      "Disminución en función a los ambientes : (\\w+)[\\s]?(dormitorio|domitorio)\n",
      "False    64513\n",
      "True     56707\n",
      "Name: rooms_completo, dtype: int64\n"
     ]
    }
   ],
   "source": [
    "resultado = fun_buscar_disminuir_mapper(data_room_null_description,r\"(\\w+)[\\s]?(dormitorio|domitorio)\",0)\n",
    "print(resultado)"
   ]
  },
  {
   "cell_type": "code",
   "execution_count": 583,
   "metadata": {},
   "outputs": [
    {
     "name": "stdout",
     "output_type": "stream",
     "text": [
      "Disminución en función a los ambientes : (\\w+)[\\s]?(dormitorio|domitorio)\n",
      "False    65214\n",
      "True     56006\n",
      "Name: rooms_completo, dtype: int64\n"
     ]
    }
   ],
   "source": [
    "resultado = fun_buscar_disminuir_mapper_2(data_room_null_description,r\"(\\w+)[\\s]?(dormitorio|domitorio)\",0)\n",
    "print(resultado)"
   ]
  },
  {
   "cell_type": "code",
   "execution_count": 584,
   "metadata": {},
   "outputs": [
    {
     "name": "stdout",
     "output_type": "stream",
     "text": [
      "Disminución en función a los ambientes : (\\w+)[\\s]?(ambiente)\n",
      "False    67069\n",
      "True     54151\n",
      "Name: rooms_completo, dtype: int64\n"
     ]
    }
   ],
   "source": [
    "resultado = fun_buscar_disminuir_mapper(data_room_null_description,r\"(\\w+)[\\s]?(ambiente)\",1)\n",
    "print(resultado)"
   ]
  },
  {
   "cell_type": "code",
   "execution_count": 585,
   "metadata": {},
   "outputs": [
    {
     "name": "stdout",
     "output_type": "stream",
     "text": [
      "Disminución en función a los ambientes tipo: [\\s](\\d)[\\s]?(amb)\n",
      "False    82384\n",
      "True     38836\n",
      "Name: rooms_completo, dtype: int64\n"
     ]
    }
   ],
   "source": [
    "resultado = fun_buscar_disminuir(data_room_null_description,r\"[\\s](\\d)[\\s]?(amb)\",1)\n",
    "print(resultado)"
   ]
  },
  {
   "cell_type": "code",
   "execution_count": 586,
   "metadata": {},
   "outputs": [
    {
     "name": "stdout",
     "output_type": "stream",
     "text": [
      "Disminución en función a los ambientes tipo: \\D(\\d)[\\s]?(dorm)\n",
      "False    100893\n",
      "True      20327\n",
      "Name: rooms_completo, dtype: int64\n"
     ]
    }
   ],
   "source": [
    "resultado = fun_buscar_disminuir(data_room_null_description,r\"\\D(\\d)[\\s]?(dorm)\",0)\n",
    "print(resultado)"
   ]
  },
  {
   "cell_type": "code",
   "execution_count": 587,
   "metadata": {},
   "outputs": [
    {
     "name": "stdout",
     "output_type": "stream",
     "text": [
      "Disminución en función a los ambientes tipo: \\D(\\d?\\d)[\\s]?(dorm)\n",
      "False    101365\n",
      "True      19855\n",
      "Name: rooms_completo, dtype: int64\n"
     ]
    }
   ],
   "source": [
    "resultado = fun_buscar_disminuir(data_room_null_title,r\"\\D(\\d?\\d)[\\s]?(dorm)\",0)\n",
    "print(resultado)"
   ]
  },
  {
   "cell_type": "code",
   "execution_count": 588,
   "metadata": {},
   "outputs": [
    {
     "name": "stdout",
     "output_type": "stream",
     "text": [
      "Disminución en función a los ambientes tipo: (\\d)[\\s]?(suite)\n",
      "False    101515\n",
      "True      19705\n",
      "Name: rooms_completo, dtype: int64\n"
     ]
    }
   ],
   "source": [
    "resultado = fun_buscar_disminuir(data_room_null_description,r\"(\\d)[\\s]?(suite)\",0)\n",
    "print(resultado)"
   ]
  },
  {
   "cell_type": "markdown",
   "metadata": {},
   "source": [
    "Buscamos ahora las restantes en el título"
   ]
  },
  {
   "cell_type": "code",
   "execution_count": 589,
   "metadata": {},
   "outputs": [
    {
     "name": "stdout",
     "output_type": "stream",
     "text": [
      "Disminución en función a los ambientes tipo: ([\\s]\\d?\\d)[\\s]?amb\n",
      "False    102495\n",
      "True      18725\n",
      "Name: rooms_completo, dtype: int64\n"
     ]
    }
   ],
   "source": [
    "resultado = fun_buscar_disminuir(data_room_null_title,r\"([\\s]\\d?\\d)[\\s]?amb\",1)\n",
    "print(resultado)"
   ]
  },
  {
   "cell_type": "code",
   "execution_count": 590,
   "metadata": {},
   "outputs": [
    {
     "name": "stdout",
     "output_type": "stream",
     "text": [
      "Disminución en función a los ambientes : (\\w+)[\\s]?(amb)\n",
      "False    102663\n",
      "True      18557\n",
      "Name: rooms_completo, dtype: int64\n"
     ]
    }
   ],
   "source": [
    "resultado = fun_buscar_disminuir_mapper(data_room_null_title,r\"(\\w+)[\\s]?(amb)\",1)\n",
    "print(resultado)"
   ]
  },
  {
   "cell_type": "code",
   "execution_count": 591,
   "metadata": {},
   "outputs": [
    {
     "name": "stdout",
     "output_type": "stream",
     "text": [
      "False    102663\n",
      "True      18557\n",
      "Name: rooms_completo, dtype: int64\n"
     ]
    },
    {
     "data": {
      "text/plain": [
       "False    104570\n",
       "True      16650\n",
       "Name: rooms_completo, dtype: int64"
      ]
     },
     "execution_count": 591,
     "metadata": {},
     "output_type": "execute_result"
    }
   ],
   "source": [
    "disminuciones_repeticion(data_room_null_description,\"dormitorio\")"
   ]
  },
  {
   "cell_type": "code",
   "execution_count": 592,
   "metadata": {},
   "outputs": [
    {
     "name": "stdout",
     "output_type": "stream",
     "text": [
      "False    104570\n",
      "True      16650\n",
      "Name: rooms_completo, dtype: int64\n"
     ]
    },
    {
     "data": {
      "text/plain": [
       "False    104948\n",
       "True      16272\n",
       "Name: rooms_completo, dtype: int64"
      ]
     },
     "execution_count": 592,
     "metadata": {},
     "output_type": "execute_result"
    }
   ],
   "source": [
    "disminuciones_repeticion(data_room_null_description,\"habitacion\")\n"
   ]
  },
  {
   "cell_type": "code",
   "execution_count": 593,
   "metadata": {},
   "outputs": [
    {
     "name": "stdout",
     "output_type": "stream",
     "text": [
      "False    104948\n",
      "True      16272\n",
      "Name: rooms_completo, dtype: int64\n"
     ]
    },
    {
     "data": {
      "text/plain": [
       "False    105281\n",
       "True      15939\n",
       "Name: rooms_completo, dtype: int64"
      ]
     },
     "execution_count": 593,
     "metadata": {},
     "output_type": "execute_result"
    }
   ],
   "source": [
    "disminuciones_repeticion(data_room_null_description,\"suite\")"
   ]
  },
  {
   "cell_type": "markdown",
   "metadata": {},
   "source": [
    "## `SETEANDO RESTO DE ROOMS EN NULL`\n",
    "ALGUNOS AJUSTES POSTERIORES ESPECÍFICOS PORQUE LA REGEX LOS TOMÓ Y NO APLICABA"
   ]
  },
  {
   "cell_type": "markdown",
   "metadata": {},
   "source": [
    "\n",
    "AQUÍ SETEO EL RESTO QUE SE ENCUENTRA EN NULL"
   ]
  },
  {
   "cell_type": "code",
   "execution_count": 594,
   "metadata": {},
   "outputs": [
    {
     "data": {
      "text/plain": [
       "23884   NaN\n",
       "Name: rooms_completo, dtype: float64"
      ]
     },
     "execution_count": 594,
     "metadata": {},
     "output_type": "execute_result"
    }
   ],
   "source": [
    "def fun_back(idreg):\n",
    "    data.loc[idreg:idreg,\"rooms_completo\"]=data.loc[idreg:idreg,\"rooms\"]\n",
    "    return data.loc[idreg:idreg,\"rooms_completo\"]\n",
    "fun_back(53793)\n",
    "fun_back(23884)"
   ]
  },
  {
   "cell_type": "code",
   "execution_count": 595,
   "metadata": {},
   "outputs": [
    {
     "name": "stdout",
     "output_type": "stream",
     "text": [
      "False    121220\n",
      "Name: rooms_completo, dtype: int64\n"
     ]
    }
   ],
   "source": [
    "data[\"rooms_completo\"].fillna(0,inplace = True) \n",
    "print(data[\"rooms_completo\"].isnull().value_counts())"
   ]
  },
  {
   "cell_type": "markdown",
   "metadata": {},
   "source": [
    "## `AGREGANDO CAMPOS NUEVOS`\n",
    "Se crean nuevos campos para definir características que pueden revalorizar la propiedad\n",
    "____"
   ]
  },
  {
   "cell_type": "code",
   "execution_count": 596,
   "metadata": {},
   "outputs": [
    {
     "data": {
      "text/plain": [
       "False    104706\n",
       "True      16514\n",
       "Name: PILETA, dtype: int64"
      ]
     },
     "execution_count": 596,
     "metadata": {},
     "output_type": "execute_result"
    }
   ],
   "source": [
    "data_encontrada1= fun_buscar_patt(data_room_null_description,\"(\\w+)[\\s]?(\\w+)[\\s]?(pileta|piscina|pisina|picina)\")\n",
    "encontradas_pileta = data_encontrada1[data_encontrada1.notnull()].apply(lambda x: x.group(0))\n",
    "data[\"PILETA\"] = encontradas_pileta.apply(lambda x: False if x.count(\"sin\")>0 else True)\n",
    "data[\"PILETA\"].fillna(value=False, inplace=True)\n",
    "data[\"PILETA\"].value_counts()"
   ]
  },
  {
   "cell_type": "code",
   "execution_count": 597,
   "metadata": {},
   "outputs": [
    {
     "data": {
      "text/plain": [
       "False    93220\n",
       "True     28000\n",
       "Name: PARRILLA, dtype: int64"
      ]
     },
     "execution_count": 597,
     "metadata": {},
     "output_type": "execute_result"
    }
   ],
   "source": [
    "data_encontrada_parrilla= fun_buscar_patt(data_room_null_description,\"(\\w+)[\\s]?(\\w+)[\\s]?(parrilla|asado|grill|churrasquera)\")\n",
    "encontradas_parrilla = data_encontrada_parrilla[data_encontrada_parrilla.notnull()].apply(lambda x: x.group(0))\n",
    "data[\"PARRILLA\"] = encontradas_parrilla.apply(lambda x: False if x.count(\"sin\")>0 else True)\n",
    "data[\"PARRILLA\"].fillna(value=False, inplace=True)\n",
    "# data[\"PARRILLA\"]= data_encontrada_parrilla.notnull()\n",
    "data[\"PARRILLA\"].value_counts()"
   ]
  },
  {
   "cell_type": "code",
   "execution_count": 598,
   "metadata": {},
   "outputs": [
    {
     "data": {
      "text/plain": [
       "False    104289\n",
       "True      16931\n",
       "Name: PATIO_JARDIN, dtype: int64"
      ]
     },
     "execution_count": 598,
     "metadata": {},
     "output_type": "execute_result"
    }
   ],
   "source": [
    "data_encontrada_patio= fun_buscar_patt(data_room_null_description,\"(\\w+)[\\s]?(\\w+)[\\s]?(patio|jardin)\")\n",
    "encontradas_patio = data_encontrada_patio[data_encontrada_patio.notnull()].apply(lambda x: x.group(0))\n",
    "data[\"PATIO_JARDIN\"] = encontradas_patio.apply(lambda x: False if x.count(\"sin\")>0 else True)\n",
    "data[\"PATIO_JARDIN\"].fillna(value=False, inplace=True)\n",
    "data[\"PATIO_JARDIN\"].value_counts()"
   ]
  },
  {
   "cell_type": "markdown",
   "metadata": {},
   "source": [
    "ESTO ES PARA REALIZAR VALIDACIÓN DE DATOS\n",
    "\n",
    "\n",
    "______\n"
   ]
  },
  {
   "cell_type": "code",
   "execution_count": 602,
   "metadata": {},
   "outputs": [
    {
     "data": {
      "text/plain": [
       "0                NaN\n",
       "1         [2.0, 3.0)\n",
       "2                NaN\n",
       "3         [2.0, 3.0)\n",
       "4         [1.0, 2.0)\n",
       "             ...    \n",
       "121215    [1.0, 2.0)\n",
       "121216    [1.0, 2.0)\n",
       "121217           NaN\n",
       "121218           NaN\n",
       "121219           NaN\n",
       "Name: rooms_completo, Length: 121220, dtype: category\n",
       "Categories (14, interval[int64]): [[1, 2) < [2, 3) < [3, 4) < [4, 5) ... [15, 20) < [20, 25) < [25, 30) < [30, 40)]"
      ]
     },
     "execution_count": 602,
     "metadata": {},
     "output_type": "execute_result"
    }
   ],
   "source": [
    "bins= [1,2,3,4,5,6,7,8,9,10,15,20,25,30,40]\n",
    "room= pd.cut(data.rooms_completo, bins,right=False)"
   ]
  },
  {
   "cell_type": "code",
   "execution_count": 603,
   "metadata": {},
   "outputs": [
    {
     "data": {
      "text/html": [
       "<div>\n",
       "<style scoped>\n",
       "    .dataframe tbody tr th:only-of-type {\n",
       "        vertical-align: middle;\n",
       "    }\n",
       "\n",
       "    .dataframe tbody tr th {\n",
       "        vertical-align: top;\n",
       "    }\n",
       "\n",
       "    .dataframe thead th {\n",
       "        text-align: right;\n",
       "    }\n",
       "</style>\n",
       "<table border=\"1\" class=\"dataframe\">\n",
       "  <thead>\n",
       "    <tr style=\"text-align: right;\">\n",
       "      <th>property_type</th>\n",
       "      <th>PH</th>\n",
       "      <th>apartment</th>\n",
       "      <th>house</th>\n",
       "      <th>store</th>\n",
       "    </tr>\n",
       "    <tr>\n",
       "      <th>rooms_completo</th>\n",
       "      <th></th>\n",
       "      <th></th>\n",
       "      <th></th>\n",
       "      <th></th>\n",
       "    </tr>\n",
       "  </thead>\n",
       "  <tbody>\n",
       "    <tr>\n",
       "      <th>[1, 2)</th>\n",
       "      <td>1709.0</td>\n",
       "      <td>18224.0</td>\n",
       "      <td>7872.0</td>\n",
       "      <td>67.0</td>\n",
       "    </tr>\n",
       "    <tr>\n",
       "      <th>[2, 3)</th>\n",
       "      <td>885.0</td>\n",
       "      <td>6432.0</td>\n",
       "      <td>2384.0</td>\n",
       "      <td>16.0</td>\n",
       "    </tr>\n",
       "    <tr>\n",
       "      <th>[3, 4)</th>\n",
       "      <td>420.0</td>\n",
       "      <td>2454.0</td>\n",
       "      <td>1355.0</td>\n",
       "      <td>9.0</td>\n",
       "    </tr>\n",
       "    <tr>\n",
       "      <th>[4, 5)</th>\n",
       "      <td>137.0</td>\n",
       "      <td>762.0</td>\n",
       "      <td>583.0</td>\n",
       "      <td>4.0</td>\n",
       "    </tr>\n",
       "    <tr>\n",
       "      <th>[5, 6)</th>\n",
       "      <td>42.0</td>\n",
       "      <td>221.0</td>\n",
       "      <td>281.0</td>\n",
       "      <td>3.0</td>\n",
       "    </tr>\n",
       "    <tr>\n",
       "      <th>[6, 7)</th>\n",
       "      <td>18.0</td>\n",
       "      <td>101.0</td>\n",
       "      <td>104.0</td>\n",
       "      <td>2.0</td>\n",
       "    </tr>\n",
       "    <tr>\n",
       "      <th>[7, 8)</th>\n",
       "      <td>5.0</td>\n",
       "      <td>71.0</td>\n",
       "      <td>58.0</td>\n",
       "      <td>3.0</td>\n",
       "    </tr>\n",
       "    <tr>\n",
       "      <th>[8, 9)</th>\n",
       "      <td>1.0</td>\n",
       "      <td>52.0</td>\n",
       "      <td>29.0</td>\n",
       "      <td>0.0</td>\n",
       "    </tr>\n",
       "    <tr>\n",
       "      <th>[9, 10)</th>\n",
       "      <td>NaN</td>\n",
       "      <td>20.0</td>\n",
       "      <td>15.0</td>\n",
       "      <td>NaN</td>\n",
       "    </tr>\n",
       "    <tr>\n",
       "      <th>[10, 15)</th>\n",
       "      <td>NaN</td>\n",
       "      <td>46.0</td>\n",
       "      <td>43.0</td>\n",
       "      <td>0.0</td>\n",
       "    </tr>\n",
       "    <tr>\n",
       "      <th>[15, 20)</th>\n",
       "      <td>NaN</td>\n",
       "      <td>5.0</td>\n",
       "      <td>4.0</td>\n",
       "      <td>NaN</td>\n",
       "    </tr>\n",
       "    <tr>\n",
       "      <th>[20, 25)</th>\n",
       "      <td>NaN</td>\n",
       "      <td>4.0</td>\n",
       "      <td>6.0</td>\n",
       "      <td>NaN</td>\n",
       "    </tr>\n",
       "    <tr>\n",
       "      <th>[30, 40)</th>\n",
       "      <td>NaN</td>\n",
       "      <td>1.0</td>\n",
       "      <td>3.0</td>\n",
       "      <td>NaN</td>\n",
       "    </tr>\n",
       "  </tbody>\n",
       "</table>\n",
       "</div>"
      ],
      "text/plain": [
       "property_type       PH  apartment   house  store\n",
       "rooms_completo                                  \n",
       "[1, 2)          1709.0    18224.0  7872.0   67.0\n",
       "[2, 3)           885.0     6432.0  2384.0   16.0\n",
       "[3, 4)           420.0     2454.0  1355.0    9.0\n",
       "[4, 5)           137.0      762.0   583.0    4.0\n",
       "[5, 6)            42.0      221.0   281.0    3.0\n",
       "[6, 7)            18.0      101.0   104.0    2.0\n",
       "[7, 8)             5.0       71.0    58.0    3.0\n",
       "[8, 9)             1.0       52.0    29.0    0.0\n",
       "[9, 10)            NaN       20.0    15.0    NaN\n",
       "[10, 15)           NaN       46.0    43.0    0.0\n",
       "[15, 20)           NaN        5.0     4.0    NaN\n",
       "[20, 25)           NaN        4.0     6.0    NaN\n",
       "[30, 40)           NaN        1.0     3.0    NaN"
      ]
     },
     "execution_count": 603,
     "metadata": {},
     "output_type": "execute_result"
    }
   ],
   "source": [
    "data.pivot_table('rooms', index=[room], columns='property_type', aggfunc='count' )"
   ]
  }
 ],
 "metadata": {
  "kernelspec": {
   "display_name": "Python 3",
   "language": "python",
   "name": "python3"
  },
  "language_info": {
   "codemirror_mode": {
    "name": "ipython",
    "version": 3
   },
   "file_extension": ".py",
   "mimetype": "text/x-python",
   "name": "python",
   "nbconvert_exporter": "python",
   "pygments_lexer": "ipython3",
   "version": "3.7.7"
  }
 },
 "nbformat": 4,
 "nbformat_minor": 4
}
